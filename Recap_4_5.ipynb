{
  "nbformat": 4,
  "nbformat_minor": 0,
  "metadata": {
    "colab": {
      "name": "Recap_4-5.ipynb",
      "provenance": [],
      "authorship_tag": "ABX9TyNRNDj5ghZcgzw9nlbud/tE",
      "include_colab_link": true
    },
    "kernelspec": {
      "name": "python3",
      "display_name": "Python 3"
    },
    "language_info": {
      "name": "python"
    }
  },
  "cells": [
    {
      "cell_type": "markdown",
      "metadata": {
        "id": "view-in-github",
        "colab_type": "text"
      },
      "source": [
        "<a href=\"https://colab.research.google.com/github/sucheerarighthere/BasicProg_DataViz65/blob/main/Recap_4_5.ipynb\" target=\"_parent\"><img src=\"https://colab.research.google.com/assets/colab-badge.svg\" alt=\"Open In Colab\"/></a>"
      ]
    },
    {
      "cell_type": "markdown",
      "source": [
        "Matrix Slicing"
      ],
      "metadata": {
        "id": "vIYvnBGSDyBH"
      }
    },
    {
      "cell_type": "code",
      "execution_count": null,
      "metadata": {
        "id": "ODQA3CE8DxVY"
      },
      "outputs": [],
      "source": [
        "import numpy "
      ]
    },
    {
      "cell_type": "code",
      "source": [
        "mat_a = numpy.array([[2,4,5],[1,2,3],[9,8,7],[3,6,9]])\n",
        "mat_a"
      ],
      "metadata": {
        "colab": {
          "base_uri": "https://localhost:8080/"
        },
        "id": "FxDqGx61D_rF",
        "outputId": "a0807b26-f7be-4116-abda-13fd05d4f48c"
      },
      "execution_count": null,
      "outputs": [
        {
          "output_type": "execute_result",
          "data": {
            "text/plain": [
              "array([[2, 4, 5],\n",
              "       [1, 2, 3],\n",
              "       [9, 8, 7],\n",
              "       [3, 6, 9]])"
            ]
          },
          "metadata": {},
          "execution_count": 2
        }
      ]
    },
    {
      "cell_type": "code",
      "source": [
        "list_a = [[2,4,5],[1,2,3],[9,8,7],[3,6,9]]\n",
        "mat_a = numpy.array(list_a)\n",
        "mat_a"
      ],
      "metadata": {
        "colab": {
          "base_uri": "https://localhost:8080/"
        },
        "id": "L5ZAIOZOEcXd",
        "outputId": "2a6b708b-133b-4ae3-c7fb-158064c93cbf"
      },
      "execution_count": null,
      "outputs": [
        {
          "output_type": "execute_result",
          "data": {
            "text/plain": [
              "array([[2, 4, 5],\n",
              "       [1, 2, 3],\n",
              "       [9, 8, 7],\n",
              "       [3, 6, 9]])"
            ]
          },
          "metadata": {},
          "execution_count": 6
        }
      ]
    },
    {
      "cell_type": "code",
      "source": [
        "import numpy as np\n"
      ],
      "metadata": {
        "id": "PwwmJNt6EmRe"
      },
      "execution_count": null,
      "outputs": []
    },
    {
      "cell_type": "code",
      "source": [
        "list_b = [[-1,-1,2,4,5],[-2,-2,1,2,3],[-3,-3,9,8,7],[-4,-4,3,6,9]]\n",
        "mat_b = np.array(list_b)\n",
        "mat_b"
      ],
      "metadata": {
        "colab": {
          "base_uri": "https://localhost:8080/"
        },
        "id": "8zHZ6vF9E5sB",
        "outputId": "0ba179cb-1776-44e2-92bc-8871ecfb6df8"
      },
      "execution_count": null,
      "outputs": [
        {
          "output_type": "execute_result",
          "data": {
            "text/plain": [
              "array([[-1, -1,  2,  4,  5],\n",
              "       [-2, -2,  1,  2,  3],\n",
              "       [-3, -3,  9,  8,  7],\n",
              "       [-4, -4,  3,  6,  9]])"
            ]
          },
          "metadata": {},
          "execution_count": 8
        }
      ]
    },
    {
      "cell_type": "markdown",
      "source": [
        "## Quiz2\n",
        "\n",
        "1. slice ค่าลบออกมาจาก ```mat_b```\n",
        "2. slice ```[1,2,3]``` จาก ```mat_a```\n",
        "3. slice ```[[1,3],[9,7],[3,9]]``` ออกมาจาก ```mat_b```"
      ],
      "metadata": {
        "id": "qHYLeJg6FVz5"
      }
    },
    {
      "cell_type": "code",
      "source": [
        "mat_b[-5:,:2] \n"
      ],
      "metadata": {
        "colab": {
          "base_uri": "https://localhost:8080/"
        },
        "id": "MRiAr9nXGKeH",
        "outputId": "5574d3c0-2872-4046-8409-4159de1b6a1b"
      },
      "execution_count": null,
      "outputs": [
        {
          "output_type": "execute_result",
          "data": {
            "text/plain": [
              "array([[-1, -1],\n",
              "       [-2, -2],\n",
              "       [-3, -3],\n",
              "       [-4, -4]])"
            ]
          },
          "metadata": {},
          "execution_count": 15
        }
      ]
    },
    {
      "cell_type": "code",
      "source": [
        "mat_a[1:2]"
      ],
      "metadata": {
        "colab": {
          "base_uri": "https://localhost:8080/"
        },
        "id": "A673OR1CIz88",
        "outputId": "e1354d9f-8c7c-4af3-973b-c171bb6dee38"
      },
      "execution_count": null,
      "outputs": [
        {
          "output_type": "execute_result",
          "data": {
            "text/plain": [
              "array([[1, 2, 3]])"
            ]
          },
          "metadata": {},
          "execution_count": 16
        }
      ]
    },
    {
      "cell_type": "code",
      "source": [
        "mat_b[1:,2::2]"
      ],
      "metadata": {
        "colab": {
          "base_uri": "https://localhost:8080/"
        },
        "id": "BBeUJjxRIzTh",
        "outputId": "acc61a94-dea8-44e3-9fa2-0ca0781e5b64"
      },
      "execution_count": null,
      "outputs": [
        {
          "output_type": "execute_result",
          "data": {
            "text/plain": [
              "array([[1, 3],\n",
              "       [9, 7],\n",
              "       [3, 9]])"
            ]
          },
          "metadata": {},
          "execution_count": 18
        }
      ]
    },
    {
      "cell_type": "markdown",
      "source": [
        "##Function ```Print```"
      ],
      "metadata": {
        "id": "fxhm4CZnjIGo"
      }
    },
    {
      "cell_type": "code",
      "source": [
        "print()"
      ],
      "metadata": {
        "id": "noiLa_i9jSYt",
        "outputId": "a042a069-f64d-481e-84b5-3f8204f2cde3",
        "colab": {
          "base_uri": "https://localhost:8080/"
        }
      },
      "execution_count": null,
      "outputs": [
        {
          "output_type": "stream",
          "name": "stdout",
          "text": [
            "\n"
          ]
        }
      ]
    },
    {
      "cell_type": "code",
      "source": [
        "print('สวัสดี')"
      ],
      "metadata": {
        "id": "V5-vZ5FyjTwO",
        "outputId": "894512b6-93e2-4cd2-f8c9-d3afa8b6bdb3",
        "colab": {
          "base_uri": "https://localhost:8080/"
        }
      },
      "execution_count": null,
      "outputs": [
        {
          "output_type": "stream",
          "name": "stdout",
          "text": [
            "สวัสดี\n"
          ]
        }
      ]
    },
    {
      "cell_type": "code",
      "source": [
        "print('hello')\n",
        "print('สวัสดี')"
      ],
      "metadata": {
        "id": "On7pAvObjVa0",
        "outputId": "516e632f-5b0d-4f8e-ccf6-be85035bcaec",
        "colab": {
          "base_uri": "https://localhost:8080/"
        }
      },
      "execution_count": null,
      "outputs": [
        {
          "output_type": "stream",
          "name": "stdout",
          "text": [
            "hello\n",
            "สวัสดี\n"
          ]
        }
      ]
    },
    {
      "cell_type": "code",
      "source": [
        "print('hello',end=' ')\n",
        "print('สวัสดี')"
      ],
      "metadata": {
        "id": "kXrlFMjejWaf",
        "outputId": "9f55e44e-1b16-453a-8d72-7878da049a60",
        "colab": {
          "base_uri": "https://localhost:8080/"
        }
      },
      "execution_count": null,
      "outputs": [
        {
          "output_type": "stream",
          "name": "stdout",
          "text": [
            "hello สวัสดี\n"
          ]
        }
      ]
    },
    {
      "cell_type": "code",
      "source": [
        "print('hello','สวัสดี')"
      ],
      "metadata": {
        "id": "01pOenZ5jaXN",
        "outputId": "498934bf-47a3-4589-fa9c-601676f38b6f",
        "colab": {
          "base_uri": "https://localhost:8080/"
        }
      },
      "execution_count": null,
      "outputs": [
        {
          "output_type": "stream",
          "name": "stdout",
          "text": [
            "hello สวัสดี\n"
          ]
        }
      ]
    },
    {
      "cell_type": "code",
      "source": [
        "print('hello','สวัสดี',sep='\\n')"
      ],
      "metadata": {
        "id": "CMRKkZMrjavF",
        "outputId": "88c2c892-17e1-4f7e-8a39-fe5c12170bb8",
        "colab": {
          "base_uri": "https://localhost:8080/"
        }
      },
      "execution_count": null,
      "outputs": [
        {
          "output_type": "stream",
          "name": "stdout",
          "text": [
            "hello\n",
            "สวัสดี\n"
          ]
        }
      ]
    },
    {
      "cell_type": "code",
      "source": [
        "print('hello',end='')\n",
        "print('สวัสดี')"
      ],
      "metadata": {
        "id": "KWpD3zSMjb2W",
        "outputId": "6ef1aec7-0474-4a8c-b86c-b51ceda58920",
        "colab": {
          "base_uri": "https://localhost:8080/"
        }
      },
      "execution_count": null,
      "outputs": [
        {
          "output_type": "stream",
          "name": "stdout",
          "text": [
            "helloสวัสดี\n"
          ]
        }
      ]
    },
    {
      "cell_type": "markdown",
      "source": [
        "HW1 \n",
        "\n",
        "เขียน function \n",
        "แสดงความต่างของเวลา (Quiz1)\n",
        "โดย input อยู่ในรูปแบบ ```'09:11:50 - 12:30:15'```\n",
        "\n",
        "และทดลองรัน\n",
        "\n",
        "* '09:11:50 - 12:30:15'\n",
        "* '13:41:07 - 20:00:18'\n",
        "* '00:00:00 - 23:59:59'"
      ],
      "metadata": {
        "id": "eOpU3-xyjgxf"
      }
    },
    {
      "cell_type": "code",
      "source": [
        "def print_Time(time) : #def ซึ่งก็ย่อมาจาก definition ซึ่งแปลว่าการนิยาม\n",
        "      x= time\n",
        "      y=x.split(' - ')\n",
        "      z0=y[0].split(':') #แยกตัวที่0คือตัวที่1ก่อน: (split คือการแยก string)\n",
        "      z1=y[1].split(':') #แยกตัวที่1คือตัวที่2ก่อน:\n",
        "      print(y) #เหมือนการแทนที่ด้วยสมการเรื่อยๆ\n",
        "      print(z0)\n",
        "      print(z1)\n",
        "      timesecond=((int(z1[0])*3600)+(int(z1[1])*60)+(int(z1[2])))-((int(z0[0])*3600)+(int(z0[1])*60)+(int(z0[2])))\n",
        "      print(f'ความต่างของเวลา = {timesecond:,} วินาที') #ถ้าใส่ลลูกน้ำ,แล้วจะเป็นการใส่หลักทศนิยม"
      ],
      "metadata": {
        "id": "Rsv6QAxmjm4t"
      },
      "execution_count": null,
      "outputs": []
    },
    {
      "cell_type": "code",
      "source": [
        "print_Time('09:11:50 - 12:30:15')"
      ],
      "metadata": {
        "id": "yV96eo0ekEa-",
        "outputId": "3654bc9e-0f15-4b53-d8a0-e3694d307f0a",
        "colab": {
          "base_uri": "https://localhost:8080/"
        }
      },
      "execution_count": null,
      "outputs": [
        {
          "output_type": "stream",
          "name": "stdout",
          "text": [
            "['09:11:50', '12:30:15']\n",
            "['09', '11', '50']\n",
            "['12', '30', '15']\n",
            "ความต่างของเวลา = 11,905 วินาที\n"
          ]
        }
      ]
    },
    {
      "cell_type": "code",
      "source": [
        "print_Time('13:41:07 - 20:00:18')"
      ],
      "metadata": {
        "id": "tjbfY8l-kEyt",
        "outputId": "c495b703-4eff-429a-af15-dbfc345de8e5",
        "colab": {
          "base_uri": "https://localhost:8080/"
        }
      },
      "execution_count": null,
      "outputs": [
        {
          "output_type": "stream",
          "name": "stdout",
          "text": [
            "['13:41:07', '20:00:18']\n",
            "['13', '41', '07']\n",
            "['20', '00', '18']\n",
            "ความต่างของเวลา = 22,751 วินาที\n"
          ]
        }
      ]
    },
    {
      "cell_type": "code",
      "source": [
        "print_Time('00:00:00 - 23:59:59')"
      ],
      "metadata": {
        "id": "YC_klGdvkGGd",
        "outputId": "7216d6cd-c3d3-4b5a-9880-37a7f0268a41",
        "colab": {
          "base_uri": "https://localhost:8080/"
        }
      },
      "execution_count": null,
      "outputs": [
        {
          "output_type": "stream",
          "name": "stdout",
          "text": [
            "['00:00:00', '23:59:59']\n",
            "['00', '00', '00']\n",
            "['23', '59', '59']\n",
            "ความต่างของเวลา = 86,399 วินาที\n"
          ]
        }
      ]
    },
    {
      "cell_type": "markdown",
      "source": [
        "#เฉลยตามอาจารย์HW1 \n",
        "\n",
        "เขียน function \n",
        "แสดงความต่างของเวลา (Quiz1)\n",
        "โดย input อยู่ในรูปแบบ ```'09:11:50 - 12:30:15'```\n",
        "\n",
        "และทดลองรัน\n",
        "\n",
        "* '09:11:50 - 12:30:15'\n",
        "* '13:41:07 - 20:00:18'\n",
        "* '00:00:00 - 23:59:59'"
      ],
      "metadata": {
        "id": "Ym90MLX5T9mZ"
      }
    },
    {
      "cell_type": "code",
      "source": [
        "input = '09:11:50 - 12:30:15'\n",
        "input"
      ],
      "metadata": {
        "id": "YcngF8N-kH4t",
        "outputId": "dd983d85-8570-441c-a54c-201edaafb15d",
        "colab": {
          "base_uri": "https://localhost:8080/",
          "height": 35
        }
      },
      "execution_count": null,
      "outputs": [
        {
          "output_type": "execute_result",
          "data": {
            "text/plain": [
              "'09:11:50 - 12:30:15'"
            ],
            "application/vnd.google.colaboratory.intrinsic+json": {
              "type": "string"
            }
          },
          "metadata": {},
          "execution_count": 11
        }
      ]
    },
    {
      "cell_type": "code",
      "source": [
        "input_split = input.split(' - ')\n",
        "input_split"
      ],
      "metadata": {
        "id": "HNndW0rLgGMi"
      },
      "execution_count": null,
      "outputs": []
    },
    {
      "cell_type": "code",
      "source": [
        "starttimeSP = input_split[0].split(':')\n",
        "endtimeSP = input_split[-1].split(':')\n",
        "print(starttimeSP,endtimeSP,sep='\\n')"
      ],
      "metadata": {
        "id": "pE58nNxXgIfZ",
        "outputId": "837d368e-29dd-417a-97ce-bf7c4ab852f8",
        "colab": {
          "base_uri": "https://localhost:8080/"
        }
      },
      "execution_count": null,
      "outputs": [
        {
          "output_type": "stream",
          "name": "stdout",
          "text": [
            "['09', '11', '50']\n",
            "['12', '30', '15']\n"
          ]
        }
      ]
    },
    {
      "cell_type": "code",
      "source": [
        "def calculate_time(input):\n",
        "    input_split = input.split(' - ')\n",
        "    starttimeSP = input_split[0].split(':')\n",
        "    endtimeSP = input_split[-1].split(':')\n",
        "\n",
        "    starttime = 3600*int(starttimeSP[0]) + 60*int(starttimeSP[1]) + int(starttimeSP[2])\n",
        "    endtime = 3600*int(endtimeSP[0]) + 60*int(endtimeSP[1]) + int(endtimeSP[2])\n",
        "\n",
        "    print(f'ระยะเวลาระหว่าง {input_split[0]} และ {input_split[1]} ห่างกันเท่ากับ {endtime-starttime:,} วินาที')"
      ],
      "metadata": {
        "id": "5-4njC8QgJwx"
      },
      "execution_count": null,
      "outputs": []
    },
    {
      "cell_type": "code",
      "source": [
        "calculate_time('09:11:50 - 12:30:15')"
      ],
      "metadata": {
        "id": "h40TEf9CgNLZ",
        "outputId": "3054d70d-47af-4056-9721-a55a04c530d4",
        "colab": {
          "base_uri": "https://localhost:8080/"
        }
      },
      "execution_count": null,
      "outputs": [
        {
          "output_type": "stream",
          "name": "stdout",
          "text": [
            "ระยะเวลาระหว่าง 09:11:50 และ 12:30:15 ห่างกันเท่ากับ 11,905 วินาที\n"
          ]
        }
      ]
    },
    {
      "cell_type": "code",
      "source": [
        "calculate_time('13:41:07 - 20:00:18')"
      ],
      "metadata": {
        "id": "A_QthxJpgO3B",
        "outputId": "f202091f-af3a-4e04-df75-68697f6d3a47",
        "colab": {
          "base_uri": "https://localhost:8080/"
        }
      },
      "execution_count": null,
      "outputs": [
        {
          "output_type": "stream",
          "name": "stdout",
          "text": [
            "ระยะเวลาระหว่าง 13:41:07 และ 20:00:18 ห่างกันเท่ากับ 22,751 วินาที\n"
          ]
        }
      ]
    },
    {
      "cell_type": "code",
      "source": [
        ""
      ],
      "metadata": {
        "id": "KksRnSIXgQVR"
      },
      "execution_count": null,
      "outputs": []
    },
    {
      "cell_type": "markdown",
      "source": [
        "# Quiz3\n",
        "\n",
        "เขียน function แสดงความต่างของเวลาโดย input อยู่ในรูปแบบ 'XX:YY:ZZ - AA:BB:CC'\n",
        "\n",
        "และวนลูปแสดงผลของ input ต่อไปนี้\n",
        "\n",
        "* '09:11:50 - 12:30:15'\n",
        "* '13:41:07 - 20:00:18'\n",
        "* '00:00:00 - 23:59:59'\n",
        "* '18:04:11 - 00:00:00'\n",
        "* '21:30:00 - 03:05:15'\n",
        "\n",
        "ตัวอย่าง input ```'00:00:00-01:00:00'```\n",
        "\n",
        "output ```ช่วงระยะเวลาระหว่าง 00:00:00 ถึง 01:00:00 มีเวลาทั้งหมด 3,600 วินาที```"
      ],
      "metadata": {
        "id": "irc0XAS7epKv"
      }
    },
    {
      "cell_type": "code",
      "source": [
        ""
      ],
      "metadata": {
        "id": "2Mi8Tm1DgjRF"
      },
      "execution_count": null,
      "outputs": []
    },
    {
      "cell_type": "code",
      "source": [
        ""
      ],
      "metadata": {
        "id": "Bza1l4u3lG_Q",
        "outputId": "881cde21-6c71-41c0-f86b-7af34947e466",
        "colab": {
          "base_uri": "https://localhost:8080/",
          "height": 149
        }
      },
      "execution_count": null,
      "outputs": [
        {
          "output_type": "error",
          "ename": "SyntaxError",
          "evalue": "ignored",
          "traceback": [
            "\u001b[0;36m  File \u001b[0;32m\"<ipython-input-38-16989351e3be>\"\u001b[0;36m, line \u001b[0;32m1\u001b[0m\n\u001b[0;31m    for input in ['09:11:50 - 12:30:15','13:41:07 - 20:00:18','00:00:00 - 23:59:59','18:04:11 - 00:00:00','21:30:00 - 03:05:15']\u001b[0m\n\u001b[0m                                                                                                                                ^\u001b[0m\n\u001b[0;31mSyntaxError\u001b[0m\u001b[0;31m:\u001b[0m invalid syntax\n"
          ]
        }
      ]
    }
  ]
}