{
  "nbformat": 4,
  "nbformat_minor": 0,
  "metadata": {
    "colab": {
      "name": "Introduction .ipynb",
      "provenance": [],
      "authorship_tag": "ABX9TyPSHeQZePg2zXNIEltfzorM",
      "include_colab_link": true
    },
    "kernelspec": {
      "name": "python3",
      "display_name": "Python 3"
    },
    "language_info": {
      "name": "python"
    }
  },
  "cells": [
    {
      "cell_type": "markdown",
      "metadata": {
        "id": "view-in-github",
        "colab_type": "text"
      },
      "source": [
        "<a href=\"https://colab.research.google.com/github/sucheerarighthere/BasicProg_DataViz65/blob/main/Introduction_.ipynb\" target=\"_parent\"><img src=\"https://colab.research.google.com/assets/colab-badge.svg\" alt=\"Open In Colab\"/></a>"
      ]
    },
    {
      "cell_type": "code",
      "execution_count": null,
      "metadata": {
        "id": "VD1C7xjvFDQS"
      },
      "outputs": [],
      "source": [
        ""
      ]
    },
    {
      "cell_type": "markdown",
      "source": [
        "ใส่ส่วนที่เป็นข้อความ นางสาวสุจีรา  นาคคำ (633020449-1)\n"
      ],
      "metadata": {
        "id": "yFj428UDFcNC"
      }
    },
    {
      "cell_type": "markdown",
      "source": [
        "#การขยายข้อความ hashtag\n",
        "hashtag 1ตัว แปลว่าเป็นข้อความที่ใหญ่ที่สุด\n",
        " ถ้าhashtag2ตัว จะเล็กลง\n",
        "  ##ตะเร้ก\n",
        "  ######อิอิ"
      ],
      "metadata": {
        "id": "I7JVZtreGPHC"
      }
    },
    {
      "cell_type": "markdown",
      "source": [
        "Markdown textที่มีcodingอยู่ด้วย\n"
      ],
      "metadata": {
        "id": "4dNyUsX1GHjx"
      }
    },
    {
      "cell_type": "markdown",
      "source": [
        "สามารถเสิร์ช markdown cheat sheet \n",
        "\n",
        "https://www.markdownguide.org/cheat-sheet/"
      ],
      "metadata": {
        "id": "gRsd2wBwGr4d"
      }
    },
    {
      "cell_type": "markdown",
      "source": [
        "เพิ่มเซลล์ เซลล์เท็กซ์ กับเซลล์โค้ด เพิ่มบรรทัดล่างเคอเซอร์ "
      ],
      "metadata": {
        "id": "Onq-vU6WF2wR"
      }
    },
    {
      "cell_type": "code",
      "source": [
        "print ( \" sucheera\")"
      ],
      "metadata": {
        "colab": {
          "base_uri": "https://localhost:8080/"
        },
        "id": "wKQMeA65HGgb",
        "outputId": "788622d9-edc7-4e48-8af3-e52b965efde8"
      },
      "execution_count": null,
      "outputs": [
        {
          "output_type": "stream",
          "name": "stdout",
          "text": [
            " sucheera\n"
          ]
        }
      ]
    }
  ]
}