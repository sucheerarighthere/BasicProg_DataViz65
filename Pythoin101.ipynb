{
  "nbformat": 4,
  "nbformat_minor": 0,
  "metadata": {
    "colab": {
      "name": "Pythoin101.ipynb",
      "provenance": [],
      "toc_visible": true,
      "authorship_tag": "ABX9TyMagFQjdLO60rhsFWEtclZm",
      "include_colab_link": true
    },
    "kernelspec": {
      "name": "python3",
      "display_name": "Python 3"
    },
    "language_info": {
      "name": "python"
    }
  },
  "cells": [
    {
      "cell_type": "markdown",
      "metadata": {
        "id": "view-in-github",
        "colab_type": "text"
      },
      "source": [
        "<a href=\"https://colab.research.google.com/github/sucheerarighthere/BasicProg_DataViz65/blob/main/Pythoin101.ipynb\" target=\"_parent\"><img src=\"https://colab.research.google.com/assets/colab-badge.svg\" alt=\"Open In Colab\"/></a>"
      ]
    },
    {
      "cell_type": "markdown",
      "source": [
        "ข้อความในช่อง text เป็น ภาษา markdown (https://www.markdownguide.org/cheat-sheet/)"
      ],
      "metadata": {
        "id": "i2_3OCGQLVFF"
      }
    },
    {
      "cell_type": "markdown",
      "source": [
        "#การจัดการข้อความในการแสดงผล (Print)"
      ],
      "metadata": {
        "id": "wkNKDIFPLzhs"
      }
    },
    {
      "cell_type": "code",
      "source": [
        "print ('test')"
      ],
      "metadata": {
        "colab": {
          "base_uri": "https://localhost:8080/"
        },
        "id": "p53_ta4MQRwk",
        "outputId": "ebe9da4c-ee87-4d27-e865-7ad50e6252fc"
      },
      "execution_count": 4,
      "outputs": [
        {
          "output_type": "stream",
          "name": "stdout",
          "text": [
            "test\n"
          ]
        }
      ]
    },
    {
      "cell_type": "code",
      "source": [
        "\"สถิติ\" #double quote"
      ],
      "metadata": {
        "colab": {
          "base_uri": "https://localhost:8080/",
          "height": 36
        },
        "id": "NluXP7yKQWzD",
        "outputId": "e73a7338-4429-4c58-88e5-9cc80bad5907"
      },
      "execution_count": 5,
      "outputs": [
        {
          "output_type": "execute_result",
          "data": {
            "text/plain": [
              "'สถิติ'"
            ],
            "application/vnd.google.colaboratory.intrinsic+json": {
              "type": "string"
            }
          },
          "metadata": {},
          "execution_count": 5
        }
      ]
    },
    {
      "cell_type": "code",
      "source": [
        "'สถิติ'#quote"
      ],
      "metadata": {
        "colab": {
          "base_uri": "https://localhost:8080/",
          "height": 36
        },
        "id": "LPnzT7PIQaki",
        "outputId": "242227a8-99b3-439b-cfc5-bc1b96f91e46"
      },
      "execution_count": 6,
      "outputs": [
        {
          "output_type": "execute_result",
          "data": {
            "text/plain": [
              "'สถิติ'"
            ],
            "application/vnd.google.colaboratory.intrinsic+json": {
              "type": "string"
            }
          },
          "metadata": {},
          "execution_count": 6
        }
      ]
    },
    {
      "cell_type": "code",
      "source": [
        "1+3 #ไม่มีตัวแปรมารับ ## หลังsharp = comment"
      ],
      "metadata": {
        "colab": {
          "base_uri": "https://localhost:8080/"
        },
        "id": "h7-mg4GnQmC5",
        "outputId": "b1a2f215-7809-43d7-fda2-3018dcbd1c0e"
      },
      "execution_count": 11,
      "outputs": [
        {
          "output_type": "execute_result",
          "data": {
            "text/plain": [
              "4"
            ]
          },
          "metadata": {},
          "execution_count": 11
        }
      ]
    },
    {
      "cell_type": "code",
      "source": [
        "a = 1+3\n",
        "print (a)\n",
        "# ส่วนที่มีตัวแปรมารับ ผลออกมาที่ a"
      ],
      "metadata": {
        "colab": {
          "base_uri": "https://localhost:8080/"
        },
        "id": "nWhwXdouQqSP",
        "outputId": "b5b373e9-448e-45e7-f561-26198d032dcb"
      },
      "execution_count": 12,
      "outputs": [
        {
          "output_type": "stream",
          "name": "stdout",
          "text": [
            "4\n"
          ]
        }
      ]
    },
    {
      "cell_type": "code",
      "source": [
        "b= -1+8\n",
        "print (b)"
      ],
      "metadata": {
        "colab": {
          "base_uri": "https://localhost:8080/"
        },
        "id": "DcfJ2InpQu8m",
        "outputId": "42611c76-d0b9-4a28-f797-2b273e1dd0e3"
      },
      "execution_count": 10,
      "outputs": [
        {
          "output_type": "stream",
          "name": "stdout",
          "text": [
            "7\n"
          ]
        }
      ]
    },
    {
      "cell_type": "code",
      "source": [
        ""
      ],
      "metadata": {
        "id": "xS8xwPlnRI06"
      },
      "execution_count": null,
      "outputs": []
    },
    {
      "cell_type": "markdown",
      "source": [
        "แสดงการรันออกมาได้ 2 รูปแบบ \n",
        "1 ถ้าไม่มีตัวแปรมารับ ก็จะแสดงผลออกที่หน้าจอ\n",
        "2 ถ้ามีตัวแปรมารับ ผลรันก้จะอยู่ในตัวแปร "
      ],
      "metadata": {
        "id": "1qM9SzQDQ5Oi"
      }
    },
    {
      "cell_type": "markdown",
      "source": [
        "# ข้อความ (string)\n",
        "ถ้าใส่ heading หรือใส่ quote = string"
      ],
      "metadata": {
        "id": "JBDW-myQLoqR"
      }
    },
    {
      "cell_type": "markdown",
      "source": [
        "string + sring คือการต่อ string"
      ],
      "metadata": {
        "id": "hn0OXySnSUFJ"
      }
    },
    {
      "cell_type": "code",
      "source": [
        "'g'+'a'+'b'+'b'+'y'"
      ],
      "metadata": {
        "colab": {
          "base_uri": "https://localhost:8080/",
          "height": 36
        },
        "id": "xGY4grDbSaMw",
        "outputId": "10bfb7ce-478d-4521-d741-db30627443b3"
      },
      "execution_count": 14,
      "outputs": [
        {
          "output_type": "execute_result",
          "data": {
            "text/plain": [
              "'gabby'"
            ],
            "application/vnd.google.colaboratory.intrinsic+json": {
              "type": "string"
            }
          },
          "metadata": {},
          "execution_count": 14
        }
      ]
    },
    {
      "cell_type": "markdown",
      "source": [
        "# ตัวแปร (Variable)"
      ],
      "metadata": {
        "id": "vuRqmJyKSuHg"
      }
    },
    {
      "cell_type": "code",
      "source": [
        "vartest = 2.7"
      ],
      "metadata": {
        "id": "8DcvqfyiS70m"
      },
      "execution_count": 16,
      "outputs": []
    },
    {
      "cell_type": "code",
      "source": [
        "vartest"
      ],
      "metadata": {
        "colab": {
          "base_uri": "https://localhost:8080/"
        },
        "id": "4juYd1ahS933",
        "outputId": "f5b88480-5ea8-43a9-962b-5c24bccbe346"
      },
      "execution_count": 17,
      "outputs": [
        {
          "output_type": "execute_result",
          "data": {
            "text/plain": [
              "2.7"
            ]
          },
          "metadata": {},
          "execution_count": 17
        }
      ]
    },
    {
      "cell_type": "code",
      "source": [
        "1vartest #ผสมได้แต่ห้ามเอาเลขขึ้นต้น"
      ],
      "metadata": {
        "colab": {
          "base_uri": "https://localhost:8080/",
          "height": 130
        },
        "id": "pBMgdOAgW0pw",
        "outputId": "0a4b9cf3-3b1f-4287-d8ec-846aa1e8cbb8"
      },
      "execution_count": 33,
      "outputs": [
        {
          "output_type": "error",
          "ename": "SyntaxError",
          "evalue": "ignored",
          "traceback": [
            "\u001b[0;36m  File \u001b[0;32m\"<ipython-input-33-98d4ebeaecd9>\"\u001b[0;36m, line \u001b[0;32m1\u001b[0m\n\u001b[0;31m    1vartest #ผสมได้แต่ห้ามเอาเลขขึ้นต้น\u001b[0m\n\u001b[0m           ^\u001b[0m\n\u001b[0;31mSyntaxError\u001b[0m\u001b[0;31m:\u001b[0m invalid syntax\n"
          ]
        }
      ]
    },
    {
      "cell_type": "code",
      "source": [
        "vartest1 = 17"
      ],
      "metadata": {
        "id": "3TG-1HFZTC5k"
      },
      "execution_count": 18,
      "outputs": []
    },
    {
      "cell_type": "code",
      "source": [
        "vartest1"
      ],
      "metadata": {
        "colab": {
          "base_uri": "https://localhost:8080/"
        },
        "id": "MEhM9ZRJTJa4",
        "outputId": "268c959b-f2dc-40cc-949d-dcf95458c358"
      },
      "execution_count": 19,
      "outputs": [
        {
          "output_type": "execute_result",
          "data": {
            "text/plain": [
              "17"
            ]
          },
          "metadata": {},
          "execution_count": 19
        }
      ]
    },
    {
      "cell_type": "code",
      "source": [
        "vartest2 = 'won'+'woo'\n",
        "vartest2"
      ],
      "metadata": {
        "colab": {
          "base_uri": "https://localhost:8080/",
          "height": 36
        },
        "id": "fK9v9JiATLPR",
        "outputId": "4233aa5c-baaa-4473-80ca-63032325fb1b"
      },
      "execution_count": 20,
      "outputs": [
        {
          "output_type": "execute_result",
          "data": {
            "text/plain": [
              "'wonwoo'"
            ],
            "application/vnd.google.colaboratory.intrinsic+json": {
              "type": "string"
            }
          },
          "metadata": {},
          "execution_count": 20
        }
      ]
    },
    {
      "cell_type": "code",
      "source": [
        "vartest3 = 3+1+4+4+5\n",
        "vartest3"
      ],
      "metadata": {
        "colab": {
          "base_uri": "https://localhost:8080/"
        },
        "id": "0lZ8MYl-TRBq",
        "outputId": "2dc629b1-c1aa-4056-9d91-b8eaf68ecf1d"
      },
      "execution_count": 21,
      "outputs": [
        {
          "output_type": "execute_result",
          "data": {
            "text/plain": [
              "17"
            ]
          },
          "metadata": {},
          "execution_count": 21
        }
      ]
    },
    {
      "cell_type": "code",
      "source": [
        "print (vartest3)"
      ],
      "metadata": {
        "colab": {
          "base_uri": "https://localhost:8080/"
        },
        "id": "ElV3OV_BTbwU",
        "outputId": "dacfd748-dfbc-423f-975d-fe1bb8758997"
      },
      "execution_count": 22,
      "outputs": [
        {
          "output_type": "stream",
          "name": "stdout",
          "text": [
            "17\n"
          ]
        }
      ]
    },
    {
      "cell_type": "code",
      "source": [
        "vartestfloat = 1.0+5\n",
        "vartestfloat"
      ],
      "metadata": {
        "colab": {
          "base_uri": "https://localhost:8080/"
        },
        "id": "MkDID4-JTgZv",
        "outputId": "ee72bd6e-cd6a-4bd6-c8f1-a745e31e1549"
      },
      "execution_count": 30,
      "outputs": [
        {
          "output_type": "execute_result",
          "data": {
            "text/plain": [
              "6.0"
            ]
          },
          "metadata": {},
          "execution_count": 30
        }
      ]
    },
    {
      "cell_type": "code",
      "source": [
        "print (vartestfloat) # float+int= float ทศนิยมบวกจำนวเต็มเป็นทศนิยม"
      ],
      "metadata": {
        "colab": {
          "base_uri": "https://localhost:8080/"
        },
        "id": "ZHRR3E67Tpmx",
        "outputId": "c1b27910-a74d-4fe5-a66e-ebdceabea2e3"
      },
      "execution_count": 29,
      "outputs": [
        {
          "output_type": "stream",
          "name": "stdout",
          "text": [
            "6.0\n"
          ]
        }
      ]
    },
    {
      "cell_type": "code",
      "source": [
        ""
      ],
      "metadata": {
        "id": "n3P88I44Tulv"
      },
      "execution_count": null,
      "outputs": []
    },
    {
      "cell_type": "markdown",
      "source": [
        "ข้อกำหนดในการตั้งชื่อตัวแปร\n",
        "1 พยายามตั้งชื่อให้สื่อความหมาย\n",
        "2 ต้องเป็นภาษาอังกฤษ\n",
        "3 ใช้ตัวเลขผสมกับตัวหนังสือได้แต่ห้ามใช้ตัวเลขนำหน้า\n",
        "4 ห้ามมีเว้นวรรคในชื่อตัวแปร\n",
        "5 ตัวใหญ่ตัวเล็ก มีค่าไม่เท่ากัน "
      ],
      "metadata": {
        "id": "N0ULo0jaWXpo"
      }
    },
    {
      "cell_type": "markdown",
      "source": [
        "# Advance Printing\n",
        "เราสมารถใช้ print code ร่วมกับข้อความได้ \n"
      ],
      "metadata": {
        "id": "dFfMrHCnXAyo"
      }
    },
    {
      "cell_type": "markdown",
      "source": [
        "print (f'ข้อความ{code}')\n",
        "f สีน้ำเงิน โค้ด\n",
        "'ตัวหนังสือใน quote สีแดง' string\n",
        "{ตัวหนังสือในปีกกา}สีเขียว โค้ด"
      ],
      "metadata": {
        "id": "IP8TmiMEXxvD"
      }
    },
    {
      "cell_type": "code",
      "source": [
        "print (f'หนึ่ง บวก สอง(1+2) เท่ากับ สาม ({1+2})') # {} curly brackets อะในที่อยู่ในหยึกๆ นับเป็นโค้ดหมด แต่ใน print 9hv',u ด"
      ],
      "metadata": {
        "colab": {
          "base_uri": "https://localhost:8080/"
        },
        "id": "U2MHdyvpXvY3",
        "outputId": "28a3928b-5bea-4c81-9676-28c298383e0a"
      },
      "execution_count": 35,
      "outputs": [
        {
          "output_type": "stream",
          "name": "stdout",
          "text": [
            "หนึ่ง บวก สอง(1+2) เท่ากับ สาม (3)\n"
          ]
        }
      ]
    },
    {
      "cell_type": "code",
      "source": [
        "a = 1\n",
        "b = 2\n",
        "print(f'หนึ่งบวกสอง(1+2) = {a+b}')"
      ],
      "metadata": {
        "colab": {
          "base_uri": "https://localhost:8080/"
        },
        "id": "vzUTKlGSYL1T",
        "outputId": "d3a39263-2a4a-44c6-a133-a82fa664ad5e"
      },
      "execution_count": 39,
      "outputs": [
        {
          "output_type": "stream",
          "name": "stdout",
          "text": [
            "หนึ่งบวกสอง(1+2) = 3\n"
          ]
        }
      ]
    },
    {
      "cell_type": "code",
      "source": [
        "a = 1\n",
        "b = 2\n",
        "print('หนึ่งบวกสอง(1+2) = {a+b}')\n",
        "#ถ้าไม่ปริ้น f ก็จะเป็นการ ปริ้น string"
      ],
      "metadata": {
        "colab": {
          "base_uri": "https://localhost:8080/"
        },
        "id": "ptmcteY7YJta",
        "outputId": "b1d487ac-569b-410f-9e71-1de091b023db"
      },
      "execution_count": 40,
      "outputs": [
        {
          "output_type": "stream",
          "name": "stdout",
          "text": [
            "หนึ่งบวกสอง(1+2) = {a+b}\n"
          ]
        }
      ]
    },
    {
      "cell_type": "markdown",
      "source": [
        "# Boolean (ตัวแปรที่มีค่า True/ False) ตรรกศาสตร์"
      ],
      "metadata": {
        "id": "tLwuatB7a5K4"
      }
    },
    {
      "cell_type": "code",
      "source": [
        "b_T = True"
      ],
      "metadata": {
        "id": "ZnsFIYJ_bE9T"
      },
      "execution_count": 41,
      "outputs": []
    },
    {
      "cell_type": "code",
      "source": [
        "b_F = False"
      ],
      "metadata": {
        "id": "B2a5VziTbIiF"
      },
      "execution_count": 42,
      "outputs": []
    },
    {
      "cell_type": "code",
      "source": [
        "print(b_T or b_F)"
      ],
      "metadata": {
        "colab": {
          "base_uri": "https://localhost:8080/"
        },
        "id": "u91UqnYKbKdY",
        "outputId": "9feabde2-0bc3-4725-cd7a-cc3ee8ef3aee"
      },
      "execution_count": 44,
      "outputs": [
        {
          "output_type": "stream",
          "name": "stdout",
          "text": [
            "True\n"
          ]
        }
      ]
    },
    {
      "cell_type": "code",
      "source": [
        "print(b_T)"
      ],
      "metadata": {
        "colab": {
          "base_uri": "https://localhost:8080/"
        },
        "id": "4wiUCVxXbTN-",
        "outputId": "55b4f36a-9e33-49d7-d7be-0740816c43ec"
      },
      "execution_count": 46,
      "outputs": [
        {
          "output_type": "stream",
          "name": "stdout",
          "text": [
            "True\n"
          ]
        }
      ]
    },
    {
      "cell_type": "code",
      "source": [
        "print(b_F)"
      ],
      "metadata": {
        "colab": {
          "base_uri": "https://localhost:8080/"
        },
        "id": "Rv3wEUTLbX2S",
        "outputId": "3795a654-cb33-4fba-9d25-58f581faadb8"
      },
      "execution_count": 47,
      "outputs": [
        {
          "output_type": "stream",
          "name": "stdout",
          "text": [
            "False\n"
          ]
        }
      ]
    },
    {
      "cell_type": "code",
      "source": [
        ""
      ],
      "metadata": {
        "id": "h493C4Hqbcx6"
      },
      "execution_count": null,
      "outputs": []
    },
    {
      "cell_type": "markdown",
      "source": [
        "# complex จำนวนเชิงซ้อน"
      ],
      "metadata": {
        "id": "hxFVLRY_bdqo"
      }
    },
    {
      "cell_type": "code",
      "source": [
        "x=1+2j\n",
        "print(x)"
      ],
      "metadata": {
        "colab": {
          "base_uri": "https://localhost:8080/"
        },
        "id": "czPxA0oiblRQ",
        "outputId": "6142c78a-f2a3-4f27-8186-fdb4be374ce9"
      },
      "execution_count": 49,
      "outputs": [
        {
          "output_type": "stream",
          "name": "stdout",
          "text": [
            "(1+2j)\n"
          ]
        }
      ]
    },
    {
      "cell_type": "code",
      "source": [
        ""
      ],
      "metadata": {
        "id": "GQ3xvMFtby2C"
      },
      "execution_count": null,
      "outputs": []
    },
    {
      "cell_type": "markdown",
      "source": [
        "จบวันที่ 29 มิย "
      ],
      "metadata": {
        "id": "LjfKqpIEcB9r"
      }
    }
  ]
}