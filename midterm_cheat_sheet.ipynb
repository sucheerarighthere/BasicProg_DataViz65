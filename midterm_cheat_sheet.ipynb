{
  "nbformat": 4,
  "nbformat_minor": 0,
  "metadata": {
    "colab": {
      "provenance": [],
      "collapsed_sections": [],
      "authorship_tag": "ABX9TyPw/JPCXcWZvrhyAp2S3tOO",
      "include_colab_link": true
    },
    "kernelspec": {
      "name": "python3",
      "display_name": "Python 3"
    },
    "language_info": {
      "name": "python"
    }
  },
  "cells": [
    {
      "cell_type": "markdown",
      "metadata": {
        "id": "view-in-github",
        "colab_type": "text"
      },
      "source": [
        "<a href=\"https://colab.research.google.com/github/sucheerarighthere/BasicProg_DataViz65/blob/main/midterm_cheat_sheet.ipynb\" target=\"_parent\"><img src=\"https://colab.research.google.com/assets/colab-badge.svg\" alt=\"Open In Colab\"/></a>"
      ]
    },
    {
      "cell_type": "markdown",
      "source": [
        "###แกรมแก๊บแตง เพอร์เฟค!!!!!!\n",
        "สรุป ที่ต้องสอบภายใน midterm\n",
        "1. variable operation\n",
        "2. print\n",
        "3. string operations \n",
        "4. list\n",
        "5. dictionary \n",
        "6. numpy arrey\n",
        "7. function\n",
        "8. looping condition\n",
        "9. pandas: read_csv , head() , tail() .indexing\n",
        "10. slicing - query\n",
        "11. missing value , looping ,functionsที่จำเป็น\n",
        "12. concat merge groupby \n",
        "13. create pandas table "
      ],
      "metadata": {
        "id": "YpQL8_YfUcsB"
      }
    },
    {
      "cell_type": "markdown",
      "source": [
        "## print\n",
        "Advance Printing\n",
        "เราสมารถใช้ print code ร่วมกับข้อความได้"
      ],
      "metadata": {
        "id": "FzrKT5-zNKQ9"
      }
    },
    {
      "cell_type": "code",
      "source": [
        "print (f'หนึ่ง บวก สอง(1+2) เท่ากับ สาม ({1+2})') # {} curly brackets อะในที่อยู่ในหยึกๆ นับเป็นโค้ด"
      ],
      "metadata": {
        "colab": {
          "base_uri": "https://localhost:8080/"
        },
        "id": "JyJBAJkpNP9x",
        "outputId": "abb9cdba-b4ca-4166-e733-19a9aae47c55"
      },
      "execution_count": null,
      "outputs": [
        {
          "output_type": "stream",
          "name": "stdout",
          "text": [
            "หนึ่ง บวก สอง(1+2) เท่ากับ สาม (3)\n"
          ]
        }
      ]
    },
    {
      "cell_type": "code",
      "source": [
        "a = 1\n",
        "b = 2\n",
        "print(f'หนึ่งบวกสอง(1+2) = {a+b}')"
      ],
      "metadata": {
        "colab": {
          "base_uri": "https://localhost:8080/"
        },
        "id": "smjzmVlUNVe_",
        "outputId": "8c52dbaa-2f6a-436a-ade1-475868031ab3"
      },
      "execution_count": null,
      "outputs": [
        {
          "output_type": "stream",
          "name": "stdout",
          "text": [
            "หนึ่งบวกสอง(1+2) = 3\n"
          ]
        }
      ]
    },
    {
      "cell_type": "code",
      "source": [
        "a = 1\n",
        "b = 2\n",
        "print('หนึ่งบวกสอง(1+2) = {a+b}')\n",
        "#ถ้าไม่ปริ้น f ก็จะเป็นการ ปริ้น string"
      ],
      "metadata": {
        "colab": {
          "base_uri": "https://localhost:8080/"
        },
        "id": "oMR9Q54rNXAb",
        "outputId": "af698850-2a82-4bbc-896f-7304fbbc9565"
      },
      "execution_count": null,
      "outputs": [
        {
          "output_type": "stream",
          "name": "stdout",
          "text": [
            "หนึ่งบวกสอง(1+2) = {a+b}\n"
          ]
        }
      ]
    },
    {
      "cell_type": "markdown",
      "source": [
        "##STring Operationg"
      ],
      "metadata": {
        "id": "HzzZw2XGWD5X"
      }
    },
    {
      "cell_type": "code",
      "source": [
        "# Find and search\n",
        "s = 'mountain'\n",
        "\n",
        "print(s.startswith('moun'))\n",
        "print(s.endswith('in'))\n",
        "print(s.find('n')) #หาตัวอักษร n อยู่ที่ไหน  เลข บวกไปอีก\n",
        "print(s.rfind('n')) #rfind() เป็นการค้นหาจากด้านหลังจากตำแห่งแรกที่พบเช่นกัน\n",
        "print(s.replace('moun', 'con')) #แทนที่ moun ด้วย con\n",
        "print(s.count('a'))"
      ],
      "metadata": {
        "colab": {
          "base_uri": "https://localhost:8080/"
        },
        "id": "4YLZCtfiWDUS",
        "outputId": "8ec12a48-6256-4113-a665-5dc64b2c88a0"
      },
      "execution_count": null,
      "outputs": [
        {
          "output_type": "stream",
          "name": "stdout",
          "text": [
            "True\n",
            "True\n",
            "3\n",
            "7\n",
            "contain\n",
            "1\n"
          ]
        }
      ]
    },
    {
      "cell_type": "code",
      "source": [
        "s = 'this is a game that i love to play.'\n",
        "\n",
        "print(s.capitalize()) #ใช้สำหรับทำให้ตัวอักษรตัวแรกของ String เป็นตัวพิมพ์ใหญ่\n",
        "print(s.title()) # นั้นจะทำให้ตัวแรกในทุกๆ คำที่คั่นด้วย white space เป็นตัวพิมพ์ใหญทั้งหมด\n",
        "print(s.upper()) #แปลงให้ตัวอักษรทุกตัวใน String เป็นตัวพิมพ์ใหญ่\n",
        "print('MARCUSCODE.COM'.lower()) #แปลงให้ตัวอักษรทุกตัวใน String เป็นตัวพิมพ์เล็ก"
      ],
      "metadata": {
        "colab": {
          "base_uri": "https://localhost:8080/"
        },
        "id": "9WbdTXx1bfBM",
        "outputId": "0b1e70f7-43ff-4335-bc60-392fbe88daf0"
      },
      "execution_count": null,
      "outputs": [
        {
          "output_type": "stream",
          "name": "stdout",
          "text": [
            "This is a game that i love to play.\n",
            "This Is A Game That I Love To Play.\n",
            "THIS IS A GAME THAT I LOVE TO PLAY.\n",
            "marcuscode.com\n"
          ]
        }
      ]
    },
    {
      "cell_type": "code",
      "source": [
        "s = 'Python'\n",
        "print(s.center(10)) #ใช้สำหรับเติมข้อความเข้าไปทางซ้ายและทางขวาให้ String มีความยาวกับที่ระบุ\n",
        "print(s.ljust(10)) #ชิดซ้าย\n",
        "print(s.rjust(10)) #ชิดขวา \n",
        "print(s.center(10, '#')) #เติมข้อความด้วยแฮชแทก\n",
        "print(s.ljust(10, '#')) #เติมข้อความด้วยแฮชแทก\n",
        "print(s.rjust(10, '#'))\n",
        "\n",
        "number = '83'\n",
        "print(number.zfill(6)) #ป็นการใช้เติมตัวเลข 0 โดยเรามักจะใช้กับ String ที่มีรูปแบบเป็นตัวเลข\n",
        "print('-1.32'.zfill(8))"
      ],
      "metadata": {
        "colab": {
          "base_uri": "https://localhost:8080/"
        },
        "id": "K0akk8iVc5po",
        "outputId": "509896bd-ad31-4edd-ab6f-e9be16bfab31"
      },
      "execution_count": null,
      "outputs": [
        {
          "output_type": "stream",
          "name": "stdout",
          "text": [
            "  Python  \n",
            "Python    \n",
            "    Python\n",
            "##Python##\n",
            "Python####\n",
            "####Python\n",
            "000083\n",
            "-0001.32\n"
          ]
        }
      ]
    },
    {
      "cell_type": "code",
      "source": [
        "s = '    Python '\n",
        "print(s.strip()) #ตัดคำออกจากข้อความ\n",
        "print(s.lstrip())\n",
        "print(s.rstrip())\n",
        "\n",
        "s2 = '----marcuscode----'\n",
        "print(s2.strip('-'))\n",
        "print(s2.lstrip('-'))\n",
        "print(s2.rstrip('-'))"
      ],
      "metadata": {
        "colab": {
          "base_uri": "https://localhost:8080/"
        },
        "id": "2W9cVkfffnrJ",
        "outputId": "bc078147-670b-4bcd-8ac6-c5e3087cac4f"
      },
      "execution_count": null,
      "outputs": [
        {
          "output_type": "stream",
          "name": "stdout",
          "text": [
            "Python\n",
            "Python \n",
            "    Python\n",
            "marcuscode\n",
            "marcuscode----\n",
            "----marcuscode\n"
          ]
        }
      ]
    },
    {
      "cell_type": "code",
      "source": [
        "# tesing true\n",
        "print('marcuscode2017'.isalnum())\n",
        "print('bobby'.isalpha())\n",
        "print('1234'.isdecimal())\n",
        "print('1234'.isdigit())\n",
        "print('1234'.isnumeric())\n",
        "print('mateo'.islower())\n",
        "print('MATEO'.isupper())\n",
        "\n",
        "# tesing false\n",
        "print('marcuscode 2017'.isalnum()) # has space\n",
        "print('bobby1'.isalpha()) # has number\n",
        "print('7F'.isdecimal()) # F is not decimal\n",
        "print('1234A'.isdigit()) # A is not digit\n",
        "print('Python'.isnumeric()) # not number\n",
        "print('Mateo'.islower()) # M is upper case\n",
        "print('Mateo'.isupper()) # Not all are upper case"
      ],
      "metadata": {
        "colab": {
          "base_uri": "https://localhost:8080/"
        },
        "id": "k3-Yu83JfqAI",
        "outputId": "e5e1a241-5ebf-4002-da97-69889622b8f2"
      },
      "execution_count": null,
      "outputs": [
        {
          "output_type": "stream",
          "name": "stdout",
          "text": [
            "True\n",
            "True\n",
            "True\n",
            "True\n",
            "True\n",
            "True\n",
            "True\n",
            "False\n",
            "False\n",
            "False\n",
            "False\n",
            "False\n",
            "False\n",
            "False\n"
          ]
        }
      ]
    },
    {
      "cell_type": "markdown",
      "source": [
        "##List\n",
        "list เอาไว้รวม string และ รวมด้วย join() หรือการตัดคำออกจาก String ด้วยsplit()"
      ],
      "metadata": {
        "id": "D2MhsUsQf_I4"
      }
    },
    {
      "cell_type": "code",
      "source": [
        "countries = ['England', 'Turkey', 'Poland', 'Russia', 'Germany']\n",
        "print(', '.join(countries))\n",
        "# ตัวแปร ประเทศ สำหรับเก็บข้อมูลประเทศต่างๆ \n",
        "#ปริ้น countries แล้ว ขั้นด้วย , \n",
        "lang = 'Java PHP C++ Python C#'\n",
        "print(lang.split(' '))\n",
        "#lang นั้นเป็นข้อความที่คั่นด้วยช่องว่าง\n",
        "# split()แยก String ออกจากตัวแปรและจะได้ผลลัพธ์เป็นลิสต์ สามารถใช้ตัวอื่นแทน '' ได้ \n",
        "\n",
        "\n",
        "text = 'Python is a language\\nused to create a web,\\n'\n",
        "text += 'desktop application\\nand more'\n",
        "text2 = text.splitlines() #สำหรับเมธอด splitlines() เป็นการแบ่ง String ด้วยการขึ้นบรรทัดใหม่\n",
        "for t in text2:\n",
        "    print(t)"
      ],
      "metadata": {
        "colab": {
          "base_uri": "https://localhost:8080/"
        },
        "id": "Sq4hl8Wrf3v2",
        "outputId": "b9f7fecb-d272-46b7-aadc-560900b43b15"
      },
      "execution_count": null,
      "outputs": [
        {
          "output_type": "stream",
          "name": "stdout",
          "text": [
            "England, Turkey, Poland, Russia, Germany\n",
            "['Java', 'PHP', 'C++', 'Python', 'C#']\n",
            "Python is a language\n",
            "used to create a web,\n",
            "desktop application\n",
            "and more\n"
          ]
        }
      ]
    },
    {
      "cell_type": "markdown",
      "source": [
        "การประกาศและใช้งาน List\n",
        "list เป็นตัวแปรประเภทหนึ่ง การประกาศลิสต์ ข้อมูลจะอยู่ ใน [] และคั่นสมาชิกแต่ละตัว ด้วย , "
      ],
      "metadata": {
        "id": "1Y4_9jpsjTeU"
      }
    },
    {
      "cell_type": "code",
      "source": [
        "numbers = [-1, 2, 5, 8, 10, 13] #ลิสต์จำนวนเต็ม 6 ตัว\n",
        "names = ['Mateo', 'Danny', 'James', 'Thomas', 'Luke'] #List ของ String ที่สำหรับเก็บชื่อและมี 5 รายชื่อ\n",
        "mixed_type = [-2, 5, 84.2, \"Mountain\", \"Python\"] #mixtype ในลิสต์เดียว สามารถเก็บได้ทั้งตัวเลขและตัวอักษร"
      ],
      "metadata": {
        "id": "iw1Z7kTJhB8A"
      },
      "execution_count": null,
      "outputs": []
    },
    {
      "cell_type": "code",
      "source": [
        "numbers = [] #ตอนแรกในลิสต์ไม่มีตัวเลข\n",
        "numbers.append(-1) #append() เพื่อเพิ่มข้อมูลใหม่เข้าไปใน List \n",
        "numbers.append(2)\n",
        "numbers.append(5) #ชื่อลิสต์.operation\n",
        "numbers.append(8)\n",
        "numbers.append(10)\n",
        "numbers.append(13)\n",
        "\n",
        "names = ['Mateo', 'Danny']\n",
        "names.append('James')\n",
        "names.append('Thomas')\n",
        "names.append('Luke')\n",
        "\n",
        "print(numbers) \n",
        "print(names)\n",
        "\n",
        "print('numbers count = ', len(numbers))\n",
        "print('names count = ', len(names)) #ใช้เพื่อนับจำนวนสมาชิกภายใน List"
      ],
      "metadata": {
        "colab": {
          "base_uri": "https://localhost:8080/"
        },
        "id": "goAptI7RjrAQ",
        "outputId": "4700670d-f641-4502-99a4-bd5b8e434853"
      },
      "execution_count": null,
      "outputs": [
        {
          "output_type": "stream",
          "name": "stdout",
          "text": [
            "[-1, 2, 5, 8, 10, 13]\n",
            "['Mateo', 'Danny', 'James', 'Thomas', 'Luke']\n",
            "numbers count =  6\n",
            "names count =  5\n"
          ]
        }
      ]
    },
    {
      "cell_type": "markdown",
      "source": [
        "การเข้าถึงข้อมูลภายในlist"
      ],
      "metadata": {
        "id": "HinSlFCGnIaA"
      }
    },
    {
      "cell_type": "code",
      "source": [
        "names = ['Mateo', 'Danny', 'James', 'Thomas', 'Luke'] #ลำดับสมาชิกมีความสำคัญ\n",
        "print('names[0] = ', names[0]) #สมาชิกลำดับที่ 1\n",
        "print('names[3] = ', names[3])\n",
        "print('names[-1] = ', names[-1]) #สมาชิกตัวที่ 1นับมาจากข้างหลัง\n",
        "\n",
        "# update value\n",
        "names[0] = 'Bob'\n",
        "print('names[0] = ', names[0])\n",
        "#Index ของ List นั้นเริ่มต้นจาก 0"
      ],
      "metadata": {
        "colab": {
          "base_uri": "https://localhost:8080/"
        },
        "id": "1O6m3VvTkEPo",
        "outputId": "889167d6-127e-49d3-c155-cea97d6cb9c2"
      },
      "execution_count": null,
      "outputs": [
        {
          "output_type": "stream",
          "name": "stdout",
          "text": [
            "names[0] =  Mateo\n",
            "names[3] =  Thomas\n",
            "names[-1] =  Luke\n",
            "names[0] =  Bob\n"
          ]
        }
      ]
    },
    {
      "cell_type": "markdown",
      "source": [
        "อ่านคำสั่งในลิสต์ ด้วยคำสั่ง for loop "
      ],
      "metadata": {
        "id": "tpeMEMZBn0JQ"
      }
    },
    {
      "cell_type": "code",
      "source": [
        "numbers = [10, 20, 30, 40, 50, 60, 70]\n",
        "sum = 0\n",
        "for n in numbers: #เพื่อประกาศว่า n คือ สมาชิกในลิสต์ ลูปในลิสต์numbers\n",
        "    print(n, end =' ')\n",
        "    sum += n\n",
        "\n",
        "print('sum = ', sum)\n",
        "\n",
        "names = ['Mateo', 'Danny', 'James', 'Thomas', 'Luke']\n",
        "for i in range(0, len(names)): #range คือ Index จาก 0 ถึงขนาดตัวสุดท้ายของ List #lem นัลจำนวนในสมาชิก\n",
        "    print(names[i].upper(), end ='/')#เว้นด้วย /\n",
        "    print(names[i].upper(), end ='=')#เว้นด้วย =\n",
        "    # ใน for เดียวกัน จะถือว่าอยู่ในคำสั่งเดียวกัน "
      ],
      "metadata": {
        "colab": {
          "base_uri": "https://localhost:8080/"
        },
        "id": "7EURnAUdnTUD",
        "outputId": "7ee8ce82-2e53-49db-8f09-92dab37d11ec"
      },
      "execution_count": null,
      "outputs": [
        {
          "output_type": "stream",
          "name": "stdout",
          "text": [
            "10 20 30 40 50 60 70 sum =  280\n",
            "MATEO/MATEO=DANNY/DANNY=JAMES/JAMES=THOMAS/THOMAS=LUKE/LUKE="
          ]
        }
      ]
    },
    {
      "cell_type": "markdown",
      "source": [
        "List slicing\n",
        "เราสามารถตัดข้อมูลจากลิสต์หนึ่ง นำมาสร้งเป็นลิสต์ใหม่ได้"
      ],
      "metadata": {
        "id": "ZZ1hhkxHq4Gf"
      }
    },
    {
      "cell_type": "code",
      "source": [
        "ch = ['a', 'b', 'c', 'd', 'e', 'f', 'g', 'h']\n",
        "\n",
        "a = ch[0:4] # a - d #แปลว่า สร้างลิสต์ a ด้วย สมาชิกตัวที่ 1-5 จากลิสต์ ch\n",
        "b = ch[4:9] # e - h\n",
        "c = ch[:3] # a - c \n",
        "d = ch[3:] # c - h\n",
        "e = ch[:] #เอาทุกตัวในลิสต์ \n",
        "f = ch[0:2] + ch[6:8] # a - b and g - h\n",
        "g = ch # or equivalent to e = ch \n",
        "\n",
        "print(a)\n",
        "print(b)\n",
        "print(c)\n",
        "print(d)\n",
        "print(e)\n",
        "print(f)\n",
        "print(g)"
      ],
      "metadata": {
        "colab": {
          "base_uri": "https://localhost:8080/"
        },
        "id": "CEhqeQdyo_8U",
        "outputId": "b614a2f1-25f2-4c42-9aba-efcb6c0943e6"
      },
      "execution_count": null,
      "outputs": [
        {
          "output_type": "stream",
          "name": "stdout",
          "text": [
            "['a', 'b', 'c', 'd']\n",
            "['e', 'f', 'g', 'h']\n",
            "['a', 'b', 'c']\n",
            "['d', 'e', 'f', 'g', 'h']\n",
            "['a', 'b', 'c', 'd', 'e', 'f', 'g', 'h']\n",
            "['a', 'b', 'g', 'h']\n",
            "['a', 'b', 'c', 'd', 'e', 'f', 'g', 'h']\n"
          ]
        }
      ]
    },
    {
      "cell_type": "markdown",
      "source": [
        "การใช้งานคำสั่ง del เพื่อลบข้อมูลใน List"
      ],
      "metadata": {
        "id": "4gspgXVvs_pE"
      }
    },
    {
      "cell_type": "code",
      "source": [
        "ch = ['a', 'b', 'c', 'd', 'e', 'f', 'g', 'h']\n",
        "\n",
        "del ch[0] # delete a \n",
        "print(ch)\n",
        "\n",
        "del ch[0] # delete b \n",
        "print(ch)\n",
        "\n",
        "del ch[2:4] # delete e, f \n",
        "print(ch)\n",
        "\n",
        "del ch[:] # delete all\n",
        "print(ch)\n",
        "#ตัดออกมาเรื่อยๆ"
      ],
      "metadata": {
        "colab": {
          "base_uri": "https://localhost:8080/"
        },
        "id": "ErhOUzKasyBV",
        "outputId": "093c3051-fe67-44ca-ba4b-5c1922ee40e1"
      },
      "execution_count": null,
      "outputs": [
        {
          "output_type": "stream",
          "name": "stdout",
          "text": [
            "['b', 'c', 'd', 'e', 'f', 'g', 'h']\n",
            "['c', 'd', 'e', 'f', 'g', 'h']\n",
            "['c', 'd', 'g', 'h']\n",
            "[]\n"
          ]
        }
      ]
    },
    {
      "cell_type": "markdown",
      "source": [
        "การใช้งานเมธอดของ List"
      ],
      "metadata": {
        "id": "2B6oqWyWtnJ7"
      }
    },
    {
      "cell_type": "code",
      "source": [
        "names = ['David', 'Johnny', 'Dennis', 'Jason']\n",
        "\n",
        "# add 2 names to the end of the list\n",
        "names.append('Andy') #เพิ่ม แอนดี้ลงไปในลิสต์เนม \n",
        "names.append('Rene')\n",
        "print(names)\n",
        "\n",
        "# add a name at position 3 เพื่อเพิ่มสมาชิกไปยังตำแหน่งที่ต้องการ\n",
        "names.insert(2, 'Mike') \n",
        "print(names)\n",
        "\n",
        "# remove 2 specific names เพื่อนำออกข้อมูลใน List เราได้ทำการลบสองรายชื่อ คือ 'David' และ 'Johnny' ออกไปจาก List\n",
        "names.remove('David')\n",
        "names.remove('Johnny') #สามารถ ใช้ ลูกน้ำเพื่อขั้นได้\n",
        "print(names)\n",
        "\n",
        "# pop the last item fro the list นำข้อมูลที่อยู่ท้ายสุดของ List และส่งค่านั้นกลับมา\n",
        "print('Popped item =', names.pop()) \n",
        "print(names)\n",
        "print('เหมือนว่าปริ้นแค่สมาชิกตัวเดียว ตัวสุดท้าย')\n",
        "print('Popped item =', names.pop())\n",
        "print(names)\n",
        "\n",
        "# clear all items\n",
        "names.clear()\n",
        "print(names)"
      ],
      "metadata": {
        "colab": {
          "base_uri": "https://localhost:8080/"
        },
        "id": "7nX5lECYtHqp",
        "outputId": "756c0cb3-e888-45ff-d0f2-6dc95dc0ce03"
      },
      "execution_count": null,
      "outputs": [
        {
          "output_type": "stream",
          "name": "stdout",
          "text": [
            "['David', 'Johnny', 'Dennis', 'Jason', 'Andy', 'Rene']\n",
            "['David', 'Johnny', 'Mike', 'Dennis', 'Jason', 'Andy', 'Rene']\n",
            "['Mike', 'Dennis', 'Jason', 'Andy', 'Rene']\n",
            "Popped item = Rene\n",
            "['Mike', 'Dennis', 'Jason', 'Andy']\n",
            "เหมือนว่าปริ้นแค่สมาชิกตัวเดียว ตัวสุดท้าย\n",
            "Popped item = Andy\n",
            "['Mike', 'Dennis', 'Jason']\n",
            "[]\n"
          ]
        }
      ]
    },
    {
      "cell_type": "code",
      "source": [
        "fruits = ['banana', 'orange', 'apple', 'grape', 'apple', 'peach']\n",
        "\n",
        "print(fruits)\n",
        "\n",
        "print('%d apples in list' % fruits.count('apple')) #แปล%เป็นจำนวนแอปเปิ้ล แล้วก้ปริ้น\n",
        "print('%d banana in list' % fruits.count('banana'))\n",
        "\n",
        "print('Index of grape is %d' % fruits.index('grape'))\n",
        "\n",
        "fruits.sort() #ใช้สำหรับเรียงข้อมูลภายใน List ตามตัวอักษรจากก่อนไปทีหลัง\n",
        "print('Sorted', fruits)\n",
        "\n",
        "fruits.reverse() #เรียงกลับ \n",
        "print('Reversed', fruits)"
      ],
      "metadata": {
        "colab": {
          "base_uri": "https://localhost:8080/"
        },
        "id": "BwCFcI9CuVqa",
        "outputId": "3c2492b3-1d70-49e1-efce-0a9a5405e072"
      },
      "execution_count": null,
      "outputs": [
        {
          "output_type": "stream",
          "name": "stdout",
          "text": [
            "['banana', 'orange', 'apple', 'grape', 'apple', 'peach']\n",
            "2 apples in list\n",
            "1 banana in list\n",
            "Index of grape is 3\n",
            "Sorted ['apple', 'apple', 'banana', 'grape', 'orange', 'peach']\n",
            "Reversed ['peach', 'orange', 'grape', 'banana', 'apple', 'apple']\n"
          ]
        }
      ]
    },
    {
      "cell_type": "markdown",
      "source": [
        "การใช้งานฟังก์ชั่นกับlist"
      ],
      "metadata": {
        "id": "vcUrlUXevnrb"
      }
    },
    {
      "cell_type": "code",
      "source": [
        "numbers = [12, 3, 1, -5, 8, 3, -2, 10]\n",
        "\n",
        "print('%d numbers in list' % len(numbers)) #นับจำนวนเobjectใน list \n",
        "print('Min number = %d' % min(numbers))\n",
        "print('Max number = %d' % max(numbers)) #หาค่าที่มากที่สุด"
      ],
      "metadata": {
        "colab": {
          "base_uri": "https://localhost:8080/"
        },
        "id": "qhbiENuZvqwN",
        "outputId": "f4d9c565-daa8-43ef-e855-af4809e2db8f"
      },
      "execution_count": null,
      "outputs": [
        {
          "output_type": "stream",
          "name": "stdout",
          "text": [
            "8 numbers in list\n",
            "Min number = -5\n",
            "Max number = 12\n"
          ]
        }
      ]
    },
    {
      "cell_type": "code",
      "source": [
        "#กรณีถ้าเป็นตัวเลขแบบไม่มีทศนิยมให้ใช้ %d\n",
        "# ส่วน %s สำหรับข้อความ \n",
        "# %f สำหรับตัวเลขที่มีทศนิยม\n",
        "d = 199\n",
        "s = 'Hello, Python'\n",
        "f = 58.36\n",
        "print('d = %d' %(d))\n",
        "print('s = %s' %(s))\n",
        "print('f = %.2f' %(f))"
      ],
      "metadata": {
        "colab": {
          "base_uri": "https://localhost:8080/"
        },
        "id": "eLkipZHUvtC7",
        "outputId": "d8d37ae0-a677-4ddf-bfdd-1e58fb83d7d7"
      },
      "execution_count": null,
      "outputs": [
        {
          "output_type": "stream",
          "name": "stdout",
          "text": [
            "d = 199\n",
            "s = Hello, Python\n",
            "f = 58.36\n"
          ]
        }
      ]
    },
    {
      "cell_type": "code",
      "source": [
        "print(list(range(0, 20, 4))) #( เริ่มจาก , สิ้นสุด , ห่างจาก)\n",
        "\n",
        "tuple1 = (1, 2, 3, 4, 5) \n",
        "print(list(tuple1))"
      ],
      "metadata": {
        "colab": {
          "base_uri": "https://localhost:8080/"
        },
        "id": "3UBHlWPkwNo1",
        "outputId": "f0629ab5-fa5a-4d27-b852-0f36e833a44f"
      },
      "execution_count": null,
      "outputs": [
        {
          "output_type": "stream",
          "name": "stdout",
          "text": [
            "[0, 4, 8, 12, 16]\n",
            "[1, 2, 3, 4, 5]\n"
          ]
        }
      ]
    },
    {
      "cell_type": "markdown",
      "source": [
        "## Dictionary"
      ],
      "metadata": {
        "id": "W4_rYiZPxyX6"
      }
    },
    {
      "cell_type": "code",
      "source": [
        "#สมาชิกของดิก จะอยู่ใน ปีกกา \n",
        "scores = {'james': 1828, 'thomas': 3628, 'danny': 9310}\n",
        "scores['bobby'] = 4401\n",
        "#Dictionary แต่ละตัวจะถูกกำหนดในรูปแบบ key: value \n",
        "\n",
        "numbers = {1: 'One', 2: 'Two', 3: 'Three'}\n",
        "\n",
        "print(scores)\n",
        "print(numbers)"
      ],
      "metadata": {
        "colab": {
          "base_uri": "https://localhost:8080/"
        },
        "id": "jP5fc42IxM6Q",
        "outputId": "27002cf9-b097-4cc1-c41f-2f9c671ad07a"
      },
      "execution_count": null,
      "outputs": [
        {
          "output_type": "stream",
          "name": "stdout",
          "text": [
            "{'james': 1828, 'thomas': 3628, 'danny': 9310, 'bobby': 4401}\n",
            "{1: 'One', 2: 'Two', 3: 'Three'}\n"
          ]
        }
      ]
    },
    {
      "cell_type": "code",
      "source": [
        "{'james': 1828, 'thomas': 3628, 'danny': 9310, 'bobby': 4401}\n",
        "{1: 'One', 2: 'Two', 3: 'Three'}"
      ],
      "metadata": {
        "colab": {
          "base_uri": "https://localhost:8080/"
        },
        "id": "CxsNMlc7yI0b",
        "outputId": "43df34ec-5454-49fc-e501-0a545164e4d9"
      },
      "execution_count": null,
      "outputs": [
        {
          "output_type": "execute_result",
          "data": {
            "text/plain": [
              "{1: 'One', 2: 'Two', 3: 'Three'}"
            ]
          },
          "metadata": {},
          "execution_count": 69
        }
      ]
    },
    {
      "cell_type": "markdown",
      "source": [
        "การเข้าถึงข้อมูลภายใน Dictionary"
      ],
      "metadata": {
        "id": "dQ45uQMfydBb"
      }
    },
    {
      "cell_type": "code",
      "source": [
        "scores = {'james': 1828, 'thomas': 3628, 'danny': 9310, 'bobby': 4401}\n",
        "\n",
        "# display data\n",
        "print('james =>', scores['james'])\n",
        "print('thomas =>', scores['thomas'])\n",
        "print('danny =>', scores['danny'])\n",
        "print('bobby =>', scores['bobby'])\n",
        "\n",
        "# update data\n",
        "scores['james'] = scores['james'] + 1000\n",
        "scores['thomas'] = 100\n",
        "\n",
        "print('james =>', scores['james'])\n",
        "print('thomas =>', scores['thomas'])"
      ],
      "metadata": {
        "colab": {
          "base_uri": "https://localhost:8080/"
        },
        "id": "qwWhIz40yaKB",
        "outputId": "8214e39c-db2a-4028-a6ee-957f7079439d"
      },
      "execution_count": 92,
      "outputs": [
        {
          "output_type": "stream",
          "name": "stdout",
          "text": [
            "james => 1828\n",
            "thomas => 3628\n",
            "danny => 9310\n",
            "bobby => 4401\n",
            "james => 2828\n",
            "thomas => 100\n"
          ]
        }
      ]
    },
    {
      "cell_type": "markdown",
      "source": [
        "```การอ่านค่าใน Dictionary ด้วยคำสั่ง For loop```\n",
        "\n",
        "---\n",
        "\n",
        "\n",
        "\n",
        "\n",
        "\n",
        "คำสั่ง For loop นั้นเป็นคำสั่งที่ยืดหยุ่นและสามารถใช้งานได้อย่างหลากหลาย ในการอ่านค่าใน Dictionary นั้นเราสามารถใช้ For loop เพื่อวนอ่านค่าทั้ง Key และ Values ใน Dictionary ได้ มาดูตัวอย่างของโปรแกรม"
      ],
      "metadata": {
        "id": "X9IFXYwkyq6Q"
      }
    },
    {
      "cell_type": "code",
      "source": [
        "countries = {'de': 'Germany', 'ua': 'Ukraine',\n",
        "             'th': 'Thailand', 'nl': 'Netherlands'}\n",
        "#ใน { 'key':'value'} \n",
        "for k, v in countries.items():#ใน { 'key':'value'} \n",
        "    print(k, v)\n",
        "\n",
        "# iterate through keys เอาแค่คีย์ในดิก\n",
        "print('\\nKey:', end = ' ')\n",
        "for k in countries.keys():\n",
        "    print(k, end = ' ')\n",
        "\n",
        "# iterate through values เอาแค่แวลู่ในดิก\n",
        "print('\\n\\nValue:', end = ' ') #\\n เว้นบรรทัด สองครั้งก็สองบรรทัด\n",
        "for v in countries.values():\n",
        "    print(v, end = ' ')"
      ],
      "metadata": {
        "colab": {
          "base_uri": "https://localhost:8080/"
        },
        "id": "KMMu9aPHyrka",
        "outputId": "f3528e0c-1456-4f5e-f539-708603cfe8e2"
      },
      "execution_count": null,
      "outputs": [
        {
          "output_type": "stream",
          "name": "stdout",
          "text": [
            "de Germany\n",
            "ua Ukraine\n",
            "th Thailand\n",
            "nl Netherlands\n",
            "\n",
            "Key: de ua th nl \n",
            "\n",
            "Value: Germany Ukraine Thailand Netherlands "
          ]
        }
      ]
    },
    {
      "cell_type": "markdown",
      "source": [
        "Methods\tDescription\n",
        "\n",
        "---\n",
        "1. clear()\tลบข้อมูลทั้งหมดภายใน Dictionary\n",
        "2. copy()\tคัดลอก Dictionary ทั้งหมดไปยังอันใหม่\n",
        "3. get(key[, default])\tส่งค่าข้อมูลใน Dictionary จาก Key ที่กำหนด ถ้าหากไม่มี Key อยู่และไม่ได้กำหนด default จะทำให้เกิดข้อผิดพลาด `KeyError`\n",
        "4. items()\tส่งค่ากลับเป็นออบเจ็คของ Key และ Value\n",
        "5. keys()\tส่งค่ากลับเป็น List ของ Key ทั้งหมดใน Dictionary\n",
        "6. pop(key[, default])\tส่งค่ากลับเป็นค่าสุดท้ายใน Dictionary\n",
        "7. popitem()\tส่งค่ากลับเป็น Tuple ออบเจ็คของ Key และ Value\n",
        "8. setdefault(key[, default])\tส่งค่ากลับเป็นค่าของ Key ที่กำหนด ถ้าหากไม่มี Key อยู่ใส่ข้อมูลเข้าไปใน Dictionary\n",
        "9. update([other])\tอัพเดท Dictionary กับคู่ของ Key และ Value จากออบเจ็คอื่น และเขียนทับ Key ที่มีอยู่\n",
        "10. values()\tส่งค่ากลับเป็น List ของ Value ทั้งหมดใน Dictionary\n",
        "\n",
        "\n"
      ],
      "metadata": {
        "id": "ni2dPCYp0IwV"
      }
    },
    {
      "cell_type": "markdown",
      "source": [
        "## Numpy array\n",
        "\n",
        "---\n",
        "\n",
        "NumPy เป็นชื่อของ library ที่ใช้ในการคำนวนทางคณิตศาสตร์ในภาษา Python ซึ่งภายในถูกเขียนด้วยภาษา C จึงทำงานได้เร็วและมีประสิทธิภาพ โดย NumPy มีความสามารถในการจัดการกับอาเรย์หลายมิติและข้อมูลแบบเมทริกซ์"
      ],
      "metadata": {
        "id": "_0NOEgid3Lj7"
      }
    },
    {
      "cell_type": "code",
      "source": [
        "import numpy as np\n",
        "a = np.array([1,2,3])\n",
        "print(a)        # [1 2 3]\n",
        "print(type(a))  # <class 'numpy.ndarray'>"
      ],
      "metadata": {
        "colab": {
          "base_uri": "https://localhost:8080/"
        },
        "id": "W4VerolS3Onm",
        "outputId": "ef8d6fd7-fc7b-42ec-bdef-bb30d71aa3ba"
      },
      "execution_count": null,
      "outputs": [
        {
          "output_type": "stream",
          "name": "stdout",
          "text": [
            "[1 2 3]\n",
            "<class 'numpy.ndarray'>\n"
          ]
        }
      ]
    },
    {
      "cell_type": "code",
      "source": [
        "import numpy"
      ],
      "metadata": {
        "id": "kyd8Mp8m3Vf0"
      },
      "execution_count": null,
      "outputs": []
    },
    {
      "cell_type": "code",
      "source": [
        "mat_a = numpy.array([[2,4,5],[1,2,3],[9,8,7],[3,6,9]])\n",
        "mat_a"
      ],
      "metadata": {
        "colab": {
          "base_uri": "https://localhost:8080/"
        },
        "id": "B7XNKARB3kwO",
        "outputId": "04247947-f98e-4dab-aaf4-ccd69e1ea58f"
      },
      "execution_count": null,
      "outputs": [
        {
          "output_type": "execute_result",
          "data": {
            "text/plain": [
              "array([[2, 4, 5],\n",
              "       [1, 2, 3],\n",
              "       [9, 8, 7],\n",
              "       [3, 6, 9]])"
            ]
          },
          "metadata": {},
          "execution_count": 81
        }
      ]
    },
    {
      "cell_type": "code",
      "source": [
        "list_a = [[2,4,5],[1,2,3],[9,8,7],[3,6,9]]"
      ],
      "metadata": {
        "id": "eHaXSWJ_3lLa"
      },
      "execution_count": null,
      "outputs": []
    },
    {
      "cell_type": "code",
      "source": [
        "import numpy as np\n",
        "list_b = [[-1,-1,2,4,5],[-2,-2,1,2,3],[-3,-3,9,8,7],[-4,-4,3,6,9]] #จำนวนเลขในเมทริกซ์ต้องเท่ากัน เพราะเมทริกซ์เป็นจัตุรัส\n",
        "mat_b = np.array(list_b) #เรียกตัวเลขจากลิสต์บีที่เป็นarray เรียงเป็นเมทริกซ์ --->array 2มิติ\n",
        "mat_b"
      ],
      "metadata": {
        "colab": {
          "base_uri": "https://localhost:8080/"
        },
        "id": "ml8eDGTn3pdo",
        "outputId": "9bd6e5a2-b166-4aa6-94ba-cb9e817acb59"
      },
      "execution_count": null,
      "outputs": [
        {
          "output_type": "execute_result",
          "data": {
            "text/plain": [
              "array([[-1, -1,  2,  4,  5],\n",
              "       [-2, -2,  1,  2,  3],\n",
              "       [-3, -3,  9,  8,  7],\n",
              "       [-4, -4,  3,  6,  9]])"
            ]
          },
          "metadata": {},
          "execution_count": 95
        }
      ]
    },
    {
      "cell_type": "code",
      "source": [
        "import numpy as np        # วิธีการที่จะเรียกใช้ numpy library โดยกำหนดชื่อย่อว่า np\n",
        "\n",
        "a = np.array([1, 2, 3])   # สร้าง array 1 มิติ (เวกเตอร์) จาก Python list [1, 2, 3]\n",
        "print(type(a))            # พิมพ์ \"<class 'numpy.ndarray'>\"\n",
        "print(a.shape)            \n",
        "# shape เป็น method ที่ไว้เรียกดูขนาดของ array \n",
        "# พิมพ์ \"(3,)\" แปลว่าเป็น array 1 มิติ ที่มีสมาชิกเท่ากับ 3 (เวกเตอร์ที่ความยาวเท่ากับ 3)\n",
        "\n",
        "print(a[0], a[1], a[2])   # พิมพ์ \"1 2 3\" สมาชิกของเอตัวที่1 สมาชิกของเอ\n",
        "a[0] = 5                  # เปลี่ยนค่าใน array เปลี่ยนสมาชิกของเอตัวที่ 1 เป็น 5 \n",
        "print(a)                  # พิมพ์ \"[5, 2, 3]\"\n",
        "\n",
        "b = np.array([[1,2,3],[4,5,6]])    # สร้าง array 2 มิติ (เมตริกซ์2x3)\n",
        "print(b.shape)                     # พิมพ์ \"(2, 3)\" แปลว่าเป็น array 2 มิติ ที่มีความยาวเท่ากับ 2 และ 3 ตามลำดับ\n",
        "                                   # พูดง่ายๆ ว่าเป็นเมตริกซ์ขนาด 2x3 นั่นเอง \n",
        "print(b[0, 0], b[0, 1], b[1, 0])   # พิมพ์ \"1 2 4\""
      ],
      "metadata": {
        "colab": {
          "base_uri": "https://localhost:8080/"
        },
        "id": "MbOWTIWx8JEm",
        "outputId": "015e2596-172b-4076-9d00-ef93ae7d154e"
      },
      "execution_count": null,
      "outputs": [
        {
          "output_type": "stream",
          "name": "stdout",
          "text": [
            "<class 'numpy.ndarray'>\n",
            "(3,)\n",
            "1 2 3\n",
            "[5 2 3]\n",
            "(2, 3)\n",
            "1 2 4\n"
          ]
        }
      ]
    },
    {
      "cell_type": "markdown",
      "source": [
        "numpy operations"
      ],
      "metadata": {
        "id": "2pO5IWFp9ZI7"
      }
    },
    {
      "cell_type": "code",
      "source": [
        "import numpy as np\n",
        "\n",
        "x = np.array([[1,2],[3,4]])\n",
        "y = np.array([[5,6],[7,8]])\n",
        "\n",
        "# [[ 1  2] + [[ 5  6] =  [[ 6  8]\n",
        "#   [3 4]]    [ 7  8]]    [10 12]]\n",
        "print(x + y)\n",
        "\n",
        "# [[-4 -4]\n",
        "#  [-4 -4]]\n",
        "print(x - y)\n",
        "\n",
        "# [[ 5 12]\n",
        "#  [21 32]]\n",
        "print(x * y)\n",
        "\n",
        "# ตัวอย่างการหาร เมื่อเลขไม่ลงตัว สมาชิกใน array จะเปลี่ยนเป็นจำนวนจริงโดยอัตโนมัติเหมือนกรณีการหารตัวเลข (ดูหัวข้อบน)\n",
        "# [[ 0.2         0.33333333]\n",
        "#  [ 0.42857143  0.5       ]]\n",
        "print(x / y)\n",
        "\n",
        "# ยกกำลัง\n",
        "print(x ** 2)\n",
        "\n",
        "# ถอดรากที่สองมีสองวิธีคือเรียกฟังก์ชั่นของ numpy หรือ ยกกำลังด้วย 1/2\n",
        "print(np.sqrt(x))\n",
        "print(x ** (1/2))"
      ],
      "metadata": {
        "colab": {
          "base_uri": "https://localhost:8080/"
        },
        "id": "J9iJignt9Y5u",
        "outputId": "c7d7d450-6d23-4cbb-dfc6-ce005c71cbd0"
      },
      "execution_count": 91,
      "outputs": [
        {
          "output_type": "stream",
          "name": "stdout",
          "text": [
            "[[ 6  8]\n",
            " [10 12]]\n",
            "[[-4 -4]\n",
            " [-4 -4]]\n",
            "[[ 5 12]\n",
            " [21 32]]\n",
            "[[0.2        0.33333333]\n",
            " [0.42857143 0.5       ]]\n",
            "[[ 1  4]\n",
            " [ 9 16]]\n",
            "[[1.         1.41421356]\n",
            " [1.73205081 2.        ]]\n",
            "[[1.         1.41421356]\n",
            " [1.73205081 2.        ]]\n"
          ]
        }
      ]
    },
    {
      "cell_type": "markdown",
      "source": [
        "## Function\n",
        "def เพื่อนิยาม Python function"
      ],
      "metadata": {
        "id": "fr8rsn494VDr"
      }
    },
    {
      "cell_type": "code",
      "source": [
        "def hello(name):\n",
        "    print('Hello %s' % name)\n",
        "\n",
        "def count_vowel(str): #กำหนดฟังก์ชั่น count vowel นับสระ  ให้เป็น สตริง ตัวหนังสือ\n",
        "    vowel = 0\n",
        "    for c in str: #สำหรับตัวแปร c ในตัวหนังสือ \n",
        "        if c in ('A', 'E', 'I', 'O', 'U', 'a', 'e', 'i', 'o', 'u'):\n",
        "            vowel = vowel + 1\n",
        "    return vowel\n",
        "\n",
        "def area(width, height): #กำหนดให้ฟังด์ชั่น พื้นที่ มีด้านกว้างและด้านยาว \n",
        "    c = width * height\n",
        "    return c\n",
        "\n",
        "# calling functions\n",
        "hello('Danny')\n",
        "hello('Mateo')\n",
        "print('Vowel in string = %d' % count_vowel('marcuscode.com')) #นับสระจากคำในวงเล็บ\n",
        "print('Vowel in string = %d' % count_vowel('Python'))\n",
        "print('Area = %d' % area(8, 4))"
      ],
      "metadata": {
        "colab": {
          "base_uri": "https://localhost:8080/"
        },
        "id": "yoJYIvks3rkS",
        "outputId": "6e07801a-b279-413e-fd87-848d1508dea7"
      },
      "execution_count": null,
      "outputs": [
        {
          "output_type": "stream",
          "name": "stdout",
          "text": [
            "Hello Danny\n",
            "Hello Mateo\n",
            "Vowel in string = 5\n",
            "Vowel in string = 1\n",
            "Area = 32\n"
          ]
        }
      ]
    },
    {
      "cell_type": "code",
      "source": [
        "def sign(x): #สัญลักษณ์\n",
        "    if x > 0:\n",
        "        return 'positive'\n",
        "    elif x < 0:\n",
        "        return 'negative'\n",
        "    else: #อื่นๆที่มากกว่าหรือน้อยกว่า 0 คือ เท่ากับ 0\n",
        "        return 'zero'\n",
        "\n",
        "for x in [-1, 0, 1,5,6,8,0]:\n",
        "    print(sign(x))\n",
        "# พิมพ์ \"negative\", \"zero\", \"positive\""
      ],
      "metadata": {
        "colab": {
          "base_uri": "https://localhost:8080/"
        },
        "id": "kruqjZDx5kla",
        "outputId": "12e1bd5b-ae6e-4879-ad60-8da470fa2cfb"
      },
      "execution_count": null,
      "outputs": [
        {
          "output_type": "stream",
          "name": "stdout",
          "text": [
            "negative\n",
            "zero\n",
            "positive\n",
            "positive\n",
            "positive\n",
            "positive\n",
            "zero\n"
          ]
        }
      ]
    },
    {
      "cell_type": "code",
      "source": [
        "def hello(name, loud=False):\n",
        "    if loud:\n",
        "        print('HELLO, %s!' % name.upper())\n",
        "    else:\n",
        "        print('Hello, %s' % name)\n",
        "\n",
        "hello('Bob') # พิมพ์ \"Hello, Bob\"\n",
        "hello('Fred', loud=True)  # พิมพ์ \"HELLO, FRED!\""
      ],
      "metadata": {
        "colab": {
          "base_uri": "https://localhost:8080/"
        },
        "id": "g647BH1e7xff",
        "outputId": "2418d91a-a532-48c1-90c8-aefba6099238"
      },
      "execution_count": null,
      "outputs": [
        {
          "output_type": "stream",
          "name": "stdout",
          "text": [
            "Hello, Bob\n",
            "HELLO, FRED!\n"
          ]
        }
      ]
    },
    {
      "cell_type": "code",
      "source": [],
      "metadata": {
        "id": "CtHZP0GZ98Dj"
      },
      "execution_count": null,
      "outputs": []
    },
    {
      "cell_type": "markdown",
      "source": [
        "## looping condition"
      ],
      "metadata": {
        "id": "CIOWKz50-P_s"
      }
    },
    {
      "cell_type": "code",
      "source": [
        "data = int(input(\"ใส่เลขที่ต้องการ: \"))\n",
        "digit = 3\n",
        "if data == digit:\n",
        "    print (\"เท่ากัน\",end=\"\")\n",
        "elif data < digit:\n",
        "    print(\"น้อยกว่า\",end=\"\")\n",
        "else:\n",
        "    print (\"ผิดนะจ๊ะ\",end=\"\")"
      ],
      "metadata": {
        "colab": {
          "base_uri": "https://localhost:8080/"
        },
        "id": "4Sx8-eX--RJN",
        "outputId": "20771a9e-3165-4115-b86e-5767614bba08"
      },
      "execution_count": null,
      "outputs": [
        {
          "output_type": "stream",
          "name": "stdout",
          "text": [
            "ใส่เลขที่ต้องการ: 50\n",
            "ผิดนะจ๊ะ"
          ]
        }
      ]
    },
    {
      "cell_type": "code",
      "source": [
        "#คำสั่ง for loop สามารถเขียนได้รูปแบบดังนี้\n",
        "\n",
        "i = 0\n",
        "for i in range(7): #เรียงลำดับไป7\n",
        "   print (i,\"eiei\",end=\"   \")"
      ],
      "metadata": {
        "colab": {
          "base_uri": "https://localhost:8080/"
        },
        "id": "GnbK1PhY-mXY",
        "outputId": "a9ad6adb-07f4-44d9-a5ec-f38ace39f254"
      },
      "execution_count": null,
      "outputs": [
        {
          "output_type": "stream",
          "name": "stdout",
          "text": [
            "0 eiei   1 eiei   2 eiei   3 eiei   4 eiei   5 eiei   6 eiei   "
          ]
        }
      ]
    },
    {
      "cell_type": "code",
      "source": [
        "\t\n",
        "for x in 'HelloWorld': print (x)"
      ],
      "metadata": {
        "colab": {
          "base_uri": "https://localhost:8080/"
        },
        "id": "TMmNTGg7-8E9",
        "outputId": "19ac5efc-92ef-486f-b6a0-676c23d9d746"
      },
      "execution_count": null,
      "outputs": [
        {
          "output_type": "stream",
          "name": "stdout",
          "text": [
            "H\n",
            "e\n",
            "l\n",
            "l\n",
            "o\n",
            "W\n",
            "o\n",
            "r\n",
            "l\n",
            "d\n"
          ]
        }
      ]
    },
    {
      "cell_type": "code",
      "source": [
        "\n",
        "interval = 0\n",
        "while (interval <=10):\n",
        "    print (\"count:\", interval)\n",
        "    interval = interval+2 #ทีละ 2"
      ],
      "metadata": {
        "colab": {
          "base_uri": "https://localhost:8080/"
        },
        "id": "Srbq0ws-_W8x",
        "outputId": "276cfbb0-ff29-4655-8883-bc624d7f7f31"
      },
      "execution_count": null,
      "outputs": [
        {
          "output_type": "stream",
          "name": "stdout",
          "text": [
            "count: 0\n",
            "count: 2\n",
            "count: 4\n",
            "count: 6\n",
            "count: 8\n",
            "count: 10\n"
          ]
        }
      ]
    },
    {
      "cell_type": "code",
      "source": [],
      "metadata": {
        "id": "ca9EUAz4_Z35"
      },
      "execution_count": null,
      "outputs": []
    },
    {
      "cell_type": "markdown",
      "source": [
        "##pandas: read_csv , head() , tail() .indexing\n",
        "Panel Data (ชุดข้อมูลหลายมิติ)"
      ],
      "metadata": {
        "id": "U-umEYqHAsXJ"
      }
    },
    {
      "cell_type": "markdown",
      "source": [
        "1. การอ่านไฟล์ CSV .read_csv(‘ชื่อไฟล์.csv’)\n",
        "2. .head(‘จำนวน row ที่อยากได้ออกมาแสดงนับจากแถวบนสุด’)\n",
        "3..tail(‘จำนวน row ที่อยากได้ออกมาแสดงนับจากแถวล่างสุด’) การดูข้อมูลจากแถวล่างสุด \n",
        "4. .describe() =การหาค่า (count, mean ,std ,min ,25% ,50% ,75%, max)ของข้อมูลแต่ละ column\n",
        "5. categories() categories นั้นจะไม่นับตัวซ้ำว่าเป็นอีก 1 categories\n",
        "6. .DataFrame(ตัวแปร dict) การสร้าง Dataframe สามารถทำได้ด้วยคำสั่ง\n",
        "7. .isnull() = วิธีเช็คข้อมูล ที่เป็น Null\n",
        "8. .notnull() วิธีเช็คข้อมูล ที่ไม่เป็นเป็น Null\n",
        "9. .unique()= การหาค่าข้อมูลที่ไม่ซ้ำกันในแต่ละ column\n",
        "10. .duplicated()= การหาข้อมูลที่ซ้ำในตาราง\n",
        "\n",
        "\n",
        "\n",
        "\n",
        "\n"
      ],
      "metadata": {
        "id": "MioRqHBNBT8d"
      }
    },
    {
      "cell_type": "code",
      "source": [
        "#วิธีการใช้งาน Pandas คือ โหลดไฟล์ข้อมูล เช่น CSV เข้าไป \n",
        "##แล้วเราจะได้ข้อมูลในรูปแบบตาราง (DataFrame) \n",
        "#ที่แบ่งข้อมูลตามแถวและคอลัมน์ หรือเหมือน Excel ที่เราใช้กันนั่นเอง"
      ],
      "metadata": {
        "id": "yx3lrkmtBcze"
      },
      "execution_count": null,
      "outputs": []
    },
    {
      "cell_type": "code",
      "source": [
        "#วิธีการโหลดไฟล์ CSV (Import)\n",
        "#Upload to data colab\n",
        "#data0=pd.read_csv('/content/opendata_project.csv')\n",
        "#สามารถอินพุทเหมือนวิธีต่างๆได้ เช่น แบบโปรแกรมR นำเข้า\n",
        "#วิธีนี้ชั่วคราวเพราะมันต้องอัพโหลดเครื่องต่อเครื่อง ผ่านกกด ดีสุด\n",
        "# link with ggdrive\n",
        "#เพื่อความชัวร์รันตอนไหนก็มีไฟล์\n",
        "#วิธีเชื่อมก้คือ data1=pd.read_csv('/content/drive/MyDrive/BPDV65/opendata_unittype.csv')\n",
        "# data1.head() \n"
      ],
      "metadata": {
        "id": "grr0PQJgC768"
      },
      "execution_count": null,
      "outputs": []
    },
    {
      "cell_type": "code",
      "source": [
        "#วิธีเช็คจำนวนแถว และจำนวนคอลัมน์\n",
        "#data1.shape #แถวคูณหลัก ตามเมทริก rowsxcolumns\n",
        "#data1.head(10) #ถ้าใส่หลังวงเล็บจะแสดง10แถว เพราะddefault เป็น5"
      ],
      "metadata": {
        "id": "SYraQxQrDIwb"
      },
      "execution_count": null,
      "outputs": []
    },
    {
      "cell_type": "markdown",
      "source": [
        "explore data\n",
        "\n",
        "---\n",
        "data1.describe()\n"
      ],
      "metadata": {
        "id": "jbdH5oDYE4-a"
      }
    },
    {
      "cell_type": "markdown",
      "source": [
        "**linkwith google drive**"
      ],
      "metadata": {
        "id": "6LS2jlEaFexk"
      }
    },
    {
      "cell_type": "code",
      "source": [
        "import pandas as pd"
      ],
      "metadata": {
        "id": "L2P1gOZXFOcq"
      },
      "execution_count": null,
      "outputs": []
    },
    {
      "cell_type": "code",
      "source": [
        "from google.colab import drive\n",
        "drive.mount('/content/drive')\n",
        "data1=pd.read_csv('/content/drive/MyDrive/BPDV65/opendata_unittype.csv')\n",
        "data1.head()"
      ],
      "metadata": {
        "colab": {
          "base_uri": "https://localhost:8080/",
          "height": 439
        },
        "id": "2fXmK1EEFEC9",
        "outputId": "757cc983-c8d5-4ae1-bef3-d76a780cf04f"
      },
      "execution_count": null,
      "outputs": [
        {
          "output_type": "stream",
          "name": "stdout",
          "text": [
            "Drive already mounted at /content/drive; to attempt to forcibly remount, call drive.mount(\"/content/drive\", force_remount=True).\n"
          ]
        },
        {
          "output_type": "execute_result",
          "data": {
            "text/plain": [
              "   row_number     unittype_id    project_id             name_th  \\\n",
              "0       27501   unittype_9565  project_2446           2 Bedroom   \n",
              "1       28777  unittype_10267  project_3543  บ้านแฝดสองชั้น Z-2   \n",
              "2       28865    unittype_471   project_143    1 Bedroom Type B   \n",
              "3       24988  unittype_19506  project_7766    Studio Floor 1-2   \n",
              "4       38596  unittype_10290  project_3551                TH 3   \n",
              "\n",
              "   propertytype_id propertytype_name_en propertytype_name_th  \\\n",
              "0                2                Condo                คอนโด   \n",
              "1            20000           Twin house              บ้านแฝด   \n",
              "2                2                Condo                คอนโด   \n",
              "3                2                Condo                คอนโด   \n",
              "4                3             Townhome             ทาวน์โฮม   \n",
              "\n",
              "   area_total_min_wa  area_usable_min  price_min  ...  count_room_guest  \\\n",
              "0                NaN             37.3  2500000.0  ...               1.0   \n",
              "1               40.0            150.0  2390000.0  ...               NaN   \n",
              "2                NaN             28.0        NaN  ...               NaN   \n",
              "3                NaN             27.0   170000.0  ...               NaN   \n",
              "4                NaN            182.0  2390000.0  ...               1.0   \n",
              "\n",
              "   count_room_kitchen  count_room_living  count_room_maid  count_room_storage  \\\n",
              "0                 1.0                NaN              NaN                 NaN   \n",
              "1                 NaN                NaN              NaN                 NaN   \n",
              "2                 NaN                NaN              NaN                 NaN   \n",
              "3                 NaN                NaN              NaN                 NaN   \n",
              "4                 1.0                NaN              NaN                 2.0   \n",
              "\n",
              "   count_room_utility         date_created         date_updated  source  \\\n",
              "0                 NaN  2021-11-19 18:00:09  2021-11-19 17:44:45  baania   \n",
              "1                 NaN  2022-01-27 14:30:04  2022-01-27 14:22:55  baania   \n",
              "2                 NaN  2022-01-14 15:00:10  2022-01-14 14:40:04  baania   \n",
              "3                 NaN  2020-12-04 10:40:59  2020-10-14 01:06:48  baania   \n",
              "4                 NaN  2021-11-12 13:30:08  2021-02-03 12:12:54  baania   \n",
              "\n",
              "                                        url_unittype  \n",
              "0  https://baania.com/th/project/เฟ-ลิค-คอนโด-ลาด...  \n",
              "1  https://baania.com/th/project/เซน-บาย-ศิวาลัย-...  \n",
              "2  https://baania.com/th/project/วันพลัส-นายน์ทีน...  \n",
              "3  https://baania.com/th/project/บ้านสวนชมน้ำ-776...  \n",
              "4  https://baania.com/th/project/เบล็สทาวน์-ศรีนค...  \n",
              "\n",
              "[5 rows x 27 columns]"
            ],
            "text/html": [
              "\n",
              "  <div id=\"df-9d057726-4539-401a-a2f1-83aa95b211b9\">\n",
              "    <div class=\"colab-df-container\">\n",
              "      <div>\n",
              "<style scoped>\n",
              "    .dataframe tbody tr th:only-of-type {\n",
              "        vertical-align: middle;\n",
              "    }\n",
              "\n",
              "    .dataframe tbody tr th {\n",
              "        vertical-align: top;\n",
              "    }\n",
              "\n",
              "    .dataframe thead th {\n",
              "        text-align: right;\n",
              "    }\n",
              "</style>\n",
              "<table border=\"1\" class=\"dataframe\">\n",
              "  <thead>\n",
              "    <tr style=\"text-align: right;\">\n",
              "      <th></th>\n",
              "      <th>row_number</th>\n",
              "      <th>unittype_id</th>\n",
              "      <th>project_id</th>\n",
              "      <th>name_th</th>\n",
              "      <th>propertytype_id</th>\n",
              "      <th>propertytype_name_en</th>\n",
              "      <th>propertytype_name_th</th>\n",
              "      <th>area_total_min_wa</th>\n",
              "      <th>area_usable_min</th>\n",
              "      <th>price_min</th>\n",
              "      <th>...</th>\n",
              "      <th>count_room_guest</th>\n",
              "      <th>count_room_kitchen</th>\n",
              "      <th>count_room_living</th>\n",
              "      <th>count_room_maid</th>\n",
              "      <th>count_room_storage</th>\n",
              "      <th>count_room_utility</th>\n",
              "      <th>date_created</th>\n",
              "      <th>date_updated</th>\n",
              "      <th>source</th>\n",
              "      <th>url_unittype</th>\n",
              "    </tr>\n",
              "  </thead>\n",
              "  <tbody>\n",
              "    <tr>\n",
              "      <th>0</th>\n",
              "      <td>27501</td>\n",
              "      <td>unittype_9565</td>\n",
              "      <td>project_2446</td>\n",
              "      <td>2 Bedroom</td>\n",
              "      <td>2</td>\n",
              "      <td>Condo</td>\n",
              "      <td>คอนโด</td>\n",
              "      <td>NaN</td>\n",
              "      <td>37.3</td>\n",
              "      <td>2500000.0</td>\n",
              "      <td>...</td>\n",
              "      <td>1.0</td>\n",
              "      <td>1.0</td>\n",
              "      <td>NaN</td>\n",
              "      <td>NaN</td>\n",
              "      <td>NaN</td>\n",
              "      <td>NaN</td>\n",
              "      <td>2021-11-19 18:00:09</td>\n",
              "      <td>2021-11-19 17:44:45</td>\n",
              "      <td>baania</td>\n",
              "      <td>https://baania.com/th/project/เฟ-ลิค-คอนโด-ลาด...</td>\n",
              "    </tr>\n",
              "    <tr>\n",
              "      <th>1</th>\n",
              "      <td>28777</td>\n",
              "      <td>unittype_10267</td>\n",
              "      <td>project_3543</td>\n",
              "      <td>บ้านแฝดสองชั้น Z-2</td>\n",
              "      <td>20000</td>\n",
              "      <td>Twin house</td>\n",
              "      <td>บ้านแฝด</td>\n",
              "      <td>40.0</td>\n",
              "      <td>150.0</td>\n",
              "      <td>2390000.0</td>\n",
              "      <td>...</td>\n",
              "      <td>NaN</td>\n",
              "      <td>NaN</td>\n",
              "      <td>NaN</td>\n",
              "      <td>NaN</td>\n",
              "      <td>NaN</td>\n",
              "      <td>NaN</td>\n",
              "      <td>2022-01-27 14:30:04</td>\n",
              "      <td>2022-01-27 14:22:55</td>\n",
              "      <td>baania</td>\n",
              "      <td>https://baania.com/th/project/เซน-บาย-ศิวาลัย-...</td>\n",
              "    </tr>\n",
              "    <tr>\n",
              "      <th>2</th>\n",
              "      <td>28865</td>\n",
              "      <td>unittype_471</td>\n",
              "      <td>project_143</td>\n",
              "      <td>1 Bedroom Type B</td>\n",
              "      <td>2</td>\n",
              "      <td>Condo</td>\n",
              "      <td>คอนโด</td>\n",
              "      <td>NaN</td>\n",
              "      <td>28.0</td>\n",
              "      <td>NaN</td>\n",
              "      <td>...</td>\n",
              "      <td>NaN</td>\n",
              "      <td>NaN</td>\n",
              "      <td>NaN</td>\n",
              "      <td>NaN</td>\n",
              "      <td>NaN</td>\n",
              "      <td>NaN</td>\n",
              "      <td>2022-01-14 15:00:10</td>\n",
              "      <td>2022-01-14 14:40:04</td>\n",
              "      <td>baania</td>\n",
              "      <td>https://baania.com/th/project/วันพลัส-นายน์ทีน...</td>\n",
              "    </tr>\n",
              "    <tr>\n",
              "      <th>3</th>\n",
              "      <td>24988</td>\n",
              "      <td>unittype_19506</td>\n",
              "      <td>project_7766</td>\n",
              "      <td>Studio Floor 1-2</td>\n",
              "      <td>2</td>\n",
              "      <td>Condo</td>\n",
              "      <td>คอนโด</td>\n",
              "      <td>NaN</td>\n",
              "      <td>27.0</td>\n",
              "      <td>170000.0</td>\n",
              "      <td>...</td>\n",
              "      <td>NaN</td>\n",
              "      <td>NaN</td>\n",
              "      <td>NaN</td>\n",
              "      <td>NaN</td>\n",
              "      <td>NaN</td>\n",
              "      <td>NaN</td>\n",
              "      <td>2020-12-04 10:40:59</td>\n",
              "      <td>2020-10-14 01:06:48</td>\n",
              "      <td>baania</td>\n",
              "      <td>https://baania.com/th/project/บ้านสวนชมน้ำ-776...</td>\n",
              "    </tr>\n",
              "    <tr>\n",
              "      <th>4</th>\n",
              "      <td>38596</td>\n",
              "      <td>unittype_10290</td>\n",
              "      <td>project_3551</td>\n",
              "      <td>TH 3</td>\n",
              "      <td>3</td>\n",
              "      <td>Townhome</td>\n",
              "      <td>ทาวน์โฮม</td>\n",
              "      <td>NaN</td>\n",
              "      <td>182.0</td>\n",
              "      <td>2390000.0</td>\n",
              "      <td>...</td>\n",
              "      <td>1.0</td>\n",
              "      <td>1.0</td>\n",
              "      <td>NaN</td>\n",
              "      <td>NaN</td>\n",
              "      <td>2.0</td>\n",
              "      <td>NaN</td>\n",
              "      <td>2021-11-12 13:30:08</td>\n",
              "      <td>2021-02-03 12:12:54</td>\n",
              "      <td>baania</td>\n",
              "      <td>https://baania.com/th/project/เบล็สทาวน์-ศรีนค...</td>\n",
              "    </tr>\n",
              "  </tbody>\n",
              "</table>\n",
              "<p>5 rows × 27 columns</p>\n",
              "</div>\n",
              "      <button class=\"colab-df-convert\" onclick=\"convertToInteractive('df-9d057726-4539-401a-a2f1-83aa95b211b9')\"\n",
              "              title=\"Convert this dataframe to an interactive table.\"\n",
              "              style=\"display:none;\">\n",
              "        \n",
              "  <svg xmlns=\"http://www.w3.org/2000/svg\" height=\"24px\"viewBox=\"0 0 24 24\"\n",
              "       width=\"24px\">\n",
              "    <path d=\"M0 0h24v24H0V0z\" fill=\"none\"/>\n",
              "    <path d=\"M18.56 5.44l.94 2.06.94-2.06 2.06-.94-2.06-.94-.94-2.06-.94 2.06-2.06.94zm-11 1L8.5 8.5l.94-2.06 2.06-.94-2.06-.94L8.5 2.5l-.94 2.06-2.06.94zm10 10l.94 2.06.94-2.06 2.06-.94-2.06-.94-.94-2.06-.94 2.06-2.06.94z\"/><path d=\"M17.41 7.96l-1.37-1.37c-.4-.4-.92-.59-1.43-.59-.52 0-1.04.2-1.43.59L10.3 9.45l-7.72 7.72c-.78.78-.78 2.05 0 2.83L4 21.41c.39.39.9.59 1.41.59.51 0 1.02-.2 1.41-.59l7.78-7.78 2.81-2.81c.8-.78.8-2.07 0-2.86zM5.41 20L4 18.59l7.72-7.72 1.47 1.35L5.41 20z\"/>\n",
              "  </svg>\n",
              "      </button>\n",
              "      \n",
              "  <style>\n",
              "    .colab-df-container {\n",
              "      display:flex;\n",
              "      flex-wrap:wrap;\n",
              "      gap: 12px;\n",
              "    }\n",
              "\n",
              "    .colab-df-convert {\n",
              "      background-color: #E8F0FE;\n",
              "      border: none;\n",
              "      border-radius: 50%;\n",
              "      cursor: pointer;\n",
              "      display: none;\n",
              "      fill: #1967D2;\n",
              "      height: 32px;\n",
              "      padding: 0 0 0 0;\n",
              "      width: 32px;\n",
              "    }\n",
              "\n",
              "    .colab-df-convert:hover {\n",
              "      background-color: #E2EBFA;\n",
              "      box-shadow: 0px 1px 2px rgba(60, 64, 67, 0.3), 0px 1px 3px 1px rgba(60, 64, 67, 0.15);\n",
              "      fill: #174EA6;\n",
              "    }\n",
              "\n",
              "    [theme=dark] .colab-df-convert {\n",
              "      background-color: #3B4455;\n",
              "      fill: #D2E3FC;\n",
              "    }\n",
              "\n",
              "    [theme=dark] .colab-df-convert:hover {\n",
              "      background-color: #434B5C;\n",
              "      box-shadow: 0px 1px 3px 1px rgba(0, 0, 0, 0.15);\n",
              "      filter: drop-shadow(0px 1px 2px rgba(0, 0, 0, 0.3));\n",
              "      fill: #FFFFFF;\n",
              "    }\n",
              "  </style>\n",
              "\n",
              "      <script>\n",
              "        const buttonEl =\n",
              "          document.querySelector('#df-9d057726-4539-401a-a2f1-83aa95b211b9 button.colab-df-convert');\n",
              "        buttonEl.style.display =\n",
              "          google.colab.kernel.accessAllowed ? 'block' : 'none';\n",
              "\n",
              "        async function convertToInteractive(key) {\n",
              "          const element = document.querySelector('#df-9d057726-4539-401a-a2f1-83aa95b211b9');\n",
              "          const dataTable =\n",
              "            await google.colab.kernel.invokeFunction('convertToInteractive',\n",
              "                                                     [key], {});\n",
              "          if (!dataTable) return;\n",
              "\n",
              "          const docLinkHtml = 'Like what you see? Visit the ' +\n",
              "            '<a target=\"_blank\" href=https://colab.research.google.com/notebooks/data_table.ipynb>data table notebook</a>'\n",
              "            + ' to learn more about interactive tables.';\n",
              "          element.innerHTML = '';\n",
              "          dataTable['output_type'] = 'display_data';\n",
              "          await google.colab.output.renderOutput(dataTable, element);\n",
              "          const docLink = document.createElement('div');\n",
              "          docLink.innerHTML = docLinkHtml;\n",
              "          element.appendChild(docLink);\n",
              "        }\n",
              "      </script>\n",
              "    </div>\n",
              "  </div>\n",
              "  "
            ]
          },
          "metadata": {},
          "execution_count": 143
        }
      ]
    },
    {
      "cell_type": "markdown",
      "source": [
        "**table slicing**\n",
        "\n",
        "---\n",
        "\n",
        "\n",
        "1.รูปแบบของการ slicing\n",
        "`มี`ตัวเลขที่ต้องระบุ 3 ตัว แต่ละตัวคั่นด้วยเครื่องหมาย colon\n",
        "\n",
        "\n",
        "*   [start:end:step]\n",
        "* หากไม่ระบุตำแหน่ง index ใน start จะถือว่าให้เริ่มตำแหน่งที่ 0 // หากไม่ระบุตำแหน่งใน index ใน end จะถือว่าให้นับไปจนตำแหน่งสุดท้ายของ array\n",
        "*สมาชิกตำแหน่งที่ 0-1 คือ 1,2\n",
        "*ตัวอย่างการระบุค่า step print(arr[0::2])\n",
        "สมาชิกตำแหน่งที่ 0 นับทีละ 2 ไปจนถึงตัวสุดท้าย ได้แก่ 1,3,5,7\n",
        "\n",
        "---\n",
        "\n",
        "\n",
        "\n",
        "---\n",
        "\n",
        "\n",
        "\n",
        "เราสามารถเฉือนตาราง ตัดตารางให้เหลือเท่าที่เราต้องการ แต่ที่การเฉือนตารางไม่ได้ช่วยในการตอบคำถามอะไรมากมาย ถ้าต้องการเรื่องราวที่เป็นคอนโดเท่านั้น แต่ยังไงเราก็ต้องมานับ คอลลัมน์ นับแถว ตามที่ตารางมีให้อยู่ดี\n",
        "\n",
        "\n",
        "\n"
      ],
      "metadata": {
        "id": "s4df6qr2Frs0"
      }
    },
    {
      "cell_type": "code",
      "source": [
        "#การเลือกแถว และ คอลัมน์\n",
        "#การที่จะเลือกแถว และคอลัมน์ นั้นเราจะต้องระบุว่าต้องการจะเลือกข้อมูลที่อยู่ใน แถวอะไร และคอลัมน์อะไร\n",
        "# หรือ Location ที่มีข้อมูลที่ต้องการอยู่นั้นเอง ซึ่งมี 2 วิธี ดังนี้\n",
        "#1. loc : การที่จะใช้ loc นั้น จะต้องระบุชื่อของแถวและ ชื่อของคอลัมน์ลงไปตรงๆ\n",
        "    ## dataframe.loc[‘index_name’ , ‘column_name’]\n",
        "#2.  iloc : การที่จะใช้ iloc นั้นไม่สนใจชื่อ แต่สนใจตำแหน่งของแถว และ ตำแหน่งของคอลัมน์\n",
        "    ##dataframe.iloc[‘row_index_number’ , ‘column_index_number’] "
      ],
      "metadata": {
        "id": "IJxONrhlFGBF"
      },
      "execution_count": null,
      "outputs": []
    },
    {
      "cell_type": "markdown",
      "source": [
        "![1_1C-2_cMi-PUz1Tg5Cscs7A.png](data:image/png;base64,iVBORw0KGgoAAAANSUhEUgAAA8MAAAFkCAIAAACLkX4eAACAAElEQVR42uzdB3wUVeIH8PdmZmt6rxBSIPTeQi9SBKSJBQUEexfbneU89U7v/p569sLZwU5R6VVBem9pEEhCGimb7X3K+392FyJdVIRk8/t+7nMOu5vdfe/Nm/nN7Js3AmOMAAAAAADAb8ShCgAAAAAAkKQBAAAAAJCkAQAAAACQpAEAAAAAkKQBAAAAAABJGgAAAAAASRoAAAAAAEkaAAAAAABJGgAAAAAASRoAAAAAAJCkAQAAAACQpAEAAAAAkKQBAAAAAJCkAQAAAACCkIAqAGgkbD/9VPm3v3EaDaoCrixt27apr77K6XSoij9IlJSvNpl2FzlRFXBlyQrr3SZkxtAYVAWSNEBwsixffnjsWIqKgEbA/NNPVKNp8dprqIo/aP4W8yvf1YRo8PMvXHk7ixwCR6YOiqYUuxokaYCg4z12jBKCzRs0BhwhliVLkKT/uNIaj17NCTx6Nlx5CkfKDSJjBEEaSRogGPm3bYwQXYcO6rQ01AdcEUySbGvWEMYIh9Ool6pb+3RK06sF5Be4MgxWqaTWfeoKCUjSAEErpE+f+Ece8UUZgMue+5w7dtjWrsXqd8llJmmv6hyhoF7hShzOLdtlKq5xI0YjSQM0C0yWmduNeoArsstloohq+DMoCvPKDEcocGVWP6x5fyb8fgcAAAAAgCQNAAAAAIAkDQAAAACAJA0AAAAAgCQNAAAAAABI0gAAAAAASNIAAAAAAEjSAAAAAABI0gAAAAAASNIAAAAAAIAkDQAAAACAJA0AAAAAgCQNAAAAAIAkDQAAAACAJA0AAAAAAEjSAAAAAABI0gDQ9Lk8nqfeeGPqY48dKi2llKJCAJocynGV5SV/e3j6Y3dfW3BwN8fxp2UOnt+8fuV9t1y9dNFc9HEIDgKqAAAaA57nN+3Z8+a8eYSQ6IiIN556SuB5VAtAEzsedjqeeXhG3oGdhJCiQwc//nZjTFxCw7MWU/2/n7m3rqaqpCiv74CRcQnJjCmoNGjScE4aABoFSogoioFlUZIYY6gTgCbHXF93qGBfYLm+trqmuvzUZxXGbFazb0FhouQlOCsNSNIAAJcwTJ9YwM++AE1TdFxC914DA8uprTKTU9PP6OMNvRudHIIDRncAAMCVZCnd/vMhT87QAbHqiz+54y7YuK42qsvgjqmnPsoYsxsrSkrK6gxGs8NLOV1kYmxqUosWqYk6AcntT8cY02p1L77xxdw5L7vdzptmPRQTmyBJIo6NAUkaAADgz1D3bq9BTxm8935X8c7ElIv9o8Ivhg26vVp1+2HvB61PPqaYcv/z5OMfrckzGeotNqfkHx+kCgmLiY5LbNnqxkde/evkrqjuPxWlVJbl8Iioh576j69FZFmSRFQLBDeM7gAAgCsortudsYSQd59/33jRf7Pw5QerCSGdw6NOPmIoWNIvq9OTc1ZW1tlV+vDWI26YNv2mG6eOzwrRKU5j/pYfn7i2W+LYfxfbFIzA/7PDNCFEliTZf7UD9UO1AJI0AADAJeeLtcPu+qBbKCH7Xnjq+5qL+RvP0QV//9xLaNSjf50ZG3ioYs2kYeO3G0mX65/6fuOB48eP56/6et7cL7768of8mprywp1fvPnMoKzImuVP9Z36jMWLySIAAEkaAACaPEoZUScPmTKuOyHkp5ffN8i/mr2ljR9/e8QrhWdmTRvSiTBCiLzo6Zs2VRMy8u87vnlxZJfUEwn95H/UsVlT7v/HhtytD/WJMhvKZBknpQHgksE4aQBoYkRJKqmoKCguPlpebnc6GWMatTo9JaVNq1Zt09N1Wu2vvwVjoiwfLS8vOHq0uKLC4XQSSrUaTWZqambLltmtWl3Um8ClydKECLpbbhn/4sK9h3M/XX3g3pu6xV3g5bKr4uNly7yE9L/mlY6BF9oPvLLASUjkU7dOVfuyM/VPEHEiqDe0ONO0fX2b8XVU+J9+bETNpvrF8z/1uJ1jJ89ITm31+2aMNhsNR4vyykqKao9XKIwJghARFdOyVevM7I6xcYkXM2KE+d6k7sih3IpjR2trKhVZEQRVTFxCalpmRla7mLgESnEyEZCkAaCZ7aTrjMZn3nxz+caN9WbzGc+GhYRkt2r1z4ceGti9+4XfpLym5i+vvLJl3z6DyXTGs+Ghoe0zM5+7777+3bphfOdla9iU0TPvSPnPG6Wlby3YeFO3yRd4ac2al77a7yRk6JP/GHRiB2aoLORFQqIiw/WEnafRfA+zExOvnQjb8OekCpV67YoFb7/8FCFEkqT7Hn9Bln5bkpZlaeXirz565981xysk0Xt6M3LJqWljJ8+YceejKpX6Am8iSeK3c9/9dt67tdWVsiyd+hTH84nJLcdfe8vNtz2s1mjQZPAH4YAMAJoGxlj+0aNDZ86ct2RJvdnMURqq10dHRERHRISHhgqCYHM4duXljb/33vmrVl3gxi578vP73XTT4p9+MphMHMed+iYqQbDa7dv27x9/330rN23iOGwhL1PTEpL2/Ds3E0K2/evddd4LvNT0wT/eJ4QkP/mXEaH+s46EEG24hvKEOKsN5gvOUUwb4hiq/E88KiLE43IFlkXRS37jUBpJEj9868V//PWOyrJiSfSqNdqw8MiIyJjwiGiNVseYUlle8r83nn/87ilWi+l8b+JyOV95fvYb//fX45XHZFk6+SbR4RFRWq1ekeWq8pL3X3/uyQdutNusaDL4o0ePqAIAaAK7Z0qPVVXd9swzJZWVhJAOWVm3TJjQr1u3lklJlFKDybQ7L+/LZct+2rFDlKR7nn+e5/kpI0acMU0DJWRfYeHNf/mL0WIhhLTLyLht8uS+XbsG3sRoNu8pKPhmxYqVmzZ5RfFvb745sEePML0eg2ovQ+syQiLGPH9v1gfvHln3xL927Xyu5zlfWLP82X/vISS87xf3D/cFcH8mpont7u6ofm6L6d3n/zKo0xcTusagRpsoWZLmvPGPuXNe9h0fafWjJ0wdMnJCRlZ7nT5ElqSjRXlb1q9cumiexVy/dePq//v7/U+/+F5IaPgZb+L1et586YnvvvmIEKLRaMdOnj74qvHpWe10uhBJEo+VHN6yYeWy7z6vr6veunHN9k1rhl99LWoekKQBIMhxHPfi++8fOHSIENKpTZtFb7yRGBvb8EN+VHh467S0ySNG3PP889+sXOn2eu95/vmu2dkZLVqctosVxSdff73s+HFCSPf27Re+/npcdHTDs1Hh4ZktW04ZOXLphg13PftsTESEShAQoy9TlmaE0KQ7nrh77u3vH3xt5tb7c3Niz85Zhg/+vdpDaL9J0/skqEhgjIbvD+Oeee/5D7s8XHF01ZQ+LUff+n9v/d/drSJUqNUmZ+fWH7/+9K3A8tP/njNq3A2njrHuGTOkR5/BA4aN/cu919ms5nUrFnbrNeCmWQ+Jp48A+eHbjxd9+b/A8pMvvDN6ws2n/gYRHRvftWf/a2+664Un79q/e7M+JAzVDn9094QqAIDGvp2idOOuXV8uX04I0Wu1b//tb6mJiWe8JnDd4VtPP53TpQshxOl2z128WFZ+2Q0LPD9/9eqfd+0ihMTHxLz99NPxMTFnDAIJ/HPyVVeVrl27fM4crUbDMPnwZYrSvkzcdsy07i15j6Pog+92nz201lywdV7+IaqKHHfLdVr+5GAN6ms1rvPstYufy0mLlrzOpe8/mB6pTu03/rF/vbnw+9W78ovNLtwcpAnwej3zv5jj9bgJIbfc9fjYSTcrinx2B+zeZ9Cse54ILM+d80pNdcWpQ+ONhpqFJ2P0XbOfnXD9reccypOUkvbB1+uWbizuN3gU+jggSQNAsO9iJenrFSsCy7MmTerTqZMsy2dcWUYpVRQlNCRk9owZgQS8dutWh9PZ8AK70zl38eLA8r033tijQ4fAbSPOeBNKqShJapVK4HlFUXDR4WUM00yb1OvhCV2J7J0/7yOj58z58NZ/8+/DRqLr9OBtQ+PoKcNvKaWMsexrnl2+befKz18a3zudo6Ry65JXn35oyqRRw4YM7te317SH3i4wOFDHjbfxOa7i2NGDe7YSQuLik66ZMlP0ehvu83JqWxNCJt5wW1Z2R0JIbU3l1o2rG6bgoJTmHdhVWVZMCGnTrst10+7xejxnB2X/tkL2eDwR0bFnbwQAkKQBINjYnc6Nu3cHlq8eOJCdPHl8rh2k0qVt27ioKEJIaWVlRXU1d3I3WV5dvTsvjxCiVavHDRmiKMqvnovCLvYypylC1BNnP5JEiH3j8i8OnRF8937xui9mPfL2s/GEMHKOgBWRkD7q5r/8sL1Yrj06f87Dw7PT42KjiaOu4MD+L958oH1c++eXluL0Y+PE83z+gV0Ws5EQkpqWFZ+Yct6My1hUdGzOwFEnVosdGxvm9+B4fvf2DV6vhxDSpUc/fUjo+d7kxIM4Gw1I0gDQHJitVod/NoCUhISstLQLnCpmjEWGhUWFh/v+ymY7dvx4YP4NRsixqirFP9gjOz29RWIizjc3Qr5gk3HTe7e2JOTY889+6zrlqT3/vH+BnUT0e/6RHEoYO+9Md4GDrNiMKXf+d21hcW35kS1rFvz3n48N65hASdlz17R76N3tEuJTIzyKorTo0MHAcuceORqN9gJ9XFGUDl17B/55OH+/x+sOLEuiWFyUH7isom3H7hzHo48DkjQAAHG4XF5RJISE6fV6rfYC55IppSpBSIw9cbVa2ckkTRirNRplWQ68iVqlQppqlHHK1ywjnn2lMyGm7+/4+MDJJ5z7n/jvXkKi73zguqizTkifI043jHnXRnXsN+7hp19a9fPWB3u0JMT91ievG50SqrqxUWTZbDQElqNj4i9wzxRKqcKUqKiYQDvbbBa3KzCIi3o9HkPt8cBySGgYYjQgSQMAnL4TvZiNGsclnEzS58zcEeHhahUmdmisLcyYLnnC+IlphJC3//uZf4SHkvf9Zxvsrsg2vWeMbEMu8rYqp8YoyglR6X/75zDf8sHyXKcXFd20uzljIWHh+rPmv/P3eBZo/LDwKNQkIEkDAPxmsv824IFl/ly3VrHabKKEs5KNNkZRKqhmzZquV5HCVW9vLrEzr+uTz770SqTXzU+3j+bZ7z3PGJvYyfcfj8et4AeJJr+OWCwmh90aiN1nn3tmjNltZlQUIEkDAPiHPoeHa/039a23WKwOx4V/tBVl2Wa3B5bTkpMbJsKLj47med73Jlarx+PB776Nt8UJzRh10/BIHanO+2rlEU/NwtWrawjp9uTsARw5O0gz0Vx9uKjG4ZUv/Lb5u5f7/tOxRWu9GpXc2Pq4IAgJySdmf6+qKFUU+YJJmrOa6gPLOn2oVhcSeBu1RhufkOJfhZjZVI/p7QBJGgCAUErDQ0KS/AM2ao3GgqNH+QvexLu2vt5gNgcmjU5PTQ1cZUgpbZGYKPiTdOHRo4dKSzn/MjTGFmeEaNq9+/JoQlzzXnvp2b8+fpCQ3v98b2g4OUeQJvLm1+7LbpM4aNoTy/dXne89HaU/PfmPXYRwV40c11KPUfKNro9Lsty+Y4/APwty954c+ny+PyC7tq4PLHbvPVCt1gTyuEqlTsts41tUlIN7t8kyfnoCJGkAAEJC9fp+3boFlpeuX3/hXfL+Q4cMJhMhJCM1NSUhoeG8VMukpC5t2xJCFMYW//QTrkZq3FGapN7y4rQkIhd98/LXtSS8/wv3dSHnDNKE7zb52jZ6Yc/8V67pkZo94O4le0rlU8dveO2bPn9iUPdhi8stqpbTXnvhVg1P0PaNjSLL2R26xcYnEkLKS4uqj5dfYP0wGmq3b14X+EePvoMF/2UPzD+yq0efISp/sM7bv9Nus6BiAUkaAIDwPH/tiBE6/wCPL5YuXbdt2/nmiK01Gl/77DNRkjiOGztokFatbkjS4aGhN40ZE1j+cMGCLXv2nO/HX0VRjpSVFZaU4NfhKxWl/bmo3T3PTOUIY4zm3DBlSLiWnetaNMZIRJebDh1bP3tyn/TYiMOb54zvkS7wXERa64yszFYtQ6kmbOD0l/aKsV3GPLa54LOOOrRqo0zSihKfkNyz7xBCiLG+dtGX/wvMtHM2WRbnz3uvouwoISSzTYeefYewk787MaZ06NKrRVomIaTkSMG3895T5POOErFZzXkHdtr9g60BkKQBIMj3sr06dbp36lRCiCTLD/7rX9sOHDg7VB2vrb39mWf2FhQQQtplZEy75hqO4wKZmzEmStLUsWOH9O4dmGr6nn/8Y29hIXfWQBGny/XC++8PmzVr8oMPGkwmnLq+UmGaMdLr2iduz4nmM696+pF7hfOcSA7c4JDE9n9t4eaNmzavWzL3xYdvy+nflSs7UnK0+Fh5RL+RE554+ZONW7ZsXfJyL70veaNJG+kBsyBcP+M+jUZLCFnw5Zz3/vv3wG0Oz2jvpYvmzfvwVUKISq255+HnIyKjG46NGGOxcYlTbr478M9P3v2//735j8Dtx08/+mK7tq2/b8bo+2aM/nHFQtQ8/EECqgAAGjnGmCzLj86cuXHPnh0HDhwtLx8+a9ajM2feMnFiZFgYpdTt9W7es+fJ1147XldHCNGo1f/3yCPJ8fFeUQxE4UDe0qjV/5o9e8pDD1XV1R0qLR00ffrsGTNmTpwYHRFBKfWK4sbdu5/473+rDYbAvB8NVyvCFYjSlAjxnedsqZ9DTs5udp4IfPJoh0/MbJeU1X7YuOlPnXMdOu3F0Nia29cunbvn3PHg395++W+KLM/74NVdW3968ImX0rPaCrwgSVJtTeVn77+8buXCwOuvGjMlZ9AoSZIa2jSwcO3UO/fu3Lhm2XxFkT9576WdW9ff99g/W2W2VanUsiwZaqs+efc/a1csCMyYeY6wDoAkDQDBt5dljIWHhn78z38++p//rNq8mRDy6qefvvrpp1q1WiUINucv1ye1Tkt75fHHR+TkBG7mcsabdMnO/vjFFx97+eXcoiJCyOtz574+d65apdJptRabreHFrVJS3nr66dSEBPGU/TRc7nY/Oy1fRBr77c9BozlglqTpdz6u0eo/fOtFi7m+IHfPPdNGEEIiIqMDNxIPUGu0k2+84+6HnxVUqjMG6zDGOI576oX3IqPj/ENEpNx92++ZNpIQEhkd23DzF/+YMWHSjbddPenm896WHODiYHQHADSO/SghWq02sKzXarnT922BXV2rlJRvXn31o3/+MyIsLPC42+ttiNGU0vtuuumnTz8d3rev5B8fSc96E8bYgO7d13700WOzZgknp+/wimJDjOZ5/um77to4d+6QXr0kWUa7APzWjqzTB6alI1qd7ow+yHFcTGwCIUSj1apVGnJKDj4xUIex66bd8/H8n3v3G97w1KkxOi0j+525qx568iWdPvTsEEwpVRRFHxL66N9efeuz5S1aZTU8dWqM7tw95+P5Gx/7+2t6fSiaDP4gnJMGgEZBkqSBPXq88OCDJZWVvpgrCGdfGsYY43l++vjxN48bt2br1i179uwtLGSMtUpJGdSz58j+/aPDw10eT2D/er7zTIyxUL3+pUcffeL221du2rTtwIFDxcV6na59RsaAHj2G9e2rEgS3/01wKhPgtxK9nmumzKytrnS7nDfNmi3LUkPeZYxFRMY898on8+e9N2LslNiEZFk+7TefhuUWrVp/+M3akqNHNq5bWnToQE1VRUhYeKeuffoPuTq7Q0evR5L8N1c635XHgc7bO2fYkg1FB/Zs37px9ZFDB21Wc3KL9PadevYfMrpFWguXUwpMk4c+DkjSABAs2yOef2zWrMDksoqinL2HCzzi8XoppcP79h3Rrx93cg+tKIqsKC6P51d3jYEdrdPl0mo0144Ycd2oUYHXK4E3keXAyEvsXwF+h8BtVu577AX/4bF4RkeWJLFz95zuvQbKPtL5eqiiyC6XkpTS8saZD1DO3xkZUXxkl9Pzq+MxAs9KkijLUttO3dt36clRzn8ren8nVxSH3YNBHYAkDQBB5cTO7+SAigvs5E4EX78/8lmEENmfv8/3LAD8zo4siWf3phNnphVFVLwX08f9lxpLRCa/r4c2fJx8rlsmopvDpYJx0gAAAAAASNIAAAAAAEjSAAAAAABI0gAAAAAASNIAAAAAAIAkDQAAAACAJA0AAAAAgCQNAAAAAIAkDQAAAACAJA0AAAAAAEjSAAAAAABI0gAAAAAASNIAAAAAAEjSAAAAAABI0gAAAAAAgCQNAAAAAPD7CagCgEZFrKio//RT1ANcGTyPOvgzHDeK6/ZbCGOoCrjcKDFYJIp6QJIGaB5bPGJdt86ybh2qAq7gSgiXFmNs6yGbghgNVwhHqcBTrIFI0gDBTNu2LafTMZeLIsrAlaYQEjNjBurhj2vXQvfdNjOlnMDjIAWuMJ6jbVI0FKvhpUYZjlEArjTGGKXUsWNH1d//TrVaVAhc4eO67OzkF16ggkCx1/1j/ZoxsmibefcRJ2oDriyZsV5ZIdf1jwrsblAhSNIAwRmmUQ8AAIAdDZI0AAAAAECQwyx4AAAAAABI0gAAAAAASNIAAAAAAEjSAAAAAABI0gAAAAAAgCQNAAAAAIAkDQAAAACAJA0AAAAAgCQNAAAAAIAkDQAAAAAASNIAAAAAAEjSAAAAAABI0gAAAAAASNIAAAAAAEjSAAAAAACAJA0AAAAAgCQNAAAAAIAkDQAAAACAJA0AAAAAgCQNAAAAAABI0gAAAAAASNIAAAAAAEjSAAAAAABI0gAAAAAASNIAAAAAAIAkDQAAAACAJA0AAAAAgCQNAAAAAIAkDQAAAACAJA0AAAAAAEjSAAAAAAB/lIAqCBqMsf+tNpTUeBhDZQAAAABcGmE6fkKfyE5pOiTpYLbziPP9FXUhWo5SitoAAAAAuCRkmeWVub56LOPspzC6I3jsLXaqBIoYDQAAAHAJ8TzNLXOd8ymckw4egv+wSFZYv7ahI7pESAozGAxhYWGI1gAAAAC/BXU47Hq9PipM/8yXFZRSnqNI0s1FuI4f3DHUK7FjZca4WB0hiNIAAAAAF52jKTGZ3JEROqesufArkaSDECNMVogkM0UhsuJ7AEM+AAAAAC4+S/milELYr03jgHHSAAAAAAC/B5I0AAAAAACSNAAAAAAAkjQAAAAAAJI0AAAAAACSNAAANE2nX4TOTn0i8Bxt+Oel+6Czr3z3fRphNPAV2MV+GGMnXkoDX/0Pf8lTKsJfdv8bMsKwngAAkjQAAJwZRSmlksdjMpnsTpc/OrKGTE05wVBd+N2a9dKl+ChKqdtu2Lpjl9Ujn3MWTpVKKNy2eu2WbQrHXWQmppRyzLN62XdfzV9odkqUXsIsTTVqsuyLz/OKSymhiNIAgCQNAACn5WhCOZul4sUX/v7MM8/85bFn8kuP8xzXEKYp5czmyq17DyiUnH6++ney15d8s/CHOrt0zunsOZ6vOpq/Z/9+dtGz3VPKGY7tXPTD0l79h4Vo+Uubd3k1v3vpimOVVQSz7wPAb4E7swAANIscrRXIm6//NyJj+Av3XFdXusvAZMnjOFpaZnM4w6MTMlumBSIkk6XcgsOtslprOeXosbK0Vhn2+kq7R/DYTRKna5EYeexYhSYyvk1aorH+uNlBqMds9XCt22Tp1Txjv9wHKjK54713RrWMVhXkHQyPbWGuKxf0kVmtWhBFLC0+IvGC0ysRSighFmNdeWUl5ULSW7cSrTVHK+o7d+5cfbjAqYtrm57QkPUlr6c4N0+SJHONuVVCWG318crjBkEfkpHWKkxDtu05GB0VzjPB7nJkZLUVFGfB4bKOXTqJDlNeWV3HzLS6qtJak0OvD8vMSiei61hlpYqjsioqNUZ7qLgkOjEGERoAfgeckwYAaAbbeo5z1pZtyjMO7t1ddDujkjtmJ6duXvf9yh83meprvvr0031F5b4QTDkm2uZ+8XWV2eFxWhYtW2xySwf3//j6x18WFB/9/MO3Pvty4aHDeW++McfklQ/nbnpvzoeHSornfvje4g27BUE4NYya6wrfeH9Orcux+Iev3/nsm7zDhR+8/XZxrbVk/0/vf/RlQe6BvfmHVTzvMpbOeW9OXmnF1nXLFy7eyET3vE/nrFm/4X/zvrSIyqlvqMiS1e5hCjNbLaWFe+Z88m1lXd22lfMXL11PPPX/+r//+3r+grwjRYu//XRvcXXNscL/vvzvwjpH+aEdS9esd9jq9+7MNdbXfffNp7uOlLss1R988M78H5YeOpy/duFXC1b9vG3T1lJKsUcEACRpAAA4B9EjUV7NExUhhCmK6LHvPXik54DhI0eOa50Wn5tXTPkTuVUlBJYozwvUPxSjZdu2E8ePTYzRJvQeMPnqoeHOoiqblzKlZXrLseMntg3VVh7ZLxH+jE9UCb4/5yht163PDRPGxIaTMqNl/7qNqdntp9w4vWfbFjIjRw4eLDpcXH7kaJWhpnDPwbDE7GtH9fn644/j2/fr2z5VUU4O4mBMrQ/t3ClVreIHDex58GAujW9zzZhxY0cMrzq6zytJPNONGTd1zIgRGS1TdxQU1dXVpISGfrkur6K0OjMxIz4xpUfvDnqtVqvmSi0mniOhYbE33HzryP7dtu4p7D983C03TYlVmIK1BAB+I4zuAAAIfoyxiPjoGMl63FzWhcbJotvu9lBfomaMMIURzheavcR/+lphRCJMFj2y6H+EEr1GoJQjnCo8Qs8YoRxVZN+7qtU8R6mWECu74EeH6hihxH/Ol+cpVRhRmCT530ImKn3MjTfP1PESx6t0at5psWm1ocZ6o3JqsPVfYBiIuoqiUN//+VK27FvmKaGUqkJDwniO9unR7q15G/a0S51w/bA3Ppl/oHf64LEdK/J3vfXp/KuvniBwXGDuD71eGxEewlEPxyiViSIrUsPUJQAAFw3npAEAmkWSljQxd915/dJFXy9auvLT/71VcNzWITVt3ZKFq1b9sD+3qHePNkxWCFM4VWiHcLZiybLvv5tXXWc7Meucf3I46kux/qXAdYKMEsYTxvwXKZ47hbKTn+57NSOKQrqOHJK3Y//Hr77x44EKgaPZ3XpGR7CF3361c8vSH/buKSvcunR72exH7/GUbl61q5jjubP2WZRQoWuHdPvh9YsW/7Bw4VetuvbX+IL+icns0tt2k11lBbXODr2GCexYaXlZy8Ro0Ss77cxlN5ZX1QXGXfuPH5hKG9KzR9rKpd+98NKbSqKGMczbAQC/Df/cc8+hFoLD3mLn7qNOjqNZSZp+bcNkhVmtVr1eH5g9CvUD0Jz5QrAsJ7fumJ0YcaSoqG3O1X3aZ6Z36KDlnEdKaiZNv7VtywRFIlpVaGZ6q4zWGVVHDrXrN6lrRnJicrKWKBFRSSlx0V6PNzU9Kz5EKxK+TXZ7nYrXhqa0SI0TJFdESpu01ARFltlJHCfIitCuTRsmSmmZ2fHhIR6vkpGW0Tq7fXIEJ4bH3nnjNS6iyW7fpX/3jtXHSx3u6NED+tVX5sVkDRsyoEu0oDHUWbJapzGl4T0JITqZD2vfITs2JatjZnJ+fn6HARNHDu7JMU70yu26dArVCoI6NF7nSm/TrU3btil6e1KXoR3TU6ITk1LiaXm1o1/fvsmpLRIjwmWiadUqTeD5rLbtebuhfZ+hI7pkqSPT4mPCsbkEAEKI2+3WarUyE77fbqKUeiV29+i4c2xdcQgeND5aUzdnlUHg6ahu4Y9NTPKISnl5eWxsLJI0ADTgeB8mS5KsEEIEQeA4TpZESVY433NUEiXK8YJKUGSJEKrIMuV4SpgkKyrfg7LCmKBSyaJIOJ6jTJJkQaVmsnPt2h/rjdbApwgq1ZBRY+LD9ZIo8YKgKLKiMEHw/bnMfAvUPzCDp1SSJMpxgqAihPmXeZ4yryQLgiC5TStXrbY7Twzy0McmDR3YL0KnEUWRMcIHCqLIkiwzQtRqlSSKisIIpYKgokSRRJlXqzlFFmXZP6pE4DjfLo/5ykAEgZckyT/ZCCeoBCbLjHKEyYqsYCI8ACCEmEymiIgIj6K55Y1iSqnNJe97vf3ZL8M4aQCAZsQXI/3JMkCSTtyJhVLKmOL7l39B9HobXsP8Y6Ip/eXFkiieeC//H0qSSBQuPaN1UrLn5FkaqlPxoiid+hGBBV+GbniEBD6OieKJj2OypPhfI4mSQoTWbdqLJ28VI+hCBcpE/0dTSvzp/ERBKCGiV2w4ayBLYuBRWfQ2FFX2RW5yRsH9r2cnikOUwDfHSgIAFw9JGgAA/hBKGOH4zMys0yK7opw6vfRvfk9KeEHXJrvDme+J6wIBAEkaAACCKkv7Y+5ZafiPht5zvCcqGwAaE8zdAQAAAACAJA0AAAAAgCQNAAAAAIAkDQAAAACAJA0AAAAAAJi7I7gxxiRRbCa3Zfkj8201If65eyVBEJrJPZWaSbOi7M2nsM2qpM3nvmDNeUsVxLtbSZIoknQzJ0mS3eFoDt3b4/E4nc7o6Oigz5c8zxcVFbVu3Vo+9SYTQUqWZZfLFRoa2gw7ryiKVqs1Nja2ORwy+bZUdntkZGTQl1RhzGwyRUdHN4djfovFolardTpd0K/DgcJq/IK+ZZ1OJ8dxWq22OWyHvV7vxcy7iSQdzLRabWJiIscF/xgeh8NhsViSk5PPnn026JI0V1FRkZSUKMtKc9iK2Wy26OjoZniyx+12cxyXlJTUHJK02+1WqVSJiYnN4eCQMJaUlNQckjTP8xqNJiIiojkkaY7jQvyCvmUtFgvHcWFhYc1hO1xfX38xay/GSUPwaCYDHoL+aAGaYc9tJp23+fTfhgZtPi2LkjZbSNIATQxG4wEAACBJAwAAAAAgSQMAAAAAIEkDAAAAAACSNAAAAADAnwKz4MGlxBgTRS9jVK1WBf2FcYwxWZYI5QWeC/aSKqIoKgrRaDXN5mpHJkmSJCsqlYrnuObUhRWvVxRUKo7jgritFVkWJZH4p4pVqdVcsG+sFEXxery8oBIEPojLKkteUVICux6O4wRBCObdEGNe0aswogr23nqiw4oi59sc80jSEOT74GOH9m/anS/bHK17DujXqwMJ4rlymFxecnTz5s1dh0zq0DJSCd6CUkrLCvds2plrsRj7jpzStU1L2gxWZaupctnyLTzvUce2GDN8sJprLkcQdeVHPvlq+cQpN2ZnBvPszubjhSvXbtBHJqtDwocOHawT+OAtK/VYjq/YsEN2S7EtEwf06ResRaUcV1dauHZXYahWS701NDRz3NXDgrjfVh3ZtzGvIoxJ+qQWA3v34IN3GyV5HWuW/2jzSG4qTBw/JkLLN7b9LUZ3wCUjetybNxUMHDpq0pRRq5YssHuC+TyP7DDlFVVqXYrT6Qn2VMn00Ymjrpk0YeSQ7z/+1C0G/0yijBCqChk6cvjokaNqD+ytNInNJEjLXvfuvfvDQnT19U4SzN2XyqIjMbv1yJEjBvfvqw3q35Qo8877cG5ih5wx40b16NwliIvKFCU2re34sWOuHjtWby+XQqOCudtSZduWDb375PTrn2MsLHR6xSBeh4/t3G0kURMmjOmgrftk7R5eaHRrMZI0XMIDR1GJCUlKjI5OSkvj5DK7NVh/WWOM8aGxo0cOjgkPoYQGe5AmsfGpMVFRkTGRJkXhmkGopJSGhkbGxUQKguDm5NhQvlnciIByxw7tMkuJqbHhrBm0MeF5QjmVSh3cBXVZqguj2g9Ij1QY1ai1wT2MhRdU4WFhIXLdJz8eGzuoRzAf7DNep4spOHLc4TI7dQlalcp/BiA42U1WfUJESIiuS58uRasL5Mb3DTG6Ay4ZhXn1lHCEMsJFKJzVI9PgTVrNplUDZWVep/m7RQvHjrtdK9DmcIMrxesqKjpyJD9fE52mKDIjfNC3s72+bOGKnXc9cPfqBSVe0csYC+IRpvrwRNvOwvm5X9Y72dSbbkyODg3WdVr2WEM8NT+v+/Zgqdnmjbz39hv1Gj6It1aUKMuWfjtkxlMRKuLysiDdVlPClB59ur/99eK87eq+g0dRyoL4xGh6v057vt6wxFanFSs5jUIb30EDzknDpVuZOJXF4pUURmWxhiiJeh0jQR65/Cekgz9WiqJrycqVke2vvnpoy2Zyn1hOrctq237UxAkJGtOP+0v4YL+olKPsUOGhhKz2hfv3VlZVlpYddXuloM3RjIVEt5h4/S0zb72tS7RwqMwcxNeUcmqd3aseMnb6PbfNkozl9Q5HcJ8GsJsNBVVhNw9r7RaVID7loYjuZct+vueu+++7c9aRvP21JmcQn94Jj245dea1fXv3TA6Rk7tmNcLOinPScMmo1NoQryOv4EgorauPyGoZpVUUJWh3xrJYXV1rtFm9xhqrPTw0RBe8B0jcwe3ra+rp+N7RlVXVsTGxKiH45yo5fni3lUaFqqnZILfrGh70xw+KzDr3GpjtclNOKS0siElpqVEF85lLW32N0e5milhicQxPCg/iDZUuPCnBfXzT7sORnprwiJTokJBgXpUpLSsuTm6VHhLs2yjKZCtT7CYLUXs5tRzc0wu5HNbqWotA3Es319187w2KrDDWuK7jQJKGSxU+mEqtGXXNiAO5+SaV7q5ZUzhFYSxYf1wjimgvOFSoa9lSsh0vr4ltl6EL4pbVhagzWmgKC/I5bWjP8KigT9KE0LDYlJKDBeUi6zVyVNusRP+6HMzX4DFCVSq1SqXhKOuV00sblRLcE8N5RfeRokOM8MOumdIqPkwJ2salhNfdf9esDVt3O/W666aPD9EE9TglpoSERQ3MaRPYcAXvhTqEakKmTrg673CRoKL9+g+NjwzxH+3TYG3W0tIjjHBTbr21RZROVhpdyyJJw6U6F0AZI5GJKYMSU37p7UF8xaE2atiw4ac+EpyFZUwhrF23q9qdsR2nwZ6kY5L7D0luaNzAJWpB3X9PtLbCaHp25+BuZsZYTGLa8MS0X44jgvochy4y7uqrRwf5lupk2Vq2DvIYHeitjJH41Iz41Iygjxa+FTg0aujQYY15BUaShku8Mz7fP4PssOFXHwnaopKgj9Fnr8m0+RwPN4dmPqtBaXNp0+BemU8pW9D32Wa6UWqsBccVhwAAAAAASNIAAAAAAEjSAAAAAABI0gAAAAAAwQZXHAYhRSFGmyTKzOJUBIuHawaXJjhdXqtNVFs8LHgnhg3ged7iVOrMHlmWg75ZRVG020WZczenm0qe4PF4jHZJa/YwpgR/Yb2ixS4JZnfQl1RWFJND1jaDkhJK622ixsN5mIcE+3Ts1F9Yl+R1ScHfslabl+M4j+JuDtthk1UMkVW8iiFJNy8cJVsP2feXugghkiRxXFVzKDVjTFEUni9vDoUVxVDVnrJmcGtFX7MyxjjO0Qw7crNapf3trHBcZXMoqywrPN8cSkoURaHUQam52RTWRakp+EvKFOo7dmguzcrzDv7X7nyDJB08NCouMIWzy8tcv9zpV2k2FUCbTWEF4lWa06qtNNc+TdF/UVL03yZ0mESawxmO5lXSwAqs+O+YwTSqc/86inHSwWNsz4iMRA3qAQAAAOCSHTowFqLl7xwZd+6DY8YY6ggAAAAA4LfCOWkAAAAAACRpAAAAAIDL5WKvOPSIyp6jTpO9SU68FarjumfoQ3V8wyOyxeLYts1bUUG4pnYswZgQFxfar58QE3PWM8xz6JBj504mSVizAQAAAC4JVXx82NChnF5/9lMXO076P4uqv9poFPgmOasrY2Rsj4jnb0pueKT4+usN8+c30SlqGSHhOTnZP/9MhdMOhFwHD+Z17qz4rwwHAAAAgEsVvRJuuy3tww/Pfupiz0l/9bMxRMs10fsjKAorqPxlFnHZ4XAfPsw35RZ1Hz7sPnJE17btqQ8aFyxghPBY3wEAAAAuXYymhFR/9NEfStKBu/gwxrqk62PDhKYy34fFKe8tdp6ohrMTNiHRkyZRtbrpNCar//Zb7tfaW5OeHtqvH8Z4AAAAAPx+lCpOp3nx4gucSP7Nd2aZ3De6dxt9U5k6r6DcfaDUJcvn/roKIS3eeIOPimoyLSrLdb+WpAkhoQMGtPr4Y8XtRhcAAAAA+L1BmnorK82LF5NLmKQVxmSlydxFX7ng96SEMEkiTefcLZMv7opPxppWuQAAAAAaXe6i9Fd/4ccseAAAAAAAv8dvPiftsDvMZrGpnJO22cQLnD+nhJgtFr7pXEbJZDnwXRlj8q+dn2aMuVxut8fdRK8T/a3ouQfDB2VJKWsuZW1GzdrMG7o5NWszatTmtFlGXw02jDGe48MjwuklT9KiJHo9RGkKUZpSKskXOifPCOHEGupxNpm+qiiBBUWWHDZr6K+9vr6uPFQjBn+SpsTj9tqdzriYaOVkFQXtsa8g5BcWtW+XJYly0DerJMkulyssNLQZpi1RlMxma3x8DFOCfQdNqdfrdThcUVHhQR9GFMbqTebYmOgmM0TyD+x/zRabSiWE6HUs6AvLUbPZptGotRp10G+cnC43x1GtRhP8m2FKbA5RrWkr/FqI+s1JWq/XhYXrFKVpJGm93Uuo4wKvCQ9V8WFNZ9U/rd5/vQk4yiLC1ZQEf5J2CkxSuIhwtSIHe5JWqTiqRIRrJa8Y9FsxryhTJkaEa4I+dpxddreXc7u4yDBN0B8cUo66nESWPZFhmqCPXIrCnE4+Mlwd9AdIlKNeL6dR8+HhGhb86zDn8Tj0OlWITt0Mtk4S5bmwZlFSIkmSrLBfDcrC7w6pQXTk3HRGd/zOnOlfI4J/nacnyhnEhfXnDP8aS5tHs54odTMZoXTWOs2Ca2N7vlX6l4P9ZtDQgWMFSgkL9v5Lf9n/BPvGijJGWLMoqW/9ZaT57IDoxRUSVxwCADTmLAIAAI0XkjQAAAAAAJI0AAAAAACSNAAAAAAAkjQAAAAAAJI0AAAAAAAgSQMAAAAAIEkDAAAAACBJAwAAAAAEfZJmsuz1es95O1/GCKW0vrKitLycMNb47wQriaJXks9ZFMII5WlJYV6t1Ul+9/0GGxPGmPIntcmJd2aUEovFara7WMO9vX79b33/53LajXaX7y/8f+V2Ow6XlImN7E7gJyvwzHIpimI02zyifKIPMFZccuxQrZVy9Mre9dr/XZRL0ugcT/L35FcZzGfXidxYerrvO8iS9/CRYrvnN9xZ3e0y7TlQ5FEudj1XAoX97SU2GU079h1TOHpZaoLU1VQX15ooJRe/EgZW79/cmP5boNnMxvxjxxVGGs+d3hljXlF0ebxeSQmU6nxduOlu0t1e0e0RXR5ROtcNun8pb1CUmBHmEX3lDfzPI0qsMa1vF09Rzr1ZPv/6qRwrKyups7Dftxs42bUv8+ZY9PU+0Ssr/j3RyS3nH9v/BkmSppRWHtzz0Tsfu6UzC0mIL0gJKj53w5rlq1f7b8vtv81xw7b2tHTFTv/bk+9/xr/Pu2JcArxKtXnBvO9X72SUOyNDB+4ZyanpD59/sa+kgtBT7j7W8PHn/B6/PEh//Z+EnRp5zvWyS8ljM69dt9mtcL+hZs/3rU5/JcfkzVv3FdU4OA2/4fu1P23Llxg9rcbOeOcz/lxQFe3f8P2GfPnE3dx5U33ttz+ssYvS5Yuc54+iDW3PvO4t6w+4RXZyJTnB63EtX76xuNwfnSkllP2waMWS/cWcwF/h3s7RssNFucU17BzhjV4ghJ1dOVTLz3vpwy0High36vpDJbtl9caD9l9yKD2lE5HL23yUUM7ttn3zzZJKs/3X2zpQLo4z1R5+9d2v7dK51oRT13/CKGF7dx3YU2ziee7Mmjpf72C/3PK9ND//pY9XioLwm7dlF+w+Z25hGPMtcnTPjp3L9xRyvHD+Ep32OCcIRXu2ldVYCP21jzjt3Xwfx6n4ksO5n6/crNBT77Z75QIcIwqT9+4+8Pnn33/+5dKPvl6TW1RBeMFeU7F1z2GlofgX3pg3eqLT8vrb8979YsX/Plq0YPlWl3hqN2S+7mCs3bIzz8voydW1ad9EU/F616zd/MW3y1995/NPv12xdN1uUQncg52euzUbZbNSjivL31dQXH1KRzv5/WVpw5YDlfWuMw6AKVFWrVq+Zu/hM29lfY7NDj3HUzxfsGtbrcV1merE/xG11dWffLzw8/krF67a4WXkaGHR9sJa35bzjO/MLi5vUGquqd607xil9IIBjFyGKHVpkrToMpQU1yuM2qxGh8NtMtabLTbKcZRybqfNYDRxvErt31sosmSsr683WVjgKZOZcZzX7TKbrcovqzrjOM7jsVksdpvVYqg3KhyniJ56o0lSmCR6zGbfcZjNanS7vKZ6g8PlYbJoMBi8kvTHg4a5sqSiql5WpDqD0e2Rag1m38aI+r6V0WR2uLy6kEie8+2XPC53rcFoc3gpR+rq6q0ON6HUWG+2u8XT9qmUGU0Wl1sy1ButTjejVCHUarbU1hltLpHynNPpsNk9ZrPJYLbJCqs3WoxWJ/Pvfk58hNPjS/aXfA1gpL6y+LO5CyprrG63x1Bvcnolk9nBGDGbLbUGk8PlJRzndjssNrfNaqu32BX/sZHD4ag1GB0ekXCcy2GvrTPWm+yBYw+ZKXUGo8ni9Nos3yxa9/PB426nt9fQ3j07pvPUdxBcZzDVmawSIZQnxnqz0+kxGExWp5ecdlqOKYrcIqv3sB6+vxJFb22dQWJUo1bTy3GX/xP1bDFbqmvNsq82bE6PyBgz+QomEY6ajKY6o1WWlfrKyu8WriutMHhlduouSVBrBvTvmpoSygi1WS31ZjuvVumvdIz2NZDHvX3z1h+35Nfb3KLXY7E7TWaLy8s8bldtXb3BZGcclWXJYLRLklxrMPrLe9bWx79Ku11unUbD8wIlxGwy19SZHG4vpaSmrPTDb9cfqTTKClMUZjKZDEarTLhLsMv2bWOVeqNNkhSDweT0H7vbbA6Hy20yWyWFyIpkqDfVGq2E5/x91rc2ukWm0WpOP+3LTvxuYDLX1lsZpXaLzWhzE45YLVaL00OoSqNWSS5XTZ1FoRyhlClyvdFc53sx53G76wxGg8mmME50OZYsXbt4e6nT5WZn7Dk4zul0VtcaXR6Z8pzbV8NGk93p+24c5/W4aurNRCH6UFXg+1jM1tp6i8zxF9XTKXE47Cary+lw1RpslOMl0Wsw2e0Oh8XuIZTa7fbApoP4j+UcDrvBaKW+7TB/ZuKnVJbEGkO90WxXfNscR6BHK5RzO1xb1izase+ob5vG0V/+zh+XbVZbrcHo8kiE410uR02dyWJ3+z+O83rchnoL5VQa/zrvr2qLod4inno4fXlP1RKOVpUcffeDZRmdu0yeMDRFqX/tf4urje6y/APfL99SV28xmm12p5dQ4nI5TVY7oU0yYkqS99Ch4riOvccMbbd5/YbCajNjvk1ZTZ3R6hQJJTXFhQsXbzheY/Yd6sryiXZnTfXIgROE/jk9rhrazea29RjQa3i/TgLP2a02X1+zeQhPLWazyeEiHGcxWawOT+MspOj17vl52U+bD5otDsbxbrezps5osTsZ5ZwW4xcLf9pZeNzt28ew+npjTZ1JUnydWhAEDX+O7my3+Ytv8W1qRK+rps7kcnlqDGaZUpvVZjDZZEqdZsv6lT/kFlY4PNLlWdUZY5vXrKvnYq+9ZnCPNkmK171xw5YFGwrtDqdCOEXx1taZTDYn4zhZFg1Gm9XuMNt9CcRut9cY6p1e5bQDckqZJB0+mPvlyr1Gi91gNFtdMuWow26vMdqcLpfdKVosNoPJSTiOUE7xeqvrDP4NFPcnrerCpTqs4nluw4+fb9rnTYpTlRWV3P7YM7G09s3/zAlv09pUVdaiQ2eeysu+/aio1iN67Mk9ho9qpXvrkwX3Pvb4+nnvhfcYMTqnGyMnNrQcp6o8tuPN939sl55cVnGwz8QHhqQr73/y/d2z/yrWHZm/6ue777h75Q/vHz4eqeOsVpeU1bJFybGjISkd/3r3TaJXZH8kcPmOZjlZND7zwvvZWdl2S6UmtuXsu647sH7l16sPRrdMram0ZvOcpbp0zrwVan1ojcV786xrPbkblu6TZo3v9M4XPz/wyC2hGqFhh8EL8jv/+4Kpw0M41/Fa+dHHb5UMeR9+uzcilBwutz733H17Nm5asb0yI15XXVbdIiFeFqSj5XWzH7s7iljembsqVK81W1w3TJ3YvlUMUy7tmi3v3F7klbnFi1ddM7zDx598J8QnxoWEDe+bufKnXErlOov84AMzzBW73v88r3VCSFFN9S133pZCHO9+tiQqLiouKWnUkLbffL1OJFxZWfnwcdde3Sflf29/VuVRqSPj+6bFmcyW3B1b9rSLPPrDZzURXe69ftDcT78+bteINkty6+x7bx817+M3a7j2UZyxrFZ69qk7YkOFk13Fty4V5G3cWKmfPWXAh+99Ua9omF3yaMll2Q9TwuSNK35YvbsiRKtpO3Ji0doVPYcMGtQl9fWPFgyeNDa05MCinceSo8IHD++/edUWg9e86LuNt8wY0yJe19BDvR7X+/NXTJo6Kc525OU532VmtDh6sLRzp95X+tQHrSsv3V1YZWPmH7MzuoUYXvvi5yiBGz910v71mx0KKy4u7jPkuvGDo59/87s2yfH1tRVceMqj90wKUZ1y0E/Z+qXLlm46kpKRVMXL3Xiau3PjonVFWpVYZ/E8dO+0H7fmMafxu/U7W6eN3rrk+92ldia7o9p1vXNsH44pf3CrLUr2/77xWUqLVoa6Kpsc8uwT0xYvW3HwaF2YNuTWW8Z+88UPZg+VLca4Dr3uviFn0dyvd1c6o3htjcXGnfa5lBK25rsfthTV6QgbMePGY+sXm8La3Tml95Jv5/Ntug1uTR0W22effW8sL4nv1veB6weu+PrzPRWiXqvuOmqUccfPx+2yyVjTsfeAnPSIylqrIu5a0TpkXI9sgfp/r2CM8kLV4f3vz1sREhnjSO3+YP+oDz5fJujCj5VWjL9+cr/suH88/25IWgvebFRoOEfZygXLNhccD9GINCFt9oxxGnLhrs4ox+XvWv3BOkvn1PDcg/k9rxoxslviCx98H6fiO+YM6pJE5y7amhgbUlPnnH7bDQm8+d/vLIqLj68rrcgcPeSM8zoel/3tdxa4VXyETjt+bJ9vvv1RUKsqK2sGjB7T0lCxt5IK9i1pGSk57ZJlRQ6UjnB0z6Yd36/eEZUQld2xc0Ys+eCz9SktImtqbZNuntw9RfXCK3P50ChiNpOMVoxJK5YuP1hi5mUpJi1z+qSBKu4KnAqlvFC4c1dq107D+nZgCpt044hPV7xSdGDfwZ2Hqqtcy9ZuT9Q6St0R9988/Mcflhl1LWZM7s9kuWmeqGUavT4uKkSr4nVq1ZG83QuW7NeGkdzDdX95YMaOzbl1dYbFy36aPGXkikUrLW6P12nv0Lv3+MHdaFML04wxyvHRUeFqtaxSC5FR4TExkcdLDnzw6aaQKNXuA8VPPPWwoWjHkg3HH7/3qvdf/+Lau2/tmB7b+E5I0/IDh3YVOcxC3vqE8J4dkt98f0lCYoSxzjz6uolRtkqbxbht85b09Ejjvo3bC22Sx+AUUv7x1+vOeVqzqrTg6wWbqE5bXl52w4yZrSJqH3x6YZ8+3aqOHm7ROpMqUnl51dip16l27c6rZpWr18ckRnXLiGfK5Wh6jZo3llYWl1s7d0x3VB47UFRlJLZF2yJHtAl974OvNREty8tqho8ZPaRr9GP/npcUoc/uPWRQpmru91ujdCqL5H7gzplRep4Efk7lONFqWLE511Ynfr4hIay2uFaf+cS0nEXfLDqa2LO3rmrDntoWerI/r2jKHbf3S9P86+3v4mNDTBbLmEnjc9ql/hnl5S5hApFlpUVm5uxHHsqMIkdKS3YvW8Ml93jkwQdystKJQpyGqpU/7k9MTW/ZMm7z4o2RmV26tY//1+uv7q9053TvQukpOYlSRpg2ImraPfeMHdwjvzA/MIKZMN9OSpJkQpiosMwe3R564HZr2cE2A0bcMe36vLx8K1Nx9BKMYKaEeL1izsiBd84Ya6gqt3rcP36+dtC40X+965q4MIHn6PYlm2otXOvMFirFnbe3uNuwawRX1d/fnt+tX06LaD07fe32esXY9LYP3Ds1OkoprTMmprW/Y+Y1100eSurMR8pNgiyFcNK9997cp0eKkpR07wPT27fU59ZYDv78k93NZbVKVjNz3uES7uyjzz+8DRo2orOGl269dWpmarTH6+3YvsetN1+T0brd1CkjJ10zJEzvrbXbCSH66KjbHpye0y5h6+HjLpuRUTJ61OBxo/pHRiRcf93o6yeN7NEuocRQlbv5pw35tbNn3/6XW68ePaJrXGx07xGj+7VPVjhOkqTCrft2FMiPPnLHA7eNPF60v97uogrfrUvrRx6a6i0pPVZtPH3fSmXGZEWpzC0oO267777p027I0ar4y7Olt1vMC9YVjbjuhr8+dsdV2eEOpyTLlFDGS5KGkvI6ixAbP3niyNatUu6acXVKbOydd1yTGq87tXMyRpgoqijbumVPUp+hjz04NTMj4crvpxhLbt12aPf0rjk51/fNcjs9zK2778GZXTNTr73+6injh/du3WLVkh1UrZJKDQNHDbl31rgjpWXlgV8AT/I4nes3Hxl83eTH7p6okzhFYRmde942ddTka4bwblOJ3XXdmBwSHn/7lJEat3nBkj0JySnpabEbl+z1KMql2MYQj9nQbVDvx+6ZTA2Fh6tMLps7LCT5/vunGgoOFtVJD86+7W/3T/hp5abc7Qe37cyfdef0O28bHqFXnTGqgDH5eJ0pKSNz2swb2sXpvKLEmEwolSTfWkcYUet1N94y5cGbBuZu3Z6fd3j5LuO0W29+9IFpA7PiR4wbOWX8sIE92xQWHU5sk5WREp2WM+zaAe1PxGh/l+dU5PsPFsdld3304dseH99x4/p9kZndH3941tThLX/8acvufYcOhbd68uFZwwd0VhhxW6wLfs6NSmvZtm1K/tbdZbW2i8mZlFdTu33ardfdMSZjw8o1Fo9Ud9QwbuL48QOzf/5xR87wobMfmNGpZcTPm47kbtsWlZb9yINT+/fOPGNINuW4ytKSKlH1yIPT7751clJiyswZ11w3cXjP9sn7Cou73zR+YCYdNWZUrzYJsiQzeqJ0iiz/vL+g99jRj9w/bXifrHWrtrQfNPjxR2YN7Nxi488FeZs2GyTdI4/MHD6wLaHUUl29afWOpOSkjPTYI/n7rE7vFRlRQCkxm52xERFMkRVJJhERibKkSUyfOKJ7aqv06TeO6tKt06Z1O+ucconR3Sa7FVXkJjqSmFLux88/e+qfn3XsmdMmIaJFmw7TZ4ybet0IobqmyukaNzYnJTnp1pnXcubq3UXVrdNTkuLCcvcXuiSlCZaUBn7BVPx91reBlaWoxMyZt42/8boRMS733tzCAYP7xUjVT/zrI32vQR0yExphKRSFZfXuNrRLWM8+vSeN6bd99dq2ffr/Zfa0kX2y5izc3iWna0Rs/IixV/dIi+85aNgtU0eOH9mn6lhhjdtzzt16TErm1Knjb7h2ZEa8Lr+kRCGcV5Yn3DRmwtDWxyqqb71z6uBumfv2F/e74/reafy1N0zolh6vXJarjyilQ66+ekD7sNdf//i/7y5WxSfndMlI7NZ/xujua35Yfyyy+9OP337H+IwNP66zi4q5yjJq9Kjrr+q4ce0WQReWmZHiNtYcraznuBOD6BiT1dEJU8f2iWzdefaEAYP7ts/dsv5ImbEo1zytd6bb7IhQRdxz/7Sx3RPWr9q0b39+hVto37pFuFrZueuQ8udsf4RL+3YRkWG8oNJqtez/2XvvYMuS8z6sw8nn5pzTy5N2dzYBu1gEARAkCIRISCzKMimrSrZlFSkXZZZpK1SRUjn8ZcmyrHKxRFOiijZF0gLFBCywi+Um7O7s7mDyzIvzcrjv5nhid7vuOfe9eTMbsIudnXnh/kgA896795z+ur/w6+6vv2akbVpcyIM5TpElbEPd7HV40R/0B5TofzXj5yEMR2Lw5Qsw81VFeB9CL6segecFyc/owOW7bo0Q282aRgj5/ArmZI8kByNeXG9BSmwC7+PAh4I+zjYR4hizmzpRJZ6TZK8kAEZrhiH5vV6f76tffjaXywCAoz75xlw1EvYNyP49rBDCgN+HEY95EXLc6qV3/6//9E7Ar3YIdVJMoSzzGEBF9vmxihHmONmitF02VI/HHww8+8Wv5HLZ4YLQ/fVBriXvpaGXxtN+n3zxhVf/w4vvevyerXrfSdmAPp8q8hyPJZvQ4rmzn9tu/dvf+Pf5x5/91tPF3/yt/2CroUalfOpL441OUxCwonJQs11tBy55cl7W0g3qlXgOSooiSiKjDELsVxSEeXkwcYLvG/z6fRMCLCAkKTLPPaA6Mxa1+oIYCkgQQmfZbuClKWOO5sFv/PTX2v/uT/6Xf/E7f/1nf+rzk+qg+6jTlXevtjqZesyyzEg0gBEWROFQ+W4nGw36g9F4JGB3Wr/z735/uwuMRhmigrPTK0XDCm53IAT3HL+llHURVlUJSLLHOfhw7cLF3/zdlzLZ+GZVg04elHMSBFhUq2POH/ZGPeFf/K/PiAgO5m/3YTrAh3wSwrYoIoNQxnA8kQoF1dl+T5J5noOKX2WUah3D1oFHEkQgyyJ/T6Iygvw3fuYv/d4fvPBL/9OVf/Jf/meIw4QO1NWmlHdUEXNYVQSmKgDCtq0biqSqPERQb3d/+7f+Y12nptaSEyn3qe7iJTton9Be61vTHhlzCOqwbZt8REIAeANBAMqGbUYifonDsihiACzbhDwMhb3RSPzv/p1C1CN8NA7HBF5RJax4PGww86QA+PO5uCwhwzI8qsAIExSRWVaf6F5PFEMsK9Ldrmnwb93WgxGRhwAhqFU3/+3//R8bRNGbtdCpx+4cTHKPidzpQIqwHQ5IzpklYlpWLCANph+qSCt2u6cpsiDwvMenwm3TMAytP4gLYU/kW6UZj8g/pFkk8PqVH1XqJmE8htra+oaoeBWBtYdHnxLJ1OkkeOGNq0DvFJIByo5qCjFj9Mt/8z/nrz5/cX3bAuD2jy795h9fCAVVjecdhzY8aWmYhiRif8AfDPge9fkFcCzA4fL12X/5Oy94Ar4mZQgCLCqxuP/GxkoxEMCQHcLpwv6Ri4GpAdrv616/DAEUZME2m5RBVz8BBi/93p+8srzjFYUP4oIQwu3llX/1G//JFw3trDefOT1gTRgjj1f2eXyqWpNELGCBEceo4f7J0wex08sY4yXPz/yNn33y8cf+h3/17es7zwzID6GA0V3djsR8AEFvMIDRJmMUIk8mFfeqXE/TA7GUPxT8+l/5qXzUu5fw7ARml1TTwZiWpqeT+PnvvvounMhlo9IlCmV5QBhkGTFqaqYV8ku+QOCpzzwTiSUA/VS04D6wE2oDQKw9Vub0GjUow2cfH6vO/+jF51+4trBMOeALps7FZb2nQWZbHGhuL7/x7q3/5pf+W9L+0Zs/WmDvySg/cLaaSp4IsKxXXnvl1ZcvaKbteHPChim19uB/ICA6vQ9x2r6jVtTRbIdFCY8+V7rw5pU//f9e3+6ZlOFHHiviXpswZBMTq9LiO69sEfUXvvnkn/7x97faJrgnZ54BizBXJITQ8sKCGAg988T0gGpRp/PcFX3GDOoyUGZbbPqzp6x+36bIJBYVOEjvt8IzwIkKL0qvvnqh2uwNZinO25dWNv3p/HNPzvhkzs2fcxXPPUBa3tzBgufp8+NLC+tb2zurXeG5Z8/nYh7LojNnznuR/Sd//MoffueNpoViAl26eGllp00tizEwNp2NdHa++73X//S7Fzgl5FNFSnQABlMfy3n2vY1jlBCWnswKPPnzl99+6cVLPcN+MAVTPIr/dJB78TuvfO+7L3x/vj+d9ly+cu3Vl9/otto2pbfmN8YePT0WkqrlOhAETLuvvn6l3rXeo0fAomhsPHPjpTdefPGtzZUdcgg2TxmEsiRvzM5eXKngAbUdNKrbbS9tNz/3uccSsSAA5sA7wcHvKQA2YfDuVouSeCojvf3SG3/6h6/1fAQycvPWLCqMP/fEtF/mBw5fkf29ymvv3EBK+Jm8r9/WBjMKDO7Xjj7P2z948c3vvvROk0QmYgHnyDsBFIxNT4Bu6/svvPG7v/fy5PmpqcfHUznfi997/YXnL1Q7+sFpDgTApsbC4taZR2a8ne3b6+14JHLtxuz3vv/WwlrVnThpXf3F77/5B3/4VqaQO53LFXD/e8//8Lvf/fNX5ypbmvnM5x4/VYgNPolQ1CPULl++cnuXHmRthP/a50u3Lt544fuv/PsX586WElsXL73w8oXvvDQ3Mz0xVUj1bl75s++9ceXGHKBM8foKkUBjtwURaDRavCx+tMkwbrWr33n+tT94cX761Ixf5AZiMYqRUMqn337jR6/98J35lerpR4vjp8ZX5uZeeunNK1eX7q7nMPBI8UiqtVz57p+/88ILbywu3Z5drX7huScyiaBpE8Ao741cuXR9ZbcDD5yoxJBLBiKv/uCtV1595+KNzamJ3DuvvvvSyxcu31ifebR06tEZrbH7ve+8euHCLUpoIBKZmIr1+ybCQBtQcPRQUnKZbT/61FPm1tzv/clrr7z69v/+f/xhqZRLRf2cx9cu77z17k2LV7706NS3f/ePaLAY8IjgqFbzGDTbEqSv/KXPt1fnr8xv3F5e9YSjn3vqFKSEMcKpHq3VfP2Ny5wvoiKu1bPBIFoTyKEjXY6KukfVEFxfXTU5+bnPnsEIQkivXXh9Wef+3i/8pVf+7HuL283DOWIMMNkXm19YunpjZfLszOXX33nx5Xffubryl79wCkMYQ/qNi5fXy/U3bixmps8+PpPZrwD1HkrItjbWO4r3888+mvSJxCEvrk5Q23bfZDFG7MG3seR758Kl9VoXPZAVKsrIay+8/mffv3D5xu1iOpHzKz5F7Ny69vbs9tOPlKpvvv69F9749vOzxbGzqoAcJkkpQRMTxW5bgxD1ex0sCexgfiBjoiLZqws/uLJk8t5vffnM955/bSyXEgBEmK2uzn33+6/94GJt+vHzY9mUVm73TWaaGuXcshf3X9Xxr//6r3+Uz/3G8xXBSXB7bkZJBvm73DHiA4lovpjlIYok8tFwCAGUzI2PnzrjV3jNBo88ej6bz8XjmWKh0G43dMNOpjPI1H3R7GNPPl3KBhlWEtEQBHsLewNJqd8fz6bjGOJQJF7IFTJhf6fTH5s4O17KJeIJDnKxRCHsU0XZmymOqwLvU33j43k8YNh3EqVrXfLKjR6hwKfgn302OGyxZdV+67fscpkBkPjF/wJJ4n6IpVhKlQqJqN+jeouFrEfgVNWbzyQKE2PU0JRw6ouPl4LxxPjERFDBjU4PY6GYiWxvlM89+cRTT02LHPIHwwEPv08bIGOSKBZy6VhAEXkxnYiNzYxhYmNRefzsWGk8HfQpsXgil4ryGEQikUTQyyOUiscnx4sBBTdbXYSEfC6uCrzb2dv/4jcHwyCJvp//eU8me3CMOi+/3HnlFQiAcu5c4JvfZLbdade8ips4A99nTUv1J2NByyaJRDwSDOZyWb/MJ7JRQAwCuLMzY9lM0idgXyCSSYR5jOOxSNwrbm6Umez/+lc+PzmVTAaldtc4Mz2WyaTGJydmSslms5st5nKZ2EQmRCENxyJh1ZcpFienJiZysVqz5QmGvvq1z4e9EgQ4UywGVVVUpYnJokfm7+JaDIXC8fGxQjoWbLS6pYmJmbFUKhHlPqBkmGUTwzB9XtXN/vxEJsEJ4xNFomk25/nC+WIxn6C6LqjB86dLqVRCtM2tcj0zVnju6RlZVaNRf0+nuWxCFvBBmqOIYiGbmBzLeDEhvHTu7GQmFcuEfIN5ySdrHsJ4c2s3nY4zQn6CRwUiYQ4QNRzNRbyBSDCfDiuqGg97+5o5WcpNz2TGSkmvVy6V0hLP+T3qdCF1RzQIIcKZQgaYhhxJPHsul8gWnny0KNsE8+LpqVKhmI0Eg/mEx4DcWCEzPVnotlqaYSWT8VjQc8fAPzIIpaZpybLomjRlxovfu/TFLz1ObPalv/hMIREQeJzJJuIhVfGFxnORdrMlBqPf+qtfiIcCxVyi0+4m87nHpvPJZEIWuAPrB7DTaJbr3SeeefqrXzqVioa9mEJe+exjk4lUIuxRI9FkKurF/tBPfeNLiWhgrJDpdTqiN/T5JybyIaXV6SUSyfHxfCYZG89GeAGofn8i6EF7Wz2MsvTYlE9EHZ1+4TMzY4WMX8KNTr90euYrXzgfiQYKUW9XN6emxyey8WIpe24yS/Vup2uEI9FcNoqcQGkT2u9rfp/nfRefNldnbyzRZ57MBeKZv/YzX/QIXCjkm5zIiBhncimBWZ2+cer8uSdPZ4KxWEiGfRM8cm46nY6ngj7m2ggcbv0VM6F6o+UPRs8+diaTDPZ6xngpNzWWTUcDoWTR0PR4KhkckEtnn2UwHYO5XAoRUzPJ5NTYmVPjAZG2OtrEmZlnz4/7I7FsVOlo9PHzM/FErJRN5YvpbqvT161ILJoIeR0LvifLBNo20Q3TqyqfVm4HY55Q+MxUutvs6jabmM7+8MULTZs+8czTIRlSLGYz8fFC8Hf+4OW/8KXPnRpPgINR5D6vGbNOT/PfD0/1vrTM4/FNFLL5pD8Q8Euyeu7cBKYW4NXPnJ/MFbPReCrkFUwbTEyPnSlGKrW6ZdJkKh4dmCe8793e72scxqIofCrC3pkbQ1mSc6mkimEomVA5SKHw9KOT+WKaWmz6sceffHzSJwA5EAz5lE+pFRCAXl/neU7guY8pKWOABhNFQE1J9Z0/f9axJr0wPfnVp2d4jitlgxah0VTq2ceLVl9PxKITE4VSPu0VxEQiEQ94Dr4sGguFJdSzwCPT49lSNur3BgLRiVJWwigUS2TTMZ5DiWgkGfUH45l+X0umk37lY29IGKYFERI/jqQQQlHGu7sNyItf/fLTmbAvGQ9LAsOy58knzk1FPZVOLz8x9fWvPalw0B/wTk1lZQ4lMykBGO2OJspqMZ/gDxYCYkDx+wMqILyST4Rjce+1iz/83Je/ko36btyat23vWM6bmZr5+udPx6KRUkKq1FoQ4Hw+7VekjyWsplucFMaGvvuv/zV0Zi+Z9+PM8CPWFHzsl296ZMwY+4ffipwvyQeqyjCIEEKQEgoRBoBSQjHHs8EMmGGMnXc7JYgoRQgjNMxtcvbDESE2xpytN2bnFzVj2EuCN3B6YoxDkBACEEaQEUIx5uBeSbzBuzB2MqQY5jhnkgUxRk7ux10OcH7b/Ke/v2taLB0Wfv9XS8Pw3OvNPfusduUKAeCRmy9xAd/e2jGAHAcHkyGGOUwJcTIJIaUUOhzCmSpBxshg9ovxsAMIZcgpTUEZ4rhmbeP6Ym0/fSKUSs6kI+6GOkRoMKliEOHhNJASAiECcPAPhPBgNIaiOQvYw1eAgfyOYIyQi9mnB4zA78s8/934Z545OEabv/ZrW//sn0EAwj//8/l/82+opm2tzycjCL0/kx7SMqcZFGFECdkbTeQWTXJ6AEE0aIAj/qCLkDuHdRJKB193PunMICnm8HAaZBOI8aDBgw+hAbMgbCD1MLPN+S6HB391im11Os3LN1bcJzPGQtHwdD4Nnd7Y+5Yz7pTCD9iM6mlGq91JJ2M/Gb886NUGLB6hobxOUg0cTtuZo+RoyOoIcc6WYYTRxtrcypa+Jx3NjI8Vw55Bf4I7Yz3M5/uE8ZkxzPNvv3vtqSfPEdP8uJK6uyIQI+ZsQCA40G1HDdD+NqOjDJjaBECAMa7VKrO3d/bN3R/wzYznMXLTOCDb/7ozLoNvDZWKubo97DrHpn6CSG1adqfTCwV90FkrNkn7H/6Df/n3/+mvjMV9g+7dNxanGa7K7SnYwHz2lh9Qt7V5ea467HvGPJHII6W0W6+N2vbAyp21Usagk8jjdohzQpy4j0LQSXWi1BFq7znEsQuEYKvdurmwToe58szj958qZXgOO+dXyd4Dodu0fbtzOo0Rmzg2h9w9OFdtIAS6aVWr9Ww68R4XPTDSt1/+9v/zfPWf/2+/xBPbsVx4x4QHvgrvjabjxIZ2OuiK9dWbKzuW44cZRVxhLJ8LqOzA0IN9fSUD48WY03u1C1fXsKvJjImi+Pij0+4BNcfP74vD3IxVp+eHG5SO6xiqgbO/yO61YKfOiaYZzXYnGQt/qnkPEGGInSIkEFU2l394bf1rf+EZhUfu3tvWlYu//H/+2T/6X//HR0KfYgoKIXRrt5ZNxcAnnlS/17rdoXcdLMbYyTwDbufDwavJAZ/vmiccjguh7L5PHSCsVOuiIPh8nvsu7L2vcn3aAeWHAFJK3EkUcxy1y0k+pWPrEIBytakokkcWfwK37IZd5riyA8ZLXRrgRFIC3PFiQ+YABtTEunRjSTOGVcsQgmdOjXtlad+CXc/zATRj4NNcavHxohJjrU4fctj3MSW9o2+UusQAOZU06J7I0JGLOSp6jyuDEFSqtVuLG0OSQGk0k5xMRqBbiwPCjdlL//NvvPaP//HfSQbkP/j2H+20/P/gF/8iM23q6jzCwyJ4Tmj4WPLWGn0pMCG0GtdPnYIA2AA8/X6cmbs/mVnEzTYje91hD+9oOHD82UluoQfPQzNGoBOcTMusN5q6wVy1FwlkLnuETqx2BKfOw93OdfIi3FrDw3c5Hpt8onmv827gDKSjt2S4ukThMNeE3FXxel+SQZOG8g/0wNC0Zr2FhkunUPUHBk11owqlwwpcB3rB4dbuyykYvpve8wpnWx5+Gqsje69wRnC46OSQnoPbMtQ9sk8PfNJltnD/6242NLXpXrXwwcAwl2UPn8bo/s7y8MwAGfJj2ya20ao13XLLjDJBUpzeYHe+tWftn3YdLaebIaUMMnvvtZTtd457sclwTw7uTShYv9NvNjpDGkdIuG/SoJtgyg50JgMPu7aWY0d0/5A+3U+gGh46YXtsj4CBCQ6ivmXorcad+v8I8c6U4K7kpQPl8V1r2DcNyg5oyyeXHSPxWz/3db/ME9sGdJjeNdQ3x5WwA5Rib6QGbNUyzEatOeSClAFBoYwAMojuLnveE2GYiHfH9JyGO/yP7Gs9uzOaAz2nDNiW2W60yN4LKeCGO6pwn3DSA7rvei24rxLutQzgoKL/OMvNlM7+9Z82qGk69+AAx0Gyu0Zwryfu/DiYtcJep9OsG9ghlAwhO5PaezvbmzwftH5KALFMrVltcsKQLouSZyC3ZQ9pygE/4Lpn11cfdHF7zpN9Op7so6Y2DZySm6vP7HAi+9OpHCWEkGENbAMrf+9v/9XTYQmwI1q1Y3+sGQBwbxTuilxg3+c79s2GJ4vYwxuW+zS4hA5N9T0kY7hI5vwSHsr0d+iGf0LeE/fdXNm9SEoJowdPK1BKSafR7u1dO4URtm3qup27XBlz3BdzV6ToXpx3fdoDikqOe7ujby7PoUO3czBkuOSO7LGRYW9ACG1bb9Vb7soUJVTxB0Fq6K8ghjYTfuEX/nLUJwLAHj9/tmcKxDD3IhxwsmjhAapy/8HdByU4wEEO/uMjNdhRfUmNfvGLf/HgzR22s7IIP+R1H96YTyjLsCn3/Pj+L9r7t2MOlEaTY9/IjN9RIOouzt3pnQ92gh8iC/y0DPhueSH8oHe9pyvgPamn7irAXXz0ns/ftRt34I2MMZ8v8o2/8sX97KWBkQ9X5t6jVA/ItX2QIPCgDO6PlNDx6UcmTt35k7OQSeG96ngogtV7G/EBag9dPxZNZP5yOntQn+9e9b/neXdZxn0WHTIMxee+8NSAM969gvbhHc0o9UfyP/X1wj1SuI+4W+fhh/fXvX0F3W09EAyEv/bVZ+/mK8OTDffYFDzwn/1aHx+zpyCjIJmbTOcgdXIe71x4da8J3/0jhMS2p04/NX327nA83Cp5zyR1b4Ff8SW++VPpA/dGAWJae8/+cY2/x4/Bh0kz7zJsdwFor98YBcUzp0oQUttm4EjyyoPO6v3N8K4euFtPwNHHnkJ+aKCDR0KI9x1TAN+jzkj4wheeBgfZNdnXafhB8eyeQPZguuS9bnafOL2npe/jyiilsWjyG1/P7M8QBkR8yBIZtUF++nTBWQUEjI2PjQ3XK+88A37aHog7DKrDGLXeU4XnKDozZ0GG3HM2FB4LN/Upd9pd65xHq9fcrJt7lrHgsYlN79HnhxeNHPbjXMAEP96u4vtLAe9jkGCUWvRDSeT9HRdnv+DjS+Hoqv2xdPV9zfP4+TTo5uGM/PUIRwh7/vDY840P9UIOhXTPUQ6Ysrvd/aD7gTuE87Aj75JHOGmddowH/VCJ9hM35tOW4kH30idYWvkJmnpCfNrIdY8w0tgjKSy8a9vvYfQKGmnjCCOMMMIII4wwwggjjJj0CCOMMMIII4wwwggjjJj0CCOMMMIII4wwwggjjJj0CCOMMMIII4wwwggjjJj0CCOMMMIII4wwwggjjPDxa3cw5t5TcjTE+7ENZYzRoyLMRxDn/QU8AXpMncs12N6tNsd57stcUHqsxTxontS5Z+KklVZwr/ahR8jb/uSiDqU8CSpNh1fCUnDchR3eLsj2NPhYywshdJnRsQ9A7uUu6GQEIPdWvk+FSfd6vWZTPyp92O1SwD7E1EGjZSBgHJlhJft3Ut25we1DYJqk1iDD+72PNTTN6HTNumx8lG452nNfjrS7ZqNhWO+pJHr8YNt2p2sCqJ/AIr+mZTVbhqIa7ARELMMw211TEIzjz6QpbbUNWTHAcR9VCGGzbQo8sKnOjr+woNU2TBMa5vH3VJ2egRGyzJOQ0cDaPUsOfQpMWlXVQEA6Kobh1UwAtQ/sJABkfxEF/EeHSdM9u0UQ4R/7cSx41WAEHHfThgACsW/BthJIEUqOO5PmJU9DDpS4486kIYCWbRHcVYNBBtiJotEQQM40+pZPCWbocVdpCCE2DBu1lEDs2A80o0wyVCWQPvabhRAimVREQVK8XnrchUUI9e2KLCuyIh//BQ7cwQjJqnoS/LAJmuAjaO/HZtKSKKmKeiQW9iEAoogAgOADvDMDQFEkfIRU372Fyw0+H7xKR3u99ve/z0yT1uskFDoJ63lM11GvZ0cix34Bz8ZYnpu1TJ0ScuyHldo26Pdtn+8E3plBTBO322Rt5SSsSRPTBL0eCQaPv0pTiut1Elk+AdNBCJtNIAi2ohz7VBYKIWg0mCRRSTr+I9vrUYSoLJ8EP8za7Z4g2D9uY//j50k7mdJHows+AtU+WlHqI7a1+Ud/1PzjP3a+wJonZ1v85AjL2MJJynaogJMKxlonyX4bJ8Z+W6P7FEcY4RiBG3XBsYGYyzG3Ggulo944xhgF4RFGGGGEEUZ4kGGXASB8QE7LiEkfH4T/1t/qvPqqfuPG/lYaoRSjE1Ho0C3ycCKEhdC0LIHnwcmo3TGYHJ7IBTznVDHFHAdOTJGWE+KsCCEY4xMhKaUQwhNiv4RS9KFZl8cGlDHoJO+chGGljg67wuJQKP4rvzJi0sedYvF88bd/++BveoSoJ8Nl2wAYJ0bYnWYzEQicCDYJgAGAdCLNmQDQtywvz5+IcAWATqlyMph017Y93ImIvBpjHIT8yTDYPmMChCdhXE1ngfaEDKvusGTu7mn/e2cRo5tZji8LYYz2++xEFH0E1DRpv39SRlbTToiklBCmaSdEh+8dZds+QQNt2yfEfimlJ8dT0X6fGsZJMdh+n5rmiRhWXX/ww2oZWqvdfvCxgGnaPcP6vovxD38GRWzz6o8uzC5tTD3ymcdOFeGxoLArt65cqVjf+vJnqH0ECixYWn91fdUgMJXNBT0KtY3l27dNirPZnCJxK0uLuk3dPZ3xiWlJwN1WZafSK5YKGDKt11xZ3eJkNZfLiBwHAGvXd6sdu5BLI8C0fmd1dQ3ySjaXU0TONrWVlRWbcflCXhYFly/M3rwVz5WCXqXXqq1ulgXZk81mRA4Z/e7K2jqFXK5YVIUHOQFmRr+9tr5tAm5sfEwg+u3lVdOpP8gAKpXGRB6srS33NFYoFlVZ0Hut1fUtioRiqShxcH15sa1ZjFB/IpGNRhhjnWa12Qe5dPQw6Sgpb2/s1rrxTCYW9ANG65Xt7d264I8UM0nugBG2mpXNrV1J9uZyGQ6B6u5WudIKxuPJSPiAQ2GUkp31VajGkhGv+ytb78wvbxSK44p0NBcvGCDUWF9eDSTyAY94UtgAHWhCj0rZZPgE7N3SteXbnb4JKA3EE6lY5DiJ3Klsru02IYSUskg8HRSs2bUdHmPGqD8YzySCW5sbjXYvEE2kouGjuFFv6trK+kZmEKRErddcW99CnFIoZjEja6srfcNmACZzuZBHdaOybWkrK+sWBclMLuA5SnUnqrtbbZ0Ws2lGzM31zXZfj6Yy0YAXQmjovdWVNRtwY2NFYPaW1zYoA0CQp8aK2BnUQQBq1Ta3dgXFkx/48KO0eNrvttfWNwTZXyikjVZto96anjp1OPedH3K3IoRmL71yeaHxlS8+9/y3f3t2Zec4RCNiXb34xp/+8/93q2Udfg9FiX3r1pwaTBeTsdlLNy1CfvTOZeyNxYPS1Vu3GMSpXKFQKGSSka1ynedws7I1O7e8tbnFnNuO1jcb6VzeajUWl8sAgMbu9tLi4vpaFUBgmfq1a3OpwkTIy80t3yaEXL94lffFw17u4rUFN24vLy5sVsrttsaovVtv5PJFu99eWS8DSq9dmwsnCzGvdG1x+QGTiXKl7osmsNH88zcuQUHO5PPFYjGbinbbHQjB1UtvmlRKR8UfvPy6YZHtajOcSItG+813rgMAV2/NJ0pjY2OlmD8AAOjW1mfnFnaqjUM16Ea3vtsg+UTo7ZffbhusVduY29gemzqNdhdvLG/uf0xrV2fn17O5ErQbS6sbttnbqnTyufjKtXerLe1Aj7Ht9Y2F+blWf7hQQS392uxCpdYw9CNaqo8ZRn/x+vzttfWuScBJAdtZX52fn9+s9U5IZvrm8kqikC+NlaLBADhepaylQLRYLBYLBYkHpm0JntDE2FixWBSobRKm9boWlMYKmcXrN+qdo7j1wbZW5ja3dnSTElO/dmXeH8vyrHvx6hKjtkX1QrFYKhZ8krw3LwbVatMfikf9yo2rs/bRGWqt01i+vby7WwcAtNtdIHmzqcjVH13RLKZ3G29dvBpNFgrZJITANttYVUrFUjGdRnvazBitN1qZbK5bWb29UTukJISSfr+n6frd5ZXp/I2rgUhShs2NtgUhAxDomt7v99371xglWr/f6/VspyCsbVmWZfR6Pd14CLdZPeQ1acSBpdn581/4uWgq+s2vPre+tXW6mDjat9RB1Gtu9P2pv/u3zW9/5/u/+HNfB4e+KL3AcxYxTWB7ggoxNE7xFZJhwPxsYUsj1OMUyFzd3hybnMEIeIKxx33+t9647Ao7OVUCAETigWrfBgB4Q/FTknDxxo6j2abo9XhlQcGhnd2Ffl9jvJCLhyDwXrr+QwMArVbRkWemlLcGT+KLxYnBExTF4DGDUFU4Q9cFQENe9QGPYC5fBACEuMzahXkGgOS4463qtjcaF6C1U6VfeyIHARgL3Kr1jGI+P/hWQ/WAQQ8gjAilA3n4weRZ9senJpXlnfbhGnFP5OzpKGC21++cf+IkgWHb6OucFJKV/Y/VtyvRRMLrkflUYWFlG/KZc2dmAAB+X+CuG3AgTGRzqNfoAvdWYLq1vhbNTARqm0c3L4PjxbGzZ/lb756o1JJQIi2KwmLtpBT/gQhTShk3wHGaPDDGeF7geYHYes8CyaAfYqwoCqVGW9NOTYUkHue9g6l+IqoycvTueNpdWeziYD7HQwgMra+Ew4mQFwQmFn7wuskyFEBKKOY4jOF+Vms8lYIA9BrE4xOOylgzaq+sb6aK402HSfuDoQCElNghL6aUVSu1iYlpARPECQLHmQBYzsldQeT2NwwhRIXiGGPU4w0g/pCeI1qfu9kfyAU80Xw+5t1XYsQBwkAqdxpC0KvCfrO2Dnmj34+k8+losLwxX+5QTG3BE5wo5LZXV7t6H3C8ZZgT06dk8YHuhT7kNWkIgd7rBBURMKZAtdHV4RGv8YURvDV/S/Ennvz63+y89Ur70K/JIYzTmcTt+RvXby0lMzlKCRaQWzIBQ1OzqGvPzVo7HvEDNgg6bG++C4f7R6RR70aCAecGPrw/frwg0m5lq1Ld2dxodQ1CLIjdqTJGTO8Zdq3ayCTjgBHnl2xrffXCW2+tlauhgBdClE7Hl65emrtdTkYiD1YnoevDrswujU2dQa6EtlWtNhOJBCUmhAFXRlX2tiyrs7317htvXF7eKRQKAIDc5KTVat2eu760ssUcQnYIvZcrY2t3V/bG/Qrn9YeDHvTO229ZQEklg7ZlGYZBiN0lFsdh5/OYUps6tml0600mBrwKIbau65ZlQwgxQmCvzryp9zoWTYU9hBxdQgYxxhwCJyxDG4qiAI/5LYOMEGIMYAIGsoWi1e0u37p6e2WTHgu5TXMgm72XVdip1RDiJYF3hWtsLti+mCwMmRYxu5Wu7fUcsZtTbLO/VtOnxzJO7ACE2pLjpgDkRUpNwPs8gV63s3DrZrnecSWFEFrtxqV337509ZbPH0GHW8ktU9d1nRDSbewiwRPzq65yurL0O00Lq4qEidFbWFntdNpXr95sdg1B8iucUCtvv3t1zjrgexubC2+/dWGr1ouGPIfRIPuVq9va2Pj0WCZ2e+EWYWxgnKYFIM4XJ7dvX3vz6qzlXEnHeLk0PjlWSLUbFWBrN2ZXJydPnzp1qlGvajaBti15IzPTM0GRLzc7D3rl5WH3IgCYb5m2c87X8KvqUb8tltrG7BsvbLJcZ+N2lzcW1tfPj+UOc4OJaa5t7Z599EkFG/PzNzP5CTLc+qKUChI/MN12ZQN5/IrIM2eic89cZ2P5lgnVcNA3GLoDf+ME6cxjT+mGRXAo0DMxxsQaOATIKAMytlrl2m7XMLvtOhH6ajCQTGeiiVSzWl5d3vDMFFc3dh595hmmty5dvvXcZx99sBMstrUxjwKZsVzIPalrdNtQ8AZVgWg6A21XUNPs+zjOE048GolqvdaVdy9Kn/tcplhiDMQC8htvzaXTSUU4pHlpht69vVGePHUKAVDZXu8h77PPnapszF27sZCKeFrtrs8fFgCyyTBFHkEOQWAa/VsLi+NjMxKPO83KVrnu9YdTibumOrubG9XdumVca1SrXSZ4fWM8HpXAHuGwoN/vlssVCLlMJp3OFxgAEb965dqynowr0pEvvbC5uWVZts8XSiTCANCttdVo8RGMHAO0tfmt3vSZiaEH0Cpvvjk3/fjjIo/ZkapSX9vd1gzt5rXrzVa9UjOnJ8Z0lzgyQiCTBd6fzDLGBEQXN9Zj4dOuC+Y9/rOPPGYa+o3rc/5IKCQf3vMb9fJqsw/jydTW6lyHBK63KvVGa/Z2aGYs3u9uXrq+ceb8YwgACoXpUiYW9uidVqXRmMgm8ikvYLSx89ZOy8iGhpkt/kTpfKxQ39m8Nr/62bMTh27u1+9bkK6vrjLGipmEqXU3NncEUclmkv5Q7PwToZ21m5euzJ3KelSPyiFAJZHjeUvTLchJPACMkxFnWwxipHplAJio8tuGfaKYNKMU5NKxzblbE6Hz8wvXSp/55hFfGIDt2upCP/Xf/+rfFyBbmUouLayAQ86kiW0TW5UFHnIChymA7V5XNy2mtw2PrHAcoNbyejlenEHunZBOmVsGnP+GaHd7drkmP3u+ABgFCDPKCKVOyVQKBxN/rCh8vdNCUkiVJUszNd2Eep3FQn5P+KmnPssQ2lmds/hwUGDdvq7IEkTYgoQSQnQiiwLifVZv1maAf4Cevl5Z2mjRRybThBCEBnJvr60EYuMQAE5WBGw0OoZfsBaq5IuPyb1eT5IVnuNMShEjpskwRoauDTw6BxmlhBHA2PBRhyRxntG5m1ciibMeiaOMdvoaUiI8zwUi0a353UhsIhYffKoNmkuVlk3inWoViTJkdGFuLpKcivgVSqknEJ0KRN2tZAAHbNtVjXRpKpEfCLt062YwkeTQkaTRjqYDNhCLUMoQOiHFUwl17nVyEw2PY8lY6PX6vV6/m2dpWSbCnK5rVID4iM/3nCGDxWJx/ze9+k7F8ExH3Ow4tlupcnIgoIpO6p12aXbj/GefUgVMKUVH6iBaNFUIxXMAsJWVW8HomCwCrd42bKLXtlisIEBgWRaCUDc0iceQsVq1FgyHda3HCTIeiMoO8Zo0YwzGs1OOAwbec5+jDNp6Z2Fpc6IQNbTWu3OVR8+fV0XEGBMlvt5tRwKSbhlev0SJTRgA1O5TkhGQqfUMAj2K1O/3JEXleUDpYSwtIvj8Yn89ky/xkFg2E0V+YsLrLko2uqZXVWXFC9o9sH+/gOOaeY+CGetppgAtykxJRC1CO+1u2O9ttPVIPHqimDQkNjv72S+/+NIP33it3ZfHT5fyzgrgkXXSEFR2yp999qtBr0Qski6dXa3MW5TxhzUMMwZ4UQqq3q2tHYkjnBqKhAKTmeji7TUZk9OZPIbANDQ5GAgFvO5d8e1mvd3pigHPbqUSDQUr1X4+kdje3mBQyqZj7Va92eqoKijv7ESj0e2NTY7DvX6/WCwhji9MpJbXNwRmPFkqOqmoPABA9fhsTgaMbayvqaqn3e1kMjleEMLRQasA0SbPneMdEg8eiGYwatcqekBUK7s7AKJINC7xVDdAJup1lJP7zPnTyyvzOwA+8uTnFWwv76wDTtUatbGp0woiy6sbvMB32u0z00UewU69Um12eWRvb21FE2mRPxSa0G1saUQOg+72ZlPxhxPxxMp6eQeRbmsjP37a0dZBVPZG8p7m4sbmhtbr5gvTVr/R0anf7mxttT2+YMDnGS5kMVbbLfeAQI1OuSYko0E3MHv9PkniIWRH8FpGZpl6tdqwkEhatbYAB8KeACJd3y23+roEWLlSi0XCx/vuBWrpmxs7SBA6rUapkBP5o12N/j3THtbutCdOj6E9lk0IzaWT7od6nbZPENu1cotBrz8U8ClHyDYRwghhxqjH45cEXpD4WNSzvLJma92npqbNfnezXOU43OlZY+Nj1NI31td9oVCjXtZsHllaIBrzSQIAh9Mv3RlGxhjmBkoJmej1BzBCzXYnqiidRrlJgT8YSWcy16/MrwELir5ExNesVZpdnTEzmhsPesRGuda1kEfhtzdWRdXfbjRPFSfBIRN70Bgh8PSjoeXVdb8INCKV8rH9v67eXgoGA7VG9+zps6BfUxUKAUCYV2SJAvGpc1PraysCIuFEQcAIANqoVwQEKONjIf8DIwzDYfuIhxwf++WbHhkzxn7tb6SfnFDvV1aVexrAtkzTIpIs33fCObuh/6Pf2TAtmg4Lv/+rpeEqbK839+yz2pUrBIBHbt/mgsH7+EbbMhni3e1sxqht2xzH36+lHUbIxUhkMPsJBDLPPx9/+ukP79tut+vxeD707czVAdu2XWrrftS2LQagcwqHMcooY8hZsWGMUUKoM2qMAYyxu2LnPAgKPEeITan7V8ZxnLPExTDmEHL5lPsixHF4/yAIpcQp4gIZpbazcOteALbXKsjznLPq+WFimE56oNfrvS866cro/oidTiCEYW7YAxBCYtsUQJ7De6NMIELcoNmMEOpcLYnxwLbBsEPcPCaOuy/XfW1vbyeTyU/EIRwBh+uOCHMYUUIGnY85DiPXB7HhKA+kc8YEsb2vOVV3sLPEPuwxQuy97yC3W9yRdS44+8lFJoSYpilJ0oNeHHUO7hBCXE3e18kHCdu2+/2+z+d7kGLbtu0GIMYgx+EH1u22beu67vE86OkKIcRZkXWt9UFwDEppt9t9AMPq7hC5+2DDg8CUwj2jpQMQ18ntiX//0ev1OI4TRfHTkW8g09DDOMECum7KsVzmxCyM0F4/OM7Zthnci2vsPmt3r9fjeV4QhPtONp0d4IEXGkRbMty2H0pHiU3oMMLuRUyO56Cz48+cyDoYabLnw++H2LquQwjvz7DuNci2LAoAz3F7h6+c6ONI5wQo6G54uuPobhIOqKNDVHjnnqP1hXkhGA75fcPP3ydj1jQNY/xjh5U7DPMvjhe443JhDscLB6RDPC8c8oUMdxT4u69S4+6Mx8BT4QPjhTnubk7BHeQYGH/gj45aw/0n79uzYxvObxDiD2wyHmzVgyRS7ycj3L+SbHhr6IEPOKO832yIHXxQhxwSoPdEToSxcGeo4L6kB6UbcG70/j3GvZ8B74/sUVzfQxAidNIurnr/cTzGuNtaj9UK/MCP7YnmWvJBv4QcHHH5BjLt/8QdCBbcgSskD/TDnc8cpcQlOPg/N/XIOdp9l1OFCPP7AfTuOA73MtIOjvWhE3uvQdzdDGQYfe6SDu2r834i1kF/JSoyx/N3OMMDJn5ghBFGGGGEEUYYYYQRjhycfbRoOgsBeMBJHXempqNRGGGEEUYYYYQRRhjh6MHNK3RJ9UNadB8x6RFGGGGEEUYYYYQRjiiX3ruJ5iE1YMSkRxhhhBFGGGGE+89vIBzVkj+2tHWEfXzcPGm4vLws9smRqPoMAVhrYMaED5lG3LhxA9yPgg8PCJS6OfeUEMuyfuzHdV3v9XonQe9t27YsS9M0dtxvpUMINRoNpy7K8b/SmTFmWdb9Pw5/NGyd6g7YCbhokTgOrdfrnQSV1hycBL6l6zrGmOf5Y6/D+8IePOx4XGFZ1j3HOo+3a4rFYvedSbOxsbHHJtSjcn+KtKHBt9YBeH/OQQB45OzZ+1sF79P1woS844zZwD19BHohSZL3CM0TPpltG4bx4KtoPSzbjkajJ4RNulXwTiCTJoT0+/0TYr+EEF3XVVU9CUy62+2ekGH9iBXEjgf6/T5/oHbEMYZhGBDCEzKsmqZ9lEUr7ieIbYTSozLDpB9K+eGwrOaRWdtje01164N+RMd9Etak2V515BPCL0+IpGwPJ3A/8USp9MkR9qR5qpNTSvJE6TAY4W6M8qRHGOGIYZSmNsIII4wwwggjJj3CCCOMMMIII4wwwggjJj3CCCOMMMIII4wwwggjJj3CCCOMMMIII4wwwgiHAYwxSg9vqYtDUceEUaobhihJ6DgkgDLbsgzTAgAIosxz6EjoqG3bAEIOYycHl9mWzfZ+ZIwR56/YufaeEuIeOIUIcYPfMMs6+N0BbMtCmIMQEGK7hxMQQhhjxqhtE+cCfeQe2GfDR2Fu8BvnUQBwHOe+d9AqADkOP+jMYOfVDECe59w23zEYp23EtgljgntMmzHLtgBE/F5VINsyKRj86LbaFcQR8RCpN6UDETkOI4SoI85wbu1gv8MZpTYhEELMcc4JXUJsgpyv3ftAQhiA7sjudYvtdtdRtGI6EJW6p3t5jj8hqekDbbfsgaljfAIkZsS+482Ok8juSXqMuX29tSwLIeyc/7vLr9qWyfaus8CYQwgeTmu0yd1OGDDLJm7ccUKJE2gYGMSkPdc0iFxOiMEcN6AWjkfa+/qwdoLr8niMD4+wxLYpY9AZrUEMdVTUHZq7HTXGGFHnz8PP7jttJ+K4cdaJpHthl8Ng0Cd7QRljfLjPgw4FcZiG2es0+nosGj2cAeXhM2lL715+963nfzD/3/2TX1LxkS9KgBG6/M4r1zZ6SX9vpyJ982e+6VP5Q04ZdjZX+xbTm41gdjwV8W5vLtd0TqSmGoymIv7K9kqjS/taN5Ufj/vEzZVbFvJwGHn8wXDAu7uxUtGxynTkDeYSUQCA3m1cvnazMHEmEVLXb89DQYUQegOhoM+zvb6qWUzT++l8KaAI2yuLJhY5CD2hSNir7O6sbDeJjIjiD6fjkd2t1ZaOONLng9FsNPwgzbe8tdbs6Vq3GUmNpyK+SnnbIgwwu1pvzJw6Z7cqa5UmhoxT/BPF7Nbmak+ztH4nlCxkYqHdzdvlBlBFYovKRC4NAdB6zavXruenn0gG5cPirPXu3MIyJ2CT8TOTE1q3tdvoYIyI3raROjFWHMZj21pZWYaY77U6yeJ4UEVLi3MUSrrNpiYnJB7v+7t2s7G2uuhNTBUSfveX1a2NxY3q6dOnvZ4jWCyJgU6jvr5b9SkKRFw8nRTgCdi+o2RjbVazxG6/XyiNh7zKsWfSt65dlQIhDgBvMBQK+I6HVIbW31xfqtjqkzMll3RY/ebFa7OpTDGXjpXXlrs2osRS/aFULFzZ2TQoAow2G/VTZx4VED6EEtmmsbNboYwRy+jo9unpya3lWVsIkl7bn0pHvfLc3Kzq8VGbxTIpjyi4TqlVr+5Um5LAGZSbLGWa1XKl2UNM46RgPptubq7t6pYsiILqST7I+PKh0Pvt+cWdcFhtd3v5YhHb2vLqBmbA5tSpiVy302y0ewCAbrPhDeWSMWl2fklVZcOgpfGSyHOOEdubK4s2p5q6FkkkQ151c3XZpKDd6xVKk34Zry7PYcEDIQqEIn7PobbxnbWlVp/Z1MhPnIK95m6tfWjLvz708ABNQ/N7vZXtNjkelVUgaFR3I4ncc1/6a0G+vbJcPvQNhv5QPJvNplKx1ZUdyzDKDW0in07FAivbG2QQY+KFYi4dVK8v7wAECCLxVDKdTgd8Hkrs+Y1mKZeMRwO1+q6zIG8ubexIsmjoJgOMYDb4aDod8KoAgEA4lsvlAqpUrnYgAIyYsWQynckEPKptauvl7kQxn07FK5WKZVlbW81sJpmIhXZ2Kw+WRAFvIFIslMZzmZs3rjLMxxKpdDodVFXGeJEDV6/eTBcnJ6fGK8uXW307EIrmC4V8Mra0MM8AuXJ9fXyqmEnFdnZqFh30wc5mmTOd/jg8lAni3Nj4WLFY3VptdC3VF8xlM9ls1qpXONW7P+fvVDc1C2cyuVQyvLu1ywBKZsfHxkq416i3+gfnHjYFCqOmaQ5jeXt7rWb4VcGyyBG1Y9PQeFXJZDPJZPyErEgzwILRQqlUjAh4t1w/AaWuYLfVjKXTmWwm4Ds+pegty1RE1Df6w71wal+dW8vmEr2eRi1zZbOcymYyyXh1Z5syFktmM+lMOOg1mbsxeBjBiVIyNXDCHhFjUSFWp6aBXCYR9iq1ah0CYBh6MpPJ5TOKcGfdant7O5ociKdtrTc1ovj8+XwumUhXdsumzaxezxeOZDLpWChweCTd3a0EIuFEPIYoaHY0jpfyhVKukN3d2rVs4PEH0+l0KpmktukNqpub6/5IKpfLQapX652h7+11axrJpJPxkHdjqwwRCsWT2XwuJOLNrSoADCKaTKbSqZRXkQ7NFN7a3tooV+p31VdmVnV3K10ojJeKPAQAQQ6D+m55a6dsO2SREqu8s7Wxta1bNgCs1+n0u+2N9fVavfXg6/Q9ZMthjKr+2NTkuCQcn3rmzvU/EHO8pht44KDZIW+toioCzyGeh14eUAZsxGEkqwrpEEqALCsix0MGg6owCLaAWbZlmhZgACGscvrydqPW7Pi8IccRlDHnC/kU5pTrZoyZ1uDDjA1eJCsyQtDSiE8WnS1VYJmm6VzWaOomLwqyyMuyqhFiMiCIbLPa2q3WoqEQeFCd6JYuVlRVEHiMAEQIQcBxmMO43mx5g2lIrC6VgyqPOSnqU1q6JssKh1C/2xL9aQhwMUKur2yXd7ZjIY+AYLtWtkzoU32Hh4uxwYRA9igyxmjgngQEEeI4DpituapeTEbAXmHURr2n+lSex4rHa9E2w7xHVTkOAwp5Dt0p9oxQOBxSBHH4fEoW1juTU0WRgwDAo2vFxCamYZITUyMWIk6VZQRY19AU5bhOH/bVlrlbiJZhmE4yHmDHQirGPL5A0KdCOJSntrsdDscDisCcHUiTQUsoCo0AAG7vSURBVIywIAk6tN3MB47DzfK6N5o/nKkdeyGVwxhV6o1sKiWKnlZls9zoVA3DHwq7YzmIJPbBeTujhGKOwzzvC9F2RxdFWRR4jDHCEOEBM7MHgcyk7OGP/P7YhX3S4taW1u9bdj/oUzAvyLKEOY55McKDgMtxHCNGB/EBj2j0+8Ggh+MEvyS1zeGtmYQyMtBrpHqkXecqTUVReI63EcIidi+isC3LtGx2aJzzzcuvtJhQu31rbrlypzI35AmElWqFF2SJHwSp8uZCQ6ft7fXF5WUAwO1b7+w0OkRrXLp0nTJYX1+9eOkaluXFa++2++bJYtJuVu5xK/TNwOrt5SvvvLy1jQSgHwkyYVva2vr6RCrBy6Jf4W/Ozq2sbWim4bbdMno79fZ4OgoACgWyjUp1aX7h1twiAbBQzDc3bu/s1nlOoMSsdVrpVNiyLEJsAnAkmKju7CzOzc8vrhAGzH63vL1Va7cBBhBhfyTZqlYXF+au37xNIcVQcNg1xBRQABOJWG3jdqXWEbD7+wemkI7Ipnbz5tLZJ551FBTalt7q9HLZICEmBMMdMYETTcpMbSDU6nYnFhIZYJHCWVJdKtfbiqRQW5+7vRkuFhi1bds6JIruysgY3d5YDqTHAhJ2ffnC/Nz4QF7W63YajUav19eB7X4YQswYGgQcxiqb67YSCvlUQ+/WavVO994bnrvtOuaRAIllEZvYR9S6/aGIj8Mba6s3rl6ttE7E3c4AAKPbXF/f6Oi2KErHdQZhmXqz0Wg2W8SmE6dn2rvl5cXZ6/PL9lG+8IhSq1Gr1xv7q3HOSgUE1DLKzV4w6DMNmxACeaGUCMzNza6urBu67To7u99c2TDH0of9rl+z32oZ1CPzlKGZifzK0kKv1ecRhJhLJjPVjY25q5cX1vc3MGEsEd24Pb+4uFSrG+5qO2NkZ3stGEvyCAayWaD1V1duv3Px2sPeD2edVrPRaHR7uuAJhZE+t7QIkQCpewMbLW+tpSJxHg4Z/9baYjSUHvzETOwERh5g22buqCteNcDTufn5tfUtZg1VWus1Gx09G48CxAX9sXK5vDA3u7i8cRhM3G5tzVX9KZ+SmRhvlBcNy6zX661WmzJ26twTRrd16fKVSrMHGAvEJ8bzqeLUOGKUGZ3Z9e65man82IzCk75hQ06YmJlJRiK5Yna72X7AUpyIm9MfeFACxfHx8089Egp63529Op5PwMMdk4itzd6cE72lkG/AEQuT44QQs9/a6VkIQWJrC/NzvkTeq0oMgEAoEghFLL134/Jsr6ctbNSe/MxTkGivXrieiJxhBNYru81Wj2m1WDQaDA/+3+y2b95asQiTVG9S8fpl/q3l9VQk4A9F/aGorfffvniFwqhpGc6qiYU4iClZ2tx97IknkN1/6fUr8S8/+yDT9yixbt+ej4ydTng5ABiEsNOqib6AzGNKBQYqtmM5zVY/URJFRUjInlgs8uevvOWTzt6c3Xn22ecQMd5644Iij3OcT2+Wm30d18u9oKQq4iEZ9HanWu6ymcnsMEqZWs2Uno55nVM7HA8g5rAXc31z4KEJ0Z1ziKDTqm6UOxOnpzECBHKCADjM3aX6APQ0DTC2s7PTareZ3AwGVR4ftbkwhLwoZ3J5ANj60kK50okFlJPgukRvMO8LhfzyraX1cMB7aLf7P9HqEcK8IDhzdhgIxwPhODH7l360YJqUl4+uvIgXeLCX5cz2lh5Mq0+oXa9XrG6j3aN9g6SLUwlKbUPrGQZwVrLWllfipZxw6EVfWpiNxScxgq1KtaKLzzw1pbcrb91c/tJnz6aSSQCAXt9+db42lYu5M8NILBWKxAGjvZ1d1SMDQJdv32xq0iOlxEDVFV+u4GPUfvP11/oW8D3U0xwcz0PKOA5vLi8lizPRgLK2NLu5szuWT+9uL+7UwJlzyeG6o9WZXW586auPOaMs6DZVANOIoUq+gdSMQSyUJqYJpVq72qXdwfRY71ybvZ0rTarSwFeHoolQFPTazVtLG4RmH3pNBEpsLEscRhQo5849igAQBMGJNkAQ5JmZmU5l7drCwtl8ROAgY0485hCxCYehO9VgmGf725+MwYexyfDwmbTRa68vLWlmZ3FhcTKX8qjSMXDW25sbC/PS3PUNf6Z0yGk0pWRhdqFvKekQajZbXq+n1WgwAJr1cjIcw4Atzc/2mRoTYL1WCwQCrWaDMtDvNLhAQBIgYnaj3sRA4yWB49WpyUnGADGaQIzIAq1VKwzAbrsh+X0csLZuL/PecKdeC/l8jJJGrUYh6jXqSiSqyhIi/e2dCjW6qiSLHILMbtYbCOiS+mAP6jG6vHiz0aVjEVCrN7x+v4Dh8u3F1MxTg3glKllFWVjdCAqkYYenJbS1ssKrXr3T9vp8Io8FjtWqdQxtzPOyGjl7LjqgrVubYjihKsKhWd2pvnvxWmnsdLfVMBWfVxEalUrAH0Jw4KdkecgaQ4l4ZWm96pGa9U2vP8Gs3vWL1+ITM0a3BYmiKrIgub6L9bqdtq5pqNXsqPF4JhwhAEC93QwGAtxRJCeM9XudXt9ggFbb/exY9i56ckxhdcs7DV2WPM1KVfF6D+1e/ycbWMjxgocXnPxhc7fcQBh3Gg3Jr4oCcpLQjqJQDGPO6xuemDR0rdHqW4ZRq7XCIf/MpIcx2G0Bs2opIqpVdxnAnequ1x+GAJhav9qzZ8Yjh1zB9XZ9o6r9hUfDA76IkW3p9UbD7nclWQSMVCpViFB5q1LMJqihXb659sgjk/1207BIv9sGoVhAQltri+tl4/R0ttFo+Pw+vd10dhT7gjf8UIsCMMagog7T9DEG3VaLB6ZmEkXlu63qzdnqxPREp1Vj/rDEw6XZheT4tJOmAQL+wObaBo16K4ZZSnu71d3NXWNqJlmr1gGEtd1qPJ5hlMzO3pLVKM+Meh34fUKz0WQIt6oVNRg4DDNlwR+N2OvtviZAijmZVwXeMU9i9mbXduN+b7NZ9XsTkFFG9zgLo1jxJgR+dWtHZjZDnMzjpm2XN9Z5QKu1/5+9P4txLMnSxGAzu/vl5U76Rvq+xJoRkVkZEZmV1ZVVXVVZ1TNVXd3/PPwN6KFHD9LbCD2Q1BBaDy09SCNAaOhBwDy1BA3QGGh6NBpII81U19pVlXvG7vvupNNJOvf17mYm8F66h0dkZGRkVqQ76bwfEokgeUm3Y+fY2ezYsebYfGLgPGlC7LaF/qN//AdUq9l4uN81NSH0yte+Ie3nm63mzOUbc/MTvW+Co0MjQUx0XUcsTwFECOqGGYkngsEABTQUH5NtaptGt1kUAoZuiUpoZDzCM+jK/GytqRLIvvrKZQQAYjs6aWRskjIi47Tm0Q3LF4gkQiGGgYFQrGWYvlB8PBp1sgbIsiwpGB6LRhgGXbp4sVxtMFJgZjTEsMzCwoVGq/PLr7/6CtOZwVOaRUppKDwk+YFtmRCxhAAK7bHJi3G/DBxLe/H2zXK1bFHp9jeu8xwTCIVams6IyvVXx0WevX6Vq9abGKGLr9zwiV3XeWx+gZNkCCDoGVu9MHeR5YBpWQwmAFBZCfhjvhNVNJ3ZFgPRuTm22dZC4UQkGgFWO7mwwHHQNE2OF0+QQi3T9I9O+QEwTAz9iHOaK41NTPCS5DY07LteeAzDYqJSCmbnFvyK5CSqz7cjDVhfNGBW2roZjA9PRsLoPBZKn6QJOl3hLMvyBaPJSLB/E/BPLS6MLcCHL42HsWk63e46OtkfiE8IxG2dpulWYHg0FApBp73l/MK8InCgt40UhezXbt1muyfCo7MItDQT8cqrl8NOEQS0LDycmIxEAgDjRDKOIEAI2bYuyMHL4yEAgBIIzU8rtqkRwBJn581qq4gTrly+yJylYn6Ce2NTs+VyVTfM6Mh4OBSwtNbChSkGYdMk2CnoDo8kJyIx9+Gh5IRQLOmYzkzOB2XBQkp8WOrQgYBp2cPJiUDATykZGx2zCWsaJkIMhCKEwDTNYDQeCoed2sWztkiMdPON6/VGw6AwID/2SBlOGo0EDN0IRmeioRDW1aToRwBwvDw6xADAXLl9u1KvE8pfmptjnSKfUFi2LGtsejakyKfsdcEXrGJ89c9WFImhlP7lnyRuzvteVgndp03syzW6axn9L/4mY1okEeX/9s9nuoqm3V5/6y3t4UMMwPWdHTYcfrnx5VcnlxTju7FYR9ZCoeRPfjJ8+/bzh9JqtRRF+YIDer4APvHpU492if9SS/OpiXv6lz9vUZimaRiG3+//Cvnn0PV8Bj9NhfPyeD5elnDkcrlRZzfz5S26I449ybsnnnwGW5/NliOqXwKxGGPTNEVRPGVH/NmCfbqwbVtV1UAgcJq5sZNUnibVtm3ruq4oCjgrak+LXkJIq9X66tj6DLocMw+6pyOeoaC+Otrb7TbLsoIgvCyiurrlBXykL0TRS3G62u02x3E8z5+CXnoOdafgQOq6DiH83dn6HKP52dbn8Rw8RWhmc5OLRIejkZdLrKZpDMN8LlvZngqmn/lOP2cH+pKEF/8UPpP4LzUFT00c/CJjOiX+dc/ewS9ARfcrvSUcz1p0z0rZPfXkMwYPn/P7fb0S4Llb1V9CLs431efO9Hw2XScWL/yMBd7jtD81TviyLTHsN730HOpgn0vss2XyhIn6LEID8TgjnFltsHfi0IMHDx48ePDgwUMfwklf+4NBcHbVKp4n7cGDBw8ePHjw4KEPcXLz94xy8sjjggcPHjx48ODBgwcPXwJfOCdtGIamQtIPTfshALphPv/qKk3TGEHoG3ZhfNQs4YVu+SCE2LY9CHJsH4Ge9xvpEEKEEIwx6eeLJF4QrgAPiAx/WqQxxoMg0u7RUoyx5Vx3er5BKbVtexAohRBijCGEgyDDLpnQwSCsVtcSDYgeZhjm5XvSuq63Wpj0w8KAEOgaeY4jDQFQ223Isn3kWRwfW31BT9o0zUFY25Zl2bZtmua5pxQh5Nywbg2IJ21ZFkJoMM78PW2uXEYPgiftOpeeJ33+1PIgqKljGR4QSl3pHRCdbNu2KIov35MOBoPxIV+/6PayoQPY+qy0NAUgGou91C54X7EWxjjtVORACF8kImRZVpblQZB40zQRQrI8EBfRiQ4GxJtkGOb0u+D1iAanlEqSNCDEDsj6dTeUBkRTUUpfShe8fiH2q+6C1yNwUxsDwla3o+vnzwnw4MGDBw8ePHjw4MHDl4guvCnw4MGDBw8ePHjw4MHzpD148ODBgwcPHjx48DxpDx48ePDgwYMHDx48T9qDBw8ePHjw4MGDh3OGs28Ahy3jIJWqa8b0/AVFPA/nXimlaqOSPsgxvDQxMSnybI+PVmvXWqoFAOAVf0iWAACWqbc0KxhQIKX1WsW0nU5GEEYjUV1ttDUTQCj4lKAsUYJr5QpGKBQMMQgeP4wQCkei1Nar9RbD8cFAgEGw8+cIrjWask8RONa2jHqjAQATDIdZ91NKGvW6KCs8y9TKRYu6HRu4eDx8ms0bcGdgTQuysVAQUatWr1s2dY/xhsNRCOx6rQYYPhgKMrA77FqthkQlKPHYNqrlGuKFYDDAIEQJrtfrhg2ikRDL9EzgSkm73Wqphj8QlLuLjmqtVls3ItEYOjHVpq7WGy2W54PBIAJAazebbU1W/D6fDJ+UonazDnnZd7SEKbaK1UYkHO4hqr+oGGC7Vq4QhIKhMM8yA2AOaL1UNpy2ZUowKAnCuW+YYpl6rdZALB8KBRl0rsg11Uatpbv/9il+nyyq7VarrYm+gF8WIexorXqpxAZjCt9PK5Rgq9Fs+wMuv6htWeVKleW4UCjEIGRZRqNeo0iIhoMnG/6o7SaBnE8SoEO52qph1ueXetnfoKauqrodDAWpbVdqNbefIGX4oUiHNEpwpdbwBwI8i7BlVusNCplgKMifaH7csbalihSJiixy+sbYzUZb8ikcx5yhrJu63mg0us0RIfIHgpLAnSR8bWkxnJwYCoWeMDGkY2RNG0SjQYbid9/98Pa3vtk7/DvjJQQR2t1avr+4tb/x0f/8z/9atfq+cyqEsJJP/ev/41/tHxZTu2u/eLTc6yRRu5DdqLXauq6bFgYANEvZOx8/WNzaspyVaxqGruu62vzo448tQvPZzaaq6ppu2RhQsrq6lC/VK8XsylYKQmi4D7cb9+4/MG18sLunanpmZ2PvoOD+tXIh8/G9u5WGhm1rY3Oj1dZrxdzqXsb9tFE8uPPg/VKtCQA9+qXKR6vbp+lGU4JzB/u1Ziuz/fDu/S2AkHE0A8uP1g3bXn/0sKmq2xvLa/vF7rDLhw8efrSUrgOAV3dSrbaa2lrdTucBAKnN+3vpcr2We/+9u73TWFWrF7ayhVbt8OMPf6M5QQK27d3Uxm/ffRefkFdbb62srLY1/SC9dZAvWUZjbfdAbdcWH9xtqsYJN5rkUht33v1wv9A4fnN3+ZMHy2vNVr92+MaWtvhotdbQLVM3DGswEitk+ZOPW460Y3z+m1gDbG6m9tvtdnpreSd1cM4IxtjWdU3X9WwmlS/VDLW5vb5jWdbG5kq1bRDb2FpbX/r4V5vVfpJtS2st3Xv08Z2HutkxVYZav/doS9dtQ9dMm9hG8969+23NUtsqOaHQ87urH79/f/+gSEHHAT1I7Ty8+956rtbL6a1C7uDRg4cPFlfcuyN0B81qaX17hzg3YpfSe5/cu19rGsS2drbWW5rZqlXX19MntHd7aXF18e5v8+3OXNmmtvjw/v37S/W2edZpHKzreulgazNTMAzDxsQ1IketxyHBmFAKHcKP3qQH6a3ddKbdqGxt5wCCtiW67jU9MWnk6CXtghBySrcIsmcdX+K5S6/NX4YIkkf/yT8ttM2pUH83KUSQfvjur5KXv/HdN69D2L1AhZ7ZbfAvItcA8eLIyJhf4DujpISw/tdvXnu4tgYogAwzNJoAAFQP9yKzV0SWMgI/PJYQORZAaOvtqg6//tocIPovf/OIXJwZdh/O7wXH5ySenbxwqfNS4tNZlY4DYmr5YnZiYooB0LZMm5OS40lgGR/duWvPjDOWtrq4d/HSAoIAImYkOQkAKKR2L0+GnbUBTsGfppRCxCSn5jqmKBb82Qd3MZgfGU0CAOqlTHQkLAr85dduAgDCjPb+YevKxBAlVvYwNz+dTGsAAObqwgIAIMSj9XydJCI72fbvfft1DoBW6v+utKyYwvUCz8Xg8PXQCADk4KDYbJtSUKiX8sHAKMNkT0pqrZDyhYemJsfVpm8nU0kMz736SrBjzwq1RksPyMKxCIWGxi/oarPbuJ3WCvsleXZBrNP+vJaBUloslKRgdHZmrCMSTkvRQehpjTguMT7Od5TWOae2QyHiLs/PAwAiIredqeHJBHte0tKUUskfmfBHKCWGWo5Fw83ygRSLJBIJaKrlSjU0Gh6fu8CUl2t9xTMK4IVrV7QHj1wa8/lSYnwkMRR2rcPOw93E7OVk1E+P2gA7uVsixydf5eWi6npsNBhPXGTNHaOXQyfqC0ZeuSx9+HADUMBwXDLZsUGF3N6Y4GcgMNV6XtXHx5KQQEwswwITw8PEVFd298lRfpQAdPHa1a3GxlFkRS9evra9vEHPNEimlAqyLznhq5CWxcTGk0PuJnChXCaGKYdi4aDS1T3ULhaKpm4JvmA8pjRbxUji2lTc73xiQAia9XK70pBDkWg4CLB5WDg0DYvySnJ0yGzWWpqBCTFUIzIypvi+8u011COJ3NLuPWt2ekjp++oObOnZzObw2MTxjd6U0p5WzxAylC3nD/fTqUKlCSAKhvyAkJM+EKUkc1i7khimFCDMFJyHS7WWjW0/xwJAIeI50Gp1o0eSzpbmRoeOv662G4GIDAHNpPfDQwt+vmPGEEJQ1SuVarPZwB1lgHe396Zv3eLA42spKbEOi+XhoXDnT8DTmYzHbdhz+VQ0MsPCbhidK5SjQ+MMBNjUD/O53ULr+vQQADSXTkmhKYl7YroaWisSC9iWwSC/+0kwGm4aWo9YWdcp1Fp1xCkBH2+0m4fV9uhoqGuuiJseoLUm4YXOkkSMiLFJuom8VguBgCLSo0vLoXunBj7KhVhmrtK6PhUnuI8v/TJNjWIzlz1Ip1N11RiMq2GgHAjmD7J7e6l6Uz2nSWlKKcGEUHycrKK1ZsUXDZyL6g7q3vxyrMTUZqVt87IocILYbjTqjYZpqqZmIE4QOURJPwVMFFJe8gkce2QgiG1rttE+yBykUvuaiZuUEr19cJDZSx3YuKvlIMMGFJl072WmiGEVX0d39aZoutfmA4B8sowAeSqVW6o1otEooCSbzceHEnLHOFGWk6IBaXVrez+9m0hMICfrRCnlRYmDgBypZUGSBZ6lgJ61uwGfCGcdZDYetWzkk6W99SW3MAFBlNtYLLQtv9+X23xQ1MDoyEz9YHN7Z1czTCczqbd0InFwZ3fHwiC3s3ZYtxR/oF3a3UoVLbWyvZtiBImhRno/cwqJadQL02q0cn/9v/72H/3pP/ax8DyospYGLfRs0elJR3pkfCGZHIsE/Zsbmzp+llfRquomp/hECJmxyQuJsZGQX97d2TUxJfDx7oqbzjRaFc0QQgEZOKrL1Cvpw9rocMzQGocNLRyQDdMyzI4qn5wYtS3TsjFEjGm0VMz5WWIYlmmZriVo5rM2L0sid5rBiMsvtV5KV+n169MuZaah1S1mKOp3S5J4QYyEfFvLaVVr5+tGLCwZOsbEcFWDrjZKJhxPjDixVHdCEWR6ZGPCJZBgO7W9P7EwJ7Ign09xSoTYHQNsmvZBOrW0tJTO5AjsGmTY+c/hL8V76T15eCIgC9VS7sHDR6n93FO/Xy3kGc5HbNMwbYeV/bmQic6K0tDwMAvtvdQ+GAigSzduJIaH/CKzvZU+rwUerWp5dWVlaX2jrdsA0Fb9MKsxk5PJcxEqwb3lxcWVld2Dsvs6n8vKwTjHQH90eDQWMQyDUshwXF/S5ipQetLY2rzkHxkZttRm7rAMARVlZXh4uFLIlZrqc33WXtwmbtcra8uLdxY36fEgT8Bo1wwdKLJk6K1K0wr4BMMyDcvAtq1pZiwe9StiKb9PnO2kY6+jHyIlmt1M16vlzGGRsMh2zllB581Ws5HJ5THHaJodio1cunhRhMadu/ctAigVR4bj8bERBAXbtA72shNT05FobH5yslrOU0qVaCgWCQ8nx7FuYfyVB05nfxjO1Fv/57/99Zt/+P9/ZTR4HEf2sS3ipOHZuUx+49LMa4AQ08aiIPQyTRQAxLAIACjJPmzZGADm+CNX39Dszv7QSIJFkFLKMKxzYbUkWBaEvNGyMKHAVikK+53Td6n17cTsBabzPdBuVX77wf2v/963RR4ZbYKwtbK83G7WdCMd+vY7gXA0AIDWqEpiiGdsYjVXlpdbzRpmWrF43MeDdKEYG5s5/VyRqTc3NnavXL7GMd0Mbq2Qj4WiLIId5U1ROBwO+8W7D39q2JMMtdZXlrVmuaZXiyNKSGGXN7Ynpq6ILCKUp7StYyAyJF8uXFrw9Q7fDw+3NV9gIRailCDE1Qv7jw4tbNs7e6lL89NjECCEilutYtsgnQlps1BGABQODxrtwLVrowDQcHw0FBuFEHal5MjEUcQ0qrnlWqlezjdtGIle5Zn+W9SIDTAUMgzLcTy21Z4u0Hp5KTGG4xCEiiJR2qDgfBKthGOXQ1H3VLSu1Ze28pcvXRWYvi/gcSoc6PSVV+iRA2XrrUKm+eq3rjnxPzM0MkopbVayfr90kun9RKMb0neHjRDvYxDDsCzHQwNbDGIRQizHSSy1CKG445VxHHvy+xQccZmeUsXgi5OmBCOXroY/y/092N1RhmY5BhoEY0tbWV5u1iskf8i/+jUVSVOxGLGV3J1HumGzAHPOpeWucn68D0ldJd1zHBdFYXLuolPYi5Br7iHgODQ2fWFYYVw6TNPmBDkxPZ/b+alq4G5cBaGrowSW1U0LiLyuawwrQAgtxzHBlknhaazrM/akEYPWHr6XrxpTdvq999Pzl16JBuU+1mVO1fE3vv0P/7d/+W+w2UJaURq6+PbNV3o69WZbqVRKkORKKR1Ijis8qFdKtUbT1Ix8vjiRGMZ6q4bBQizsPGzspdKi5KuUs8GxpF+R4hJcWlrnqZ2YTEAnbm4w4kQ40NHj2HzwYHNu7kKrnG1z4lAs9vrN1wEA2fSu6B9RGHNna5/n2GyhNHfxkuSTr93omLdifgfwUR/P6O2aRpm5aPi0mUjsrdUHUIy16qV2nYnG4wJH0+ncxdffdD7Hjx4tKYGw1cjNXr4W9vvCN244peGLO81kPKLc/fgDJCdtrXKgwZHRkenk0NrKCgtMOfFaSO6V/g/tyv7aRmZ69lIudyApkfHpC+PTHY6Va39/+eLs8SgjE8n9eyv7PMhmDmcvXLLU8sp6amp6JneQUQKhYEBB3dIXUikXi6pl0PJhiRseTQ45leXprY3g8CTfhz4KBCAWCy+trAGg1UuFydmr8NiOn18QtbS8WYzE/Pvp7PjsfP82XXmuuwmPM3bUNlaXl2VlrFk9bDe5eCzGMn3M325hMDpeafQwlQrNLIiMm9Gspg8qlqWbnDwZDWPLKFdrVVPGtXxDjgf8vr6g0dLaxXLZJvZh/mB4ZCweCqxuLOpjiWq1sXD9Ag1ySxsrjVjEYIT5gFJIpVQgTs8MlQvFQqPZsmC+VBuLB8vFUrHRtCxQLHHxeAT2UiSEjppBNWrVaqUMADk8PBwaGgZmbb9gvnUt0vEafeGbt252FOzOdiCW9IuksNM4yOSB3YLhKM/QpfuPLl17FVGzUm+2TAmX8m02LrCkWCxrVqtcyivKpCywZy2uLESuhoFTN67ubG6Mj0QaperkxQWO5QBE87e/9nBtCUwlmvl8YuFSdvkBDUW0Vl1KXglIrCAgd8441HG1Z65dXnr0QBsLHGZzV772LdhIN6qZ7e0dq3oYSsyyHRv01UZN8AVD0lf/bEWRGErpX/5J4ua87+XFsbBdLzmHSTu/GIzEfeLL3Hhay+h/8TcZ0yKJKP+3fz7jvonb7fW33tIePsQAXN/ZYcPhl5vXgRDallEslTlejsbCgJCXVeFBMb4bi3VWQCiU/MlPhm/ffv5IWq2WoijP++POcG3T0A2T5QRJ5Cmlhq5ZNoYQEQL8AZnYtmkTUeQ7QSClpmUajx/uSKfaagGGkSQJUmrbtkWpxPNO9I91TXdP5gLEypLoZpdN02AYFiFkGrpp2aLs4xh0lGyAlmkChDiWtS3TJkAU+BdJHZimaRiG3+9/GRwkmq5j263KgJIsI4A1w5Jl2R0JpKTVajMcL4nCsY9omQYGSGCRphtOoZtTderzMRDqWhsD1icLL8uhzOVyo6Ojv5NBMjTD6hZTdlnZ0QW41dZ9Pl93jM5wKbZVVeMEUeA5bBmqYbmbjhzfeaeb3KFUU9vEORMAEKv4uhkv09AYVmAY+KUdUIyxaZqiKJ6yI+5yClumqhuiJHMsc/rBgG3bqqoGAoHTJNnQNcO0RVniWfY0SbZtW9d1RVFOOWZ2VitxU7ayJJ1wQ7+ycIWQVqt1Cmx1Gj5onCix0C3SIlpbpYj1yaLbEE1VNQAQoITlO8v7K4nY222WZQVBeHlyYuqa4QYNvCgJHGvpmm7hjqbteFawI0a2Lckyg6BtW5hCgWXaquoWSRPABhRRbauYUqdcjfXJ0stiebvd5jiO5/mXwjvXCiOEKAWyLGPLtCGUeP7kqjRNnWF4hkEE221Vgwj5ZLkTNek6L4iEWLpuAIAoJbwgsYiomuEeBBJEmee+fFpH13UI4e/I1o59p1DkOZci0+hoHl6UBY4xdR1xHMsw2DZVVWcFSRI4SonabgOG90kCJUTTDVEWEaWaYfC8wCBkm6amG0rADwFo5DYzKpgeS1IAJUmEv0MSRNM0hmE+l63sWYdhxBeKKaHHAtRTGy5fKtKC1PFOxsYS3U2oXqbHWZQcL3C80M2qQyhKjq49AsNyEvvY1vK8wB8/7OR45CP7RyFk3b0055QlBIwk+55SEACAo68DQZQEEZw4A9dZ5O62FKWU5Xj25Pm40/MnkCw9tTGCfDLX3T3t/B8prst+xFxn2N2WmLL89KaK6ExC7+RlO6MVJE54kuoO+xhF8R3JLHRPX0KGdYl1tv4F/8mvHaknCKHsU57yyTqmTpBOrenKy1/FHXp5P8f3FO++SpI7nPrUkjy3cLr0sLLMnl+GQsnRYw4rO0rssaKmFCFWUfxPrdneZxnL8oqff0KViRInPrZGrCgqRxlelu1YEAqA7wntBGSf71MhZM/x7ikrjISOfTk51o6C5UWXIsSwJ7NIoiQ5dRK88mQLB/+TU3eGZB/b9+Nh8ILk+gVOjCR2LQ7L+wPHGhj5FP/RykWyLLmVOpIodX+Q5/1H/i5kRZbFoiTB06KVPXtH7sms+DnQ3vCE19iH9vT5Xvfz3oCf/ehz3z55POLpf5zygc3n/TUIn37g6MWLjLF3tPWnR9I95P7pz+HzWfo8bvbVkZfPmaUBadzxLNEeDGoHjNIXeafvCIFP66tnK6n+JP15SunLjf9syX6GoX/uR8/+NwTwM8iRI6NToVOllQUePHjw4MGDBw8ePPQ53L4IDHOq+6HIm3cPHjx48ODBgwcP/Y6TG9qn9kfZL+3198OEvlDDF0rpuQ/RBioePfdqwqVxECgdTBk+pn3QGD04XB4ESgdq/XoyPOBkfmFPutlsVso66ZM5bDRs8NkTAQGoVquI9M+NxhgfF2GTFxg2xljTtEEQd9u2TdNknYYD55tShmFM09R1nRAyCFrMNM0B9KTdxWsYhqZpg+CFuOsXITQIIm0YBsdxg8BWwzAsyyKEDAixGGPbts+9DFuW5SqoQdDDpmlyL3CT0Rf2pCVRVBSpXzxpqWEA2PhMpQaAz+djTrf10u+khY9kF0IIX8DqIIReSlOevlBkhBDeaRJ0vilFCLm9lgbBk3ZtMNefV7L97p40xngQRNqVaqcXAT8InrRlWYMg0m6AxLLsIMjwMbGDo6wGxLV4wTjwC3vSHSsuCP2yLjju6P61z5YG9uV1uzwFT/qYEvhiy5thmEE4pU4IYRwMwtpGRxgEb9Jl6+B0WniK0QMi0i6xLMsOgqYaEEqPNdXgqGWGYQaBs242ekBk+AWl9wsbYwo8ePDgwYMHDx48DBwGsNbu5XvSHjx48ODBgwcPHjx48DxpDx48ePDgwYMHDx48T9qDBw8ePHjw4MGDh1PE2deMuw3dnGtpzsO5IgoowZgQACBgGAb1A0XUQbcliNOu+LNePlUj5T4AKCXOxfbHD1MA0OOX5OjBz/8p9wH4rO+eyYS4LQU+a5wIIfDkxxAh6Bwq+vTs9doBwQ7TCIAInuiESpw7oZ6Q2RMsQ+7V/tR56FMs6QoBOtFX9ZiV/beKnxx8X9PyJUgnrmAMwJXaj8XbWbnnjK5n6vMTPIYn9XDvz8BziHqmsXjKGHXfJIR+SrH3nnLuUnrSSh6R1qHg+N8dLU6py7unCD/J8WMb/awf7P3l2aEPW6ZpE1EUe3PIZ+1JQ1gt5R6u7aB6zT85/erVy/2uziDBDz/6O5UdBvUsCE29fv2KyDM9LqzNWqmp2ZQSXzAS9omV0qFmYtu2I/HhgCSUy0VVt7CuDSXHJQ6VyxUbE0qJodujyaTIM7ZtpNP70aFk0C+2G9Va0wAUc/7gcEhpVktNgyBs8UogGgporWqh1GQQDkaGFVkol0s2poBS3TAT45MstLMHGcqKidERQGm1Um4ZNrSNSHzMJ3GnOSONSqGhGrphxkeSQYlxSYaAqqo2mpwQeaZ0mNMJlxwdgoCW8jkNA46FHO+LRYOGVstmSwzLyoFILBxo1Uu1pm5jEh0aC8i90iCJWHomm6MAUs43ORZ39WupkK/UW3PzC4/llZJSLmdSiA01npgQWZjOHEAAKWCT42PMseWl1DD07EHGF0kMhWX3PbNd3T2oTE5NSUK/HfEm+DCT0VlpYrQzMwRbxcOcScXkWPzcZ1Zsy8gcFCWJZ1ghGgme+7ChVMjpJrEMMzaaCPiE80EVwXYpd9Cg4kxyGAJaKxVVw7aNZmh4POCTKLFz+TyDeFbgouFIo1ZqtQ1VN4ZGEgFF6GX7i01tayc1Pj0n8yB/kCGIx4SMjIxxLCwUCiYBxLSHx0ZFjnHtmtaqVapNQm05EIuFA+6PHB5sm2x4YjTWrpRqmsEgxEq+eLi3RL1ePqy28eT4mG0086Uax3KQ4YbiUdgx1tVcsTQ0PhOSWGzpmUxZlDiLgpHhONt1lEnx8MDCyMZkaHhEEjpGxzJaO6l8Ijnpk5jS4QEGHABQCYb8stjLktyoVupt1bLJyMQEqJX2a835uQUG9KKQnnEoBgFsNRusFBgbCvzrv/4XDaPvW+RCbD589PfYPzI6NLT98INff7zU48dcsW2m0vucKEscs7W5aVOgGZai+E29lc6VAAC6YUk+n9Ws3tspIIaVfT5FUQSOLRQLbkRbzud2M4WmalBCUqldVpB8Ire6umJTvLeXlmVFZFA2tW9hvLW2zXCyiKwHm7sIMbKsKIoiCmz2oMQgmsrsVCr1YiZPKCDY3Extiz6FsfVUJnuq1hVQXddF2cfi9oNHywRxstwhWRK4QrkEICqnl9K5Ur5Qcc3WYbVGeV5R/LIsAoof3rsLeEUW0PrKhmkaqysrvOz38fDjT+70DtMto20B1u8TV1eWGhp23lGLhfzq6trJVvF6q7azX/Ipfqw3UgeH2NYNGwQUX3p7q9x4fOMPITidyhSy6WpLPXrLvHc/VavVdM3qN+eKbK6vVqq1XLlAOlEeye/sFkuVXK4yCOfVM5uLTQP6/X6eH4C2uMRu6ZbP7zfbtZ1U5ty0Z68UsoV8ZrdQpt2LYGxJ9rEAb+zuAwAPs+lyTfUHAwLPAwhM05R8Pmpr69sp0NM9GejW0qPDUlkzbIJtA1O/31cp5Arlum20d7J5xR8gaiWVLR1/wdQNjhdFFi1tp1y1ZjQKy9vFQrUJAGgVDjHD+gN+n9hj3qStLi7tFgpVQqmt1Vq2GfD7FZ8MAVAbtf39YjG7UTE69BTymYaGAwGlmM03VP1IgWHDtBW/v92o5ks15y28u53NZkuttkkJbjYrvo4R9wkc2zvpPKd7/lOdm3FqZ50TfTxLVd0GAGNiE0IwxseXv7pN97svCaHOp2dyExB71jNIxqcWpucYvX4Y5P49OAebiZAiXo7FRxZGpiIjY//q//qN/sYrEtu79ejYsgniouEgInJub6et42RyvKN0WnLVggDCZCIBAGD0+EHRBAD6fAoAoNiqRseSAoeMdilVas9NJ9wEJWQ4QCFERBH9iAJEIYWA4aDoE4il24hJJuOQhu+tvmdA6HPuxMml8qMTCQbBRGIaRtWVpR3HxhHOZuNBhUqJ5fe3L89PniYLhxKTEIAwTzZSDyAE7jizmbIvPCrxDDe2wAfaO9mq63cDBLmOwhY5jjPqh215+Nb4CABgd2uv0WypFh2OhgAIiXc/qes0KPaEhPO+yKwSBQD7mCXbJgCg7EF+dHxia+/gZMBfzeVjo/FQ0C+ycxt7WcglF2b9AIBISLBPXHAFETM9N6PgVutIwe3vpRILs7iepdTt5t5H6xpOzMxTbKxsp7rCMDUdbtfX9irn3rGkZnO7hL/51ijBWJK481/aAdnpyY5isWrBknp+jgyFhxI+wS6nVUoBRHAkOQYAaAK9YNQAJJViaebidZaBnChAAOJDYwACZDTaZbOXeVU4SKvBZCJQhwAwnDQ1NQMACPr9lo1tHSqyP6zIwanELz46uDA57H4nGBuBEGj1ioDazkacemd17/qrV7L57lpmWFbgRYZjKaCwR3QUxQ+XHs1cuVjNFxz1AxmO5QWBYVgIoagELl4Lr3+w082DMiyFTntyjuMQ0xVqxI5PTHdCBUlwr0SulgqEk5IjEbeHMUSI43mWYd0rgXthmed3V8o6gLYRSi4kIsrjnBbALMuNjk8BANoaVOvljY1No90am54biYZKuY39Qx1S6o/EZieT2e2tpqFbAGHTunD1FYk/Vef27NWHXi/+1X/7F//kP/svf+9P/+Mgfz50N6GUYNsWRL9ELdUkvUwVy3G4qaZzh6XDw0LLAJSqxc2f/OxXixu5kVjkOOIpFFqXxoaPl3v+sBCLRADFy8t7ly9fYiF2qpmYmcnxrdU79xc3Ll2cRYidvTD9wbu/fri2NzI2TrEFIeOkPRBDNbWbrCTZ1H5sKAYA5FmOHmVFGI4DUD8olPKZg1a5RU8xOD6uLFt/sDJ75SZy43zbKudKycSwM2MiA49aq0M4FApo1fIH7713ZztvGXZMlNyf8kPGZjjFwiv7+cLBXhlD0BvXqx5rz2Yxz/uHI36uXTvUTTMc9Lv6i3SE16aU1G2LZRlXn1Niu1ww1XpNlyJ+mRBi2zbGGELIMoyj+ICb8G7oOBEPYEz6zY3uhIGCIMCjnEaHNI5zChLPf4oWGy2jVd3c2lpefLS4vkfOKc3UkVvbtgGErcPdf////oflnYOJ6bG+dqUppS5R7okjBOHRcoTVw4Pf/PSnH9x9ND05AbFVLpY3t7f3trcePFqjlDZKmV/+7GcfPUjNzYz37EK1DbXWal2Z7MR49HEOyFRVKxb2s5LQrh0eVqrpvZSlGkcrF+jt+q9/8Yt3P7o7NZlEgGbS+dnZSz62K9e+4SGj2Vh7dG9xaefMdZTLO0xIOZdRIjPDQcEp54YsH2Qtsr2++vG9RUIoYhjUEeDut4ZHJ3y48PNf/koJKD6JP9JYoJha/PlPf7ZbbkWjIULsbKE4MZVElDinYJAkBvL5wwcfv58tVHrBjSZq8U7Kunjp0oXZqe2Vh9iZDYwxgMzs/OWNe+8/WNp0KSaCf37hwoW5iXqlAGzt/lLqytVr165dLVcLamfyqC8yfOXy5ZhPKlbrp0zF2WsPMRj/L/6b//6v/qf/8ef/8n9JF6rnQlfDo+VhYB7ybC97EpTh+Bs3X/VBTBAbD8mIYeT4/A++9+3r86Mbm9vO/iA5zKc1lolHfa4O0mt5tYUCsqC3G5Bj1XqlVm9VSiXDwnvZwvxrb752ee7+w0XTNFe39t/69nevX55Y39nGBGJHPQBKKGRFJ2Ks53cMZSggPr2VjBj2+vWbjG2wshKciEBwSpcCHZ3JIKXCQT2cmEuEHB8K6moD84GQLDw9DMgMjSZnZ2e++fZbjb2lmkXaVjdEMJwo5fVvvx1jseALhiWW4XtiN82l0TDUVLY8Nz8LAc3lC5gPVEtlQkit3jjY319bWzvIFjiInMOzgFKMGAZCYJna+tbOxFxS5Jl6Ob+4vJw5KDz1+9ViDrFMpVxsNlv1RgP3lUM2iFcpntAGfHD68oULr33thtUqWhY+lzS26uWN9fX1rV1Vt3xDU//gH/7B5YXx5ZUNC/dxfYdtqOtLS+tbu8ebRcdJ1vBw4pvvvHP7a9c219ZtCgL+8CtXrly4fMnCNqY0EEv+/ve+d+u16QeLS3avrtRGs6ESoVErt5pqrV51DurY2fweFwn5ZIET5NdeuUF0VQnHhHAAdg/VQdEXePs73/nGm6+vLy+2DLPdrlO7XS7X2o1aUzX8kaHZmZlXvvZ6vXCgnjHn6f7m+uraeipXLTeaAkcKxbKqNqpNlfcFZqdnLl69Jlj1bOPpTYNCLq3Kie+/851q+bDSaB8d0QPxyVe++873JmPKVipPLNW0cKtebqitWr1kU2Y0OTU9NXn5lavZbLoXVrilaaZW3Vrf2Njbj0WjWqO2urK2vZPCmCjB6Fu//32fVfp4aYdSEJAEBkFG4CHL2bpOIOQ4iBgkU5ZYFCLICxyCkPehmnnaHD1j0w4Rym8vYd+Yn4XhcEAzjPOgqik2DKNebz+88250as7HMz3sSkBKiWHjSGyoWsoBLi7zuFYpS0qIYTjiOEGHmXSuqi3MzRDbRhwHAF68tzh+4/cQBJwgT05OQIRYBlGGpRRrujHJ84IcAatbqq5DCH0sQ6QAwiWKOIL1ZlsHRk2IjkoQUNtY3s1fuHbLnTUnx4mJU/vEQGTadiweP9zfnRgJu9nC03JzaKmQ2S9or8xMWZbFsCwCILe/ExuddQtYCMaWbRNCLMtiGWToOsPzerMis3IoEtpe2a+2dc5stqGocGxLNyOxoVJ2l41dUnqm9JTYxvraSjA6GZA4jPHw2IRlAxaZEACW5ZMTk+OOt91gjZ1C1RiKVSsFTvQBYm+srSnh0eFwAGMcjo2F42Pdw+CU2AQ7VWo4EBtjVYNhUOc/loF9t3qxI4ekw2WW5wgmFrYJxZZl8zx3jl1t1hcRrbVKa4q36ojlz1c3i8fwh+OXw3GnmL9dqTb8SoDnBEibnTC/P6+1pqCjiq/cuOFuAVFCbZs4RaQ2A0C51lR8Poi4jo5FHO9DpUotIEEIKYSwXj4Q/HHECJ3XvUqg4g9OIgFA2FEpiAUUb62vqWxkPjlEMAEIYIRi0Vhqa3VmZpLa1kG+kkgM1as1TpIYiCilmKLE1DTGVCcmw7AMgrraRixn6ip7pmeinU5IYPrSFfdVrc4STLANEGJZBlmGjikExMaAlTjk9u3AgGJsEcLW64340BRCrE8W26oRZGG1YcbicqXW9AeCHMMTzWZ5aXx8sjNvELEMR7GtGTbLcc1mU5R8vbDCeSUQYIXxmXkRYt3EPp/0yrWQY6T0TLYxHI8EosF6HQMKTuySESTKPobUmpoILQvZAo+ojSulasSv1CpqNDk8WJ40AEA3W7/42f9umGTm9ndnxoZdwepjNxpyAU75xb/5Fx9K8sWFi9+6+Trq7R1uSkk+kyrXWrI/NDs/gQBsNypb2ynEsrMz04DYxWIRE7i+uqhZ8I3bX7PrZTs6MhaRnBoMIRIRAACGVodiWODY4bCysvQQADg2dzGg+IZCvgcP7yPExEfHZFmam5rcXl3EjHB1bh4A0KpXfOGhiI93a6J2tzer9aZp66vr21cvzR7sbVdaRigSmRobAqcoFhTbhVze0MH66iJEYO7yawHWKJXaNy6G3bqISn57NVVlEbj7yUfXXrtdymcLlToniLNXryqS/8bVie31JUzY2YV5kUebW9u1tin7/a/fmDvWm2eOZuWgUG5beL+Y2wwlL8+Nhpy3DY5V/IrbZqgjs/54ItTYXHz4gJWUhfkpq13MFWphixTz+/HE9NRoDB6J0MbKcr1lkPb2Q9N6bWFcknwAgHokGAj6EeyrCg9IN9aW27phWuadle23rl/IHWxn8lVsk7t3Prl5++scc07T0RRAJF69PLu5vMjx3MT0jFvYc+5wQhIR06oW97a3ISfOzE7yfUsvdKsZjv55mEulM3mGwDtL67euXtCb1fTuNgAgOTXPQTQ+Obu9uZFl+fHEGANhu1Xf2stChl+YnWF7cqlSSnlB5gUZUFryycFggFhqodAUFXP5YVqKTlyZHtpdW2tbJDI8NDEUwoZaKBXGEkOWqaX2dmxMJmcXAiIHpY6W0wSmbkBZ5IrZw3T2EDDC9Py8gM5MMzt/9Lh7HQgFgwAAy9T8EdUvi1qjtLmzTwCKj09HZK7drKxt7lhQqe8ss5MLieT49s7u/o4tB0LDsaBWLR7WjKFhpVHO7+7usYIwNTULIBeLRlxt7AuHGYj30ruNlsqJ/pmZSXTWJqkjb0Lotcsj60sPCETjySmfTzqaGdQo5/PZFC8rly/M0laR4wSn2R/iGA4wwrUrlzfXlxHLjSUmeRYBBInRvPvgoaKEpoP+U3a74Asecnz1z1YUiaGU/uWfJG7O+17Whq3rmpiGTgASReGlVyOuZfS/+JuMaZFElP/bP59x38Tt9vpbb2kPH2IAru/ssOHwy85p2ZaNAYSiIELwuI/jy3Dy8N1YrBP9hELJn/xk+Pbt589tq9VSFOW5f93JJzodvRFi3CwUdTpiQ4gYxm26SbpFGRSwLOvUZnQePHlY4biXJ6DUxpgCyHXNErVtDAA8zk1ipzyRYRj3D7t9il0hdI/cOs1BAcMwhODjLuOfuyZM0zQMw+/3v5zY4ohkx9oyToto6pSoAbdVhdvRkxDiHtogmECmM33u+Am2KejQ6HSkwqRDBQufnLHfBblcbnR09HcikWBCocM1CjsDR446pxgTh17qaoZjhjqyAI86v3e7z6Kj5tHuGWrgcI5AyDHM0UQRRya+/GYCxtg0TaeH6KnpRFdiO9QQCtgjOTxiN/cCwvhyYNu2qqqBQOAUPZbONGNsO1J/qoV/tm3ruq4oCjhdah1dhx2FdEr0EkJardZXylZX5yAIMaUsw7pvQOhqpI70YmxT2tXJ7uJ1tf1LH0m73WZZVhCEl8WyE12WHRVNKXD2vZwGDoBhWXj0mNvsHzvGyIkJqXP62bVjFEF0ZOa6xuh31zDtdpvjOJ7nf/eY1vXLHCMLHNUKHD46Jf6EuIN3dbLbqoJhWeQ21XaaZ7ukIQePZ6zbQRy4LTKe+vSLZT+d3eaXw9ajEWDn5Dt7dKnI4+VpE8Swxzc3QOdfrpMMIcS2Td1TOgBkNje4SCwSDHTPCbykCEHTNIZhPpetPVG4yQvi8ULp6wPj7qUVDMsxLNf1WHr9dgPH04HMyc70ECL2qNmI07v95KfOaXDwlBtNIURuXhlC2PG2j8NNcOKl8xWGZU/8HXjyABzDPJETOvHyFAs7nMGgJyfEGQx0g3dHB3U/dUfYeb779LHz/ZjkYwPVO7Lt6CN3ctHjdxzWdijq3rziOsYnGOpw+UkW0aN02GMuM4+VIHWnpb+OHFL6BC0A0GM5dB2RPldRz8+OdXjFMCzoMYn9qqilT+i680HvSZ1zpMNO0tgh/CkWP6Wie9lWHQ/vpFWi4DFF4MTVLSfNzbE/6XDe/fTxtPTUPrgbq7sjghCwjy1mx4/k0GPeOoQzxwrq6LKWpy34kc5HnzKsPeCcHK1D5mgLjD7BQcRy6OSbjply3QHqdl95HECyLICI675z2pLMnr0f99kv+1A7Pz3+c2eI4KcpfazdniQXfg6vX5zp8Aw5+NSInzvapz985iz1opSe3GI88fETTz5j/PA5v39CKvrMwXoujee6Ndz50sZfdB2cD3qfT8XzDW6fzsAz7cpnmJvP+LSHCXrO+/CFNFivc/azhPAzrCd8BvVOMn5ieuZENHja9LLAgwcPHjx48ODBg4d+Dh/PKmZAHhc8ePDgwYMHDx48ePgS+MI56e5prD5pEUsI+TxyyOc+0zugX3yodBCulDgicxCIPVmePghsdTGAqvmY6sEhf0BEeqB4OlA2aHCU1UBR+lV40jBzkPHj48YGPe5zgHQZUfqZeXcEwObWFngpDR9OKzJwq/Ldlsaf+7hhGLquD4K4u00eDMM498sbIVSv13me76MI8EvHDG7T7t/9OHw/ghCi67ppmoNgsQghpmnquj4IxKqqapyLmxM+d/3qus4wDMdx556tLrEsyz51bv5cwrKskwdVz71rEYvFXronTacmp64uyP2yLph9Hb6bBuDZPgcG4NKlSy+5C95XGh5h/LHDM1c9fe7zoiieZmOpM8Tpd9E6W0UWjUYHxJu0LOtlddHqOw2uadqAiLQbNsiyPAjEus1JB4FSTdNYln0RU3U+AiSe5wfBvzRNE0I4IGzVdf1FklZfmOuYYKcfYd8o6OfFkY65ghj3kSfd/Ue37eTnPd//jQVfnNGDs2F67rPRJwX4uMv4oHnS3S7dAyPSAyLVg0PpoBHrKqsBYevgKOQX9Cu8E4cePPQZBtCt9BjtwYMHDx56E54n7cGDBw8ePHjw4MGD50l78ODBgwcPHjx48HBa8G5m8eDBgwcPHjx48HD2cEuTn1Pb1q1d7qXqt17xpG3bppSyLHsOSgMpJbZtAwooACzLIQR7XGqPe0NCCJF7Oz+lmFB35PREz0OEEKXkWIzdhwnBlIKjfz8+coEQ4zbsBhCi7qX5wH3efYM6ZzQo6PzOMdsJxqDz6RM/deqthSjBnYExDDoa5OMZgBASjCmEDELHc+gewnAnAWP8eCa789P5qV6TUtJhMXL54jZWRwzz1AJ8ijT3W08w7AgOv+BJaccYH/9+n8I984cQMxgVyxTj7qJ7JovPpc12FdTxWj4/pJ2498FZv5CSju52ljJ8rGz7j9GUYOpalBOL9FjBujL8tL51TdyxFXJVOupxpneskDtI+kxreKxgjw87flrfPqWECcbwrHXyU0czP6Vq6GE2K4fDflmGnzIxlNIO+QRvb+1NXZhjPU/6iUFQ85/9s//OQr7/+i/+Kwb09+lXiNjy9i//h7/658WWKIjhf/JP//OrF5I9bj13lz9Y2atRAKYuX782OwEASO+trB/it29eZYj9yQe/LdbVjhxT+r3v/SCz/sH6fgNANHP1+pWppNoq/fLvP2RY/sbrt4aD8sfv/6bU0AClDMt96/ffqWWW7q2mGSV46+bNqCIBAEyt8e6H9y6/8tpI1H+Y2X2wvGMhdOv214eDYmfZW9oH7/1q6vLXx8Lih3//Hyo6CwC1bf+P/+jbpxiP0MrB9p3FtVabefudb4d58/33P6w0DWexw2/9/vfMxv7HHy7RQPDNN78Rljln2Pq77/5Wnnj11ly8sL/x3p0VXzB469abIUXUW+UPPvq4WsdvfvMbo7FQrzDdVO/e+2g/V5u99Mq1i3O2qd795ONcoTp+8ZVXL82hE6p8d2t1eXXbFwzfuv2GwtGH9z7eOyglZxZuXL3EHrOEUsvU7t39RElevTLRbc+n1rI/+83y29/6vVBA7FNXpFrKv/vBXU6Qrr9+azTiHwBPmrz3s5/VTBMAcO3W7cmR4XPuSlOSS69//GBDVpRbb74VksXzRFxpf/3DR5sAQIzxpauvLUyPLT36OJ2pBWMzb9y+yEKqq7Wf/eI3M7e/f2VY7KPQp1o6eLS2+/qtN30CCyjJZnY+ubeihEI3b78REPnM3vb9h2uMHPrud97ijxQUtozlpfvQP35ldgwCaFv64gcfgtFLr84P9+5SxNbu2r1cA379zVt2u/neb99vWRagxOSHfvzObRYho1391W/vv37rdiwsl9Kbd9bSnI0v3rqVjIeP56rVKPzs15/c/Nb3k4GOnWpWc/fvLF2++Y1oSDrDpd3IHnx4957bUJ2ywrXX35geCp7IQ8NKqUBlOSDLJ3PPervxwYcf1erNW2///ljIt58uT1yYc/uYwSMH/ShsfLLhxqnEDWwvxF0fffTBzbdf+/nfPTon5giT6/+///RPf/AHAAFqmhj3dssYSvlA8Lv/4C2J6WajCztbVUsO+2qUQobj3/jmdwAAtlb74NGOKLFCOPKD629zDkHENu4/Wv/OOz9kcf29T7ZHv/nam29/FwBgqbU7KzuigMTI5A9/dL14sJPay0WuzgBip3Z25JAfImQaWrbWfucH3yVa9YPF5fitryFqrywtBoZGWEgQJ771vT8GALRrxfViu6MSnZTC6eRyoBT53g9+qJZ2fv3er3/wg+9/49vvdNSx1ny0sS9IbKPo+4M//qPi5qO766nvvjoHKM3s7sWGAnXL6RIpDf3xHy8c7m6sbey98er8/Xv3rrzx/SGf9dP/59/5v/ePFKEnJEEz9Nlrb71+G/zipz8vJSd9iFy6/sZtRfz5v/u3B4nJ8UC3UWijdFDX6I/+8A/Lhf3dnf0Ls0PJhVdv3PTde+83hWprLOo/kiCSz+QUhuFhV3+ZWn1pMT0/lyT4pK7rp1xlo1pYS1d/+KMfQgDcPYk+JOML5wEElvnhD/7weKsFnOu0NCE2Fxj7ox9fKqQ2Nle3X3vtCnNeyKWUxicv/WjyEgBgf2ebD4Vr5Rz0Df/DH319Z2XxIFdJxsR0pj4XNvW+EmqtVTsstRDiAO3QWMqmc232xz/+Q4ebtJjZyVWYH/34h0dNYjtLlhI7tb3DMz4WYgAgwVYmlZFCssrCHmYfyWeziA0SXAUA8L7At3/wg441rJYOSg0GIWIbOzt74ViYAmRbWraivvPOd7HefLCymYiHXcL0ZjV1aM5FLdvRyka7tp9pKqH42baLpZQGE8nvJ5L1zOo+HLqaiLpOYLvdxpgIkk8UuK7aoVRtt2wbs7zkk9idrdXpy7emRv3Fw2qHAggNXdM0g5dlSeApIe1WyyY2w4mKT7ZNw7RsQgnGVFYUjv3KV/bZ726ojVLmsPbG1SuE2OfEHEGg1krpVCqfyVp2z3dehACbRiadymTzuokBBPGZ+StTQ9Rdf91VR/dSuzMzs4hg29D3U6mD3KFhYcswZV9Q5CgnKtCuto5W6O7eVjI5jSCMRELOhPCSyEMASoWsycQSsZCrByHD2JhAVmQs3bRAPrUlxGdGwv4TK52m9jMT8aHOv07HjaYUIiYciXRCYwpYOXJ0Nzc5ONgPBOI8YhITcVVtN1UyGe9QVy0eNJAyEvI5A2RGYqGOBoeMJPCmrhpUifsQAMLUSLSqtnvEykr+SFjmAcaIVTgGSrJP4mG9VOBC8Yj4uJCmUqqHnStgfL4gJW2G98WCPgAIz7Dcyc1TiMZnZyOKr3sTMsF7OwcLX3tNREcS1neOCAD1pjoUCmQP9rO5Iu1TMr443TYmqcxBvlC0MTnfbjSlFDF8PBx0OMuKPH+eqD02OpberDVbIb8PWxbDIAqA3y+o7RYjyAsXpngK+0qsqaiELl6Y47vKh7QMfdQP9/f3i5UahCBX0sbHlHQ6Xa5UncSkQxtkZi5e6pgVTN1N46m5uaGQj/b0Rc1wdHwyORrrKFT6OMdTKOWD4SgE4DCfZ5WReEABBCCGE2V+N5U6yB+Ex8aO+Sn4w1cWxhm7+31eDl6+OiswDCVn7G+4FGH7cb/8Sm5nb79gNIvLd1fxURq6VUmvrO+aWn3xg4cGRf6Av3iYrjW0+HAUAoqgvpfarBTzyxvrNgDN0v6jRxvNRnXp/keHVU2r5ZeWFnOl6mFmZ2//4BSChzP2pBkGLT36JDS5wFFCKLXs89DYHAKqlgu7Ozup9H4fUASZSHScA6BZK6+v72D65OaIo5GxpZdVKxpSKGRi0SSkpFEpbm6lbICPSs0ghNClFVtqqWXFo939GozNYqk0HI8Q29gvVKdnRrBlE2KzPB9k4crS0sbmtkUoNrVClU4Nh23bJhS7f99Say0NBRWR0lNS+I9r7yxjdXPnyivX3Gy4bZuVZms0Eel8ZBrlUrmotiQeYUs/OCxOjsYIJYR09YJt6uV6KzE+TIkNaLfYi+dEszcu2ugWRlOSyx1EhpNBiQWEtBqNg2ya52UEiNpu12o1VdN0iiFEzlcYCqDrJ1dzGUsKhAOyobWr1WqrpT4VK7aadZuXfDyDMXZqxPvyxhyKVd3SLcs+zO6n9ktgIIBmr1wBplHK7u+kcuR8XnVELdOo1WqNRqsTLQBqG+1csTIykUDnwZWmzUa9Vqu1Vf0oGM6zPoVnUSASN6rVpcWlfLlO+zhAgODE6ImlaaZuW2Zqb+Ow0gLEbmudl5vryw3VdtXSkbrrpoSOXvZiZGyZZq1WrVbrXYfzyQVoWXpTs4IBGdvGQa05nog5l+TZADJhSSyViuXDcpAT6Kds2ZMv6Vl7R88I3vYW1yLDQ3IkIYj1umZ3NBEE23cexcYn5eBQPNLer5rJyQsjQXlzZWVtNwsgpBTNzl2bnp0gFjENO728MXPjxvjE7I2Ls6mdHUAJGwguTE/OzM6rDdXGXznVZ1zdgaCZzWSlkdBHxUKrUdvOFK7ODPW7AqcAhhMzr9+8yaKeO2f2LOWEApGRQARgU7//0QPNnPt0BcLhfjoQHBU4BgIQjI4Go8DW2osP120SN929I2JhLPucbGZ2ZyccmxQ55wAi1u/deTQyMRsOyqZaZSBbzmer1TpqkWDw4tTsgmlZ2FRrdQyoxotMPndQq9QJC2LRqMCidGo/OhTnWHTq+SprY2sjNnU9ERbcC/aatQqvxGS+QyESpLFEcjgW/Ltfvqt8622EhEa13Cw1dYNR9bAssrs7S76hmWjAhzUCQB0DwADQqNVHpnuoHrHeKObq9mWn1AxAFIxEQtFoZnNxc3tvfmrMOQSC/AyrmbYTDhkM4BAErWZhr9qcW7jAIugeq4SfckA0TYXUzuVy1XqdiNVQSGaZfvQqecUfmRyLKBK3d1iYBvHzXjTcCVdHkkkAgNmsPlzN4MlRxJxHomH3YJZTt2NubK1GJ+fiwXNyUTmCiKDuBh7F1k768OL1mxACXvJfuXYVE3KY2qE+6ZzILCOEI+PRoIy2rXqtBhCKxOJhv9iuV2qaGpADn5sZ7Tn2IUQoPCqremL1lXIp6osKPGeqVQ6gwmGu3qjrhOH5kUPVfu3GDWKoa8sbgeBrrvH9/9h7k9g4kixB28x8d499ISMYCxdRytSeu7L+7C4Uqi8/ZjAY9GGAxqCPjbl2n/rQl65zX+c0aKAxhz71ZTCHwdQA00AXqgs1NZWZSikzpaS4kxEMxr757rYMwp2kSEmpVKUoikHaBygzXHIG7fl79t4zc7Nn0zRrQTBCiFFSWb5jKMJ+KDnGRICIEpxbek9WRYiEyuKV4lzhd7/5zTj/U8aUSVhhAoIyoNQLcPSmAokyQJQxKivisQn9iz0nzZiPxT/9j//p//+Tn/7sjz5KprLXFwuUTv9ECAMARbUQpmBahzHiOA4hZDTs+0LMUGD4eoAyxCgj0WLoWtvK5yeZBKPUdVxCyGA4JKIeN3RstgeWN+x24rMZKZwk2G64pUI+mvV8+NWj4pXblUKaEqLo6bu3b1aq1WwuUyxXdJH5QSAKYrNRz5cLRizz7vVr1Wp1diZTKMwqIsK2vbdvposzZ/9INlceUxArF7LRrnAAQH1nLTVTDGcG7LWdFmPMGXUYySZjsRs3b1Qq5cJMUk8VdVXZ+PpXY2GxMjsRWdSMFMaNnula7Y2+kEko50bp3te/vr98ZVlCE52OOo3+2GOUDZqbIspomp5IJDRVyRRnuo1ugGmz0xJjcQjwyuPVxepVXUaUUkXVU8mkoWuTHIwBCmm4K5XNFMrXr12tVsq5TGYmlxMFOHXT0hAATdXandbE1Ps9PVmA52A6500PqSnxbcsmlLTqdSOhX7xyFqHlQ0lSEolEPB4TBLTx6LcovlTIJEhYFmD6B0PQiMeTiYSuTQbtg1bNM+bShhK+TPcIg4gF3VZ3Np85eGGIIGN0igw7LPtA2MRpEQCQIgitdouQwGwPktlcVgG1/Q4OHNNiGSPW29/drncODt4HFCB2uHga0InHCmuZnCfRJFlOJJKpZAKF49qoeYe1soKHDzaWqlUIwCSS3rpRrVQz6fRcqaIJBLsYMAgRcCZikW++fuT5JFqZSdHEN0fluSYZCZxcgvNl6jA/X+hbfiwWk0UpGrxTgMpX5+rdcSwWV2UZQbKxtukGOMD2KICKLEB4bA0oEAqLhbXtGqF0/dvfG+UlQVBaG+umG4xaTUVGYriu6Y0i/OIXv3iV+/7LL9tyOND52a1EKSuflu8G7OBtC8EBgcrylaXTfcXWGeF/fjgilCV04T98drCnlQVB9x/+ATebDIDCX/4l0rRTz03bayurG7W1jS0jk00a+il+dePv/m6iBlVN/Pmfx8o/UBXE931Zll++UJsSsruz3en2emPn5p13JQG2arX9bh8RNrS8bDqFPRcIwkw+gyCgBNd2trrd/sB2r19flkSxkM9tbqzbAbi2tCiJgmfbUkzPZZNw8s3+yBwz32532mPLi8eTUWimOFAUQxJBbXen02gxJbO8UDy0BEYwkxRdlSU/cCRDL4QLGX8QEqIop5CqUopHgx4DsN/v9YdDLZ6Sgd8e44XSJJ2CghiM21u79Z6H7v3ktoRQNGlNiCPK8ZQOWgMsAjzod3pDM5nKzBZzexsbza7z6R/dk8Oc8vXXzZumGY+/VikJs7frioZnj7rdTiBocV2qbW3uN1ux6u1rC9loqxkDQFJ0RfT2GvuYyVeX5gOr1xmRwDN73S5FsqGphy8MaX1naxhAYlsWRumEcaiUQDMMSRR+tMiTEEjIWyiOCaERiwfWcHu/rcdSy/OzEMDTUN0fZIc0CIJTMelXBXura2u9wQCL2tXlJeEMlztQSjHGsiy/ecUe+6WB3R1hhv1BvzMau/F4/AxEZoz5vv9m1HrSPhnr9oYL86Vw7g4Err26utHtDRZv3o5pMgncrY0tS0wpdp+KWkx7I2YWBAFCSBRP7dW3Z4/Wt3ckWRr0O6qenpnJDTrNVm+QKpbmcslEPm81a7V2b25hIZvUvaEDkBSLybubmwPX911v7MNsQqttb3XGWMaW5YN0InZanToIAiHk9ZXHAO20Gnuttqbr4/EwkcwSZ8jk2dJM7GTsxoqm6bohAK/Z6g7H4+rClZgqmcNRMpsOHHNra9sVk8waiqohMndza5dQbDuWHksp0o9/UYgxhhC+plppQKmqpzSFAZDKFsadxnA46A3dTLguVDeMTGEBmq12t9fqmPnZHPPM7Xq90zY/+uRTVQSE+eF2JsYwjceNdK6AB83tej1VvnV1NumOO76seqY1cMni1avya3RsjDFC6AfV+qrTRe//1aOYJjDG/vbPSh9fNU59SHNY7gSc7g6I72ru3/xjzQ9oKSv/018vHQR4y1r57DPnwQMCwN2NDTGdPvWJgeOj/FMMv4yQL3K5if2mUuVf/nL23r2Xt8M0zVgs9rIGHG7Pf5rhPWsQoSyhXo7ueeYDi3bSwqf10kPDAgwyCI6PfmGYnoX3Hyr6ZGYZ/sNhNZzoOQL4Stmn7/ue571mfhn5MBY2/fl5mkMJD/7//KN44RvDg389XPd2KsbQaDSKxeIpdLdnGnk4mHlGyBMyvsj5v/Dbjp5JqPMfKTUhxPd9VVXPOJP+PlM/yzZgjG3bTiQSl0FkjLHrurFY7Iy1/PJc9A2NGUzTPAO1smOO9NiHk10ZPvW3b6INlmWJoniKw4YDWQ4d7TOOC4BnLo/+PDN994zKT2fRtGVZkiSdxmjwecOEh1vuT0TDZyLpiQpwR3I+I/BpaNx1XQjha6qVHWveCT0er2Z30gs9E4mObPt4JIo+DfdWd2x2a/kaOLSJHx2DHMcRBOEH1XpeKlvDi7NPPBIFTktjn33+L9DEs/c88+H5vz8+KHpm28Mzt538bRC+qElnahvwacNfYqbf9yi+T+3wnBn5C1vyrHDfL+wrdt6XP5Pz34ffmhFykXnQebMKPfFxKoV6keN6/vKFjvw5ieE0GOYLeuWLPx/T94sFPh8ah881Dx7fIvpSGb/PRx1dqomZosbAUf785kXmp4VzOBwOh8PhcKYeBphiJJXDKohnA8+kORwOh8PhcDhTz4tfh79hEH/uHA6Hw+FwOBzOj+APnpN2HHs8IlNRqg5CYNvBy0v8mKaJhOmpdkvp0RHzr7JVlFLq+/5lsGOMcRAEvu8zxi62pAihIIRSeuHVGhkwQpdxwE8IuSQmfSSs53kXXlLG2CWRFEIYualjO8MuuLAv3sZ64QiC4MJvojgu7KvUYxF/RMriB2harAVj/JJEGoanCqGwA0yHFz52SB57Na9Nzse5emcQiekhFz4SR5VBL4Nmj3R6GeLTC2UnhFySTPqSmPSRZi9DckkIif57GYSNDPgypJiEEITQ5emtr3LbH5xJx+OJbMaYioNkIQQtxwVw/H1pJwMgnckIqdQUaXXrsN+iV+ixgiBomnYZ+rbv+xBCVVUvQ9+WZflMywy/VZctCMLZV8E7J7MAlFJN0y6JsBBCXdcvQ2DGGF8StVJKT7cK3jkX9pSq4J13oiNCL4laX5EftePwtKs+v8Fk+hXaOUVBmnGD5XA4HA6HwzmDHPLV8kO+45DD4XA4HA6Hw/kx8Eyaw+FwOBwOh8PhmTSHw+FwOBwOh8MzaQ6Hw+FwOBzO5YGSH6hsE1WvOlfbxt7+GYeBa/cGA8ogEsVcLidM/yZ9HLi93oBMRBLSmawinfd61ZRix3EZg5qmI8Qc246MlDEYi+kQQsCoZTuyokoiIgQ7jgcRUlVNQJAS4jg2g4KmTS4ZJY7rUgo0fXJJ8ORmJAqKqgphOSTXsRkSdFVDCALAsO/7hGmaChkDEOLACzBTVSWsnYQdx4FI1DQVna1VUIJd16UATR4III7jHPZaqOkaBNR13EhkBCc3O44LIFInTwC4joNDRyDKqiYLY8s+arqm6YJwTsauzPdcLyCKosqSCBjzPNcPsKJqk8tjHgvjwHF9QRQ1VQmrRnpeEEiyKkvScZ0wNvlCgCRFPvhxRrFlu5quC1NaDZox33c9H4uSrIayXwYw9l3XE0RZUWR0Kep5BaE3E87eyZyBAQf+pFeLkqSGZRYmV5hMVCtJ8CBU+a6PdV2bItkZJa7rKaoGIfA9x8d0EkgYUFRNEqHrOIQBVVXFYzWAIxcdaTnaQEYpsR134pDRuRScAQAZDnwfU03TYCiC7TgAIk1VBYQmgdXzkCBoB3WNWOD7ATm4+alP9l3fx7KsyLIUCe77HqFMVZS3WGgBB4HrutERhKHi1BNBB7Ct1dXE3Fw2EYcns2fXdQhlmqohhu8/WLnz4W2JZ9IHiQlCrSdf//brJ3OLV2Qtls7kpuiYlO+RSBjWH/y3f/325uK7oqRosdQ5z6QpwVtba0CMCdR1oHq1UhiPhgFhJHC2W6PPPv5QgGDY6z54/PDKtQ/ncvF2ve4DwbKGWqowP5teW11R9AT2bFFPzZfy9dqW7SOReiaRbr2z2GzUCJDG40EsU6zMpDbWn8hqPHAtOZ6tFrPmoLuzvdl3pJ98+h4AwBr0Nrc2MVBv37mJGNlcX5W1uGeP1WS+UsidYQCi7VbD8qnVadP47J0rxdFoiAljJKg3Onfef2+ws+4r+ri3r2aXrlYy+619z6fOqMOUmZvXyo8+/7+ppasSIXoyo0nqcDAAoVf89pu1z37+c+N82EJgD1d3O4ZI9tv2+x+9R93RXqMpKeLebvPmJ5/GD+IswL69sr4dj8ddcxDPlWaS6tr6pmFonU736o27cU0+emL9dmtt9bv0/J2r5UxkVtub69vt3ns3P0jGlWnMQsb9br3ZSyRjw14vv7CUi138Am2ABRvrW5qm9nvtfGmpkE9f8FSa4e2tbVGSx4OmkS7PV4oXSV7fGa9v1pLp1HgwmKnMx2XU2K0hCbX65s0btzRFADRYffCwJ8APbtzVFHE6RnqeU6/t7DQ6H378qSZD27JM24OANpp7cws3VTYemz7BXgDld5YXI21S7D158kQxkr41kDOlxUIWMLZX21zZan384UcJQz6XiTSzJsFxa+ihex9/wCjeeLImx+PUdaikLFZLe/U9hkC/056df6eQMcaD7vb29tiH9z758MiGR4Nubb+bjOujYb+8+E5CV0jgrXz3TQC0u7evv8VARAJvOOxbg/YQGHPpeFIQZUmMzpoL59eA49kaxvDw8ISw5C/b39vsDoO4JgVSfLmYGnZtdnAOzsGg4ODmaIruxJT2WYwazsF0UYDL1aVPP/30g7u3JXQBXBmk2FGzc5/c+/STj95P6NI5r10X+L5p+5XyXLlUclp1hwizhblSqWRo+kw6JyBAfHuv0UynspRQiFC2WCpXyoV8vju0sO/ZHi6XS5VifrfRopS0R261Wl1aXjLbNSdgM4VyuVyayWYHpo19zzLtcrlUnctv7jYngw5ZK8/N+Z4beQ8oyQuVKnT9ifsLAsu0S6XSfGlmY2f/TPUHYCY3u1CtvrM839hepUg8fCCyZhiKLGUri/OV6vxM4vF6CwCUyxfmq5XqXLHd3AUAuJY9WyqVK5VMwmBIKJVK5XJJpV5sZsFQzsvsLFJiV5cWFxaXPLs3tAJFN6oLS9XqktRu9Vx8dNuwsYfkWLlcKc4Vup0eEOQry9eq84sxioeme/wLFSNeSBiMHtTqH+zVhiBRSqUInsrKjQyAsTUWFGNubs7QBdO+FAeFMiDMLyxWqtWcpo+H1iWQF5Ur85VqdS4z02v2puPk3lfGcS0fyMXinGaojheIslJeWKzML4mBN7Z8ANju5ppSuZpS0PTIzRhguZmiKIhhqoRSmdwkvszkIdPyKSOZylfmq6VCwR45R7mUOej7TFmoVuarhUePG5MUs7Pfs2HWSLDzKzlDklqZm/N9D0BASTBy3bniXDaTdCwbAFSYhJhqPpVo98YAQkHWFspzrusef1SDZiebL5RKpbih7LcGAIDmzoqk56S3HYVkzZgrVXIxVUqkw8CqEuyvrjy6/+UXnYEVJr5R+WK6vfnkyy8/r7f6ALBBu2WkCtWFhcpMijGGkNDr7H3++Zf17ih6e7q5vvL573+/vrvHALD7rdZe/btH39x/+O3oTLz32w/tUJS2tzb/9de/+mZ1l12IiskQgnF/7/HjR2sbmwFl57z0NoKAYuy6HsYYCX7gB+EQjo26g2wuDQBrtlpippg2lINxAiXjwWC/VpvLJSCDruN7vk8BsHoeo1SVJVlCAMlJAEckoJSMhsN2ozGbjiMIXQ+7vk8AMDs2AEDXDU2RozLZECLDiCmKdPS0LD+8mUGr47Iz9NUMQkmSEYSDUdswCgI8eA3V7fdThZIAgaIqELJe156vZAAAAiWjfn/ju7WF6zfCnNJo1Gq7tZrl+DB0CoyStUbr1q2lKBScg3DEBEGUJQH7LkAwbogICoHnNLdX++m5SvzpG7O+7Ri6giCQJI0SjyFBliVA/D4FMV0+ZvDIMAwJHUxrEew3zfH1+Vk4tQebQQjzM/n27vaTlScjVyjnkhe+mns09yMAv9dq7tlmejYDL4G8sjxxOKZvKYnz+qL/xxJLZv1x+8nKysD004kYgEiURMAwYa6uS4HvWpgtzibZ9BwKyxiUFN0w9GgtCozcK4T2qBdLpmQRCQia41FjvxHLJ8MgxsIJTk81VAihrCSg2cKANfvNark0SSjZufU/SDdiqhJOwzEgSupMAv7+4be1Wn22WIAThywiCBzPSSdVAKBuxBRZOu5uGWAu9nVNCo1c97yRaw9rrr5UTr91sSOtRQqM9Fhf+5rF8jevX3v86H40k4MQaq1/3SH6nVu3tla+GPpwZqa48+ibxn4vOrsbwnHHEa5Vio31NZ+C/Y3HPVO6deeO1378aLdHsfvd6pOZymIppdZ3t89gkPyWM2lG6ezN9/7Nn/7761cW/+W//9e1eutizHV4w2Fzf7/d6RFCz3k4ERWtWsz3e51et+f5QEBCtHi977rxhIF9t9PpFZKa4/qe52LKAs/tDQZIUUa9EVK15YVCq9PpdftEFaIXLEczu4xCz3V6/T5UlNHARIp6danS7nZ73T7VxKezf89NB07SU1m5tljpdDvd3rGbz6aXh61wxr1vdq17n9wImwQD1xlYbC6biNpojftdItxYmI1eOA6HAzGdHTcbmIG7n/6kks+riNz/8lufTKSxR30pMZNQUBi8z0WaGK3q2djYqF69o4kIMGqZo3EA8jJt9Mf13a2vvnqwXdsnANBDbR64Z0Z3Ntf07FzKUPvt2pdf3t/cbjzz/cNWEzAF+543GZd503hQMGPMcbxkLiFKAvXtwdgKH8JFJrKKScc3LRWK5mB0QU94ZoN+9+HDh99+u+I4PmPMHHaaXW9xaf5i6PfRo0dfffVgZ6dJfC8Wj0uyiLBnhrOVjOEnK4/jhSsxVWzWdiU16dhOEFA/mI43RwfO87m27qysZIozIFzJMRgMAsKswYiGG2/C2w9OZA6zNmCPRkGgyQL1cOD63rk6rXnU6z68f//LL79kB/uUDpwvpcTBeiqmCbLSH47Zwc17IwcVsqnv6acsOPyG8CQ9uLO1XslnHcsJgsANztVB37S+sjHuNJ9sbEMBjD0ctpntPtogZn9ldUOR2P7Qy87N3/vJ7UFr+/79+5hCSo13KrPJmQxU1MAL6hu7y9ev6Jr2zvLtUXOXEj9bqWQTsWxhLvAIefPDxbe/OgoJUsyQ4rHEtXJxPPIuhrfOL17/+c//RBTg+Q+fjLH0bDkDoe+YtWZP0yaZdK+5qcRyqij4duCMzIdf3XesMRP7IJFeTieMeNJ3rAdfr7ikmiuUcgBa/WY570OAXC/AhMoCbQOyIIuqmIwlUq45/PbJTkBK2dliFkCz16gUD3syPPgT+T0Inqaa2ZliDsJxt1EqMniwCeOMHkvgWyub63du35IEFjYMDtvNTCobrT7Cgftkc7syf01C4VBEj88vphgJfvXPvx5cWc4pkghhLpf9bq1DCAMC7HT3crnSeTtNs9XccolxpZideDIGsjNz+QJsySv1+u77t26UKuE968Ou7TMAAs9BUBEg6LT3eja8dWseAJbOl9P58uH0HjzSkEtJq9XodJrWeDwkYipzXRWnL0vpNRv58sJMMtZp7uxub+fu3AQXHUaIHM9eSeadUe/hSr08NyMJF234wBhMpbOpdDa69Nzx45Xtqzfu6iI8NOPpFW2SN924cSO6rK99qcxeWcwle816u9XJJ4ztnQ0Hpe5WS5OUk+K9+uZ+bWs0GghqPfnulak76jfSl9vfqQf67bjGGGNIqlbnGSW/++3/MX2aEBkBUJPU5tCc6NoZi7E5BNxur9UftEfDsUOpkfggJp8X7SUy2TuZ7KGMR4scgGOOLQbvLi9R7P7m89WFylzg9B+tNN+9dVsUUPQm//hGQxwEoiQZSHB9kmTMdRxNjgfj/vrqI0awZVpWuvzHC7nzk4bIinz1xu3EoSLaUWYow8V3bs/oEIBbE6EwVozEjbvvf/G//5fl40muHY2uwukpSRR8HwNF9D1HFFUIUYB9CgDGOFwWAC94Jg0R2v3mdw1b9O3Wvif+fwuFC+CrkaDFlWk5T30y3m3sNRVZ6nUaxfklKdwHvFFvX/9gkjrIeuLeT38KANivrUN9djYlbGxuG0bMHHUT+byCSKO+L4hSr9edK1aggLIa3N3dE5ibL87LAt3Y3I3H46NBJ5HLipA06g1BlLrd3nxlATBmmuPxYCyJoNftpdNpezQ0x0MPkn5/mEkZ7f0GEsROt7tYDddFnNUTZYxsr69CIck8s+PayXRaFmmjvj9/5+PogX3z7bcYJhBxWm0zmUrt7W7LenI86CRmyykB13YbsioPe83Z+YIqI4LdkQkX5xLnSunOqL22UZ9futHrtFQ9yfxBq+/ENGmvNahcuXHoyUG6VNx7st1sKsNmPVtcwu7oyeru/OKVfrel6vGYrh1GXzbq98cB85xRb6DOlRfmygsAgNrGWnJmXhXRNOYohhHvdToS8Qd9K1cogEsADcy1rXoqneu36/liUUQXcBb+RMEZEqyufKfFZ7Db73hCOp2a6spRz3QxI5nrd9p9RAbmOJEueM6otjdeXkq3200tllpYvrGwPLlt9ck31cUlNCXjiMBzhsMhRKDXbcFsXleF1Y2dG3c/jsbxzb1tjDSIHT2Zi8moW6s7QC0X06jR3K03rF731u35WCL+x388OxH88ZPSwrIunxPJ4clSSMAeD0fDkSjAXrcf1xXBt9rtHsVWJhOHjG5tbqWzBewN2p6Yzaas8dAcjiUR9XvDZEJf+27lyvUbqZns9v4ewqnR2K5eX0yEyRUN7PXt/asLubcuNRIk8aCsE5y//W5te7OQTXq2OTNXliQZImH5gztr6ytCacYbD9PFSnN1DSWT2Bqg4jsxRdS0g1WIsigCiBZuvLO2+YTMpJr15pVr70O7Pui2a7vpwO6l8mlRgIevKN6Y/l7xFd77f/UopgmMsb/9s9LHV41TfCXi2uP+0GQAplIpXVNPV+Dvau7f/GPND2gpK//TXy9Ff0ksa+Wzz5wHDwgAdzc2xHT6dJ8pdu2xh1OJ+KlbKiPki1xuMvpJpcq//OXsvXsvH+SaphmLxV7ejKi4DMZUEERNUyCElASm7cfjxvEfi2qcSSLyPS/AGECohZXsXMcmlAmCGJauA1HZOwZhVBTP81w8uRmFBeMObxYlVZGj7wwwoZQKgqBqeuA5kytGEZIMTXVdG1MmiZKiKJNE+qVS+L7veV48Hj+NTJratkVpuNAOQE3TBUhM0zHisXCWgI5HJjjcIKwbMey7QUAoALquiwg6joMpRRCpmiogRAl2XF/TNfRMGH8NGo1GsVh8zYDkeAFCCDAmyKoiIcd2KGOiLKuKAo9SacY83/UDghDSNZ1i17T9qJCfKCvKYSG8iQk5Ng4XMiFBMnT1cMLPESRFfI3Cf4QQ3/fVg0pPZzpDRBl1HZdQOjFXVUHwrCMuxti27UQicZZSO6EekYA0VUfoTIV1XTcWi52pkikxLQtCFE3q6Jp2BiJTSk3TPAO1Mkod16GURoVEAQlMy0XCZFgryZp6WKzDdSxZeVO6tixLFMXQgZ8OBPu244feicmqIYvQsmw9FkOhFyI4cD0vnONUZUkMPJcAQVUk7HuO5yMkavpBrcMo6smKeoo1Oi3LkiRJluVTmaAOgyOmjAlI0HQ9WiwHIVJUVRSgbVnhBizGoBgzVN9xAjKJnYIoqqrm2pZmGBAwx3YIpdIkhMphNIOMEDcIXrMKnuu6EMLXVOskbjJBU6QDW3UmTRUlSVMU13UFSZYE5LpOgAkSRF3XsOd5vj+JyIYhQmZajh4zIKOO6yqKGmUXmFBJVlRFHjVWt028WKyGxWe11yk+6ziOIAg/qNa3PCfNGFP1+JyRiN5uTPv7tYOVx6qeVqdpJkPT9GPNZ0iQEnHphDIYkxU1Sq8UVT3egTTdOC67IEqxY1vWVFUDL755kqgpqnbsq5ig6S+++U0PJ0+qL9w/90xGLsYTcXBQdAfFT0RBJqiaoj79YU3Xjz1LhgTRMMTzZqKSoknKCdUYh0kMO3jaBwtqFEWLHOZEuZKaTB637IPlHBMTOmkG0aohJdQ+m8IVxgwAhATdMJ4+k3O2OOcNSX28h55ht3s7vQAiIR5PXFQBIUL6cX8ryomk/HwnVTVjilQmiHI8fiKnmYy+DjegiJIck+QjY5YUVYoisqzEZeWFUe98eqdJnnoyOE7GBop6zF3Hj/dbRdOV55w5A/DIgx3NjEBB0M5BpeHovAXx0A4ntnrkbAFQNe0gOdR09WnMUqTDUAQgisWM6IMe6ZGx4zEIQAEhaMQOZgPPILEU37rFgGPF/y5ArJpyEY41/7gkhx/hqckOX+Fvnv3tb1l98IVNgd/7w+fVFF7erpNqhy/9KfiSb4CvZjNT0YshvBQHs5wU84ILfUl0+n1d9ZlOOt0qOxTmhQL/gLubTvW9yj/C56/OjbqfRofnmgR/MPocff7+8KRnyospenyu501LJAIOh8PhcDgcDmf6EWX5jFNbxB86h8PhcDgcDofzY3L3P/QH/vP/aCoSmo5TCiAIMMOEvWQY8eRnPwNomoYTArdZDofD4XA4nOnKpIXDMjl9kwBApk7O43s3wzKNB3WM/Z2d6RLk6XqfVxgARNv/L4MdY4x93xcE4YIeJ3Fs+IeQ53mO49DpOZzsR5o6hISQIAguvKQvlD0qZyGK4oU36aiihed5l2Htclg1whUE4TLYcGTAhJALb8MQhlWbMA6C4MJr1vf9yEFdBlfs+75hGKeWSf+7T5L/84uRNJ3LqikDtxee1oVAuq7dvGl/9dX0um0pk0nfvv0qWddwOLwke2sYY8Ph8DJIqijKYDC4JDklY8zzvMs5z3F5TDqaprkMWUjEaDS6JGr1ff/ydNjLY8BRebjLYMBiyA8PpV5lsBjd8y/fjLeaU9krMnHx336UFNDTUiEQws7f/71Xr0M0ZSvFGaVKuZz7i7+4ABUDORwOh8PhcKYaeBleHb5wbDDtB8PyNJrD4XA4HA6HZ9IcDofD4XA4HM70wavgcTgcDofD4XA4PJPmcDgcDofD4XB4Js3hcDgcDofD4fBMmsPhcDgcDofD4Zk0h8PhcDgcDofD4Zk0h8PhcDgcDofDM2kOh8PhcDgcDufs+H8BAAD//5GYzR5CcIMZAAAAAElFTkSuQmCC)"
      ],
      "metadata": {
        "id": "Y7HNaYdtHbZ1"
      }
    },
    {
      "cell_type": "code",
      "source": [
        "#การเลือกแถวและคอลัมน์แบบ Slicing\n",
        "# จะใช้เมื่อต้องการแถวหรือคอลัมน์ที่อยู่ติดๆกันจำนวนมากๆ \n",
        "#เช่นต้องการ 20 คอลัมน์ ที่อยู่ติดๆกัน \n",
        "#จะให้พิมพ์ชื่อคอลัมน์ทั้งหมดก็อาจจะเหนื่อยได้ 5555+ \n",
        "#การทำ slicing นั้นจะตั้งใส่ตำแหน่งที่จะเริ่ม และตำแหน่งสิ้นสุด \n",
        "#โดยจะมี “ : ” อยู่ตรงกลาง ถ้าเราไม่ได้ใส่ตำแหน่งเริ่มต้นไป \n",
        "#สิ่งที่จะได้ออกมาก็คือตำแหน่งแรกสุดของ DataFrame จนถึงตำแหน่งสุดท้ายที่เลือกไว้ \n",
        "#และ ถ้าหากไม่ได้ระบุตำแหน่งสิ้นสุดลงไป สิ่งที่จะได้ออกมาคือตำแหน่งที่เริ่มต้นที่เลือกไว้ จนถึงตำแหน่งสุดท้ายของ DataFrame"
      ],
      "metadata": {
        "id": "_ffSZYyXHWaZ"
      },
      "execution_count": null,
      "outputs": []
    },
    {
      "cell_type": "code",
      "source": [
        "data1.iloc[-20:,7:10]"
      ],
      "metadata": {
        "colab": {
          "base_uri": "https://localhost:8080/",
          "height": 676
        },
        "id": "0y08KVzrH0k2",
        "outputId": "9f57cd58-b077-4c32-b7c3-821bc2cc7192"
      },
      "execution_count": null,
      "outputs": [
        {
          "output_type": "execute_result",
          "data": {
            "text/plain": [
              "       area_total_min_wa  area_usable_min   price_min\n",
              "42605                NaN              NaN   1300000.0\n",
              "42606                NaN            349.0  18000000.0\n",
              "42607                NaN             71.0  17000000.0\n",
              "42608                NaN              NaN         NaN\n",
              "42609                NaN              NaN         NaN\n",
              "42610                NaN            250.0   5990000.0\n",
              "42611                NaN              NaN         NaN\n",
              "42612                NaN            154.0   4800000.0\n",
              "42613               50.0            105.0   1900000.0\n",
              "42614                NaN            142.1   4880000.0\n",
              "42615                NaN             60.0   3500000.0\n",
              "42616                NaN            200.0         NaN\n",
              "42617                NaN              NaN         NaN\n",
              "42618                NaN            130.0  36500000.0\n",
              "42619                NaN            353.0  23590000.0\n",
              "42620                NaN            157.0         NaN\n",
              "42621                NaN            223.0   7490000.0\n",
              "42622                NaN            133.0         NaN\n",
              "42623                NaN            180.0   3200000.0\n",
              "42624                NaN            170.0   3790000.0"
            ],
            "text/html": [
              "\n",
              "  <div id=\"df-fd736694-9ba9-4764-9bbb-8c99f9d4a768\">\n",
              "    <div class=\"colab-df-container\">\n",
              "      <div>\n",
              "<style scoped>\n",
              "    .dataframe tbody tr th:only-of-type {\n",
              "        vertical-align: middle;\n",
              "    }\n",
              "\n",
              "    .dataframe tbody tr th {\n",
              "        vertical-align: top;\n",
              "    }\n",
              "\n",
              "    .dataframe thead th {\n",
              "        text-align: right;\n",
              "    }\n",
              "</style>\n",
              "<table border=\"1\" class=\"dataframe\">\n",
              "  <thead>\n",
              "    <tr style=\"text-align: right;\">\n",
              "      <th></th>\n",
              "      <th>area_total_min_wa</th>\n",
              "      <th>area_usable_min</th>\n",
              "      <th>price_min</th>\n",
              "    </tr>\n",
              "  </thead>\n",
              "  <tbody>\n",
              "    <tr>\n",
              "      <th>42605</th>\n",
              "      <td>NaN</td>\n",
              "      <td>NaN</td>\n",
              "      <td>1300000.0</td>\n",
              "    </tr>\n",
              "    <tr>\n",
              "      <th>42606</th>\n",
              "      <td>NaN</td>\n",
              "      <td>349.0</td>\n",
              "      <td>18000000.0</td>\n",
              "    </tr>\n",
              "    <tr>\n",
              "      <th>42607</th>\n",
              "      <td>NaN</td>\n",
              "      <td>71.0</td>\n",
              "      <td>17000000.0</td>\n",
              "    </tr>\n",
              "    <tr>\n",
              "      <th>42608</th>\n",
              "      <td>NaN</td>\n",
              "      <td>NaN</td>\n",
              "      <td>NaN</td>\n",
              "    </tr>\n",
              "    <tr>\n",
              "      <th>42609</th>\n",
              "      <td>NaN</td>\n",
              "      <td>NaN</td>\n",
              "      <td>NaN</td>\n",
              "    </tr>\n",
              "    <tr>\n",
              "      <th>42610</th>\n",
              "      <td>NaN</td>\n",
              "      <td>250.0</td>\n",
              "      <td>5990000.0</td>\n",
              "    </tr>\n",
              "    <tr>\n",
              "      <th>42611</th>\n",
              "      <td>NaN</td>\n",
              "      <td>NaN</td>\n",
              "      <td>NaN</td>\n",
              "    </tr>\n",
              "    <tr>\n",
              "      <th>42612</th>\n",
              "      <td>NaN</td>\n",
              "      <td>154.0</td>\n",
              "      <td>4800000.0</td>\n",
              "    </tr>\n",
              "    <tr>\n",
              "      <th>42613</th>\n",
              "      <td>50.0</td>\n",
              "      <td>105.0</td>\n",
              "      <td>1900000.0</td>\n",
              "    </tr>\n",
              "    <tr>\n",
              "      <th>42614</th>\n",
              "      <td>NaN</td>\n",
              "      <td>142.1</td>\n",
              "      <td>4880000.0</td>\n",
              "    </tr>\n",
              "    <tr>\n",
              "      <th>42615</th>\n",
              "      <td>NaN</td>\n",
              "      <td>60.0</td>\n",
              "      <td>3500000.0</td>\n",
              "    </tr>\n",
              "    <tr>\n",
              "      <th>42616</th>\n",
              "      <td>NaN</td>\n",
              "      <td>200.0</td>\n",
              "      <td>NaN</td>\n",
              "    </tr>\n",
              "    <tr>\n",
              "      <th>42617</th>\n",
              "      <td>NaN</td>\n",
              "      <td>NaN</td>\n",
              "      <td>NaN</td>\n",
              "    </tr>\n",
              "    <tr>\n",
              "      <th>42618</th>\n",
              "      <td>NaN</td>\n",
              "      <td>130.0</td>\n",
              "      <td>36500000.0</td>\n",
              "    </tr>\n",
              "    <tr>\n",
              "      <th>42619</th>\n",
              "      <td>NaN</td>\n",
              "      <td>353.0</td>\n",
              "      <td>23590000.0</td>\n",
              "    </tr>\n",
              "    <tr>\n",
              "      <th>42620</th>\n",
              "      <td>NaN</td>\n",
              "      <td>157.0</td>\n",
              "      <td>NaN</td>\n",
              "    </tr>\n",
              "    <tr>\n",
              "      <th>42621</th>\n",
              "      <td>NaN</td>\n",
              "      <td>223.0</td>\n",
              "      <td>7490000.0</td>\n",
              "    </tr>\n",
              "    <tr>\n",
              "      <th>42622</th>\n",
              "      <td>NaN</td>\n",
              "      <td>133.0</td>\n",
              "      <td>NaN</td>\n",
              "    </tr>\n",
              "    <tr>\n",
              "      <th>42623</th>\n",
              "      <td>NaN</td>\n",
              "      <td>180.0</td>\n",
              "      <td>3200000.0</td>\n",
              "    </tr>\n",
              "    <tr>\n",
              "      <th>42624</th>\n",
              "      <td>NaN</td>\n",
              "      <td>170.0</td>\n",
              "      <td>3790000.0</td>\n",
              "    </tr>\n",
              "  </tbody>\n",
              "</table>\n",
              "</div>\n",
              "      <button class=\"colab-df-convert\" onclick=\"convertToInteractive('df-fd736694-9ba9-4764-9bbb-8c99f9d4a768')\"\n",
              "              title=\"Convert this dataframe to an interactive table.\"\n",
              "              style=\"display:none;\">\n",
              "        \n",
              "  <svg xmlns=\"http://www.w3.org/2000/svg\" height=\"24px\"viewBox=\"0 0 24 24\"\n",
              "       width=\"24px\">\n",
              "    <path d=\"M0 0h24v24H0V0z\" fill=\"none\"/>\n",
              "    <path d=\"M18.56 5.44l.94 2.06.94-2.06 2.06-.94-2.06-.94-.94-2.06-.94 2.06-2.06.94zm-11 1L8.5 8.5l.94-2.06 2.06-.94-2.06-.94L8.5 2.5l-.94 2.06-2.06.94zm10 10l.94 2.06.94-2.06 2.06-.94-2.06-.94-.94-2.06-.94 2.06-2.06.94z\"/><path d=\"M17.41 7.96l-1.37-1.37c-.4-.4-.92-.59-1.43-.59-.52 0-1.04.2-1.43.59L10.3 9.45l-7.72 7.72c-.78.78-.78 2.05 0 2.83L4 21.41c.39.39.9.59 1.41.59.51 0 1.02-.2 1.41-.59l7.78-7.78 2.81-2.81c.8-.78.8-2.07 0-2.86zM5.41 20L4 18.59l7.72-7.72 1.47 1.35L5.41 20z\"/>\n",
              "  </svg>\n",
              "      </button>\n",
              "      \n",
              "  <style>\n",
              "    .colab-df-container {\n",
              "      display:flex;\n",
              "      flex-wrap:wrap;\n",
              "      gap: 12px;\n",
              "    }\n",
              "\n",
              "    .colab-df-convert {\n",
              "      background-color: #E8F0FE;\n",
              "      border: none;\n",
              "      border-radius: 50%;\n",
              "      cursor: pointer;\n",
              "      display: none;\n",
              "      fill: #1967D2;\n",
              "      height: 32px;\n",
              "      padding: 0 0 0 0;\n",
              "      width: 32px;\n",
              "    }\n",
              "\n",
              "    .colab-df-convert:hover {\n",
              "      background-color: #E2EBFA;\n",
              "      box-shadow: 0px 1px 2px rgba(60, 64, 67, 0.3), 0px 1px 3px 1px rgba(60, 64, 67, 0.15);\n",
              "      fill: #174EA6;\n",
              "    }\n",
              "\n",
              "    [theme=dark] .colab-df-convert {\n",
              "      background-color: #3B4455;\n",
              "      fill: #D2E3FC;\n",
              "    }\n",
              "\n",
              "    [theme=dark] .colab-df-convert:hover {\n",
              "      background-color: #434B5C;\n",
              "      box-shadow: 0px 1px 3px 1px rgba(0, 0, 0, 0.15);\n",
              "      filter: drop-shadow(0px 1px 2px rgba(0, 0, 0, 0.3));\n",
              "      fill: #FFFFFF;\n",
              "    }\n",
              "  </style>\n",
              "\n",
              "      <script>\n",
              "        const buttonEl =\n",
              "          document.querySelector('#df-fd736694-9ba9-4764-9bbb-8c99f9d4a768 button.colab-df-convert');\n",
              "        buttonEl.style.display =\n",
              "          google.colab.kernel.accessAllowed ? 'block' : 'none';\n",
              "\n",
              "        async function convertToInteractive(key) {\n",
              "          const element = document.querySelector('#df-fd736694-9ba9-4764-9bbb-8c99f9d4a768');\n",
              "          const dataTable =\n",
              "            await google.colab.kernel.invokeFunction('convertToInteractive',\n",
              "                                                     [key], {});\n",
              "          if (!dataTable) return;\n",
              "\n",
              "          const docLinkHtml = 'Like what you see? Visit the ' +\n",
              "            '<a target=\"_blank\" href=https://colab.research.google.com/notebooks/data_table.ipynb>data table notebook</a>'\n",
              "            + ' to learn more about interactive tables.';\n",
              "          element.innerHTML = '';\n",
              "          dataTable['output_type'] = 'display_data';\n",
              "          await google.colab.output.renderOutput(dataTable, element);\n",
              "          const docLink = document.createElement('div');\n",
              "          docLink.innerHTML = docLinkHtml;\n",
              "          element.appendChild(docLink);\n",
              "        }\n",
              "      </script>\n",
              "    </div>\n",
              "  </div>\n",
              "  "
            ]
          },
          "metadata": {},
          "execution_count": 146
        }
      ]
    },
    {
      "cell_type": "markdown",
      "source": [
        "ใช้ iloc แบบ slicing![1_QIwJEc3TTuOy6GACMsJ5wg.png](data:image/png;base64,iVBORw0KGgoAAAANSUhEUgAAA3AAAACvCAIAAAAzCKvnAABHaElEQVR42uzdCVhTV94/8B97kB1ZElEhDAooFZGOApWqUatC1WkceQcctRZ1WsG2I3SVv51acKatdMYKbUdFWx2gxZf0rQquRCkW1FYQBQFhWBQNEGQXAgbyf+5NUCBBEcFq/X4en4eY5S7n5p5877n3nKurUCgIAAAAAGCwtFEEAAAAAIBACQAAAAAIlAAAAACAQAkAAAAACJQAAAAAAAiUAAAAAIBACQAAAAAIlAAAAACAQAkAAAAAgEAJAAAAAAiUAAAAAIBACQAAAAAIlAAAAAAACJQAAAAAgEAJAAAAAAiUAAAAAIBACQAAAACAQAkAAAAACJQAAAAAgEAJAAAAAAiUAAAAAPC00kURwKPR2tGCQgC4txH6xn2eaZZ1olgAoD8mHB0ESni63O66Xd18HeUA0B9Tjrl6oKy4KZN3KVA4AKDOfiTn8VkYnPIGAAAAAARKAAAAAECgBAAAAAAESgAAAABAoAQAAAAAQKDUSNbQIMPWBgAAABgGQzlsUMGXswXr2kJ/Fm989jHpx95Q8H1s5KaYhLwq5n/LkyV7hdzf3CYsOxgevj3HYuHWmPUe3eVeJVrhEVIZnpoa5sF5RMsQ+n58qrKcucL4jOQgp/t8pPNm6fmrp4uartZ1KqO+roHuWJ7ZxImjPZ1GYjSrx5dZcYZZwgmDM2e1zrODQNk4Krym3Z7t2zLPt9YSxTPMulrKL1w8lFWRd60jr515wtJI/xmHkd5TJsycPNoYJ5w0qvvlw7/n1z3n++kfHPWfzhKQN/IyfrBISdI9l65dzj7jPKNz6lTZnP+p83W+iepWRTYm1n/kdy5N38WW8p7wVWlIDf+9f3QJ+9jJL2zz1shAV86TFSgbasVVRNnFDfTs4GObrEXGMR6SFS9LWOGzbF8VEd97brDPXFdXbwH3N7gPFKRuiRadIToeJ1wV46caw66sYF9VFWUW1IZ5jB7+RSiJC10Uncp8cb0FfEMivrn5fX4U88//+0Rzveq/WsYjdPTa5fXt8tLym6XlNw/rGM5ZPGn6GKM+daK8nQmdj6JMO2VyHQ5qWTW3Sse+v46T2D2YqMs0ha1MKz1X60Cp/oFES7KzeGej9A3fht4lN+JW+20jg9sovYfWcS3zs9jiQ+2q/zpY6o+83XG+uSM9X5KeL/lHkuGagDkrp/QJ9Z0d7aRv8EjGPe5q6yBD/ccw1ErrjsuJyqUt5PgUHvKY/nfvmFUhesocSbbk49IlK9fOTtcpSjfa96mRwzzrD2MrZtm29fnULWoyetqKqtEg7xyVn9OXxNKTHig5PJ6HQMAnklwW56VGB0l4rtlhk5+oQDkEGXCPv+MrqX67S1NW8R96UqFMmvSKzDy80dv8N7wP8H1WCPlnMvl/9Zti/OssQVWOmEmTc2MuHwtxHcAhQ0l2zInmFtLiTbQP8B1rfTcjdrRIKk6fqDxd13ZE9Eu9/9SFTobdL7Vf/uGnhHJyn//cUmeDYf71yduWUCM1tXljlZs1QkwP10e/HczZX0vTV7Zu/kudm0lr9wsGt66bH0g0jfpG6+N1NqUfa8X6dR8rkGXiOqs3MhTbjhQH2qEEH0rt2b9/XnxcTp6TXUKEHuNN9O9GxprSY4d/2XGhbee+g+W3/D7wvfO97Tgfn/jGL7TylcA1zwxz21x7/s6IX74h622Rfp4G2FqPC/3KJPuAEB2pbdfqLXWhi2osOR13ImPlOdvdm412HeWsfM5pe1rRYvvul2T2H7tZxFLHt3mXfTgowyczUHqEJaWFMY8aRK9YLNmTk1lQFTZ52JvUHq/DyapKJpmkVlY9fDQVJzKTCtsc9ptOk+wX57XkUoUk7TO/X639Vc6esza3sBjAezv/ezClqYVovK9HyBxH614tjvrGvHHzl/uGzTGxoM78yoYeL91qbmL+1DfeGv6jVJmUiJpkzaiUerJMjBqxv5Y8wxuSwit7pEkmSxjZVQeGl//0gyzQjtIvGDbefUnvRgYRad2oRQE+HMmh3YXH5eQ2w3fbymk90iQR6ejbjHtxZWDChnEvGtD5YkmPO5y21DHfZSpvGP67nt5qKZcTydvqbmFjPT4q7DcG60ip6/3k4k0BlT3SJFPFjZ5avOlQxfHY2w7VOtmFPZojG/XKq4mqdaSNKMEnnzmP/+hm9hs9r9dQkHOciIRTXHGA9Xgpq88nIgPLmVP6C/q6FhN/H+Yik+tg0z1GakekMdFQ/qawpp8647aZ49VtR4xu0S0jFNdQq7uaJSEis5VzHft7i/EYn3e3eHSQoT6KC1SHIWc5J4lobUuQe1s/b6l3XlEvDjAlThOKCxAoNWtpkGDbPo7q62RyIjLSN7n3+3AJ42Pmuu4B5k+X1X02HNLksJA2pjN/Rpjcu3i1kSahZ6CsYC+e5d42vXcKQJqEXzFQNhSItkfHJqWI86qI6ypYsCxkQ4jQrd9Tyw2FqckJqamnxZknC6qIuG4C/4CQsPVC1+5PNBwOn+IXXXbnA5t8tDYpH3EFX4jTXuu+ME9WlfV9cvJxUWaGOKuEiPjeS/2WvRYRMuvOyd6CWIEg9OSdM+aiZWO0likfOoWl/LzVz1w5L5FfanbMAnOqykrYF598vKCBXEN2xwhHD3AuqqXJ+btgyu4JySd3CblV4i8jo3ckp+ZVkZO38KXQyPeDVGtXJY7dHB37fWpBFXHd/JasjYhc389J+KqshJ1xccpSJb73quDQtcFBXvc/j82uUbx3Uk780oGc9G4oOxwfvSc+dX9WmXJbLAgK2hDcb3+l2hzRl7GxqWLxGebtrrP8/ZYHhQcKuINsPjRUdg+41d5MNJAz5JKMH/+dLZd3//dq1oWILOVDrQlzfh80sfuy0daq3PPXcstbu/uMa1tYG8/0dfXs27NHcmpnwSka+coa97F0S5pfdiq37uot4vD5f/FpT9p99XLnnXc27d4mVu0jI6z+smbSA16k3f+M5ozp3unk9SVXTp2T5kvZZdbR4dmYenmP77XMdYW7E27UOI0Lnz9Gw656LTdadJPcncNmarhAUV6evfWHxrEznw1y7z8E1hXuTbhxhTgLg7ymWd7r+hd9hRtRHmlXNxOZ3HftTdK28gK/ufv/j/88/mPlIyvFJ3HFL/doZpPX2h4QmfwnRft0KfNfzznyF/2b/zxHatZnkqVjhcGctsDG/1tbrVPL+3qHUfKP2uevE9kpAue0L325erpV+yDrQHbKtLZeFCilZqu04yYHUnVvkGJ22I1XXbvP7DdbpR0yTUzRPZBLbG+krtl+t14TSmx6TKa9wCFwnT5vozR2Tr2Ggs5wXLBOd/YX1Vt8NZxHvHHC6YUorTe/qA311ryMHP3xRFeo9eaAip/KjyW+frijrvu/6aKD00Wqx39auSR0cvduI5fmZRWeulh5p8+42xjLF+Y9J5zYp+9KpeijtK/JcetG3/HUIrlwMTmroriBjCdN+2Ch/qGP0j6ru3so/+FH33yofGhg+en/W+g9iAOMro66grNfH63MlnSUy4kMdGY48V6YO22GvdpF4nXFx0/kH7rYeP6WauFnTp/04rP2A+nt3pJ9cNW+Os+Ahe96q3XUqcv5xycXz7s+u2flnQqm44oo+ZVzhlFv/2GGed35oz99+1Nd1i122SaOWyOc5mCk2p1EoouiorZyOVkaGc58btLaeS69F6Yl65vktwrM2Om0lP+S+e3Rmsy6zjoiB0uzufM8lgxo4TuuHPy/jeK2Ub4+nwrH3esQwkB5NWu5Xh3RALojjdr3os3G9LtH9eudJq9XPrTv+Oany7Pu7pMW5Udtdu41yDigXU5k7dw1a16b8PVKn749e6hox6SgMHrldGmIe6c0fey/dqg+4jC1c/7KpjUrKh7uMnXDulzevh3GJ9O1syvY/kbzOoQBtYtn1PS9ireRd/I7y6Tv9FLOkbKH+6yAAc5dP3+Hy4pPaE1y6avufS8cac91WbmEQ2/XfLv2Rvdzxhc/dXzxm84dafnzba0yd9ju2qF3oojIvst/ceubb191Nutg9rtq+32fmCb8oFNUTdbOnfPXNoWtrei9gSxObrRf+cNtdjoWRQdsd+7gnEwnKbvwL669uWrRDdPfRKCUnYnyfylCrMxsTt4CqyrxngjxnrjgpLRgDXttTuwrS0L3q7Ii100gMC4TnxHH5YnjvgiKz4oPcmBrS2uex1wBn6itjM1wqs7CDFeuKnaUHQxfvTZaNV/ie8/lN1wSZ+2PzdofG785U/z/vNmEY8FzmSDQnUByyWUmvHJdZ03gKVfRnMdj3yFrKCujsthfCsLk8csWxarSCbUJG4hGD3Au3bE6J4tKsgouBUetEEacrGLWzo3EeVmiT7NEGWWZxze6ZkX4vRCVRcT3EriSuCAvNfb11OSfk3PURi8qOxjavTBc11kC82virD0RWXti4raIUt7zvnd4Y9eoqqywLJ7uFygbsqKEzKKqtt2Yhssn2W3xaVTw7pSYVX2vD+ixVMwq8Fsui0/GFZyMi94ijNkfHzJ5EKGSM8ZsLLVdba9PSCl/09/hvlPgGOmbjCAiRVsrk7p0dXRMDLSUjTGWRnrKTXf11PnduR3doVPbYoRWc2tnvbTpe9HZ896T1k616lkVN7eSnJolksrLR66c7j4u122SyQ04lma6FjKizs76doWq77nyZTP9B1/T/mek3Ok6pWe/yzsoVfRcZomk/nvR2VNOY//i76T6Ibslu9FJsqJruc+P8RzRtzq7nH2TiS651y/72k3o24+3/UpuQwtRS/u9+lfXl9ReYTK0LLekYdrUe/3kuMr8rQzyanXfjhz9zMeVY+6z9p0jrbtmTGM21NWzWmVEfHfFWFUZdtrcrQgNrqXa/fEdXWX14DJNYVSpdf6E7vkTFl9OM479Z+UMkx7L3qx9upaoQO9qrsM7b+qfriUbR8V0R63TpVqJ33ASvxm7+ovaLb71g6kDlVM+Z1A82X7zOoOjqss9tcbVKotUrzHXbhU7R2JXxK5Z6/RZ7cKzJrE7DLd9UR3oqLpoUFbLTmeH6Wtz6t36zsPyaCKzmrsSzdb4Nqpd0mSZLtKuqaXGjn6XcYzdDN2KK/LG6K/Pjg+Zxrtf5jA1MeZbtfCJbjZ0sOFGv7tC1bEyViUQyS8H//Fd3fnu/cbNSr+loSPvWl3eroPHnvP5/I89k0pbcx3VUU3F9dLs7zJiunv5W0pbOmj0SJ6+pzZRV2eZKhjpj1QunqHJYIb/aiv9NrZ7Fro6nlZ0o7YzPb8yPb/Sc/Kkd5d7dK97pyTj4OuiRuWZKAdLfeNb7MInnko4yvtg/Que97t0vry0TkJ06PrNd9WjllR6qJ2ovqXH9mipuNpB7R3l5cXlKZk765gi9TTqOH+rMz27ML208au3X3AoSg3/RppHxDPRd2jrKL/VJjp29lRJy9frn+0xg46WeqL2xvJqKSWlbixSlryOQW1neV3jzsRTh7In/ftVj/tlv4oscZuEOdouuyIc53aPN070klkTR7rXdPMM260B1ffbHHJr5y5ftkIqVGWXLtUhk1nnyDsZrdE+dpnFx8rcad/l66BdmK6dVGSU9LlzQGzNhytu9DyEuNWoLSXKKzLNPma1ZrO2cprOhdpF53S+Omfx1TfGu3cXz7HvGFR2sTkRxn1lh+rrMGVG161C7cy9+pl7R8UssvgyrmiiqsLRbzrnuDaIk1nNflGmdo1q1M5M1ylKt/jqE+OtydcCnO/dOmtekq4trabcohGkFijrivSYyTb2rHtHlF3Qpgrtogtj/rt95MfpTNr2cdbOLNJO+dw45Yzj/6WUOpx1euVF/Wx2YZxJu6hIZ1+YxZGzeofiSnq0Wug1lRNV6BVV2HRuHvXaXtU6GqVrFzELb5O8gvNYjm30gHt8eUIwmya918fHbgryUP5Uy6vEnwYvCwivX6rW6HYwMnR/GX9pZOSGIOGzfNVpTHlV6iah/98Twj5Z5veFnzkR59mw5GNhRJT1kZbPJqIV0Wn/r8+RelbComgxVxD8eVhYoMDVSvVdaciLC5m7OmFTWOzCTLZLPFf4RZqQOaJOWDJmmYh8IvYmB2kcNycrMnRTKq2KSX7dT+BgwTE2Z5dtgHPpJWVzWJl1eKY0zFtZGlWpES/5R52JCNlU75MYb7ElTfKWgMuueMPJKD9BRNa+kJhVfpGzOD0zOpvbvEMSYiOXepizb5ZViqPXLYt4XxjuVhCzcEg6FuVEL/CJOEPchZHxX4QJRrMLIG/I2R8REhQb94qgzbhXG2f3UnH9tsTH/bW7SbKhLHVneOjbotCDOSGTvQexEJYu891rd+fKW0pKI2Mq3d1tp7vb80z7Pcq2mOIVNoXZdc/uu3CwjkZNfWZtn9xTV3Ykt0Ouo+85dex091HdvXzk9fnZ/z7RcjWrONfNyr1vFOs6c+SKtEnP09vOy8XGwkCfY8AswPzlY+YTUckvESlNRCYBa551fNgi1zwjoubc5EsHpUQGIxb6T5w2Rtnm1FFflJdwpEFScjXmiIGqSXLMqJmmdUeaZLmFzZ5TejdNtVb8ohoJpOVMbvMEza9yPN3u9etk4WQ1/tyNK8Rxd7rfV6x61WajpHW6ZakjPM+NW/5yW9Ccene7W/3UH62TV5bsX0lEttHPmH1MFPBWcZi7eqOd3YJ3dGtIsfrjxnC/GnY59dprrb7aZBKVobf0NbtjceWT+zQ1NBtuelOLhC0X1kpHKYciardI22H1xg6tXeusxia1vOo62PGJmg03rdO65Hr7q5XN0ye0G+jLzJTTLxj1pz/rnyeat77545W1ypnKm20ObDd7NVH3jWCe0f6SReyebza17Q0rk20FBukFem59FqPAZGcG+yCDk1qgF6LxVdf2ee6d/Z7LHrcksPDQvjpJaeHSd0pffM7xRZ9JbjaG/e5l3gu3MXtn3fF/Hfywgp6ZNy/Kt8/3oPhYfN15Xf0XX5j4p+kuDt29fFquZUZ/Xnz8p19Evx/3J/u+B0nHEjOypIYrhZPmThxtZahvzJ5gn7E6cAa7h278qDCdjFeGLJk76LF5uqTHd7Fp0tzyg5dnzVU1SXbWFZ1NSCr+9kJp3kIPHjvxll8O/kXUWEf6QqHP2udUrXodtYWJX5/deV3yxra03e/OHj8Mnc2zDv5yw8j+q82+biZsiqi7uHN7zjcNks+SUt3ypCa+0w78wYVt6e9syU8L3yXJK81PvjRJvYt93sGTO9ssP3izex27OuounHh/nzSv6GLypYn365Jv7y3IOSRuG+XLH3+f5Z0q3bp2zModJArmZey1WrOi6cVFtaM5/V1PWTM/uoapAqudXnMyTqHO0LhLi237tmLuElp8fI6s58m2x1b62Coz1sj8JO7GYL2kEBu5ufxfi2r6fKYpyWrNBQr63xuh85Rth/rt1XYxwWbb0vVeeYV/OK1o4gNvCNPsT9k0adv5Tlz1alWTpH5ThV3C+2ZbDhieuEgTp7JvzOWvmM3JJpqzqT5qvYTHdkuSN45O2Wy5fodeuL+90U+X/G2H/oty8hOLaxZt/1d5dYpZG9skyY8OMos9x9n4kdOU7/QtN9Wff0vZPmpYl27/youc7CTjvSuM35nRN7Nmf8KNrr+9/XSVv7tyuFBjydGxr/1RP3uv6d4ADe//tT1QL2+ZeEdYQhVxl8fHf96dJplQyhW8l5L6mUS0v+8HuEtjLxfUlyZtDPLi370oTpfrtyE8mKjqy9TMhgHO2juk+LKkLG3Xer87OY85enALDt/gQZQVfzLnwdb7cGr95kzx7hDhZL65uXn3sg1mLlkygSihO00y6+wXsSmEiW//jE5eHp/8nipNMtOZFRb5FhM5484U9Mx5sa9FZBE3KCE+JlCVJpkkMFqwMSE+jFsVuykuZyi2dFViZPgZIq9IUcJGVZpktoW5R2BMfEIQl6oSXo8Ry3os1V8jsoj8dmSmvNfjBLc53++t5FLJ5dL13oP9xo2d+fu/eBtZsOOd5GZfi91zOiImPTbp51PZ16Xt8gdPqOOXBkx497XpL03tOQKRrsVE17nMDtuWW6y+z8mlTQYLlz/30lRHnqlxd8gbDppnJC8pOighIoOFAVO70yRTHVo4Twn2NzUmaikqPyNVHYZPdmcKvzS3Qtqn8b+w9gqRtam+LlFp4fUWTa/qOtiqhem++X5FqCAy1Ofe57uVb/W9dvg/HYvsiGq19m0dsWC+3ahZ44Uf8Hel8oqbRzxw0bTb7tmuW0O09OPaLao0SUS3Dawkb/yz8R13olz9j1PUkslZrUv+LfvW3xh1Z2BLg/rZ62/EMuFVa9O3NnWD3lRntS5NbT38RZlwWq2NSbMqTZKFaIfBeSLP9Y1frZXcmamuSY3w/dqv/Ihqtd9P5KnOtRvULn6Z+fvliT5n3/XyzhnkEfnNURBR8rk+l3qoXp39p+Z7tTWR8ZSFe9aOnmFAJO84lF746t+Tpr/1nzdiU0UZheXNg2jiGbfk7dkH/h747oJJDj36jBuP8Ql8TofJjhcr1Fvds6TGH7wTsMbXxcHS2HgYLtdsyf5peymRrvW2txfOvXuCW8fS2Sd045L94bNUUbW9OPn/GuuI5grnbPC9e45Y38plZYjPGnOihsqdPw3LVfR5t0duCZmpSpPMTjFp5UJmma5ckJ6a9GyU0KV7P9IxnjhzDXMoTAeLKzX8akj1P93QYx219S2nzFnzbL/v73MadvzCgP3/XLnt3ue7WTdnRVcmR3U6EEnT9bYEj/SxdvZ8dlL4Rucf0nl1sgfehJKkkZvPEU2V7fxPYXeaZOYyMaA4Jq7Tmki0wSpT7Z50GUe1l8SVh827cya6w8C2LOx/G1+1JTpnuOfAyAfeDrm8zZu1ibr+kVYUcvcEd4epfdmr8UXnf6leNVVVff7wiWE20ZRNN7e/VcHr7uSua1a5OLpqewBRtc6mf9u3D8MXJbtd/tV/ipRpkpmjbVno20ztkf+5/pH/adz+1p2z7W2WMyrDXmceJZ3TcBHYyQudu0X5i93vDD7fwpt39e23+n3/kxQoZZmpf68i8gjfEKTeD91jebiGU966XFcXTU0fVsqe7JkF5QOdubmTq8br9nijmSnlFEsaHmi9uRsj39JwKnkQcxGsC/bufW0Px9VHyM4jVCjoPTHOBA/mlaqCsjuXecpOJm+9QDQ5PDxQrVCNBUvWcelCvPjCw2/ospQ9IiIKfjvEW+1KJH5gePhkoqoo0fHu9TuTuvUMU0phyzUNOcB15T9Mm6khb+q0sFD3tb427tY67PnfTomk+URG0bavfvzbznOnSx7ozKWuBY9rrGHgZhML9pKfq5rGvrCeMm4AEWoIaJpR+5X8JhkRZ6K9+jJwnJzZHHz7VK7qxKKxu607c5BfX9QrUdZcyJUR6XnOd/AyIJJKL2h4VdvLnT+UfZtuW7qX7zpS/dOu1g8Cu1ysiGrptEjv/XdMnvMZ7bbYKTbDauDDjLRfGPFxAZFr+2t+alvboHrVy8yRRdq3Jnl9X1O8E3hD7bK8WzMCZbOJSGR4avDjEyk2vq52Kv+6SeIJ5ghgfWC12kzrhS+3uxHV7DA8pRph6rbbHGYxakScn3v+RrVb/fA1kdXt1eGtgUR5XxudVn+V5Mvn3jcMG7vOjtqy5D+rXUInGjroEsk7z5dIPxOd/fOmxEURyd9mS1q6HmB9jXmjLTV9O6xGGjIJSVKnfiDmvcBnrtXw7Sx1WaeZmOi9wMNTve1V25hnpzq+6Cgo3nmLyMg+8Dm1i+AMxy1ZwOz3WeKiK8OwiJ7PP+PWe9n0x9rMYB8smTqxdz7T5zswVW3d9Tr1LTv+uUnefa+F1eePZd9/VVo3pMtc+/vXL4krq7+Nky2fR9ZE0iLtpM8N179oO9l6wtxgl5MVA88lvJN7mZo24A3plL4/kx2jA+rXuBNV66ekq01wxq2gGWpnljllQZuYL2zSdxYPGP71s48xMdH6rcYlGk6Xt1k7S1SX1VSYJR1gdsxX115T239rFr/eNpFI+qlxxjCMjuS7tv73vYvIyKV9PvtgxeLrvRemxYk9NSEtNJCqTWfi641z+l5O3sJ3Yd9/wUDyRAfKvKx45o+fj8bx1q08BC896NxzZEN1g+3aB7xV90s+UzhDMxcPB7ULGVTVtA+/v7vU9FjtggupTLhc6OOh6Y18Jx+inOzihx6Ys3scJYGHxiTo4bOQ+ZOcp7raNScruWrQpTQwOiPHTnFbGjTjb6E+YQFOL00xGW+qzfxItrYcScmJPlIxVN8MmYZWT21nB5tHs3tpmlHtVbYemDhmlKaPmDjymd8lWU2T6gddZ/REh14RkyGtOd9EZG09mTfac6Ke5lcNzCc4DENobhw3rTLk/ZIfT1YWH2lI/Lg9RKjgE9WUan+4zvKFD0ZfG9hUigvZC1R9OzQ2y1m6dvgxO4dead+AeHuCxgHS7dpmuDLlfem/Iwa5Wq4dz6hNubFUN52I5nQ8Y6L5I/PY3b3wTpOSXcsiX6JavQPnTHpEZ05iLbm9fGu6Xf3StZpfpcD250wG9o0ydpg47U+rA/7zceCR92Z+KnT8k5MOj6juVkvMvmOrdvwi6RqizdzaofZTreP5u+G8aOtWxaWKAc2l/BqbuCZyx2v6ehs78piEd+vmA7YxDKxd12ZkPz+hxqP66+HRqeFChikOGn4bLG1Mhqtsdc0kPgGFUf974by0LPN04/bojgC2Da8oibPSzT78wMCqw0bDfGZ/6PRxv6np5RrPF5g/Ry6qNVnMkDlo+oCDe/tEIjqgX/Jgtb1V9g/Mn/nTmu59VUNToX4GES1qdzPT9LK7bA57iqCofOgLfKK92jjGHGKbPTod+rtmVEbqP1W+7hq+xTyHx/bGYw/SgCEnJmRMtugnY1iYa+4TIqu6kJoiEqeeKWiQXBbnPUQ2qi0QHxenHhflVLaVHc8qe5j15lmYD9FcLEweKnPJWtgT2h/5aH3U/3vkD72dVeMo8fq7KSLHwoMop0ou67VU9yilIUyWHAveWE/eWE9fotbrZ4/89/A1eX3Rfw/yuQO+KU6XvE6Sm38jv7xNKutqbu2S37dR8xENbqNxRvLb7ewILyM0pz3DEcp6R3HnpO4EdwtOeb2spObqHLux7Ppeza2VErl78o2JjD2tHbNvlN59lZSvWk8cNXZYV67VzK51th3N9qMP3rc4/e3IsK3aZaIRb7tbJgrv38TSruxUbNrPpjJV2KjqnN7myPsJG3IbO6ICunbTgKh1MGtj16l+5d+tZnYTWSv66VApN3NlZiq/+wNRN09oThm6X58wfde3mZ2gWVqqXg0pNs6pIaLpc9rddhj0eNXkVJpeDdEbs+vNHvRYRd/Yxt7bxt7b1zdULj1/6Md/pLdIivI/O2X3qWDAsa+58vyFsqyLlcUNnTdqO+/X3mE40mQ4v0/tHTcHNpeOdiaijTfu5xJSQ31l6OvoGvplNBmiE/0mv9r4TpzG0e6No91p8Vr9qGreng0WWw5Q0jLu1LyaAPv7/lhpszt2l6nmn4WOEezz6s1s/v2dVeZ2OhDlk05dI5O3Bv6TcYsdbMHG4j6nsm41svsvt6uf/fe2mTtRLsmH4Zy3kWHLYzWdxzFQKlU9yMFES1bUou5uxaqvkKvgGR7RAyfCsv2rZwfE9fwI30vAN1HeqrJqqIrj0cxFw47lJpjQ76+Auc+4R3W3n1/7wGeE3TShpckPWQnllFt47SVnpwF8P9tKj/y8t0jeM3pwRugaEt1ul7d00pNKruhxJG8307T+SFPj5fKusQ7aRNdy87uIjCc6GSgLzd36Rqm0/mxR+1gmgldeLuki4kz3tHlkC2tQP31ly7cmDtM+0EpLNS4T1g3VvRk625+ETUV6d3YdS1+2a47I4Ew4+ZkQ1ZqIRES+7V7K5k/XtiWuBnmiEUfXUqAdUbNpaiKRa/viaa0PVYtbe/5hyecjkpYebsvKKpMIeANJlJKf/u/1/23sGSJ5JvqjDIjaOs7/Fu5200ldBPfK5Qa2Fa/Gd5j+0fbdo9o/pPMCVgzRGdQ27SesqiV9og58IR51oORw2Fastn4SZX2DWuLK+TKESZNcv8iEmBBvvvndg5CsKC2fiIHPulYUxeY87/Xxse8LPXpc51iVuIQXJBqawng0c+lTqLpcoioK2pr2nscwbmdjc/Y3RtLQQKQpncrqc5hca6haZY4xs6lJUt/P24eTIY+nT+Ud1NQxoLEqywsT2DTJc3YImDXaukcPm9IU8e6Sx3Gf0zMgau9qa+3SeMlJWyubgg209e4+ZzPZnXMkQ3Ymt2yOw++oqPo8EWfiqO6hgkzcPY0PHmlRRfCSqjPtA+iOM/QHI/zf3SbSp7PadUT3DZTKEfLymvqpgJq0anq87a4TuhIiTZcK6Nawp/wtTeRD2cxgwm4iqVYTkaYWRN1GtncdR7/HgZhB7eKXTbZt1d133NJPWFf2o+EBokDhnaGCavz+ZPbhB1qis1aBwtobGYaJ9++OM0A8e3OiNqptuUl0/0DZnPMNmybdnnHZ8IdJ4y3vtvbVZSQvEv0azSIGypbFtpvN9xk0Ud9Ah6jzSks/nZXblC2dOvqDvn74aUqiEpdptnSUMqoHUFqcLna7aDc1aNwf9FvZ07PWhn3LL6Win1NNVTrs2eYuowc7y9dpxLYs1tRbEN2rkdLIrItIh6q0m4g0NVLqNbItnRyDjsEes0AfD3Is4eIhYP6kZmrsI1KbI/6+79el4Gcmpgg/idk4q2eaZPf6ftOVJiUFccyfjdGfB3n07jXTNoQ/II9mLr25PruMKamM7LJh3c7mrh5ziUgkztF4YVFO5kHmzxI31e+eqxu7qb/PzJYNdbtBq/x+u2FzE1vapj3vpqNFOv0cxtTcYhbR1DZovqN1r/7aXYPcZrraw3yTHqux7O99/rUbGte+tIyp3jg2pj2vRDJ2sRpPJC+/eaWzOfd8i5z0ZrrfvQpL13mUlwFReU1ua/vlfKb4JrqMHuK1MGps17v3Oxqb2NpkWlfPNKDbTyeOcS5sCMvQz9P0al2BfirzNbzt2Pfj+j8XaPrAdcN05nnFM45DeQt2M0f5DCbF6l/SONUC/aNsA4dLr+vhbrtNbXcjSjthXEY2qd9qkdXtpT0GM+fPbQ0kSv/WKI8s0w9pEykWTbv/FQJdbS33+zq3NLOtnFbGPa7y09HvZ7ehG9JDbAoNfXlazzRJzKHOoH4ntXUe9iSuEXc8s7U7z//3Pi1lDmPYb1h+1RVNya+lVJLOTG0kz/y+qZTotoaVvVJS8xv5eZfLzO7XxG9Rx7YD+dr2+n5pDoBmbROZ/UEnM1djv2yb88eYP/MnqR2O/DAiX2NjQK4B8/yMDqcHu+CjyZntB3XkrOm9187UpcOXiA4Y5GnsdpPLOcF+BZwd7nWcbMTtLztaFJ7VQYQcfKDk+Pi9xyXKCd+SoJZ+ZFlfbo3r53PqPVnKEmM0vpnvtoRtvrzcT7qS9W0dbclK+GLIGw4fzVy6C9XXbyOX6HBs3Ol+slvLkGQ6vv8qIRHFfaJhEKKGg3FbLxBxNwrnmncv1ZJItt937H5Nm6Iqp2BwvWlrTu8987edZ85e6/+cWnvJ2Xzmd8Ldpee9YSx4NsxX9YakXvPvqlwtPtYVnhpc86SNMTv8ZNsN6XC1xIyfaMohkuVfy1U/0Xntv8eZ+erNdO/dRWSE/bMO7Ph7mWW5UiJTC+defQBGe07UJZKdPleYX05kYDHNeUgH4RtxervduPn2286a9x9rrA4kMhtstl9Lj+bJVhfmOIZ++W/fJieDya3vuBIVGOzNUP8xsU76mp2Upqa7mJRRal8eo7MiThrzq9g+3W5IN5Vdc+AcJhVvF6n3uDA7+r1BHpHN2raZfS76c21e48sOOSkyTC4gG6Hs9z03hkm9cCWz4j8kmogyiISt8+67zB3nE5Pmv5f0TX7/ybNLckrM/Gp6e/N7NE+a8RyYn7xLVyX9tMHI+45731Z87FTboA5ZrZ2NmC9o+fVBnzzk+TxvzHbQvpSnvghdLZIKqXLS+q7j1hgR3ao4lK0WFLoqDh1my0HgfO8xGkfxjDWn0rb8Yz/+NpqeZPbRbnyfP7pkVvc7YClVWO3bwRTb4hk9Urxtq5s7ExwLC/t0r5HMWsEUTdI2K/WAWHfUbGcukW2H/wy1VsNcwx/STdUXL5kdlnxWQJPDg61Yy9TFMraDtmlKhfphjKE0d5RqR7FvDFjE1KZffaN+VmPkib2G+UTWb7X43ivO1vPYS0uPpBvXaS46GGygJI5gXWwQl2j/smWvJ+TciRTyKvHflwg38YR9Bzbnei/wIyLxptDoM90NY/KGnMTQZRvEmislb78QJl1FhP5dXNbQ0HAnik72ZlIXRUe8LSrrfk5WKY4KEsaUc4esMB7NXNQKNXxHCJdyopb6R3xf0HD3B1vWUJgaHTSBZ8KP+qX7uUrR6md4WuNWix68Xxo3MGKrF9GZcL9FUeK7Fyc0lH0f4bcotoq4QZ+H3h3liOMdspnZFKIVs1dvz7p73aysSvzpEkfelAmbUweTc81G8XSovfWg6Gx0Uu75a9JerZWdMmlR7u49V3OJdK25c3pHorHO5sZE8vLKpHPX61tb7vTdtuCbM7/1rdKkE1e7r5iUt1y7nJBUdWOQ4Ynnzvwk3z5xKPuKtEXW2jrkrdO6Ts4LmVm07d/bM1vL60tyd4jqWoiMnR28+iYYtmsO0ZXs2lIiR3f7Pq9bu1haE0lzb+YSWU+0G2h3nLrCvTHiiJjMs3X3PM3X6ujaZVOrHbXa5rm/OojOWtX1aq0cUVdgF7XOMiyDyL0j3L9nxdv8e1+5DVHadsttZy0bm03uNnMaVK9az7z09Tqb91Ot7wQDea3trncsNuUyk3rHXy1ATVM8k2K8fPuoG3em025xegcveAc77s/6Wv4Qb6p64dp2T6LzWy2W7+DdbbdqtkrdbrM8kciqa0ugRC27180TMl+aDz9gEudrc2p7v6HVy/e2DdG2LQbpRG/41auf3mV3c54gPFXVfVyf72BsKW/buevg0s+OHc+v7NVa2dXRUpGz87Nj/5AQmfNWevc63T1+0mg3orpfLsZkVNTdamlp797hHOxWMpldujM+R9I9tY7awm9iM5MHebrbfso05sf9G9HR4xV1LbdaBtEnxvK5Z0PNiW5J3t96LP3u0KqdLRVnY6KSl/7rxCHlGAIG45b8wcySSBSf+llGxd3BkuqKRbGnYhqIzEevee4+p/2Nne1fZLuW70wpvjOFjtqLO7f+cuxx/9XuuHIwaelfv3lDVHzP8M5pc5tB0qOcPzk5v/apU2bRyF7tebKR+QcmvDLb6CTRlE31/r165NR6BzBFErvZ/odcq6ZGizt1FC/g5qapROcMV/TKqRblBya88kc9KZHws1oftfPXvvO6koMdoo/adC+Afnu1feyfLbblEk2VhQVUP/Ax+VRp2Fom8r7pP27PuV6T/WqZs+d0m21HlSGxZvHbbVOIsjfavPKp/d0Wgkbekc12r+wgsu3c/JeKex97T5zRNpGI9hpvO9A94iwZ1uWOC/c3yrNFguz72/Zgbx8tjDu8tWFBeOr2ZVO2L1PdevFMGRE/OCktuFDUZ2xz/qqY5IzZS/akhntbhHNdBa7E3hGRH5wULQhYFqWhlcMvcu/GghVRqe/PdnyfjUHrUwo+9zPnCCK+j8x6KUK8fYnjduJ7Cbi14qwS4s6KjN6UvWydaKiy3aOYi3qMXhiTmSCbHRQXJZwQpeygY628dSRbhktj/Fy6WwYz4uPyqoji4rMihQ4PmnE9wg5nyoTCiIMRs3kR3bdeVM6FH7w7Jab3rcDvLFXc6z5xr3ffelHZM8lJGPOKYDCd2w0c508NsbyUdK5FKrn5vegme5GEtsUI7Z4daCzGjFqx2KXv1ZNjnFdOyfl3tuxyVtFl9m6Qxu6u787kkfWEFd5N27JkkvySf+SXcEbokPImjda8OWaSI4NppDRxnz+29Lur55sa9iacUyampWu8hvSSRBP3Jc/Ivss7KGWy9cHuWy8qf9gtnMb+ReOdu1Vdc5hV91K/Pbe1/XTrmu+ZOvMBuuMM+NaLo+ZU/Pgfu/c36YtO6L96wlJ5kZvnNIWhVEt5D27mSzSn/d+bb/S5t42lb13sWuuQHdpRq62UO/zqLyRbfJvZl64f/tjuj+/o7nrHYtc7FqpbL7KXQtpMux37z+uT1Wt6k7bN/9J9503jyTuMbRwV4+nO3BWrv6h9w7V16PdO1xvf/sdu1Zv6R7ebHN1uorr1onKmdvJtX1Qv0nROX9U1p5bIV+andvMeg2m3XnM1/7Cgv+443bt5dFxGuF8gl01aSxIs06LjK49fk3y4S9WW5Galb9CjAw1vjGPUX3zH92mMsp/27sKGtw42ikSnRGwF5vbC7K8WjCaDiStXV+Xtqjx/6eLSty7yTPRHdnTktZOl5ej1goYPjw0mVI6f4/vu9bR/FNV9+K+Dyt/3DRsChWMeqH3D/k/h09o/O7uzTrJxazLp6nia053u556TXby7G3ONn13477aDr4tU66W69SL7e29pyftg/QBuk2PisVJYmilqyRJnzhdnOljqUxN763Bz3leB9Oo+yWP8qz3QWy/W+Md1Jbvz3v9cJ2WzccpmY6Ix7M0SqaZQu6g7xflH1368trL3aBQdE9fWbi2yCd+rt3668nqOMR/+cnGVMxHdWC3Sa19m8TGbU7tvvajq2R0QW/PhIg2XC5gG1O6cZrXmj6O20SjnGV10Z+5Tb+/eXTppML8kN+dE626X8dbv1ftg9qgPaJTy1ovKyTosaguY0X2I6l62N81xbRDnxGYLz80WqlsvFin3jdtbk6/d/zY57pKoTQ5/2Ky9Z5ntHrKdMqOrLp29g3lAy1fzDJcE46z3QwRKIs7ksJQCP9H26NikFHFelrjFVbBqa9j7wX5O5gVfCrhc6t0lmS/cnX15YWz09viUkwXiKr73qsjYDSFCN0r9K58O+nk4qaWruZFpZaE5h1PEJQ31ZWWGC12Vk+N4bUzL8Y7dHBt/XJR1Rtzm5hfyeVjEawJuYWwcN5N8XXulodGuglncTBK4qo32xTHn84nr0U8ae5C5cMxH84nrrT4LsnL16WfuXFeBgJtJv3ftc3kPP3BX6azghH3xyaJU0RlxFdu7PNg3SPjKEr8eI8NzfZcFu2XGyfyXeXP7rJG3S8/GGb7rci630sfVqm8L8EZxQdDh+Og98an7s8QlTHgNXhAUtCFYoKk8VEu1My4uKUV8RlxGfO+lIUteWrZsqTd30FfoGfKmTn1jakf9tbLc7JvnazqaW7vqW7vYrtn6Y8dYTp/q5Gipr/mDvj5/86y6klddVNcla2q3dlAWjLbFVK93eVcOZ1TnSztlrZ26BhzPqQ4Lpoyi/KYTJa3jR/fMSeydwdsNLO59zY6p00trxs68Vpab39rc2V5PVmMNrh3ZV5Y/gEZZDp//lzljdO87Ix3raUG+40uunDonzZd21rcS6ejwbEy9vMd7julvTCObyT4mZ48000TeeE0Dubv7WJz6oZ4mjhl49n2AWy/etnQv/+oHgy2llqcyDFMzdC6d1Tp/Vkt5e2uvye2LhI0zHBs1fSsaZqy/dT7QIu3HEWXNVHGd5jneKcb2MX6lP021PSAy+U+K9ml2ap5z5C/6N/95jrS/gjNyL0/az/t6h1Hyj9qnrxPZKRY93/Hy2qrp3benaS+wD4nWH8BYxYrZYTdedW0lk67pVnTdsbOf+3XcNnMvFx2wSjtkmpiieyBXq4zIZVrXbL9brwkl/QZ3g9qA9UYHPtD2EjZrajSteWmt8d6/6nqtbdIUB7jey4KdRHG9D4aMXWd/ENkZdr046+fiU/mNV2o782o7lF2zPcfZzxBM8rYz1rjbOAj+sP/3lecvlBVLO2rrWh2cVeup7zx723uFItHFYyVtec0d7UaGwhmTXp7nYnk945C4hZy5PfYbQxNLolsmvHuPtmU4+sVX/zzzenHWhes329tv1Jm7WdWl7zoqGkgDlK3LB6vZe1gbuazcOPqFCzmJpyqyrnWeryVLI/0Xne1nzJnkzeu5gjo83z/sn1h8/ET+oYuN5+uYonAbYzlz+qQXn71775zugy3LubqSOgfrPgXE812SwMv8+kBp+rXO8roOnomh0JstgVsXhQaSLAvjHvWQvrEF0XVjB/VLH4ysn7EsvEQ29mp7kOVYG0/dFuo1X+V0DEdp7G04wtBTl9rHWhvfrzF4wLdepNrfv157/PWR/023OH7AMOOCTsY57Qz2HkhTZnRODWj5n8VVvzPTdIkD50ZAbP2c120y0g0lMu1rFben3mnCNKsIOdTkf9Rm516DjAPM1KyduwLmtQlfr/Sx7e9qCfmUt4qPTB37rx3MR8qJHKZ2+v5P05tr79wwxuZIGHdf0QC+KM4tW6OV97CuXhzb5LPSLuGbEYeOamena5N9l//ajvn/U+s/tbZHRdRhOrXw2/O8k99ZJn2nl3KOmbvzjM5ZAU1rVlT03Zpm7W5TjfNdOnq3bjdNeas8c9Kof23nnEyn7HRt5xmdYWtvrlp0wzTX2cfWkMx6nme7bepAZNvppD4Gk1m7+wzjc9ThpBZhec4dzHSmtVuqTWeMxrxr1uljS7LJ7ZaPXaDUUigUiNXwMFRd4JfGS5KC7tFq2iirr26+/oSuY2f591+Wnh/ApVW6To4R/g66+FYMtVwHmz/r05zWC/+sHHXPN7bn8p//s95A+riF/afyHffWx2klTTnmXBP2MLQkbva41R7H2rbO5eRdvyXvekJracnxrcc+HMBOb2nn8u/waTx8zX9jsj+d/IfN5B9348uAe3d0shUt47154P4TtF7Ukhxf4oCS7XF4MZJjMeJevzhZH2n5bCJhgiQ5kPvYtVACPIV0HF4KdXgJ5fAEMHAvO3vpCV8HWdbeWPHkyEhfzhO+Iry54Svn4jsJ91MtjK8WohieeNooAnjooxL2Z6+hvh5FAfDwqlLjEi0ivwzz5qAsAOBhNEjKHmEWQHnDQ+J6CPwoIfV46IRx8QK+IZFHWMJWPysUDMDg9ijhrmI01wDAYMlyoleEpzYob/JHRB4+rlwESngSOAXHHCgIfT8+NS9LXELENQ9uIEKghKHEdp1pc709EkUB8IQwMuuyJnJzbkVRPOpAKZHkiMXKjn1OfmGbt4ZMfhSzRacceESe6E45AI/A3U45PTzJnXIAYHjdt1POo4QWSnh0LEdYP7kLX1tbW1RU9Nxzz2E7Ponb7qefflq8ePGTuPAjjfWwBR+ln376aeTIkS4uLiiKJ8sPP/zw3HPPWVnh7BgCJfzWmXEsnujlr6m4eenc5cUv4OK2J3LbpR06FRy09klceJ6ZPrbgo1SY/ZOrqytv2iQUxZPlxyPfP//sRJ7ZKBTFrwW9vAEAAAAAgRIAAAAAECgBAAAAAIESAAAAABAoAQAAAAAQKAEAAAAAgRIAAAAAECgBAAAAAIESAAAAAACBEgAAAAAQKAEAAAAAgRIAAAAAECgBAAAAADTQRREADNzly5ef3IWvrq62tbV9CrdaRUXFk77tAAAQKAF+C4yMjC6zUBRPqMjISBQCDMTMmTNRCAAIlADDwt7ePiEh4YlehaCgoOXLly9YsOBp23aXL1+OjIx80jcfAMDjDNdQAgAAAAACJQAAAAAgUAIAAAAAAiUAAAAAIFACAAAAACBQAgAAAAACJQAAAAAgUAIAAAAAAiUAAAAAAAIlAAAAACBQAgAAAAACJQAAAAAgUAIAAAAAIFACAAAAAAIlAAAAACBQAgAAAAACJQAAAAAASxdFAABPg+TkZBQCwG+YiDXcc7G0tFy3bh1KG4ESAJ46EyZMmDZtWkFBAYoC4LfKzMysoqLiEczo8uXLCJQIlADwlHrjjTdQCADwkA4fPrxv3z6Ug0a4hhIAAAAAECgBAAAAAIESAAAAABAoAQAAAACBEgAAAAAAgRIAAAAAECgBAAAAAIESAH5tUqkUhQAAMHxqampQCAiUAL9x1tbW+fn5KAcAgOFQXl5uY2ODckCgBPjtu3jxYmlpqfrz7733HgoHAGAgNFaYra2tP/74IwoHgRLgqSAUCv/2t79VV1f3fDI8PPz5559H4QAADMT06dPffPPNPk++9tprAQEBKBwESoCngoGBgY2Nzdtvv93U1KR85oMPPqiqqlqwYAEKBwBgIPz9/aVSaXh4+J1nXnnlFUtLSw6Hg8JBoAR4Wjz//PNyuTw0NJSITp48WVxc7OTkhGIBABg4W1vbGzduHDhwgIhWr17d3t4+e/ZsFAsCJcBTZNGiRdra2nK5nIgqKyuJCPUgAMCDVqRE1NjYqLx6Ultb+8UXX0SxIFACPF2cnJy0tLSUj3V1dX19fVEmAAADN3PmTG1tVWTS0tJydXVFmSBQAjx15s2bp1AolI9RDwIADMLvfvc75QOFQjF//nwUCAIlwFPHy8vLwMBA+RjdcQAABkF51puIRowYMWXKFBQIAiXA02jy5MlaWlp6enqTJ09GaQAAPChPT09dXV0tLa2pU6eiNBAoAZ5Sf/zjHxUKhbu7O4oCAGBwJk2apFAoli5diqJAoAR4Stmx7pyyAQCAB7V48WIul2thYYGiQKAEeHoJBAKMQAkAMGjjxo2bOXMmykEjrTt9PwEAAAAABgEtlAAAAACAQAkAAAAACJQAAAAAgEAJAAAAAAiUAAAAAAAIlAAAAACAQAkAAAAACJQAAAAAgEAJAAAAAIBACQAAAAAIlAAAAACAQAkAAAAACJQAAAAAAAiUAAAAAIBACQAAAAAIlAAAAACAQAkAAAAAgEAJ8KhUiVbwtLyjcmSPYmayX6J8tBxXf181TNNvOBzuqMVbtr8K2xUAHrrCyiFvLdK69z9HOj2ctWeliHg8+jRnuKbfkErjtGiF6Le9JXXxZQYYfmUF+6qIsgtqyWP0sM+soTg7i8qy8sp2vcQdlvq/oayMqsoKy+KJi00LAA+ltoDOEBGf5vL7f5M5GXOGM1AWUFUV/VxA5DEs029poBKikgLai0AJAAAAMFyC6dhGlMITDae8AQAAAACBEgAAAAAQKAEAAAAAgRIAHkhBrIDHE0TnyIjkVeLtoUu8HbUYjj4BobEn++1DLasUx65bMvsZ3p03R3+f0yC/97xy7s5LbXo5n87m8WbH5qm98iBLpdRQkhq7bonPOPYTvAn+62JTSxqwpQFgiOSQgEev9NddWkZ/n03jQqm299O1OfTRavJ2ZDuM80iwmvaI6T69xhvodUcat5oqNb34/WrScqTDmiq3k7EU4KPqnO69hLaL6d6Vs7yKEqNIMKH7I6spMes+H3lsKQBg2GVGMnubMP6apicLMiNnsd2lua6CWa7dHae5gk+y2/pOpy37M787b3CdJfB26v7PrLCUMtWbJAlC5qnNmXc/dy1eqGEBVG+PX8q8FpnV++my5ODuifdYMK5gS+Zl9en3XTa+91xB95rwg5NK8Q0AAM2uxSuIFBQ5sHdnK7yIeX/f+oeVEMS8xA1RSHs8eSCEnT77z0ugcOOqHjsJFTndVWxWJPPM0vie9bPqbVmalmIz+1KCpPezpYpV/O55cRWzBAou+3hWpKKgn3UsS1GtDpHCTaDw6v74rEhF85O3JdFCCfDraojfIIwxDk271qaQXE4TX5bcrs/eEcSlKvHbEfElvd5alhjstyG1irxDErLrb0sui9MyixUKSeauvwroZHRc1tANDNmSFRW4JK6EuAsj7y6Yov5ywpK290MivtdwXK5aNq5fpFjSpijNPJbGfCAnPsSrLC5gWfQFbGgAeHgelMiOV7ZJSDsLer1yPIKCEoi86futZNX95JkoWhRLxKUtadSmoKw0uiSh+lL6REglIjo4hANPyuijZbSnjLh+JJaQQkLiNJIo6FI8tUXQpmSN1SwF+tMZovXxJFXQpTTKKqU2CW3xo5MR9HYqWigB4IFaKIm8tmb3fX/prgXMK0FJPY6ApSkhXCLihh1rU59BffFlye0ha6Es3e3HLlhkptpRcv2BEFXLY8/pS5ODmae8I7PUlq14FzOtVcn1+BYAQL8tlPf8tz6l10eUDYrEVSSU9vtMz+bMHZpOkkguK+oVQ9ZCWbyLfb+3Qr0OlKaomir7tFB+4sE8uTxebeptire4CvJQ5KCFEgAeRPDbwWpj6fIneDN/EgrL7jxVdTwutopoQWTIXA0D/Jo7uXKHbFTZMnFiKrtgId7GajNaGBw+We0DB+PimNQYHuKltmxO/suWEu0RZ+JaSgDoF5/mCvr9Z927YvHaSAlBRFUUtIzOyKg8gV6KYI9yRRTYY3T0M6l0hoi7kZZrGjKd60rmQ7f4JxOIrQNJvQ608qMNanW8TEyf5RB50IYgtWlxSBhKlEMnc56sTYiBzQF+XQLvZzTUanwnIVHPC88bsjOY/3rMncIf7iWqyhEfJyKhwENjdevhs5Co1ynshoKfmQAqnKXxA1z+M0T7k3NKYvyexeYGAM1H1g82sHlgPMmJViTQS/7kIKYqovUp9P+8e70niz3R/JIPcYa90qQMMfN3Vj832vH2YwJiT4U5zDKTH03W9P7RbDWfUzZcd+5BoAT4LTI3HFBlJ2tg+y3yubxhXyK5jO3+yDPv5/CdY+HRu3JULZtohaPWiv4rXDm2NQAMneVxVF5Gm9g0uTyePvfr+4YWtpriWTyKhVH2GTfvZ17Gas8ra1mKIq2o/qcpe7I2CAIlAGhU/6C1Gd9LwDfp70VX19EoUgAYQhIq7r4oqLiMWoiMf+0letBKk+tKz/TfRuDtikAJAEOOY872WyyrkhBxh3TKbX3bDo3NecqqsZ+6UVbf98oeDtvI6r0hPn4pF5sKAB5BdqOPltG+KvIKoXHJtC+C1vFpb+/rEY3ZcymS+qGf+e2+VaCqX7msTfP7W+r7CV/Lfkt3MEenHIAngrmrh4CIco5nlw3i06qMSBrOOzcUZH6vNqu5RCQS52jsR5OTebDvUbaHL7Ns4pzLMmwoAHgEafKfS2hTFnGDKDGGvhCRF9G+ZX0HPHdj6iX6PpMGUzFxVFc3arhWJ4f61oHmxNbP/XajyVIbA8iNvdyzKpNKCIESAB4p/oJgIREdjo07raF2bCjJKWu5Rxzl8Sdrzohl+2Nj1WYlCPQjorjNW7PUplmWuHWr2qCS/FlBfkRVf48VlfdT/bcgagLAEEkMpg2p7JCTceRAZOytGpxyzxL6KOvu23yXMKGwKor2azoMr8rpe0Od3rUaKXv4ZKllxOPxpD6w7iy2cXRPJKnXz+UJbIfuPnnVh97jEqXS3izN85fLnrjrzhEoAZ4Qo4MiPvMmyola6h/xfcHdey3W5iRsmO06bsqyPQX9f9hDEOTBZMRPIkQl3fWdvCFnz+rZa7O5aqep+YGRkV5EF6KEQVHiyjv1Y0NBYuiyoAKfpYK+H3AKjmSWTbRs7urYM1WyHnVi2Zm4cD9HQ5NgURU2IQA8tDNRqgHMD8TfHaPHIYiyugc8T+yOjxxv2hzCPFgxm7Zn3W2nlFXRp0uIN4U232PwcHOay46u+1kEnblzHC6jwxG0Il7DZUdOy2gLUz/T0iXU8xa1eQkUuIx8hWof4NCGOGY6Hwlpk6hXtK0toE+X0RhD+vQJGzYIA5sD/LoDm2scbFzT4OTssOKZWwSDufWiQqFozmQyoqru8xZ4KUcf4gYlZPZz68WUkDvvH9CtF3suG/G9BN2zYD/11xTcfhEA+h/YnK+YK+j/n1DxMztg+LVkdpDwPgOY9xnwnK/I6DG6eELwoG69yN5KcXn3m7muilmuqsebM/u99eJ67we89WK8wonuzmJu90f6LN4TAoES4BGQJC/nkldk75tzX46ZxSWnjZmaKo361DA+cXvdKefOS8UpMa8JVVGS6ypYFbYrtbTnfWjafo70Jn6wSO2zzaUpnwQL3LrvG74qMvkS87nszwVcriDmktqcbkvSPg8RqnIh33tp2K4sSfeyaZo+u2y73uqeBRN5hSGfxGdea8M3AAA0a8u+ez/rfv91Z0RpisKJq9iS2e/UkoIVXIEqfd6tgDMVm4O7oyRfsTREkZCpuN0z1CYruFzFJ9nqVZpid1j3LbbZD4rZei81hPlvqqb7f4ljFEu7Y6WXULGbnVF9ChMcVyVreP9tiSJh692POHkrVoUpUi/3WrwnhBYTKgEAAAAABgvXUAIAAAAAAiUAAAAAIFACAAAAAAIlAAAAACBQAgAAAAAgUAIAAAAAAiUAAAAAIFACAAAAAAIlAAAAAAACJQAAAAAgUAIAAAAAAiUAAAAAIFACAAAAACBQAgAAAAACJQAAAAAgUAIAAAAAAiUAAAAAAAIlAAAAACBQAgAAAAACJQAAAAAgUAIAAADAU+v/BwAA//9iS10TIXn0LwAAAABJRU5ErkJggg==)\n"
      ],
      "metadata": {
        "id": "mtYCgn7vIMLM"
      }
    },
    {
      "cell_type": "markdown",
      "source": [
        "Row Filtering ***\n",
        "1. .>   มากกว่า\n",
        "2. .>=  มากกว่าหรือเท่ากับ\n",
        "3. <   น้อยกว่า \n",
        "4. =  น้อยกว่าหรือเท่ากับ  \n",
        "5. ==  เท่ากับ\n",
        "6. !=  ไม่เท่ากับ"
      ],
      "metadata": {
        "id": "aiaeDzkNK0LK"
      }
    },
    {
      "cell_type": "markdown",
      "source": [
        "ถ้าจารย์ต้องการข้อมูลของคอนโด\n",
        "data1[data1['propertytype_name_en']=='Condo']\n",
        "\n",
        "---\n",
        "\n",
        "[data1['propertytype_name_en']=='Condo'] #ใส่ฟันหนูเพราะค่าที่ต้องการเป็ฯตัวอักษรภาษาอังกฤษ\n",
        "\n",
        "ค่าในตารางถ้าเท่ากับคอนโดก็จะให้เป็น true ถ้าไม่ใช่ false\n",
        "\n",
        "\n",
        "\n",
        "---\n",
        "อยากได้บ้านที่ราคาเกิน10ล้านมีเท่าไหร่\n",
        "\n",
        "data1[data1['price_min']>10000000]\n",
        "\n",
        "ค่าในตารางถ้าเท่ากับคอนโดก็จะให้เป็น true false\n",
        "\n",
        "\n",
        "---\n",
        "\n",
        "เราสามารถใช้ร่วมกับ .describe\n",
        "\n",
        "data1[data1['price_min']>10000000].describe()\n",
        "\n",
        "---\n",
        "\n"
      ],
      "metadata": {
        "id": "_WYd5UvvMHQi"
      }
    },
    {
      "cell_type": "markdown",
      "source": [
        "##slicing - query"
      ],
      "metadata": {
        "id": "y0tzMnjkcdjc"
      }
    },
    {
      "cell_type": "markdown",
      "source": [
        "\n",
        "\n",
        "***how to slice a dataframe in pandas***\n",
        "\n",
        "1. import pandas as pd\n",
        "2. ประกาศตัวแปร เพื่อเรียกใช้แพนด้า \"data_frame = pd.read_csv(\"name_of_the_file.csv\")\" \n",
        "3. create data frame \n",
        "\n",
        "classes = pd.Series([\"Mathematics\",\"Chemistry\",\"Physics\",\"History\",\"Geography\",\"German\"])\n",
        "\n",
        "grades  = pd.Series([90,54,77,22,25])\n",
        "\n",
        "\n",
        "pd.DataFrame({\"Classes\": classes, \"Grades\": grades}) \n",
        "\n",
        "4.  slicing เลือกแถว เลือกหลัก\n",
        "ทำเหมือน table slicing"
      ],
      "metadata": {
        "id": "UPiTxQngMVIM"
      }
    },
    {
      "cell_type": "code",
      "source": [],
      "metadata": {
        "id": "9D-gS3X54f0_"
      },
      "execution_count": null,
      "outputs": []
    },
    {
      "cell_type": "code",
      "source": [],
      "metadata": {
        "id": "nAL5oKfY14YD"
      },
      "execution_count": null,
      "outputs": []
    },
    {
      "cell_type": "markdown",
      "source": [
        "##missing value"
      ],
      "metadata": {
        "id": "8YJlZjgu4jB9"
      }
    },
    {
      "cell_type": "code",
      "source": [
        "#ตัวอย่าง\n",
        "# importing pandas as pd\n",
        "import pandas as pd\n",
        " \n",
        "# importing numpy as np\n",
        "import numpy as np\n",
        " \n",
        "# dictionary of lists\n",
        "dict = {'First Score':[100, 90, np.nan, 95],\n",
        "        'Second Score': [30, 45, 56, np.nan],\n",
        "        'Third Score':[np.nan, 40, 80, 98]}\n",
        " \n",
        "# creating a dataframe from list\n",
        "df = pd.DataFrame(dict)\n",
        " \n",
        "# using isnull() function \n",
        "df.isnull()"
      ],
      "metadata": {
        "id": "J-48iDpX4lXA",
        "outputId": "fef17583-a059-4594-94f9-bd517233da6b",
        "colab": {
          "base_uri": "https://localhost:8080/",
          "height": 175
        }
      },
      "execution_count": null,
      "outputs": [
        {
          "output_type": "execute_result",
          "data": {
            "text/plain": [
              "   First Score  Second Score  Third Score\n",
              "0        False         False         True\n",
              "1        False         False        False\n",
              "2         True         False        False\n",
              "3        False          True        False"
            ],
            "text/html": [
              "\n",
              "  <div id=\"df-8b4bb6ed-1bf2-4f3a-88cf-48614db4dbfc\">\n",
              "    <div class=\"colab-df-container\">\n",
              "      <div>\n",
              "<style scoped>\n",
              "    .dataframe tbody tr th:only-of-type {\n",
              "        vertical-align: middle;\n",
              "    }\n",
              "\n",
              "    .dataframe tbody tr th {\n",
              "        vertical-align: top;\n",
              "    }\n",
              "\n",
              "    .dataframe thead th {\n",
              "        text-align: right;\n",
              "    }\n",
              "</style>\n",
              "<table border=\"1\" class=\"dataframe\">\n",
              "  <thead>\n",
              "    <tr style=\"text-align: right;\">\n",
              "      <th></th>\n",
              "      <th>First Score</th>\n",
              "      <th>Second Score</th>\n",
              "      <th>Third Score</th>\n",
              "    </tr>\n",
              "  </thead>\n",
              "  <tbody>\n",
              "    <tr>\n",
              "      <th>0</th>\n",
              "      <td>False</td>\n",
              "      <td>False</td>\n",
              "      <td>True</td>\n",
              "    </tr>\n",
              "    <tr>\n",
              "      <th>1</th>\n",
              "      <td>False</td>\n",
              "      <td>False</td>\n",
              "      <td>False</td>\n",
              "    </tr>\n",
              "    <tr>\n",
              "      <th>2</th>\n",
              "      <td>True</td>\n",
              "      <td>False</td>\n",
              "      <td>False</td>\n",
              "    </tr>\n",
              "    <tr>\n",
              "      <th>3</th>\n",
              "      <td>False</td>\n",
              "      <td>True</td>\n",
              "      <td>False</td>\n",
              "    </tr>\n",
              "  </tbody>\n",
              "</table>\n",
              "</div>\n",
              "      <button class=\"colab-df-convert\" onclick=\"convertToInteractive('df-8b4bb6ed-1bf2-4f3a-88cf-48614db4dbfc')\"\n",
              "              title=\"Convert this dataframe to an interactive table.\"\n",
              "              style=\"display:none;\">\n",
              "        \n",
              "  <svg xmlns=\"http://www.w3.org/2000/svg\" height=\"24px\"viewBox=\"0 0 24 24\"\n",
              "       width=\"24px\">\n",
              "    <path d=\"M0 0h24v24H0V0z\" fill=\"none\"/>\n",
              "    <path d=\"M18.56 5.44l.94 2.06.94-2.06 2.06-.94-2.06-.94-.94-2.06-.94 2.06-2.06.94zm-11 1L8.5 8.5l.94-2.06 2.06-.94-2.06-.94L8.5 2.5l-.94 2.06-2.06.94zm10 10l.94 2.06.94-2.06 2.06-.94-2.06-.94-.94-2.06-.94 2.06-2.06.94z\"/><path d=\"M17.41 7.96l-1.37-1.37c-.4-.4-.92-.59-1.43-.59-.52 0-1.04.2-1.43.59L10.3 9.45l-7.72 7.72c-.78.78-.78 2.05 0 2.83L4 21.41c.39.39.9.59 1.41.59.51 0 1.02-.2 1.41-.59l7.78-7.78 2.81-2.81c.8-.78.8-2.07 0-2.86zM5.41 20L4 18.59l7.72-7.72 1.47 1.35L5.41 20z\"/>\n",
              "  </svg>\n",
              "      </button>\n",
              "      \n",
              "  <style>\n",
              "    .colab-df-container {\n",
              "      display:flex;\n",
              "      flex-wrap:wrap;\n",
              "      gap: 12px;\n",
              "    }\n",
              "\n",
              "    .colab-df-convert {\n",
              "      background-color: #E8F0FE;\n",
              "      border: none;\n",
              "      border-radius: 50%;\n",
              "      cursor: pointer;\n",
              "      display: none;\n",
              "      fill: #1967D2;\n",
              "      height: 32px;\n",
              "      padding: 0 0 0 0;\n",
              "      width: 32px;\n",
              "    }\n",
              "\n",
              "    .colab-df-convert:hover {\n",
              "      background-color: #E2EBFA;\n",
              "      box-shadow: 0px 1px 2px rgba(60, 64, 67, 0.3), 0px 1px 3px 1px rgba(60, 64, 67, 0.15);\n",
              "      fill: #174EA6;\n",
              "    }\n",
              "\n",
              "    [theme=dark] .colab-df-convert {\n",
              "      background-color: #3B4455;\n",
              "      fill: #D2E3FC;\n",
              "    }\n",
              "\n",
              "    [theme=dark] .colab-df-convert:hover {\n",
              "      background-color: #434B5C;\n",
              "      box-shadow: 0px 1px 3px 1px rgba(0, 0, 0, 0.15);\n",
              "      filter: drop-shadow(0px 1px 2px rgba(0, 0, 0, 0.3));\n",
              "      fill: #FFFFFF;\n",
              "    }\n",
              "  </style>\n",
              "\n",
              "      <script>\n",
              "        const buttonEl =\n",
              "          document.querySelector('#df-8b4bb6ed-1bf2-4f3a-88cf-48614db4dbfc button.colab-df-convert');\n",
              "        buttonEl.style.display =\n",
              "          google.colab.kernel.accessAllowed ? 'block' : 'none';\n",
              "\n",
              "        async function convertToInteractive(key) {\n",
              "          const element = document.querySelector('#df-8b4bb6ed-1bf2-4f3a-88cf-48614db4dbfc');\n",
              "          const dataTable =\n",
              "            await google.colab.kernel.invokeFunction('convertToInteractive',\n",
              "                                                     [key], {});\n",
              "          if (!dataTable) return;\n",
              "\n",
              "          const docLinkHtml = 'Like what you see? Visit the ' +\n",
              "            '<a target=\"_blank\" href=https://colab.research.google.com/notebooks/data_table.ipynb>data table notebook</a>'\n",
              "            + ' to learn more about interactive tables.';\n",
              "          element.innerHTML = '';\n",
              "          dataTable['output_type'] = 'display_data';\n",
              "          await google.colab.output.renderOutput(dataTable, element);\n",
              "          const docLink = document.createElement('div');\n",
              "          docLink.innerHTML = docLinkHtml;\n",
              "          element.appendChild(docLink);\n",
              "        }\n",
              "      </script>\n",
              "    </div>\n",
              "  </div>\n",
              "  "
            ]
          },
          "metadata": {},
          "execution_count": 17
        }
      ]
    },
    {
      "cell_type": "code",
      "source": [
        "df = pd.DataFrame(dict)\n",
        "df.head()"
      ],
      "metadata": {
        "id": "MtsxH5yd4-G_",
        "outputId": "e0123b15-7891-48ed-9d1a-763ded3bc2b1",
        "colab": {
          "base_uri": "https://localhost:8080/",
          "height": 175
        }
      },
      "execution_count": null,
      "outputs": [
        {
          "output_type": "execute_result",
          "data": {
            "text/plain": [
              "   First Score  Second Score  Third Score\n",
              "0        100.0          30.0          NaN\n",
              "1         90.0          45.0         40.0\n",
              "2          NaN          56.0         80.0\n",
              "3         95.0           NaN         98.0"
            ],
            "text/html": [
              "\n",
              "  <div id=\"df-075eca70-e3f8-4768-a15a-503b90d171e2\">\n",
              "    <div class=\"colab-df-container\">\n",
              "      <div>\n",
              "<style scoped>\n",
              "    .dataframe tbody tr th:only-of-type {\n",
              "        vertical-align: middle;\n",
              "    }\n",
              "\n",
              "    .dataframe tbody tr th {\n",
              "        vertical-align: top;\n",
              "    }\n",
              "\n",
              "    .dataframe thead th {\n",
              "        text-align: right;\n",
              "    }\n",
              "</style>\n",
              "<table border=\"1\" class=\"dataframe\">\n",
              "  <thead>\n",
              "    <tr style=\"text-align: right;\">\n",
              "      <th></th>\n",
              "      <th>First Score</th>\n",
              "      <th>Second Score</th>\n",
              "      <th>Third Score</th>\n",
              "    </tr>\n",
              "  </thead>\n",
              "  <tbody>\n",
              "    <tr>\n",
              "      <th>0</th>\n",
              "      <td>100.0</td>\n",
              "      <td>30.0</td>\n",
              "      <td>NaN</td>\n",
              "    </tr>\n",
              "    <tr>\n",
              "      <th>1</th>\n",
              "      <td>90.0</td>\n",
              "      <td>45.0</td>\n",
              "      <td>40.0</td>\n",
              "    </tr>\n",
              "    <tr>\n",
              "      <th>2</th>\n",
              "      <td>NaN</td>\n",
              "      <td>56.0</td>\n",
              "      <td>80.0</td>\n",
              "    </tr>\n",
              "    <tr>\n",
              "      <th>3</th>\n",
              "      <td>95.0</td>\n",
              "      <td>NaN</td>\n",
              "      <td>98.0</td>\n",
              "    </tr>\n",
              "  </tbody>\n",
              "</table>\n",
              "</div>\n",
              "      <button class=\"colab-df-convert\" onclick=\"convertToInteractive('df-075eca70-e3f8-4768-a15a-503b90d171e2')\"\n",
              "              title=\"Convert this dataframe to an interactive table.\"\n",
              "              style=\"display:none;\">\n",
              "        \n",
              "  <svg xmlns=\"http://www.w3.org/2000/svg\" height=\"24px\"viewBox=\"0 0 24 24\"\n",
              "       width=\"24px\">\n",
              "    <path d=\"M0 0h24v24H0V0z\" fill=\"none\"/>\n",
              "    <path d=\"M18.56 5.44l.94 2.06.94-2.06 2.06-.94-2.06-.94-.94-2.06-.94 2.06-2.06.94zm-11 1L8.5 8.5l.94-2.06 2.06-.94-2.06-.94L8.5 2.5l-.94 2.06-2.06.94zm10 10l.94 2.06.94-2.06 2.06-.94-2.06-.94-.94-2.06-.94 2.06-2.06.94z\"/><path d=\"M17.41 7.96l-1.37-1.37c-.4-.4-.92-.59-1.43-.59-.52 0-1.04.2-1.43.59L10.3 9.45l-7.72 7.72c-.78.78-.78 2.05 0 2.83L4 21.41c.39.39.9.59 1.41.59.51 0 1.02-.2 1.41-.59l7.78-7.78 2.81-2.81c.8-.78.8-2.07 0-2.86zM5.41 20L4 18.59l7.72-7.72 1.47 1.35L5.41 20z\"/>\n",
              "  </svg>\n",
              "      </button>\n",
              "      \n",
              "  <style>\n",
              "    .colab-df-container {\n",
              "      display:flex;\n",
              "      flex-wrap:wrap;\n",
              "      gap: 12px;\n",
              "    }\n",
              "\n",
              "    .colab-df-convert {\n",
              "      background-color: #E8F0FE;\n",
              "      border: none;\n",
              "      border-radius: 50%;\n",
              "      cursor: pointer;\n",
              "      display: none;\n",
              "      fill: #1967D2;\n",
              "      height: 32px;\n",
              "      padding: 0 0 0 0;\n",
              "      width: 32px;\n",
              "    }\n",
              "\n",
              "    .colab-df-convert:hover {\n",
              "      background-color: #E2EBFA;\n",
              "      box-shadow: 0px 1px 2px rgba(60, 64, 67, 0.3), 0px 1px 3px 1px rgba(60, 64, 67, 0.15);\n",
              "      fill: #174EA6;\n",
              "    }\n",
              "\n",
              "    [theme=dark] .colab-df-convert {\n",
              "      background-color: #3B4455;\n",
              "      fill: #D2E3FC;\n",
              "    }\n",
              "\n",
              "    [theme=dark] .colab-df-convert:hover {\n",
              "      background-color: #434B5C;\n",
              "      box-shadow: 0px 1px 3px 1px rgba(0, 0, 0, 0.15);\n",
              "      filter: drop-shadow(0px 1px 2px rgba(0, 0, 0, 0.3));\n",
              "      fill: #FFFFFF;\n",
              "    }\n",
              "  </style>\n",
              "\n",
              "      <script>\n",
              "        const buttonEl =\n",
              "          document.querySelector('#df-075eca70-e3f8-4768-a15a-503b90d171e2 button.colab-df-convert');\n",
              "        buttonEl.style.display =\n",
              "          google.colab.kernel.accessAllowed ? 'block' : 'none';\n",
              "\n",
              "        async function convertToInteractive(key) {\n",
              "          const element = document.querySelector('#df-075eca70-e3f8-4768-a15a-503b90d171e2');\n",
              "          const dataTable =\n",
              "            await google.colab.kernel.invokeFunction('convertToInteractive',\n",
              "                                                     [key], {});\n",
              "          if (!dataTable) return;\n",
              "\n",
              "          const docLinkHtml = 'Like what you see? Visit the ' +\n",
              "            '<a target=\"_blank\" href=https://colab.research.google.com/notebooks/data_table.ipynb>data table notebook</a>'\n",
              "            + ' to learn more about interactive tables.';\n",
              "          element.innerHTML = '';\n",
              "          dataTable['output_type'] = 'display_data';\n",
              "          await google.colab.output.renderOutput(dataTable, element);\n",
              "          const docLink = document.createElement('div');\n",
              "          docLink.innerHTML = docLinkHtml;\n",
              "          element.appendChild(docLink);\n",
              "        }\n",
              "      </script>\n",
              "    </div>\n",
              "  </div>\n",
              "  "
            ]
          },
          "metadata": {},
          "execution_count": 18
        }
      ]
    },
    {
      "cell_type": "code",
      "source": [
        "# importing pandas as pd\n",
        "import pandas as pd\n",
        " \n",
        "# importing numpy as np\n",
        "import numpy as np\n",
        " \n",
        "# dictionary of lists\n",
        "dict = {'First Score':[100, 90, np.nan, 95],\n",
        "        'Second Score': [30, 45, 56, np.nan],\n",
        "        'Third Score':[np.nan, 40, 80, 98]}\n",
        " \n",
        "# creating a dataframe using dictionary\n",
        "df = pd.DataFrame(dict)\n",
        " \n",
        "# using notnull() function\n",
        "df.notnull()"
      ],
      "metadata": {
        "id": "bhec7cZg5GUd",
        "outputId": "c2850671-cc8c-49a5-e82d-0aae6833a622",
        "colab": {
          "base_uri": "https://localhost:8080/",
          "height": 175
        }
      },
      "execution_count": null,
      "outputs": [
        {
          "output_type": "execute_result",
          "data": {
            "text/plain": [
              "   First Score  Second Score  Third Score\n",
              "0         True          True        False\n",
              "1         True          True         True\n",
              "2        False          True         True\n",
              "3         True         False         True"
            ],
            "text/html": [
              "\n",
              "  <div id=\"df-fff5e5e4-0665-44b6-8bb7-7e22f5750bac\">\n",
              "    <div class=\"colab-df-container\">\n",
              "      <div>\n",
              "<style scoped>\n",
              "    .dataframe tbody tr th:only-of-type {\n",
              "        vertical-align: middle;\n",
              "    }\n",
              "\n",
              "    .dataframe tbody tr th {\n",
              "        vertical-align: top;\n",
              "    }\n",
              "\n",
              "    .dataframe thead th {\n",
              "        text-align: right;\n",
              "    }\n",
              "</style>\n",
              "<table border=\"1\" class=\"dataframe\">\n",
              "  <thead>\n",
              "    <tr style=\"text-align: right;\">\n",
              "      <th></th>\n",
              "      <th>First Score</th>\n",
              "      <th>Second Score</th>\n",
              "      <th>Third Score</th>\n",
              "    </tr>\n",
              "  </thead>\n",
              "  <tbody>\n",
              "    <tr>\n",
              "      <th>0</th>\n",
              "      <td>True</td>\n",
              "      <td>True</td>\n",
              "      <td>False</td>\n",
              "    </tr>\n",
              "    <tr>\n",
              "      <th>1</th>\n",
              "      <td>True</td>\n",
              "      <td>True</td>\n",
              "      <td>True</td>\n",
              "    </tr>\n",
              "    <tr>\n",
              "      <th>2</th>\n",
              "      <td>False</td>\n",
              "      <td>True</td>\n",
              "      <td>True</td>\n",
              "    </tr>\n",
              "    <tr>\n",
              "      <th>3</th>\n",
              "      <td>True</td>\n",
              "      <td>False</td>\n",
              "      <td>True</td>\n",
              "    </tr>\n",
              "  </tbody>\n",
              "</table>\n",
              "</div>\n",
              "      <button class=\"colab-df-convert\" onclick=\"convertToInteractive('df-fff5e5e4-0665-44b6-8bb7-7e22f5750bac')\"\n",
              "              title=\"Convert this dataframe to an interactive table.\"\n",
              "              style=\"display:none;\">\n",
              "        \n",
              "  <svg xmlns=\"http://www.w3.org/2000/svg\" height=\"24px\"viewBox=\"0 0 24 24\"\n",
              "       width=\"24px\">\n",
              "    <path d=\"M0 0h24v24H0V0z\" fill=\"none\"/>\n",
              "    <path d=\"M18.56 5.44l.94 2.06.94-2.06 2.06-.94-2.06-.94-.94-2.06-.94 2.06-2.06.94zm-11 1L8.5 8.5l.94-2.06 2.06-.94-2.06-.94L8.5 2.5l-.94 2.06-2.06.94zm10 10l.94 2.06.94-2.06 2.06-.94-2.06-.94-.94-2.06-.94 2.06-2.06.94z\"/><path d=\"M17.41 7.96l-1.37-1.37c-.4-.4-.92-.59-1.43-.59-.52 0-1.04.2-1.43.59L10.3 9.45l-7.72 7.72c-.78.78-.78 2.05 0 2.83L4 21.41c.39.39.9.59 1.41.59.51 0 1.02-.2 1.41-.59l7.78-7.78 2.81-2.81c.8-.78.8-2.07 0-2.86zM5.41 20L4 18.59l7.72-7.72 1.47 1.35L5.41 20z\"/>\n",
              "  </svg>\n",
              "      </button>\n",
              "      \n",
              "  <style>\n",
              "    .colab-df-container {\n",
              "      display:flex;\n",
              "      flex-wrap:wrap;\n",
              "      gap: 12px;\n",
              "    }\n",
              "\n",
              "    .colab-df-convert {\n",
              "      background-color: #E8F0FE;\n",
              "      border: none;\n",
              "      border-radius: 50%;\n",
              "      cursor: pointer;\n",
              "      display: none;\n",
              "      fill: #1967D2;\n",
              "      height: 32px;\n",
              "      padding: 0 0 0 0;\n",
              "      width: 32px;\n",
              "    }\n",
              "\n",
              "    .colab-df-convert:hover {\n",
              "      background-color: #E2EBFA;\n",
              "      box-shadow: 0px 1px 2px rgba(60, 64, 67, 0.3), 0px 1px 3px 1px rgba(60, 64, 67, 0.15);\n",
              "      fill: #174EA6;\n",
              "    }\n",
              "\n",
              "    [theme=dark] .colab-df-convert {\n",
              "      background-color: #3B4455;\n",
              "      fill: #D2E3FC;\n",
              "    }\n",
              "\n",
              "    [theme=dark] .colab-df-convert:hover {\n",
              "      background-color: #434B5C;\n",
              "      box-shadow: 0px 1px 3px 1px rgba(0, 0, 0, 0.15);\n",
              "      filter: drop-shadow(0px 1px 2px rgba(0, 0, 0, 0.3));\n",
              "      fill: #FFFFFF;\n",
              "    }\n",
              "  </style>\n",
              "\n",
              "      <script>\n",
              "        const buttonEl =\n",
              "          document.querySelector('#df-fff5e5e4-0665-44b6-8bb7-7e22f5750bac button.colab-df-convert');\n",
              "        buttonEl.style.display =\n",
              "          google.colab.kernel.accessAllowed ? 'block' : 'none';\n",
              "\n",
              "        async function convertToInteractive(key) {\n",
              "          const element = document.querySelector('#df-fff5e5e4-0665-44b6-8bb7-7e22f5750bac');\n",
              "          const dataTable =\n",
              "            await google.colab.kernel.invokeFunction('convertToInteractive',\n",
              "                                                     [key], {});\n",
              "          if (!dataTable) return;\n",
              "\n",
              "          const docLinkHtml = 'Like what you see? Visit the ' +\n",
              "            '<a target=\"_blank\" href=https://colab.research.google.com/notebooks/data_table.ipynb>data table notebook</a>'\n",
              "            + ' to learn more about interactive tables.';\n",
              "          element.innerHTML = '';\n",
              "          dataTable['output_type'] = 'display_data';\n",
              "          await google.colab.output.renderOutput(dataTable, element);\n",
              "          const docLink = document.createElement('div');\n",
              "          docLink.innerHTML = docLinkHtml;\n",
              "          element.appendChild(docLink);\n",
              "        }\n",
              "      </script>\n",
              "    </div>\n",
              "  </div>\n",
              "  "
            ]
          },
          "metadata": {},
          "execution_count": 20
        }
      ]
    },
    {
      "cell_type": "code",
      "source": [
        "# importing pandas as pd\n",
        "import pandas as pd\n",
        " \n",
        "# importing numpy as np\n",
        "import numpy as np\n",
        " \n",
        "# dictionary of lists\n",
        "dict = {'First Score':[100, 90, np.nan, 95],\n",
        "        'Second Score': [30, 45, 56, np.nan],\n",
        "        'Third Score':[np.nan, 40, 80, 98]}\n",
        " \n",
        "# creating a dataframe from dictionary\n",
        "df = pd.DataFrame(dict)\n",
        " \n",
        "# filling missing value using fillna() \n",
        "df.fillna(0)"
      ],
      "metadata": {
        "id": "RHpWS-Po5meL",
        "outputId": "cc34bd90-0b05-4929-c161-859b132d42f5",
        "colab": {
          "base_uri": "https://localhost:8080/",
          "height": 175
        }
      },
      "execution_count": null,
      "outputs": [
        {
          "output_type": "execute_result",
          "data": {
            "text/plain": [
              "   First Score  Second Score  Third Score\n",
              "0        100.0          30.0          0.0\n",
              "1         90.0          45.0         40.0\n",
              "2          0.0          56.0         80.0\n",
              "3         95.0           0.0         98.0"
            ],
            "text/html": [
              "\n",
              "  <div id=\"df-5e5f4136-cbcf-4552-9559-25ef7d79b7b8\">\n",
              "    <div class=\"colab-df-container\">\n",
              "      <div>\n",
              "<style scoped>\n",
              "    .dataframe tbody tr th:only-of-type {\n",
              "        vertical-align: middle;\n",
              "    }\n",
              "\n",
              "    .dataframe tbody tr th {\n",
              "        vertical-align: top;\n",
              "    }\n",
              "\n",
              "    .dataframe thead th {\n",
              "        text-align: right;\n",
              "    }\n",
              "</style>\n",
              "<table border=\"1\" class=\"dataframe\">\n",
              "  <thead>\n",
              "    <tr style=\"text-align: right;\">\n",
              "      <th></th>\n",
              "      <th>First Score</th>\n",
              "      <th>Second Score</th>\n",
              "      <th>Third Score</th>\n",
              "    </tr>\n",
              "  </thead>\n",
              "  <tbody>\n",
              "    <tr>\n",
              "      <th>0</th>\n",
              "      <td>100.0</td>\n",
              "      <td>30.0</td>\n",
              "      <td>0.0</td>\n",
              "    </tr>\n",
              "    <tr>\n",
              "      <th>1</th>\n",
              "      <td>90.0</td>\n",
              "      <td>45.0</td>\n",
              "      <td>40.0</td>\n",
              "    </tr>\n",
              "    <tr>\n",
              "      <th>2</th>\n",
              "      <td>0.0</td>\n",
              "      <td>56.0</td>\n",
              "      <td>80.0</td>\n",
              "    </tr>\n",
              "    <tr>\n",
              "      <th>3</th>\n",
              "      <td>95.0</td>\n",
              "      <td>0.0</td>\n",
              "      <td>98.0</td>\n",
              "    </tr>\n",
              "  </tbody>\n",
              "</table>\n",
              "</div>\n",
              "      <button class=\"colab-df-convert\" onclick=\"convertToInteractive('df-5e5f4136-cbcf-4552-9559-25ef7d79b7b8')\"\n",
              "              title=\"Convert this dataframe to an interactive table.\"\n",
              "              style=\"display:none;\">\n",
              "        \n",
              "  <svg xmlns=\"http://www.w3.org/2000/svg\" height=\"24px\"viewBox=\"0 0 24 24\"\n",
              "       width=\"24px\">\n",
              "    <path d=\"M0 0h24v24H0V0z\" fill=\"none\"/>\n",
              "    <path d=\"M18.56 5.44l.94 2.06.94-2.06 2.06-.94-2.06-.94-.94-2.06-.94 2.06-2.06.94zm-11 1L8.5 8.5l.94-2.06 2.06-.94-2.06-.94L8.5 2.5l-.94 2.06-2.06.94zm10 10l.94 2.06.94-2.06 2.06-.94-2.06-.94-.94-2.06-.94 2.06-2.06.94z\"/><path d=\"M17.41 7.96l-1.37-1.37c-.4-.4-.92-.59-1.43-.59-.52 0-1.04.2-1.43.59L10.3 9.45l-7.72 7.72c-.78.78-.78 2.05 0 2.83L4 21.41c.39.39.9.59 1.41.59.51 0 1.02-.2 1.41-.59l7.78-7.78 2.81-2.81c.8-.78.8-2.07 0-2.86zM5.41 20L4 18.59l7.72-7.72 1.47 1.35L5.41 20z\"/>\n",
              "  </svg>\n",
              "      </button>\n",
              "      \n",
              "  <style>\n",
              "    .colab-df-container {\n",
              "      display:flex;\n",
              "      flex-wrap:wrap;\n",
              "      gap: 12px;\n",
              "    }\n",
              "\n",
              "    .colab-df-convert {\n",
              "      background-color: #E8F0FE;\n",
              "      border: none;\n",
              "      border-radius: 50%;\n",
              "      cursor: pointer;\n",
              "      display: none;\n",
              "      fill: #1967D2;\n",
              "      height: 32px;\n",
              "      padding: 0 0 0 0;\n",
              "      width: 32px;\n",
              "    }\n",
              "\n",
              "    .colab-df-convert:hover {\n",
              "      background-color: #E2EBFA;\n",
              "      box-shadow: 0px 1px 2px rgba(60, 64, 67, 0.3), 0px 1px 3px 1px rgba(60, 64, 67, 0.15);\n",
              "      fill: #174EA6;\n",
              "    }\n",
              "\n",
              "    [theme=dark] .colab-df-convert {\n",
              "      background-color: #3B4455;\n",
              "      fill: #D2E3FC;\n",
              "    }\n",
              "\n",
              "    [theme=dark] .colab-df-convert:hover {\n",
              "      background-color: #434B5C;\n",
              "      box-shadow: 0px 1px 3px 1px rgba(0, 0, 0, 0.15);\n",
              "      filter: drop-shadow(0px 1px 2px rgba(0, 0, 0, 0.3));\n",
              "      fill: #FFFFFF;\n",
              "    }\n",
              "  </style>\n",
              "\n",
              "      <script>\n",
              "        const buttonEl =\n",
              "          document.querySelector('#df-5e5f4136-cbcf-4552-9559-25ef7d79b7b8 button.colab-df-convert');\n",
              "        buttonEl.style.display =\n",
              "          google.colab.kernel.accessAllowed ? 'block' : 'none';\n",
              "\n",
              "        async function convertToInteractive(key) {\n",
              "          const element = document.querySelector('#df-5e5f4136-cbcf-4552-9559-25ef7d79b7b8');\n",
              "          const dataTable =\n",
              "            await google.colab.kernel.invokeFunction('convertToInteractive',\n",
              "                                                     [key], {});\n",
              "          if (!dataTable) return;\n",
              "\n",
              "          const docLinkHtml = 'Like what you see? Visit the ' +\n",
              "            '<a target=\"_blank\" href=https://colab.research.google.com/notebooks/data_table.ipynb>data table notebook</a>'\n",
              "            + ' to learn more about interactive tables.';\n",
              "          element.innerHTML = '';\n",
              "          dataTable['output_type'] = 'display_data';\n",
              "          await google.colab.output.renderOutput(dataTable, element);\n",
              "          const docLink = document.createElement('div');\n",
              "          docLink.innerHTML = docLinkHtml;\n",
              "          element.appendChild(docLink);\n",
              "        }\n",
              "      </script>\n",
              "    </div>\n",
              "  </div>\n",
              "  "
            ]
          },
          "metadata": {},
          "execution_count": 24
        }
      ]
    },
    {
      "cell_type": "code",
      "source": [
        "# importing pandas as pd\n",
        "import pandas as pd\n",
        " \n",
        "# importing numpy as np\n",
        "import numpy as np\n",
        " \n",
        "# dictionary of lists\n",
        "dict = {'First Score':[100, 90, np.nan, 95],\n",
        "        'Second Score': [30, 45, 56, np.nan],\n",
        "        'Third Score':[np.nan, 40, 80, 98]}\n",
        " \n",
        "# creating a dataframe from dictionary\n",
        "df = pd.DataFrame(dict)\n",
        " \n",
        "# filling a missing value with\n",
        "# previous ones \n",
        "df.fillna(method ='pad') #เติมช่องว่างด้วยอันที่มาก่อน / อันบน "
      ],
      "metadata": {
        "id": "8rpheWlg58et",
        "outputId": "02fefed5-2cd1-4845-de11-cbf57d6e9daa",
        "colab": {
          "base_uri": "https://localhost:8080/",
          "height": 175
        }
      },
      "execution_count": null,
      "outputs": [
        {
          "output_type": "execute_result",
          "data": {
            "text/plain": [
              "   First Score  Second Score  Third Score\n",
              "0        100.0          30.0          NaN\n",
              "1         90.0          45.0         40.0\n",
              "2         90.0          56.0         80.0\n",
              "3         95.0          56.0         98.0"
            ],
            "text/html": [
              "\n",
              "  <div id=\"df-fe3e5867-a17c-4e11-b034-e8485ff33eed\">\n",
              "    <div class=\"colab-df-container\">\n",
              "      <div>\n",
              "<style scoped>\n",
              "    .dataframe tbody tr th:only-of-type {\n",
              "        vertical-align: middle;\n",
              "    }\n",
              "\n",
              "    .dataframe tbody tr th {\n",
              "        vertical-align: top;\n",
              "    }\n",
              "\n",
              "    .dataframe thead th {\n",
              "        text-align: right;\n",
              "    }\n",
              "</style>\n",
              "<table border=\"1\" class=\"dataframe\">\n",
              "  <thead>\n",
              "    <tr style=\"text-align: right;\">\n",
              "      <th></th>\n",
              "      <th>First Score</th>\n",
              "      <th>Second Score</th>\n",
              "      <th>Third Score</th>\n",
              "    </tr>\n",
              "  </thead>\n",
              "  <tbody>\n",
              "    <tr>\n",
              "      <th>0</th>\n",
              "      <td>100.0</td>\n",
              "      <td>30.0</td>\n",
              "      <td>NaN</td>\n",
              "    </tr>\n",
              "    <tr>\n",
              "      <th>1</th>\n",
              "      <td>90.0</td>\n",
              "      <td>45.0</td>\n",
              "      <td>40.0</td>\n",
              "    </tr>\n",
              "    <tr>\n",
              "      <th>2</th>\n",
              "      <td>90.0</td>\n",
              "      <td>56.0</td>\n",
              "      <td>80.0</td>\n",
              "    </tr>\n",
              "    <tr>\n",
              "      <th>3</th>\n",
              "      <td>95.0</td>\n",
              "      <td>56.0</td>\n",
              "      <td>98.0</td>\n",
              "    </tr>\n",
              "  </tbody>\n",
              "</table>\n",
              "</div>\n",
              "      <button class=\"colab-df-convert\" onclick=\"convertToInteractive('df-fe3e5867-a17c-4e11-b034-e8485ff33eed')\"\n",
              "              title=\"Convert this dataframe to an interactive table.\"\n",
              "              style=\"display:none;\">\n",
              "        \n",
              "  <svg xmlns=\"http://www.w3.org/2000/svg\" height=\"24px\"viewBox=\"0 0 24 24\"\n",
              "       width=\"24px\">\n",
              "    <path d=\"M0 0h24v24H0V0z\" fill=\"none\"/>\n",
              "    <path d=\"M18.56 5.44l.94 2.06.94-2.06 2.06-.94-2.06-.94-.94-2.06-.94 2.06-2.06.94zm-11 1L8.5 8.5l.94-2.06 2.06-.94-2.06-.94L8.5 2.5l-.94 2.06-2.06.94zm10 10l.94 2.06.94-2.06 2.06-.94-2.06-.94-.94-2.06-.94 2.06-2.06.94z\"/><path d=\"M17.41 7.96l-1.37-1.37c-.4-.4-.92-.59-1.43-.59-.52 0-1.04.2-1.43.59L10.3 9.45l-7.72 7.72c-.78.78-.78 2.05 0 2.83L4 21.41c.39.39.9.59 1.41.59.51 0 1.02-.2 1.41-.59l7.78-7.78 2.81-2.81c.8-.78.8-2.07 0-2.86zM5.41 20L4 18.59l7.72-7.72 1.47 1.35L5.41 20z\"/>\n",
              "  </svg>\n",
              "      </button>\n",
              "      \n",
              "  <style>\n",
              "    .colab-df-container {\n",
              "      display:flex;\n",
              "      flex-wrap:wrap;\n",
              "      gap: 12px;\n",
              "    }\n",
              "\n",
              "    .colab-df-convert {\n",
              "      background-color: #E8F0FE;\n",
              "      border: none;\n",
              "      border-radius: 50%;\n",
              "      cursor: pointer;\n",
              "      display: none;\n",
              "      fill: #1967D2;\n",
              "      height: 32px;\n",
              "      padding: 0 0 0 0;\n",
              "      width: 32px;\n",
              "    }\n",
              "\n",
              "    .colab-df-convert:hover {\n",
              "      background-color: #E2EBFA;\n",
              "      box-shadow: 0px 1px 2px rgba(60, 64, 67, 0.3), 0px 1px 3px 1px rgba(60, 64, 67, 0.15);\n",
              "      fill: #174EA6;\n",
              "    }\n",
              "\n",
              "    [theme=dark] .colab-df-convert {\n",
              "      background-color: #3B4455;\n",
              "      fill: #D2E3FC;\n",
              "    }\n",
              "\n",
              "    [theme=dark] .colab-df-convert:hover {\n",
              "      background-color: #434B5C;\n",
              "      box-shadow: 0px 1px 3px 1px rgba(0, 0, 0, 0.15);\n",
              "      filter: drop-shadow(0px 1px 2px rgba(0, 0, 0, 0.3));\n",
              "      fill: #FFFFFF;\n",
              "    }\n",
              "  </style>\n",
              "\n",
              "      <script>\n",
              "        const buttonEl =\n",
              "          document.querySelector('#df-fe3e5867-a17c-4e11-b034-e8485ff33eed button.colab-df-convert');\n",
              "        buttonEl.style.display =\n",
              "          google.colab.kernel.accessAllowed ? 'block' : 'none';\n",
              "\n",
              "        async function convertToInteractive(key) {\n",
              "          const element = document.querySelector('#df-fe3e5867-a17c-4e11-b034-e8485ff33eed');\n",
              "          const dataTable =\n",
              "            await google.colab.kernel.invokeFunction('convertToInteractive',\n",
              "                                                     [key], {});\n",
              "          if (!dataTable) return;\n",
              "\n",
              "          const docLinkHtml = 'Like what you see? Visit the ' +\n",
              "            '<a target=\"_blank\" href=https://colab.research.google.com/notebooks/data_table.ipynb>data table notebook</a>'\n",
              "            + ' to learn more about interactive tables.';\n",
              "          element.innerHTML = '';\n",
              "          dataTable['output_type'] = 'display_data';\n",
              "          await google.colab.output.renderOutput(dataTable, element);\n",
              "          const docLink = document.createElement('div');\n",
              "          docLink.innerHTML = docLinkHtml;\n",
              "          element.appendChild(docLink);\n",
              "        }\n",
              "      </script>\n",
              "    </div>\n",
              "  </div>\n",
              "  "
            ]
          },
          "metadata": {},
          "execution_count": 25
        }
      ]
    },
    {
      "cell_type": "code",
      "source": [
        "# importing pandas as pd\n",
        "import pandas as pd\n",
        " \n",
        "# importing numpy as np\n",
        "import numpy as np\n",
        " \n",
        "# dictionary of lists\n",
        "dict = {'First Score':[100, 90, np.nan, 95],\n",
        "        'Second Score': [30, 45, 56, np.nan],\n",
        "        'Third Score':[np.nan, 40, 80, 98]}\n",
        " \n",
        "# creating a dataframe from dictionary\n",
        "df = pd.DataFrame(dict)\n",
        " \n",
        "# filling  null value using fillna() function \n",
        "df.fillna(method ='bfill') #เติมด้วยอันหลัง / อันล่าง "
      ],
      "metadata": {
        "id": "OJl8XKGm6SGl",
        "outputId": "083a90d3-a605-4507-a18d-8822bea88cf4",
        "colab": {
          "base_uri": "https://localhost:8080/",
          "height": 175
        }
      },
      "execution_count": null,
      "outputs": [
        {
          "output_type": "execute_result",
          "data": {
            "text/plain": [
              "   First Score  Second Score  Third Score\n",
              "0        100.0          30.0         40.0\n",
              "1         90.0          45.0         40.0\n",
              "2         95.0          56.0         80.0\n",
              "3         95.0           NaN         98.0"
            ],
            "text/html": [
              "\n",
              "  <div id=\"df-5b4538b0-3649-4c30-8862-8ca49b6df867\">\n",
              "    <div class=\"colab-df-container\">\n",
              "      <div>\n",
              "<style scoped>\n",
              "    .dataframe tbody tr th:only-of-type {\n",
              "        vertical-align: middle;\n",
              "    }\n",
              "\n",
              "    .dataframe tbody tr th {\n",
              "        vertical-align: top;\n",
              "    }\n",
              "\n",
              "    .dataframe thead th {\n",
              "        text-align: right;\n",
              "    }\n",
              "</style>\n",
              "<table border=\"1\" class=\"dataframe\">\n",
              "  <thead>\n",
              "    <tr style=\"text-align: right;\">\n",
              "      <th></th>\n",
              "      <th>First Score</th>\n",
              "      <th>Second Score</th>\n",
              "      <th>Third Score</th>\n",
              "    </tr>\n",
              "  </thead>\n",
              "  <tbody>\n",
              "    <tr>\n",
              "      <th>0</th>\n",
              "      <td>100.0</td>\n",
              "      <td>30.0</td>\n",
              "      <td>40.0</td>\n",
              "    </tr>\n",
              "    <tr>\n",
              "      <th>1</th>\n",
              "      <td>90.0</td>\n",
              "      <td>45.0</td>\n",
              "      <td>40.0</td>\n",
              "    </tr>\n",
              "    <tr>\n",
              "      <th>2</th>\n",
              "      <td>95.0</td>\n",
              "      <td>56.0</td>\n",
              "      <td>80.0</td>\n",
              "    </tr>\n",
              "    <tr>\n",
              "      <th>3</th>\n",
              "      <td>95.0</td>\n",
              "      <td>NaN</td>\n",
              "      <td>98.0</td>\n",
              "    </tr>\n",
              "  </tbody>\n",
              "</table>\n",
              "</div>\n",
              "      <button class=\"colab-df-convert\" onclick=\"convertToInteractive('df-5b4538b0-3649-4c30-8862-8ca49b6df867')\"\n",
              "              title=\"Convert this dataframe to an interactive table.\"\n",
              "              style=\"display:none;\">\n",
              "        \n",
              "  <svg xmlns=\"http://www.w3.org/2000/svg\" height=\"24px\"viewBox=\"0 0 24 24\"\n",
              "       width=\"24px\">\n",
              "    <path d=\"M0 0h24v24H0V0z\" fill=\"none\"/>\n",
              "    <path d=\"M18.56 5.44l.94 2.06.94-2.06 2.06-.94-2.06-.94-.94-2.06-.94 2.06-2.06.94zm-11 1L8.5 8.5l.94-2.06 2.06-.94-2.06-.94L8.5 2.5l-.94 2.06-2.06.94zm10 10l.94 2.06.94-2.06 2.06-.94-2.06-.94-.94-2.06-.94 2.06-2.06.94z\"/><path d=\"M17.41 7.96l-1.37-1.37c-.4-.4-.92-.59-1.43-.59-.52 0-1.04.2-1.43.59L10.3 9.45l-7.72 7.72c-.78.78-.78 2.05 0 2.83L4 21.41c.39.39.9.59 1.41.59.51 0 1.02-.2 1.41-.59l7.78-7.78 2.81-2.81c.8-.78.8-2.07 0-2.86zM5.41 20L4 18.59l7.72-7.72 1.47 1.35L5.41 20z\"/>\n",
              "  </svg>\n",
              "      </button>\n",
              "      \n",
              "  <style>\n",
              "    .colab-df-container {\n",
              "      display:flex;\n",
              "      flex-wrap:wrap;\n",
              "      gap: 12px;\n",
              "    }\n",
              "\n",
              "    .colab-df-convert {\n",
              "      background-color: #E8F0FE;\n",
              "      border: none;\n",
              "      border-radius: 50%;\n",
              "      cursor: pointer;\n",
              "      display: none;\n",
              "      fill: #1967D2;\n",
              "      height: 32px;\n",
              "      padding: 0 0 0 0;\n",
              "      width: 32px;\n",
              "    }\n",
              "\n",
              "    .colab-df-convert:hover {\n",
              "      background-color: #E2EBFA;\n",
              "      box-shadow: 0px 1px 2px rgba(60, 64, 67, 0.3), 0px 1px 3px 1px rgba(60, 64, 67, 0.15);\n",
              "      fill: #174EA6;\n",
              "    }\n",
              "\n",
              "    [theme=dark] .colab-df-convert {\n",
              "      background-color: #3B4455;\n",
              "      fill: #D2E3FC;\n",
              "    }\n",
              "\n",
              "    [theme=dark] .colab-df-convert:hover {\n",
              "      background-color: #434B5C;\n",
              "      box-shadow: 0px 1px 3px 1px rgba(0, 0, 0, 0.15);\n",
              "      filter: drop-shadow(0px 1px 2px rgba(0, 0, 0, 0.3));\n",
              "      fill: #FFFFFF;\n",
              "    }\n",
              "  </style>\n",
              "\n",
              "      <script>\n",
              "        const buttonEl =\n",
              "          document.querySelector('#df-5b4538b0-3649-4c30-8862-8ca49b6df867 button.colab-df-convert');\n",
              "        buttonEl.style.display =\n",
              "          google.colab.kernel.accessAllowed ? 'block' : 'none';\n",
              "\n",
              "        async function convertToInteractive(key) {\n",
              "          const element = document.querySelector('#df-5b4538b0-3649-4c30-8862-8ca49b6df867');\n",
              "          const dataTable =\n",
              "            await google.colab.kernel.invokeFunction('convertToInteractive',\n",
              "                                                     [key], {});\n",
              "          if (!dataTable) return;\n",
              "\n",
              "          const docLinkHtml = 'Like what you see? Visit the ' +\n",
              "            '<a target=\"_blank\" href=https://colab.research.google.com/notebooks/data_table.ipynb>data table notebook</a>'\n",
              "            + ' to learn more about interactive tables.';\n",
              "          element.innerHTML = '';\n",
              "          dataTable['output_type'] = 'display_data';\n",
              "          await google.colab.output.renderOutput(dataTable, element);\n",
              "          const docLink = document.createElement('div');\n",
              "          docLink.innerHTML = docLinkHtml;\n",
              "          element.appendChild(docLink);\n",
              "        }\n",
              "      </script>\n",
              "    </div>\n",
              "  </div>\n",
              "  "
            ]
          },
          "metadata": {},
          "execution_count": 26
        }
      ]
    },
    {
      "cell_type": "code",
      "source": [
        "# will replace  Nan value in dataframe with value -99 \n",
        "# > data.replace(to_replace = np.nan, value = -99)\n",
        "#แทนที่ข้อมูลที่เป็น missing ด้วย -99"
      ],
      "metadata": {
        "id": "hJTS_Ibe6cgL"
      },
      "execution_count": null,
      "outputs": []
    },
    {
      "cell_type": "markdown",
      "source": [
        "Dropping missing values using dropna()\n",
        "ตัดค่า missing ออก ด้วยโค้ด dropna()"
      ],
      "metadata": {
        "id": "cJdoIsOZ77FH"
      }
    },
    {
      "cell_type": "code",
      "source": [
        "# importing pandas as pd\n",
        "import pandas as pd\n",
        " \n",
        "# importing numpy as np\n",
        "import numpy as np\n",
        " \n",
        "# dictionary of lists\n",
        "dict = {'First Score':[100, 90, np.nan, 95],\n",
        "        'Second Score': [30, np.nan, 45, 56],\n",
        "        'Third Score':[52, 40, 80, 98],\n",
        "        'Fourth Score':[np.nan, np.nan, np.nan, 65]}\n",
        " \n",
        "# creating a dataframe from dictionary\n",
        "df = pd.DataFrame(dict)\n",
        "   \n",
        "df"
      ],
      "metadata": {
        "id": "UtWfeG9Y7PxH",
        "outputId": "e1b3deb3-9faa-4b37-e42c-997c23edead7",
        "colab": {
          "base_uri": "https://localhost:8080/",
          "height": 175
        }
      },
      "execution_count": null,
      "outputs": [
        {
          "output_type": "execute_result",
          "data": {
            "text/plain": [
              "   First Score  Second Score  Third Score  Fourth Score\n",
              "0        100.0          30.0           52           NaN\n",
              "1         90.0           NaN           40           NaN\n",
              "2          NaN          45.0           80           NaN\n",
              "3         95.0          56.0           98          65.0"
            ],
            "text/html": [
              "\n",
              "  <div id=\"df-a4d653f6-bf50-46b1-aa3e-d6827c32c043\">\n",
              "    <div class=\"colab-df-container\">\n",
              "      <div>\n",
              "<style scoped>\n",
              "    .dataframe tbody tr th:only-of-type {\n",
              "        vertical-align: middle;\n",
              "    }\n",
              "\n",
              "    .dataframe tbody tr th {\n",
              "        vertical-align: top;\n",
              "    }\n",
              "\n",
              "    .dataframe thead th {\n",
              "        text-align: right;\n",
              "    }\n",
              "</style>\n",
              "<table border=\"1\" class=\"dataframe\">\n",
              "  <thead>\n",
              "    <tr style=\"text-align: right;\">\n",
              "      <th></th>\n",
              "      <th>First Score</th>\n",
              "      <th>Second Score</th>\n",
              "      <th>Third Score</th>\n",
              "      <th>Fourth Score</th>\n",
              "    </tr>\n",
              "  </thead>\n",
              "  <tbody>\n",
              "    <tr>\n",
              "      <th>0</th>\n",
              "      <td>100.0</td>\n",
              "      <td>30.0</td>\n",
              "      <td>52</td>\n",
              "      <td>NaN</td>\n",
              "    </tr>\n",
              "    <tr>\n",
              "      <th>1</th>\n",
              "      <td>90.0</td>\n",
              "      <td>NaN</td>\n",
              "      <td>40</td>\n",
              "      <td>NaN</td>\n",
              "    </tr>\n",
              "    <tr>\n",
              "      <th>2</th>\n",
              "      <td>NaN</td>\n",
              "      <td>45.0</td>\n",
              "      <td>80</td>\n",
              "      <td>NaN</td>\n",
              "    </tr>\n",
              "    <tr>\n",
              "      <th>3</th>\n",
              "      <td>95.0</td>\n",
              "      <td>56.0</td>\n",
              "      <td>98</td>\n",
              "      <td>65.0</td>\n",
              "    </tr>\n",
              "  </tbody>\n",
              "</table>\n",
              "</div>\n",
              "      <button class=\"colab-df-convert\" onclick=\"convertToInteractive('df-a4d653f6-bf50-46b1-aa3e-d6827c32c043')\"\n",
              "              title=\"Convert this dataframe to an interactive table.\"\n",
              "              style=\"display:none;\">\n",
              "        \n",
              "  <svg xmlns=\"http://www.w3.org/2000/svg\" height=\"24px\"viewBox=\"0 0 24 24\"\n",
              "       width=\"24px\">\n",
              "    <path d=\"M0 0h24v24H0V0z\" fill=\"none\"/>\n",
              "    <path d=\"M18.56 5.44l.94 2.06.94-2.06 2.06-.94-2.06-.94-.94-2.06-.94 2.06-2.06.94zm-11 1L8.5 8.5l.94-2.06 2.06-.94-2.06-.94L8.5 2.5l-.94 2.06-2.06.94zm10 10l.94 2.06.94-2.06 2.06-.94-2.06-.94-.94-2.06-.94 2.06-2.06.94z\"/><path d=\"M17.41 7.96l-1.37-1.37c-.4-.4-.92-.59-1.43-.59-.52 0-1.04.2-1.43.59L10.3 9.45l-7.72 7.72c-.78.78-.78 2.05 0 2.83L4 21.41c.39.39.9.59 1.41.59.51 0 1.02-.2 1.41-.59l7.78-7.78 2.81-2.81c.8-.78.8-2.07 0-2.86zM5.41 20L4 18.59l7.72-7.72 1.47 1.35L5.41 20z\"/>\n",
              "  </svg>\n",
              "      </button>\n",
              "      \n",
              "  <style>\n",
              "    .colab-df-container {\n",
              "      display:flex;\n",
              "      flex-wrap:wrap;\n",
              "      gap: 12px;\n",
              "    }\n",
              "\n",
              "    .colab-df-convert {\n",
              "      background-color: #E8F0FE;\n",
              "      border: none;\n",
              "      border-radius: 50%;\n",
              "      cursor: pointer;\n",
              "      display: none;\n",
              "      fill: #1967D2;\n",
              "      height: 32px;\n",
              "      padding: 0 0 0 0;\n",
              "      width: 32px;\n",
              "    }\n",
              "\n",
              "    .colab-df-convert:hover {\n",
              "      background-color: #E2EBFA;\n",
              "      box-shadow: 0px 1px 2px rgba(60, 64, 67, 0.3), 0px 1px 3px 1px rgba(60, 64, 67, 0.15);\n",
              "      fill: #174EA6;\n",
              "    }\n",
              "\n",
              "    [theme=dark] .colab-df-convert {\n",
              "      background-color: #3B4455;\n",
              "      fill: #D2E3FC;\n",
              "    }\n",
              "\n",
              "    [theme=dark] .colab-df-convert:hover {\n",
              "      background-color: #434B5C;\n",
              "      box-shadow: 0px 1px 3px 1px rgba(0, 0, 0, 0.15);\n",
              "      filter: drop-shadow(0px 1px 2px rgba(0, 0, 0, 0.3));\n",
              "      fill: #FFFFFF;\n",
              "    }\n",
              "  </style>\n",
              "\n",
              "      <script>\n",
              "        const buttonEl =\n",
              "          document.querySelector('#df-a4d653f6-bf50-46b1-aa3e-d6827c32c043 button.colab-df-convert');\n",
              "        buttonEl.style.display =\n",
              "          google.colab.kernel.accessAllowed ? 'block' : 'none';\n",
              "\n",
              "        async function convertToInteractive(key) {\n",
              "          const element = document.querySelector('#df-a4d653f6-bf50-46b1-aa3e-d6827c32c043');\n",
              "          const dataTable =\n",
              "            await google.colab.kernel.invokeFunction('convertToInteractive',\n",
              "                                                     [key], {});\n",
              "          if (!dataTable) return;\n",
              "\n",
              "          const docLinkHtml = 'Like what you see? Visit the ' +\n",
              "            '<a target=\"_blank\" href=https://colab.research.google.com/notebooks/data_table.ipynb>data table notebook</a>'\n",
              "            + ' to learn more about interactive tables.';\n",
              "          element.innerHTML = '';\n",
              "          dataTable['output_type'] = 'display_data';\n",
              "          await google.colab.output.renderOutput(dataTable, element);\n",
              "          const docLink = document.createElement('div');\n",
              "          docLink.innerHTML = docLinkHtml;\n",
              "          element.appendChild(docLink);\n",
              "        }\n",
              "      </script>\n",
              "    </div>\n",
              "  </div>\n",
              "  "
            ]
          },
          "metadata": {},
          "execution_count": 33
        }
      ]
    },
    {
      "cell_type": "code",
      "source": [
        "df.dropna(how = 'all') #ตัดเฉพาะแถวที่มี missing  ออกทั้งหมด \n",
        "#เช่น ข้อมูลของนักศึกษาที่ลาออกแล้วเลยไม่มีข้อมูลอยู่ในระบบไม่ว่าจะเป็นเรื่องอะไร"
      ],
      "metadata": {
        "id": "_Q3uqzI88GBh",
        "outputId": "a73a7580-ca39-422b-df6f-48b1f5258990",
        "colab": {
          "base_uri": "https://localhost:8080/",
          "height": 175
        }
      },
      "execution_count": null,
      "outputs": [
        {
          "output_type": "execute_result",
          "data": {
            "text/plain": [
              "   First Score  Second Score  Third Score  Fourth Score\n",
              "0        100.0          30.0           52           NaN\n",
              "1         90.0           NaN           40           NaN\n",
              "2          NaN          45.0           80           NaN\n",
              "3         95.0          56.0           98          65.0"
            ],
            "text/html": [
              "\n",
              "  <div id=\"df-557ead32-14bf-4c23-946c-1b65fb6a163c\">\n",
              "    <div class=\"colab-df-container\">\n",
              "      <div>\n",
              "<style scoped>\n",
              "    .dataframe tbody tr th:only-of-type {\n",
              "        vertical-align: middle;\n",
              "    }\n",
              "\n",
              "    .dataframe tbody tr th {\n",
              "        vertical-align: top;\n",
              "    }\n",
              "\n",
              "    .dataframe thead th {\n",
              "        text-align: right;\n",
              "    }\n",
              "</style>\n",
              "<table border=\"1\" class=\"dataframe\">\n",
              "  <thead>\n",
              "    <tr style=\"text-align: right;\">\n",
              "      <th></th>\n",
              "      <th>First Score</th>\n",
              "      <th>Second Score</th>\n",
              "      <th>Third Score</th>\n",
              "      <th>Fourth Score</th>\n",
              "    </tr>\n",
              "  </thead>\n",
              "  <tbody>\n",
              "    <tr>\n",
              "      <th>0</th>\n",
              "      <td>100.0</td>\n",
              "      <td>30.0</td>\n",
              "      <td>52</td>\n",
              "      <td>NaN</td>\n",
              "    </tr>\n",
              "    <tr>\n",
              "      <th>1</th>\n",
              "      <td>90.0</td>\n",
              "      <td>NaN</td>\n",
              "      <td>40</td>\n",
              "      <td>NaN</td>\n",
              "    </tr>\n",
              "    <tr>\n",
              "      <th>2</th>\n",
              "      <td>NaN</td>\n",
              "      <td>45.0</td>\n",
              "      <td>80</td>\n",
              "      <td>NaN</td>\n",
              "    </tr>\n",
              "    <tr>\n",
              "      <th>3</th>\n",
              "      <td>95.0</td>\n",
              "      <td>56.0</td>\n",
              "      <td>98</td>\n",
              "      <td>65.0</td>\n",
              "    </tr>\n",
              "  </tbody>\n",
              "</table>\n",
              "</div>\n",
              "      <button class=\"colab-df-convert\" onclick=\"convertToInteractive('df-557ead32-14bf-4c23-946c-1b65fb6a163c')\"\n",
              "              title=\"Convert this dataframe to an interactive table.\"\n",
              "              style=\"display:none;\">\n",
              "        \n",
              "  <svg xmlns=\"http://www.w3.org/2000/svg\" height=\"24px\"viewBox=\"0 0 24 24\"\n",
              "       width=\"24px\">\n",
              "    <path d=\"M0 0h24v24H0V0z\" fill=\"none\"/>\n",
              "    <path d=\"M18.56 5.44l.94 2.06.94-2.06 2.06-.94-2.06-.94-.94-2.06-.94 2.06-2.06.94zm-11 1L8.5 8.5l.94-2.06 2.06-.94-2.06-.94L8.5 2.5l-.94 2.06-2.06.94zm10 10l.94 2.06.94-2.06 2.06-.94-2.06-.94-.94-2.06-.94 2.06-2.06.94z\"/><path d=\"M17.41 7.96l-1.37-1.37c-.4-.4-.92-.59-1.43-.59-.52 0-1.04.2-1.43.59L10.3 9.45l-7.72 7.72c-.78.78-.78 2.05 0 2.83L4 21.41c.39.39.9.59 1.41.59.51 0 1.02-.2 1.41-.59l7.78-7.78 2.81-2.81c.8-.78.8-2.07 0-2.86zM5.41 20L4 18.59l7.72-7.72 1.47 1.35L5.41 20z\"/>\n",
              "  </svg>\n",
              "      </button>\n",
              "      \n",
              "  <style>\n",
              "    .colab-df-container {\n",
              "      display:flex;\n",
              "      flex-wrap:wrap;\n",
              "      gap: 12px;\n",
              "    }\n",
              "\n",
              "    .colab-df-convert {\n",
              "      background-color: #E8F0FE;\n",
              "      border: none;\n",
              "      border-radius: 50%;\n",
              "      cursor: pointer;\n",
              "      display: none;\n",
              "      fill: #1967D2;\n",
              "      height: 32px;\n",
              "      padding: 0 0 0 0;\n",
              "      width: 32px;\n",
              "    }\n",
              "\n",
              "    .colab-df-convert:hover {\n",
              "      background-color: #E2EBFA;\n",
              "      box-shadow: 0px 1px 2px rgba(60, 64, 67, 0.3), 0px 1px 3px 1px rgba(60, 64, 67, 0.15);\n",
              "      fill: #174EA6;\n",
              "    }\n",
              "\n",
              "    [theme=dark] .colab-df-convert {\n",
              "      background-color: #3B4455;\n",
              "      fill: #D2E3FC;\n",
              "    }\n",
              "\n",
              "    [theme=dark] .colab-df-convert:hover {\n",
              "      background-color: #434B5C;\n",
              "      box-shadow: 0px 1px 3px 1px rgba(0, 0, 0, 0.15);\n",
              "      filter: drop-shadow(0px 1px 2px rgba(0, 0, 0, 0.3));\n",
              "      fill: #FFFFFF;\n",
              "    }\n",
              "  </style>\n",
              "\n",
              "      <script>\n",
              "        const buttonEl =\n",
              "          document.querySelector('#df-557ead32-14bf-4c23-946c-1b65fb6a163c button.colab-df-convert');\n",
              "        buttonEl.style.display =\n",
              "          google.colab.kernel.accessAllowed ? 'block' : 'none';\n",
              "\n",
              "        async function convertToInteractive(key) {\n",
              "          const element = document.querySelector('#df-557ead32-14bf-4c23-946c-1b65fb6a163c');\n",
              "          const dataTable =\n",
              "            await google.colab.kernel.invokeFunction('convertToInteractive',\n",
              "                                                     [key], {});\n",
              "          if (!dataTable) return;\n",
              "\n",
              "          const docLinkHtml = 'Like what you see? Visit the ' +\n",
              "            '<a target=\"_blank\" href=https://colab.research.google.com/notebooks/data_table.ipynb>data table notebook</a>'\n",
              "            + ' to learn more about interactive tables.';\n",
              "          element.innerHTML = '';\n",
              "          dataTable['output_type'] = 'display_data';\n",
              "          await google.colab.output.renderOutput(dataTable, element);\n",
              "          const docLink = document.createElement('div');\n",
              "          docLink.innerHTML = docLinkHtml;\n",
              "          element.appendChild(docLink);\n",
              "        }\n",
              "      </script>\n",
              "    </div>\n",
              "  </div>\n",
              "  "
            ]
          },
          "metadata": {},
          "execution_count": 41
        }
      ]
    },
    {
      "cell_type": "code",
      "source": [
        "## การเอาแถวออกถ้ามี missing มากกว่า1 df.dropna(axis = 0)\n",
        "df.dropna()\n",
        "#ค่าที่เป็นmissingแม้แต่ตัวเดียวก็จะถูกตัด ในแต่ละแถว"
      ],
      "metadata": {
        "id": "tf7QLOWZ8Cd4",
        "outputId": "116d4958-adbe-43c4-d367-51248d1b977b",
        "colab": {
          "base_uri": "https://localhost:8080/",
          "height": 81
        }
      },
      "execution_count": null,
      "outputs": [
        {
          "output_type": "execute_result",
          "data": {
            "text/plain": [
              "   First Score  Second Score  Third Score  Fourth Score\n",
              "3         95.0          56.0           98          65.0"
            ],
            "text/html": [
              "\n",
              "  <div id=\"df-f00fce53-7b59-4938-aecc-d02b082e9832\">\n",
              "    <div class=\"colab-df-container\">\n",
              "      <div>\n",
              "<style scoped>\n",
              "    .dataframe tbody tr th:only-of-type {\n",
              "        vertical-align: middle;\n",
              "    }\n",
              "\n",
              "    .dataframe tbody tr th {\n",
              "        vertical-align: top;\n",
              "    }\n",
              "\n",
              "    .dataframe thead th {\n",
              "        text-align: right;\n",
              "    }\n",
              "</style>\n",
              "<table border=\"1\" class=\"dataframe\">\n",
              "  <thead>\n",
              "    <tr style=\"text-align: right;\">\n",
              "      <th></th>\n",
              "      <th>First Score</th>\n",
              "      <th>Second Score</th>\n",
              "      <th>Third Score</th>\n",
              "      <th>Fourth Score</th>\n",
              "    </tr>\n",
              "  </thead>\n",
              "  <tbody>\n",
              "    <tr>\n",
              "      <th>3</th>\n",
              "      <td>95.0</td>\n",
              "      <td>56.0</td>\n",
              "      <td>98</td>\n",
              "      <td>65.0</td>\n",
              "    </tr>\n",
              "  </tbody>\n",
              "</table>\n",
              "</div>\n",
              "      <button class=\"colab-df-convert\" onclick=\"convertToInteractive('df-f00fce53-7b59-4938-aecc-d02b082e9832')\"\n",
              "              title=\"Convert this dataframe to an interactive table.\"\n",
              "              style=\"display:none;\">\n",
              "        \n",
              "  <svg xmlns=\"http://www.w3.org/2000/svg\" height=\"24px\"viewBox=\"0 0 24 24\"\n",
              "       width=\"24px\">\n",
              "    <path d=\"M0 0h24v24H0V0z\" fill=\"none\"/>\n",
              "    <path d=\"M18.56 5.44l.94 2.06.94-2.06 2.06-.94-2.06-.94-.94-2.06-.94 2.06-2.06.94zm-11 1L8.5 8.5l.94-2.06 2.06-.94-2.06-.94L8.5 2.5l-.94 2.06-2.06.94zm10 10l.94 2.06.94-2.06 2.06-.94-2.06-.94-.94-2.06-.94 2.06-2.06.94z\"/><path d=\"M17.41 7.96l-1.37-1.37c-.4-.4-.92-.59-1.43-.59-.52 0-1.04.2-1.43.59L10.3 9.45l-7.72 7.72c-.78.78-.78 2.05 0 2.83L4 21.41c.39.39.9.59 1.41.59.51 0 1.02-.2 1.41-.59l7.78-7.78 2.81-2.81c.8-.78.8-2.07 0-2.86zM5.41 20L4 18.59l7.72-7.72 1.47 1.35L5.41 20z\"/>\n",
              "  </svg>\n",
              "      </button>\n",
              "      \n",
              "  <style>\n",
              "    .colab-df-container {\n",
              "      display:flex;\n",
              "      flex-wrap:wrap;\n",
              "      gap: 12px;\n",
              "    }\n",
              "\n",
              "    .colab-df-convert {\n",
              "      background-color: #E8F0FE;\n",
              "      border: none;\n",
              "      border-radius: 50%;\n",
              "      cursor: pointer;\n",
              "      display: none;\n",
              "      fill: #1967D2;\n",
              "      height: 32px;\n",
              "      padding: 0 0 0 0;\n",
              "      width: 32px;\n",
              "    }\n",
              "\n",
              "    .colab-df-convert:hover {\n",
              "      background-color: #E2EBFA;\n",
              "      box-shadow: 0px 1px 2px rgba(60, 64, 67, 0.3), 0px 1px 3px 1px rgba(60, 64, 67, 0.15);\n",
              "      fill: #174EA6;\n",
              "    }\n",
              "\n",
              "    [theme=dark] .colab-df-convert {\n",
              "      background-color: #3B4455;\n",
              "      fill: #D2E3FC;\n",
              "    }\n",
              "\n",
              "    [theme=dark] .colab-df-convert:hover {\n",
              "      background-color: #434B5C;\n",
              "      box-shadow: 0px 1px 3px 1px rgba(0, 0, 0, 0.15);\n",
              "      filter: drop-shadow(0px 1px 2px rgba(0, 0, 0, 0.3));\n",
              "      fill: #FFFFFF;\n",
              "    }\n",
              "  </style>\n",
              "\n",
              "      <script>\n",
              "        const buttonEl =\n",
              "          document.querySelector('#df-f00fce53-7b59-4938-aecc-d02b082e9832 button.colab-df-convert');\n",
              "        buttonEl.style.display =\n",
              "          google.colab.kernel.accessAllowed ? 'block' : 'none';\n",
              "\n",
              "        async function convertToInteractive(key) {\n",
              "          const element = document.querySelector('#df-f00fce53-7b59-4938-aecc-d02b082e9832');\n",
              "          const dataTable =\n",
              "            await google.colab.kernel.invokeFunction('convertToInteractive',\n",
              "                                                     [key], {});\n",
              "          if (!dataTable) return;\n",
              "\n",
              "          const docLinkHtml = 'Like what you see? Visit the ' +\n",
              "            '<a target=\"_blank\" href=https://colab.research.google.com/notebooks/data_table.ipynb>data table notebook</a>'\n",
              "            + ' to learn more about interactive tables.';\n",
              "          element.innerHTML = '';\n",
              "          dataTable['output_type'] = 'display_data';\n",
              "          await google.colab.output.renderOutput(dataTable, element);\n",
              "          const docLink = document.createElement('div');\n",
              "          docLink.innerHTML = docLinkHtml;\n",
              "          element.appendChild(docLink);\n",
              "        }\n",
              "      </script>\n",
              "    </div>\n",
              "  </div>\n",
              "  "
            ]
          },
          "metadata": {},
          "execution_count": 36
        }
      ]
    },
    {
      "cell_type": "code",
      "source": [
        "# การเอาคอลลัมน์ออกถ้ามี missing มากกว่า1\n",
        "df.dropna(axis = 1)"
      ],
      "metadata": {
        "id": "6Uv6jhdj8nZ0",
        "outputId": "94034498-3dd5-463a-aedc-281ab7e54159",
        "colab": {
          "base_uri": "https://localhost:8080/",
          "height": 175
        }
      },
      "execution_count": null,
      "outputs": [
        {
          "output_type": "execute_result",
          "data": {
            "text/plain": [
              "   Third Score\n",
              "0           52\n",
              "1           40\n",
              "2           80\n",
              "3           98"
            ],
            "text/html": [
              "\n",
              "  <div id=\"df-9bf84967-77ca-4333-b6ae-0b8b3257603b\">\n",
              "    <div class=\"colab-df-container\">\n",
              "      <div>\n",
              "<style scoped>\n",
              "    .dataframe tbody tr th:only-of-type {\n",
              "        vertical-align: middle;\n",
              "    }\n",
              "\n",
              "    .dataframe tbody tr th {\n",
              "        vertical-align: top;\n",
              "    }\n",
              "\n",
              "    .dataframe thead th {\n",
              "        text-align: right;\n",
              "    }\n",
              "</style>\n",
              "<table border=\"1\" class=\"dataframe\">\n",
              "  <thead>\n",
              "    <tr style=\"text-align: right;\">\n",
              "      <th></th>\n",
              "      <th>Third Score</th>\n",
              "    </tr>\n",
              "  </thead>\n",
              "  <tbody>\n",
              "    <tr>\n",
              "      <th>0</th>\n",
              "      <td>52</td>\n",
              "    </tr>\n",
              "    <tr>\n",
              "      <th>1</th>\n",
              "      <td>40</td>\n",
              "    </tr>\n",
              "    <tr>\n",
              "      <th>2</th>\n",
              "      <td>80</td>\n",
              "    </tr>\n",
              "    <tr>\n",
              "      <th>3</th>\n",
              "      <td>98</td>\n",
              "    </tr>\n",
              "  </tbody>\n",
              "</table>\n",
              "</div>\n",
              "      <button class=\"colab-df-convert\" onclick=\"convertToInteractive('df-9bf84967-77ca-4333-b6ae-0b8b3257603b')\"\n",
              "              title=\"Convert this dataframe to an interactive table.\"\n",
              "              style=\"display:none;\">\n",
              "        \n",
              "  <svg xmlns=\"http://www.w3.org/2000/svg\" height=\"24px\"viewBox=\"0 0 24 24\"\n",
              "       width=\"24px\">\n",
              "    <path d=\"M0 0h24v24H0V0z\" fill=\"none\"/>\n",
              "    <path d=\"M18.56 5.44l.94 2.06.94-2.06 2.06-.94-2.06-.94-.94-2.06-.94 2.06-2.06.94zm-11 1L8.5 8.5l.94-2.06 2.06-.94-2.06-.94L8.5 2.5l-.94 2.06-2.06.94zm10 10l.94 2.06.94-2.06 2.06-.94-2.06-.94-.94-2.06-.94 2.06-2.06.94z\"/><path d=\"M17.41 7.96l-1.37-1.37c-.4-.4-.92-.59-1.43-.59-.52 0-1.04.2-1.43.59L10.3 9.45l-7.72 7.72c-.78.78-.78 2.05 0 2.83L4 21.41c.39.39.9.59 1.41.59.51 0 1.02-.2 1.41-.59l7.78-7.78 2.81-2.81c.8-.78.8-2.07 0-2.86zM5.41 20L4 18.59l7.72-7.72 1.47 1.35L5.41 20z\"/>\n",
              "  </svg>\n",
              "      </button>\n",
              "      \n",
              "  <style>\n",
              "    .colab-df-container {\n",
              "      display:flex;\n",
              "      flex-wrap:wrap;\n",
              "      gap: 12px;\n",
              "    }\n",
              "\n",
              "    .colab-df-convert {\n",
              "      background-color: #E8F0FE;\n",
              "      border: none;\n",
              "      border-radius: 50%;\n",
              "      cursor: pointer;\n",
              "      display: none;\n",
              "      fill: #1967D2;\n",
              "      height: 32px;\n",
              "      padding: 0 0 0 0;\n",
              "      width: 32px;\n",
              "    }\n",
              "\n",
              "    .colab-df-convert:hover {\n",
              "      background-color: #E2EBFA;\n",
              "      box-shadow: 0px 1px 2px rgba(60, 64, 67, 0.3), 0px 1px 3px 1px rgba(60, 64, 67, 0.15);\n",
              "      fill: #174EA6;\n",
              "    }\n",
              "\n",
              "    [theme=dark] .colab-df-convert {\n",
              "      background-color: #3B4455;\n",
              "      fill: #D2E3FC;\n",
              "    }\n",
              "\n",
              "    [theme=dark] .colab-df-convert:hover {\n",
              "      background-color: #434B5C;\n",
              "      box-shadow: 0px 1px 3px 1px rgba(0, 0, 0, 0.15);\n",
              "      filter: drop-shadow(0px 1px 2px rgba(0, 0, 0, 0.3));\n",
              "      fill: #FFFFFF;\n",
              "    }\n",
              "  </style>\n",
              "\n",
              "      <script>\n",
              "        const buttonEl =\n",
              "          document.querySelector('#df-9bf84967-77ca-4333-b6ae-0b8b3257603b button.colab-df-convert');\n",
              "        buttonEl.style.display =\n",
              "          google.colab.kernel.accessAllowed ? 'block' : 'none';\n",
              "\n",
              "        async function convertToInteractive(key) {\n",
              "          const element = document.querySelector('#df-9bf84967-77ca-4333-b6ae-0b8b3257603b');\n",
              "          const dataTable =\n",
              "            await google.colab.kernel.invokeFunction('convertToInteractive',\n",
              "                                                     [key], {});\n",
              "          if (!dataTable) return;\n",
              "\n",
              "          const docLinkHtml = 'Like what you see? Visit the ' +\n",
              "            '<a target=\"_blank\" href=https://colab.research.google.com/notebooks/data_table.ipynb>data table notebook</a>'\n",
              "            + ' to learn more about interactive tables.';\n",
              "          element.innerHTML = '';\n",
              "          dataTable['output_type'] = 'display_data';\n",
              "          await google.colab.output.renderOutput(dataTable, element);\n",
              "          const docLink = document.createElement('div');\n",
              "          docLink.innerHTML = docLinkHtml;\n",
              "          element.appendChild(docLink);\n",
              "        }\n",
              "      </script>\n",
              "    </div>\n",
              "  </div>\n",
              "  "
            ]
          },
          "metadata": {},
          "execution_count": 40
        }
      ]
    },
    {
      "cell_type": "code",
      "source": [
        "#การเอาแถวออก ถ้ามีค่า null ,มากว่า 1 ตัว\n",
        "#เอาแถวที่เหลือ thresh เท่ากับหรือมากกว่าเลขที่เรากรอกในthresh\n",
        "df.dropna(thresh=3)"
      ],
      "metadata": {
        "id": "dI6OLXx09EaD",
        "outputId": "957c9eba-463d-47cf-a841-99366b6be7ff",
        "colab": {
          "base_uri": "https://localhost:8080/",
          "height": 112
        }
      },
      "execution_count": null,
      "outputs": [
        {
          "output_type": "execute_result",
          "data": {
            "text/plain": [
              "   First Score  Second Score  Third Score  Fourth Score\n",
              "0        100.0          30.0           52           NaN\n",
              "3         95.0          56.0           98          65.0"
            ],
            "text/html": [
              "\n",
              "  <div id=\"df-67127bc2-f99d-447f-b859-babaa1ea6166\">\n",
              "    <div class=\"colab-df-container\">\n",
              "      <div>\n",
              "<style scoped>\n",
              "    .dataframe tbody tr th:only-of-type {\n",
              "        vertical-align: middle;\n",
              "    }\n",
              "\n",
              "    .dataframe tbody tr th {\n",
              "        vertical-align: top;\n",
              "    }\n",
              "\n",
              "    .dataframe thead th {\n",
              "        text-align: right;\n",
              "    }\n",
              "</style>\n",
              "<table border=\"1\" class=\"dataframe\">\n",
              "  <thead>\n",
              "    <tr style=\"text-align: right;\">\n",
              "      <th></th>\n",
              "      <th>First Score</th>\n",
              "      <th>Second Score</th>\n",
              "      <th>Third Score</th>\n",
              "      <th>Fourth Score</th>\n",
              "    </tr>\n",
              "  </thead>\n",
              "  <tbody>\n",
              "    <tr>\n",
              "      <th>0</th>\n",
              "      <td>100.0</td>\n",
              "      <td>30.0</td>\n",
              "      <td>52</td>\n",
              "      <td>NaN</td>\n",
              "    </tr>\n",
              "    <tr>\n",
              "      <th>3</th>\n",
              "      <td>95.0</td>\n",
              "      <td>56.0</td>\n",
              "      <td>98</td>\n",
              "      <td>65.0</td>\n",
              "    </tr>\n",
              "  </tbody>\n",
              "</table>\n",
              "</div>\n",
              "      <button class=\"colab-df-convert\" onclick=\"convertToInteractive('df-67127bc2-f99d-447f-b859-babaa1ea6166')\"\n",
              "              title=\"Convert this dataframe to an interactive table.\"\n",
              "              style=\"display:none;\">\n",
              "        \n",
              "  <svg xmlns=\"http://www.w3.org/2000/svg\" height=\"24px\"viewBox=\"0 0 24 24\"\n",
              "       width=\"24px\">\n",
              "    <path d=\"M0 0h24v24H0V0z\" fill=\"none\"/>\n",
              "    <path d=\"M18.56 5.44l.94 2.06.94-2.06 2.06-.94-2.06-.94-.94-2.06-.94 2.06-2.06.94zm-11 1L8.5 8.5l.94-2.06 2.06-.94-2.06-.94L8.5 2.5l-.94 2.06-2.06.94zm10 10l.94 2.06.94-2.06 2.06-.94-2.06-.94-.94-2.06-.94 2.06-2.06.94z\"/><path d=\"M17.41 7.96l-1.37-1.37c-.4-.4-.92-.59-1.43-.59-.52 0-1.04.2-1.43.59L10.3 9.45l-7.72 7.72c-.78.78-.78 2.05 0 2.83L4 21.41c.39.39.9.59 1.41.59.51 0 1.02-.2 1.41-.59l7.78-7.78 2.81-2.81c.8-.78.8-2.07 0-2.86zM5.41 20L4 18.59l7.72-7.72 1.47 1.35L5.41 20z\"/>\n",
              "  </svg>\n",
              "      </button>\n",
              "      \n",
              "  <style>\n",
              "    .colab-df-container {\n",
              "      display:flex;\n",
              "      flex-wrap:wrap;\n",
              "      gap: 12px;\n",
              "    }\n",
              "\n",
              "    .colab-df-convert {\n",
              "      background-color: #E8F0FE;\n",
              "      border: none;\n",
              "      border-radius: 50%;\n",
              "      cursor: pointer;\n",
              "      display: none;\n",
              "      fill: #1967D2;\n",
              "      height: 32px;\n",
              "      padding: 0 0 0 0;\n",
              "      width: 32px;\n",
              "    }\n",
              "\n",
              "    .colab-df-convert:hover {\n",
              "      background-color: #E2EBFA;\n",
              "      box-shadow: 0px 1px 2px rgba(60, 64, 67, 0.3), 0px 1px 3px 1px rgba(60, 64, 67, 0.15);\n",
              "      fill: #174EA6;\n",
              "    }\n",
              "\n",
              "    [theme=dark] .colab-df-convert {\n",
              "      background-color: #3B4455;\n",
              "      fill: #D2E3FC;\n",
              "    }\n",
              "\n",
              "    [theme=dark] .colab-df-convert:hover {\n",
              "      background-color: #434B5C;\n",
              "      box-shadow: 0px 1px 3px 1px rgba(0, 0, 0, 0.15);\n",
              "      filter: drop-shadow(0px 1px 2px rgba(0, 0, 0, 0.3));\n",
              "      fill: #FFFFFF;\n",
              "    }\n",
              "  </style>\n",
              "\n",
              "      <script>\n",
              "        const buttonEl =\n",
              "          document.querySelector('#df-67127bc2-f99d-447f-b859-babaa1ea6166 button.colab-df-convert');\n",
              "        buttonEl.style.display =\n",
              "          google.colab.kernel.accessAllowed ? 'block' : 'none';\n",
              "\n",
              "        async function convertToInteractive(key) {\n",
              "          const element = document.querySelector('#df-67127bc2-f99d-447f-b859-babaa1ea6166');\n",
              "          const dataTable =\n",
              "            await google.colab.kernel.invokeFunction('convertToInteractive',\n",
              "                                                     [key], {});\n",
              "          if (!dataTable) return;\n",
              "\n",
              "          const docLinkHtml = 'Like what you see? Visit the ' +\n",
              "            '<a target=\"_blank\" href=https://colab.research.google.com/notebooks/data_table.ipynb>data table notebook</a>'\n",
              "            + ' to learn more about interactive tables.';\n",
              "          element.innerHTML = '';\n",
              "          dataTable['output_type'] = 'display_data';\n",
              "          await google.colab.output.renderOutput(dataTable, element);\n",
              "          const docLink = document.createElement('div');\n",
              "          docLink.innerHTML = docLinkHtml;\n",
              "          element.appendChild(docLink);\n",
              "        }\n",
              "      </script>\n",
              "    </div>\n",
              "  </div>\n",
              "  "
            ]
          },
          "metadata": {},
          "execution_count": 48
        }
      ]
    },
    {
      "cell_type": "markdown",
      "source": [
        "วิธีแก้ไข / จัดการ ค่า missing values"
      ],
      "metadata": {
        "id": "PCmh52AD-9Ge"
      }
    },
    {
      "cell_type": "code",
      "source": [
        "import pandas as pd\n",
        "x = [1,2,3,np.nan,np.nan,6,7,8] # สร้าง list ที่มีค่า 1-8 และมี NaN 2 ค่า\n",
        "x= pd.DataFrame(x) # เปลี่ยน x ให้เป็น Dataframe\n",
        "x"
      ],
      "metadata": {
        "id": "1kBh4s_f_CfP",
        "outputId": "f292061d-9ca6-4351-9074-2d822cc4b33d",
        "colab": {
          "base_uri": "https://localhost:8080/",
          "height": 300
        }
      },
      "execution_count": null,
      "outputs": [
        {
          "output_type": "execute_result",
          "data": {
            "text/plain": [
              "     0\n",
              "0  1.0\n",
              "1  2.0\n",
              "2  3.0\n",
              "3  NaN\n",
              "4  NaN\n",
              "5  6.0\n",
              "6  7.0\n",
              "7  8.0"
            ],
            "text/html": [
              "\n",
              "  <div id=\"df-3fd6b40c-4d7a-49b0-a1cb-c2a458802b02\">\n",
              "    <div class=\"colab-df-container\">\n",
              "      <div>\n",
              "<style scoped>\n",
              "    .dataframe tbody tr th:only-of-type {\n",
              "        vertical-align: middle;\n",
              "    }\n",
              "\n",
              "    .dataframe tbody tr th {\n",
              "        vertical-align: top;\n",
              "    }\n",
              "\n",
              "    .dataframe thead th {\n",
              "        text-align: right;\n",
              "    }\n",
              "</style>\n",
              "<table border=\"1\" class=\"dataframe\">\n",
              "  <thead>\n",
              "    <tr style=\"text-align: right;\">\n",
              "      <th></th>\n",
              "      <th>0</th>\n",
              "    </tr>\n",
              "  </thead>\n",
              "  <tbody>\n",
              "    <tr>\n",
              "      <th>0</th>\n",
              "      <td>1.0</td>\n",
              "    </tr>\n",
              "    <tr>\n",
              "      <th>1</th>\n",
              "      <td>2.0</td>\n",
              "    </tr>\n",
              "    <tr>\n",
              "      <th>2</th>\n",
              "      <td>3.0</td>\n",
              "    </tr>\n",
              "    <tr>\n",
              "      <th>3</th>\n",
              "      <td>NaN</td>\n",
              "    </tr>\n",
              "    <tr>\n",
              "      <th>4</th>\n",
              "      <td>NaN</td>\n",
              "    </tr>\n",
              "    <tr>\n",
              "      <th>5</th>\n",
              "      <td>6.0</td>\n",
              "    </tr>\n",
              "    <tr>\n",
              "      <th>6</th>\n",
              "      <td>7.0</td>\n",
              "    </tr>\n",
              "    <tr>\n",
              "      <th>7</th>\n",
              "      <td>8.0</td>\n",
              "    </tr>\n",
              "  </tbody>\n",
              "</table>\n",
              "</div>\n",
              "      <button class=\"colab-df-convert\" onclick=\"convertToInteractive('df-3fd6b40c-4d7a-49b0-a1cb-c2a458802b02')\"\n",
              "              title=\"Convert this dataframe to an interactive table.\"\n",
              "              style=\"display:none;\">\n",
              "        \n",
              "  <svg xmlns=\"http://www.w3.org/2000/svg\" height=\"24px\"viewBox=\"0 0 24 24\"\n",
              "       width=\"24px\">\n",
              "    <path d=\"M0 0h24v24H0V0z\" fill=\"none\"/>\n",
              "    <path d=\"M18.56 5.44l.94 2.06.94-2.06 2.06-.94-2.06-.94-.94-2.06-.94 2.06-2.06.94zm-11 1L8.5 8.5l.94-2.06 2.06-.94-2.06-.94L8.5 2.5l-.94 2.06-2.06.94zm10 10l.94 2.06.94-2.06 2.06-.94-2.06-.94-.94-2.06-.94 2.06-2.06.94z\"/><path d=\"M17.41 7.96l-1.37-1.37c-.4-.4-.92-.59-1.43-.59-.52 0-1.04.2-1.43.59L10.3 9.45l-7.72 7.72c-.78.78-.78 2.05 0 2.83L4 21.41c.39.39.9.59 1.41.59.51 0 1.02-.2 1.41-.59l7.78-7.78 2.81-2.81c.8-.78.8-2.07 0-2.86zM5.41 20L4 18.59l7.72-7.72 1.47 1.35L5.41 20z\"/>\n",
              "  </svg>\n",
              "      </button>\n",
              "      \n",
              "  <style>\n",
              "    .colab-df-container {\n",
              "      display:flex;\n",
              "      flex-wrap:wrap;\n",
              "      gap: 12px;\n",
              "    }\n",
              "\n",
              "    .colab-df-convert {\n",
              "      background-color: #E8F0FE;\n",
              "      border: none;\n",
              "      border-radius: 50%;\n",
              "      cursor: pointer;\n",
              "      display: none;\n",
              "      fill: #1967D2;\n",
              "      height: 32px;\n",
              "      padding: 0 0 0 0;\n",
              "      width: 32px;\n",
              "    }\n",
              "\n",
              "    .colab-df-convert:hover {\n",
              "      background-color: #E2EBFA;\n",
              "      box-shadow: 0px 1px 2px rgba(60, 64, 67, 0.3), 0px 1px 3px 1px rgba(60, 64, 67, 0.15);\n",
              "      fill: #174EA6;\n",
              "    }\n",
              "\n",
              "    [theme=dark] .colab-df-convert {\n",
              "      background-color: #3B4455;\n",
              "      fill: #D2E3FC;\n",
              "    }\n",
              "\n",
              "    [theme=dark] .colab-df-convert:hover {\n",
              "      background-color: #434B5C;\n",
              "      box-shadow: 0px 1px 3px 1px rgba(0, 0, 0, 0.15);\n",
              "      filter: drop-shadow(0px 1px 2px rgba(0, 0, 0, 0.3));\n",
              "      fill: #FFFFFF;\n",
              "    }\n",
              "  </style>\n",
              "\n",
              "      <script>\n",
              "        const buttonEl =\n",
              "          document.querySelector('#df-3fd6b40c-4d7a-49b0-a1cb-c2a458802b02 button.colab-df-convert');\n",
              "        buttonEl.style.display =\n",
              "          google.colab.kernel.accessAllowed ? 'block' : 'none';\n",
              "\n",
              "        async function convertToInteractive(key) {\n",
              "          const element = document.querySelector('#df-3fd6b40c-4d7a-49b0-a1cb-c2a458802b02');\n",
              "          const dataTable =\n",
              "            await google.colab.kernel.invokeFunction('convertToInteractive',\n",
              "                                                     [key], {});\n",
              "          if (!dataTable) return;\n",
              "\n",
              "          const docLinkHtml = 'Like what you see? Visit the ' +\n",
              "            '<a target=\"_blank\" href=https://colab.research.google.com/notebooks/data_table.ipynb>data table notebook</a>'\n",
              "            + ' to learn more about interactive tables.';\n",
              "          element.innerHTML = '';\n",
              "          dataTable['output_type'] = 'display_data';\n",
              "          await google.colab.output.renderOutput(dataTable, element);\n",
              "          const docLink = document.createElement('div');\n",
              "          docLink.innerHTML = docLinkHtml;\n",
              "          element.appendChild(docLink);\n",
              "        }\n",
              "      </script>\n",
              "    </div>\n",
              "  </div>\n",
              "  "
            ]
          },
          "metadata": {},
          "execution_count": 51
        }
      ]
    },
    {
      "cell_type": "code",
      "source": [
        "x.interpolate() #เรียกใช้การ Interpolate \n",
        "#Interpolate เป็น Function ที่มากับ Library Pandas สามารถเรียกใช้งานได้เลย (แต่ต้องใช้กับ Dataframe เท่านั้นนะครับ)"
      ],
      "metadata": {
        "id": "DRSf5PDP_F4W",
        "outputId": "3b271cb1-9c94-4277-cbf3-c22091546632",
        "colab": {
          "base_uri": "https://localhost:8080/",
          "height": 300
        }
      },
      "execution_count": null,
      "outputs": [
        {
          "output_type": "execute_result",
          "data": {
            "text/plain": [
              "     0\n",
              "0  1.0\n",
              "1  2.0\n",
              "2  3.0\n",
              "3  4.0\n",
              "4  5.0\n",
              "5  6.0\n",
              "6  7.0\n",
              "7  8.0"
            ],
            "text/html": [
              "\n",
              "  <div id=\"df-9621570f-b4e2-49d9-ab7c-8e7b12d764da\">\n",
              "    <div class=\"colab-df-container\">\n",
              "      <div>\n",
              "<style scoped>\n",
              "    .dataframe tbody tr th:only-of-type {\n",
              "        vertical-align: middle;\n",
              "    }\n",
              "\n",
              "    .dataframe tbody tr th {\n",
              "        vertical-align: top;\n",
              "    }\n",
              "\n",
              "    .dataframe thead th {\n",
              "        text-align: right;\n",
              "    }\n",
              "</style>\n",
              "<table border=\"1\" class=\"dataframe\">\n",
              "  <thead>\n",
              "    <tr style=\"text-align: right;\">\n",
              "      <th></th>\n",
              "      <th>0</th>\n",
              "    </tr>\n",
              "  </thead>\n",
              "  <tbody>\n",
              "    <tr>\n",
              "      <th>0</th>\n",
              "      <td>1.0</td>\n",
              "    </tr>\n",
              "    <tr>\n",
              "      <th>1</th>\n",
              "      <td>2.0</td>\n",
              "    </tr>\n",
              "    <tr>\n",
              "      <th>2</th>\n",
              "      <td>3.0</td>\n",
              "    </tr>\n",
              "    <tr>\n",
              "      <th>3</th>\n",
              "      <td>4.0</td>\n",
              "    </tr>\n",
              "    <tr>\n",
              "      <th>4</th>\n",
              "      <td>5.0</td>\n",
              "    </tr>\n",
              "    <tr>\n",
              "      <th>5</th>\n",
              "      <td>6.0</td>\n",
              "    </tr>\n",
              "    <tr>\n",
              "      <th>6</th>\n",
              "      <td>7.0</td>\n",
              "    </tr>\n",
              "    <tr>\n",
              "      <th>7</th>\n",
              "      <td>8.0</td>\n",
              "    </tr>\n",
              "  </tbody>\n",
              "</table>\n",
              "</div>\n",
              "      <button class=\"colab-df-convert\" onclick=\"convertToInteractive('df-9621570f-b4e2-49d9-ab7c-8e7b12d764da')\"\n",
              "              title=\"Convert this dataframe to an interactive table.\"\n",
              "              style=\"display:none;\">\n",
              "        \n",
              "  <svg xmlns=\"http://www.w3.org/2000/svg\" height=\"24px\"viewBox=\"0 0 24 24\"\n",
              "       width=\"24px\">\n",
              "    <path d=\"M0 0h24v24H0V0z\" fill=\"none\"/>\n",
              "    <path d=\"M18.56 5.44l.94 2.06.94-2.06 2.06-.94-2.06-.94-.94-2.06-.94 2.06-2.06.94zm-11 1L8.5 8.5l.94-2.06 2.06-.94-2.06-.94L8.5 2.5l-.94 2.06-2.06.94zm10 10l.94 2.06.94-2.06 2.06-.94-2.06-.94-.94-2.06-.94 2.06-2.06.94z\"/><path d=\"M17.41 7.96l-1.37-1.37c-.4-.4-.92-.59-1.43-.59-.52 0-1.04.2-1.43.59L10.3 9.45l-7.72 7.72c-.78.78-.78 2.05 0 2.83L4 21.41c.39.39.9.59 1.41.59.51 0 1.02-.2 1.41-.59l7.78-7.78 2.81-2.81c.8-.78.8-2.07 0-2.86zM5.41 20L4 18.59l7.72-7.72 1.47 1.35L5.41 20z\"/>\n",
              "  </svg>\n",
              "      </button>\n",
              "      \n",
              "  <style>\n",
              "    .colab-df-container {\n",
              "      display:flex;\n",
              "      flex-wrap:wrap;\n",
              "      gap: 12px;\n",
              "    }\n",
              "\n",
              "    .colab-df-convert {\n",
              "      background-color: #E8F0FE;\n",
              "      border: none;\n",
              "      border-radius: 50%;\n",
              "      cursor: pointer;\n",
              "      display: none;\n",
              "      fill: #1967D2;\n",
              "      height: 32px;\n",
              "      padding: 0 0 0 0;\n",
              "      width: 32px;\n",
              "    }\n",
              "\n",
              "    .colab-df-convert:hover {\n",
              "      background-color: #E2EBFA;\n",
              "      box-shadow: 0px 1px 2px rgba(60, 64, 67, 0.3), 0px 1px 3px 1px rgba(60, 64, 67, 0.15);\n",
              "      fill: #174EA6;\n",
              "    }\n",
              "\n",
              "    [theme=dark] .colab-df-convert {\n",
              "      background-color: #3B4455;\n",
              "      fill: #D2E3FC;\n",
              "    }\n",
              "\n",
              "    [theme=dark] .colab-df-convert:hover {\n",
              "      background-color: #434B5C;\n",
              "      box-shadow: 0px 1px 3px 1px rgba(0, 0, 0, 0.15);\n",
              "      filter: drop-shadow(0px 1px 2px rgba(0, 0, 0, 0.3));\n",
              "      fill: #FFFFFF;\n",
              "    }\n",
              "  </style>\n",
              "\n",
              "      <script>\n",
              "        const buttonEl =\n",
              "          document.querySelector('#df-9621570f-b4e2-49d9-ab7c-8e7b12d764da button.colab-df-convert');\n",
              "        buttonEl.style.display =\n",
              "          google.colab.kernel.accessAllowed ? 'block' : 'none';\n",
              "\n",
              "        async function convertToInteractive(key) {\n",
              "          const element = document.querySelector('#df-9621570f-b4e2-49d9-ab7c-8e7b12d764da');\n",
              "          const dataTable =\n",
              "            await google.colab.kernel.invokeFunction('convertToInteractive',\n",
              "                                                     [key], {});\n",
              "          if (!dataTable) return;\n",
              "\n",
              "          const docLinkHtml = 'Like what you see? Visit the ' +\n",
              "            '<a target=\"_blank\" href=https://colab.research.google.com/notebooks/data_table.ipynb>data table notebook</a>'\n",
              "            + ' to learn more about interactive tables.';\n",
              "          element.innerHTML = '';\n",
              "          dataTable['output_type'] = 'display_data';\n",
              "          await google.colab.output.renderOutput(dataTable, element);\n",
              "          const docLink = document.createElement('div');\n",
              "          docLink.innerHTML = docLinkHtml;\n",
              "          element.appendChild(docLink);\n",
              "        }\n",
              "      </script>\n",
              "    </div>\n",
              "  </div>\n",
              "  "
            ]
          },
          "metadata": {},
          "execution_count": 53
        }
      ]
    },
    {
      "cell_type": "markdown",
      "source": [
        "Parameter ที่จำเป็น ในการจัดการค่า missing value \n",
        "\n",
        "\n",
        "method : ป้อนเป็น str, มี default คือ ‘linear’ (เทคนิคที่จะใช้ในการ Interpolation) โดยวิธีก็มีดังนี้\n",
        "\n",
        "\n",
        "limit_direction : ป้อนเป็น {‘forward’, ‘backward’, ‘both’}, มี default คือ ‘forward’ (ทิศทางที่อนุญาตให้ Interpolate)"
      ],
      "metadata": {
        "id": "riA1AzHA_bTv"
      }
    },
    {
      "cell_type": "markdown",
      "source": [
        "##Iterrows\n",
        "Pandas วนซ้ำคอลัมน์ของ DataFrame\n",
        "การเข้าถึงแต่ละค่าตรง ๆ ผ่าน iloc เลยมันอาจจะช้าไปหน่อย ทำให้ใน Pandas เตรียมอีก Function เป็น Generator ตัวนึง ***เพื่อให้เราสามารถ Loop และเข้าถึงข้อมูลทีละ Row ได้เลย ผ่าน Function ที่ชื่อว่า Iterrows****"
      ],
      "metadata": {
        "id": "SVgpNJqaNT0N"
      }
    },
    {
      "cell_type": "code",
      "source": [
        "import pandas as pd\n",
        "\n",
        "data = {\n",
        "  \"firstname\": [\"Sally\", \"Mary\", \"John\"],\n",
        "  \"age\": [50, 40, 30]\n",
        "}\n",
        "\n",
        "df = pd.DataFrame(data)\n",
        "\n",
        "for index, row in df.iterrows():\n",
        "  print(row[\"firstname\"])"
      ],
      "metadata": {
        "colab": {
          "base_uri": "https://localhost:8080/"
        },
        "id": "VRYBQoN-NXOg",
        "outputId": "0b073f5b-5995-4051-ec99-56477a1c6f37"
      },
      "execution_count": 58,
      "outputs": [
        {
          "output_type": "stream",
          "name": "stdout",
          "text": [
            "Sally\n",
            "Mary\n",
            "John\n"
          ]
        }
      ]
    },
    {
      "cell_type": "code",
      "source": [
        "# Below are quick example\n",
        "# Use getitem ([]) to iterate over columns\n",
        "for column in df:\n",
        "    print(df[column])\n",
        "# Use getitem ([]) to iterate over columns in pandas DataFrame\n",
        "for column in df:\n",
        "    print(df[column].values)\n",
        "# Iterate over columns using DataFrame.iteritems()\n",
        "for (colname,colval) in df.iteritems():\n",
        "    print(colname, colval.values)\n",
        "# use iteritems()\n",
        "for name, values in df.iteritems():\n",
        "    print('{name}: {value}'.format(name=name, value=values[1]))\n",
        "# iterate over columns in pandas DataFrame using enumerate()\n",
        "for (index, colname) in enumerate(df):\n",
        "    print(index, df[colname].values)\n",
        "# using enumerate()\n",
        "for (index, column) in enumerate(df):\n",
        "    print (index, df[column])\n",
        "# using enumerate() & Numpy.asarray()\n",
        "for (index, column) in enumerate(df):\n",
        "    print (index, np.asarray(df[column]))\n",
        "# Use DataFrame.columns()\n",
        "for column in df.columns[1:]:\n",
        "    print(df[column])\n",
        "# Iterate over all the columns in reversed order\n",
        "for column in df.columns[::-1]:\n",
        "    print(df[column])\n",
        "# Get the indices of all columns\n",
        "for indix, column in enumerate(df.columns):\n",
        "    print(indix, column)\n",
        "# Use DataFrame.transpose().iterrows()\n",
        "for (column_name, column) in df.transpose().iterrows():\n",
        "    print(column_name)"
      ],
      "metadata": {
        "colab": {
          "base_uri": "https://localhost:8080/"
        },
        "id": "7Mtsv77INwRG",
        "outputId": "a7b6a120-c68c-48a3-c1da-bdffde550eb8"
      },
      "execution_count": 64,
      "outputs": [
        {
          "output_type": "stream",
          "name": "stdout",
          "text": [
            "0    Sally\n",
            "1     Mary\n",
            "2     John\n",
            "Name: firstname, dtype: object\n",
            "0    50\n",
            "1    40\n",
            "2    30\n",
            "Name: age, dtype: int64\n",
            "['Sally' 'Mary' 'John']\n",
            "[50 40 30]\n",
            "firstname ['Sally' 'Mary' 'John']\n",
            "age [50 40 30]\n",
            "firstname: Mary\n",
            "age: 40\n",
            "0 ['Sally' 'Mary' 'John']\n",
            "1 [50 40 30]\n",
            "0 0    Sally\n",
            "1     Mary\n",
            "2     John\n",
            "Name: firstname, dtype: object\n",
            "1 0    50\n",
            "1    40\n",
            "2    30\n",
            "Name: age, dtype: int64\n",
            "0 ['Sally' 'Mary' 'John']\n",
            "1 [50 40 30]\n",
            "0    50\n",
            "1    40\n",
            "2    30\n",
            "Name: age, dtype: int64\n",
            "0    50\n",
            "1    40\n",
            "2    30\n",
            "Name: age, dtype: int64\n",
            "0    Sally\n",
            "1     Mary\n",
            "2     John\n",
            "Name: firstname, dtype: object\n",
            "0 firstname\n",
            "1 age\n",
            "firstname\n",
            "age\n"
          ]
        }
      ]
    },
    {
      "cell_type": "markdown",
      "source": [
        "ตัวอย่างจากอาจารย์\n",
        "\n",
        "for row in unit.head().iterrows():\n",
        "    print(row)\n",
        "\n",
        "\n",
        "for row in unit.head(20).iterrows():\n",
        "  if 'project_' not in row[1]['project_id']:\n",
        "      print(row)  ปริ้นโปรเจคไอที่ที่ไม่มีคำว่าโปรเจคนำหน้าถ้าโปรเจคไหนไม่มีห้ปริ้นโปรเจคมาเลย(ดูในแถว project id จะสังเกตุว่า ไอดีไม่มีคำว่าโปรเขคนำหน้าเลย)\n",
        "\n",
        "\n",
        "for row in unit.head(20).iterrows():\n",
        "\n",
        "\n",
        "  if 'สตูดิโอ' not in row[1]['url_unittype']:\n",
        "    print(row[1]['url_unittype']) #หาเว็บที่ไม่มีคำว่า สตูดิโอในชื่อ\n",
        "\n",
        "\n",
        "\n",
        "\n",
        "\n"
      ],
      "metadata": {
        "id": "4lUEBQKMQZhv"
      }
    },
    {
      "cell_type": "markdown",
      "source": [
        "## concat merge groupby\n"
      ],
      "metadata": {
        "id": "rWtRcU2hT_IB"
      }
    },
    {
      "cell_type": "markdown",
      "source": [
        "groupby\n",
        "\n",
        "Syntax of DataFrame.groupby()\n",
        "\n",
        "DataFrame.groupby(by=None, axis=0, level=None, as_index=True,\n",
        "sort=True, group_keys=True, squeeze=<no_default>,\n",
        "observed=False, dropna=True)\n",
        "\n",
        "by – รายชื่อคอลัมน์ที่จะจัดกลุ่มโดย\n",
        "\n",
        "axis – ค่าเริ่มต้นเป็น 0 มันต้องใช้ 0 หรือ ‘ดัชนี’ 1 หรือ ‘คอลัมน์’\n",
        "\n",
        "level – ใช้กับ MultiIndex\n",
        "\n",
        "as_index – otput จัดกลุ่มสไตล์ sql\n",
        "\n",
        "sort – ค่าเริ่มต้นเป็น True ระบุว่าจะเรียงลำดับตาม group\n",
        "\n",
        "group_keys – เพิ่มคีย์กลุ่มหรือไม่\n",
        "\n",
        "squeeze – ลดราคาในเวอร์ชันใหม่\n",
        "\n",
        "observed – ใช้เฉพาะในกรณีที่ปลากะรังเป็นหมวดหมู่\n",
        "\n",
        "dropna – ค่าเริ่มต้นเป็นเท็จ ใช้ True เพื่อวาง None/Nan บนปุ่ม sory"
      ],
      "metadata": {
        "id": "DPg4v5mVUITX"
      }
    },
    {
      "cell_type": "code",
      "source": [
        "import pandas as pd\n",
        "technologies   = ({\n",
        "'Courses':[\"Spark\",\"PySpark\",\"Hadoop\",\"Python\",\"Pandas\",\"Hadoop\",\"Spark\",\"Python\",\"NA\"],\n",
        "'Fee' :[22000,25000,23000,24000,26000,25000,25000,22000,1500],\n",
        "'Duration':['30days','50days','55days','40days','60days','35days','30days','50days','40days'],\n",
        "'Discount':[1000,2300,1000,1200,2500,None,1400,1600,0]\n",
        "})\n",
        "df = pd.DataFrame(technologies)\n",
        "print(df)"
      ],
      "metadata": {
        "id": "PoJSaYNWUcJc",
        "outputId": "1fd800a7-02e5-406d-caa6-164ef0bd434a",
        "colab": {
          "base_uri": "https://localhost:8080/"
        }
      },
      "execution_count": 66,
      "outputs": [
        {
          "output_type": "stream",
          "name": "stdout",
          "text": [
            "   Courses    Fee Duration  Discount\n",
            "0    Spark  22000   30days    1000.0\n",
            "1  PySpark  25000   50days    2300.0\n",
            "2   Hadoop  23000   55days    1000.0\n",
            "3   Python  24000   40days    1200.0\n",
            "4   Pandas  26000   60days    2500.0\n",
            "5   Hadoop  25000   35days       NaN\n",
            "6    Spark  25000   30days    1400.0\n",
            "7   Python  22000   50days    1600.0\n",
            "8       NA   1500   40days       0.0\n"
          ]
        }
      ]
    },
    {
      "cell_type": "markdown",
      "source": [
        "2. groupby\n",
        "\n",
        "อย่างที่บอกไปข้างต้น groupby() ผลตอบแทน DataFrameGroupBy หลังจากจัดกลุ่มข้อมูลบน DataFrame ของแพนด้าแล้ว วัตถุนี้มีหลายวิธี (sum(), mean() ฯลฯ) ที่สามารถใช้เพื่อรวมแถวที่จัดกลุ่มไว้"
      ],
      "metadata": {
        "id": "jB7Oe1mkUjvB"
      }
    },
    {
      "cell_type": "code",
      "source": [
        "# Use groupby() to compute the sum\n",
        "df2 =df.groupby(['Courses']).sum()\n",
        "print(df2)"
      ],
      "metadata": {
        "id": "lxUF2MKKUl8L",
        "outputId": "a3e6d502-89f4-49aa-bb97-214c452ede01",
        "colab": {
          "base_uri": "https://localhost:8080/"
        }
      },
      "execution_count": 67,
      "outputs": [
        {
          "output_type": "stream",
          "name": "stdout",
          "text": [
            "           Fee  Discount\n",
            "Courses                 \n",
            "Hadoop   48000    1000.0\n",
            "NA        1500       0.0\n",
            "Pandas   26000    2500.0\n",
            "PySpark  25000    2300.0\n",
            "Python   46000    2800.0\n",
            "Spark    47000    2400.0\n"
          ]
        }
      ]
    },
    {
      "cell_type": "markdown",
      "source": [
        "3. pandas groupby() บนสองคอลัมน์ขึ้นไป"
      ],
      "metadata": {
        "id": "CUWA3mMYUqlK"
      }
    },
    {
      "cell_type": "code",
      "source": [
        "# Group by multiple columns\n",
        "df2 =df.groupby(['Courses', 'Duration']).sum()\n",
        "print(df2)"
      ],
      "metadata": {
        "id": "GVvGqgEJUzPy",
        "outputId": "4b81e299-c58c-4a30-fdc5-a9c84695c18f",
        "colab": {
          "base_uri": "https://localhost:8080/"
        }
      },
      "execution_count": 69,
      "outputs": [
        {
          "output_type": "stream",
          "name": "stdout",
          "text": [
            "                    Fee  Discount\n",
            "Courses Duration                 \n",
            "Hadoop  35days    25000       0.0\n",
            "        55days    23000    1000.0\n",
            "NA      40days     1500       0.0\n",
            "Pandas  60days    26000    2500.0\n",
            "PySpark 50days    25000    2300.0\n",
            "Python  40days    24000    1200.0\n",
            "        50days    22000    1600.0\n",
            "Spark   30days    47000    2400.0\n"
          ]
        }
      ]
    },
    {
      "cell_type": "markdown",
      "source": [
        "![1_3z4GCF9ViYFuHSIv-DU75Q.png](data:image/png;base64,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)"
      ],
      "metadata": {
        "id": "PW7Tro3zVPUC"
      }
    },
    {
      "cell_type": "markdown",
      "source": [
        "ถ้าหากเรามองข้อมูลเราเป็น Hamburger 1 ชิ้น ซึ่งมีวัตถุดิบประกอบไป ขนมปัง, ชีส, มะเขือเทศ, ผัก และ เนื้อ แต่ละส่วนประกอบก็จะมีปริมาณไม่เท่ากัน (เพื่อความง่าย จะขอกำหนดให้หน่วยเป็น unit ) จากรูปที่ 1 จะเห็นได้ว่ามีความสัมพันธ์กัน ระหว่าง groupby , pivot_table และ melt\n",
        "\n",
        "pivot_table ก็จะคล้ายกันกับการ groupby ใน version ของคอลัมน์\n",
        "หาก melt ข้อมูลหลังจากที่ทำ pivot_table ไปแล้ว ข้อมูลก็จะกลับมาอยู่ในรูปของ groupby (ในบางโปรแกรม melt ถูกเรียกว่า un-pivot )\n",
        "เรามาเจาะดูคำสั่งแต่ละคำสั่งกันเลยดีกว่าครับ :)"
      ],
      "metadata": {
        "id": "_S6qN1C7VVm-"
      }
    },
    {
      "cell_type": "markdown",
      "source": [
        " **Group by**\n",
        " ![1_o6mGGr6Ilz9wani-JnLUhQ.png](data:image/png;base64,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)\n",
        " หากใช้คำสั่ง groupby ingredient สิ่งที่เกิดขึ้นก็คือ โปรแกรมจะพยายาม แยกประเภทออกเป็นกลุ่มๆ โดยแต่ละกลุ่มจะมี ingredient เหมือนกัน จากนั้นในแต่ละกลุ่มก็จะทำการยุบรวม ให้เหลือเพียงกลุ่มละ 1 ตัว (กรณีใช้ groupby เพียง 1 คอลัมน์)ซึ่งใช้ Aggregate Function เป็นตัวรวมค่าต่างๆภายในกลุ่ม จากรูปที่ 2 Aggregate Function คือ “sum” โปรแกรมจึงนำค่า unit ในแต่ละกลุ่มมารวมกัน ผลลัพธ์จึงได้เป็น ingredient พร้อมกับ total unit เหมือนดั่งรูปขวาสุด\n",
        "\n",
        "จากย่อหน้าด้านบน จะมีการพูดถึง Aggregate Function เราลองมาดูกันว่ามีคำสั่งอะไรบ้าง\n",
        "\n"
      ],
      "metadata": {
        "id": "0PK-mLWjVZag"
      }
    },
    {
      "cell_type": "markdown",
      "source": [
        "![1_HoUMr3vdPZjz4f8CMjfbmg.png](data:image/png;base64,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)"
      ],
      "metadata": {
        "id": "q_KMByo1VuQt"
      }
    },
    {
      "cell_type": "markdown",
      "source": [
        "**[groupby method]**\n",
        "จัดกลุ่มข้อมูลตาม column ที่กำหนด![200209-15-groupby.jpg](data:image/jpeg;base64,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)"
      ],
      "metadata": {
        "id": "plWbVPQSV-_5"
      }
    },
    {
      "cell_type": "code",
      "source": [
        "df = pd.DataFrame({'Animal': ['Falcon', 'Falcon',\n",
        "                              'Parrot', 'Parrot'],\n",
        "                   'Max Speed': [380., 370., 24., 26.]})\n",
        "df\n"
      ],
      "metadata": {
        "id": "v5Pu7SGPWikh",
        "outputId": "dcc55011-4137-4f23-b31b-0da64c1afabe",
        "colab": {
          "base_uri": "https://localhost:8080/",
          "height": 175
        }
      },
      "execution_count": 71,
      "outputs": [
        {
          "output_type": "execute_result",
          "data": {
            "text/plain": [
              "   Animal  Max Speed\n",
              "0  Falcon      380.0\n",
              "1  Falcon      370.0\n",
              "2  Parrot       24.0\n",
              "3  Parrot       26.0"
            ],
            "text/html": [
              "\n",
              "  <div id=\"df-6866c40b-02d8-4fa1-ad8b-8f2092ab9ba3\">\n",
              "    <div class=\"colab-df-container\">\n",
              "      <div>\n",
              "<style scoped>\n",
              "    .dataframe tbody tr th:only-of-type {\n",
              "        vertical-align: middle;\n",
              "    }\n",
              "\n",
              "    .dataframe tbody tr th {\n",
              "        vertical-align: top;\n",
              "    }\n",
              "\n",
              "    .dataframe thead th {\n",
              "        text-align: right;\n",
              "    }\n",
              "</style>\n",
              "<table border=\"1\" class=\"dataframe\">\n",
              "  <thead>\n",
              "    <tr style=\"text-align: right;\">\n",
              "      <th></th>\n",
              "      <th>Animal</th>\n",
              "      <th>Max Speed</th>\n",
              "    </tr>\n",
              "  </thead>\n",
              "  <tbody>\n",
              "    <tr>\n",
              "      <th>0</th>\n",
              "      <td>Falcon</td>\n",
              "      <td>380.0</td>\n",
              "    </tr>\n",
              "    <tr>\n",
              "      <th>1</th>\n",
              "      <td>Falcon</td>\n",
              "      <td>370.0</td>\n",
              "    </tr>\n",
              "    <tr>\n",
              "      <th>2</th>\n",
              "      <td>Parrot</td>\n",
              "      <td>24.0</td>\n",
              "    </tr>\n",
              "    <tr>\n",
              "      <th>3</th>\n",
              "      <td>Parrot</td>\n",
              "      <td>26.0</td>\n",
              "    </tr>\n",
              "  </tbody>\n",
              "</table>\n",
              "</div>\n",
              "      <button class=\"colab-df-convert\" onclick=\"convertToInteractive('df-6866c40b-02d8-4fa1-ad8b-8f2092ab9ba3')\"\n",
              "              title=\"Convert this dataframe to an interactive table.\"\n",
              "              style=\"display:none;\">\n",
              "        \n",
              "  <svg xmlns=\"http://www.w3.org/2000/svg\" height=\"24px\"viewBox=\"0 0 24 24\"\n",
              "       width=\"24px\">\n",
              "    <path d=\"M0 0h24v24H0V0z\" fill=\"none\"/>\n",
              "    <path d=\"M18.56 5.44l.94 2.06.94-2.06 2.06-.94-2.06-.94-.94-2.06-.94 2.06-2.06.94zm-11 1L8.5 8.5l.94-2.06 2.06-.94-2.06-.94L8.5 2.5l-.94 2.06-2.06.94zm10 10l.94 2.06.94-2.06 2.06-.94-2.06-.94-.94-2.06-.94 2.06-2.06.94z\"/><path d=\"M17.41 7.96l-1.37-1.37c-.4-.4-.92-.59-1.43-.59-.52 0-1.04.2-1.43.59L10.3 9.45l-7.72 7.72c-.78.78-.78 2.05 0 2.83L4 21.41c.39.39.9.59 1.41.59.51 0 1.02-.2 1.41-.59l7.78-7.78 2.81-2.81c.8-.78.8-2.07 0-2.86zM5.41 20L4 18.59l7.72-7.72 1.47 1.35L5.41 20z\"/>\n",
              "  </svg>\n",
              "      </button>\n",
              "      \n",
              "  <style>\n",
              "    .colab-df-container {\n",
              "      display:flex;\n",
              "      flex-wrap:wrap;\n",
              "      gap: 12px;\n",
              "    }\n",
              "\n",
              "    .colab-df-convert {\n",
              "      background-color: #E8F0FE;\n",
              "      border: none;\n",
              "      border-radius: 50%;\n",
              "      cursor: pointer;\n",
              "      display: none;\n",
              "      fill: #1967D2;\n",
              "      height: 32px;\n",
              "      padding: 0 0 0 0;\n",
              "      width: 32px;\n",
              "    }\n",
              "\n",
              "    .colab-df-convert:hover {\n",
              "      background-color: #E2EBFA;\n",
              "      box-shadow: 0px 1px 2px rgba(60, 64, 67, 0.3), 0px 1px 3px 1px rgba(60, 64, 67, 0.15);\n",
              "      fill: #174EA6;\n",
              "    }\n",
              "\n",
              "    [theme=dark] .colab-df-convert {\n",
              "      background-color: #3B4455;\n",
              "      fill: #D2E3FC;\n",
              "    }\n",
              "\n",
              "    [theme=dark] .colab-df-convert:hover {\n",
              "      background-color: #434B5C;\n",
              "      box-shadow: 0px 1px 3px 1px rgba(0, 0, 0, 0.15);\n",
              "      filter: drop-shadow(0px 1px 2px rgba(0, 0, 0, 0.3));\n",
              "      fill: #FFFFFF;\n",
              "    }\n",
              "  </style>\n",
              "\n",
              "      <script>\n",
              "        const buttonEl =\n",
              "          document.querySelector('#df-6866c40b-02d8-4fa1-ad8b-8f2092ab9ba3 button.colab-df-convert');\n",
              "        buttonEl.style.display =\n",
              "          google.colab.kernel.accessAllowed ? 'block' : 'none';\n",
              "\n",
              "        async function convertToInteractive(key) {\n",
              "          const element = document.querySelector('#df-6866c40b-02d8-4fa1-ad8b-8f2092ab9ba3');\n",
              "          const dataTable =\n",
              "            await google.colab.kernel.invokeFunction('convertToInteractive',\n",
              "                                                     [key], {});\n",
              "          if (!dataTable) return;\n",
              "\n",
              "          const docLinkHtml = 'Like what you see? Visit the ' +\n",
              "            '<a target=\"_blank\" href=https://colab.research.google.com/notebooks/data_table.ipynb>data table notebook</a>'\n",
              "            + ' to learn more about interactive tables.';\n",
              "          element.innerHTML = '';\n",
              "          dataTable['output_type'] = 'display_data';\n",
              "          await google.colab.output.renderOutput(dataTable, element);\n",
              "          const docLink = document.createElement('div');\n",
              "          docLink.innerHTML = docLinkHtml;\n",
              "          element.appendChild(docLink);\n",
              "        }\n",
              "      </script>\n",
              "    </div>\n",
              "  </div>\n",
              "  "
            ]
          },
          "metadata": {},
          "execution_count": 71
        }
      ]
    },
    {
      "cell_type": "code",
      "source": [
        "df.groupby(['Animal']).mean()"
      ],
      "metadata": {
        "id": "aZcmh71nZI18",
        "outputId": "1aaa2a54-b1e8-476e-ca55-fede30c8d568",
        "colab": {
          "base_uri": "https://localhost:8080/",
          "height": 143
        }
      },
      "execution_count": 73,
      "outputs": [
        {
          "output_type": "execute_result",
          "data": {
            "text/plain": [
              "        Max Speed\n",
              "Animal           \n",
              "Falcon      375.0\n",
              "Parrot       25.0"
            ],
            "text/html": [
              "\n",
              "  <div id=\"df-b3f7aa82-1b61-400a-82bb-17155b1b7b97\">\n",
              "    <div class=\"colab-df-container\">\n",
              "      <div>\n",
              "<style scoped>\n",
              "    .dataframe tbody tr th:only-of-type {\n",
              "        vertical-align: middle;\n",
              "    }\n",
              "\n",
              "    .dataframe tbody tr th {\n",
              "        vertical-align: top;\n",
              "    }\n",
              "\n",
              "    .dataframe thead th {\n",
              "        text-align: right;\n",
              "    }\n",
              "</style>\n",
              "<table border=\"1\" class=\"dataframe\">\n",
              "  <thead>\n",
              "    <tr style=\"text-align: right;\">\n",
              "      <th></th>\n",
              "      <th>Max Speed</th>\n",
              "    </tr>\n",
              "    <tr>\n",
              "      <th>Animal</th>\n",
              "      <th></th>\n",
              "    </tr>\n",
              "  </thead>\n",
              "  <tbody>\n",
              "    <tr>\n",
              "      <th>Falcon</th>\n",
              "      <td>375.0</td>\n",
              "    </tr>\n",
              "    <tr>\n",
              "      <th>Parrot</th>\n",
              "      <td>25.0</td>\n",
              "    </tr>\n",
              "  </tbody>\n",
              "</table>\n",
              "</div>\n",
              "      <button class=\"colab-df-convert\" onclick=\"convertToInteractive('df-b3f7aa82-1b61-400a-82bb-17155b1b7b97')\"\n",
              "              title=\"Convert this dataframe to an interactive table.\"\n",
              "              style=\"display:none;\">\n",
              "        \n",
              "  <svg xmlns=\"http://www.w3.org/2000/svg\" height=\"24px\"viewBox=\"0 0 24 24\"\n",
              "       width=\"24px\">\n",
              "    <path d=\"M0 0h24v24H0V0z\" fill=\"none\"/>\n",
              "    <path d=\"M18.56 5.44l.94 2.06.94-2.06 2.06-.94-2.06-.94-.94-2.06-.94 2.06-2.06.94zm-11 1L8.5 8.5l.94-2.06 2.06-.94-2.06-.94L8.5 2.5l-.94 2.06-2.06.94zm10 10l.94 2.06.94-2.06 2.06-.94-2.06-.94-.94-2.06-.94 2.06-2.06.94z\"/><path d=\"M17.41 7.96l-1.37-1.37c-.4-.4-.92-.59-1.43-.59-.52 0-1.04.2-1.43.59L10.3 9.45l-7.72 7.72c-.78.78-.78 2.05 0 2.83L4 21.41c.39.39.9.59 1.41.59.51 0 1.02-.2 1.41-.59l7.78-7.78 2.81-2.81c.8-.78.8-2.07 0-2.86zM5.41 20L4 18.59l7.72-7.72 1.47 1.35L5.41 20z\"/>\n",
              "  </svg>\n",
              "      </button>\n",
              "      \n",
              "  <style>\n",
              "    .colab-df-container {\n",
              "      display:flex;\n",
              "      flex-wrap:wrap;\n",
              "      gap: 12px;\n",
              "    }\n",
              "\n",
              "    .colab-df-convert {\n",
              "      background-color: #E8F0FE;\n",
              "      border: none;\n",
              "      border-radius: 50%;\n",
              "      cursor: pointer;\n",
              "      display: none;\n",
              "      fill: #1967D2;\n",
              "      height: 32px;\n",
              "      padding: 0 0 0 0;\n",
              "      width: 32px;\n",
              "    }\n",
              "\n",
              "    .colab-df-convert:hover {\n",
              "      background-color: #E2EBFA;\n",
              "      box-shadow: 0px 1px 2px rgba(60, 64, 67, 0.3), 0px 1px 3px 1px rgba(60, 64, 67, 0.15);\n",
              "      fill: #174EA6;\n",
              "    }\n",
              "\n",
              "    [theme=dark] .colab-df-convert {\n",
              "      background-color: #3B4455;\n",
              "      fill: #D2E3FC;\n",
              "    }\n",
              "\n",
              "    [theme=dark] .colab-df-convert:hover {\n",
              "      background-color: #434B5C;\n",
              "      box-shadow: 0px 1px 3px 1px rgba(0, 0, 0, 0.15);\n",
              "      filter: drop-shadow(0px 1px 2px rgba(0, 0, 0, 0.3));\n",
              "      fill: #FFFFFF;\n",
              "    }\n",
              "  </style>\n",
              "\n",
              "      <script>\n",
              "        const buttonEl =\n",
              "          document.querySelector('#df-b3f7aa82-1b61-400a-82bb-17155b1b7b97 button.colab-df-convert');\n",
              "        buttonEl.style.display =\n",
              "          google.colab.kernel.accessAllowed ? 'block' : 'none';\n",
              "\n",
              "        async function convertToInteractive(key) {\n",
              "          const element = document.querySelector('#df-b3f7aa82-1b61-400a-82bb-17155b1b7b97');\n",
              "          const dataTable =\n",
              "            await google.colab.kernel.invokeFunction('convertToInteractive',\n",
              "                                                     [key], {});\n",
              "          if (!dataTable) return;\n",
              "\n",
              "          const docLinkHtml = 'Like what you see? Visit the ' +\n",
              "            '<a target=\"_blank\" href=https://colab.research.google.com/notebooks/data_table.ipynb>data table notebook</a>'\n",
              "            + ' to learn more about interactive tables.';\n",
              "          element.innerHTML = '';\n",
              "          dataTable['output_type'] = 'display_data';\n",
              "          await google.colab.output.renderOutput(dataTable, element);\n",
              "          const docLink = document.createElement('div');\n",
              "          docLink.innerHTML = docLinkHtml;\n",
              "          element.appendChild(docLink);\n",
              "        }\n",
              "      </script>\n",
              "    </div>\n",
              "  </div>\n",
              "  "
            ]
          },
          "metadata": {},
          "execution_count": 73
        }
      ]
    },
    {
      "cell_type": "code",
      "source": [
        "arrays = [['Falcon', 'Falcon', 'Parrot', 'Parrot'],\n",
        "          ['Captive', 'Wild', 'Captive', 'Wild']]\n",
        "index = pd.MultiIndex.from_arrays(arrays, names=('Animal', 'Type'))\n",
        "df = pd.DataFrame({'Max Speed': [390., 350., 30., 20.]},\n",
        "                  index=index)\n",
        "df"
      ],
      "metadata": {
        "id": "AQaPZVe4Zaey",
        "outputId": "7d84c72b-f9e3-4e5d-959d-45c162638749",
        "colab": {
          "base_uri": "https://localhost:8080/",
          "height": 206
        }
      },
      "execution_count": 75,
      "outputs": [
        {
          "output_type": "execute_result",
          "data": {
            "text/plain": [
              "                Max Speed\n",
              "Animal Type              \n",
              "Falcon Captive      390.0\n",
              "       Wild         350.0\n",
              "Parrot Captive       30.0\n",
              "       Wild          20.0"
            ],
            "text/html": [
              "\n",
              "  <div id=\"df-8b11819e-ce60-4d80-b750-f18d44fbbb14\">\n",
              "    <div class=\"colab-df-container\">\n",
              "      <div>\n",
              "<style scoped>\n",
              "    .dataframe tbody tr th:only-of-type {\n",
              "        vertical-align: middle;\n",
              "    }\n",
              "\n",
              "    .dataframe tbody tr th {\n",
              "        vertical-align: top;\n",
              "    }\n",
              "\n",
              "    .dataframe thead th {\n",
              "        text-align: right;\n",
              "    }\n",
              "</style>\n",
              "<table border=\"1\" class=\"dataframe\">\n",
              "  <thead>\n",
              "    <tr style=\"text-align: right;\">\n",
              "      <th></th>\n",
              "      <th></th>\n",
              "      <th>Max Speed</th>\n",
              "    </tr>\n",
              "    <tr>\n",
              "      <th>Animal</th>\n",
              "      <th>Type</th>\n",
              "      <th></th>\n",
              "    </tr>\n",
              "  </thead>\n",
              "  <tbody>\n",
              "    <tr>\n",
              "      <th rowspan=\"2\" valign=\"top\">Falcon</th>\n",
              "      <th>Captive</th>\n",
              "      <td>390.0</td>\n",
              "    </tr>\n",
              "    <tr>\n",
              "      <th>Wild</th>\n",
              "      <td>350.0</td>\n",
              "    </tr>\n",
              "    <tr>\n",
              "      <th rowspan=\"2\" valign=\"top\">Parrot</th>\n",
              "      <th>Captive</th>\n",
              "      <td>30.0</td>\n",
              "    </tr>\n",
              "    <tr>\n",
              "      <th>Wild</th>\n",
              "      <td>20.0</td>\n",
              "    </tr>\n",
              "  </tbody>\n",
              "</table>\n",
              "</div>\n",
              "      <button class=\"colab-df-convert\" onclick=\"convertToInteractive('df-8b11819e-ce60-4d80-b750-f18d44fbbb14')\"\n",
              "              title=\"Convert this dataframe to an interactive table.\"\n",
              "              style=\"display:none;\">\n",
              "        \n",
              "  <svg xmlns=\"http://www.w3.org/2000/svg\" height=\"24px\"viewBox=\"0 0 24 24\"\n",
              "       width=\"24px\">\n",
              "    <path d=\"M0 0h24v24H0V0z\" fill=\"none\"/>\n",
              "    <path d=\"M18.56 5.44l.94 2.06.94-2.06 2.06-.94-2.06-.94-.94-2.06-.94 2.06-2.06.94zm-11 1L8.5 8.5l.94-2.06 2.06-.94-2.06-.94L8.5 2.5l-.94 2.06-2.06.94zm10 10l.94 2.06.94-2.06 2.06-.94-2.06-.94-.94-2.06-.94 2.06-2.06.94z\"/><path d=\"M17.41 7.96l-1.37-1.37c-.4-.4-.92-.59-1.43-.59-.52 0-1.04.2-1.43.59L10.3 9.45l-7.72 7.72c-.78.78-.78 2.05 0 2.83L4 21.41c.39.39.9.59 1.41.59.51 0 1.02-.2 1.41-.59l7.78-7.78 2.81-2.81c.8-.78.8-2.07 0-2.86zM5.41 20L4 18.59l7.72-7.72 1.47 1.35L5.41 20z\"/>\n",
              "  </svg>\n",
              "      </button>\n",
              "      \n",
              "  <style>\n",
              "    .colab-df-container {\n",
              "      display:flex;\n",
              "      flex-wrap:wrap;\n",
              "      gap: 12px;\n",
              "    }\n",
              "\n",
              "    .colab-df-convert {\n",
              "      background-color: #E8F0FE;\n",
              "      border: none;\n",
              "      border-radius: 50%;\n",
              "      cursor: pointer;\n",
              "      display: none;\n",
              "      fill: #1967D2;\n",
              "      height: 32px;\n",
              "      padding: 0 0 0 0;\n",
              "      width: 32px;\n",
              "    }\n",
              "\n",
              "    .colab-df-convert:hover {\n",
              "      background-color: #E2EBFA;\n",
              "      box-shadow: 0px 1px 2px rgba(60, 64, 67, 0.3), 0px 1px 3px 1px rgba(60, 64, 67, 0.15);\n",
              "      fill: #174EA6;\n",
              "    }\n",
              "\n",
              "    [theme=dark] .colab-df-convert {\n",
              "      background-color: #3B4455;\n",
              "      fill: #D2E3FC;\n",
              "    }\n",
              "\n",
              "    [theme=dark] .colab-df-convert:hover {\n",
              "      background-color: #434B5C;\n",
              "      box-shadow: 0px 1px 3px 1px rgba(0, 0, 0, 0.15);\n",
              "      filter: drop-shadow(0px 1px 2px rgba(0, 0, 0, 0.3));\n",
              "      fill: #FFFFFF;\n",
              "    }\n",
              "  </style>\n",
              "\n",
              "      <script>\n",
              "        const buttonEl =\n",
              "          document.querySelector('#df-8b11819e-ce60-4d80-b750-f18d44fbbb14 button.colab-df-convert');\n",
              "        buttonEl.style.display =\n",
              "          google.colab.kernel.accessAllowed ? 'block' : 'none';\n",
              "\n",
              "        async function convertToInteractive(key) {\n",
              "          const element = document.querySelector('#df-8b11819e-ce60-4d80-b750-f18d44fbbb14');\n",
              "          const dataTable =\n",
              "            await google.colab.kernel.invokeFunction('convertToInteractive',\n",
              "                                                     [key], {});\n",
              "          if (!dataTable) return;\n",
              "\n",
              "          const docLinkHtml = 'Like what you see? Visit the ' +\n",
              "            '<a target=\"_blank\" href=https://colab.research.google.com/notebooks/data_table.ipynb>data table notebook</a>'\n",
              "            + ' to learn more about interactive tables.';\n",
              "          element.innerHTML = '';\n",
              "          dataTable['output_type'] = 'display_data';\n",
              "          await google.colab.output.renderOutput(dataTable, element);\n",
              "          const docLink = document.createElement('div');\n",
              "          docLink.innerHTML = docLinkHtml;\n",
              "          element.appendChild(docLink);\n",
              "        }\n",
              "      </script>\n",
              "    </div>\n",
              "  </div>\n",
              "  "
            ]
          },
          "metadata": {},
          "execution_count": 75
        }
      ]
    },
    {
      "cell_type": "code",
      "source": [
        "df.groupby(level=0).mean()"
      ],
      "metadata": {
        "id": "pfUgHADnZqvH",
        "outputId": "285765ab-cf84-4d15-bcc0-f98a566908fc",
        "colab": {
          "base_uri": "https://localhost:8080/",
          "height": 143
        }
      },
      "execution_count": 76,
      "outputs": [
        {
          "output_type": "execute_result",
          "data": {
            "text/plain": [
              "        Max Speed\n",
              "Animal           \n",
              "Falcon      370.0\n",
              "Parrot       25.0"
            ],
            "text/html": [
              "\n",
              "  <div id=\"df-6a33e8a0-5d72-45be-ab1e-5d70e7667d35\">\n",
              "    <div class=\"colab-df-container\">\n",
              "      <div>\n",
              "<style scoped>\n",
              "    .dataframe tbody tr th:only-of-type {\n",
              "        vertical-align: middle;\n",
              "    }\n",
              "\n",
              "    .dataframe tbody tr th {\n",
              "        vertical-align: top;\n",
              "    }\n",
              "\n",
              "    .dataframe thead th {\n",
              "        text-align: right;\n",
              "    }\n",
              "</style>\n",
              "<table border=\"1\" class=\"dataframe\">\n",
              "  <thead>\n",
              "    <tr style=\"text-align: right;\">\n",
              "      <th></th>\n",
              "      <th>Max Speed</th>\n",
              "    </tr>\n",
              "    <tr>\n",
              "      <th>Animal</th>\n",
              "      <th></th>\n",
              "    </tr>\n",
              "  </thead>\n",
              "  <tbody>\n",
              "    <tr>\n",
              "      <th>Falcon</th>\n",
              "      <td>370.0</td>\n",
              "    </tr>\n",
              "    <tr>\n",
              "      <th>Parrot</th>\n",
              "      <td>25.0</td>\n",
              "    </tr>\n",
              "  </tbody>\n",
              "</table>\n",
              "</div>\n",
              "      <button class=\"colab-df-convert\" onclick=\"convertToInteractive('df-6a33e8a0-5d72-45be-ab1e-5d70e7667d35')\"\n",
              "              title=\"Convert this dataframe to an interactive table.\"\n",
              "              style=\"display:none;\">\n",
              "        \n",
              "  <svg xmlns=\"http://www.w3.org/2000/svg\" height=\"24px\"viewBox=\"0 0 24 24\"\n",
              "       width=\"24px\">\n",
              "    <path d=\"M0 0h24v24H0V0z\" fill=\"none\"/>\n",
              "    <path d=\"M18.56 5.44l.94 2.06.94-2.06 2.06-.94-2.06-.94-.94-2.06-.94 2.06-2.06.94zm-11 1L8.5 8.5l.94-2.06 2.06-.94-2.06-.94L8.5 2.5l-.94 2.06-2.06.94zm10 10l.94 2.06.94-2.06 2.06-.94-2.06-.94-.94-2.06-.94 2.06-2.06.94z\"/><path d=\"M17.41 7.96l-1.37-1.37c-.4-.4-.92-.59-1.43-.59-.52 0-1.04.2-1.43.59L10.3 9.45l-7.72 7.72c-.78.78-.78 2.05 0 2.83L4 21.41c.39.39.9.59 1.41.59.51 0 1.02-.2 1.41-.59l7.78-7.78 2.81-2.81c.8-.78.8-2.07 0-2.86zM5.41 20L4 18.59l7.72-7.72 1.47 1.35L5.41 20z\"/>\n",
              "  </svg>\n",
              "      </button>\n",
              "      \n",
              "  <style>\n",
              "    .colab-df-container {\n",
              "      display:flex;\n",
              "      flex-wrap:wrap;\n",
              "      gap: 12px;\n",
              "    }\n",
              "\n",
              "    .colab-df-convert {\n",
              "      background-color: #E8F0FE;\n",
              "      border: none;\n",
              "      border-radius: 50%;\n",
              "      cursor: pointer;\n",
              "      display: none;\n",
              "      fill: #1967D2;\n",
              "      height: 32px;\n",
              "      padding: 0 0 0 0;\n",
              "      width: 32px;\n",
              "    }\n",
              "\n",
              "    .colab-df-convert:hover {\n",
              "      background-color: #E2EBFA;\n",
              "      box-shadow: 0px 1px 2px rgba(60, 64, 67, 0.3), 0px 1px 3px 1px rgba(60, 64, 67, 0.15);\n",
              "      fill: #174EA6;\n",
              "    }\n",
              "\n",
              "    [theme=dark] .colab-df-convert {\n",
              "      background-color: #3B4455;\n",
              "      fill: #D2E3FC;\n",
              "    }\n",
              "\n",
              "    [theme=dark] .colab-df-convert:hover {\n",
              "      background-color: #434B5C;\n",
              "      box-shadow: 0px 1px 3px 1px rgba(0, 0, 0, 0.15);\n",
              "      filter: drop-shadow(0px 1px 2px rgba(0, 0, 0, 0.3));\n",
              "      fill: #FFFFFF;\n",
              "    }\n",
              "  </style>\n",
              "\n",
              "      <script>\n",
              "        const buttonEl =\n",
              "          document.querySelector('#df-6a33e8a0-5d72-45be-ab1e-5d70e7667d35 button.colab-df-convert');\n",
              "        buttonEl.style.display =\n",
              "          google.colab.kernel.accessAllowed ? 'block' : 'none';\n",
              "\n",
              "        async function convertToInteractive(key) {\n",
              "          const element = document.querySelector('#df-6a33e8a0-5d72-45be-ab1e-5d70e7667d35');\n",
              "          const dataTable =\n",
              "            await google.colab.kernel.invokeFunction('convertToInteractive',\n",
              "                                                     [key], {});\n",
              "          if (!dataTable) return;\n",
              "\n",
              "          const docLinkHtml = 'Like what you see? Visit the ' +\n",
              "            '<a target=\"_blank\" href=https://colab.research.google.com/notebooks/data_table.ipynb>data table notebook</a>'\n",
              "            + ' to learn more about interactive tables.';\n",
              "          element.innerHTML = '';\n",
              "          dataTable['output_type'] = 'display_data';\n",
              "          await google.colab.output.renderOutput(dataTable, element);\n",
              "          const docLink = document.createElement('div');\n",
              "          docLink.innerHTML = docLinkHtml;\n",
              "          element.appendChild(docLink);\n",
              "        }\n",
              "      </script>\n",
              "    </div>\n",
              "  </div>\n",
              "  "
            ]
          },
          "metadata": {},
          "execution_count": 76
        }
      ]
    },
    {
      "cell_type": "code",
      "source": [
        "df.groupby(level=\"Type\").mean()\n"
      ],
      "metadata": {
        "id": "C5GNolaqZtU4",
        "outputId": "d87f5c5b-de42-4b23-e2c1-4c9d083f3371",
        "colab": {
          "base_uri": "https://localhost:8080/",
          "height": 143
        }
      },
      "execution_count": 77,
      "outputs": [
        {
          "output_type": "execute_result",
          "data": {
            "text/plain": [
              "         Max Speed\n",
              "Type              \n",
              "Captive      210.0\n",
              "Wild         185.0"
            ],
            "text/html": [
              "\n",
              "  <div id=\"df-31500a68-4571-45fc-a713-f0b1ae4fef19\">\n",
              "    <div class=\"colab-df-container\">\n",
              "      <div>\n",
              "<style scoped>\n",
              "    .dataframe tbody tr th:only-of-type {\n",
              "        vertical-align: middle;\n",
              "    }\n",
              "\n",
              "    .dataframe tbody tr th {\n",
              "        vertical-align: top;\n",
              "    }\n",
              "\n",
              "    .dataframe thead th {\n",
              "        text-align: right;\n",
              "    }\n",
              "</style>\n",
              "<table border=\"1\" class=\"dataframe\">\n",
              "  <thead>\n",
              "    <tr style=\"text-align: right;\">\n",
              "      <th></th>\n",
              "      <th>Max Speed</th>\n",
              "    </tr>\n",
              "    <tr>\n",
              "      <th>Type</th>\n",
              "      <th></th>\n",
              "    </tr>\n",
              "  </thead>\n",
              "  <tbody>\n",
              "    <tr>\n",
              "      <th>Captive</th>\n",
              "      <td>210.0</td>\n",
              "    </tr>\n",
              "    <tr>\n",
              "      <th>Wild</th>\n",
              "      <td>185.0</td>\n",
              "    </tr>\n",
              "  </tbody>\n",
              "</table>\n",
              "</div>\n",
              "      <button class=\"colab-df-convert\" onclick=\"convertToInteractive('df-31500a68-4571-45fc-a713-f0b1ae4fef19')\"\n",
              "              title=\"Convert this dataframe to an interactive table.\"\n",
              "              style=\"display:none;\">\n",
              "        \n",
              "  <svg xmlns=\"http://www.w3.org/2000/svg\" height=\"24px\"viewBox=\"0 0 24 24\"\n",
              "       width=\"24px\">\n",
              "    <path d=\"M0 0h24v24H0V0z\" fill=\"none\"/>\n",
              "    <path d=\"M18.56 5.44l.94 2.06.94-2.06 2.06-.94-2.06-.94-.94-2.06-.94 2.06-2.06.94zm-11 1L8.5 8.5l.94-2.06 2.06-.94-2.06-.94L8.5 2.5l-.94 2.06-2.06.94zm10 10l.94 2.06.94-2.06 2.06-.94-2.06-.94-.94-2.06-.94 2.06-2.06.94z\"/><path d=\"M17.41 7.96l-1.37-1.37c-.4-.4-.92-.59-1.43-.59-.52 0-1.04.2-1.43.59L10.3 9.45l-7.72 7.72c-.78.78-.78 2.05 0 2.83L4 21.41c.39.39.9.59 1.41.59.51 0 1.02-.2 1.41-.59l7.78-7.78 2.81-2.81c.8-.78.8-2.07 0-2.86zM5.41 20L4 18.59l7.72-7.72 1.47 1.35L5.41 20z\"/>\n",
              "  </svg>\n",
              "      </button>\n",
              "      \n",
              "  <style>\n",
              "    .colab-df-container {\n",
              "      display:flex;\n",
              "      flex-wrap:wrap;\n",
              "      gap: 12px;\n",
              "    }\n",
              "\n",
              "    .colab-df-convert {\n",
              "      background-color: #E8F0FE;\n",
              "      border: none;\n",
              "      border-radius: 50%;\n",
              "      cursor: pointer;\n",
              "      display: none;\n",
              "      fill: #1967D2;\n",
              "      height: 32px;\n",
              "      padding: 0 0 0 0;\n",
              "      width: 32px;\n",
              "    }\n",
              "\n",
              "    .colab-df-convert:hover {\n",
              "      background-color: #E2EBFA;\n",
              "      box-shadow: 0px 1px 2px rgba(60, 64, 67, 0.3), 0px 1px 3px 1px rgba(60, 64, 67, 0.15);\n",
              "      fill: #174EA6;\n",
              "    }\n",
              "\n",
              "    [theme=dark] .colab-df-convert {\n",
              "      background-color: #3B4455;\n",
              "      fill: #D2E3FC;\n",
              "    }\n",
              "\n",
              "    [theme=dark] .colab-df-convert:hover {\n",
              "      background-color: #434B5C;\n",
              "      box-shadow: 0px 1px 3px 1px rgba(0, 0, 0, 0.15);\n",
              "      filter: drop-shadow(0px 1px 2px rgba(0, 0, 0, 0.3));\n",
              "      fill: #FFFFFF;\n",
              "    }\n",
              "  </style>\n",
              "\n",
              "      <script>\n",
              "        const buttonEl =\n",
              "          document.querySelector('#df-31500a68-4571-45fc-a713-f0b1ae4fef19 button.colab-df-convert');\n",
              "        buttonEl.style.display =\n",
              "          google.colab.kernel.accessAllowed ? 'block' : 'none';\n",
              "\n",
              "        async function convertToInteractive(key) {\n",
              "          const element = document.querySelector('#df-31500a68-4571-45fc-a713-f0b1ae4fef19');\n",
              "          const dataTable =\n",
              "            await google.colab.kernel.invokeFunction('convertToInteractive',\n",
              "                                                     [key], {});\n",
              "          if (!dataTable) return;\n",
              "\n",
              "          const docLinkHtml = 'Like what you see? Visit the ' +\n",
              "            '<a target=\"_blank\" href=https://colab.research.google.com/notebooks/data_table.ipynb>data table notebook</a>'\n",
              "            + ' to learn more about interactive tables.';\n",
              "          element.innerHTML = '';\n",
              "          dataTable['output_type'] = 'display_data';\n",
              "          await google.colab.output.renderOutput(dataTable, element);\n",
              "          const docLink = document.createElement('div');\n",
              "          docLink.innerHTML = docLinkHtml;\n",
              "          element.appendChild(docLink);\n",
              "        }\n",
              "      </script>\n",
              "    </div>\n",
              "  </div>\n",
              "  "
            ]
          },
          "metadata": {},
          "execution_count": 77
        }
      ]
    },
    {
      "cell_type": "markdown",
      "source": [
        "อันต่อมา"
      ],
      "metadata": {
        "id": "NBqt2QCUZw8q"
      }
    },
    {
      "cell_type": "code",
      "source": [
        "l = [[1, 2, 3], [1, None, 4], [2, 1, 3], [1, 2, 2]]\n",
        "df = pd.DataFrame(l, columns=[\"a\", \"b\", \"c\"])"
      ],
      "metadata": {
        "id": "l2BbgrYbZzBV"
      },
      "execution_count": 78,
      "outputs": []
    },
    {
      "cell_type": "code",
      "source": [
        "df.groupby(by=[\"b\"]).sum()"
      ],
      "metadata": {
        "id": "tc4PXwkbZ10y",
        "outputId": "53c7045a-967f-41a1-da57-7c287fc9b85f",
        "colab": {
          "base_uri": "https://localhost:8080/",
          "height": 143
        }
      },
      "execution_count": 79,
      "outputs": [
        {
          "output_type": "execute_result",
          "data": {
            "text/plain": [
              "     a  c\n",
              "b        \n",
              "1.0  2  3\n",
              "2.0  2  5"
            ],
            "text/html": [
              "\n",
              "  <div id=\"df-d021c1d5-e1f4-4d4c-b711-209e053f0afb\">\n",
              "    <div class=\"colab-df-container\">\n",
              "      <div>\n",
              "<style scoped>\n",
              "    .dataframe tbody tr th:only-of-type {\n",
              "        vertical-align: middle;\n",
              "    }\n",
              "\n",
              "    .dataframe tbody tr th {\n",
              "        vertical-align: top;\n",
              "    }\n",
              "\n",
              "    .dataframe thead th {\n",
              "        text-align: right;\n",
              "    }\n",
              "</style>\n",
              "<table border=\"1\" class=\"dataframe\">\n",
              "  <thead>\n",
              "    <tr style=\"text-align: right;\">\n",
              "      <th></th>\n",
              "      <th>a</th>\n",
              "      <th>c</th>\n",
              "    </tr>\n",
              "    <tr>\n",
              "      <th>b</th>\n",
              "      <th></th>\n",
              "      <th></th>\n",
              "    </tr>\n",
              "  </thead>\n",
              "  <tbody>\n",
              "    <tr>\n",
              "      <th>1.0</th>\n",
              "      <td>2</td>\n",
              "      <td>3</td>\n",
              "    </tr>\n",
              "    <tr>\n",
              "      <th>2.0</th>\n",
              "      <td>2</td>\n",
              "      <td>5</td>\n",
              "    </tr>\n",
              "  </tbody>\n",
              "</table>\n",
              "</div>\n",
              "      <button class=\"colab-df-convert\" onclick=\"convertToInteractive('df-d021c1d5-e1f4-4d4c-b711-209e053f0afb')\"\n",
              "              title=\"Convert this dataframe to an interactive table.\"\n",
              "              style=\"display:none;\">\n",
              "        \n",
              "  <svg xmlns=\"http://www.w3.org/2000/svg\" height=\"24px\"viewBox=\"0 0 24 24\"\n",
              "       width=\"24px\">\n",
              "    <path d=\"M0 0h24v24H0V0z\" fill=\"none\"/>\n",
              "    <path d=\"M18.56 5.44l.94 2.06.94-2.06 2.06-.94-2.06-.94-.94-2.06-.94 2.06-2.06.94zm-11 1L8.5 8.5l.94-2.06 2.06-.94-2.06-.94L8.5 2.5l-.94 2.06-2.06.94zm10 10l.94 2.06.94-2.06 2.06-.94-2.06-.94-.94-2.06-.94 2.06-2.06.94z\"/><path d=\"M17.41 7.96l-1.37-1.37c-.4-.4-.92-.59-1.43-.59-.52 0-1.04.2-1.43.59L10.3 9.45l-7.72 7.72c-.78.78-.78 2.05 0 2.83L4 21.41c.39.39.9.59 1.41.59.51 0 1.02-.2 1.41-.59l7.78-7.78 2.81-2.81c.8-.78.8-2.07 0-2.86zM5.41 20L4 18.59l7.72-7.72 1.47 1.35L5.41 20z\"/>\n",
              "  </svg>\n",
              "      </button>\n",
              "      \n",
              "  <style>\n",
              "    .colab-df-container {\n",
              "      display:flex;\n",
              "      flex-wrap:wrap;\n",
              "      gap: 12px;\n",
              "    }\n",
              "\n",
              "    .colab-df-convert {\n",
              "      background-color: #E8F0FE;\n",
              "      border: none;\n",
              "      border-radius: 50%;\n",
              "      cursor: pointer;\n",
              "      display: none;\n",
              "      fill: #1967D2;\n",
              "      height: 32px;\n",
              "      padding: 0 0 0 0;\n",
              "      width: 32px;\n",
              "    }\n",
              "\n",
              "    .colab-df-convert:hover {\n",
              "      background-color: #E2EBFA;\n",
              "      box-shadow: 0px 1px 2px rgba(60, 64, 67, 0.3), 0px 1px 3px 1px rgba(60, 64, 67, 0.15);\n",
              "      fill: #174EA6;\n",
              "    }\n",
              "\n",
              "    [theme=dark] .colab-df-convert {\n",
              "      background-color: #3B4455;\n",
              "      fill: #D2E3FC;\n",
              "    }\n",
              "\n",
              "    [theme=dark] .colab-df-convert:hover {\n",
              "      background-color: #434B5C;\n",
              "      box-shadow: 0px 1px 3px 1px rgba(0, 0, 0, 0.15);\n",
              "      filter: drop-shadow(0px 1px 2px rgba(0, 0, 0, 0.3));\n",
              "      fill: #FFFFFF;\n",
              "    }\n",
              "  </style>\n",
              "\n",
              "      <script>\n",
              "        const buttonEl =\n",
              "          document.querySelector('#df-d021c1d5-e1f4-4d4c-b711-209e053f0afb button.colab-df-convert');\n",
              "        buttonEl.style.display =\n",
              "          google.colab.kernel.accessAllowed ? 'block' : 'none';\n",
              "\n",
              "        async function convertToInteractive(key) {\n",
              "          const element = document.querySelector('#df-d021c1d5-e1f4-4d4c-b711-209e053f0afb');\n",
              "          const dataTable =\n",
              "            await google.colab.kernel.invokeFunction('convertToInteractive',\n",
              "                                                     [key], {});\n",
              "          if (!dataTable) return;\n",
              "\n",
              "          const docLinkHtml = 'Like what you see? Visit the ' +\n",
              "            '<a target=\"_blank\" href=https://colab.research.google.com/notebooks/data_table.ipynb>data table notebook</a>'\n",
              "            + ' to learn more about interactive tables.';\n",
              "          element.innerHTML = '';\n",
              "          dataTable['output_type'] = 'display_data';\n",
              "          await google.colab.output.renderOutput(dataTable, element);\n",
              "          const docLink = document.createElement('div');\n",
              "          docLink.innerHTML = docLinkHtml;\n",
              "          element.appendChild(docLink);\n",
              "        }\n",
              "      </script>\n",
              "    </div>\n",
              "  </div>\n",
              "  "
            ]
          },
          "metadata": {},
          "execution_count": 79
        }
      ]
    },
    {
      "cell_type": "code",
      "source": [
        "df.groupby(by=[\"b\"], dropna=False).sum()"
      ],
      "metadata": {
        "id": "_2kAAedCZ5C2",
        "outputId": "3f5b482a-7ec0-4d60-937d-e7aae454dfda",
        "colab": {
          "base_uri": "https://localhost:8080/",
          "height": 175
        }
      },
      "execution_count": 80,
      "outputs": [
        {
          "output_type": "execute_result",
          "data": {
            "text/plain": [
              "     a  c\n",
              "b        \n",
              "1.0  2  3\n",
              "2.0  2  5\n",
              "NaN  1  4"
            ],
            "text/html": [
              "\n",
              "  <div id=\"df-114fb6ce-6dcd-40cb-936f-e47cbf6a8b3b\">\n",
              "    <div class=\"colab-df-container\">\n",
              "      <div>\n",
              "<style scoped>\n",
              "    .dataframe tbody tr th:only-of-type {\n",
              "        vertical-align: middle;\n",
              "    }\n",
              "\n",
              "    .dataframe tbody tr th {\n",
              "        vertical-align: top;\n",
              "    }\n",
              "\n",
              "    .dataframe thead th {\n",
              "        text-align: right;\n",
              "    }\n",
              "</style>\n",
              "<table border=\"1\" class=\"dataframe\">\n",
              "  <thead>\n",
              "    <tr style=\"text-align: right;\">\n",
              "      <th></th>\n",
              "      <th>a</th>\n",
              "      <th>c</th>\n",
              "    </tr>\n",
              "    <tr>\n",
              "      <th>b</th>\n",
              "      <th></th>\n",
              "      <th></th>\n",
              "    </tr>\n",
              "  </thead>\n",
              "  <tbody>\n",
              "    <tr>\n",
              "      <th>1.0</th>\n",
              "      <td>2</td>\n",
              "      <td>3</td>\n",
              "    </tr>\n",
              "    <tr>\n",
              "      <th>2.0</th>\n",
              "      <td>2</td>\n",
              "      <td>5</td>\n",
              "    </tr>\n",
              "    <tr>\n",
              "      <th>NaN</th>\n",
              "      <td>1</td>\n",
              "      <td>4</td>\n",
              "    </tr>\n",
              "  </tbody>\n",
              "</table>\n",
              "</div>\n",
              "      <button class=\"colab-df-convert\" onclick=\"convertToInteractive('df-114fb6ce-6dcd-40cb-936f-e47cbf6a8b3b')\"\n",
              "              title=\"Convert this dataframe to an interactive table.\"\n",
              "              style=\"display:none;\">\n",
              "        \n",
              "  <svg xmlns=\"http://www.w3.org/2000/svg\" height=\"24px\"viewBox=\"0 0 24 24\"\n",
              "       width=\"24px\">\n",
              "    <path d=\"M0 0h24v24H0V0z\" fill=\"none\"/>\n",
              "    <path d=\"M18.56 5.44l.94 2.06.94-2.06 2.06-.94-2.06-.94-.94-2.06-.94 2.06-2.06.94zm-11 1L8.5 8.5l.94-2.06 2.06-.94-2.06-.94L8.5 2.5l-.94 2.06-2.06.94zm10 10l.94 2.06.94-2.06 2.06-.94-2.06-.94-.94-2.06-.94 2.06-2.06.94z\"/><path d=\"M17.41 7.96l-1.37-1.37c-.4-.4-.92-.59-1.43-.59-.52 0-1.04.2-1.43.59L10.3 9.45l-7.72 7.72c-.78.78-.78 2.05 0 2.83L4 21.41c.39.39.9.59 1.41.59.51 0 1.02-.2 1.41-.59l7.78-7.78 2.81-2.81c.8-.78.8-2.07 0-2.86zM5.41 20L4 18.59l7.72-7.72 1.47 1.35L5.41 20z\"/>\n",
              "  </svg>\n",
              "      </button>\n",
              "      \n",
              "  <style>\n",
              "    .colab-df-container {\n",
              "      display:flex;\n",
              "      flex-wrap:wrap;\n",
              "      gap: 12px;\n",
              "    }\n",
              "\n",
              "    .colab-df-convert {\n",
              "      background-color: #E8F0FE;\n",
              "      border: none;\n",
              "      border-radius: 50%;\n",
              "      cursor: pointer;\n",
              "      display: none;\n",
              "      fill: #1967D2;\n",
              "      height: 32px;\n",
              "      padding: 0 0 0 0;\n",
              "      width: 32px;\n",
              "    }\n",
              "\n",
              "    .colab-df-convert:hover {\n",
              "      background-color: #E2EBFA;\n",
              "      box-shadow: 0px 1px 2px rgba(60, 64, 67, 0.3), 0px 1px 3px 1px rgba(60, 64, 67, 0.15);\n",
              "      fill: #174EA6;\n",
              "    }\n",
              "\n",
              "    [theme=dark] .colab-df-convert {\n",
              "      background-color: #3B4455;\n",
              "      fill: #D2E3FC;\n",
              "    }\n",
              "\n",
              "    [theme=dark] .colab-df-convert:hover {\n",
              "      background-color: #434B5C;\n",
              "      box-shadow: 0px 1px 3px 1px rgba(0, 0, 0, 0.15);\n",
              "      filter: drop-shadow(0px 1px 2px rgba(0, 0, 0, 0.3));\n",
              "      fill: #FFFFFF;\n",
              "    }\n",
              "  </style>\n",
              "\n",
              "      <script>\n",
              "        const buttonEl =\n",
              "          document.querySelector('#df-114fb6ce-6dcd-40cb-936f-e47cbf6a8b3b button.colab-df-convert');\n",
              "        buttonEl.style.display =\n",
              "          google.colab.kernel.accessAllowed ? 'block' : 'none';\n",
              "\n",
              "        async function convertToInteractive(key) {\n",
              "          const element = document.querySelector('#df-114fb6ce-6dcd-40cb-936f-e47cbf6a8b3b');\n",
              "          const dataTable =\n",
              "            await google.colab.kernel.invokeFunction('convertToInteractive',\n",
              "                                                     [key], {});\n",
              "          if (!dataTable) return;\n",
              "\n",
              "          const docLinkHtml = 'Like what you see? Visit the ' +\n",
              "            '<a target=\"_blank\" href=https://colab.research.google.com/notebooks/data_table.ipynb>data table notebook</a>'\n",
              "            + ' to learn more about interactive tables.';\n",
              "          element.innerHTML = '';\n",
              "          dataTable['output_type'] = 'display_data';\n",
              "          await google.colab.output.renderOutput(dataTable, element);\n",
              "          const docLink = document.createElement('div');\n",
              "          docLink.innerHTML = docLinkHtml;\n",
              "          element.appendChild(docLink);\n",
              "        }\n",
              "      </script>\n",
              "    </div>\n",
              "  </div>\n",
              "  "
            ]
          },
          "metadata": {},
          "execution_count": 80
        }
      ]
    },
    {
      "cell_type": "code",
      "source": [
        "l = [[\"a\", 12, 12], [None, 12.3, 33.], [\"b\", 12.3, 123], [\"a\", 1, 1]]\n",
        "df = pd.DataFrame(l, columns=[\"a\", \"b\", \"c\"])"
      ],
      "metadata": {
        "id": "s_Y2J0fmZ6sX"
      },
      "execution_count": 81,
      "outputs": []
    },
    {
      "cell_type": "code",
      "source": [
        "df.groupby(by=\"a\").sum()"
      ],
      "metadata": {
        "id": "YO8TmWF2Z8qj",
        "outputId": "6cceb278-9416-4d8b-ef35-29fbedfe7f25",
        "colab": {
          "base_uri": "https://localhost:8080/",
          "height": 143
        }
      },
      "execution_count": 82,
      "outputs": [
        {
          "output_type": "execute_result",
          "data": {
            "text/plain": [
              "      b      c\n",
              "a             \n",
              "a  13.0   13.0\n",
              "b  12.3  123.0"
            ],
            "text/html": [
              "\n",
              "  <div id=\"df-04763f0b-9191-400b-a6e3-69c882ac9bc3\">\n",
              "    <div class=\"colab-df-container\">\n",
              "      <div>\n",
              "<style scoped>\n",
              "    .dataframe tbody tr th:only-of-type {\n",
              "        vertical-align: middle;\n",
              "    }\n",
              "\n",
              "    .dataframe tbody tr th {\n",
              "        vertical-align: top;\n",
              "    }\n",
              "\n",
              "    .dataframe thead th {\n",
              "        text-align: right;\n",
              "    }\n",
              "</style>\n",
              "<table border=\"1\" class=\"dataframe\">\n",
              "  <thead>\n",
              "    <tr style=\"text-align: right;\">\n",
              "      <th></th>\n",
              "      <th>b</th>\n",
              "      <th>c</th>\n",
              "    </tr>\n",
              "    <tr>\n",
              "      <th>a</th>\n",
              "      <th></th>\n",
              "      <th></th>\n",
              "    </tr>\n",
              "  </thead>\n",
              "  <tbody>\n",
              "    <tr>\n",
              "      <th>a</th>\n",
              "      <td>13.0</td>\n",
              "      <td>13.0</td>\n",
              "    </tr>\n",
              "    <tr>\n",
              "      <th>b</th>\n",
              "      <td>12.3</td>\n",
              "      <td>123.0</td>\n",
              "    </tr>\n",
              "  </tbody>\n",
              "</table>\n",
              "</div>\n",
              "      <button class=\"colab-df-convert\" onclick=\"convertToInteractive('df-04763f0b-9191-400b-a6e3-69c882ac9bc3')\"\n",
              "              title=\"Convert this dataframe to an interactive table.\"\n",
              "              style=\"display:none;\">\n",
              "        \n",
              "  <svg xmlns=\"http://www.w3.org/2000/svg\" height=\"24px\"viewBox=\"0 0 24 24\"\n",
              "       width=\"24px\">\n",
              "    <path d=\"M0 0h24v24H0V0z\" fill=\"none\"/>\n",
              "    <path d=\"M18.56 5.44l.94 2.06.94-2.06 2.06-.94-2.06-.94-.94-2.06-.94 2.06-2.06.94zm-11 1L8.5 8.5l.94-2.06 2.06-.94-2.06-.94L8.5 2.5l-.94 2.06-2.06.94zm10 10l.94 2.06.94-2.06 2.06-.94-2.06-.94-.94-2.06-.94 2.06-2.06.94z\"/><path d=\"M17.41 7.96l-1.37-1.37c-.4-.4-.92-.59-1.43-.59-.52 0-1.04.2-1.43.59L10.3 9.45l-7.72 7.72c-.78.78-.78 2.05 0 2.83L4 21.41c.39.39.9.59 1.41.59.51 0 1.02-.2 1.41-.59l7.78-7.78 2.81-2.81c.8-.78.8-2.07 0-2.86zM5.41 20L4 18.59l7.72-7.72 1.47 1.35L5.41 20z\"/>\n",
              "  </svg>\n",
              "      </button>\n",
              "      \n",
              "  <style>\n",
              "    .colab-df-container {\n",
              "      display:flex;\n",
              "      flex-wrap:wrap;\n",
              "      gap: 12px;\n",
              "    }\n",
              "\n",
              "    .colab-df-convert {\n",
              "      background-color: #E8F0FE;\n",
              "      border: none;\n",
              "      border-radius: 50%;\n",
              "      cursor: pointer;\n",
              "      display: none;\n",
              "      fill: #1967D2;\n",
              "      height: 32px;\n",
              "      padding: 0 0 0 0;\n",
              "      width: 32px;\n",
              "    }\n",
              "\n",
              "    .colab-df-convert:hover {\n",
              "      background-color: #E2EBFA;\n",
              "      box-shadow: 0px 1px 2px rgba(60, 64, 67, 0.3), 0px 1px 3px 1px rgba(60, 64, 67, 0.15);\n",
              "      fill: #174EA6;\n",
              "    }\n",
              "\n",
              "    [theme=dark] .colab-df-convert {\n",
              "      background-color: #3B4455;\n",
              "      fill: #D2E3FC;\n",
              "    }\n",
              "\n",
              "    [theme=dark] .colab-df-convert:hover {\n",
              "      background-color: #434B5C;\n",
              "      box-shadow: 0px 1px 3px 1px rgba(0, 0, 0, 0.15);\n",
              "      filter: drop-shadow(0px 1px 2px rgba(0, 0, 0, 0.3));\n",
              "      fill: #FFFFFF;\n",
              "    }\n",
              "  </style>\n",
              "\n",
              "      <script>\n",
              "        const buttonEl =\n",
              "          document.querySelector('#df-04763f0b-9191-400b-a6e3-69c882ac9bc3 button.colab-df-convert');\n",
              "        buttonEl.style.display =\n",
              "          google.colab.kernel.accessAllowed ? 'block' : 'none';\n",
              "\n",
              "        async function convertToInteractive(key) {\n",
              "          const element = document.querySelector('#df-04763f0b-9191-400b-a6e3-69c882ac9bc3');\n",
              "          const dataTable =\n",
              "            await google.colab.kernel.invokeFunction('convertToInteractive',\n",
              "                                                     [key], {});\n",
              "          if (!dataTable) return;\n",
              "\n",
              "          const docLinkHtml = 'Like what you see? Visit the ' +\n",
              "            '<a target=\"_blank\" href=https://colab.research.google.com/notebooks/data_table.ipynb>data table notebook</a>'\n",
              "            + ' to learn more about interactive tables.';\n",
              "          element.innerHTML = '';\n",
              "          dataTable['output_type'] = 'display_data';\n",
              "          await google.colab.output.renderOutput(dataTable, element);\n",
              "          const docLink = document.createElement('div');\n",
              "          docLink.innerHTML = docLinkHtml;\n",
              "          element.appendChild(docLink);\n",
              "        }\n",
              "      </script>\n",
              "    </div>\n",
              "  </div>\n",
              "  "
            ]
          },
          "metadata": {},
          "execution_count": 82
        }
      ]
    },
    {
      "cell_type": "code",
      "source": [
        "df.groupby(by=\"a\", dropna=False).sum()"
      ],
      "metadata": {
        "id": "uOyXV9jFZ99a",
        "outputId": "13deea10-2451-44aa-dc24-58d7d855f208",
        "colab": {
          "base_uri": "https://localhost:8080/",
          "height": 175
        }
      },
      "execution_count": 83,
      "outputs": [
        {
          "output_type": "execute_result",
          "data": {
            "text/plain": [
              "        b      c\n",
              "a               \n",
              "a    13.0   13.0\n",
              "b    12.3  123.0\n",
              "NaN  12.3   33.0"
            ],
            "text/html": [
              "\n",
              "  <div id=\"df-f561600f-7f93-47e2-b1ed-c19033af8027\">\n",
              "    <div class=\"colab-df-container\">\n",
              "      <div>\n",
              "<style scoped>\n",
              "    .dataframe tbody tr th:only-of-type {\n",
              "        vertical-align: middle;\n",
              "    }\n",
              "\n",
              "    .dataframe tbody tr th {\n",
              "        vertical-align: top;\n",
              "    }\n",
              "\n",
              "    .dataframe thead th {\n",
              "        text-align: right;\n",
              "    }\n",
              "</style>\n",
              "<table border=\"1\" class=\"dataframe\">\n",
              "  <thead>\n",
              "    <tr style=\"text-align: right;\">\n",
              "      <th></th>\n",
              "      <th>b</th>\n",
              "      <th>c</th>\n",
              "    </tr>\n",
              "    <tr>\n",
              "      <th>a</th>\n",
              "      <th></th>\n",
              "      <th></th>\n",
              "    </tr>\n",
              "  </thead>\n",
              "  <tbody>\n",
              "    <tr>\n",
              "      <th>a</th>\n",
              "      <td>13.0</td>\n",
              "      <td>13.0</td>\n",
              "    </tr>\n",
              "    <tr>\n",
              "      <th>b</th>\n",
              "      <td>12.3</td>\n",
              "      <td>123.0</td>\n",
              "    </tr>\n",
              "    <tr>\n",
              "      <th>NaN</th>\n",
              "      <td>12.3</td>\n",
              "      <td>33.0</td>\n",
              "    </tr>\n",
              "  </tbody>\n",
              "</table>\n",
              "</div>\n",
              "      <button class=\"colab-df-convert\" onclick=\"convertToInteractive('df-f561600f-7f93-47e2-b1ed-c19033af8027')\"\n",
              "              title=\"Convert this dataframe to an interactive table.\"\n",
              "              style=\"display:none;\">\n",
              "        \n",
              "  <svg xmlns=\"http://www.w3.org/2000/svg\" height=\"24px\"viewBox=\"0 0 24 24\"\n",
              "       width=\"24px\">\n",
              "    <path d=\"M0 0h24v24H0V0z\" fill=\"none\"/>\n",
              "    <path d=\"M18.56 5.44l.94 2.06.94-2.06 2.06-.94-2.06-.94-.94-2.06-.94 2.06-2.06.94zm-11 1L8.5 8.5l.94-2.06 2.06-.94-2.06-.94L8.5 2.5l-.94 2.06-2.06.94zm10 10l.94 2.06.94-2.06 2.06-.94-2.06-.94-.94-2.06-.94 2.06-2.06.94z\"/><path d=\"M17.41 7.96l-1.37-1.37c-.4-.4-.92-.59-1.43-.59-.52 0-1.04.2-1.43.59L10.3 9.45l-7.72 7.72c-.78.78-.78 2.05 0 2.83L4 21.41c.39.39.9.59 1.41.59.51 0 1.02-.2 1.41-.59l7.78-7.78 2.81-2.81c.8-.78.8-2.07 0-2.86zM5.41 20L4 18.59l7.72-7.72 1.47 1.35L5.41 20z\"/>\n",
              "  </svg>\n",
              "      </button>\n",
              "      \n",
              "  <style>\n",
              "    .colab-df-container {\n",
              "      display:flex;\n",
              "      flex-wrap:wrap;\n",
              "      gap: 12px;\n",
              "    }\n",
              "\n",
              "    .colab-df-convert {\n",
              "      background-color: #E8F0FE;\n",
              "      border: none;\n",
              "      border-radius: 50%;\n",
              "      cursor: pointer;\n",
              "      display: none;\n",
              "      fill: #1967D2;\n",
              "      height: 32px;\n",
              "      padding: 0 0 0 0;\n",
              "      width: 32px;\n",
              "    }\n",
              "\n",
              "    .colab-df-convert:hover {\n",
              "      background-color: #E2EBFA;\n",
              "      box-shadow: 0px 1px 2px rgba(60, 64, 67, 0.3), 0px 1px 3px 1px rgba(60, 64, 67, 0.15);\n",
              "      fill: #174EA6;\n",
              "    }\n",
              "\n",
              "    [theme=dark] .colab-df-convert {\n",
              "      background-color: #3B4455;\n",
              "      fill: #D2E3FC;\n",
              "    }\n",
              "\n",
              "    [theme=dark] .colab-df-convert:hover {\n",
              "      background-color: #434B5C;\n",
              "      box-shadow: 0px 1px 3px 1px rgba(0, 0, 0, 0.15);\n",
              "      filter: drop-shadow(0px 1px 2px rgba(0, 0, 0, 0.3));\n",
              "      fill: #FFFFFF;\n",
              "    }\n",
              "  </style>\n",
              "\n",
              "      <script>\n",
              "        const buttonEl =\n",
              "          document.querySelector('#df-f561600f-7f93-47e2-b1ed-c19033af8027 button.colab-df-convert');\n",
              "        buttonEl.style.display =\n",
              "          google.colab.kernel.accessAllowed ? 'block' : 'none';\n",
              "\n",
              "        async function convertToInteractive(key) {\n",
              "          const element = document.querySelector('#df-f561600f-7f93-47e2-b1ed-c19033af8027');\n",
              "          const dataTable =\n",
              "            await google.colab.kernel.invokeFunction('convertToInteractive',\n",
              "                                                     [key], {});\n",
              "          if (!dataTable) return;\n",
              "\n",
              "          const docLinkHtml = 'Like what you see? Visit the ' +\n",
              "            '<a target=\"_blank\" href=https://colab.research.google.com/notebooks/data_table.ipynb>data table notebook</a>'\n",
              "            + ' to learn more about interactive tables.';\n",
              "          element.innerHTML = '';\n",
              "          dataTable['output_type'] = 'display_data';\n",
              "          await google.colab.output.renderOutput(dataTable, element);\n",
              "          const docLink = document.createElement('div');\n",
              "          docLink.innerHTML = docLinkHtml;\n",
              "          element.appendChild(docLink);\n",
              "        }\n",
              "      </script>\n",
              "    </div>\n",
              "  </div>\n",
              "  "
            ]
          },
          "metadata": {},
          "execution_count": 83
        }
      ]
    },
    {
      "cell_type": "markdown",
      "source": [
        "##CONCAT MERGE"
      ],
      "metadata": {
        "id": "f04QOcBdWi6B"
      }
    },
    {
      "cell_type": "markdown",
      "source": [
        "ใช้ pandas.concat() และ DataFrame.append() เพื่อรวม/รวม DataFrames \n",
        "\n",
        "**การต่อ DataFrame**\n",
        "\n",
        "\n",
        "การต่อ Data Frame คือการเอา Data Set 2 ชุดมาต่อกันในแถวตั้งหรือแนวนอน สำหรับการต่อแบบปะติดไปเลย\n",
        "\n",
        "มี 2 คำสั่งที่เหมือนกัน คือ concat กับ append แต่ให้ใช้ concat ไปเลย เพราะ append เป็นคำสั่งที่ไม่ Memory Efficient"
      ],
      "metadata": {
        "id": "zaiBxrn5agXH"
      }
    },
    {
      "cell_type": "markdown",
      "source": [
        " ---\n",
        " pd.concat([df1,df2], axis=1) # รวมกัน \n",
        "\n",
        " คอลัมน์ (axis = 0 คือแถว, axis = 1 คือคอลัมน์)\n",
        "\n",
        "\n",
        "pd.concat([df1,df2,df3)] # รวมมากกว่า 2 คอลัมน์ก็ได้\n",
        "\n",
        "\n",
        "pd.concat(…, ignore_index=True) # รวมเสร็จแล้ว reset index ให้ด้วย ควรใช้ ไม่งั้นจะเจอ row ID ซ้ำกันตอนรวมร่าง\n",
        "\n",
        "\n",
        "pd.concat(…, join='inner') # รวมร่างเฉพาะคอลัมน์ที่ df1 กับ df2 มีทั้งคู่\n",
        "\n",
        "\n",
        "pd.concat(…, keys=['source1', 'source2']) # เพิ่มคอลัมน์เข้าไปด้วยเพื่อระบุว่า Row แต่ละอันมาจาก Data Frame อันไหน\n",
        "\n",
        "\n",
        "pd.concat(…, join_axes=[df2.index]) # เลือกรวมร่างเฉพาะ row index ที่เรากำหนดได้\n",
        "\n",
        "---\n",
        "\n"
      ],
      "metadata": {
        "id": "-Nctb_xObGnG"
      }
    },
    {
      "cell_type": "markdown",
      "source": [
        "\n",
        "\n",
        "---\n",
        "\n",
        "\n",
        "**การต่อ DataFrame แบบ Join**\n",
        "ถ้าต้องการต่อ DataFrame แบบ Advance หน่อย เราก็สามารถ Join DataFrame ได้เหมือน Join Table ใครเขียน SQL มาก่อนน่าจะถนัดเลย\n",
        "\n",
        "\n",
        "---\n",
        "pd.merge(df1, df2, left_on=\"col1\", right_on=\"col2\", how=\"inner\")\n",
        "\n",
        "\n",
        "เราสามารถเปลี่ยนตรง how=”inner” เป็น “outer”, “left”, “right” เพื่อเปลี่ยนเป็น Outer Join, Left Join, Right Join ได้อีกด้วย"
      ],
      "metadata": {
        "id": "pjfq0zC4biWS"
      }
    },
    {
      "cell_type": "code",
      "source": [
        "#Pandas concat() Example\n",
        "import pandas\n",
        "\n",
        "d1 = {\"Name\": [\"Pankaj\", \"Lisa\"], \"ID\": [1, 2]}\n",
        "d2 = {\"Name\": \"David\", \"ID\": 3}\n",
        "\n",
        "df1 = pandas.DataFrame(d1, index={1, 2})\n",
        "df2 = pandas.DataFrame(d2, index={3})\n",
        "\n",
        "print('********\\n', df1)\n",
        "print('********\\n', df2)\n",
        "\n",
        "df3 = pandas.concat([df1, df2])\n",
        "\n",
        "print('********\\n', df3)"
      ],
      "metadata": {
        "id": "_cDQo4xAbyxC",
        "outputId": "1e582bec-11cb-4418-aa4d-b1dad9ef577c",
        "colab": {
          "base_uri": "https://localhost:8080/"
        }
      },
      "execution_count": 90,
      "outputs": [
        {
          "output_type": "stream",
          "name": "stdout",
          "text": [
            "********\n",
            "      Name  ID\n",
            "1  Pankaj   1\n",
            "2    Lisa   2\n",
            "********\n",
            "     Name  ID\n",
            "3  David   3\n",
            "********\n",
            "      Name  ID\n",
            "1  Pankaj   1\n",
            "2    Lisa   2\n",
            "3   David   3\n"
          ]
        }
      ]
    },
    {
      "cell_type": "code",
      "source": [
        "#3. Concatenating Along Column i.e. 1-axis\n",
        "d1 = {\"Name\": [\"Pankaj\", \"Lisa\"], \"ID\": [1, 2]}\n",
        "d2 = {\"Role\": [\"Admin\", \"Editor\"]}\n",
        "\n",
        "df1 = pandas.DataFrame(d1, index={1, 2})\n",
        "df2 = pandas.DataFrame(d2, index={1, 2})\n",
        "\n",
        "df3 = pandas.concat([df1, df2], axis=1)\n",
        "print('********\\n', df3)"
      ],
      "metadata": {
        "id": "MLx0bXNsb7EF",
        "outputId": "f342792d-6b3b-4bcd-c4eb-1dda24b30228",
        "colab": {
          "base_uri": "https://localhost:8080/"
        }
      },
      "execution_count": 87,
      "outputs": [
        {
          "output_type": "stream",
          "name": "stdout",
          "text": [
            "********\n",
            "      Name  ID    Role\n",
            "1  Pankaj   1   Admin\n",
            "2    Lisa   2  Editor\n"
          ]
        }
      ]
    },
    {
      "cell_type": "code",
      "source": [
        "#4. Assigning Keys to the Concatenated DataFrame Indexes\n",
        "d1 = {\"Name\": [\"Pankaj\", \"Lisa\"], \"ID\": [1, 2]}\n",
        "d2 = {\"Name\": \"David\", \"ID\": 3}\n",
        "\n",
        "df1 = pandas.DataFrame(d1, index={1, 2})\n",
        "df2 = pandas.DataFrame(d2, index={3})\n",
        "\n",
        "df3 = pandas.concat([df1, df2], keys=[\"DF1\", \"DF2\"])\n",
        "print('********\\n', df3)"
      ],
      "metadata": {
        "id": "CUA03N5Lb9RS",
        "outputId": "c5427672-1043-489b-ad80-03bc871a189b",
        "colab": {
          "base_uri": "https://localhost:8080/"
        }
      },
      "execution_count": 88,
      "outputs": [
        {
          "output_type": "stream",
          "name": "stdout",
          "text": [
            "********\n",
            "          Name  ID\n",
            "DF1 1  Pankaj   1\n",
            "    2    Lisa   2\n",
            "DF2 3   David   3\n"
          ]
        }
      ]
    },
    {
      "cell_type": "code",
      "source": [
        "#5. Ignore Source DataFrame Objects in Concatenation\n",
        "d1 = {\"Name\": [\"Pankaj\", \"Lisa\"], \"ID\": [1, 2]}\n",
        "d2 = {\"Name\": \"David\", \"ID\": 3}\n",
        "\n",
        "df1 = pandas.DataFrame(d1, index={10, 20})\n",
        "df2 = pandas.DataFrame(d2, index={30})\n",
        "\n",
        "df3 = pandas.concat([df1, df2], ignore_index=True)\n",
        "print('********\\n', df3)"
      ],
      "metadata": {
        "id": "_u2gTolfcAqK",
        "outputId": "19362c85-5032-44c8-d3a6-8fba868ac70a",
        "colab": {
          "base_uri": "https://localhost:8080/"
        }
      },
      "execution_count": 89,
      "outputs": [
        {
          "output_type": "stream",
          "name": "stdout",
          "text": [
            "********\n",
            "      Name  ID\n",
            "0  Pankaj   1\n",
            "1    Lisa   2\n",
            "2   David   3\n"
          ]
        }
      ]
    },
    {
      "cell_type": "markdown",
      "source": [
        "##อื่นๆ เกี่ยวกับ Pandas"
      ],
      "metadata": {
        "id": "z-fv_o-aKo3s"
      }
    },
    {
      "cell_type": "code",
      "source": [
        "#ฟังก์ชั่นคำนวณด้านสถิติ\n",
        "import pandas as pd\n",
        "import numpy as np\n",
        "data = np.array([[1, np.nan, 2],\n",
        "[2, 3, 5],\n",
        "[np.nan, 4, 6]])\n",
        "df = pd.DataFrame(data,index=['row1','row2','row3'],columns=['col1','col2','col3'])\n",
        "display(df)"
      ],
      "metadata": {
        "id": "VlZGCkH4_Pae",
        "colab": {
          "base_uri": "https://localhost:8080/",
          "height": 143
        },
        "outputId": "7a6d62f9-6cf3-44bc-b31f-2b4a6e51ac9c"
      },
      "execution_count": 55,
      "outputs": [
        {
          "output_type": "display_data",
          "data": {
            "text/plain": [
              "      col1  col2  col3\n",
              "row1   1.0   NaN   2.0\n",
              "row2   2.0   3.0   5.0\n",
              "row3   NaN   4.0   6.0"
            ],
            "text/html": [
              "\n",
              "  <div id=\"df-fffa9550-8a88-47dd-b534-a0e13ba4bf30\">\n",
              "    <div class=\"colab-df-container\">\n",
              "      <div>\n",
              "<style scoped>\n",
              "    .dataframe tbody tr th:only-of-type {\n",
              "        vertical-align: middle;\n",
              "    }\n",
              "\n",
              "    .dataframe tbody tr th {\n",
              "        vertical-align: top;\n",
              "    }\n",
              "\n",
              "    .dataframe thead th {\n",
              "        text-align: right;\n",
              "    }\n",
              "</style>\n",
              "<table border=\"1\" class=\"dataframe\">\n",
              "  <thead>\n",
              "    <tr style=\"text-align: right;\">\n",
              "      <th></th>\n",
              "      <th>col1</th>\n",
              "      <th>col2</th>\n",
              "      <th>col3</th>\n",
              "    </tr>\n",
              "  </thead>\n",
              "  <tbody>\n",
              "    <tr>\n",
              "      <th>row1</th>\n",
              "      <td>1.0</td>\n",
              "      <td>NaN</td>\n",
              "      <td>2.0</td>\n",
              "    </tr>\n",
              "    <tr>\n",
              "      <th>row2</th>\n",
              "      <td>2.0</td>\n",
              "      <td>3.0</td>\n",
              "      <td>5.0</td>\n",
              "    </tr>\n",
              "    <tr>\n",
              "      <th>row3</th>\n",
              "      <td>NaN</td>\n",
              "      <td>4.0</td>\n",
              "      <td>6.0</td>\n",
              "    </tr>\n",
              "  </tbody>\n",
              "</table>\n",
              "</div>\n",
              "      <button class=\"colab-df-convert\" onclick=\"convertToInteractive('df-fffa9550-8a88-47dd-b534-a0e13ba4bf30')\"\n",
              "              title=\"Convert this dataframe to an interactive table.\"\n",
              "              style=\"display:none;\">\n",
              "        \n",
              "  <svg xmlns=\"http://www.w3.org/2000/svg\" height=\"24px\"viewBox=\"0 0 24 24\"\n",
              "       width=\"24px\">\n",
              "    <path d=\"M0 0h24v24H0V0z\" fill=\"none\"/>\n",
              "    <path d=\"M18.56 5.44l.94 2.06.94-2.06 2.06-.94-2.06-.94-.94-2.06-.94 2.06-2.06.94zm-11 1L8.5 8.5l.94-2.06 2.06-.94-2.06-.94L8.5 2.5l-.94 2.06-2.06.94zm10 10l.94 2.06.94-2.06 2.06-.94-2.06-.94-.94-2.06-.94 2.06-2.06.94z\"/><path d=\"M17.41 7.96l-1.37-1.37c-.4-.4-.92-.59-1.43-.59-.52 0-1.04.2-1.43.59L10.3 9.45l-7.72 7.72c-.78.78-.78 2.05 0 2.83L4 21.41c.39.39.9.59 1.41.59.51 0 1.02-.2 1.41-.59l7.78-7.78 2.81-2.81c.8-.78.8-2.07 0-2.86zM5.41 20L4 18.59l7.72-7.72 1.47 1.35L5.41 20z\"/>\n",
              "  </svg>\n",
              "      </button>\n",
              "      \n",
              "  <style>\n",
              "    .colab-df-container {\n",
              "      display:flex;\n",
              "      flex-wrap:wrap;\n",
              "      gap: 12px;\n",
              "    }\n",
              "\n",
              "    .colab-df-convert {\n",
              "      background-color: #E8F0FE;\n",
              "      border: none;\n",
              "      border-radius: 50%;\n",
              "      cursor: pointer;\n",
              "      display: none;\n",
              "      fill: #1967D2;\n",
              "      height: 32px;\n",
              "      padding: 0 0 0 0;\n",
              "      width: 32px;\n",
              "    }\n",
              "\n",
              "    .colab-df-convert:hover {\n",
              "      background-color: #E2EBFA;\n",
              "      box-shadow: 0px 1px 2px rgba(60, 64, 67, 0.3), 0px 1px 3px 1px rgba(60, 64, 67, 0.15);\n",
              "      fill: #174EA6;\n",
              "    }\n",
              "\n",
              "    [theme=dark] .colab-df-convert {\n",
              "      background-color: #3B4455;\n",
              "      fill: #D2E3FC;\n",
              "    }\n",
              "\n",
              "    [theme=dark] .colab-df-convert:hover {\n",
              "      background-color: #434B5C;\n",
              "      box-shadow: 0px 1px 3px 1px rgba(0, 0, 0, 0.15);\n",
              "      filter: drop-shadow(0px 1px 2px rgba(0, 0, 0, 0.3));\n",
              "      fill: #FFFFFF;\n",
              "    }\n",
              "  </style>\n",
              "\n",
              "      <script>\n",
              "        const buttonEl =\n",
              "          document.querySelector('#df-fffa9550-8a88-47dd-b534-a0e13ba4bf30 button.colab-df-convert');\n",
              "        buttonEl.style.display =\n",
              "          google.colab.kernel.accessAllowed ? 'block' : 'none';\n",
              "\n",
              "        async function convertToInteractive(key) {\n",
              "          const element = document.querySelector('#df-fffa9550-8a88-47dd-b534-a0e13ba4bf30');\n",
              "          const dataTable =\n",
              "            await google.colab.kernel.invokeFunction('convertToInteractive',\n",
              "                                                     [key], {});\n",
              "          if (!dataTable) return;\n",
              "\n",
              "          const docLinkHtml = 'Like what you see? Visit the ' +\n",
              "            '<a target=\"_blank\" href=https://colab.research.google.com/notebooks/data_table.ipynb>data table notebook</a>'\n",
              "            + ' to learn more about interactive tables.';\n",
              "          element.innerHTML = '';\n",
              "          dataTable['output_type'] = 'display_data';\n",
              "          await google.colab.output.renderOutput(dataTable, element);\n",
              "          const docLink = document.createElement('div');\n",
              "          docLink.innerHTML = docLinkHtml;\n",
              "          element.appendChild(docLink);\n",
              "        }\n",
              "      </script>\n",
              "    </div>\n",
              "  </div>\n",
              "  "
            ]
          },
          "metadata": {}
        }
      ]
    },
    {
      "cell_type": "code",
      "source": [
        "# หาผลรวมสะสมใน column\n",
        "print(df.cumsum()) "
      ],
      "metadata": {
        "colab": {
          "base_uri": "https://localhost:8080/"
        },
        "id": "uAEZAPNQLGQ1",
        "outputId": "e70b9388-7450-42fa-f5a4-86f7926f3041"
      },
      "execution_count": 57,
      "outputs": [
        {
          "output_type": "stream",
          "name": "stdout",
          "text": [
            "      col1  col2  col3\n",
            "row1   1.0   NaN   2.0\n",
            "row2   3.0   3.0   7.0\n",
            "row3   NaN   7.0  13.0\n"
          ]
        }
      ]
    },
    {
      "cell_type": "markdown",
      "source": [
        "(https://drive.google.com/drive/folders/10j7Giwb-cErtWnmchLVuoqdr-N_Z1rIy?usp=sharing)"
      ],
      "metadata": {
        "id": "mdHrtLkBRQyl"
      }
    }
  ]
}