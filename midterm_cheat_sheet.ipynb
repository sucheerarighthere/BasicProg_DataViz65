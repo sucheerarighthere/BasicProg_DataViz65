{
  "nbformat": 4,
  "nbformat_minor": 0,
  "metadata": {
    "colab": {
      "provenance": [],
      "collapsed_sections": [],
      "authorship_tag": "ABX9TyMWzrKYkuCTh9geY1nlb+qM",
      "include_colab_link": true
    },
    "kernelspec": {
      "name": "python3",
      "display_name": "Python 3"
    },
    "language_info": {
      "name": "python"
    }
  },
  "cells": [
    {
      "cell_type": "markdown",
      "metadata": {
        "id": "view-in-github",
        "colab_type": "text"
      },
      "source": [
        "<a href=\"https://colab.research.google.com/github/sucheerarighthere/BasicProg_DataViz65/blob/main/midterm_cheat_sheet.ipynb\" target=\"_parent\"><img src=\"https://colab.research.google.com/assets/colab-badge.svg\" alt=\"Open In Colab\"/></a>"
      ]
    },
    {
      "cell_type": "markdown",
      "source": [
        "###แกรมแก๊บแตง เพอร์เฟค!!!!!!\n",
        "สรุป ที่ต้องสอบภายใน midterm\n",
        "1. variable operation\n",
        "2. print\n",
        "3. string operations \n",
        "4. list\n",
        "5. dictionary \n",
        "6. numpy arrey\n",
        "7. function\n",
        "8. looping condition\n",
        "9. pandas: read_csv , head() , tail() .indexing\n",
        "10. slicing - query\n",
        "11. missing value , looping ,functionsที่จำเป็น\n",
        "12. concat merge groupby \n",
        "13. create pandas table "
      ],
      "metadata": {
        "id": "YpQL8_YfUcsB"
      }
    },
    {
      "cell_type": "markdown",
      "source": [
        "## print\n",
        "Advance Printing\n",
        "เราสมารถใช้ print code ร่วมกับข้อความได้"
      ],
      "metadata": {
        "id": "FzrKT5-zNKQ9"
      }
    },
    {
      "cell_type": "code",
      "source": [
        "print (f'หนึ่ง บวก สอง(1+2) เท่ากับ สาม ({1+2})') # {} curly brackets อะในที่อยู่ในหยึกๆ นับเป็นโค้ด"
      ],
      "metadata": {
        "colab": {
          "base_uri": "https://localhost:8080/"
        },
        "id": "JyJBAJkpNP9x",
        "outputId": "abb9cdba-b4ca-4166-e733-19a9aae47c55"
      },
      "execution_count": null,
      "outputs": [
        {
          "output_type": "stream",
          "name": "stdout",
          "text": [
            "หนึ่ง บวก สอง(1+2) เท่ากับ สาม (3)\n"
          ]
        }
      ]
    },
    {
      "cell_type": "code",
      "source": [
        "a = 1\n",
        "b = 2\n",
        "print(f'หนึ่งบวกสอง(1+2) = {a+b}')"
      ],
      "metadata": {
        "colab": {
          "base_uri": "https://localhost:8080/"
        },
        "id": "smjzmVlUNVe_",
        "outputId": "8c52dbaa-2f6a-436a-ade1-475868031ab3"
      },
      "execution_count": null,
      "outputs": [
        {
          "output_type": "stream",
          "name": "stdout",
          "text": [
            "หนึ่งบวกสอง(1+2) = 3\n"
          ]
        }
      ]
    },
    {
      "cell_type": "code",
      "source": [
        "a = 1\n",
        "b = 2\n",
        "print('หนึ่งบวกสอง(1+2) = {a+b}')\n",
        "#ถ้าไม่ปริ้น f ก็จะเป็นการ ปริ้น string"
      ],
      "metadata": {
        "colab": {
          "base_uri": "https://localhost:8080/"
        },
        "id": "oMR9Q54rNXAb",
        "outputId": "af698850-2a82-4bbc-896f-7304fbbc9565"
      },
      "execution_count": null,
      "outputs": [
        {
          "output_type": "stream",
          "name": "stdout",
          "text": [
            "หนึ่งบวกสอง(1+2) = {a+b}\n"
          ]
        }
      ]
    },
    {
      "cell_type": "markdown",
      "source": [
        "###STring Operationg"
      ],
      "metadata": {
        "id": "HzzZw2XGWD5X"
      }
    },
    {
      "cell_type": "code",
      "source": [
        "# Find and search\n",
        "s = 'mountain'\n",
        "\n",
        "print(s.startswith('moun'))\n",
        "print(s.endswith('in'))\n",
        "print(s.find('n')) #หาตัวอักษร n อยู่ที่ไหน  เลข บวกไปอีก\n",
        "print(s.rfind('n')) #rfind() เป็นการค้นหาจากด้านหลังจากตำแห่งแรกที่พบเช่นกัน\n",
        "print(s.replace('moun', 'con')) #แทนที่ moun ด้วย con\n",
        "print(s.count('a'))"
      ],
      "metadata": {
        "colab": {
          "base_uri": "https://localhost:8080/"
        },
        "id": "4YLZCtfiWDUS",
        "outputId": "8ec12a48-6256-4113-a665-5dc64b2c88a0"
      },
      "execution_count": null,
      "outputs": [
        {
          "output_type": "stream",
          "name": "stdout",
          "text": [
            "True\n",
            "True\n",
            "3\n",
            "7\n",
            "contain\n",
            "1\n"
          ]
        }
      ]
    },
    {
      "cell_type": "code",
      "source": [
        "s = 'this is a game that i love to play.'\n",
        "\n",
        "print(s.capitalize()) #ใช้สำหรับทำให้ตัวอักษรตัวแรกของ String เป็นตัวพิมพ์ใหญ่\n",
        "print(s.title()) # นั้นจะทำให้ตัวแรกในทุกๆ คำที่คั่นด้วย white space เป็นตัวพิมพ์ใหญทั้งหมด\n",
        "print(s.upper()) #แปลงให้ตัวอักษรทุกตัวใน String เป็นตัวพิมพ์ใหญ่\n",
        "print('MARCUSCODE.COM'.lower()) #แปลงให้ตัวอักษรทุกตัวใน String เป็นตัวพิมพ์เล็ก"
      ],
      "metadata": {
        "colab": {
          "base_uri": "https://localhost:8080/"
        },
        "id": "9WbdTXx1bfBM",
        "outputId": "0b1e70f7-43ff-4335-bc60-392fbe88daf0"
      },
      "execution_count": null,
      "outputs": [
        {
          "output_type": "stream",
          "name": "stdout",
          "text": [
            "This is a game that i love to play.\n",
            "This Is A Game That I Love To Play.\n",
            "THIS IS A GAME THAT I LOVE TO PLAY.\n",
            "marcuscode.com\n"
          ]
        }
      ]
    },
    {
      "cell_type": "code",
      "source": [
        "s = 'Python'\n",
        "print(s.center(10)) #ใช้สำหรับเติมข้อความเข้าไปทางซ้ายและทางขวาให้ String มีความยาวกับที่ระบุ\n",
        "print(s.ljust(10)) #ชิดซ้าย\n",
        "print(s.rjust(10)) #ชิดขวา \n",
        "print(s.center(10, '#')) #เติมข้อความด้วยแฮชแทก\n",
        "print(s.ljust(10, '#')) #เติมข้อความด้วยแฮชแทก\n",
        "print(s.rjust(10, '#'))\n",
        "\n",
        "number = '83'\n",
        "print(number.zfill(6)) #ป็นการใช้เติมตัวเลข 0 โดยเรามักจะใช้กับ String ที่มีรูปแบบเป็นตัวเลข\n",
        "print('-1.32'.zfill(8))"
      ],
      "metadata": {
        "colab": {
          "base_uri": "https://localhost:8080/"
        },
        "id": "K0akk8iVc5po",
        "outputId": "509896bd-ad31-4edd-ab6f-e9be16bfab31"
      },
      "execution_count": null,
      "outputs": [
        {
          "output_type": "stream",
          "name": "stdout",
          "text": [
            "  Python  \n",
            "Python    \n",
            "    Python\n",
            "##Python##\n",
            "Python####\n",
            "####Python\n",
            "000083\n",
            "-0001.32\n"
          ]
        }
      ]
    },
    {
      "cell_type": "code",
      "source": [
        "s = '    Python '\n",
        "print(s.strip()) #ตัดคำออกจากข้อความ\n",
        "print(s.lstrip())\n",
        "print(s.rstrip())\n",
        "\n",
        "s2 = '----marcuscode----'\n",
        "print(s2.strip('-'))\n",
        "print(s2.lstrip('-'))\n",
        "print(s2.rstrip('-'))"
      ],
      "metadata": {
        "colab": {
          "base_uri": "https://localhost:8080/"
        },
        "id": "2W9cVkfffnrJ",
        "outputId": "bc078147-670b-4bcd-8ac6-c5e3087cac4f"
      },
      "execution_count": null,
      "outputs": [
        {
          "output_type": "stream",
          "name": "stdout",
          "text": [
            "Python\n",
            "Python \n",
            "    Python\n",
            "marcuscode\n",
            "marcuscode----\n",
            "----marcuscode\n"
          ]
        }
      ]
    },
    {
      "cell_type": "code",
      "source": [
        "# tesing true\n",
        "print('marcuscode2017'.isalnum())\n",
        "print('bobby'.isalpha())\n",
        "print('1234'.isdecimal())\n",
        "print('1234'.isdigit())\n",
        "print('1234'.isnumeric())\n",
        "print('mateo'.islower())\n",
        "print('MATEO'.isupper())\n",
        "\n",
        "# tesing false\n",
        "print('marcuscode 2017'.isalnum()) # has space\n",
        "print('bobby1'.isalpha()) # has number\n",
        "print('7F'.isdecimal()) # F is not decimal\n",
        "print('1234A'.isdigit()) # A is not digit\n",
        "print('Python'.isnumeric()) # not number\n",
        "print('Mateo'.islower()) # M is upper case\n",
        "print('Mateo'.isupper()) # Not all are upper case"
      ],
      "metadata": {
        "colab": {
          "base_uri": "https://localhost:8080/"
        },
        "id": "k3-Yu83JfqAI",
        "outputId": "e5e1a241-5ebf-4002-da97-69889622b8f2"
      },
      "execution_count": null,
      "outputs": [
        {
          "output_type": "stream",
          "name": "stdout",
          "text": [
            "True\n",
            "True\n",
            "True\n",
            "True\n",
            "True\n",
            "True\n",
            "True\n",
            "False\n",
            "False\n",
            "False\n",
            "False\n",
            "False\n",
            "False\n",
            "False\n"
          ]
        }
      ]
    },
    {
      "cell_type": "markdown",
      "source": [
        "###List\n",
        "list เอาไว้รวม string และ รวมด้วย join() หรือการตัดคำออกจาก String ด้วยsplit()"
      ],
      "metadata": {
        "id": "D2MhsUsQf_I4"
      }
    },
    {
      "cell_type": "code",
      "source": [
        "countries = ['England', 'Turkey', 'Poland', 'Russia', 'Germany']\n",
        "print(', '.join(countries))\n",
        "# ตัวแปร ประเทศ สำหรับเก็บข้อมูลประเทศต่างๆ \n",
        "#ปริ้น countries แล้ว ขั้นด้วย , \n",
        "lang = 'Java PHP C++ Python C#'\n",
        "print(lang.split(' '))\n",
        "#lang นั้นเป็นข้อความที่คั่นด้วยช่องว่าง\n",
        "# split()แยก String ออกจากตัวแปรและจะได้ผลลัพธ์เป็นลิสต์ สามารถใช้ตัวอื่นแทน '' ได้ \n",
        "\n",
        "\n",
        "text = 'Python is a language\\nused to create a web,\\n'\n",
        "text += 'desktop application\\nand more'\n",
        "text2 = text.splitlines() #สำหรับเมธอด splitlines() เป็นการแบ่ง String ด้วยการขึ้นบรรทัดใหม่\n",
        "for t in text2:\n",
        "    print(t)"
      ],
      "metadata": {
        "colab": {
          "base_uri": "https://localhost:8080/"
        },
        "id": "Sq4hl8Wrf3v2",
        "outputId": "b9f7fecb-d272-46b7-aadc-560900b43b15"
      },
      "execution_count": null,
      "outputs": [
        {
          "output_type": "stream",
          "name": "stdout",
          "text": [
            "England, Turkey, Poland, Russia, Germany\n",
            "['Java', 'PHP', 'C++', 'Python', 'C#']\n",
            "Python is a language\n",
            "used to create a web,\n",
            "desktop application\n",
            "and more\n"
          ]
        }
      ]
    },
    {
      "cell_type": "markdown",
      "source": [
        "การประกาศและใช้งาน List\n",
        "list เป็นตัวแปรประเภทหนึ่ง การประกาศลิสต์ ข้อมูลจะอยู่ ใน [] และคั่นสมาชิกแต่ละตัว ด้วย , "
      ],
      "metadata": {
        "id": "1Y4_9jpsjTeU"
      }
    },
    {
      "cell_type": "code",
      "source": [
        "numbers = [-1, 2, 5, 8, 10, 13] #ลิสต์จำนวนเต็ม 6 ตัว\n",
        "names = ['Mateo', 'Danny', 'James', 'Thomas', 'Luke'] #List ของ String ที่สำหรับเก็บชื่อและมี 5 รายชื่อ\n",
        "mixed_type = [-2, 5, 84.2, \"Mountain\", \"Python\"] #mixtype ในลิสต์เดียว สามารถเก็บได้ทั้งตัวเลขและตัวอักษร"
      ],
      "metadata": {
        "id": "iw1Z7kTJhB8A"
      },
      "execution_count": null,
      "outputs": []
    },
    {
      "cell_type": "code",
      "source": [
        "numbers = [] #ตอนแรกในลิสต์ไม่มีตัวเลข\n",
        "numbers.append(-1) #append() เพื่อเพิ่มข้อมูลใหม่เข้าไปใน List \n",
        "numbers.append(2)\n",
        "numbers.append(5) #ชื่อลิสต์.operation\n",
        "numbers.append(8)\n",
        "numbers.append(10)\n",
        "numbers.append(13)\n",
        "\n",
        "names = ['Mateo', 'Danny']\n",
        "names.append('James')\n",
        "names.append('Thomas')\n",
        "names.append('Luke')\n",
        "\n",
        "print(numbers) \n",
        "print(names)\n",
        "\n",
        "print('numbers count = ', len(numbers))\n",
        "print('names count = ', len(names)) #ใช้เพื่อนับจำนวนสมาชิกภายใน List"
      ],
      "metadata": {
        "colab": {
          "base_uri": "https://localhost:8080/"
        },
        "id": "goAptI7RjrAQ",
        "outputId": "4700670d-f641-4502-99a4-bd5b8e434853"
      },
      "execution_count": null,
      "outputs": [
        {
          "output_type": "stream",
          "name": "stdout",
          "text": [
            "[-1, 2, 5, 8, 10, 13]\n",
            "['Mateo', 'Danny', 'James', 'Thomas', 'Luke']\n",
            "numbers count =  6\n",
            "names count =  5\n"
          ]
        }
      ]
    },
    {
      "cell_type": "markdown",
      "source": [
        "การเข้าถึงข้อมูลภายในlist"
      ],
      "metadata": {
        "id": "HinSlFCGnIaA"
      }
    },
    {
      "cell_type": "code",
      "source": [
        "names = ['Mateo', 'Danny', 'James', 'Thomas', 'Luke'] #ลำดับสมาชิกมีความสำคัญ\n",
        "print('names[0] = ', names[0]) #สมาชิกลำดับที่ 1\n",
        "print('names[3] = ', names[3])\n",
        "print('names[-1] = ', names[-1]) #สมาชิกตัวที่ 1นับมาจากข้างหลัง\n",
        "\n",
        "# update value\n",
        "names[0] = 'Bob'\n",
        "print('names[0] = ', names[0])\n",
        "#Index ของ List นั้นเริ่มต้นจาก 0"
      ],
      "metadata": {
        "colab": {
          "base_uri": "https://localhost:8080/"
        },
        "id": "1O6m3VvTkEPo",
        "outputId": "889167d6-127e-49d3-c155-cea97d6cb9c2"
      },
      "execution_count": null,
      "outputs": [
        {
          "output_type": "stream",
          "name": "stdout",
          "text": [
            "names[0] =  Mateo\n",
            "names[3] =  Thomas\n",
            "names[-1] =  Luke\n",
            "names[0] =  Bob\n"
          ]
        }
      ]
    },
    {
      "cell_type": "markdown",
      "source": [
        "อ่านคำสั่งในลิสต์ ด้วยคำสั่ง for loop "
      ],
      "metadata": {
        "id": "tpeMEMZBn0JQ"
      }
    },
    {
      "cell_type": "code",
      "source": [
        "numbers = [10, 20, 30, 40, 50, 60, 70]\n",
        "sum = 0\n",
        "for n in numbers: #เพื่อประกาศว่า n คือ สมาชิกในลิสต์ ลูปในลิสต์numbers\n",
        "    print(n, end =' ')\n",
        "    sum += n\n",
        "\n",
        "print('sum = ', sum)\n",
        "\n",
        "names = ['Mateo', 'Danny', 'James', 'Thomas', 'Luke']\n",
        "for i in range(0, len(names)): #range คือ Index จาก 0 ถึงขนาดตัวสุดท้ายของ List #lem นัลจำนวนในสมาชิก\n",
        "    print(names[i].upper(), end ='/')#เว้นด้วย /\n",
        "    print(names[i].upper(), end ='=')#เว้นด้วย =\n",
        "    # ใน for เดียวกัน จะถือว่าอยู่ในคำสั่งเดียวกัน "
      ],
      "metadata": {
        "colab": {
          "base_uri": "https://localhost:8080/"
        },
        "id": "7EURnAUdnTUD",
        "outputId": "7ee8ce82-2e53-49db-8f09-92dab37d11ec"
      },
      "execution_count": null,
      "outputs": [
        {
          "output_type": "stream",
          "name": "stdout",
          "text": [
            "10 20 30 40 50 60 70 sum =  280\n",
            "MATEO/MATEO=DANNY/DANNY=JAMES/JAMES=THOMAS/THOMAS=LUKE/LUKE="
          ]
        }
      ]
    },
    {
      "cell_type": "markdown",
      "source": [
        "List slicing\n",
        "เราสามารถตัดข้อมูลจากลิสต์หนึ่ง นำมาสร้งเป็นลิสต์ใหม่ได้"
      ],
      "metadata": {
        "id": "ZZ1hhkxHq4Gf"
      }
    },
    {
      "cell_type": "code",
      "source": [
        "ch = ['a', 'b', 'c', 'd', 'e', 'f', 'g', 'h']\n",
        "\n",
        "a = ch[0:4] # a - d #แปลว่า สร้างลิสต์ a ด้วย สมาชิกตัวที่ 1-5 จากลิสต์ ch\n",
        "b = ch[4:9] # e - h\n",
        "c = ch[:3] # a - c \n",
        "d = ch[3:] # c - h\n",
        "e = ch[:] #เอาทุกตัวในลิสต์ \n",
        "f = ch[0:2] + ch[6:8] # a - b and g - h\n",
        "g = ch # or equivalent to e = ch \n",
        "\n",
        "print(a)\n",
        "print(b)\n",
        "print(c)\n",
        "print(d)\n",
        "print(e)\n",
        "print(f)\n",
        "print(g)"
      ],
      "metadata": {
        "colab": {
          "base_uri": "https://localhost:8080/"
        },
        "id": "CEhqeQdyo_8U",
        "outputId": "b614a2f1-25f2-4c42-9aba-efcb6c0943e6"
      },
      "execution_count": null,
      "outputs": [
        {
          "output_type": "stream",
          "name": "stdout",
          "text": [
            "['a', 'b', 'c', 'd']\n",
            "['e', 'f', 'g', 'h']\n",
            "['a', 'b', 'c']\n",
            "['d', 'e', 'f', 'g', 'h']\n",
            "['a', 'b', 'c', 'd', 'e', 'f', 'g', 'h']\n",
            "['a', 'b', 'g', 'h']\n",
            "['a', 'b', 'c', 'd', 'e', 'f', 'g', 'h']\n"
          ]
        }
      ]
    },
    {
      "cell_type": "markdown",
      "source": [
        "การใช้งานคำสั่ง del เพื่อลบข้อมูลใน List"
      ],
      "metadata": {
        "id": "4gspgXVvs_pE"
      }
    },
    {
      "cell_type": "code",
      "source": [
        "ch = ['a', 'b', 'c', 'd', 'e', 'f', 'g', 'h']\n",
        "\n",
        "del ch[0] # delete a \n",
        "print(ch)\n",
        "\n",
        "del ch[0] # delete b \n",
        "print(ch)\n",
        "\n",
        "del ch[2:4] # delete e, f \n",
        "print(ch)\n",
        "\n",
        "del ch[:] # delete all\n",
        "print(ch)\n",
        "#ตัดออกมาเรื่อยๆ"
      ],
      "metadata": {
        "colab": {
          "base_uri": "https://localhost:8080/"
        },
        "id": "ErhOUzKasyBV",
        "outputId": "093c3051-fe67-44ca-ba4b-5c1922ee40e1"
      },
      "execution_count": null,
      "outputs": [
        {
          "output_type": "stream",
          "name": "stdout",
          "text": [
            "['b', 'c', 'd', 'e', 'f', 'g', 'h']\n",
            "['c', 'd', 'e', 'f', 'g', 'h']\n",
            "['c', 'd', 'g', 'h']\n",
            "[]\n"
          ]
        }
      ]
    },
    {
      "cell_type": "markdown",
      "source": [
        "การใช้งานเมธอดของ List"
      ],
      "metadata": {
        "id": "2B6oqWyWtnJ7"
      }
    },
    {
      "cell_type": "code",
      "source": [
        "names = ['David', 'Johnny', 'Dennis', 'Jason']\n",
        "\n",
        "# add 2 names to the end of the list\n",
        "names.append('Andy') #เพิ่ม แอนดี้ลงไปในลิสต์เนม \n",
        "names.append('Rene')\n",
        "print(names)\n",
        "\n",
        "# add a name at position 3 เพื่อเพิ่มสมาชิกไปยังตำแหน่งที่ต้องการ\n",
        "names.insert(2, 'Mike') \n",
        "print(names)\n",
        "\n",
        "# remove 2 specific names เพื่อนำออกข้อมูลใน List เราได้ทำการลบสองรายชื่อ คือ 'David' และ 'Johnny' ออกไปจาก List\n",
        "names.remove('David')\n",
        "names.remove('Johnny') #สามารถ ใช้ ลูกน้ำเพื่อขั้นได้\n",
        "print(names)\n",
        "\n",
        "# pop the last item fro the list นำข้อมูลที่อยู่ท้ายสุดของ List และส่งค่านั้นกลับมา\n",
        "print('Popped item =', names.pop()) \n",
        "print(names)\n",
        "print('เหมือนว่าปริ้นแค่สมาชิกตัวเดียว ตัวสุดท้าย')\n",
        "print('Popped item =', names.pop())\n",
        "print(names)\n",
        "\n",
        "# clear all items\n",
        "names.clear()\n",
        "print(names)"
      ],
      "metadata": {
        "colab": {
          "base_uri": "https://localhost:8080/"
        },
        "id": "7nX5lECYtHqp",
        "outputId": "756c0cb3-e888-45ff-d0f2-6dc95dc0ce03"
      },
      "execution_count": null,
      "outputs": [
        {
          "output_type": "stream",
          "name": "stdout",
          "text": [
            "['David', 'Johnny', 'Dennis', 'Jason', 'Andy', 'Rene']\n",
            "['David', 'Johnny', 'Mike', 'Dennis', 'Jason', 'Andy', 'Rene']\n",
            "['Mike', 'Dennis', 'Jason', 'Andy', 'Rene']\n",
            "Popped item = Rene\n",
            "['Mike', 'Dennis', 'Jason', 'Andy']\n",
            "เหมือนว่าปริ้นแค่สมาชิกตัวเดียว ตัวสุดท้าย\n",
            "Popped item = Andy\n",
            "['Mike', 'Dennis', 'Jason']\n",
            "[]\n"
          ]
        }
      ]
    },
    {
      "cell_type": "code",
      "source": [
        "fruits = ['banana', 'orange', 'apple', 'grape', 'apple', 'peach']\n",
        "\n",
        "print(fruits)\n",
        "\n",
        "print('%d apples in list' % fruits.count('apple')) #แปล%เป็นจำนวนแอปเปิ้ล แล้วก้ปริ้น\n",
        "print('%d banana in list' % fruits.count('banana'))\n",
        "\n",
        "print('Index of grape is %d' % fruits.index('grape'))\n",
        "\n",
        "fruits.sort() #ใช้สำหรับเรียงข้อมูลภายใน List ตามตัวอักษรจากก่อนไปทีหลัง\n",
        "print('Sorted', fruits)\n",
        "\n",
        "fruits.reverse() #เรียงกลับ \n",
        "print('Reversed', fruits)"
      ],
      "metadata": {
        "colab": {
          "base_uri": "https://localhost:8080/"
        },
        "id": "BwCFcI9CuVqa",
        "outputId": "3c2492b3-1d70-49e1-efce-0a9a5405e072"
      },
      "execution_count": null,
      "outputs": [
        {
          "output_type": "stream",
          "name": "stdout",
          "text": [
            "['banana', 'orange', 'apple', 'grape', 'apple', 'peach']\n",
            "2 apples in list\n",
            "1 banana in list\n",
            "Index of grape is 3\n",
            "Sorted ['apple', 'apple', 'banana', 'grape', 'orange', 'peach']\n",
            "Reversed ['peach', 'orange', 'grape', 'banana', 'apple', 'apple']\n"
          ]
        }
      ]
    },
    {
      "cell_type": "markdown",
      "source": [
        "การใช้งานฟังก์ชั่นกับlist"
      ],
      "metadata": {
        "id": "vcUrlUXevnrb"
      }
    },
    {
      "cell_type": "code",
      "source": [
        "numbers = [12, 3, 1, -5, 8, 3, -2, 10]\n",
        "\n",
        "print('%d numbers in list' % len(numbers)) #นับจำนวนเobjectใน list \n",
        "print('Min number = %d' % min(numbers))\n",
        "print('Max number = %d' % max(numbers)) #หาค่าที่มากที่สุด"
      ],
      "metadata": {
        "colab": {
          "base_uri": "https://localhost:8080/"
        },
        "id": "qhbiENuZvqwN",
        "outputId": "f4d9c565-daa8-43ef-e855-af4809e2db8f"
      },
      "execution_count": null,
      "outputs": [
        {
          "output_type": "stream",
          "name": "stdout",
          "text": [
            "8 numbers in list\n",
            "Min number = -5\n",
            "Max number = 12\n"
          ]
        }
      ]
    },
    {
      "cell_type": "code",
      "source": [
        "#กรณีถ้าเป็นตัวเลขแบบไม่มีทศนิยมให้ใช้ %d\n",
        "# ส่วน %s สำหรับข้อความ \n",
        "# %f สำหรับตัวเลขที่มีทศนิยม\n",
        "d = 199\n",
        "s = 'Hello, Python'\n",
        "f = 58.36\n",
        "print('d = %d' %(d))\n",
        "print('s = %s' %(s))\n",
        "print('f = %.2f' %(f))"
      ],
      "metadata": {
        "colab": {
          "base_uri": "https://localhost:8080/"
        },
        "id": "eLkipZHUvtC7",
        "outputId": "d8d37ae0-a677-4ddf-bfdd-1e58fb83d7d7"
      },
      "execution_count": null,
      "outputs": [
        {
          "output_type": "stream",
          "name": "stdout",
          "text": [
            "d = 199\n",
            "s = Hello, Python\n",
            "f = 58.36\n"
          ]
        }
      ]
    },
    {
      "cell_type": "code",
      "source": [
        "print(list(range(0, 20, 4))) #( เริ่มจาก , สิ้นสุด , ห่างจาก)\n",
        "\n",
        "tuple1 = (1, 2, 3, 4, 5) \n",
        "print(list(tuple1))"
      ],
      "metadata": {
        "colab": {
          "base_uri": "https://localhost:8080/"
        },
        "id": "3UBHlWPkwNo1",
        "outputId": "f0629ab5-fa5a-4d27-b852-0f36e833a44f"
      },
      "execution_count": null,
      "outputs": [
        {
          "output_type": "stream",
          "name": "stdout",
          "text": [
            "[0, 4, 8, 12, 16]\n",
            "[1, 2, 3, 4, 5]\n"
          ]
        }
      ]
    },
    {
      "cell_type": "markdown",
      "source": [
        "## Dictionary"
      ],
      "metadata": {
        "id": "W4_rYiZPxyX6"
      }
    },
    {
      "cell_type": "code",
      "source": [
        "#สมาชิกของดิก จะอยู่ใน ปีกกา \n",
        "scores = {'james': 1828, 'thomas': 3628, 'danny': 9310}\n",
        "scores['bobby'] = 4401\n",
        "#Dictionary แต่ละตัวจะถูกกำหนดในรูปแบบ key: value \n",
        "\n",
        "numbers = {1: 'One', 2: 'Two', 3: 'Three'}\n",
        "\n",
        "print(scores)\n",
        "print(numbers)"
      ],
      "metadata": {
        "colab": {
          "base_uri": "https://localhost:8080/"
        },
        "id": "jP5fc42IxM6Q",
        "outputId": "27002cf9-b097-4cc1-c41f-2f9c671ad07a"
      },
      "execution_count": null,
      "outputs": [
        {
          "output_type": "stream",
          "name": "stdout",
          "text": [
            "{'james': 1828, 'thomas': 3628, 'danny': 9310, 'bobby': 4401}\n",
            "{1: 'One', 2: 'Two', 3: 'Three'}\n"
          ]
        }
      ]
    },
    {
      "cell_type": "code",
      "source": [
        "{'james': 1828, 'thomas': 3628, 'danny': 9310, 'bobby': 4401}\n",
        "{1: 'One', 2: 'Two', 3: 'Three'}"
      ],
      "metadata": {
        "colab": {
          "base_uri": "https://localhost:8080/"
        },
        "id": "CxsNMlc7yI0b",
        "outputId": "43df34ec-5454-49fc-e501-0a545164e4d9"
      },
      "execution_count": null,
      "outputs": [
        {
          "output_type": "execute_result",
          "data": {
            "text/plain": [
              "{1: 'One', 2: 'Two', 3: 'Three'}"
            ]
          },
          "metadata": {},
          "execution_count": 69
        }
      ]
    },
    {
      "cell_type": "markdown",
      "source": [
        "การเข้าถึงข้อมูลภายใน Dictionary"
      ],
      "metadata": {
        "id": "dQ45uQMfydBb"
      }
    },
    {
      "cell_type": "code",
      "source": [
        "scores = {'james': 1828, 'thomas': 3628, 'danny': 9310, 'bobby': 4401}\n",
        "\n",
        "# display data\n",
        "print('james =>', scores['james'])\n",
        "print('thomas =>', scores['thomas'])\n",
        "print('danny =>', scores['danny'])\n",
        "print('bobby =>', scores['bobby'])\n",
        "\n",
        "# update data\n",
        "scores['james'] = scores['james'] + 1000\n",
        "scores['thomas'] = 100\n",
        "\n",
        "print('james =>', scores['james'])\n",
        "print('thomas =>', scores['thomas'])"
      ],
      "metadata": {
        "colab": {
          "base_uri": "https://localhost:8080/"
        },
        "id": "qwWhIz40yaKB",
        "outputId": "751ebde6-9caa-4894-8af1-38bcb9fb2c84"
      },
      "execution_count": null,
      "outputs": [
        {
          "output_type": "stream",
          "name": "stdout",
          "text": [
            "james => 1828\n",
            "thomas => 3628\n",
            "danny => 9310\n",
            "bobby => 4401\n",
            "james => 2828\n",
            "thomas => 100\n"
          ]
        }
      ]
    },
    {
      "cell_type": "markdown",
      "source": [
        "```การอ่านค่าใน Dictionary ด้วยคำสั่ง For loop```\n",
        "\n",
        "---\n",
        "\n",
        "\n",
        "\n",
        "\n",
        "\n",
        "คำสั่ง For loop นั้นเป็นคำสั่งที่ยืดหยุ่นและสามารถใช้งานได้อย่างหลากหลาย ในการอ่านค่าใน Dictionary นั้นเราสามารถใช้ For loop เพื่อวนอ่านค่าทั้ง Key และ Values ใน Dictionary ได้ มาดูตัวอย่างของโปรแกรม"
      ],
      "metadata": {
        "id": "X9IFXYwkyq6Q"
      }
    },
    {
      "cell_type": "code",
      "source": [
        "countries = {'de': 'Germany', 'ua': 'Ukraine',\n",
        "             'th': 'Thailand', 'nl': 'Netherlands'}\n",
        "#ใน { 'key':'value'} \n",
        "for k, v in countries.items():#ใน { 'key':'value'} \n",
        "    print(k, v)\n",
        "\n",
        "# iterate through keys เอาแค่คีย์ในดิก\n",
        "print('\\nKey:', end = ' ')\n",
        "for k in countries.keys():\n",
        "    print(k, end = ' ')\n",
        "\n",
        "# iterate through values เอาแค่แวลู่ในดิก\n",
        "print('\\n\\nValue:', end = ' ') #\\n เว้นบรรทัด สองครั้งก็สองบรรทัด\n",
        "for v in countries.values():\n",
        "    print(v, end = ' ')"
      ],
      "metadata": {
        "colab": {
          "base_uri": "https://localhost:8080/"
        },
        "id": "KMMu9aPHyrka",
        "outputId": "f3528e0c-1456-4f5e-f539-708603cfe8e2"
      },
      "execution_count": null,
      "outputs": [
        {
          "output_type": "stream",
          "name": "stdout",
          "text": [
            "de Germany\n",
            "ua Ukraine\n",
            "th Thailand\n",
            "nl Netherlands\n",
            "\n",
            "Key: de ua th nl \n",
            "\n",
            "Value: Germany Ukraine Thailand Netherlands "
          ]
        }
      ]
    },
    {
      "cell_type": "markdown",
      "source": [
        "Methods\tDescription\n",
        "\n",
        "---\n",
        "1. clear()\tลบข้อมูลทั้งหมดภายใน Dictionary\n",
        "2. copy()\tคัดลอก Dictionary ทั้งหมดไปยังอันใหม่\n",
        "3. get(key[, default])\tส่งค่าข้อมูลใน Dictionary จาก Key ที่กำหนด ถ้าหากไม่มี Key อยู่และไม่ได้กำหนด default จะทำให้เกิดข้อผิดพลาด `KeyError`\n",
        "4. items()\tส่งค่ากลับเป็นออบเจ็คของ Key และ Value\n",
        "5. keys()\tส่งค่ากลับเป็น List ของ Key ทั้งหมดใน Dictionary\n",
        "6. pop(key[, default])\tส่งค่ากลับเป็นค่าสุดท้ายใน Dictionary\n",
        "7. popitem()\tส่งค่ากลับเป็น Tuple ออบเจ็คของ Key และ Value\n",
        "8. setdefault(key[, default])\tส่งค่ากลับเป็นค่าของ Key ที่กำหนด ถ้าหากไม่มี Key อยู่ใส่ข้อมูลเข้าไปใน Dictionary\n",
        "9. update([other])\tอัพเดท Dictionary กับคู่ของ Key และ Value จากออบเจ็คอื่น และเขียนทับ Key ที่มีอยู่\n",
        "10. values()\tส่งค่ากลับเป็น List ของ Value ทั้งหมดใน Dictionary\n",
        "\n",
        "\n"
      ],
      "metadata": {
        "id": "ni2dPCYp0IwV"
      }
    },
    {
      "cell_type": "markdown",
      "source": [
        "## Numpy array\n",
        "\n",
        "---\n",
        "\n",
        "NumPy เป็นชื่อของ library ที่ใช้ในการคำนวนทางคณิตศาสตร์ในภาษา Python ซึ่งภายในถูกเขียนด้วยภาษา C จึงทำงานได้เร็วและมีประสิทธิภาพ โดย NumPy มีความสามารถในการจัดการกับอาเรย์หลายมิติและข้อมูลแบบเมทริกซ์"
      ],
      "metadata": {
        "id": "_0NOEgid3Lj7"
      }
    },
    {
      "cell_type": "code",
      "source": [
        "import numpy as np\n",
        "a = np.array([1,2,3])\n",
        "print(a)        # [1 2 3]\n",
        "print(type(a))  # <class 'numpy.ndarray'>"
      ],
      "metadata": {
        "colab": {
          "base_uri": "https://localhost:8080/"
        },
        "id": "W4VerolS3Onm",
        "outputId": "ef8d6fd7-fc7b-42ec-bdef-bb30d71aa3ba"
      },
      "execution_count": null,
      "outputs": [
        {
          "output_type": "stream",
          "name": "stdout",
          "text": [
            "[1 2 3]\n",
            "<class 'numpy.ndarray'>\n"
          ]
        }
      ]
    },
    {
      "cell_type": "code",
      "source": [
        "import numpy"
      ],
      "metadata": {
        "id": "kyd8Mp8m3Vf0"
      },
      "execution_count": null,
      "outputs": []
    },
    {
      "cell_type": "code",
      "source": [
        "mat_a = numpy.array([[2,4,5],[1,2,3],[9,8,7],[3,6,9]])\n",
        "mat_a"
      ],
      "metadata": {
        "colab": {
          "base_uri": "https://localhost:8080/"
        },
        "id": "B7XNKARB3kwO",
        "outputId": "04247947-f98e-4dab-aaf4-ccd69e1ea58f"
      },
      "execution_count": null,
      "outputs": [
        {
          "output_type": "execute_result",
          "data": {
            "text/plain": [
              "array([[2, 4, 5],\n",
              "       [1, 2, 3],\n",
              "       [9, 8, 7],\n",
              "       [3, 6, 9]])"
            ]
          },
          "metadata": {},
          "execution_count": 81
        }
      ]
    },
    {
      "cell_type": "code",
      "source": [
        "list_a = [[2,4,5],[1,2,3],[9,8,7],[3,6,9]]"
      ],
      "metadata": {
        "id": "eHaXSWJ_3lLa"
      },
      "execution_count": null,
      "outputs": []
    },
    {
      "cell_type": "code",
      "source": [
        "import numpy as np\n",
        "list_b = [[-1,-1,2,4,5],[-2,-2,1,2,3],[-3,-3,9,8,7],[-4,-4,3,6,9]] #จำนวนเลขในเมทริกซ์ต้องเท่ากัน เพราะเมทริกซ์เป็นจัตุรัส\n",
        "mat_b = np.array(list_b) #เรียกตัวเลขจากลิสต์บีที่เป็นarray เรียงเป็นเมทริกซ์ --->array 2มิติ\n",
        "mat_b"
      ],
      "metadata": {
        "colab": {
          "base_uri": "https://localhost:8080/"
        },
        "id": "ml8eDGTn3pdo",
        "outputId": "9bd6e5a2-b166-4aa6-94ba-cb9e817acb59"
      },
      "execution_count": null,
      "outputs": [
        {
          "output_type": "execute_result",
          "data": {
            "text/plain": [
              "array([[-1, -1,  2,  4,  5],\n",
              "       [-2, -2,  1,  2,  3],\n",
              "       [-3, -3,  9,  8,  7],\n",
              "       [-4, -4,  3,  6,  9]])"
            ]
          },
          "metadata": {},
          "execution_count": 95
        }
      ]
    },
    {
      "cell_type": "code",
      "source": [
        "import numpy as np        # วิธีการที่จะเรียกใช้ numpy library โดยกำหนดชื่อย่อว่า np\n",
        "\n",
        "a = np.array([1, 2, 3])   # สร้าง array 1 มิติ (เวกเตอร์) จาก Python list [1, 2, 3]\n",
        "print(type(a))            # พิมพ์ \"<class 'numpy.ndarray'>\"\n",
        "print(a.shape)            \n",
        "# shape เป็น method ที่ไว้เรียกดูขนาดของ array \n",
        "# พิมพ์ \"(3,)\" แปลว่าเป็น array 1 มิติ ที่มีสมาชิกเท่ากับ 3 (เวกเตอร์ที่ความยาวเท่ากับ 3)\n",
        "\n",
        "print(a[0], a[1], a[2])   # พิมพ์ \"1 2 3\" สมาชิกของเอตัวที่1 สมาชิกของเอ\n",
        "a[0] = 5                  # เปลี่ยนค่าใน array เปลี่ยนสมาชิกของเอตัวที่ 1 เป็น 5 \n",
        "print(a)                  # พิมพ์ \"[5, 2, 3]\"\n",
        "\n",
        "b = np.array([[1,2,3],[4,5,6]])    # สร้าง array 2 มิติ (เมตริกซ์2x3)\n",
        "print(b.shape)                     # พิมพ์ \"(2, 3)\" แปลว่าเป็น array 2 มิติ ที่มีความยาวเท่ากับ 2 และ 3 ตามลำดับ\n",
        "                                   # พูดง่ายๆ ว่าเป็นเมตริกซ์ขนาด 2x3 นั่นเอง \n",
        "print(b[0, 0], b[0, 1], b[1, 0])   # พิมพ์ \"1 2 4\""
      ],
      "metadata": {
        "colab": {
          "base_uri": "https://localhost:8080/"
        },
        "id": "MbOWTIWx8JEm",
        "outputId": "015e2596-172b-4076-9d00-ef93ae7d154e"
      },
      "execution_count": null,
      "outputs": [
        {
          "output_type": "stream",
          "name": "stdout",
          "text": [
            "<class 'numpy.ndarray'>\n",
            "(3,)\n",
            "1 2 3\n",
            "[5 2 3]\n",
            "(2, 3)\n",
            "1 2 4\n"
          ]
        }
      ]
    },
    {
      "cell_type": "markdown",
      "source": [
        "numpy operations"
      ],
      "metadata": {
        "id": "2pO5IWFp9ZI7"
      }
    },
    {
      "cell_type": "code",
      "source": [
        "import numpy as np\n",
        "\n",
        "x = np.array([[1,2],[3,4]])\n",
        "y = np.array([[5,6],[7,8]])\n",
        "\n",
        "# [[ 1  2] + [[ 5  6] =  [[ 6  8]\n",
        "#   [3 4]]    [ 7  8]]    [10 12]]\n",
        "print(x + y)\n",
        "\n",
        "# [[-4 -4]\n",
        "#  [-4 -4]]\n",
        "print(x - y)\n",
        "\n",
        "# [[ 5 12]\n",
        "#  [21 32]]\n",
        "print(x * y)\n",
        "\n",
        "# ตัวอย่างการหาร เมื่อเลขไม่ลงตัว สมาชิกใน array จะเปลี่ยนเป็นจำนวนจริงโดยอัตโนมัติเหมือนกรณีการหารตัวเลข (ดูหัวข้อบน)\n",
        "# [[ 0.2         0.33333333]\n",
        "#  [ 0.42857143  0.5       ]]\n",
        "print(x / y)\n",
        "\n",
        "# ยกกำลัง\n",
        "print(x ** 2)\n",
        "\n",
        "# ถอดรากที่สองมีสองวิธีคือเรียกฟังก์ชั่นของ numpy หรือ ยกกำลังด้วย 1/2\n",
        "print(np.sqrt(x))\n",
        "print(x ** (1/2))"
      ],
      "metadata": {
        "colab": {
          "base_uri": "https://localhost:8080/"
        },
        "id": "J9iJignt9Y5u",
        "outputId": "2d46afc0-bfcd-4770-e878-e389493cff21"
      },
      "execution_count": null,
      "outputs": [
        {
          "output_type": "stream",
          "name": "stdout",
          "text": [
            "[[ 6  8]\n",
            " [10 12]]\n",
            "[[-4 -4]\n",
            " [-4 -4]]\n",
            "[[ 5 12]\n",
            " [21 32]]\n",
            "[[0.2        0.33333333]\n",
            " [0.42857143 0.5       ]]\n",
            "[[ 1  4]\n",
            " [ 9 16]]\n",
            "[[1.         1.41421356]\n",
            " [1.73205081 2.        ]]\n",
            "[[1.         1.41421356]\n",
            " [1.73205081 2.        ]]\n"
          ]
        }
      ]
    },
    {
      "cell_type": "markdown",
      "source": [
        "## Function\n",
        "def เพื่อนิยาม Python function"
      ],
      "metadata": {
        "id": "fr8rsn494VDr"
      }
    },
    {
      "cell_type": "code",
      "source": [
        "def hello(name):\n",
        "    print('Hello %s' % name)\n",
        "\n",
        "def count_vowel(str): #กำหนดฟังก์ชั่น count vowel นับสระ  ให้เป็น สตริง ตัวหนังสือ\n",
        "    vowel = 0\n",
        "    for c in str: #สำหรับตัวแปร c ในตัวหนังสือ \n",
        "        if c in ('A', 'E', 'I', 'O', 'U', 'a', 'e', 'i', 'o', 'u'):\n",
        "            vowel = vowel + 1\n",
        "    return vowel\n",
        "\n",
        "def area(width, height): #กำหนดให้ฟังด์ชั่น พื้นที่ มีด้านกว้างและด้านยาว \n",
        "    c = width * height\n",
        "    return c\n",
        "\n",
        "# calling functions\n",
        "hello('Danny')\n",
        "hello('Mateo')\n",
        "print('Vowel in string = %d' % count_vowel('marcuscode.com')) #นับสระจากคำในวงเล็บ\n",
        "print('Vowel in string = %d' % count_vowel('Python'))\n",
        "print('Area = %d' % area(8, 4))"
      ],
      "metadata": {
        "colab": {
          "base_uri": "https://localhost:8080/"
        },
        "id": "yoJYIvks3rkS",
        "outputId": "6e07801a-b279-413e-fd87-848d1508dea7"
      },
      "execution_count": null,
      "outputs": [
        {
          "output_type": "stream",
          "name": "stdout",
          "text": [
            "Hello Danny\n",
            "Hello Mateo\n",
            "Vowel in string = 5\n",
            "Vowel in string = 1\n",
            "Area = 32\n"
          ]
        }
      ]
    },
    {
      "cell_type": "code",
      "source": [
        "def sign(x): #สัญลักษณ์\n",
        "    if x > 0:\n",
        "        return 'positive'\n",
        "    elif x < 0:\n",
        "        return 'negative'\n",
        "    else: #อื่นๆที่มากกว่าหรือน้อยกว่า 0 คือ เท่ากับ 0\n",
        "        return 'zero'\n",
        "\n",
        "for x in [-1, 0, 1,5,6,8,0]:\n",
        "    print(sign(x))\n",
        "# พิมพ์ \"negative\", \"zero\", \"positive\""
      ],
      "metadata": {
        "colab": {
          "base_uri": "https://localhost:8080/"
        },
        "id": "kruqjZDx5kla",
        "outputId": "12e1bd5b-ae6e-4879-ad60-8da470fa2cfb"
      },
      "execution_count": null,
      "outputs": [
        {
          "output_type": "stream",
          "name": "stdout",
          "text": [
            "negative\n",
            "zero\n",
            "positive\n",
            "positive\n",
            "positive\n",
            "positive\n",
            "zero\n"
          ]
        }
      ]
    },
    {
      "cell_type": "code",
      "source": [
        "def hello(name, loud=False):\n",
        "    if loud:\n",
        "        print('HELLO, %s!' % name.upper())\n",
        "    else:\n",
        "        print('Hello, %s' % name)\n",
        "\n",
        "hello('Bob') # พิมพ์ \"Hello, Bob\"\n",
        "hello('Fred', loud=True)  # พิมพ์ \"HELLO, FRED!\""
      ],
      "metadata": {
        "colab": {
          "base_uri": "https://localhost:8080/"
        },
        "id": "g647BH1e7xff",
        "outputId": "2418d91a-a532-48c1-90c8-aefba6099238"
      },
      "execution_count": null,
      "outputs": [
        {
          "output_type": "stream",
          "name": "stdout",
          "text": [
            "Hello, Bob\n",
            "HELLO, FRED!\n"
          ]
        }
      ]
    },
    {
      "cell_type": "code",
      "source": [],
      "metadata": {
        "id": "CtHZP0GZ98Dj"
      },
      "execution_count": null,
      "outputs": []
    },
    {
      "cell_type": "markdown",
      "source": [
        "## looping condition"
      ],
      "metadata": {
        "id": "CIOWKz50-P_s"
      }
    },
    {
      "cell_type": "code",
      "source": [
        "data = int(input(\"ใส่เลขที่ต้องการ: \"))\n",
        "digit = 3\n",
        "if data == digit:\n",
        "    print (\"เท่ากัน\",end=\"\")\n",
        "elif data < digit:\n",
        "    print(\"น้อยกว่า\",end=\"\")\n",
        "else:\n",
        "    print (\"ผิดนะจ๊ะ\",end=\"\")"
      ],
      "metadata": {
        "colab": {
          "base_uri": "https://localhost:8080/"
        },
        "id": "4Sx8-eX--RJN",
        "outputId": "20771a9e-3165-4115-b86e-5767614bba08"
      },
      "execution_count": null,
      "outputs": [
        {
          "output_type": "stream",
          "name": "stdout",
          "text": [
            "ใส่เลขที่ต้องการ: 50\n",
            "ผิดนะจ๊ะ"
          ]
        }
      ]
    },
    {
      "cell_type": "code",
      "source": [
        "#คำสั่ง for loop สามารถเขียนได้รูปแบบดังนี้\n",
        "\n",
        "i = 0\n",
        "for i in range(7): #เรียงลำดับไป7\n",
        "   print (i,\"eiei\",end=\"   \")"
      ],
      "metadata": {
        "colab": {
          "base_uri": "https://localhost:8080/"
        },
        "id": "GnbK1PhY-mXY",
        "outputId": "a9ad6adb-07f4-44d9-a5ec-f38ace39f254"
      },
      "execution_count": null,
      "outputs": [
        {
          "output_type": "stream",
          "name": "stdout",
          "text": [
            "0 eiei   1 eiei   2 eiei   3 eiei   4 eiei   5 eiei   6 eiei   "
          ]
        }
      ]
    },
    {
      "cell_type": "code",
      "source": [
        "\t\n",
        "for x in 'HelloWorld': print (x)"
      ],
      "metadata": {
        "colab": {
          "base_uri": "https://localhost:8080/"
        },
        "id": "TMmNTGg7-8E9",
        "outputId": "19ac5efc-92ef-486f-b6a0-676c23d9d746"
      },
      "execution_count": null,
      "outputs": [
        {
          "output_type": "stream",
          "name": "stdout",
          "text": [
            "H\n",
            "e\n",
            "l\n",
            "l\n",
            "o\n",
            "W\n",
            "o\n",
            "r\n",
            "l\n",
            "d\n"
          ]
        }
      ]
    },
    {
      "cell_type": "code",
      "source": [
        "\n",
        "interval = 0\n",
        "while (interval <=10):\n",
        "    print (\"count:\", interval)\n",
        "    interval = interval+2 #ทีละ 2"
      ],
      "metadata": {
        "colab": {
          "base_uri": "https://localhost:8080/"
        },
        "id": "Srbq0ws-_W8x",
        "outputId": "276cfbb0-ff29-4655-8883-bc624d7f7f31"
      },
      "execution_count": null,
      "outputs": [
        {
          "output_type": "stream",
          "name": "stdout",
          "text": [
            "count: 0\n",
            "count: 2\n",
            "count: 4\n",
            "count: 6\n",
            "count: 8\n",
            "count: 10\n"
          ]
        }
      ]
    },
    {
      "cell_type": "code",
      "source": [],
      "metadata": {
        "id": "ca9EUAz4_Z35"
      },
      "execution_count": null,
      "outputs": []
    },
    {
      "cell_type": "markdown",
      "source": [
        "##pandas: read_csv , head() , tail() .indexing\n",
        "Panel Data (ชุดข้อมูลหลายมิติ)"
      ],
      "metadata": {
        "id": "U-umEYqHAsXJ"
      }
    },
    {
      "cell_type": "markdown",
      "source": [
        "1. การอ่านไฟล์ CSV .read_csv(‘ชื่อไฟล์.csv’)\n",
        "2. .head(‘จำนวน row ที่อยากได้ออกมาแสดงนับจากแถวบนสุด’)\n",
        "3..tail(‘จำนวน row ที่อยากได้ออกมาแสดงนับจากแถวล่างสุด’) การดูข้อมูลจากแถวล่างสุด \n",
        "4. .describe() =การหาค่า (count, mean ,std ,min ,25% ,50% ,75%, max)ของข้อมูลแต่ละ column\n",
        "5. categories() categories นั้นจะไม่นับตัวซ้ำว่าเป็นอีก 1 categories\n",
        "6. .DataFrame(ตัวแปร dict) การสร้าง Dataframe สามารถทำได้ด้วยคำสั่ง\n",
        "7. .isnull() = วิธีเช็คข้อมูล ที่เป็น Null\n",
        "8. .notnull() วิธีเช็คข้อมูล ที่ไม่เป็นเป็น Null\n",
        "9. .unique()= การหาค่าข้อมูลที่ไม่ซ้ำกันในแต่ละ column\n",
        "10. .duplicated()= การหาข้อมูลที่ซ้ำในตาราง\n",
        "\n",
        "\n",
        "\n",
        "\n",
        "\n"
      ],
      "metadata": {
        "id": "MioRqHBNBT8d"
      }
    },
    {
      "cell_type": "code",
      "source": [
        "#วิธีการใช้งาน Pandas คือ โหลดไฟล์ข้อมูล เช่น CSV เข้าไป \n",
        "##แล้วเราจะได้ข้อมูลในรูปแบบตาราง (DataFrame) \n",
        "#ที่แบ่งข้อมูลตามแถวและคอลัมน์ หรือเหมือน Excel ที่เราใช้กันนั่นเอง"
      ],
      "metadata": {
        "id": "yx3lrkmtBcze"
      },
      "execution_count": null,
      "outputs": []
    },
    {
      "cell_type": "code",
      "source": [
        "#วิธีการโหลดไฟล์ CSV (Import)\n",
        "#Upload to data colab\n",
        "#data0=pd.read_csv('/content/opendata_project.csv')\n",
        "#สามารถอินพุทเหมือนวิธีต่างๆได้ เช่น แบบโปรแกรมR นำเข้า\n",
        "#วิธีนี้ชั่วคราวเพราะมันต้องอัพโหลดเครื่องต่อเครื่อง ผ่านกกด ดีสุด\n",
        "# link with ggdrive\n",
        "#เพื่อความชัวร์รันตอนไหนก็มีไฟล์\n",
        "#วิธีเชื่อมก้คือ data1=pd.read_csv('/content/drive/MyDrive/BPDV65/opendata_unittype.csv')\n",
        "# data1.head() \n"
      ],
      "metadata": {
        "id": "grr0PQJgC768"
      },
      "execution_count": null,
      "outputs": []
    },
    {
      "cell_type": "code",
      "source": [
        "#วิธีเช็คจำนวนแถว และจำนวนคอลัมน์\n",
        "#data1.shape #แถวคูณหลัก ตามเมทริก rowsxcolumns\n",
        "#data1.head(10) #ถ้าใส่หลังวงเล็บจะแสดง10แถว เพราะddefault เป็น5"
      ],
      "metadata": {
        "id": "SYraQxQrDIwb"
      },
      "execution_count": null,
      "outputs": []
    },
    {
      "cell_type": "markdown",
      "source": [
        "explore data\n",
        "\n",
        "---\n",
        "data1.describe()\n"
      ],
      "metadata": {
        "id": "jbdH5oDYE4-a"
      }
    },
    {
      "cell_type": "markdown",
      "source": [
        "**linkwith google drive**"
      ],
      "metadata": {
        "id": "6LS2jlEaFexk"
      }
    },
    {
      "cell_type": "code",
      "source": [
        "import pandas as pd"
      ],
      "metadata": {
        "id": "L2P1gOZXFOcq"
      },
      "execution_count": null,
      "outputs": []
    },
    {
      "cell_type": "code",
      "source": [
        "from google.colab import drive\n",
        "drive.mount('/content/drive')\n",
        "data1=pd.read_csv('/content/drive/MyDrive/BPDV65/opendata_unittype.csv')\n",
        "data1.head()"
      ],
      "metadata": {
        "colab": {
          "base_uri": "https://localhost:8080/",
          "height": 439
        },
        "id": "2fXmK1EEFEC9",
        "outputId": "757cc983-c8d5-4ae1-bef3-d76a780cf04f"
      },
      "execution_count": null,
      "outputs": [
        {
          "output_type": "stream",
          "name": "stdout",
          "text": [
            "Drive already mounted at /content/drive; to attempt to forcibly remount, call drive.mount(\"/content/drive\", force_remount=True).\n"
          ]
        },
        {
          "output_type": "execute_result",
          "data": {
            "text/plain": [
              "   row_number     unittype_id    project_id             name_th  \\\n",
              "0       27501   unittype_9565  project_2446           2 Bedroom   \n",
              "1       28777  unittype_10267  project_3543  บ้านแฝดสองชั้น Z-2   \n",
              "2       28865    unittype_471   project_143    1 Bedroom Type B   \n",
              "3       24988  unittype_19506  project_7766    Studio Floor 1-2   \n",
              "4       38596  unittype_10290  project_3551                TH 3   \n",
              "\n",
              "   propertytype_id propertytype_name_en propertytype_name_th  \\\n",
              "0                2                Condo                คอนโด   \n",
              "1            20000           Twin house              บ้านแฝด   \n",
              "2                2                Condo                คอนโด   \n",
              "3                2                Condo                คอนโด   \n",
              "4                3             Townhome             ทาวน์โฮม   \n",
              "\n",
              "   area_total_min_wa  area_usable_min  price_min  ...  count_room_guest  \\\n",
              "0                NaN             37.3  2500000.0  ...               1.0   \n",
              "1               40.0            150.0  2390000.0  ...               NaN   \n",
              "2                NaN             28.0        NaN  ...               NaN   \n",
              "3                NaN             27.0   170000.0  ...               NaN   \n",
              "4                NaN            182.0  2390000.0  ...               1.0   \n",
              "\n",
              "   count_room_kitchen  count_room_living  count_room_maid  count_room_storage  \\\n",
              "0                 1.0                NaN              NaN                 NaN   \n",
              "1                 NaN                NaN              NaN                 NaN   \n",
              "2                 NaN                NaN              NaN                 NaN   \n",
              "3                 NaN                NaN              NaN                 NaN   \n",
              "4                 1.0                NaN              NaN                 2.0   \n",
              "\n",
              "   count_room_utility         date_created         date_updated  source  \\\n",
              "0                 NaN  2021-11-19 18:00:09  2021-11-19 17:44:45  baania   \n",
              "1                 NaN  2022-01-27 14:30:04  2022-01-27 14:22:55  baania   \n",
              "2                 NaN  2022-01-14 15:00:10  2022-01-14 14:40:04  baania   \n",
              "3                 NaN  2020-12-04 10:40:59  2020-10-14 01:06:48  baania   \n",
              "4                 NaN  2021-11-12 13:30:08  2021-02-03 12:12:54  baania   \n",
              "\n",
              "                                        url_unittype  \n",
              "0  https://baania.com/th/project/เฟ-ลิค-คอนโด-ลาด...  \n",
              "1  https://baania.com/th/project/เซน-บาย-ศิวาลัย-...  \n",
              "2  https://baania.com/th/project/วันพลัส-นายน์ทีน...  \n",
              "3  https://baania.com/th/project/บ้านสวนชมน้ำ-776...  \n",
              "4  https://baania.com/th/project/เบล็สทาวน์-ศรีนค...  \n",
              "\n",
              "[5 rows x 27 columns]"
            ],
            "text/html": [
              "\n",
              "  <div id=\"df-9d057726-4539-401a-a2f1-83aa95b211b9\">\n",
              "    <div class=\"colab-df-container\">\n",
              "      <div>\n",
              "<style scoped>\n",
              "    .dataframe tbody tr th:only-of-type {\n",
              "        vertical-align: middle;\n",
              "    }\n",
              "\n",
              "    .dataframe tbody tr th {\n",
              "        vertical-align: top;\n",
              "    }\n",
              "\n",
              "    .dataframe thead th {\n",
              "        text-align: right;\n",
              "    }\n",
              "</style>\n",
              "<table border=\"1\" class=\"dataframe\">\n",
              "  <thead>\n",
              "    <tr style=\"text-align: right;\">\n",
              "      <th></th>\n",
              "      <th>row_number</th>\n",
              "      <th>unittype_id</th>\n",
              "      <th>project_id</th>\n",
              "      <th>name_th</th>\n",
              "      <th>propertytype_id</th>\n",
              "      <th>propertytype_name_en</th>\n",
              "      <th>propertytype_name_th</th>\n",
              "      <th>area_total_min_wa</th>\n",
              "      <th>area_usable_min</th>\n",
              "      <th>price_min</th>\n",
              "      <th>...</th>\n",
              "      <th>count_room_guest</th>\n",
              "      <th>count_room_kitchen</th>\n",
              "      <th>count_room_living</th>\n",
              "      <th>count_room_maid</th>\n",
              "      <th>count_room_storage</th>\n",
              "      <th>count_room_utility</th>\n",
              "      <th>date_created</th>\n",
              "      <th>date_updated</th>\n",
              "      <th>source</th>\n",
              "      <th>url_unittype</th>\n",
              "    </tr>\n",
              "  </thead>\n",
              "  <tbody>\n",
              "    <tr>\n",
              "      <th>0</th>\n",
              "      <td>27501</td>\n",
              "      <td>unittype_9565</td>\n",
              "      <td>project_2446</td>\n",
              "      <td>2 Bedroom</td>\n",
              "      <td>2</td>\n",
              "      <td>Condo</td>\n",
              "      <td>คอนโด</td>\n",
              "      <td>NaN</td>\n",
              "      <td>37.3</td>\n",
              "      <td>2500000.0</td>\n",
              "      <td>...</td>\n",
              "      <td>1.0</td>\n",
              "      <td>1.0</td>\n",
              "      <td>NaN</td>\n",
              "      <td>NaN</td>\n",
              "      <td>NaN</td>\n",
              "      <td>NaN</td>\n",
              "      <td>2021-11-19 18:00:09</td>\n",
              "      <td>2021-11-19 17:44:45</td>\n",
              "      <td>baania</td>\n",
              "      <td>https://baania.com/th/project/เฟ-ลิค-คอนโด-ลาด...</td>\n",
              "    </tr>\n",
              "    <tr>\n",
              "      <th>1</th>\n",
              "      <td>28777</td>\n",
              "      <td>unittype_10267</td>\n",
              "      <td>project_3543</td>\n",
              "      <td>บ้านแฝดสองชั้น Z-2</td>\n",
              "      <td>20000</td>\n",
              "      <td>Twin house</td>\n",
              "      <td>บ้านแฝด</td>\n",
              "      <td>40.0</td>\n",
              "      <td>150.0</td>\n",
              "      <td>2390000.0</td>\n",
              "      <td>...</td>\n",
              "      <td>NaN</td>\n",
              "      <td>NaN</td>\n",
              "      <td>NaN</td>\n",
              "      <td>NaN</td>\n",
              "      <td>NaN</td>\n",
              "      <td>NaN</td>\n",
              "      <td>2022-01-27 14:30:04</td>\n",
              "      <td>2022-01-27 14:22:55</td>\n",
              "      <td>baania</td>\n",
              "      <td>https://baania.com/th/project/เซน-บาย-ศิวาลัย-...</td>\n",
              "    </tr>\n",
              "    <tr>\n",
              "      <th>2</th>\n",
              "      <td>28865</td>\n",
              "      <td>unittype_471</td>\n",
              "      <td>project_143</td>\n",
              "      <td>1 Bedroom Type B</td>\n",
              "      <td>2</td>\n",
              "      <td>Condo</td>\n",
              "      <td>คอนโด</td>\n",
              "      <td>NaN</td>\n",
              "      <td>28.0</td>\n",
              "      <td>NaN</td>\n",
              "      <td>...</td>\n",
              "      <td>NaN</td>\n",
              "      <td>NaN</td>\n",
              "      <td>NaN</td>\n",
              "      <td>NaN</td>\n",
              "      <td>NaN</td>\n",
              "      <td>NaN</td>\n",
              "      <td>2022-01-14 15:00:10</td>\n",
              "      <td>2022-01-14 14:40:04</td>\n",
              "      <td>baania</td>\n",
              "      <td>https://baania.com/th/project/วันพลัส-นายน์ทีน...</td>\n",
              "    </tr>\n",
              "    <tr>\n",
              "      <th>3</th>\n",
              "      <td>24988</td>\n",
              "      <td>unittype_19506</td>\n",
              "      <td>project_7766</td>\n",
              "      <td>Studio Floor 1-2</td>\n",
              "      <td>2</td>\n",
              "      <td>Condo</td>\n",
              "      <td>คอนโด</td>\n",
              "      <td>NaN</td>\n",
              "      <td>27.0</td>\n",
              "      <td>170000.0</td>\n",
              "      <td>...</td>\n",
              "      <td>NaN</td>\n",
              "      <td>NaN</td>\n",
              "      <td>NaN</td>\n",
              "      <td>NaN</td>\n",
              "      <td>NaN</td>\n",
              "      <td>NaN</td>\n",
              "      <td>2020-12-04 10:40:59</td>\n",
              "      <td>2020-10-14 01:06:48</td>\n",
              "      <td>baania</td>\n",
              "      <td>https://baania.com/th/project/บ้านสวนชมน้ำ-776...</td>\n",
              "    </tr>\n",
              "    <tr>\n",
              "      <th>4</th>\n",
              "      <td>38596</td>\n",
              "      <td>unittype_10290</td>\n",
              "      <td>project_3551</td>\n",
              "      <td>TH 3</td>\n",
              "      <td>3</td>\n",
              "      <td>Townhome</td>\n",
              "      <td>ทาวน์โฮม</td>\n",
              "      <td>NaN</td>\n",
              "      <td>182.0</td>\n",
              "      <td>2390000.0</td>\n",
              "      <td>...</td>\n",
              "      <td>1.0</td>\n",
              "      <td>1.0</td>\n",
              "      <td>NaN</td>\n",
              "      <td>NaN</td>\n",
              "      <td>2.0</td>\n",
              "      <td>NaN</td>\n",
              "      <td>2021-11-12 13:30:08</td>\n",
              "      <td>2021-02-03 12:12:54</td>\n",
              "      <td>baania</td>\n",
              "      <td>https://baania.com/th/project/เบล็สทาวน์-ศรีนค...</td>\n",
              "    </tr>\n",
              "  </tbody>\n",
              "</table>\n",
              "<p>5 rows × 27 columns</p>\n",
              "</div>\n",
              "      <button class=\"colab-df-convert\" onclick=\"convertToInteractive('df-9d057726-4539-401a-a2f1-83aa95b211b9')\"\n",
              "              title=\"Convert this dataframe to an interactive table.\"\n",
              "              style=\"display:none;\">\n",
              "        \n",
              "  <svg xmlns=\"http://www.w3.org/2000/svg\" height=\"24px\"viewBox=\"0 0 24 24\"\n",
              "       width=\"24px\">\n",
              "    <path d=\"M0 0h24v24H0V0z\" fill=\"none\"/>\n",
              "    <path d=\"M18.56 5.44l.94 2.06.94-2.06 2.06-.94-2.06-.94-.94-2.06-.94 2.06-2.06.94zm-11 1L8.5 8.5l.94-2.06 2.06-.94-2.06-.94L8.5 2.5l-.94 2.06-2.06.94zm10 10l.94 2.06.94-2.06 2.06-.94-2.06-.94-.94-2.06-.94 2.06-2.06.94z\"/><path d=\"M17.41 7.96l-1.37-1.37c-.4-.4-.92-.59-1.43-.59-.52 0-1.04.2-1.43.59L10.3 9.45l-7.72 7.72c-.78.78-.78 2.05 0 2.83L4 21.41c.39.39.9.59 1.41.59.51 0 1.02-.2 1.41-.59l7.78-7.78 2.81-2.81c.8-.78.8-2.07 0-2.86zM5.41 20L4 18.59l7.72-7.72 1.47 1.35L5.41 20z\"/>\n",
              "  </svg>\n",
              "      </button>\n",
              "      \n",
              "  <style>\n",
              "    .colab-df-container {\n",
              "      display:flex;\n",
              "      flex-wrap:wrap;\n",
              "      gap: 12px;\n",
              "    }\n",
              "\n",
              "    .colab-df-convert {\n",
              "      background-color: #E8F0FE;\n",
              "      border: none;\n",
              "      border-radius: 50%;\n",
              "      cursor: pointer;\n",
              "      display: none;\n",
              "      fill: #1967D2;\n",
              "      height: 32px;\n",
              "      padding: 0 0 0 0;\n",
              "      width: 32px;\n",
              "    }\n",
              "\n",
              "    .colab-df-convert:hover {\n",
              "      background-color: #E2EBFA;\n",
              "      box-shadow: 0px 1px 2px rgba(60, 64, 67, 0.3), 0px 1px 3px 1px rgba(60, 64, 67, 0.15);\n",
              "      fill: #174EA6;\n",
              "    }\n",
              "\n",
              "    [theme=dark] .colab-df-convert {\n",
              "      background-color: #3B4455;\n",
              "      fill: #D2E3FC;\n",
              "    }\n",
              "\n",
              "    [theme=dark] .colab-df-convert:hover {\n",
              "      background-color: #434B5C;\n",
              "      box-shadow: 0px 1px 3px 1px rgba(0, 0, 0, 0.15);\n",
              "      filter: drop-shadow(0px 1px 2px rgba(0, 0, 0, 0.3));\n",
              "      fill: #FFFFFF;\n",
              "    }\n",
              "  </style>\n",
              "\n",
              "      <script>\n",
              "        const buttonEl =\n",
              "          document.querySelector('#df-9d057726-4539-401a-a2f1-83aa95b211b9 button.colab-df-convert');\n",
              "        buttonEl.style.display =\n",
              "          google.colab.kernel.accessAllowed ? 'block' : 'none';\n",
              "\n",
              "        async function convertToInteractive(key) {\n",
              "          const element = document.querySelector('#df-9d057726-4539-401a-a2f1-83aa95b211b9');\n",
              "          const dataTable =\n",
              "            await google.colab.kernel.invokeFunction('convertToInteractive',\n",
              "                                                     [key], {});\n",
              "          if (!dataTable) return;\n",
              "\n",
              "          const docLinkHtml = 'Like what you see? Visit the ' +\n",
              "            '<a target=\"_blank\" href=https://colab.research.google.com/notebooks/data_table.ipynb>data table notebook</a>'\n",
              "            + ' to learn more about interactive tables.';\n",
              "          element.innerHTML = '';\n",
              "          dataTable['output_type'] = 'display_data';\n",
              "          await google.colab.output.renderOutput(dataTable, element);\n",
              "          const docLink = document.createElement('div');\n",
              "          docLink.innerHTML = docLinkHtml;\n",
              "          element.appendChild(docLink);\n",
              "        }\n",
              "      </script>\n",
              "    </div>\n",
              "  </div>\n",
              "  "
            ]
          },
          "metadata": {},
          "execution_count": 143
        }
      ]
    },
    {
      "cell_type": "markdown",
      "source": [
        "**table slicing**\n",
        "\n",
        "---\n",
        "\n",
        "\n",
        "1.รูปแบบของการ slicing\n",
        "`มี`ตัวเลขที่ต้องระบุ 3 ตัว แต่ละตัวคั่นด้วยเครื่องหมาย colon\n",
        "\n",
        "\n",
        "*   [start:end:step]\n",
        "* หากไม่ระบุตำแหน่ง index ใน start จะถือว่าให้เริ่มตำแหน่งที่ 0 // หากไม่ระบุตำแหน่งใน index ใน end จะถือว่าให้นับไปจนตำแหน่งสุดท้ายของ array\n",
        "*สมาชิกตำแหน่งที่ 0-1 คือ 1,2\n",
        "*ตัวอย่างการระบุค่า step print(arr[0::2])\n",
        "สมาชิกตำแหน่งที่ 0 นับทีละ 2 ไปจนถึงตัวสุดท้าย ได้แก่ 1,3,5,7\n",
        "\n",
        "---\n",
        "\n",
        "\n",
        "\n",
        "---\n",
        "\n",
        "\n",
        "\n",
        "เราสามารถเฉือนตาราง ตัดตารางให้เหลือเท่าที่เราต้องการ แต่ที่การเฉือนตารางไม่ได้ช่วยในการตอบคำถามอะไรมากมาย ถ้าต้องการเรื่องราวที่เป็นคอนโดเท่านั้น แต่ยังไงเราก็ต้องมานับ คอลลัมน์ นับแถว ตามที่ตารางมีให้อยู่ดี\n",
        "\n",
        "\n",
        "\n"
      ],
      "metadata": {
        "id": "s4df6qr2Frs0"
      }
    },
    {
      "cell_type": "code",
      "source": [
        "#การเลือกแถว และ คอลัมน์\n",
        "#การที่จะเลือกแถว และคอลัมน์ นั้นเราจะต้องระบุว่าต้องการจะเลือกข้อมูลที่อยู่ใน แถวอะไร และคอลัมน์อะไร\n",
        "# หรือ Location ที่มีข้อมูลที่ต้องการอยู่นั้นเอง ซึ่งมี 2 วิธี ดังนี้\n",
        "#1. loc : การที่จะใช้ loc นั้น จะต้องระบุชื่อของแถวและ ชื่อของคอลัมน์ลงไปตรงๆ\n",
        "    ## dataframe.loc[‘index_name’ , ‘column_name’]\n",
        "#2.  iloc : การที่จะใช้ iloc นั้นไม่สนใจชื่อ แต่สนใจตำแหน่งของแถว และ ตำแหน่งของคอลัมน์\n",
        "    ##dataframe.iloc[‘row_index_number’ , ‘column_index_number’] "
      ],
      "metadata": {
        "id": "IJxONrhlFGBF"
      },
      "execution_count": null,
      "outputs": []
    },
    {
      "cell_type": "markdown",
      "source": [
        "![1_1C-2_cMi-PUz1Tg5Cscs7A.png](data:image/png;base64,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)"
      ],
      "metadata": {
        "id": "Y7HNaYdtHbZ1"
      }
    },
    {
      "cell_type": "code",
      "source": [
        "#การเลือกแถวและคอลัมน์แบบ Slicing\n",
        "# จะใช้เมื่อต้องการแถวหรือคอลัมน์ที่อยู่ติดๆกันจำนวนมากๆ \n",
        "#เช่นต้องการ 20 คอลัมน์ ที่อยู่ติดๆกัน \n",
        "#จะให้พิมพ์ชื่อคอลัมน์ทั้งหมดก็อาจจะเหนื่อยได้ 5555+ \n",
        "#การทำ slicing นั้นจะตั้งใส่ตำแหน่งที่จะเริ่ม และตำแหน่งสิ้นสุด \n",
        "#โดยจะมี “ : ” อยู่ตรงกลาง ถ้าเราไม่ได้ใส่ตำแหน่งเริ่มต้นไป \n",
        "#สิ่งที่จะได้ออกมาก็คือตำแหน่งแรกสุดของ DataFrame จนถึงตำแหน่งสุดท้ายที่เลือกไว้ \n",
        "#และ ถ้าหากไม่ได้ระบุตำแหน่งสิ้นสุดลงไป สิ่งที่จะได้ออกมาคือตำแหน่งที่เริ่มต้นที่เลือกไว้ จนถึงตำแหน่งสุดท้ายของ DataFrame"
      ],
      "metadata": {
        "id": "_ffSZYyXHWaZ"
      },
      "execution_count": null,
      "outputs": []
    },
    {
      "cell_type": "code",
      "source": [
        "data1.iloc[-20:,7:10]"
      ],
      "metadata": {
        "colab": {
          "base_uri": "https://localhost:8080/",
          "height": 676
        },
        "id": "0y08KVzrH0k2",
        "outputId": "9f57cd58-b077-4c32-b7c3-821bc2cc7192"
      },
      "execution_count": null,
      "outputs": [
        {
          "output_type": "execute_result",
          "data": {
            "text/plain": [
              "       area_total_min_wa  area_usable_min   price_min\n",
              "42605                NaN              NaN   1300000.0\n",
              "42606                NaN            349.0  18000000.0\n",
              "42607                NaN             71.0  17000000.0\n",
              "42608                NaN              NaN         NaN\n",
              "42609                NaN              NaN         NaN\n",
              "42610                NaN            250.0   5990000.0\n",
              "42611                NaN              NaN         NaN\n",
              "42612                NaN            154.0   4800000.0\n",
              "42613               50.0            105.0   1900000.0\n",
              "42614                NaN            142.1   4880000.0\n",
              "42615                NaN             60.0   3500000.0\n",
              "42616                NaN            200.0         NaN\n",
              "42617                NaN              NaN         NaN\n",
              "42618                NaN            130.0  36500000.0\n",
              "42619                NaN            353.0  23590000.0\n",
              "42620                NaN            157.0         NaN\n",
              "42621                NaN            223.0   7490000.0\n",
              "42622                NaN            133.0         NaN\n",
              "42623                NaN            180.0   3200000.0\n",
              "42624                NaN            170.0   3790000.0"
            ],
            "text/html": [
              "\n",
              "  <div id=\"df-fd736694-9ba9-4764-9bbb-8c99f9d4a768\">\n",
              "    <div class=\"colab-df-container\">\n",
              "      <div>\n",
              "<style scoped>\n",
              "    .dataframe tbody tr th:only-of-type {\n",
              "        vertical-align: middle;\n",
              "    }\n",
              "\n",
              "    .dataframe tbody tr th {\n",
              "        vertical-align: top;\n",
              "    }\n",
              "\n",
              "    .dataframe thead th {\n",
              "        text-align: right;\n",
              "    }\n",
              "</style>\n",
              "<table border=\"1\" class=\"dataframe\">\n",
              "  <thead>\n",
              "    <tr style=\"text-align: right;\">\n",
              "      <th></th>\n",
              "      <th>area_total_min_wa</th>\n",
              "      <th>area_usable_min</th>\n",
              "      <th>price_min</th>\n",
              "    </tr>\n",
              "  </thead>\n",
              "  <tbody>\n",
              "    <tr>\n",
              "      <th>42605</th>\n",
              "      <td>NaN</td>\n",
              "      <td>NaN</td>\n",
              "      <td>1300000.0</td>\n",
              "    </tr>\n",
              "    <tr>\n",
              "      <th>42606</th>\n",
              "      <td>NaN</td>\n",
              "      <td>349.0</td>\n",
              "      <td>18000000.0</td>\n",
              "    </tr>\n",
              "    <tr>\n",
              "      <th>42607</th>\n",
              "      <td>NaN</td>\n",
              "      <td>71.0</td>\n",
              "      <td>17000000.0</td>\n",
              "    </tr>\n",
              "    <tr>\n",
              "      <th>42608</th>\n",
              "      <td>NaN</td>\n",
              "      <td>NaN</td>\n",
              "      <td>NaN</td>\n",
              "    </tr>\n",
              "    <tr>\n",
              "      <th>42609</th>\n",
              "      <td>NaN</td>\n",
              "      <td>NaN</td>\n",
              "      <td>NaN</td>\n",
              "    </tr>\n",
              "    <tr>\n",
              "      <th>42610</th>\n",
              "      <td>NaN</td>\n",
              "      <td>250.0</td>\n",
              "      <td>5990000.0</td>\n",
              "    </tr>\n",
              "    <tr>\n",
              "      <th>42611</th>\n",
              "      <td>NaN</td>\n",
              "      <td>NaN</td>\n",
              "      <td>NaN</td>\n",
              "    </tr>\n",
              "    <tr>\n",
              "      <th>42612</th>\n",
              "      <td>NaN</td>\n",
              "      <td>154.0</td>\n",
              "      <td>4800000.0</td>\n",
              "    </tr>\n",
              "    <tr>\n",
              "      <th>42613</th>\n",
              "      <td>50.0</td>\n",
              "      <td>105.0</td>\n",
              "      <td>1900000.0</td>\n",
              "    </tr>\n",
              "    <tr>\n",
              "      <th>42614</th>\n",
              "      <td>NaN</td>\n",
              "      <td>142.1</td>\n",
              "      <td>4880000.0</td>\n",
              "    </tr>\n",
              "    <tr>\n",
              "      <th>42615</th>\n",
              "      <td>NaN</td>\n",
              "      <td>60.0</td>\n",
              "      <td>3500000.0</td>\n",
              "    </tr>\n",
              "    <tr>\n",
              "      <th>42616</th>\n",
              "      <td>NaN</td>\n",
              "      <td>200.0</td>\n",
              "      <td>NaN</td>\n",
              "    </tr>\n",
              "    <tr>\n",
              "      <th>42617</th>\n",
              "      <td>NaN</td>\n",
              "      <td>NaN</td>\n",
              "      <td>NaN</td>\n",
              "    </tr>\n",
              "    <tr>\n",
              "      <th>42618</th>\n",
              "      <td>NaN</td>\n",
              "      <td>130.0</td>\n",
              "      <td>36500000.0</td>\n",
              "    </tr>\n",
              "    <tr>\n",
              "      <th>42619</th>\n",
              "      <td>NaN</td>\n",
              "      <td>353.0</td>\n",
              "      <td>23590000.0</td>\n",
              "    </tr>\n",
              "    <tr>\n",
              "      <th>42620</th>\n",
              "      <td>NaN</td>\n",
              "      <td>157.0</td>\n",
              "      <td>NaN</td>\n",
              "    </tr>\n",
              "    <tr>\n",
              "      <th>42621</th>\n",
              "      <td>NaN</td>\n",
              "      <td>223.0</td>\n",
              "      <td>7490000.0</td>\n",
              "    </tr>\n",
              "    <tr>\n",
              "      <th>42622</th>\n",
              "      <td>NaN</td>\n",
              "      <td>133.0</td>\n",
              "      <td>NaN</td>\n",
              "    </tr>\n",
              "    <tr>\n",
              "      <th>42623</th>\n",
              "      <td>NaN</td>\n",
              "      <td>180.0</td>\n",
              "      <td>3200000.0</td>\n",
              "    </tr>\n",
              "    <tr>\n",
              "      <th>42624</th>\n",
              "      <td>NaN</td>\n",
              "      <td>170.0</td>\n",
              "      <td>3790000.0</td>\n",
              "    </tr>\n",
              "  </tbody>\n",
              "</table>\n",
              "</div>\n",
              "      <button class=\"colab-df-convert\" onclick=\"convertToInteractive('df-fd736694-9ba9-4764-9bbb-8c99f9d4a768')\"\n",
              "              title=\"Convert this dataframe to an interactive table.\"\n",
              "              style=\"display:none;\">\n",
              "        \n",
              "  <svg xmlns=\"http://www.w3.org/2000/svg\" height=\"24px\"viewBox=\"0 0 24 24\"\n",
              "       width=\"24px\">\n",
              "    <path d=\"M0 0h24v24H0V0z\" fill=\"none\"/>\n",
              "    <path d=\"M18.56 5.44l.94 2.06.94-2.06 2.06-.94-2.06-.94-.94-2.06-.94 2.06-2.06.94zm-11 1L8.5 8.5l.94-2.06 2.06-.94-2.06-.94L8.5 2.5l-.94 2.06-2.06.94zm10 10l.94 2.06.94-2.06 2.06-.94-2.06-.94-.94-2.06-.94 2.06-2.06.94z\"/><path d=\"M17.41 7.96l-1.37-1.37c-.4-.4-.92-.59-1.43-.59-.52 0-1.04.2-1.43.59L10.3 9.45l-7.72 7.72c-.78.78-.78 2.05 0 2.83L4 21.41c.39.39.9.59 1.41.59.51 0 1.02-.2 1.41-.59l7.78-7.78 2.81-2.81c.8-.78.8-2.07 0-2.86zM5.41 20L4 18.59l7.72-7.72 1.47 1.35L5.41 20z\"/>\n",
              "  </svg>\n",
              "      </button>\n",
              "      \n",
              "  <style>\n",
              "    .colab-df-container {\n",
              "      display:flex;\n",
              "      flex-wrap:wrap;\n",
              "      gap: 12px;\n",
              "    }\n",
              "\n",
              "    .colab-df-convert {\n",
              "      background-color: #E8F0FE;\n",
              "      border: none;\n",
              "      border-radius: 50%;\n",
              "      cursor: pointer;\n",
              "      display: none;\n",
              "      fill: #1967D2;\n",
              "      height: 32px;\n",
              "      padding: 0 0 0 0;\n",
              "      width: 32px;\n",
              "    }\n",
              "\n",
              "    .colab-df-convert:hover {\n",
              "      background-color: #E2EBFA;\n",
              "      box-shadow: 0px 1px 2px rgba(60, 64, 67, 0.3), 0px 1px 3px 1px rgba(60, 64, 67, 0.15);\n",
              "      fill: #174EA6;\n",
              "    }\n",
              "\n",
              "    [theme=dark] .colab-df-convert {\n",
              "      background-color: #3B4455;\n",
              "      fill: #D2E3FC;\n",
              "    }\n",
              "\n",
              "    [theme=dark] .colab-df-convert:hover {\n",
              "      background-color: #434B5C;\n",
              "      box-shadow: 0px 1px 3px 1px rgba(0, 0, 0, 0.15);\n",
              "      filter: drop-shadow(0px 1px 2px rgba(0, 0, 0, 0.3));\n",
              "      fill: #FFFFFF;\n",
              "    }\n",
              "  </style>\n",
              "\n",
              "      <script>\n",
              "        const buttonEl =\n",
              "          document.querySelector('#df-fd736694-9ba9-4764-9bbb-8c99f9d4a768 button.colab-df-convert');\n",
              "        buttonEl.style.display =\n",
              "          google.colab.kernel.accessAllowed ? 'block' : 'none';\n",
              "\n",
              "        async function convertToInteractive(key) {\n",
              "          const element = document.querySelector('#df-fd736694-9ba9-4764-9bbb-8c99f9d4a768');\n",
              "          const dataTable =\n",
              "            await google.colab.kernel.invokeFunction('convertToInteractive',\n",
              "                                                     [key], {});\n",
              "          if (!dataTable) return;\n",
              "\n",
              "          const docLinkHtml = 'Like what you see? Visit the ' +\n",
              "            '<a target=\"_blank\" href=https://colab.research.google.com/notebooks/data_table.ipynb>data table notebook</a>'\n",
              "            + ' to learn more about interactive tables.';\n",
              "          element.innerHTML = '';\n",
              "          dataTable['output_type'] = 'display_data';\n",
              "          await google.colab.output.renderOutput(dataTable, element);\n",
              "          const docLink = document.createElement('div');\n",
              "          docLink.innerHTML = docLinkHtml;\n",
              "          element.appendChild(docLink);\n",
              "        }\n",
              "      </script>\n",
              "    </div>\n",
              "  </div>\n",
              "  "
            ]
          },
          "metadata": {},
          "execution_count": 146
        }
      ]
    },
    {
      "cell_type": "markdown",
      "source": [
        "ใช้ iloc แบบ slicing![1_QIwJEc3TTuOy6GACMsJ5wg.png](data:image/png;base64,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)\n"
      ],
      "metadata": {
        "id": "mtYCgn7vIMLM"
      }
    },
    {
      "cell_type": "markdown",
      "source": [
        "Row Filtering ***\n",
        "1. .>   มากกว่า\n",
        "2. .>=  มากกว่าหรือเท่ากับ\n",
        "3. <   น้อยกว่า \n",
        "4. =  น้อยกว่าหรือเท่ากับ  \n",
        "5. ==  เท่ากับ\n",
        "6. !=  ไม่เท่ากับ"
      ],
      "metadata": {
        "id": "aiaeDzkNK0LK"
      }
    },
    {
      "cell_type": "markdown",
      "source": [
        "ถ้าจารย์ต้องการข้อมูลของคอนโด\n",
        "data1[data1['propertytype_name_en']=='Condo']\n",
        "\n",
        "---\n",
        "\n",
        "[data1['propertytype_name_en']=='Condo'] #ใส่ฟันหนูเพราะค่าที่ต้องการเป็ฯตัวอักษรภาษาอังกฤษ\n",
        "\n",
        "ค่าในตารางถ้าเท่ากับคอนโดก็จะให้เป็น true ถ้าไม่ใช่ false\n",
        "\n",
        "\n",
        "\n",
        "---\n",
        "อยากได้บ้านที่ราคาเกิน10ล้านมีเท่าไหร่\n",
        "\n",
        "data1[data1['price_min']>10000000]\n",
        "\n",
        "ค่าในตารางถ้าเท่ากับคอนโดก็จะให้เป็น true false\n",
        "\n",
        "\n",
        "---\n",
        "\n",
        "เราสามารถใช้ร่วมกับ .describe\n",
        "\n",
        "data1[data1['price_min']>10000000].describe()\n",
        "\n",
        "---\n",
        "\n"
      ],
      "metadata": {
        "id": "_WYd5UvvMHQi"
      }
    },
    {
      "cell_type": "markdown",
      "source": [
        "##slicing - query\n",
        "***how to slice a dataframe in pandas***\n",
        "\n",
        "1. import pandas as pd\n",
        "2. ประกาศตัวแปร เพื่อเรียกใช้แพนด้า \"data_frame = pd.read_csv(\"name_of_the_file.csv\")\" \n",
        "3. create data frame \n",
        "\n",
        "classes = pd.Series([\"Mathematics\",\"Chemistry\",\"Physics\",\"History\",\"Geography\",\"German\"])\n",
        "\n",
        "grades  = pd.Series([90,54,77,22,25])\n",
        "\n",
        "\n",
        "pd.DataFrame({\"Classes\": classes, \"Grades\": grades}) \n",
        "\n",
        "4.  slicing เลือกแถว เลือกหลัก\n",
        "ทำเหมือน table slicing"
      ],
      "metadata": {
        "id": "UPiTxQngMVIM"
      }
    },
    {
      "cell_type": "code",
      "source": [],
      "metadata": {
        "id": "9D-gS3X54f0_"
      },
      "execution_count": null,
      "outputs": []
    },
    {
      "cell_type": "code",
      "source": [],
      "metadata": {
        "id": "nAL5oKfY14YD"
      },
      "execution_count": null,
      "outputs": []
    },
    {
      "cell_type": "markdown",
      "source": [
        "##missing value"
      ],
      "metadata": {
        "id": "8YJlZjgu4jB9"
      }
    },
    {
      "cell_type": "code",
      "source": [
        "#ตัวอย่าง\n",
        "# importing pandas as pd\n",
        "import pandas as pd\n",
        " \n",
        "# importing numpy as np\n",
        "import numpy as np\n",
        " \n",
        "# dictionary of lists\n",
        "dict = {'First Score':[100, 90, np.nan, 95],\n",
        "        'Second Score': [30, 45, 56, np.nan],\n",
        "        'Third Score':[np.nan, 40, 80, 98]}\n",
        " \n",
        "# creating a dataframe from list\n",
        "df = pd.DataFrame(dict)\n",
        " \n",
        "# using isnull() function \n",
        "df.isnull()"
      ],
      "metadata": {
        "id": "J-48iDpX4lXA",
        "outputId": "fef17583-a059-4594-94f9-bd517233da6b",
        "colab": {
          "base_uri": "https://localhost:8080/",
          "height": 175
        }
      },
      "execution_count": null,
      "outputs": [
        {
          "output_type": "execute_result",
          "data": {
            "text/plain": [
              "   First Score  Second Score  Third Score\n",
              "0        False         False         True\n",
              "1        False         False        False\n",
              "2         True         False        False\n",
              "3        False          True        False"
            ],
            "text/html": [
              "\n",
              "  <div id=\"df-8b4bb6ed-1bf2-4f3a-88cf-48614db4dbfc\">\n",
              "    <div class=\"colab-df-container\">\n",
              "      <div>\n",
              "<style scoped>\n",
              "    .dataframe tbody tr th:only-of-type {\n",
              "        vertical-align: middle;\n",
              "    }\n",
              "\n",
              "    .dataframe tbody tr th {\n",
              "        vertical-align: top;\n",
              "    }\n",
              "\n",
              "    .dataframe thead th {\n",
              "        text-align: right;\n",
              "    }\n",
              "</style>\n",
              "<table border=\"1\" class=\"dataframe\">\n",
              "  <thead>\n",
              "    <tr style=\"text-align: right;\">\n",
              "      <th></th>\n",
              "      <th>First Score</th>\n",
              "      <th>Second Score</th>\n",
              "      <th>Third Score</th>\n",
              "    </tr>\n",
              "  </thead>\n",
              "  <tbody>\n",
              "    <tr>\n",
              "      <th>0</th>\n",
              "      <td>False</td>\n",
              "      <td>False</td>\n",
              "      <td>True</td>\n",
              "    </tr>\n",
              "    <tr>\n",
              "      <th>1</th>\n",
              "      <td>False</td>\n",
              "      <td>False</td>\n",
              "      <td>False</td>\n",
              "    </tr>\n",
              "    <tr>\n",
              "      <th>2</th>\n",
              "      <td>True</td>\n",
              "      <td>False</td>\n",
              "      <td>False</td>\n",
              "    </tr>\n",
              "    <tr>\n",
              "      <th>3</th>\n",
              "      <td>False</td>\n",
              "      <td>True</td>\n",
              "      <td>False</td>\n",
              "    </tr>\n",
              "  </tbody>\n",
              "</table>\n",
              "</div>\n",
              "      <button class=\"colab-df-convert\" onclick=\"convertToInteractive('df-8b4bb6ed-1bf2-4f3a-88cf-48614db4dbfc')\"\n",
              "              title=\"Convert this dataframe to an interactive table.\"\n",
              "              style=\"display:none;\">\n",
              "        \n",
              "  <svg xmlns=\"http://www.w3.org/2000/svg\" height=\"24px\"viewBox=\"0 0 24 24\"\n",
              "       width=\"24px\">\n",
              "    <path d=\"M0 0h24v24H0V0z\" fill=\"none\"/>\n",
              "    <path d=\"M18.56 5.44l.94 2.06.94-2.06 2.06-.94-2.06-.94-.94-2.06-.94 2.06-2.06.94zm-11 1L8.5 8.5l.94-2.06 2.06-.94-2.06-.94L8.5 2.5l-.94 2.06-2.06.94zm10 10l.94 2.06.94-2.06 2.06-.94-2.06-.94-.94-2.06-.94 2.06-2.06.94z\"/><path d=\"M17.41 7.96l-1.37-1.37c-.4-.4-.92-.59-1.43-.59-.52 0-1.04.2-1.43.59L10.3 9.45l-7.72 7.72c-.78.78-.78 2.05 0 2.83L4 21.41c.39.39.9.59 1.41.59.51 0 1.02-.2 1.41-.59l7.78-7.78 2.81-2.81c.8-.78.8-2.07 0-2.86zM5.41 20L4 18.59l7.72-7.72 1.47 1.35L5.41 20z\"/>\n",
              "  </svg>\n",
              "      </button>\n",
              "      \n",
              "  <style>\n",
              "    .colab-df-container {\n",
              "      display:flex;\n",
              "      flex-wrap:wrap;\n",
              "      gap: 12px;\n",
              "    }\n",
              "\n",
              "    .colab-df-convert {\n",
              "      background-color: #E8F0FE;\n",
              "      border: none;\n",
              "      border-radius: 50%;\n",
              "      cursor: pointer;\n",
              "      display: none;\n",
              "      fill: #1967D2;\n",
              "      height: 32px;\n",
              "      padding: 0 0 0 0;\n",
              "      width: 32px;\n",
              "    }\n",
              "\n",
              "    .colab-df-convert:hover {\n",
              "      background-color: #E2EBFA;\n",
              "      box-shadow: 0px 1px 2px rgba(60, 64, 67, 0.3), 0px 1px 3px 1px rgba(60, 64, 67, 0.15);\n",
              "      fill: #174EA6;\n",
              "    }\n",
              "\n",
              "    [theme=dark] .colab-df-convert {\n",
              "      background-color: #3B4455;\n",
              "      fill: #D2E3FC;\n",
              "    }\n",
              "\n",
              "    [theme=dark] .colab-df-convert:hover {\n",
              "      background-color: #434B5C;\n",
              "      box-shadow: 0px 1px 3px 1px rgba(0, 0, 0, 0.15);\n",
              "      filter: drop-shadow(0px 1px 2px rgba(0, 0, 0, 0.3));\n",
              "      fill: #FFFFFF;\n",
              "    }\n",
              "  </style>\n",
              "\n",
              "      <script>\n",
              "        const buttonEl =\n",
              "          document.querySelector('#df-8b4bb6ed-1bf2-4f3a-88cf-48614db4dbfc button.colab-df-convert');\n",
              "        buttonEl.style.display =\n",
              "          google.colab.kernel.accessAllowed ? 'block' : 'none';\n",
              "\n",
              "        async function convertToInteractive(key) {\n",
              "          const element = document.querySelector('#df-8b4bb6ed-1bf2-4f3a-88cf-48614db4dbfc');\n",
              "          const dataTable =\n",
              "            await google.colab.kernel.invokeFunction('convertToInteractive',\n",
              "                                                     [key], {});\n",
              "          if (!dataTable) return;\n",
              "\n",
              "          const docLinkHtml = 'Like what you see? Visit the ' +\n",
              "            '<a target=\"_blank\" href=https://colab.research.google.com/notebooks/data_table.ipynb>data table notebook</a>'\n",
              "            + ' to learn more about interactive tables.';\n",
              "          element.innerHTML = '';\n",
              "          dataTable['output_type'] = 'display_data';\n",
              "          await google.colab.output.renderOutput(dataTable, element);\n",
              "          const docLink = document.createElement('div');\n",
              "          docLink.innerHTML = docLinkHtml;\n",
              "          element.appendChild(docLink);\n",
              "        }\n",
              "      </script>\n",
              "    </div>\n",
              "  </div>\n",
              "  "
            ]
          },
          "metadata": {},
          "execution_count": 17
        }
      ]
    },
    {
      "cell_type": "code",
      "source": [
        "df = pd.DataFrame(dict)\n",
        "df.head()"
      ],
      "metadata": {
        "id": "MtsxH5yd4-G_",
        "outputId": "e0123b15-7891-48ed-9d1a-763ded3bc2b1",
        "colab": {
          "base_uri": "https://localhost:8080/",
          "height": 175
        }
      },
      "execution_count": null,
      "outputs": [
        {
          "output_type": "execute_result",
          "data": {
            "text/plain": [
              "   First Score  Second Score  Third Score\n",
              "0        100.0          30.0          NaN\n",
              "1         90.0          45.0         40.0\n",
              "2          NaN          56.0         80.0\n",
              "3         95.0           NaN         98.0"
            ],
            "text/html": [
              "\n",
              "  <div id=\"df-075eca70-e3f8-4768-a15a-503b90d171e2\">\n",
              "    <div class=\"colab-df-container\">\n",
              "      <div>\n",
              "<style scoped>\n",
              "    .dataframe tbody tr th:only-of-type {\n",
              "        vertical-align: middle;\n",
              "    }\n",
              "\n",
              "    .dataframe tbody tr th {\n",
              "        vertical-align: top;\n",
              "    }\n",
              "\n",
              "    .dataframe thead th {\n",
              "        text-align: right;\n",
              "    }\n",
              "</style>\n",
              "<table border=\"1\" class=\"dataframe\">\n",
              "  <thead>\n",
              "    <tr style=\"text-align: right;\">\n",
              "      <th></th>\n",
              "      <th>First Score</th>\n",
              "      <th>Second Score</th>\n",
              "      <th>Third Score</th>\n",
              "    </tr>\n",
              "  </thead>\n",
              "  <tbody>\n",
              "    <tr>\n",
              "      <th>0</th>\n",
              "      <td>100.0</td>\n",
              "      <td>30.0</td>\n",
              "      <td>NaN</td>\n",
              "    </tr>\n",
              "    <tr>\n",
              "      <th>1</th>\n",
              "      <td>90.0</td>\n",
              "      <td>45.0</td>\n",
              "      <td>40.0</td>\n",
              "    </tr>\n",
              "    <tr>\n",
              "      <th>2</th>\n",
              "      <td>NaN</td>\n",
              "      <td>56.0</td>\n",
              "      <td>80.0</td>\n",
              "    </tr>\n",
              "    <tr>\n",
              "      <th>3</th>\n",
              "      <td>95.0</td>\n",
              "      <td>NaN</td>\n",
              "      <td>98.0</td>\n",
              "    </tr>\n",
              "  </tbody>\n",
              "</table>\n",
              "</div>\n",
              "      <button class=\"colab-df-convert\" onclick=\"convertToInteractive('df-075eca70-e3f8-4768-a15a-503b90d171e2')\"\n",
              "              title=\"Convert this dataframe to an interactive table.\"\n",
              "              style=\"display:none;\">\n",
              "        \n",
              "  <svg xmlns=\"http://www.w3.org/2000/svg\" height=\"24px\"viewBox=\"0 0 24 24\"\n",
              "       width=\"24px\">\n",
              "    <path d=\"M0 0h24v24H0V0z\" fill=\"none\"/>\n",
              "    <path d=\"M18.56 5.44l.94 2.06.94-2.06 2.06-.94-2.06-.94-.94-2.06-.94 2.06-2.06.94zm-11 1L8.5 8.5l.94-2.06 2.06-.94-2.06-.94L8.5 2.5l-.94 2.06-2.06.94zm10 10l.94 2.06.94-2.06 2.06-.94-2.06-.94-.94-2.06-.94 2.06-2.06.94z\"/><path d=\"M17.41 7.96l-1.37-1.37c-.4-.4-.92-.59-1.43-.59-.52 0-1.04.2-1.43.59L10.3 9.45l-7.72 7.72c-.78.78-.78 2.05 0 2.83L4 21.41c.39.39.9.59 1.41.59.51 0 1.02-.2 1.41-.59l7.78-7.78 2.81-2.81c.8-.78.8-2.07 0-2.86zM5.41 20L4 18.59l7.72-7.72 1.47 1.35L5.41 20z\"/>\n",
              "  </svg>\n",
              "      </button>\n",
              "      \n",
              "  <style>\n",
              "    .colab-df-container {\n",
              "      display:flex;\n",
              "      flex-wrap:wrap;\n",
              "      gap: 12px;\n",
              "    }\n",
              "\n",
              "    .colab-df-convert {\n",
              "      background-color: #E8F0FE;\n",
              "      border: none;\n",
              "      border-radius: 50%;\n",
              "      cursor: pointer;\n",
              "      display: none;\n",
              "      fill: #1967D2;\n",
              "      height: 32px;\n",
              "      padding: 0 0 0 0;\n",
              "      width: 32px;\n",
              "    }\n",
              "\n",
              "    .colab-df-convert:hover {\n",
              "      background-color: #E2EBFA;\n",
              "      box-shadow: 0px 1px 2px rgba(60, 64, 67, 0.3), 0px 1px 3px 1px rgba(60, 64, 67, 0.15);\n",
              "      fill: #174EA6;\n",
              "    }\n",
              "\n",
              "    [theme=dark] .colab-df-convert {\n",
              "      background-color: #3B4455;\n",
              "      fill: #D2E3FC;\n",
              "    }\n",
              "\n",
              "    [theme=dark] .colab-df-convert:hover {\n",
              "      background-color: #434B5C;\n",
              "      box-shadow: 0px 1px 3px 1px rgba(0, 0, 0, 0.15);\n",
              "      filter: drop-shadow(0px 1px 2px rgba(0, 0, 0, 0.3));\n",
              "      fill: #FFFFFF;\n",
              "    }\n",
              "  </style>\n",
              "\n",
              "      <script>\n",
              "        const buttonEl =\n",
              "          document.querySelector('#df-075eca70-e3f8-4768-a15a-503b90d171e2 button.colab-df-convert');\n",
              "        buttonEl.style.display =\n",
              "          google.colab.kernel.accessAllowed ? 'block' : 'none';\n",
              "\n",
              "        async function convertToInteractive(key) {\n",
              "          const element = document.querySelector('#df-075eca70-e3f8-4768-a15a-503b90d171e2');\n",
              "          const dataTable =\n",
              "            await google.colab.kernel.invokeFunction('convertToInteractive',\n",
              "                                                     [key], {});\n",
              "          if (!dataTable) return;\n",
              "\n",
              "          const docLinkHtml = 'Like what you see? Visit the ' +\n",
              "            '<a target=\"_blank\" href=https://colab.research.google.com/notebooks/data_table.ipynb>data table notebook</a>'\n",
              "            + ' to learn more about interactive tables.';\n",
              "          element.innerHTML = '';\n",
              "          dataTable['output_type'] = 'display_data';\n",
              "          await google.colab.output.renderOutput(dataTable, element);\n",
              "          const docLink = document.createElement('div');\n",
              "          docLink.innerHTML = docLinkHtml;\n",
              "          element.appendChild(docLink);\n",
              "        }\n",
              "      </script>\n",
              "    </div>\n",
              "  </div>\n",
              "  "
            ]
          },
          "metadata": {},
          "execution_count": 18
        }
      ]
    },
    {
      "cell_type": "code",
      "source": [
        "# importing pandas as pd\n",
        "import pandas as pd\n",
        " \n",
        "# importing numpy as np\n",
        "import numpy as np\n",
        " \n",
        "# dictionary of lists\n",
        "dict = {'First Score':[100, 90, np.nan, 95],\n",
        "        'Second Score': [30, 45, 56, np.nan],\n",
        "        'Third Score':[np.nan, 40, 80, 98]}\n",
        " \n",
        "# creating a dataframe using dictionary\n",
        "df = pd.DataFrame(dict)\n",
        " \n",
        "# using notnull() function\n",
        "df.notnull()"
      ],
      "metadata": {
        "id": "bhec7cZg5GUd",
        "outputId": "c2850671-cc8c-49a5-e82d-0aae6833a622",
        "colab": {
          "base_uri": "https://localhost:8080/",
          "height": 175
        }
      },
      "execution_count": null,
      "outputs": [
        {
          "output_type": "execute_result",
          "data": {
            "text/plain": [
              "   First Score  Second Score  Third Score\n",
              "0         True          True        False\n",
              "1         True          True         True\n",
              "2        False          True         True\n",
              "3         True         False         True"
            ],
            "text/html": [
              "\n",
              "  <div id=\"df-fff5e5e4-0665-44b6-8bb7-7e22f5750bac\">\n",
              "    <div class=\"colab-df-container\">\n",
              "      <div>\n",
              "<style scoped>\n",
              "    .dataframe tbody tr th:only-of-type {\n",
              "        vertical-align: middle;\n",
              "    }\n",
              "\n",
              "    .dataframe tbody tr th {\n",
              "        vertical-align: top;\n",
              "    }\n",
              "\n",
              "    .dataframe thead th {\n",
              "        text-align: right;\n",
              "    }\n",
              "</style>\n",
              "<table border=\"1\" class=\"dataframe\">\n",
              "  <thead>\n",
              "    <tr style=\"text-align: right;\">\n",
              "      <th></th>\n",
              "      <th>First Score</th>\n",
              "      <th>Second Score</th>\n",
              "      <th>Third Score</th>\n",
              "    </tr>\n",
              "  </thead>\n",
              "  <tbody>\n",
              "    <tr>\n",
              "      <th>0</th>\n",
              "      <td>True</td>\n",
              "      <td>True</td>\n",
              "      <td>False</td>\n",
              "    </tr>\n",
              "    <tr>\n",
              "      <th>1</th>\n",
              "      <td>True</td>\n",
              "      <td>True</td>\n",
              "      <td>True</td>\n",
              "    </tr>\n",
              "    <tr>\n",
              "      <th>2</th>\n",
              "      <td>False</td>\n",
              "      <td>True</td>\n",
              "      <td>True</td>\n",
              "    </tr>\n",
              "    <tr>\n",
              "      <th>3</th>\n",
              "      <td>True</td>\n",
              "      <td>False</td>\n",
              "      <td>True</td>\n",
              "    </tr>\n",
              "  </tbody>\n",
              "</table>\n",
              "</div>\n",
              "      <button class=\"colab-df-convert\" onclick=\"convertToInteractive('df-fff5e5e4-0665-44b6-8bb7-7e22f5750bac')\"\n",
              "              title=\"Convert this dataframe to an interactive table.\"\n",
              "              style=\"display:none;\">\n",
              "        \n",
              "  <svg xmlns=\"http://www.w3.org/2000/svg\" height=\"24px\"viewBox=\"0 0 24 24\"\n",
              "       width=\"24px\">\n",
              "    <path d=\"M0 0h24v24H0V0z\" fill=\"none\"/>\n",
              "    <path d=\"M18.56 5.44l.94 2.06.94-2.06 2.06-.94-2.06-.94-.94-2.06-.94 2.06-2.06.94zm-11 1L8.5 8.5l.94-2.06 2.06-.94-2.06-.94L8.5 2.5l-.94 2.06-2.06.94zm10 10l.94 2.06.94-2.06 2.06-.94-2.06-.94-.94-2.06-.94 2.06-2.06.94z\"/><path d=\"M17.41 7.96l-1.37-1.37c-.4-.4-.92-.59-1.43-.59-.52 0-1.04.2-1.43.59L10.3 9.45l-7.72 7.72c-.78.78-.78 2.05 0 2.83L4 21.41c.39.39.9.59 1.41.59.51 0 1.02-.2 1.41-.59l7.78-7.78 2.81-2.81c.8-.78.8-2.07 0-2.86zM5.41 20L4 18.59l7.72-7.72 1.47 1.35L5.41 20z\"/>\n",
              "  </svg>\n",
              "      </button>\n",
              "      \n",
              "  <style>\n",
              "    .colab-df-container {\n",
              "      display:flex;\n",
              "      flex-wrap:wrap;\n",
              "      gap: 12px;\n",
              "    }\n",
              "\n",
              "    .colab-df-convert {\n",
              "      background-color: #E8F0FE;\n",
              "      border: none;\n",
              "      border-radius: 50%;\n",
              "      cursor: pointer;\n",
              "      display: none;\n",
              "      fill: #1967D2;\n",
              "      height: 32px;\n",
              "      padding: 0 0 0 0;\n",
              "      width: 32px;\n",
              "    }\n",
              "\n",
              "    .colab-df-convert:hover {\n",
              "      background-color: #E2EBFA;\n",
              "      box-shadow: 0px 1px 2px rgba(60, 64, 67, 0.3), 0px 1px 3px 1px rgba(60, 64, 67, 0.15);\n",
              "      fill: #174EA6;\n",
              "    }\n",
              "\n",
              "    [theme=dark] .colab-df-convert {\n",
              "      background-color: #3B4455;\n",
              "      fill: #D2E3FC;\n",
              "    }\n",
              "\n",
              "    [theme=dark] .colab-df-convert:hover {\n",
              "      background-color: #434B5C;\n",
              "      box-shadow: 0px 1px 3px 1px rgba(0, 0, 0, 0.15);\n",
              "      filter: drop-shadow(0px 1px 2px rgba(0, 0, 0, 0.3));\n",
              "      fill: #FFFFFF;\n",
              "    }\n",
              "  </style>\n",
              "\n",
              "      <script>\n",
              "        const buttonEl =\n",
              "          document.querySelector('#df-fff5e5e4-0665-44b6-8bb7-7e22f5750bac button.colab-df-convert');\n",
              "        buttonEl.style.display =\n",
              "          google.colab.kernel.accessAllowed ? 'block' : 'none';\n",
              "\n",
              "        async function convertToInteractive(key) {\n",
              "          const element = document.querySelector('#df-fff5e5e4-0665-44b6-8bb7-7e22f5750bac');\n",
              "          const dataTable =\n",
              "            await google.colab.kernel.invokeFunction('convertToInteractive',\n",
              "                                                     [key], {});\n",
              "          if (!dataTable) return;\n",
              "\n",
              "          const docLinkHtml = 'Like what you see? Visit the ' +\n",
              "            '<a target=\"_blank\" href=https://colab.research.google.com/notebooks/data_table.ipynb>data table notebook</a>'\n",
              "            + ' to learn more about interactive tables.';\n",
              "          element.innerHTML = '';\n",
              "          dataTable['output_type'] = 'display_data';\n",
              "          await google.colab.output.renderOutput(dataTable, element);\n",
              "          const docLink = document.createElement('div');\n",
              "          docLink.innerHTML = docLinkHtml;\n",
              "          element.appendChild(docLink);\n",
              "        }\n",
              "      </script>\n",
              "    </div>\n",
              "  </div>\n",
              "  "
            ]
          },
          "metadata": {},
          "execution_count": 20
        }
      ]
    },
    {
      "cell_type": "code",
      "source": [
        "# importing pandas as pd\n",
        "import pandas as pd\n",
        " \n",
        "# importing numpy as np\n",
        "import numpy as np\n",
        " \n",
        "# dictionary of lists\n",
        "dict = {'First Score':[100, 90, np.nan, 95],\n",
        "        'Second Score': [30, 45, 56, np.nan],\n",
        "        'Third Score':[np.nan, 40, 80, 98]}\n",
        " \n",
        "# creating a dataframe from dictionary\n",
        "df = pd.DataFrame(dict)\n",
        " \n",
        "# filling missing value using fillna() \n",
        "df.fillna(0)"
      ],
      "metadata": {
        "id": "RHpWS-Po5meL",
        "outputId": "cc34bd90-0b05-4929-c161-859b132d42f5",
        "colab": {
          "base_uri": "https://localhost:8080/",
          "height": 175
        }
      },
      "execution_count": null,
      "outputs": [
        {
          "output_type": "execute_result",
          "data": {
            "text/plain": [
              "   First Score  Second Score  Third Score\n",
              "0        100.0          30.0          0.0\n",
              "1         90.0          45.0         40.0\n",
              "2          0.0          56.0         80.0\n",
              "3         95.0           0.0         98.0"
            ],
            "text/html": [
              "\n",
              "  <div id=\"df-5e5f4136-cbcf-4552-9559-25ef7d79b7b8\">\n",
              "    <div class=\"colab-df-container\">\n",
              "      <div>\n",
              "<style scoped>\n",
              "    .dataframe tbody tr th:only-of-type {\n",
              "        vertical-align: middle;\n",
              "    }\n",
              "\n",
              "    .dataframe tbody tr th {\n",
              "        vertical-align: top;\n",
              "    }\n",
              "\n",
              "    .dataframe thead th {\n",
              "        text-align: right;\n",
              "    }\n",
              "</style>\n",
              "<table border=\"1\" class=\"dataframe\">\n",
              "  <thead>\n",
              "    <tr style=\"text-align: right;\">\n",
              "      <th></th>\n",
              "      <th>First Score</th>\n",
              "      <th>Second Score</th>\n",
              "      <th>Third Score</th>\n",
              "    </tr>\n",
              "  </thead>\n",
              "  <tbody>\n",
              "    <tr>\n",
              "      <th>0</th>\n",
              "      <td>100.0</td>\n",
              "      <td>30.0</td>\n",
              "      <td>0.0</td>\n",
              "    </tr>\n",
              "    <tr>\n",
              "      <th>1</th>\n",
              "      <td>90.0</td>\n",
              "      <td>45.0</td>\n",
              "      <td>40.0</td>\n",
              "    </tr>\n",
              "    <tr>\n",
              "      <th>2</th>\n",
              "      <td>0.0</td>\n",
              "      <td>56.0</td>\n",
              "      <td>80.0</td>\n",
              "    </tr>\n",
              "    <tr>\n",
              "      <th>3</th>\n",
              "      <td>95.0</td>\n",
              "      <td>0.0</td>\n",
              "      <td>98.0</td>\n",
              "    </tr>\n",
              "  </tbody>\n",
              "</table>\n",
              "</div>\n",
              "      <button class=\"colab-df-convert\" onclick=\"convertToInteractive('df-5e5f4136-cbcf-4552-9559-25ef7d79b7b8')\"\n",
              "              title=\"Convert this dataframe to an interactive table.\"\n",
              "              style=\"display:none;\">\n",
              "        \n",
              "  <svg xmlns=\"http://www.w3.org/2000/svg\" height=\"24px\"viewBox=\"0 0 24 24\"\n",
              "       width=\"24px\">\n",
              "    <path d=\"M0 0h24v24H0V0z\" fill=\"none\"/>\n",
              "    <path d=\"M18.56 5.44l.94 2.06.94-2.06 2.06-.94-2.06-.94-.94-2.06-.94 2.06-2.06.94zm-11 1L8.5 8.5l.94-2.06 2.06-.94-2.06-.94L8.5 2.5l-.94 2.06-2.06.94zm10 10l.94 2.06.94-2.06 2.06-.94-2.06-.94-.94-2.06-.94 2.06-2.06.94z\"/><path d=\"M17.41 7.96l-1.37-1.37c-.4-.4-.92-.59-1.43-.59-.52 0-1.04.2-1.43.59L10.3 9.45l-7.72 7.72c-.78.78-.78 2.05 0 2.83L4 21.41c.39.39.9.59 1.41.59.51 0 1.02-.2 1.41-.59l7.78-7.78 2.81-2.81c.8-.78.8-2.07 0-2.86zM5.41 20L4 18.59l7.72-7.72 1.47 1.35L5.41 20z\"/>\n",
              "  </svg>\n",
              "      </button>\n",
              "      \n",
              "  <style>\n",
              "    .colab-df-container {\n",
              "      display:flex;\n",
              "      flex-wrap:wrap;\n",
              "      gap: 12px;\n",
              "    }\n",
              "\n",
              "    .colab-df-convert {\n",
              "      background-color: #E8F0FE;\n",
              "      border: none;\n",
              "      border-radius: 50%;\n",
              "      cursor: pointer;\n",
              "      display: none;\n",
              "      fill: #1967D2;\n",
              "      height: 32px;\n",
              "      padding: 0 0 0 0;\n",
              "      width: 32px;\n",
              "    }\n",
              "\n",
              "    .colab-df-convert:hover {\n",
              "      background-color: #E2EBFA;\n",
              "      box-shadow: 0px 1px 2px rgba(60, 64, 67, 0.3), 0px 1px 3px 1px rgba(60, 64, 67, 0.15);\n",
              "      fill: #174EA6;\n",
              "    }\n",
              "\n",
              "    [theme=dark] .colab-df-convert {\n",
              "      background-color: #3B4455;\n",
              "      fill: #D2E3FC;\n",
              "    }\n",
              "\n",
              "    [theme=dark] .colab-df-convert:hover {\n",
              "      background-color: #434B5C;\n",
              "      box-shadow: 0px 1px 3px 1px rgba(0, 0, 0, 0.15);\n",
              "      filter: drop-shadow(0px 1px 2px rgba(0, 0, 0, 0.3));\n",
              "      fill: #FFFFFF;\n",
              "    }\n",
              "  </style>\n",
              "\n",
              "      <script>\n",
              "        const buttonEl =\n",
              "          document.querySelector('#df-5e5f4136-cbcf-4552-9559-25ef7d79b7b8 button.colab-df-convert');\n",
              "        buttonEl.style.display =\n",
              "          google.colab.kernel.accessAllowed ? 'block' : 'none';\n",
              "\n",
              "        async function convertToInteractive(key) {\n",
              "          const element = document.querySelector('#df-5e5f4136-cbcf-4552-9559-25ef7d79b7b8');\n",
              "          const dataTable =\n",
              "            await google.colab.kernel.invokeFunction('convertToInteractive',\n",
              "                                                     [key], {});\n",
              "          if (!dataTable) return;\n",
              "\n",
              "          const docLinkHtml = 'Like what you see? Visit the ' +\n",
              "            '<a target=\"_blank\" href=https://colab.research.google.com/notebooks/data_table.ipynb>data table notebook</a>'\n",
              "            + ' to learn more about interactive tables.';\n",
              "          element.innerHTML = '';\n",
              "          dataTable['output_type'] = 'display_data';\n",
              "          await google.colab.output.renderOutput(dataTable, element);\n",
              "          const docLink = document.createElement('div');\n",
              "          docLink.innerHTML = docLinkHtml;\n",
              "          element.appendChild(docLink);\n",
              "        }\n",
              "      </script>\n",
              "    </div>\n",
              "  </div>\n",
              "  "
            ]
          },
          "metadata": {},
          "execution_count": 24
        }
      ]
    },
    {
      "cell_type": "code",
      "source": [
        "# importing pandas as pd\n",
        "import pandas as pd\n",
        " \n",
        "# importing numpy as np\n",
        "import numpy as np\n",
        " \n",
        "# dictionary of lists\n",
        "dict = {'First Score':[100, 90, np.nan, 95],\n",
        "        'Second Score': [30, 45, 56, np.nan],\n",
        "        'Third Score':[np.nan, 40, 80, 98]}\n",
        " \n",
        "# creating a dataframe from dictionary\n",
        "df = pd.DataFrame(dict)\n",
        " \n",
        "# filling a missing value with\n",
        "# previous ones \n",
        "df.fillna(method ='pad') #เติมช่องว่างด้วยอันที่มาก่อน / อันบน "
      ],
      "metadata": {
        "id": "8rpheWlg58et",
        "outputId": "02fefed5-2cd1-4845-de11-cbf57d6e9daa",
        "colab": {
          "base_uri": "https://localhost:8080/",
          "height": 175
        }
      },
      "execution_count": null,
      "outputs": [
        {
          "output_type": "execute_result",
          "data": {
            "text/plain": [
              "   First Score  Second Score  Third Score\n",
              "0        100.0          30.0          NaN\n",
              "1         90.0          45.0         40.0\n",
              "2         90.0          56.0         80.0\n",
              "3         95.0          56.0         98.0"
            ],
            "text/html": [
              "\n",
              "  <div id=\"df-fe3e5867-a17c-4e11-b034-e8485ff33eed\">\n",
              "    <div class=\"colab-df-container\">\n",
              "      <div>\n",
              "<style scoped>\n",
              "    .dataframe tbody tr th:only-of-type {\n",
              "        vertical-align: middle;\n",
              "    }\n",
              "\n",
              "    .dataframe tbody tr th {\n",
              "        vertical-align: top;\n",
              "    }\n",
              "\n",
              "    .dataframe thead th {\n",
              "        text-align: right;\n",
              "    }\n",
              "</style>\n",
              "<table border=\"1\" class=\"dataframe\">\n",
              "  <thead>\n",
              "    <tr style=\"text-align: right;\">\n",
              "      <th></th>\n",
              "      <th>First Score</th>\n",
              "      <th>Second Score</th>\n",
              "      <th>Third Score</th>\n",
              "    </tr>\n",
              "  </thead>\n",
              "  <tbody>\n",
              "    <tr>\n",
              "      <th>0</th>\n",
              "      <td>100.0</td>\n",
              "      <td>30.0</td>\n",
              "      <td>NaN</td>\n",
              "    </tr>\n",
              "    <tr>\n",
              "      <th>1</th>\n",
              "      <td>90.0</td>\n",
              "      <td>45.0</td>\n",
              "      <td>40.0</td>\n",
              "    </tr>\n",
              "    <tr>\n",
              "      <th>2</th>\n",
              "      <td>90.0</td>\n",
              "      <td>56.0</td>\n",
              "      <td>80.0</td>\n",
              "    </tr>\n",
              "    <tr>\n",
              "      <th>3</th>\n",
              "      <td>95.0</td>\n",
              "      <td>56.0</td>\n",
              "      <td>98.0</td>\n",
              "    </tr>\n",
              "  </tbody>\n",
              "</table>\n",
              "</div>\n",
              "      <button class=\"colab-df-convert\" onclick=\"convertToInteractive('df-fe3e5867-a17c-4e11-b034-e8485ff33eed')\"\n",
              "              title=\"Convert this dataframe to an interactive table.\"\n",
              "              style=\"display:none;\">\n",
              "        \n",
              "  <svg xmlns=\"http://www.w3.org/2000/svg\" height=\"24px\"viewBox=\"0 0 24 24\"\n",
              "       width=\"24px\">\n",
              "    <path d=\"M0 0h24v24H0V0z\" fill=\"none\"/>\n",
              "    <path d=\"M18.56 5.44l.94 2.06.94-2.06 2.06-.94-2.06-.94-.94-2.06-.94 2.06-2.06.94zm-11 1L8.5 8.5l.94-2.06 2.06-.94-2.06-.94L8.5 2.5l-.94 2.06-2.06.94zm10 10l.94 2.06.94-2.06 2.06-.94-2.06-.94-.94-2.06-.94 2.06-2.06.94z\"/><path d=\"M17.41 7.96l-1.37-1.37c-.4-.4-.92-.59-1.43-.59-.52 0-1.04.2-1.43.59L10.3 9.45l-7.72 7.72c-.78.78-.78 2.05 0 2.83L4 21.41c.39.39.9.59 1.41.59.51 0 1.02-.2 1.41-.59l7.78-7.78 2.81-2.81c.8-.78.8-2.07 0-2.86zM5.41 20L4 18.59l7.72-7.72 1.47 1.35L5.41 20z\"/>\n",
              "  </svg>\n",
              "      </button>\n",
              "      \n",
              "  <style>\n",
              "    .colab-df-container {\n",
              "      display:flex;\n",
              "      flex-wrap:wrap;\n",
              "      gap: 12px;\n",
              "    }\n",
              "\n",
              "    .colab-df-convert {\n",
              "      background-color: #E8F0FE;\n",
              "      border: none;\n",
              "      border-radius: 50%;\n",
              "      cursor: pointer;\n",
              "      display: none;\n",
              "      fill: #1967D2;\n",
              "      height: 32px;\n",
              "      padding: 0 0 0 0;\n",
              "      width: 32px;\n",
              "    }\n",
              "\n",
              "    .colab-df-convert:hover {\n",
              "      background-color: #E2EBFA;\n",
              "      box-shadow: 0px 1px 2px rgba(60, 64, 67, 0.3), 0px 1px 3px 1px rgba(60, 64, 67, 0.15);\n",
              "      fill: #174EA6;\n",
              "    }\n",
              "\n",
              "    [theme=dark] .colab-df-convert {\n",
              "      background-color: #3B4455;\n",
              "      fill: #D2E3FC;\n",
              "    }\n",
              "\n",
              "    [theme=dark] .colab-df-convert:hover {\n",
              "      background-color: #434B5C;\n",
              "      box-shadow: 0px 1px 3px 1px rgba(0, 0, 0, 0.15);\n",
              "      filter: drop-shadow(0px 1px 2px rgba(0, 0, 0, 0.3));\n",
              "      fill: #FFFFFF;\n",
              "    }\n",
              "  </style>\n",
              "\n",
              "      <script>\n",
              "        const buttonEl =\n",
              "          document.querySelector('#df-fe3e5867-a17c-4e11-b034-e8485ff33eed button.colab-df-convert');\n",
              "        buttonEl.style.display =\n",
              "          google.colab.kernel.accessAllowed ? 'block' : 'none';\n",
              "\n",
              "        async function convertToInteractive(key) {\n",
              "          const element = document.querySelector('#df-fe3e5867-a17c-4e11-b034-e8485ff33eed');\n",
              "          const dataTable =\n",
              "            await google.colab.kernel.invokeFunction('convertToInteractive',\n",
              "                                                     [key], {});\n",
              "          if (!dataTable) return;\n",
              "\n",
              "          const docLinkHtml = 'Like what you see? Visit the ' +\n",
              "            '<a target=\"_blank\" href=https://colab.research.google.com/notebooks/data_table.ipynb>data table notebook</a>'\n",
              "            + ' to learn more about interactive tables.';\n",
              "          element.innerHTML = '';\n",
              "          dataTable['output_type'] = 'display_data';\n",
              "          await google.colab.output.renderOutput(dataTable, element);\n",
              "          const docLink = document.createElement('div');\n",
              "          docLink.innerHTML = docLinkHtml;\n",
              "          element.appendChild(docLink);\n",
              "        }\n",
              "      </script>\n",
              "    </div>\n",
              "  </div>\n",
              "  "
            ]
          },
          "metadata": {},
          "execution_count": 25
        }
      ]
    },
    {
      "cell_type": "code",
      "source": [
        "# importing pandas as pd\n",
        "import pandas as pd\n",
        " \n",
        "# importing numpy as np\n",
        "import numpy as np\n",
        " \n",
        "# dictionary of lists\n",
        "dict = {'First Score':[100, 90, np.nan, 95],\n",
        "        'Second Score': [30, 45, 56, np.nan],\n",
        "        'Third Score':[np.nan, 40, 80, 98]}\n",
        " \n",
        "# creating a dataframe from dictionary\n",
        "df = pd.DataFrame(dict)\n",
        " \n",
        "# filling  null value using fillna() function \n",
        "df.fillna(method ='bfill') #เติมด้วยอันหลัง / อันล่าง "
      ],
      "metadata": {
        "id": "OJl8XKGm6SGl",
        "outputId": "083a90d3-a605-4507-a18d-8822bea88cf4",
        "colab": {
          "base_uri": "https://localhost:8080/",
          "height": 175
        }
      },
      "execution_count": null,
      "outputs": [
        {
          "output_type": "execute_result",
          "data": {
            "text/plain": [
              "   First Score  Second Score  Third Score\n",
              "0        100.0          30.0         40.0\n",
              "1         90.0          45.0         40.0\n",
              "2         95.0          56.0         80.0\n",
              "3         95.0           NaN         98.0"
            ],
            "text/html": [
              "\n",
              "  <div id=\"df-5b4538b0-3649-4c30-8862-8ca49b6df867\">\n",
              "    <div class=\"colab-df-container\">\n",
              "      <div>\n",
              "<style scoped>\n",
              "    .dataframe tbody tr th:only-of-type {\n",
              "        vertical-align: middle;\n",
              "    }\n",
              "\n",
              "    .dataframe tbody tr th {\n",
              "        vertical-align: top;\n",
              "    }\n",
              "\n",
              "    .dataframe thead th {\n",
              "        text-align: right;\n",
              "    }\n",
              "</style>\n",
              "<table border=\"1\" class=\"dataframe\">\n",
              "  <thead>\n",
              "    <tr style=\"text-align: right;\">\n",
              "      <th></th>\n",
              "      <th>First Score</th>\n",
              "      <th>Second Score</th>\n",
              "      <th>Third Score</th>\n",
              "    </tr>\n",
              "  </thead>\n",
              "  <tbody>\n",
              "    <tr>\n",
              "      <th>0</th>\n",
              "      <td>100.0</td>\n",
              "      <td>30.0</td>\n",
              "      <td>40.0</td>\n",
              "    </tr>\n",
              "    <tr>\n",
              "      <th>1</th>\n",
              "      <td>90.0</td>\n",
              "      <td>45.0</td>\n",
              "      <td>40.0</td>\n",
              "    </tr>\n",
              "    <tr>\n",
              "      <th>2</th>\n",
              "      <td>95.0</td>\n",
              "      <td>56.0</td>\n",
              "      <td>80.0</td>\n",
              "    </tr>\n",
              "    <tr>\n",
              "      <th>3</th>\n",
              "      <td>95.0</td>\n",
              "      <td>NaN</td>\n",
              "      <td>98.0</td>\n",
              "    </tr>\n",
              "  </tbody>\n",
              "</table>\n",
              "</div>\n",
              "      <button class=\"colab-df-convert\" onclick=\"convertToInteractive('df-5b4538b0-3649-4c30-8862-8ca49b6df867')\"\n",
              "              title=\"Convert this dataframe to an interactive table.\"\n",
              "              style=\"display:none;\">\n",
              "        \n",
              "  <svg xmlns=\"http://www.w3.org/2000/svg\" height=\"24px\"viewBox=\"0 0 24 24\"\n",
              "       width=\"24px\">\n",
              "    <path d=\"M0 0h24v24H0V0z\" fill=\"none\"/>\n",
              "    <path d=\"M18.56 5.44l.94 2.06.94-2.06 2.06-.94-2.06-.94-.94-2.06-.94 2.06-2.06.94zm-11 1L8.5 8.5l.94-2.06 2.06-.94-2.06-.94L8.5 2.5l-.94 2.06-2.06.94zm10 10l.94 2.06.94-2.06 2.06-.94-2.06-.94-.94-2.06-.94 2.06-2.06.94z\"/><path d=\"M17.41 7.96l-1.37-1.37c-.4-.4-.92-.59-1.43-.59-.52 0-1.04.2-1.43.59L10.3 9.45l-7.72 7.72c-.78.78-.78 2.05 0 2.83L4 21.41c.39.39.9.59 1.41.59.51 0 1.02-.2 1.41-.59l7.78-7.78 2.81-2.81c.8-.78.8-2.07 0-2.86zM5.41 20L4 18.59l7.72-7.72 1.47 1.35L5.41 20z\"/>\n",
              "  </svg>\n",
              "      </button>\n",
              "      \n",
              "  <style>\n",
              "    .colab-df-container {\n",
              "      display:flex;\n",
              "      flex-wrap:wrap;\n",
              "      gap: 12px;\n",
              "    }\n",
              "\n",
              "    .colab-df-convert {\n",
              "      background-color: #E8F0FE;\n",
              "      border: none;\n",
              "      border-radius: 50%;\n",
              "      cursor: pointer;\n",
              "      display: none;\n",
              "      fill: #1967D2;\n",
              "      height: 32px;\n",
              "      padding: 0 0 0 0;\n",
              "      width: 32px;\n",
              "    }\n",
              "\n",
              "    .colab-df-convert:hover {\n",
              "      background-color: #E2EBFA;\n",
              "      box-shadow: 0px 1px 2px rgba(60, 64, 67, 0.3), 0px 1px 3px 1px rgba(60, 64, 67, 0.15);\n",
              "      fill: #174EA6;\n",
              "    }\n",
              "\n",
              "    [theme=dark] .colab-df-convert {\n",
              "      background-color: #3B4455;\n",
              "      fill: #D2E3FC;\n",
              "    }\n",
              "\n",
              "    [theme=dark] .colab-df-convert:hover {\n",
              "      background-color: #434B5C;\n",
              "      box-shadow: 0px 1px 3px 1px rgba(0, 0, 0, 0.15);\n",
              "      filter: drop-shadow(0px 1px 2px rgba(0, 0, 0, 0.3));\n",
              "      fill: #FFFFFF;\n",
              "    }\n",
              "  </style>\n",
              "\n",
              "      <script>\n",
              "        const buttonEl =\n",
              "          document.querySelector('#df-5b4538b0-3649-4c30-8862-8ca49b6df867 button.colab-df-convert');\n",
              "        buttonEl.style.display =\n",
              "          google.colab.kernel.accessAllowed ? 'block' : 'none';\n",
              "\n",
              "        async function convertToInteractive(key) {\n",
              "          const element = document.querySelector('#df-5b4538b0-3649-4c30-8862-8ca49b6df867');\n",
              "          const dataTable =\n",
              "            await google.colab.kernel.invokeFunction('convertToInteractive',\n",
              "                                                     [key], {});\n",
              "          if (!dataTable) return;\n",
              "\n",
              "          const docLinkHtml = 'Like what you see? Visit the ' +\n",
              "            '<a target=\"_blank\" href=https://colab.research.google.com/notebooks/data_table.ipynb>data table notebook</a>'\n",
              "            + ' to learn more about interactive tables.';\n",
              "          element.innerHTML = '';\n",
              "          dataTable['output_type'] = 'display_data';\n",
              "          await google.colab.output.renderOutput(dataTable, element);\n",
              "          const docLink = document.createElement('div');\n",
              "          docLink.innerHTML = docLinkHtml;\n",
              "          element.appendChild(docLink);\n",
              "        }\n",
              "      </script>\n",
              "    </div>\n",
              "  </div>\n",
              "  "
            ]
          },
          "metadata": {},
          "execution_count": 26
        }
      ]
    },
    {
      "cell_type": "code",
      "source": [
        "# will replace  Nan value in dataframe with value -99 \n",
        "# > data.replace(to_replace = np.nan, value = -99)\n",
        "#แทนที่ข้อมูลที่เป็น missing ด้วย -99"
      ],
      "metadata": {
        "id": "hJTS_Ibe6cgL"
      },
      "execution_count": null,
      "outputs": []
    },
    {
      "cell_type": "markdown",
      "source": [
        "Dropping missing values using dropna()\n",
        "ตัดค่า missing ออก ด้วยโค้ด dropna()"
      ],
      "metadata": {
        "id": "cJdoIsOZ77FH"
      }
    },
    {
      "cell_type": "code",
      "source": [
        "# importing pandas as pd\n",
        "import pandas as pd\n",
        " \n",
        "# importing numpy as np\n",
        "import numpy as np\n",
        " \n",
        "# dictionary of lists\n",
        "dict = {'First Score':[100, 90, np.nan, 95],\n",
        "        'Second Score': [30, np.nan, 45, 56],\n",
        "        'Third Score':[52, 40, 80, 98],\n",
        "        'Fourth Score':[np.nan, np.nan, np.nan, 65]}\n",
        " \n",
        "# creating a dataframe from dictionary\n",
        "df = pd.DataFrame(dict)\n",
        "   \n",
        "df"
      ],
      "metadata": {
        "id": "UtWfeG9Y7PxH",
        "outputId": "e1b3deb3-9faa-4b37-e42c-997c23edead7",
        "colab": {
          "base_uri": "https://localhost:8080/",
          "height": 175
        }
      },
      "execution_count": null,
      "outputs": [
        {
          "output_type": "execute_result",
          "data": {
            "text/plain": [
              "   First Score  Second Score  Third Score  Fourth Score\n",
              "0        100.0          30.0           52           NaN\n",
              "1         90.0           NaN           40           NaN\n",
              "2          NaN          45.0           80           NaN\n",
              "3         95.0          56.0           98          65.0"
            ],
            "text/html": [
              "\n",
              "  <div id=\"df-a4d653f6-bf50-46b1-aa3e-d6827c32c043\">\n",
              "    <div class=\"colab-df-container\">\n",
              "      <div>\n",
              "<style scoped>\n",
              "    .dataframe tbody tr th:only-of-type {\n",
              "        vertical-align: middle;\n",
              "    }\n",
              "\n",
              "    .dataframe tbody tr th {\n",
              "        vertical-align: top;\n",
              "    }\n",
              "\n",
              "    .dataframe thead th {\n",
              "        text-align: right;\n",
              "    }\n",
              "</style>\n",
              "<table border=\"1\" class=\"dataframe\">\n",
              "  <thead>\n",
              "    <tr style=\"text-align: right;\">\n",
              "      <th></th>\n",
              "      <th>First Score</th>\n",
              "      <th>Second Score</th>\n",
              "      <th>Third Score</th>\n",
              "      <th>Fourth Score</th>\n",
              "    </tr>\n",
              "  </thead>\n",
              "  <tbody>\n",
              "    <tr>\n",
              "      <th>0</th>\n",
              "      <td>100.0</td>\n",
              "      <td>30.0</td>\n",
              "      <td>52</td>\n",
              "      <td>NaN</td>\n",
              "    </tr>\n",
              "    <tr>\n",
              "      <th>1</th>\n",
              "      <td>90.0</td>\n",
              "      <td>NaN</td>\n",
              "      <td>40</td>\n",
              "      <td>NaN</td>\n",
              "    </tr>\n",
              "    <tr>\n",
              "      <th>2</th>\n",
              "      <td>NaN</td>\n",
              "      <td>45.0</td>\n",
              "      <td>80</td>\n",
              "      <td>NaN</td>\n",
              "    </tr>\n",
              "    <tr>\n",
              "      <th>3</th>\n",
              "      <td>95.0</td>\n",
              "      <td>56.0</td>\n",
              "      <td>98</td>\n",
              "      <td>65.0</td>\n",
              "    </tr>\n",
              "  </tbody>\n",
              "</table>\n",
              "</div>\n",
              "      <button class=\"colab-df-convert\" onclick=\"convertToInteractive('df-a4d653f6-bf50-46b1-aa3e-d6827c32c043')\"\n",
              "              title=\"Convert this dataframe to an interactive table.\"\n",
              "              style=\"display:none;\">\n",
              "        \n",
              "  <svg xmlns=\"http://www.w3.org/2000/svg\" height=\"24px\"viewBox=\"0 0 24 24\"\n",
              "       width=\"24px\">\n",
              "    <path d=\"M0 0h24v24H0V0z\" fill=\"none\"/>\n",
              "    <path d=\"M18.56 5.44l.94 2.06.94-2.06 2.06-.94-2.06-.94-.94-2.06-.94 2.06-2.06.94zm-11 1L8.5 8.5l.94-2.06 2.06-.94-2.06-.94L8.5 2.5l-.94 2.06-2.06.94zm10 10l.94 2.06.94-2.06 2.06-.94-2.06-.94-.94-2.06-.94 2.06-2.06.94z\"/><path d=\"M17.41 7.96l-1.37-1.37c-.4-.4-.92-.59-1.43-.59-.52 0-1.04.2-1.43.59L10.3 9.45l-7.72 7.72c-.78.78-.78 2.05 0 2.83L4 21.41c.39.39.9.59 1.41.59.51 0 1.02-.2 1.41-.59l7.78-7.78 2.81-2.81c.8-.78.8-2.07 0-2.86zM5.41 20L4 18.59l7.72-7.72 1.47 1.35L5.41 20z\"/>\n",
              "  </svg>\n",
              "      </button>\n",
              "      \n",
              "  <style>\n",
              "    .colab-df-container {\n",
              "      display:flex;\n",
              "      flex-wrap:wrap;\n",
              "      gap: 12px;\n",
              "    }\n",
              "\n",
              "    .colab-df-convert {\n",
              "      background-color: #E8F0FE;\n",
              "      border: none;\n",
              "      border-radius: 50%;\n",
              "      cursor: pointer;\n",
              "      display: none;\n",
              "      fill: #1967D2;\n",
              "      height: 32px;\n",
              "      padding: 0 0 0 0;\n",
              "      width: 32px;\n",
              "    }\n",
              "\n",
              "    .colab-df-convert:hover {\n",
              "      background-color: #E2EBFA;\n",
              "      box-shadow: 0px 1px 2px rgba(60, 64, 67, 0.3), 0px 1px 3px 1px rgba(60, 64, 67, 0.15);\n",
              "      fill: #174EA6;\n",
              "    }\n",
              "\n",
              "    [theme=dark] .colab-df-convert {\n",
              "      background-color: #3B4455;\n",
              "      fill: #D2E3FC;\n",
              "    }\n",
              "\n",
              "    [theme=dark] .colab-df-convert:hover {\n",
              "      background-color: #434B5C;\n",
              "      box-shadow: 0px 1px 3px 1px rgba(0, 0, 0, 0.15);\n",
              "      filter: drop-shadow(0px 1px 2px rgba(0, 0, 0, 0.3));\n",
              "      fill: #FFFFFF;\n",
              "    }\n",
              "  </style>\n",
              "\n",
              "      <script>\n",
              "        const buttonEl =\n",
              "          document.querySelector('#df-a4d653f6-bf50-46b1-aa3e-d6827c32c043 button.colab-df-convert');\n",
              "        buttonEl.style.display =\n",
              "          google.colab.kernel.accessAllowed ? 'block' : 'none';\n",
              "\n",
              "        async function convertToInteractive(key) {\n",
              "          const element = document.querySelector('#df-a4d653f6-bf50-46b1-aa3e-d6827c32c043');\n",
              "          const dataTable =\n",
              "            await google.colab.kernel.invokeFunction('convertToInteractive',\n",
              "                                                     [key], {});\n",
              "          if (!dataTable) return;\n",
              "\n",
              "          const docLinkHtml = 'Like what you see? Visit the ' +\n",
              "            '<a target=\"_blank\" href=https://colab.research.google.com/notebooks/data_table.ipynb>data table notebook</a>'\n",
              "            + ' to learn more about interactive tables.';\n",
              "          element.innerHTML = '';\n",
              "          dataTable['output_type'] = 'display_data';\n",
              "          await google.colab.output.renderOutput(dataTable, element);\n",
              "          const docLink = document.createElement('div');\n",
              "          docLink.innerHTML = docLinkHtml;\n",
              "          element.appendChild(docLink);\n",
              "        }\n",
              "      </script>\n",
              "    </div>\n",
              "  </div>\n",
              "  "
            ]
          },
          "metadata": {},
          "execution_count": 33
        }
      ]
    },
    {
      "cell_type": "code",
      "source": [
        "df.dropna(how = 'all') #ตัดเฉพาะแถวที่มี missing  ออกทั้งหมด \n",
        "#เช่น ข้อมูลของนักศึกษาที่ลาออกแล้วเลยไม่มีข้อมูลอยู่ในระบบไม่ว่าจะเป็นเรื่องอะไร"
      ],
      "metadata": {
        "id": "_Q3uqzI88GBh",
        "outputId": "a73a7580-ca39-422b-df6f-48b1f5258990",
        "colab": {
          "base_uri": "https://localhost:8080/",
          "height": 175
        }
      },
      "execution_count": null,
      "outputs": [
        {
          "output_type": "execute_result",
          "data": {
            "text/plain": [
              "   First Score  Second Score  Third Score  Fourth Score\n",
              "0        100.0          30.0           52           NaN\n",
              "1         90.0           NaN           40           NaN\n",
              "2          NaN          45.0           80           NaN\n",
              "3         95.0          56.0           98          65.0"
            ],
            "text/html": [
              "\n",
              "  <div id=\"df-557ead32-14bf-4c23-946c-1b65fb6a163c\">\n",
              "    <div class=\"colab-df-container\">\n",
              "      <div>\n",
              "<style scoped>\n",
              "    .dataframe tbody tr th:only-of-type {\n",
              "        vertical-align: middle;\n",
              "    }\n",
              "\n",
              "    .dataframe tbody tr th {\n",
              "        vertical-align: top;\n",
              "    }\n",
              "\n",
              "    .dataframe thead th {\n",
              "        text-align: right;\n",
              "    }\n",
              "</style>\n",
              "<table border=\"1\" class=\"dataframe\">\n",
              "  <thead>\n",
              "    <tr style=\"text-align: right;\">\n",
              "      <th></th>\n",
              "      <th>First Score</th>\n",
              "      <th>Second Score</th>\n",
              "      <th>Third Score</th>\n",
              "      <th>Fourth Score</th>\n",
              "    </tr>\n",
              "  </thead>\n",
              "  <tbody>\n",
              "    <tr>\n",
              "      <th>0</th>\n",
              "      <td>100.0</td>\n",
              "      <td>30.0</td>\n",
              "      <td>52</td>\n",
              "      <td>NaN</td>\n",
              "    </tr>\n",
              "    <tr>\n",
              "      <th>1</th>\n",
              "      <td>90.0</td>\n",
              "      <td>NaN</td>\n",
              "      <td>40</td>\n",
              "      <td>NaN</td>\n",
              "    </tr>\n",
              "    <tr>\n",
              "      <th>2</th>\n",
              "      <td>NaN</td>\n",
              "      <td>45.0</td>\n",
              "      <td>80</td>\n",
              "      <td>NaN</td>\n",
              "    </tr>\n",
              "    <tr>\n",
              "      <th>3</th>\n",
              "      <td>95.0</td>\n",
              "      <td>56.0</td>\n",
              "      <td>98</td>\n",
              "      <td>65.0</td>\n",
              "    </tr>\n",
              "  </tbody>\n",
              "</table>\n",
              "</div>\n",
              "      <button class=\"colab-df-convert\" onclick=\"convertToInteractive('df-557ead32-14bf-4c23-946c-1b65fb6a163c')\"\n",
              "              title=\"Convert this dataframe to an interactive table.\"\n",
              "              style=\"display:none;\">\n",
              "        \n",
              "  <svg xmlns=\"http://www.w3.org/2000/svg\" height=\"24px\"viewBox=\"0 0 24 24\"\n",
              "       width=\"24px\">\n",
              "    <path d=\"M0 0h24v24H0V0z\" fill=\"none\"/>\n",
              "    <path d=\"M18.56 5.44l.94 2.06.94-2.06 2.06-.94-2.06-.94-.94-2.06-.94 2.06-2.06.94zm-11 1L8.5 8.5l.94-2.06 2.06-.94-2.06-.94L8.5 2.5l-.94 2.06-2.06.94zm10 10l.94 2.06.94-2.06 2.06-.94-2.06-.94-.94-2.06-.94 2.06-2.06.94z\"/><path d=\"M17.41 7.96l-1.37-1.37c-.4-.4-.92-.59-1.43-.59-.52 0-1.04.2-1.43.59L10.3 9.45l-7.72 7.72c-.78.78-.78 2.05 0 2.83L4 21.41c.39.39.9.59 1.41.59.51 0 1.02-.2 1.41-.59l7.78-7.78 2.81-2.81c.8-.78.8-2.07 0-2.86zM5.41 20L4 18.59l7.72-7.72 1.47 1.35L5.41 20z\"/>\n",
              "  </svg>\n",
              "      </button>\n",
              "      \n",
              "  <style>\n",
              "    .colab-df-container {\n",
              "      display:flex;\n",
              "      flex-wrap:wrap;\n",
              "      gap: 12px;\n",
              "    }\n",
              "\n",
              "    .colab-df-convert {\n",
              "      background-color: #E8F0FE;\n",
              "      border: none;\n",
              "      border-radius: 50%;\n",
              "      cursor: pointer;\n",
              "      display: none;\n",
              "      fill: #1967D2;\n",
              "      height: 32px;\n",
              "      padding: 0 0 0 0;\n",
              "      width: 32px;\n",
              "    }\n",
              "\n",
              "    .colab-df-convert:hover {\n",
              "      background-color: #E2EBFA;\n",
              "      box-shadow: 0px 1px 2px rgba(60, 64, 67, 0.3), 0px 1px 3px 1px rgba(60, 64, 67, 0.15);\n",
              "      fill: #174EA6;\n",
              "    }\n",
              "\n",
              "    [theme=dark] .colab-df-convert {\n",
              "      background-color: #3B4455;\n",
              "      fill: #D2E3FC;\n",
              "    }\n",
              "\n",
              "    [theme=dark] .colab-df-convert:hover {\n",
              "      background-color: #434B5C;\n",
              "      box-shadow: 0px 1px 3px 1px rgba(0, 0, 0, 0.15);\n",
              "      filter: drop-shadow(0px 1px 2px rgba(0, 0, 0, 0.3));\n",
              "      fill: #FFFFFF;\n",
              "    }\n",
              "  </style>\n",
              "\n",
              "      <script>\n",
              "        const buttonEl =\n",
              "          document.querySelector('#df-557ead32-14bf-4c23-946c-1b65fb6a163c button.colab-df-convert');\n",
              "        buttonEl.style.display =\n",
              "          google.colab.kernel.accessAllowed ? 'block' : 'none';\n",
              "\n",
              "        async function convertToInteractive(key) {\n",
              "          const element = document.querySelector('#df-557ead32-14bf-4c23-946c-1b65fb6a163c');\n",
              "          const dataTable =\n",
              "            await google.colab.kernel.invokeFunction('convertToInteractive',\n",
              "                                                     [key], {});\n",
              "          if (!dataTable) return;\n",
              "\n",
              "          const docLinkHtml = 'Like what you see? Visit the ' +\n",
              "            '<a target=\"_blank\" href=https://colab.research.google.com/notebooks/data_table.ipynb>data table notebook</a>'\n",
              "            + ' to learn more about interactive tables.';\n",
              "          element.innerHTML = '';\n",
              "          dataTable['output_type'] = 'display_data';\n",
              "          await google.colab.output.renderOutput(dataTable, element);\n",
              "          const docLink = document.createElement('div');\n",
              "          docLink.innerHTML = docLinkHtml;\n",
              "          element.appendChild(docLink);\n",
              "        }\n",
              "      </script>\n",
              "    </div>\n",
              "  </div>\n",
              "  "
            ]
          },
          "metadata": {},
          "execution_count": 41
        }
      ]
    },
    {
      "cell_type": "code",
      "source": [
        "## การเอาแถวออกถ้ามี missing มากกว่า1 df.dropna(axis = 0)\n",
        "df.dropna()\n",
        "#ค่าที่เป็นmissingแม้แต่ตัวเดียวก็จะถูกตัด ในแต่ละแถว"
      ],
      "metadata": {
        "id": "tf7QLOWZ8Cd4",
        "outputId": "116d4958-adbe-43c4-d367-51248d1b977b",
        "colab": {
          "base_uri": "https://localhost:8080/",
          "height": 81
        }
      },
      "execution_count": null,
      "outputs": [
        {
          "output_type": "execute_result",
          "data": {
            "text/plain": [
              "   First Score  Second Score  Third Score  Fourth Score\n",
              "3         95.0          56.0           98          65.0"
            ],
            "text/html": [
              "\n",
              "  <div id=\"df-f00fce53-7b59-4938-aecc-d02b082e9832\">\n",
              "    <div class=\"colab-df-container\">\n",
              "      <div>\n",
              "<style scoped>\n",
              "    .dataframe tbody tr th:only-of-type {\n",
              "        vertical-align: middle;\n",
              "    }\n",
              "\n",
              "    .dataframe tbody tr th {\n",
              "        vertical-align: top;\n",
              "    }\n",
              "\n",
              "    .dataframe thead th {\n",
              "        text-align: right;\n",
              "    }\n",
              "</style>\n",
              "<table border=\"1\" class=\"dataframe\">\n",
              "  <thead>\n",
              "    <tr style=\"text-align: right;\">\n",
              "      <th></th>\n",
              "      <th>First Score</th>\n",
              "      <th>Second Score</th>\n",
              "      <th>Third Score</th>\n",
              "      <th>Fourth Score</th>\n",
              "    </tr>\n",
              "  </thead>\n",
              "  <tbody>\n",
              "    <tr>\n",
              "      <th>3</th>\n",
              "      <td>95.0</td>\n",
              "      <td>56.0</td>\n",
              "      <td>98</td>\n",
              "      <td>65.0</td>\n",
              "    </tr>\n",
              "  </tbody>\n",
              "</table>\n",
              "</div>\n",
              "      <button class=\"colab-df-convert\" onclick=\"convertToInteractive('df-f00fce53-7b59-4938-aecc-d02b082e9832')\"\n",
              "              title=\"Convert this dataframe to an interactive table.\"\n",
              "              style=\"display:none;\">\n",
              "        \n",
              "  <svg xmlns=\"http://www.w3.org/2000/svg\" height=\"24px\"viewBox=\"0 0 24 24\"\n",
              "       width=\"24px\">\n",
              "    <path d=\"M0 0h24v24H0V0z\" fill=\"none\"/>\n",
              "    <path d=\"M18.56 5.44l.94 2.06.94-2.06 2.06-.94-2.06-.94-.94-2.06-.94 2.06-2.06.94zm-11 1L8.5 8.5l.94-2.06 2.06-.94-2.06-.94L8.5 2.5l-.94 2.06-2.06.94zm10 10l.94 2.06.94-2.06 2.06-.94-2.06-.94-.94-2.06-.94 2.06-2.06.94z\"/><path d=\"M17.41 7.96l-1.37-1.37c-.4-.4-.92-.59-1.43-.59-.52 0-1.04.2-1.43.59L10.3 9.45l-7.72 7.72c-.78.78-.78 2.05 0 2.83L4 21.41c.39.39.9.59 1.41.59.51 0 1.02-.2 1.41-.59l7.78-7.78 2.81-2.81c.8-.78.8-2.07 0-2.86zM5.41 20L4 18.59l7.72-7.72 1.47 1.35L5.41 20z\"/>\n",
              "  </svg>\n",
              "      </button>\n",
              "      \n",
              "  <style>\n",
              "    .colab-df-container {\n",
              "      display:flex;\n",
              "      flex-wrap:wrap;\n",
              "      gap: 12px;\n",
              "    }\n",
              "\n",
              "    .colab-df-convert {\n",
              "      background-color: #E8F0FE;\n",
              "      border: none;\n",
              "      border-radius: 50%;\n",
              "      cursor: pointer;\n",
              "      display: none;\n",
              "      fill: #1967D2;\n",
              "      height: 32px;\n",
              "      padding: 0 0 0 0;\n",
              "      width: 32px;\n",
              "    }\n",
              "\n",
              "    .colab-df-convert:hover {\n",
              "      background-color: #E2EBFA;\n",
              "      box-shadow: 0px 1px 2px rgba(60, 64, 67, 0.3), 0px 1px 3px 1px rgba(60, 64, 67, 0.15);\n",
              "      fill: #174EA6;\n",
              "    }\n",
              "\n",
              "    [theme=dark] .colab-df-convert {\n",
              "      background-color: #3B4455;\n",
              "      fill: #D2E3FC;\n",
              "    }\n",
              "\n",
              "    [theme=dark] .colab-df-convert:hover {\n",
              "      background-color: #434B5C;\n",
              "      box-shadow: 0px 1px 3px 1px rgba(0, 0, 0, 0.15);\n",
              "      filter: drop-shadow(0px 1px 2px rgba(0, 0, 0, 0.3));\n",
              "      fill: #FFFFFF;\n",
              "    }\n",
              "  </style>\n",
              "\n",
              "      <script>\n",
              "        const buttonEl =\n",
              "          document.querySelector('#df-f00fce53-7b59-4938-aecc-d02b082e9832 button.colab-df-convert');\n",
              "        buttonEl.style.display =\n",
              "          google.colab.kernel.accessAllowed ? 'block' : 'none';\n",
              "\n",
              "        async function convertToInteractive(key) {\n",
              "          const element = document.querySelector('#df-f00fce53-7b59-4938-aecc-d02b082e9832');\n",
              "          const dataTable =\n",
              "            await google.colab.kernel.invokeFunction('convertToInteractive',\n",
              "                                                     [key], {});\n",
              "          if (!dataTable) return;\n",
              "\n",
              "          const docLinkHtml = 'Like what you see? Visit the ' +\n",
              "            '<a target=\"_blank\" href=https://colab.research.google.com/notebooks/data_table.ipynb>data table notebook</a>'\n",
              "            + ' to learn more about interactive tables.';\n",
              "          element.innerHTML = '';\n",
              "          dataTable['output_type'] = 'display_data';\n",
              "          await google.colab.output.renderOutput(dataTable, element);\n",
              "          const docLink = document.createElement('div');\n",
              "          docLink.innerHTML = docLinkHtml;\n",
              "          element.appendChild(docLink);\n",
              "        }\n",
              "      </script>\n",
              "    </div>\n",
              "  </div>\n",
              "  "
            ]
          },
          "metadata": {},
          "execution_count": 36
        }
      ]
    },
    {
      "cell_type": "code",
      "source": [
        "# การเอาคอลลัมน์ออกถ้ามี missing มากกว่า1\n",
        "df.dropna(axis = 1)"
      ],
      "metadata": {
        "id": "6Uv6jhdj8nZ0",
        "outputId": "94034498-3dd5-463a-aedc-281ab7e54159",
        "colab": {
          "base_uri": "https://localhost:8080/",
          "height": 175
        }
      },
      "execution_count": null,
      "outputs": [
        {
          "output_type": "execute_result",
          "data": {
            "text/plain": [
              "   Third Score\n",
              "0           52\n",
              "1           40\n",
              "2           80\n",
              "3           98"
            ],
            "text/html": [
              "\n",
              "  <div id=\"df-9bf84967-77ca-4333-b6ae-0b8b3257603b\">\n",
              "    <div class=\"colab-df-container\">\n",
              "      <div>\n",
              "<style scoped>\n",
              "    .dataframe tbody tr th:only-of-type {\n",
              "        vertical-align: middle;\n",
              "    }\n",
              "\n",
              "    .dataframe tbody tr th {\n",
              "        vertical-align: top;\n",
              "    }\n",
              "\n",
              "    .dataframe thead th {\n",
              "        text-align: right;\n",
              "    }\n",
              "</style>\n",
              "<table border=\"1\" class=\"dataframe\">\n",
              "  <thead>\n",
              "    <tr style=\"text-align: right;\">\n",
              "      <th></th>\n",
              "      <th>Third Score</th>\n",
              "    </tr>\n",
              "  </thead>\n",
              "  <tbody>\n",
              "    <tr>\n",
              "      <th>0</th>\n",
              "      <td>52</td>\n",
              "    </tr>\n",
              "    <tr>\n",
              "      <th>1</th>\n",
              "      <td>40</td>\n",
              "    </tr>\n",
              "    <tr>\n",
              "      <th>2</th>\n",
              "      <td>80</td>\n",
              "    </tr>\n",
              "    <tr>\n",
              "      <th>3</th>\n",
              "      <td>98</td>\n",
              "    </tr>\n",
              "  </tbody>\n",
              "</table>\n",
              "</div>\n",
              "      <button class=\"colab-df-convert\" onclick=\"convertToInteractive('df-9bf84967-77ca-4333-b6ae-0b8b3257603b')\"\n",
              "              title=\"Convert this dataframe to an interactive table.\"\n",
              "              style=\"display:none;\">\n",
              "        \n",
              "  <svg xmlns=\"http://www.w3.org/2000/svg\" height=\"24px\"viewBox=\"0 0 24 24\"\n",
              "       width=\"24px\">\n",
              "    <path d=\"M0 0h24v24H0V0z\" fill=\"none\"/>\n",
              "    <path d=\"M18.56 5.44l.94 2.06.94-2.06 2.06-.94-2.06-.94-.94-2.06-.94 2.06-2.06.94zm-11 1L8.5 8.5l.94-2.06 2.06-.94-2.06-.94L8.5 2.5l-.94 2.06-2.06.94zm10 10l.94 2.06.94-2.06 2.06-.94-2.06-.94-.94-2.06-.94 2.06-2.06.94z\"/><path d=\"M17.41 7.96l-1.37-1.37c-.4-.4-.92-.59-1.43-.59-.52 0-1.04.2-1.43.59L10.3 9.45l-7.72 7.72c-.78.78-.78 2.05 0 2.83L4 21.41c.39.39.9.59 1.41.59.51 0 1.02-.2 1.41-.59l7.78-7.78 2.81-2.81c.8-.78.8-2.07 0-2.86zM5.41 20L4 18.59l7.72-7.72 1.47 1.35L5.41 20z\"/>\n",
              "  </svg>\n",
              "      </button>\n",
              "      \n",
              "  <style>\n",
              "    .colab-df-container {\n",
              "      display:flex;\n",
              "      flex-wrap:wrap;\n",
              "      gap: 12px;\n",
              "    }\n",
              "\n",
              "    .colab-df-convert {\n",
              "      background-color: #E8F0FE;\n",
              "      border: none;\n",
              "      border-radius: 50%;\n",
              "      cursor: pointer;\n",
              "      display: none;\n",
              "      fill: #1967D2;\n",
              "      height: 32px;\n",
              "      padding: 0 0 0 0;\n",
              "      width: 32px;\n",
              "    }\n",
              "\n",
              "    .colab-df-convert:hover {\n",
              "      background-color: #E2EBFA;\n",
              "      box-shadow: 0px 1px 2px rgba(60, 64, 67, 0.3), 0px 1px 3px 1px rgba(60, 64, 67, 0.15);\n",
              "      fill: #174EA6;\n",
              "    }\n",
              "\n",
              "    [theme=dark] .colab-df-convert {\n",
              "      background-color: #3B4455;\n",
              "      fill: #D2E3FC;\n",
              "    }\n",
              "\n",
              "    [theme=dark] .colab-df-convert:hover {\n",
              "      background-color: #434B5C;\n",
              "      box-shadow: 0px 1px 3px 1px rgba(0, 0, 0, 0.15);\n",
              "      filter: drop-shadow(0px 1px 2px rgba(0, 0, 0, 0.3));\n",
              "      fill: #FFFFFF;\n",
              "    }\n",
              "  </style>\n",
              "\n",
              "      <script>\n",
              "        const buttonEl =\n",
              "          document.querySelector('#df-9bf84967-77ca-4333-b6ae-0b8b3257603b button.colab-df-convert');\n",
              "        buttonEl.style.display =\n",
              "          google.colab.kernel.accessAllowed ? 'block' : 'none';\n",
              "\n",
              "        async function convertToInteractive(key) {\n",
              "          const element = document.querySelector('#df-9bf84967-77ca-4333-b6ae-0b8b3257603b');\n",
              "          const dataTable =\n",
              "            await google.colab.kernel.invokeFunction('convertToInteractive',\n",
              "                                                     [key], {});\n",
              "          if (!dataTable) return;\n",
              "\n",
              "          const docLinkHtml = 'Like what you see? Visit the ' +\n",
              "            '<a target=\"_blank\" href=https://colab.research.google.com/notebooks/data_table.ipynb>data table notebook</a>'\n",
              "            + ' to learn more about interactive tables.';\n",
              "          element.innerHTML = '';\n",
              "          dataTable['output_type'] = 'display_data';\n",
              "          await google.colab.output.renderOutput(dataTable, element);\n",
              "          const docLink = document.createElement('div');\n",
              "          docLink.innerHTML = docLinkHtml;\n",
              "          element.appendChild(docLink);\n",
              "        }\n",
              "      </script>\n",
              "    </div>\n",
              "  </div>\n",
              "  "
            ]
          },
          "metadata": {},
          "execution_count": 40
        }
      ]
    },
    {
      "cell_type": "code",
      "source": [
        "#การเอาแถวออก ถ้ามีค่า null ,มากว่า 1 ตัว\n",
        "#เอาแถวที่เหลือ thresh เท่ากับหรือมากกว่าเลขที่เรากรอกในthresh\n",
        "df.dropna(thresh=3)"
      ],
      "metadata": {
        "id": "dI6OLXx09EaD",
        "outputId": "957c9eba-463d-47cf-a841-99366b6be7ff",
        "colab": {
          "base_uri": "https://localhost:8080/",
          "height": 112
        }
      },
      "execution_count": null,
      "outputs": [
        {
          "output_type": "execute_result",
          "data": {
            "text/plain": [
              "   First Score  Second Score  Third Score  Fourth Score\n",
              "0        100.0          30.0           52           NaN\n",
              "3         95.0          56.0           98          65.0"
            ],
            "text/html": [
              "\n",
              "  <div id=\"df-67127bc2-f99d-447f-b859-babaa1ea6166\">\n",
              "    <div class=\"colab-df-container\">\n",
              "      <div>\n",
              "<style scoped>\n",
              "    .dataframe tbody tr th:only-of-type {\n",
              "        vertical-align: middle;\n",
              "    }\n",
              "\n",
              "    .dataframe tbody tr th {\n",
              "        vertical-align: top;\n",
              "    }\n",
              "\n",
              "    .dataframe thead th {\n",
              "        text-align: right;\n",
              "    }\n",
              "</style>\n",
              "<table border=\"1\" class=\"dataframe\">\n",
              "  <thead>\n",
              "    <tr style=\"text-align: right;\">\n",
              "      <th></th>\n",
              "      <th>First Score</th>\n",
              "      <th>Second Score</th>\n",
              "      <th>Third Score</th>\n",
              "      <th>Fourth Score</th>\n",
              "    </tr>\n",
              "  </thead>\n",
              "  <tbody>\n",
              "    <tr>\n",
              "      <th>0</th>\n",
              "      <td>100.0</td>\n",
              "      <td>30.0</td>\n",
              "      <td>52</td>\n",
              "      <td>NaN</td>\n",
              "    </tr>\n",
              "    <tr>\n",
              "      <th>3</th>\n",
              "      <td>95.0</td>\n",
              "      <td>56.0</td>\n",
              "      <td>98</td>\n",
              "      <td>65.0</td>\n",
              "    </tr>\n",
              "  </tbody>\n",
              "</table>\n",
              "</div>\n",
              "      <button class=\"colab-df-convert\" onclick=\"convertToInteractive('df-67127bc2-f99d-447f-b859-babaa1ea6166')\"\n",
              "              title=\"Convert this dataframe to an interactive table.\"\n",
              "              style=\"display:none;\">\n",
              "        \n",
              "  <svg xmlns=\"http://www.w3.org/2000/svg\" height=\"24px\"viewBox=\"0 0 24 24\"\n",
              "       width=\"24px\">\n",
              "    <path d=\"M0 0h24v24H0V0z\" fill=\"none\"/>\n",
              "    <path d=\"M18.56 5.44l.94 2.06.94-2.06 2.06-.94-2.06-.94-.94-2.06-.94 2.06-2.06.94zm-11 1L8.5 8.5l.94-2.06 2.06-.94-2.06-.94L8.5 2.5l-.94 2.06-2.06.94zm10 10l.94 2.06.94-2.06 2.06-.94-2.06-.94-.94-2.06-.94 2.06-2.06.94z\"/><path d=\"M17.41 7.96l-1.37-1.37c-.4-.4-.92-.59-1.43-.59-.52 0-1.04.2-1.43.59L10.3 9.45l-7.72 7.72c-.78.78-.78 2.05 0 2.83L4 21.41c.39.39.9.59 1.41.59.51 0 1.02-.2 1.41-.59l7.78-7.78 2.81-2.81c.8-.78.8-2.07 0-2.86zM5.41 20L4 18.59l7.72-7.72 1.47 1.35L5.41 20z\"/>\n",
              "  </svg>\n",
              "      </button>\n",
              "      \n",
              "  <style>\n",
              "    .colab-df-container {\n",
              "      display:flex;\n",
              "      flex-wrap:wrap;\n",
              "      gap: 12px;\n",
              "    }\n",
              "\n",
              "    .colab-df-convert {\n",
              "      background-color: #E8F0FE;\n",
              "      border: none;\n",
              "      border-radius: 50%;\n",
              "      cursor: pointer;\n",
              "      display: none;\n",
              "      fill: #1967D2;\n",
              "      height: 32px;\n",
              "      padding: 0 0 0 0;\n",
              "      width: 32px;\n",
              "    }\n",
              "\n",
              "    .colab-df-convert:hover {\n",
              "      background-color: #E2EBFA;\n",
              "      box-shadow: 0px 1px 2px rgba(60, 64, 67, 0.3), 0px 1px 3px 1px rgba(60, 64, 67, 0.15);\n",
              "      fill: #174EA6;\n",
              "    }\n",
              "\n",
              "    [theme=dark] .colab-df-convert {\n",
              "      background-color: #3B4455;\n",
              "      fill: #D2E3FC;\n",
              "    }\n",
              "\n",
              "    [theme=dark] .colab-df-convert:hover {\n",
              "      background-color: #434B5C;\n",
              "      box-shadow: 0px 1px 3px 1px rgba(0, 0, 0, 0.15);\n",
              "      filter: drop-shadow(0px 1px 2px rgba(0, 0, 0, 0.3));\n",
              "      fill: #FFFFFF;\n",
              "    }\n",
              "  </style>\n",
              "\n",
              "      <script>\n",
              "        const buttonEl =\n",
              "          document.querySelector('#df-67127bc2-f99d-447f-b859-babaa1ea6166 button.colab-df-convert');\n",
              "        buttonEl.style.display =\n",
              "          google.colab.kernel.accessAllowed ? 'block' : 'none';\n",
              "\n",
              "        async function convertToInteractive(key) {\n",
              "          const element = document.querySelector('#df-67127bc2-f99d-447f-b859-babaa1ea6166');\n",
              "          const dataTable =\n",
              "            await google.colab.kernel.invokeFunction('convertToInteractive',\n",
              "                                                     [key], {});\n",
              "          if (!dataTable) return;\n",
              "\n",
              "          const docLinkHtml = 'Like what you see? Visit the ' +\n",
              "            '<a target=\"_blank\" href=https://colab.research.google.com/notebooks/data_table.ipynb>data table notebook</a>'\n",
              "            + ' to learn more about interactive tables.';\n",
              "          element.innerHTML = '';\n",
              "          dataTable['output_type'] = 'display_data';\n",
              "          await google.colab.output.renderOutput(dataTable, element);\n",
              "          const docLink = document.createElement('div');\n",
              "          docLink.innerHTML = docLinkHtml;\n",
              "          element.appendChild(docLink);\n",
              "        }\n",
              "      </script>\n",
              "    </div>\n",
              "  </div>\n",
              "  "
            ]
          },
          "metadata": {},
          "execution_count": 48
        }
      ]
    },
    {
      "cell_type": "markdown",
      "source": [
        "วิธีแก้ไข / จัดการ ค่า missing values"
      ],
      "metadata": {
        "id": "PCmh52AD-9Ge"
      }
    },
    {
      "cell_type": "code",
      "source": [
        "import pandas as pd\n",
        "x = [1,2,3,np.nan,np.nan,6,7,8] # สร้าง list ที่มีค่า 1-8 และมี NaN 2 ค่า\n",
        "x= pd.DataFrame(x) # เปลี่ยน x ให้เป็น Dataframe\n",
        "x"
      ],
      "metadata": {
        "id": "1kBh4s_f_CfP",
        "outputId": "f292061d-9ca6-4351-9074-2d822cc4b33d",
        "colab": {
          "base_uri": "https://localhost:8080/",
          "height": 300
        }
      },
      "execution_count": null,
      "outputs": [
        {
          "output_type": "execute_result",
          "data": {
            "text/plain": [
              "     0\n",
              "0  1.0\n",
              "1  2.0\n",
              "2  3.0\n",
              "3  NaN\n",
              "4  NaN\n",
              "5  6.0\n",
              "6  7.0\n",
              "7  8.0"
            ],
            "text/html": [
              "\n",
              "  <div id=\"df-3fd6b40c-4d7a-49b0-a1cb-c2a458802b02\">\n",
              "    <div class=\"colab-df-container\">\n",
              "      <div>\n",
              "<style scoped>\n",
              "    .dataframe tbody tr th:only-of-type {\n",
              "        vertical-align: middle;\n",
              "    }\n",
              "\n",
              "    .dataframe tbody tr th {\n",
              "        vertical-align: top;\n",
              "    }\n",
              "\n",
              "    .dataframe thead th {\n",
              "        text-align: right;\n",
              "    }\n",
              "</style>\n",
              "<table border=\"1\" class=\"dataframe\">\n",
              "  <thead>\n",
              "    <tr style=\"text-align: right;\">\n",
              "      <th></th>\n",
              "      <th>0</th>\n",
              "    </tr>\n",
              "  </thead>\n",
              "  <tbody>\n",
              "    <tr>\n",
              "      <th>0</th>\n",
              "      <td>1.0</td>\n",
              "    </tr>\n",
              "    <tr>\n",
              "      <th>1</th>\n",
              "      <td>2.0</td>\n",
              "    </tr>\n",
              "    <tr>\n",
              "      <th>2</th>\n",
              "      <td>3.0</td>\n",
              "    </tr>\n",
              "    <tr>\n",
              "      <th>3</th>\n",
              "      <td>NaN</td>\n",
              "    </tr>\n",
              "    <tr>\n",
              "      <th>4</th>\n",
              "      <td>NaN</td>\n",
              "    </tr>\n",
              "    <tr>\n",
              "      <th>5</th>\n",
              "      <td>6.0</td>\n",
              "    </tr>\n",
              "    <tr>\n",
              "      <th>6</th>\n",
              "      <td>7.0</td>\n",
              "    </tr>\n",
              "    <tr>\n",
              "      <th>7</th>\n",
              "      <td>8.0</td>\n",
              "    </tr>\n",
              "  </tbody>\n",
              "</table>\n",
              "</div>\n",
              "      <button class=\"colab-df-convert\" onclick=\"convertToInteractive('df-3fd6b40c-4d7a-49b0-a1cb-c2a458802b02')\"\n",
              "              title=\"Convert this dataframe to an interactive table.\"\n",
              "              style=\"display:none;\">\n",
              "        \n",
              "  <svg xmlns=\"http://www.w3.org/2000/svg\" height=\"24px\"viewBox=\"0 0 24 24\"\n",
              "       width=\"24px\">\n",
              "    <path d=\"M0 0h24v24H0V0z\" fill=\"none\"/>\n",
              "    <path d=\"M18.56 5.44l.94 2.06.94-2.06 2.06-.94-2.06-.94-.94-2.06-.94 2.06-2.06.94zm-11 1L8.5 8.5l.94-2.06 2.06-.94-2.06-.94L8.5 2.5l-.94 2.06-2.06.94zm10 10l.94 2.06.94-2.06 2.06-.94-2.06-.94-.94-2.06-.94 2.06-2.06.94z\"/><path d=\"M17.41 7.96l-1.37-1.37c-.4-.4-.92-.59-1.43-.59-.52 0-1.04.2-1.43.59L10.3 9.45l-7.72 7.72c-.78.78-.78 2.05 0 2.83L4 21.41c.39.39.9.59 1.41.59.51 0 1.02-.2 1.41-.59l7.78-7.78 2.81-2.81c.8-.78.8-2.07 0-2.86zM5.41 20L4 18.59l7.72-7.72 1.47 1.35L5.41 20z\"/>\n",
              "  </svg>\n",
              "      </button>\n",
              "      \n",
              "  <style>\n",
              "    .colab-df-container {\n",
              "      display:flex;\n",
              "      flex-wrap:wrap;\n",
              "      gap: 12px;\n",
              "    }\n",
              "\n",
              "    .colab-df-convert {\n",
              "      background-color: #E8F0FE;\n",
              "      border: none;\n",
              "      border-radius: 50%;\n",
              "      cursor: pointer;\n",
              "      display: none;\n",
              "      fill: #1967D2;\n",
              "      height: 32px;\n",
              "      padding: 0 0 0 0;\n",
              "      width: 32px;\n",
              "    }\n",
              "\n",
              "    .colab-df-convert:hover {\n",
              "      background-color: #E2EBFA;\n",
              "      box-shadow: 0px 1px 2px rgba(60, 64, 67, 0.3), 0px 1px 3px 1px rgba(60, 64, 67, 0.15);\n",
              "      fill: #174EA6;\n",
              "    }\n",
              "\n",
              "    [theme=dark] .colab-df-convert {\n",
              "      background-color: #3B4455;\n",
              "      fill: #D2E3FC;\n",
              "    }\n",
              "\n",
              "    [theme=dark] .colab-df-convert:hover {\n",
              "      background-color: #434B5C;\n",
              "      box-shadow: 0px 1px 3px 1px rgba(0, 0, 0, 0.15);\n",
              "      filter: drop-shadow(0px 1px 2px rgba(0, 0, 0, 0.3));\n",
              "      fill: #FFFFFF;\n",
              "    }\n",
              "  </style>\n",
              "\n",
              "      <script>\n",
              "        const buttonEl =\n",
              "          document.querySelector('#df-3fd6b40c-4d7a-49b0-a1cb-c2a458802b02 button.colab-df-convert');\n",
              "        buttonEl.style.display =\n",
              "          google.colab.kernel.accessAllowed ? 'block' : 'none';\n",
              "\n",
              "        async function convertToInteractive(key) {\n",
              "          const element = document.querySelector('#df-3fd6b40c-4d7a-49b0-a1cb-c2a458802b02');\n",
              "          const dataTable =\n",
              "            await google.colab.kernel.invokeFunction('convertToInteractive',\n",
              "                                                     [key], {});\n",
              "          if (!dataTable) return;\n",
              "\n",
              "          const docLinkHtml = 'Like what you see? Visit the ' +\n",
              "            '<a target=\"_blank\" href=https://colab.research.google.com/notebooks/data_table.ipynb>data table notebook</a>'\n",
              "            + ' to learn more about interactive tables.';\n",
              "          element.innerHTML = '';\n",
              "          dataTable['output_type'] = 'display_data';\n",
              "          await google.colab.output.renderOutput(dataTable, element);\n",
              "          const docLink = document.createElement('div');\n",
              "          docLink.innerHTML = docLinkHtml;\n",
              "          element.appendChild(docLink);\n",
              "        }\n",
              "      </script>\n",
              "    </div>\n",
              "  </div>\n",
              "  "
            ]
          },
          "metadata": {},
          "execution_count": 51
        }
      ]
    },
    {
      "cell_type": "code",
      "source": [
        "x.interpolate() #เรียกใช้การ Interpolate \n",
        "#Interpolate เป็น Function ที่มากับ Library Pandas สามารถเรียกใช้งานได้เลย (แต่ต้องใช้กับ Dataframe เท่านั้นนะครับ)"
      ],
      "metadata": {
        "id": "DRSf5PDP_F4W",
        "outputId": "3b271cb1-9c94-4277-cbf3-c22091546632",
        "colab": {
          "base_uri": "https://localhost:8080/",
          "height": 300
        }
      },
      "execution_count": null,
      "outputs": [
        {
          "output_type": "execute_result",
          "data": {
            "text/plain": [
              "     0\n",
              "0  1.0\n",
              "1  2.0\n",
              "2  3.0\n",
              "3  4.0\n",
              "4  5.0\n",
              "5  6.0\n",
              "6  7.0\n",
              "7  8.0"
            ],
            "text/html": [
              "\n",
              "  <div id=\"df-9621570f-b4e2-49d9-ab7c-8e7b12d764da\">\n",
              "    <div class=\"colab-df-container\">\n",
              "      <div>\n",
              "<style scoped>\n",
              "    .dataframe tbody tr th:only-of-type {\n",
              "        vertical-align: middle;\n",
              "    }\n",
              "\n",
              "    .dataframe tbody tr th {\n",
              "        vertical-align: top;\n",
              "    }\n",
              "\n",
              "    .dataframe thead th {\n",
              "        text-align: right;\n",
              "    }\n",
              "</style>\n",
              "<table border=\"1\" class=\"dataframe\">\n",
              "  <thead>\n",
              "    <tr style=\"text-align: right;\">\n",
              "      <th></th>\n",
              "      <th>0</th>\n",
              "    </tr>\n",
              "  </thead>\n",
              "  <tbody>\n",
              "    <tr>\n",
              "      <th>0</th>\n",
              "      <td>1.0</td>\n",
              "    </tr>\n",
              "    <tr>\n",
              "      <th>1</th>\n",
              "      <td>2.0</td>\n",
              "    </tr>\n",
              "    <tr>\n",
              "      <th>2</th>\n",
              "      <td>3.0</td>\n",
              "    </tr>\n",
              "    <tr>\n",
              "      <th>3</th>\n",
              "      <td>4.0</td>\n",
              "    </tr>\n",
              "    <tr>\n",
              "      <th>4</th>\n",
              "      <td>5.0</td>\n",
              "    </tr>\n",
              "    <tr>\n",
              "      <th>5</th>\n",
              "      <td>6.0</td>\n",
              "    </tr>\n",
              "    <tr>\n",
              "      <th>6</th>\n",
              "      <td>7.0</td>\n",
              "    </tr>\n",
              "    <tr>\n",
              "      <th>7</th>\n",
              "      <td>8.0</td>\n",
              "    </tr>\n",
              "  </tbody>\n",
              "</table>\n",
              "</div>\n",
              "      <button class=\"colab-df-convert\" onclick=\"convertToInteractive('df-9621570f-b4e2-49d9-ab7c-8e7b12d764da')\"\n",
              "              title=\"Convert this dataframe to an interactive table.\"\n",
              "              style=\"display:none;\">\n",
              "        \n",
              "  <svg xmlns=\"http://www.w3.org/2000/svg\" height=\"24px\"viewBox=\"0 0 24 24\"\n",
              "       width=\"24px\">\n",
              "    <path d=\"M0 0h24v24H0V0z\" fill=\"none\"/>\n",
              "    <path d=\"M18.56 5.44l.94 2.06.94-2.06 2.06-.94-2.06-.94-.94-2.06-.94 2.06-2.06.94zm-11 1L8.5 8.5l.94-2.06 2.06-.94-2.06-.94L8.5 2.5l-.94 2.06-2.06.94zm10 10l.94 2.06.94-2.06 2.06-.94-2.06-.94-.94-2.06-.94 2.06-2.06.94z\"/><path d=\"M17.41 7.96l-1.37-1.37c-.4-.4-.92-.59-1.43-.59-.52 0-1.04.2-1.43.59L10.3 9.45l-7.72 7.72c-.78.78-.78 2.05 0 2.83L4 21.41c.39.39.9.59 1.41.59.51 0 1.02-.2 1.41-.59l7.78-7.78 2.81-2.81c.8-.78.8-2.07 0-2.86zM5.41 20L4 18.59l7.72-7.72 1.47 1.35L5.41 20z\"/>\n",
              "  </svg>\n",
              "      </button>\n",
              "      \n",
              "  <style>\n",
              "    .colab-df-container {\n",
              "      display:flex;\n",
              "      flex-wrap:wrap;\n",
              "      gap: 12px;\n",
              "    }\n",
              "\n",
              "    .colab-df-convert {\n",
              "      background-color: #E8F0FE;\n",
              "      border: none;\n",
              "      border-radius: 50%;\n",
              "      cursor: pointer;\n",
              "      display: none;\n",
              "      fill: #1967D2;\n",
              "      height: 32px;\n",
              "      padding: 0 0 0 0;\n",
              "      width: 32px;\n",
              "    }\n",
              "\n",
              "    .colab-df-convert:hover {\n",
              "      background-color: #E2EBFA;\n",
              "      box-shadow: 0px 1px 2px rgba(60, 64, 67, 0.3), 0px 1px 3px 1px rgba(60, 64, 67, 0.15);\n",
              "      fill: #174EA6;\n",
              "    }\n",
              "\n",
              "    [theme=dark] .colab-df-convert {\n",
              "      background-color: #3B4455;\n",
              "      fill: #D2E3FC;\n",
              "    }\n",
              "\n",
              "    [theme=dark] .colab-df-convert:hover {\n",
              "      background-color: #434B5C;\n",
              "      box-shadow: 0px 1px 3px 1px rgba(0, 0, 0, 0.15);\n",
              "      filter: drop-shadow(0px 1px 2px rgba(0, 0, 0, 0.3));\n",
              "      fill: #FFFFFF;\n",
              "    }\n",
              "  </style>\n",
              "\n",
              "      <script>\n",
              "        const buttonEl =\n",
              "          document.querySelector('#df-9621570f-b4e2-49d9-ab7c-8e7b12d764da button.colab-df-convert');\n",
              "        buttonEl.style.display =\n",
              "          google.colab.kernel.accessAllowed ? 'block' : 'none';\n",
              "\n",
              "        async function convertToInteractive(key) {\n",
              "          const element = document.querySelector('#df-9621570f-b4e2-49d9-ab7c-8e7b12d764da');\n",
              "          const dataTable =\n",
              "            await google.colab.kernel.invokeFunction('convertToInteractive',\n",
              "                                                     [key], {});\n",
              "          if (!dataTable) return;\n",
              "\n",
              "          const docLinkHtml = 'Like what you see? Visit the ' +\n",
              "            '<a target=\"_blank\" href=https://colab.research.google.com/notebooks/data_table.ipynb>data table notebook</a>'\n",
              "            + ' to learn more about interactive tables.';\n",
              "          element.innerHTML = '';\n",
              "          dataTable['output_type'] = 'display_data';\n",
              "          await google.colab.output.renderOutput(dataTable, element);\n",
              "          const docLink = document.createElement('div');\n",
              "          docLink.innerHTML = docLinkHtml;\n",
              "          element.appendChild(docLink);\n",
              "        }\n",
              "      </script>\n",
              "    </div>\n",
              "  </div>\n",
              "  "
            ]
          },
          "metadata": {},
          "execution_count": 53
        }
      ]
    },
    {
      "cell_type": "markdown",
      "source": [
        "Parameter ที่จำเป็น ในการจัดการค่า missing value \n",
        "\n",
        "\n",
        "method : ป้อนเป็น str, มี default คือ ‘linear’ (เทคนิคที่จะใช้ในการ Interpolation) โดยวิธีก็มีดังนี้\n",
        "\n",
        "\n",
        "limit_direction : ป้อนเป็น {‘forward’, ‘backward’, ‘both’}, มี default คือ ‘forward’ (ทิศทางที่อนุญาตให้ Interpolate)"
      ],
      "metadata": {
        "id": "riA1AzHA_bTv"
      }
    },
    {
      "cell_type": "markdown",
      "source": [
        "##Iterrows\n",
        "Pandas วนซ้ำคอลัมน์ของ DataFrame\n",
        "การเข้าถึงแต่ละค่าตรง ๆ ผ่าน iloc เลยมันอาจจะช้าไปหน่อย ทำให้ใน Pandas เตรียมอีก Function เป็น Generator ตัวนึง ***เพื่อให้เราสามารถ Loop และเข้าถึงข้อมูลทีละ Row ได้เลย ผ่าน Function ที่ชื่อว่า Iterrows****"
      ],
      "metadata": {
        "id": "SVgpNJqaNT0N"
      }
    },
    {
      "cell_type": "code",
      "source": [
        "import pandas as pd\n",
        "\n",
        "data = {\n",
        "  \"firstname\": [\"Sally\", \"Mary\", \"John\"],\n",
        "  \"age\": [50, 40, 30]\n",
        "}\n",
        "\n",
        "df = pd.DataFrame(data)\n",
        "\n",
        "for index, row in df.iterrows():\n",
        "  print(row[\"firstname\"])"
      ],
      "metadata": {
        "id": "VRYBQoN-NXOg",
        "outputId": "0b073f5b-5995-4051-ec99-56477a1c6f37",
        "colab": {
          "base_uri": "https://localhost:8080/"
        }
      },
      "execution_count": 58,
      "outputs": [
        {
          "output_type": "stream",
          "name": "stdout",
          "text": [
            "Sally\n",
            "Mary\n",
            "John\n"
          ]
        }
      ]
    },
    {
      "cell_type": "code",
      "source": [
        "# Below are quick example\n",
        "# Use getitem ([]) to iterate over columns\n",
        "for column in df:\n",
        "    print(df[column])\n",
        "# Use getitem ([]) to iterate over columns in pandas DataFrame\n",
        "for column in df:\n",
        "    print(df[column].values)\n",
        "# Iterate over columns using DataFrame.iteritems()\n",
        "for (colname,colval) in df.iteritems():\n",
        "    print(colname, colval.values)\n",
        "# use iteritems()\n",
        "for name, values in df.iteritems():\n",
        "    print('{name}: {value}'.format(name=name, value=values[1]))\n",
        "# iterate over columns in pandas DataFrame using enumerate()\n",
        "for (index, colname) in enumerate(df):\n",
        "    print(index, df[colname].values)\n",
        "# using enumerate()\n",
        "for (index, column) in enumerate(df):\n",
        "    print (index, df[column])\n",
        "# using enumerate() & Numpy.asarray()\n",
        "for (index, column) in enumerate(df):\n",
        "    print (index, np.asarray(df[column]))\n",
        "# Use DataFrame.columns()\n",
        "for column in df.columns[1:]:\n",
        "    print(df[column])\n",
        "# Iterate over all the columns in reversed order\n",
        "for column in df.columns[::-1]:\n",
        "    print(df[column])\n",
        "# Get the indices of all columns\n",
        "for indix, column in enumerate(df.columns):\n",
        "    print(indix, column)\n",
        "# Use DataFrame.transpose().iterrows()\n",
        "for (column_name, column) in df.transpose().iterrows():\n",
        "    print(column_name)"
      ],
      "metadata": {
        "id": "7Mtsv77INwRG",
        "outputId": "a7b6a120-c68c-48a3-c1da-bdffde550eb8",
        "colab": {
          "base_uri": "https://localhost:8080/"
        }
      },
      "execution_count": 64,
      "outputs": [
        {
          "output_type": "stream",
          "name": "stdout",
          "text": [
            "0    Sally\n",
            "1     Mary\n",
            "2     John\n",
            "Name: firstname, dtype: object\n",
            "0    50\n",
            "1    40\n",
            "2    30\n",
            "Name: age, dtype: int64\n",
            "['Sally' 'Mary' 'John']\n",
            "[50 40 30]\n",
            "firstname ['Sally' 'Mary' 'John']\n",
            "age [50 40 30]\n",
            "firstname: Mary\n",
            "age: 40\n",
            "0 ['Sally' 'Mary' 'John']\n",
            "1 [50 40 30]\n",
            "0 0    Sally\n",
            "1     Mary\n",
            "2     John\n",
            "Name: firstname, dtype: object\n",
            "1 0    50\n",
            "1    40\n",
            "2    30\n",
            "Name: age, dtype: int64\n",
            "0 ['Sally' 'Mary' 'John']\n",
            "1 [50 40 30]\n",
            "0    50\n",
            "1    40\n",
            "2    30\n",
            "Name: age, dtype: int64\n",
            "0    50\n",
            "1    40\n",
            "2    30\n",
            "Name: age, dtype: int64\n",
            "0    Sally\n",
            "1     Mary\n",
            "2     John\n",
            "Name: firstname, dtype: object\n",
            "0 firstname\n",
            "1 age\n",
            "firstname\n",
            "age\n"
          ]
        }
      ]
    },
    {
      "cell_type": "markdown",
      "source": [
        "ตัวอย่างจากอาจารย์\n",
        "\n",
        "for row in unit.head().iterrows():\n",
        "    print(row)\n",
        "\n",
        "\n",
        "for row in unit.head(20).iterrows():\n",
        "  if 'project_' not in row[1]['project_id']:\n",
        "      print(row)  ปริ้นโปรเจคไอที่ที่ไม่มีคำว่าโปรเจคนำหน้าถ้าโปรเจคไหนไม่มีห้ปริ้นโปรเจคมาเลย(ดูในแถว project id จะสังเกตุว่า ไอดีไม่มีคำว่าโปรเขคนำหน้าเลย)\n",
        "\n",
        "\n",
        "for row in unit.head(20).iterrows():\n",
        "\n",
        "\n",
        "  if 'สตูดิโอ' not in row[1]['url_unittype']:\n",
        "    print(row[1]['url_unittype']) #หาเว็บที่ไม่มีคำว่า สตูดิโอในชื่อ\n",
        "\n",
        "\n",
        "\n",
        "\n",
        "\n"
      ],
      "metadata": {
        "id": "4lUEBQKMQZhv"
      }
    },
    {
      "cell_type": "markdown",
      "source": [
        "##อื่นๆ เกี่ยวกับ Pandas"
      ],
      "metadata": {
        "id": "z-fv_o-aKo3s"
      }
    },
    {
      "cell_type": "code",
      "source": [
        "#ฟังก์ชั่นคำนวณด้านสถิติ\n",
        "import pandas as pd\n",
        "import numpy as np\n",
        "data = np.array([[1, np.nan, 2],\n",
        "[2, 3, 5],\n",
        "[np.nan, 4, 6]])\n",
        "df = pd.DataFrame(data,index=['row1','row2','row3'],columns=['col1','col2','col3'])\n",
        "display(df)"
      ],
      "metadata": {
        "id": "VlZGCkH4_Pae",
        "outputId": "7a6d62f9-6cf3-44bc-b31f-2b4a6e51ac9c",
        "colab": {
          "base_uri": "https://localhost:8080/",
          "height": 143
        }
      },
      "execution_count": 55,
      "outputs": [
        {
          "output_type": "display_data",
          "data": {
            "text/plain": [
              "      col1  col2  col3\n",
              "row1   1.0   NaN   2.0\n",
              "row2   2.0   3.0   5.0\n",
              "row3   NaN   4.0   6.0"
            ],
            "text/html": [
              "\n",
              "  <div id=\"df-fffa9550-8a88-47dd-b534-a0e13ba4bf30\">\n",
              "    <div class=\"colab-df-container\">\n",
              "      <div>\n",
              "<style scoped>\n",
              "    .dataframe tbody tr th:only-of-type {\n",
              "        vertical-align: middle;\n",
              "    }\n",
              "\n",
              "    .dataframe tbody tr th {\n",
              "        vertical-align: top;\n",
              "    }\n",
              "\n",
              "    .dataframe thead th {\n",
              "        text-align: right;\n",
              "    }\n",
              "</style>\n",
              "<table border=\"1\" class=\"dataframe\">\n",
              "  <thead>\n",
              "    <tr style=\"text-align: right;\">\n",
              "      <th></th>\n",
              "      <th>col1</th>\n",
              "      <th>col2</th>\n",
              "      <th>col3</th>\n",
              "    </tr>\n",
              "  </thead>\n",
              "  <tbody>\n",
              "    <tr>\n",
              "      <th>row1</th>\n",
              "      <td>1.0</td>\n",
              "      <td>NaN</td>\n",
              "      <td>2.0</td>\n",
              "    </tr>\n",
              "    <tr>\n",
              "      <th>row2</th>\n",
              "      <td>2.0</td>\n",
              "      <td>3.0</td>\n",
              "      <td>5.0</td>\n",
              "    </tr>\n",
              "    <tr>\n",
              "      <th>row3</th>\n",
              "      <td>NaN</td>\n",
              "      <td>4.0</td>\n",
              "      <td>6.0</td>\n",
              "    </tr>\n",
              "  </tbody>\n",
              "</table>\n",
              "</div>\n",
              "      <button class=\"colab-df-convert\" onclick=\"convertToInteractive('df-fffa9550-8a88-47dd-b534-a0e13ba4bf30')\"\n",
              "              title=\"Convert this dataframe to an interactive table.\"\n",
              "              style=\"display:none;\">\n",
              "        \n",
              "  <svg xmlns=\"http://www.w3.org/2000/svg\" height=\"24px\"viewBox=\"0 0 24 24\"\n",
              "       width=\"24px\">\n",
              "    <path d=\"M0 0h24v24H0V0z\" fill=\"none\"/>\n",
              "    <path d=\"M18.56 5.44l.94 2.06.94-2.06 2.06-.94-2.06-.94-.94-2.06-.94 2.06-2.06.94zm-11 1L8.5 8.5l.94-2.06 2.06-.94-2.06-.94L8.5 2.5l-.94 2.06-2.06.94zm10 10l.94 2.06.94-2.06 2.06-.94-2.06-.94-.94-2.06-.94 2.06-2.06.94z\"/><path d=\"M17.41 7.96l-1.37-1.37c-.4-.4-.92-.59-1.43-.59-.52 0-1.04.2-1.43.59L10.3 9.45l-7.72 7.72c-.78.78-.78 2.05 0 2.83L4 21.41c.39.39.9.59 1.41.59.51 0 1.02-.2 1.41-.59l7.78-7.78 2.81-2.81c.8-.78.8-2.07 0-2.86zM5.41 20L4 18.59l7.72-7.72 1.47 1.35L5.41 20z\"/>\n",
              "  </svg>\n",
              "      </button>\n",
              "      \n",
              "  <style>\n",
              "    .colab-df-container {\n",
              "      display:flex;\n",
              "      flex-wrap:wrap;\n",
              "      gap: 12px;\n",
              "    }\n",
              "\n",
              "    .colab-df-convert {\n",
              "      background-color: #E8F0FE;\n",
              "      border: none;\n",
              "      border-radius: 50%;\n",
              "      cursor: pointer;\n",
              "      display: none;\n",
              "      fill: #1967D2;\n",
              "      height: 32px;\n",
              "      padding: 0 0 0 0;\n",
              "      width: 32px;\n",
              "    }\n",
              "\n",
              "    .colab-df-convert:hover {\n",
              "      background-color: #E2EBFA;\n",
              "      box-shadow: 0px 1px 2px rgba(60, 64, 67, 0.3), 0px 1px 3px 1px rgba(60, 64, 67, 0.15);\n",
              "      fill: #174EA6;\n",
              "    }\n",
              "\n",
              "    [theme=dark] .colab-df-convert {\n",
              "      background-color: #3B4455;\n",
              "      fill: #D2E3FC;\n",
              "    }\n",
              "\n",
              "    [theme=dark] .colab-df-convert:hover {\n",
              "      background-color: #434B5C;\n",
              "      box-shadow: 0px 1px 3px 1px rgba(0, 0, 0, 0.15);\n",
              "      filter: drop-shadow(0px 1px 2px rgba(0, 0, 0, 0.3));\n",
              "      fill: #FFFFFF;\n",
              "    }\n",
              "  </style>\n",
              "\n",
              "      <script>\n",
              "        const buttonEl =\n",
              "          document.querySelector('#df-fffa9550-8a88-47dd-b534-a0e13ba4bf30 button.colab-df-convert');\n",
              "        buttonEl.style.display =\n",
              "          google.colab.kernel.accessAllowed ? 'block' : 'none';\n",
              "\n",
              "        async function convertToInteractive(key) {\n",
              "          const element = document.querySelector('#df-fffa9550-8a88-47dd-b534-a0e13ba4bf30');\n",
              "          const dataTable =\n",
              "            await google.colab.kernel.invokeFunction('convertToInteractive',\n",
              "                                                     [key], {});\n",
              "          if (!dataTable) return;\n",
              "\n",
              "          const docLinkHtml = 'Like what you see? Visit the ' +\n",
              "            '<a target=\"_blank\" href=https://colab.research.google.com/notebooks/data_table.ipynb>data table notebook</a>'\n",
              "            + ' to learn more about interactive tables.';\n",
              "          element.innerHTML = '';\n",
              "          dataTable['output_type'] = 'display_data';\n",
              "          await google.colab.output.renderOutput(dataTable, element);\n",
              "          const docLink = document.createElement('div');\n",
              "          docLink.innerHTML = docLinkHtml;\n",
              "          element.appendChild(docLink);\n",
              "        }\n",
              "      </script>\n",
              "    </div>\n",
              "  </div>\n",
              "  "
            ]
          },
          "metadata": {}
        }
      ]
    },
    {
      "cell_type": "code",
      "source": [
        "# หาผลรวมสะสมใน column\n",
        "print(df.cumsum()) "
      ],
      "metadata": {
        "id": "uAEZAPNQLGQ1",
        "outputId": "e70b9388-7450-42fa-f5a4-86f7926f3041",
        "colab": {
          "base_uri": "https://localhost:8080/"
        }
      },
      "execution_count": 57,
      "outputs": [
        {
          "output_type": "stream",
          "name": "stdout",
          "text": [
            "      col1  col2  col3\n",
            "row1   1.0   NaN   2.0\n",
            "row2   3.0   3.0   7.0\n",
            "row3   NaN   7.0  13.0\n"
          ]
        }
      ]
    },
    {
      "cell_type": "code",
      "source": [],
      "metadata": {
        "id": "PZjng-CVLsB3"
      },
      "execution_count": null,
      "outputs": []
    },
    {
      "cell_type": "markdown",
      "source": [
        "(https://drive.google.com/drive/folders/10j7Giwb-cErtWnmchLVuoqdr-N_Z1rIy?usp=sharing)"
      ],
      "metadata": {
        "id": "mdHrtLkBRQyl"
      }
    },
    {
      "cell_type": "code",
      "source": [],
      "metadata": {
        "id": "k25idpYoReJQ"
      },
      "execution_count": null,
      "outputs": []
    }
  ]
}