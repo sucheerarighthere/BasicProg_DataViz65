{
  "nbformat": 4,
  "nbformat_minor": 0,
  "metadata": {
    "colab": {
      "provenance": [],
      "collapsed_sections": [],
      "authorship_tag": "ABX9TyNjTtGU5ddxlNTsPcCFI3HY",
      "include_colab_link": true
    },
    "kernelspec": {
      "name": "python3",
      "display_name": "Python 3"
    },
    "language_info": {
      "name": "python"
    }
  },
  "cells": [
    {
      "cell_type": "markdown",
      "metadata": {
        "id": "view-in-github",
        "colab_type": "text"
      },
      "source": [
        "<a href=\"https://colab.research.google.com/github/sucheerarighthere/BasicProg_DataViz65/blob/main/midterm_cheat_sheet.ipynb\" target=\"_parent\"><img src=\"https://colab.research.google.com/assets/colab-badge.svg\" alt=\"Open In Colab\"/></a>"
      ]
    },
    {
      "cell_type": "markdown",
      "source": [
        "###แกรมแก๊บแตง เพอร์เฟค!!!!!!\n",
        "สรุป ที่ต้องสอบภายใน midterm\n",
        "1. variable operation\n",
        "2. print\n",
        "3. string operations \n",
        "4. list\n",
        "5. dictionary \n",
        "6. numpy arrey\n",
        "7. function\n",
        "8. looping condition\n",
        "9. pandas: read_csv , head() , tail() .indexing\n",
        "10. slicing - query\n",
        "11. missing value , looping ,functionsที่จำเป็น\n",
        "12. concat merge groupby \n",
        "13. create pandas table "
      ],
      "metadata": {
        "id": "YpQL8_YfUcsB"
      }
    },
    {
      "cell_type": "markdown",
      "source": [
        "###STring Operationg"
      ],
      "metadata": {
        "id": "HzzZw2XGWD5X"
      }
    },
    {
      "cell_type": "code",
      "source": [
        "# Find and search\n",
        "s = 'mountain'\n",
        "\n",
        "print(s.startswith('moun'))\n",
        "print(s.endswith('in'))\n",
        "print(s.find('n')) #หาตัวอักษร n อยู่ที่ไหน  เลข บวกไปอีก\n",
        "print(s.rfind('n')) #rfind() เป็นการค้นหาจากด้านหลังจากตำแห่งแรกที่พบเช่นกัน\n",
        "print(s.replace('moun', 'con')) #แทนที่ moun ด้วย con\n",
        "print(s.count('a'))"
      ],
      "metadata": {
        "colab": {
          "base_uri": "https://localhost:8080/"
        },
        "id": "4YLZCtfiWDUS",
        "outputId": "8ec12a48-6256-4113-a665-5dc64b2c88a0"
      },
      "execution_count": 4,
      "outputs": [
        {
          "output_type": "stream",
          "name": "stdout",
          "text": [
            "True\n",
            "True\n",
            "3\n",
            "7\n",
            "contain\n",
            "1\n"
          ]
        }
      ]
    },
    {
      "cell_type": "code",
      "source": [
        "s = 'this is a game that i love to play.'\n",
        "\n",
        "print(s.capitalize()) #ใช้สำหรับทำให้ตัวอักษรตัวแรกของ String เป็นตัวพิมพ์ใหญ่\n",
        "print(s.title()) # นั้นจะทำให้ตัวแรกในทุกๆ คำที่คั่นด้วย white space เป็นตัวพิมพ์ใหญทั้งหมด\n",
        "print(s.upper()) #แปลงให้ตัวอักษรทุกตัวใน String เป็นตัวพิมพ์ใหญ่\n",
        "print('MARCUSCODE.COM'.lower()) #แปลงให้ตัวอักษรทุกตัวใน String เป็นตัวพิมพ์เล็ก"
      ],
      "metadata": {
        "colab": {
          "base_uri": "https://localhost:8080/"
        },
        "id": "9WbdTXx1bfBM",
        "outputId": "0b1e70f7-43ff-4335-bc60-392fbe88daf0"
      },
      "execution_count": 7,
      "outputs": [
        {
          "output_type": "stream",
          "name": "stdout",
          "text": [
            "This is a game that i love to play.\n",
            "This Is A Game That I Love To Play.\n",
            "THIS IS A GAME THAT I LOVE TO PLAY.\n",
            "marcuscode.com\n"
          ]
        }
      ]
    },
    {
      "cell_type": "code",
      "source": [
        "s = 'Python'\n",
        "print(s.center(10)) #ใช้สำหรับเติมข้อความเข้าไปทางซ้ายและทางขวาให้ String มีความยาวกับที่ระบุ\n",
        "print(s.ljust(10)) #ชิดซ้าย\n",
        "print(s.rjust(10)) #ชิดขวา \n",
        "print(s.center(10, '#')) #เติมข้อความด้วยแฮชแทก\n",
        "print(s.ljust(10, '#')) #เติมข้อความด้วยแฮชแทก\n",
        "print(s.rjust(10, '#'))\n",
        "\n",
        "number = '83'\n",
        "print(number.zfill(6)) #ป็นการใช้เติมตัวเลข 0 โดยเรามักจะใช้กับ String ที่มีรูปแบบเป็นตัวเลข\n",
        "print('-1.32'.zfill(8))"
      ],
      "metadata": {
        "colab": {
          "base_uri": "https://localhost:8080/"
        },
        "id": "K0akk8iVc5po",
        "outputId": "509896bd-ad31-4edd-ab6f-e9be16bfab31"
      },
      "execution_count": 8,
      "outputs": [
        {
          "output_type": "stream",
          "name": "stdout",
          "text": [
            "  Python  \n",
            "Python    \n",
            "    Python\n",
            "##Python##\n",
            "Python####\n",
            "####Python\n",
            "000083\n",
            "-0001.32\n"
          ]
        }
      ]
    },
    {
      "cell_type": "code",
      "source": [
        "s = '    Python '\n",
        "print(s.strip()) #ตัดคำออกจากข้อความ\n",
        "print(s.lstrip())\n",
        "print(s.rstrip())\n",
        "\n",
        "s2 = '----marcuscode----'\n",
        "print(s2.strip('-'))\n",
        "print(s2.lstrip('-'))\n",
        "print(s2.rstrip('-'))"
      ],
      "metadata": {
        "colab": {
          "base_uri": "https://localhost:8080/"
        },
        "id": "2W9cVkfffnrJ",
        "outputId": "bc078147-670b-4bcd-8ac6-c5e3087cac4f"
      },
      "execution_count": 9,
      "outputs": [
        {
          "output_type": "stream",
          "name": "stdout",
          "text": [
            "Python\n",
            "Python \n",
            "    Python\n",
            "marcuscode\n",
            "marcuscode----\n",
            "----marcuscode\n"
          ]
        }
      ]
    },
    {
      "cell_type": "code",
      "source": [
        "# tesing true\n",
        "print('marcuscode2017'.isalnum())\n",
        "print('bobby'.isalpha())\n",
        "print('1234'.isdecimal())\n",
        "print('1234'.isdigit())\n",
        "print('1234'.isnumeric())\n",
        "print('mateo'.islower())\n",
        "print('MATEO'.isupper())\n",
        "\n",
        "# tesing false\n",
        "print('marcuscode 2017'.isalnum()) # has space\n",
        "print('bobby1'.isalpha()) # has number\n",
        "print('7F'.isdecimal()) # F is not decimal\n",
        "print('1234A'.isdigit()) # A is not digit\n",
        "print('Python'.isnumeric()) # not number\n",
        "print('Mateo'.islower()) # M is upper case\n",
        "print('Mateo'.isupper()) # Not all are upper case"
      ],
      "metadata": {
        "colab": {
          "base_uri": "https://localhost:8080/"
        },
        "id": "k3-Yu83JfqAI",
        "outputId": "e5e1a241-5ebf-4002-da97-69889622b8f2"
      },
      "execution_count": 10,
      "outputs": [
        {
          "output_type": "stream",
          "name": "stdout",
          "text": [
            "True\n",
            "True\n",
            "True\n",
            "True\n",
            "True\n",
            "True\n",
            "True\n",
            "False\n",
            "False\n",
            "False\n",
            "False\n",
            "False\n",
            "False\n",
            "False\n"
          ]
        }
      ]
    },
    {
      "cell_type": "markdown",
      "source": [
        "###List\n",
        "list เอาไว้รวม string และ รวมด้วย join() หรือการตัดคำออกจาก String ด้วยsplit()"
      ],
      "metadata": {
        "id": "D2MhsUsQf_I4"
      }
    },
    {
      "cell_type": "code",
      "source": [
        "countries = ['England', 'Turkey', 'Poland', 'Russia', 'Germany']\n",
        "print(', '.join(countries))\n",
        "# ตัวแปร ประเทศ สำหรับเก็บข้อมูลประเทศต่างๆ \n",
        "#ปริ้น countries แล้ว ขั้นด้วย , \n",
        "lang = 'Java PHP C++ Python C#'\n",
        "print(lang.split(' '))\n",
        "#lang นั้นเป็นข้อความที่คั่นด้วยช่องว่าง\n",
        "# split()แยก String ออกจากตัวแปรและจะได้ผลลัพธ์เป็นลิสต์ สามารถใช้ตัวอื่นแทน '' ได้ \n",
        "\n",
        "\n",
        "text = 'Python is a language\\nused to create a web,\\n'\n",
        "text += 'desktop application\\nand more'\n",
        "text2 = text.splitlines() #สำหรับเมธอด splitlines() เป็นการแบ่ง String ด้วยการขึ้นบรรทัดใหม่\n",
        "for t in text2:\n",
        "    print(t)"
      ],
      "metadata": {
        "colab": {
          "base_uri": "https://localhost:8080/"
        },
        "id": "Sq4hl8Wrf3v2",
        "outputId": "b9f7fecb-d272-46b7-aadc-560900b43b15"
      },
      "execution_count": 41,
      "outputs": [
        {
          "output_type": "stream",
          "name": "stdout",
          "text": [
            "England, Turkey, Poland, Russia, Germany\n",
            "['Java', 'PHP', 'C++', 'Python', 'C#']\n",
            "Python is a language\n",
            "used to create a web,\n",
            "desktop application\n",
            "and more\n"
          ]
        }
      ]
    },
    {
      "cell_type": "markdown",
      "source": [
        "การประกาศและใช้งาน List\n",
        "list เป็นตัวแปรประเภทหนึ่ง การประกาศลิสต์ ข้อมูลจะอยู่ ใน [] และคั่นสมาชิกแต่ละตัว ด้วย , "
      ],
      "metadata": {
        "id": "1Y4_9jpsjTeU"
      }
    },
    {
      "cell_type": "code",
      "source": [
        "numbers = [-1, 2, 5, 8, 10, 13] #ลิสต์จำนวนเต็ม 6 ตัว\n",
        "names = ['Mateo', 'Danny', 'James', 'Thomas', 'Luke'] #List ของ String ที่สำหรับเก็บชื่อและมี 5 รายชื่อ\n",
        "mixed_type = [-2, 5, 84.2, \"Mountain\", \"Python\"] #mixtype ในลิสต์เดียว สามารถเก็บได้ทั้งตัวเลขและตัวอักษร"
      ],
      "metadata": {
        "id": "iw1Z7kTJhB8A"
      },
      "execution_count": 42,
      "outputs": []
    },
    {
      "cell_type": "code",
      "source": [
        "numbers = [] #ตอนแรกในลิสต์ไม่มีตัวเลข\n",
        "numbers.append(-1) #append() เพื่อเพิ่มข้อมูลใหม่เข้าไปใน List \n",
        "numbers.append(2)\n",
        "numbers.append(5) #ชื่อลิสต์.operation\n",
        "numbers.append(8)\n",
        "numbers.append(10)\n",
        "numbers.append(13)\n",
        "\n",
        "names = ['Mateo', 'Danny']\n",
        "names.append('James')\n",
        "names.append('Thomas')\n",
        "names.append('Luke')\n",
        "\n",
        "print(numbers) \n",
        "print(names)\n",
        "\n",
        "print('numbers count = ', len(numbers))\n",
        "print('names count = ', len(names)) #ใช้เพื่อนับจำนวนสมาชิกภายใน List"
      ],
      "metadata": {
        "colab": {
          "base_uri": "https://localhost:8080/"
        },
        "id": "goAptI7RjrAQ",
        "outputId": "4700670d-f641-4502-99a4-bd5b8e434853"
      },
      "execution_count": 43,
      "outputs": [
        {
          "output_type": "stream",
          "name": "stdout",
          "text": [
            "[-1, 2, 5, 8, 10, 13]\n",
            "['Mateo', 'Danny', 'James', 'Thomas', 'Luke']\n",
            "numbers count =  6\n",
            "names count =  5\n"
          ]
        }
      ]
    },
    {
      "cell_type": "markdown",
      "source": [
        "การเข้าถึงข้อมูลภายในlist"
      ],
      "metadata": {
        "id": "HinSlFCGnIaA"
      }
    },
    {
      "cell_type": "code",
      "source": [
        "names = ['Mateo', 'Danny', 'James', 'Thomas', 'Luke'] #ลำดับสมาชิกมีความสำคัญ\n",
        "print('names[0] = ', names[0]) #สมาชิกลำดับที่ 1\n",
        "print('names[3] = ', names[3])\n",
        "print('names[-1] = ', names[-1]) #สมาชิกตัวที่ 1นับมาจากข้างหลัง\n",
        "\n",
        "# update value\n",
        "names[0] = 'Bob'\n",
        "print('names[0] = ', names[0])\n",
        "#Index ของ List นั้นเริ่มต้นจาก 0"
      ],
      "metadata": {
        "colab": {
          "base_uri": "https://localhost:8080/"
        },
        "id": "1O6m3VvTkEPo",
        "outputId": "889167d6-127e-49d3-c155-cea97d6cb9c2"
      },
      "execution_count": 44,
      "outputs": [
        {
          "output_type": "stream",
          "name": "stdout",
          "text": [
            "names[0] =  Mateo\n",
            "names[3] =  Thomas\n",
            "names[-1] =  Luke\n",
            "names[0] =  Bob\n"
          ]
        }
      ]
    },
    {
      "cell_type": "markdown",
      "source": [
        "อ่านคำสั่งในลิสต์ ด้วยคำสั่ง for loop "
      ],
      "metadata": {
        "id": "tpeMEMZBn0JQ"
      }
    },
    {
      "cell_type": "code",
      "source": [
        "numbers = [10, 20, 30, 40, 50, 60, 70]\n",
        "sum = 0\n",
        "for n in numbers: #เพื่อประกาศว่า n คือ สมาชิกในลิสต์ ลูปในลิสต์numbers\n",
        "    print(n, end =' ')\n",
        "    sum += n\n",
        "\n",
        "print('sum = ', sum)\n",
        "\n",
        "names = ['Mateo', 'Danny', 'James', 'Thomas', 'Luke']\n",
        "for i in range(0, len(names)): #range คือ Index จาก 0 ถึงขนาดตัวสุดท้ายของ List #lem นัลจำนวนในสมาชิก\n",
        "    print(names[i].upper(), end ='/')#เว้นด้วย /\n",
        "    print(names[i].upper(), end ='=')#เว้นด้วย =\n",
        "    # ใน for เดียวกัน จะถือว่าอยู่ในคำสั่งเดียวกัน "
      ],
      "metadata": {
        "colab": {
          "base_uri": "https://localhost:8080/"
        },
        "id": "7EURnAUdnTUD",
        "outputId": "7ee8ce82-2e53-49db-8f09-92dab37d11ec"
      },
      "execution_count": 45,
      "outputs": [
        {
          "output_type": "stream",
          "name": "stdout",
          "text": [
            "10 20 30 40 50 60 70 sum =  280\n",
            "MATEO/MATEO=DANNY/DANNY=JAMES/JAMES=THOMAS/THOMAS=LUKE/LUKE="
          ]
        }
      ]
    },
    {
      "cell_type": "markdown",
      "source": [
        "List slicing\n",
        "เราสามารถตัดข้อมูลจากลิสต์หนึ่ง นำมาสร้งเป็นลิสต์ใหม่ได้"
      ],
      "metadata": {
        "id": "ZZ1hhkxHq4Gf"
      }
    },
    {
      "cell_type": "code",
      "source": [
        "ch = ['a', 'b', 'c', 'd', 'e', 'f', 'g', 'h']\n",
        "\n",
        "a = ch[0:4] # a - d #แปลว่า สร้างลิสต์ a ด้วย สมาชิกตัวที่ 1-5 จากลิสต์ ch\n",
        "b = ch[4:9] # e - h\n",
        "c = ch[:3] # a - c \n",
        "d = ch[3:] # c - h\n",
        "e = ch[:] #เอาทุกตัวในลิสต์ \n",
        "f = ch[0:2] + ch[6:8] # a - b and g - h\n",
        "g = ch # or equivalent to e = ch \n",
        "\n",
        "print(a)\n",
        "print(b)\n",
        "print(c)\n",
        "print(d)\n",
        "print(e)\n",
        "print(f)\n",
        "print(g)"
      ],
      "metadata": {
        "colab": {
          "base_uri": "https://localhost:8080/"
        },
        "id": "CEhqeQdyo_8U",
        "outputId": "b614a2f1-25f2-4c42-9aba-efcb6c0943e6"
      },
      "execution_count": 49,
      "outputs": [
        {
          "output_type": "stream",
          "name": "stdout",
          "text": [
            "['a', 'b', 'c', 'd']\n",
            "['e', 'f', 'g', 'h']\n",
            "['a', 'b', 'c']\n",
            "['d', 'e', 'f', 'g', 'h']\n",
            "['a', 'b', 'c', 'd', 'e', 'f', 'g', 'h']\n",
            "['a', 'b', 'g', 'h']\n",
            "['a', 'b', 'c', 'd', 'e', 'f', 'g', 'h']\n"
          ]
        }
      ]
    },
    {
      "cell_type": "markdown",
      "source": [
        "การใช้งานคำสั่ง del เพื่อลบข้อมูลใน List"
      ],
      "metadata": {
        "id": "4gspgXVvs_pE"
      }
    },
    {
      "cell_type": "code",
      "source": [
        "ch = ['a', 'b', 'c', 'd', 'e', 'f', 'g', 'h']\n",
        "\n",
        "del ch[0] # delete a \n",
        "print(ch)\n",
        "\n",
        "del ch[0] # delete b \n",
        "print(ch)\n",
        "\n",
        "del ch[2:4] # delete e, f \n",
        "print(ch)\n",
        "\n",
        "del ch[:] # delete all\n",
        "print(ch)\n",
        "#ตัดออกมาเรื่อยๆ"
      ],
      "metadata": {
        "colab": {
          "base_uri": "https://localhost:8080/"
        },
        "id": "ErhOUzKasyBV",
        "outputId": "093c3051-fe67-44ca-ba4b-5c1922ee40e1"
      },
      "execution_count": 50,
      "outputs": [
        {
          "output_type": "stream",
          "name": "stdout",
          "text": [
            "['b', 'c', 'd', 'e', 'f', 'g', 'h']\n",
            "['c', 'd', 'e', 'f', 'g', 'h']\n",
            "['c', 'd', 'g', 'h']\n",
            "[]\n"
          ]
        }
      ]
    },
    {
      "cell_type": "markdown",
      "source": [
        "การใช้งานเมธอดของ List"
      ],
      "metadata": {
        "id": "2B6oqWyWtnJ7"
      }
    },
    {
      "cell_type": "code",
      "source": [
        "names = ['David', 'Johnny', 'Dennis', 'Jason']\n",
        "\n",
        "# add 2 names to the end of the list\n",
        "names.append('Andy') #เพิ่ม แอนดี้ลงไปในลิสต์เนม \n",
        "names.append('Rene')\n",
        "print(names)\n",
        "\n",
        "# add a name at position 3 เพื่อเพิ่มสมาชิกไปยังตำแหน่งที่ต้องการ\n",
        "names.insert(2, 'Mike') \n",
        "print(names)\n",
        "\n",
        "# remove 2 specific names เพื่อนำออกข้อมูลใน List เราได้ทำการลบสองรายชื่อ คือ 'David' และ 'Johnny' ออกไปจาก List\n",
        "names.remove('David')\n",
        "names.remove('Johnny') #สามารถ ใช้ ลูกน้ำเพื่อขั้นได้\n",
        "print(names)\n",
        "\n",
        "# pop the last item fro the list นำข้อมูลที่อยู่ท้ายสุดของ List และส่งค่านั้นกลับมา\n",
        "print('Popped item =', names.pop()) \n",
        "print(names)\n",
        "print('เหมือนว่าปริ้นแค่สมาชิกตัวเดียว ตัวสุดท้าย')\n",
        "print('Popped item =', names.pop())\n",
        "print(names)\n",
        "\n",
        "# clear all items\n",
        "names.clear()\n",
        "print(names)"
      ],
      "metadata": {
        "colab": {
          "base_uri": "https://localhost:8080/"
        },
        "id": "7nX5lECYtHqp",
        "outputId": "756c0cb3-e888-45ff-d0f2-6dc95dc0ce03"
      },
      "execution_count": 52,
      "outputs": [
        {
          "output_type": "stream",
          "name": "stdout",
          "text": [
            "['David', 'Johnny', 'Dennis', 'Jason', 'Andy', 'Rene']\n",
            "['David', 'Johnny', 'Mike', 'Dennis', 'Jason', 'Andy', 'Rene']\n",
            "['Mike', 'Dennis', 'Jason', 'Andy', 'Rene']\n",
            "Popped item = Rene\n",
            "['Mike', 'Dennis', 'Jason', 'Andy']\n",
            "เหมือนว่าปริ้นแค่สมาชิกตัวเดียว ตัวสุดท้าย\n",
            "Popped item = Andy\n",
            "['Mike', 'Dennis', 'Jason']\n",
            "[]\n"
          ]
        }
      ]
    },
    {
      "cell_type": "code",
      "source": [
        "fruits = ['banana', 'orange', 'apple', 'grape', 'apple', 'peach']\n",
        "\n",
        "print(fruits)\n",
        "\n",
        "print('%d apples in list' % fruits.count('apple')) #แปล%เป็นจำนวนแอปเปิ้ล แล้วก้ปริ้น\n",
        "print('%d banana in list' % fruits.count('banana'))\n",
        "\n",
        "print('Index of grape is %d' % fruits.index('grape'))\n",
        "\n",
        "fruits.sort() #ใช้สำหรับเรียงข้อมูลภายใน List ตามตัวอักษรจากก่อนไปทีหลัง\n",
        "print('Sorted', fruits)\n",
        "\n",
        "fruits.reverse() #เรียงกลับ \n",
        "print('Reversed', fruits)"
      ],
      "metadata": {
        "colab": {
          "base_uri": "https://localhost:8080/"
        },
        "id": "BwCFcI9CuVqa",
        "outputId": "3c2492b3-1d70-49e1-efce-0a9a5405e072"
      },
      "execution_count": 53,
      "outputs": [
        {
          "output_type": "stream",
          "name": "stdout",
          "text": [
            "['banana', 'orange', 'apple', 'grape', 'apple', 'peach']\n",
            "2 apples in list\n",
            "1 banana in list\n",
            "Index of grape is 3\n",
            "Sorted ['apple', 'apple', 'banana', 'grape', 'orange', 'peach']\n",
            "Reversed ['peach', 'orange', 'grape', 'banana', 'apple', 'apple']\n"
          ]
        }
      ]
    },
    {
      "cell_type": "markdown",
      "source": [
        "การใช้งานฟังก์ชั่นกับlist"
      ],
      "metadata": {
        "id": "vcUrlUXevnrb"
      }
    },
    {
      "cell_type": "code",
      "source": [
        "numbers = [12, 3, 1, -5, 8, 3, -2, 10]\n",
        "\n",
        "print('%d numbers in list' % len(numbers)) #นับจำนวนเobjectใน list \n",
        "print('Min number = %d' % min(numbers))\n",
        "print('Max number = %d' % max(numbers)) #หาค่าที่มากที่สุด"
      ],
      "metadata": {
        "colab": {
          "base_uri": "https://localhost:8080/"
        },
        "id": "qhbiENuZvqwN",
        "outputId": "f4d9c565-daa8-43ef-e855-af4809e2db8f"
      },
      "execution_count": 56,
      "outputs": [
        {
          "output_type": "stream",
          "name": "stdout",
          "text": [
            "8 numbers in list\n",
            "Min number = -5\n",
            "Max number = 12\n"
          ]
        }
      ]
    },
    {
      "cell_type": "code",
      "source": [
        "#กรณีถ้าเป็นตัวเลขแบบไม่มีทศนิยมให้ใช้ %d\n",
        "# ส่วน %s สำหรับข้อความ \n",
        "# %f สำหรับตัวเลขที่มีทศนิยม\n",
        "d = 199\n",
        "s = 'Hello, Python'\n",
        "f = 58.36\n",
        "print('d = %d' %(d))\n",
        "print('s = %s' %(s))\n",
        "print('f = %.2f' %(f))"
      ],
      "metadata": {
        "colab": {
          "base_uri": "https://localhost:8080/"
        },
        "id": "eLkipZHUvtC7",
        "outputId": "d8d37ae0-a677-4ddf-bfdd-1e58fb83d7d7"
      },
      "execution_count": 57,
      "outputs": [
        {
          "output_type": "stream",
          "name": "stdout",
          "text": [
            "d = 199\n",
            "s = Hello, Python\n",
            "f = 58.36\n"
          ]
        }
      ]
    },
    {
      "cell_type": "code",
      "source": [
        "print(list(range(0, 20, 4))) #( เริ่มจาก , สิ้นสุด , ห่างจาก)\n",
        "\n",
        "tuple1 = (1, 2, 3, 4, 5) \n",
        "print(list(tuple1))"
      ],
      "metadata": {
        "colab": {
          "base_uri": "https://localhost:8080/"
        },
        "id": "3UBHlWPkwNo1",
        "outputId": "f0629ab5-fa5a-4d27-b852-0f36e833a44f"
      },
      "execution_count": 67,
      "outputs": [
        {
          "output_type": "stream",
          "name": "stdout",
          "text": [
            "[0, 4, 8, 12, 16]\n",
            "[1, 2, 3, 4, 5]\n"
          ]
        }
      ]
    },
    {
      "cell_type": "markdown",
      "source": [
        "## Dictionary"
      ],
      "metadata": {
        "id": "W4_rYiZPxyX6"
      }
    },
    {
      "cell_type": "code",
      "source": [
        "#สมาชิกของดิก จะอยู่ใน ปีกกา \n",
        "scores = {'james': 1828, 'thomas': 3628, 'danny': 9310}\n",
        "scores['bobby'] = 4401\n",
        "#Dictionary แต่ละตัวจะถูกกำหนดในรูปแบบ key: value \n",
        "\n",
        "numbers = {1: 'One', 2: 'Two', 3: 'Three'}\n",
        "\n",
        "print(scores)\n",
        "print(numbers)"
      ],
      "metadata": {
        "colab": {
          "base_uri": "https://localhost:8080/"
        },
        "id": "jP5fc42IxM6Q",
        "outputId": "27002cf9-b097-4cc1-c41f-2f9c671ad07a"
      },
      "execution_count": 68,
      "outputs": [
        {
          "output_type": "stream",
          "name": "stdout",
          "text": [
            "{'james': 1828, 'thomas': 3628, 'danny': 9310, 'bobby': 4401}\n",
            "{1: 'One', 2: 'Two', 3: 'Three'}\n"
          ]
        }
      ]
    },
    {
      "cell_type": "code",
      "source": [
        "{'james': 1828, 'thomas': 3628, 'danny': 9310, 'bobby': 4401}\n",
        "{1: 'One', 2: 'Two', 3: 'Three'}"
      ],
      "metadata": {
        "colab": {
          "base_uri": "https://localhost:8080/"
        },
        "id": "CxsNMlc7yI0b",
        "outputId": "43df34ec-5454-49fc-e501-0a545164e4d9"
      },
      "execution_count": 69,
      "outputs": [
        {
          "output_type": "execute_result",
          "data": {
            "text/plain": [
              "{1: 'One', 2: 'Two', 3: 'Three'}"
            ]
          },
          "metadata": {},
          "execution_count": 69
        }
      ]
    },
    {
      "cell_type": "markdown",
      "source": [
        "การเข้าถึงข้อมูลภายใน Dictionary"
      ],
      "metadata": {
        "id": "dQ45uQMfydBb"
      }
    },
    {
      "cell_type": "code",
      "source": [
        "scores = {'james': 1828, 'thomas': 3628, 'danny': 9310, 'bobby': 4401}\n",
        "\n",
        "# display data\n",
        "print('james =>', scores['james'])\n",
        "print('thomas =>', scores['thomas'])\n",
        "print('danny =>', scores['danny'])\n",
        "print('bobby =>', scores['bobby'])\n",
        "\n",
        "# update data\n",
        "scores['james'] = scores['james'] + 1000\n",
        "scores['thomas'] = 100\n",
        "\n",
        "print('james =>', scores['james'])\n",
        "print('thomas =>', scores['thomas'])"
      ],
      "metadata": {
        "colab": {
          "base_uri": "https://localhost:8080/"
        },
        "id": "qwWhIz40yaKB",
        "outputId": "751ebde6-9caa-4894-8af1-38bcb9fb2c84"
      },
      "execution_count": 70,
      "outputs": [
        {
          "output_type": "stream",
          "name": "stdout",
          "text": [
            "james => 1828\n",
            "thomas => 3628\n",
            "danny => 9310\n",
            "bobby => 4401\n",
            "james => 2828\n",
            "thomas => 100\n"
          ]
        }
      ]
    },
    {
      "cell_type": "markdown",
      "source": [
        "```การอ่านค่าใน Dictionary ด้วยคำสั่ง For loop```\n",
        "\n",
        "---\n",
        "\n",
        "\n",
        "\n",
        "\n",
        "\n",
        "คำสั่ง For loop นั้นเป็นคำสั่งที่ยืดหยุ่นและสามารถใช้งานได้อย่างหลากหลาย ในการอ่านค่าใน Dictionary นั้นเราสามารถใช้ For loop เพื่อวนอ่านค่าทั้ง Key และ Values ใน Dictionary ได้ มาดูตัวอย่างของโปรแกรม"
      ],
      "metadata": {
        "id": "X9IFXYwkyq6Q"
      }
    },
    {
      "cell_type": "code",
      "source": [
        "countries = {'de': 'Germany', 'ua': 'Ukraine',\n",
        "             'th': 'Thailand', 'nl': 'Netherlands'}\n",
        "#ใน { 'key':'value'} \n",
        "for k, v in countries.items():#ใน { 'key':'value'} \n",
        "    print(k, v)\n",
        "\n",
        "# iterate through keys เอาแค่คีย์ในดิก\n",
        "print('\\nKey:', end = ' ')\n",
        "for k in countries.keys():\n",
        "    print(k, end = ' ')\n",
        "\n",
        "# iterate through values เอาแค่แวลู่ในดิก\n",
        "print('\\n\\nValue:', end = ' ') #\\n เว้นบรรทัด สองครั้งก็สองบรรทัด\n",
        "for v in countries.values():\n",
        "    print(v, end = ' ')"
      ],
      "metadata": {
        "colab": {
          "base_uri": "https://localhost:8080/"
        },
        "id": "KMMu9aPHyrka",
        "outputId": "f3528e0c-1456-4f5e-f539-708603cfe8e2"
      },
      "execution_count": 77,
      "outputs": [
        {
          "output_type": "stream",
          "name": "stdout",
          "text": [
            "de Germany\n",
            "ua Ukraine\n",
            "th Thailand\n",
            "nl Netherlands\n",
            "\n",
            "Key: de ua th nl \n",
            "\n",
            "Value: Germany Ukraine Thailand Netherlands "
          ]
        }
      ]
    },
    {
      "cell_type": "markdown",
      "source": [
        "Methods\tDescription\n",
        "\n",
        "---\n",
        "1. clear()\tลบข้อมูลทั้งหมดภายใน Dictionary\n",
        "2. copy()\tคัดลอก Dictionary ทั้งหมดไปยังอันใหม่\n",
        "3. get(key[, default])\tส่งค่าข้อมูลใน Dictionary จาก Key ที่กำหนด ถ้าหากไม่มี Key อยู่และไม่ได้กำหนด default จะทำให้เกิดข้อผิดพลาด `KeyError`\n",
        "4. items()\tส่งค่ากลับเป็นออบเจ็คของ Key และ Value\n",
        "5. keys()\tส่งค่ากลับเป็น List ของ Key ทั้งหมดใน Dictionary\n",
        "6. pop(key[, default])\tส่งค่ากลับเป็นค่าสุดท้ายใน Dictionary\n",
        "7. popitem()\tส่งค่ากลับเป็น Tuple ออบเจ็คของ Key และ Value\n",
        "8. setdefault(key[, default])\tส่งค่ากลับเป็นค่าของ Key ที่กำหนด ถ้าหากไม่มี Key อยู่ใส่ข้อมูลเข้าไปใน Dictionary\n",
        "9. update([other])\tอัพเดท Dictionary กับคู่ของ Key และ Value จากออบเจ็คอื่น และเขียนทับ Key ที่มีอยู่\n",
        "10. values()\tส่งค่ากลับเป็น List ของ Value ทั้งหมดใน Dictionary\n",
        "\n",
        "\n"
      ],
      "metadata": {
        "id": "ni2dPCYp0IwV"
      }
    },
    {
      "cell_type": "markdown",
      "source": [
        "## Numpy array\n",
        "\n",
        "---\n",
        "\n",
        "NumPy เป็นชื่อของ library ที่ใช้ในการคำนวนทางคณิตศาสตร์ในภาษา Python ซึ่งภายในถูกเขียนด้วยภาษา C จึงทำงานได้เร็วและมีประสิทธิภาพ โดย NumPy มีความสามารถในการจัดการกับอาเรย์หลายมิติและข้อมูลแบบเมทริกซ์"
      ],
      "metadata": {
        "id": "_0NOEgid3Lj7"
      }
    },
    {
      "cell_type": "code",
      "source": [
        "import numpy as np\n",
        "a = np.array([1,2,3])\n",
        "print(a)        # [1 2 3]\n",
        "print(type(a))  # <class 'numpy.ndarray'>"
      ],
      "metadata": {
        "colab": {
          "base_uri": "https://localhost:8080/"
        },
        "id": "W4VerolS3Onm",
        "outputId": "ef8d6fd7-fc7b-42ec-bdef-bb30d71aa3ba"
      },
      "execution_count": 79,
      "outputs": [
        {
          "output_type": "stream",
          "name": "stdout",
          "text": [
            "[1 2 3]\n",
            "<class 'numpy.ndarray'>\n"
          ]
        }
      ]
    },
    {
      "cell_type": "code",
      "source": [
        "import numpy"
      ],
      "metadata": {
        "id": "kyd8Mp8m3Vf0"
      },
      "execution_count": 80,
      "outputs": []
    },
    {
      "cell_type": "code",
      "source": [
        "mat_a = numpy.array([[2,4,5],[1,2,3],[9,8,7],[3,6,9]])\n",
        "mat_a"
      ],
      "metadata": {
        "colab": {
          "base_uri": "https://localhost:8080/"
        },
        "id": "B7XNKARB3kwO",
        "outputId": "04247947-f98e-4dab-aaf4-ccd69e1ea58f"
      },
      "execution_count": 81,
      "outputs": [
        {
          "output_type": "execute_result",
          "data": {
            "text/plain": [
              "array([[2, 4, 5],\n",
              "       [1, 2, 3],\n",
              "       [9, 8, 7],\n",
              "       [3, 6, 9]])"
            ]
          },
          "metadata": {},
          "execution_count": 81
        }
      ]
    },
    {
      "cell_type": "code",
      "source": [
        "list_a = [[2,4,5],[1,2,3],[9,8,7],[3,6,9]]"
      ],
      "metadata": {
        "id": "eHaXSWJ_3lLa"
      },
      "execution_count": 82,
      "outputs": []
    },
    {
      "cell_type": "code",
      "source": [
        "import numpy as np\n",
        "list_b = [[-1,-1,2,4,5],[-2,-2,1,2,3],[-3,-3,9,8,7],[-4,-4,3,6,9]] #จำนวนเลขในเมทริกซ์ต้องเท่ากัน เพราะเมทริกซ์เป็นจัตุรัส\n",
        "mat_b = np.array(list_b) #เรียกตัวเลขจากลิสต์บีที่เป็นarray เรียงเป็นเมทริกซ์ --->array 2มิติ\n",
        "mat_b"
      ],
      "metadata": {
        "colab": {
          "base_uri": "https://localhost:8080/"
        },
        "id": "ml8eDGTn3pdo",
        "outputId": "9bd6e5a2-b166-4aa6-94ba-cb9e817acb59"
      },
      "execution_count": 95,
      "outputs": [
        {
          "output_type": "execute_result",
          "data": {
            "text/plain": [
              "array([[-1, -1,  2,  4,  5],\n",
              "       [-2, -2,  1,  2,  3],\n",
              "       [-3, -3,  9,  8,  7],\n",
              "       [-4, -4,  3,  6,  9]])"
            ]
          },
          "metadata": {},
          "execution_count": 95
        }
      ]
    },
    {
      "cell_type": "code",
      "source": [
        "import numpy as np        # วิธีการที่จะเรียกใช้ numpy library โดยกำหนดชื่อย่อว่า np\n",
        "\n",
        "a = np.array([1, 2, 3])   # สร้าง array 1 มิติ (เวกเตอร์) จาก Python list [1, 2, 3]\n",
        "print(type(a))            # พิมพ์ \"<class 'numpy.ndarray'>\"\n",
        "print(a.shape)            \n",
        "# shape เป็น method ที่ไว้เรียกดูขนาดของ array \n",
        "# พิมพ์ \"(3,)\" แปลว่าเป็น array 1 มิติ ที่มีสมาชิกเท่ากับ 3 (เวกเตอร์ที่ความยาวเท่ากับ 3)\n",
        "\n",
        "print(a[0], a[1], a[2])   # พิมพ์ \"1 2 3\" สมาชิกของเอตัวที่1 สมาชิกของเอ\n",
        "a[0] = 5                  # เปลี่ยนค่าใน array เปลี่ยนสมาชิกของเอตัวที่ 1 เป็น 5 \n",
        "print(a)                  # พิมพ์ \"[5, 2, 3]\"\n",
        "\n",
        "b = np.array([[1,2,3],[4,5,6]])    # สร้าง array 2 มิติ (เมตริกซ์2x3)\n",
        "print(b.shape)                     # พิมพ์ \"(2, 3)\" แปลว่าเป็น array 2 มิติ ที่มีความยาวเท่ากับ 2 และ 3 ตามลำดับ\n",
        "                                   # พูดง่ายๆ ว่าเป็นเมตริกซ์ขนาด 2x3 นั่นเอง \n",
        "print(b[0, 0], b[0, 1], b[1, 0])   # พิมพ์ \"1 2 4\""
      ],
      "metadata": {
        "id": "MbOWTIWx8JEm",
        "outputId": "015e2596-172b-4076-9d00-ef93ae7d154e",
        "colab": {
          "base_uri": "https://localhost:8080/"
        }
      },
      "execution_count": 97,
      "outputs": [
        {
          "output_type": "stream",
          "name": "stdout",
          "text": [
            "<class 'numpy.ndarray'>\n",
            "(3,)\n",
            "1 2 3\n",
            "[5 2 3]\n",
            "(2, 3)\n",
            "1 2 4\n"
          ]
        }
      ]
    },
    {
      "cell_type": "markdown",
      "source": [
        "numpy operations"
      ],
      "metadata": {
        "id": "2pO5IWFp9ZI7"
      }
    },
    {
      "cell_type": "code",
      "source": [
        "import numpy as np\n",
        "\n",
        "x = np.array([[1,2],[3,4]])\n",
        "y = np.array([[5,6],[7,8]])\n",
        "\n",
        "# [[ 1  2] + [[ 5  6] =  [[ 6  8]\n",
        "#   [3 4]]    [ 7  8]]    [10 12]]\n",
        "print(x + y)\n",
        "\n",
        "# [[-4 -4]\n",
        "#  [-4 -4]]\n",
        "print(x - y)\n",
        "\n",
        "# [[ 5 12]\n",
        "#  [21 32]]\n",
        "print(x * y)\n",
        "\n",
        "# ตัวอย่างการหาร เมื่อเลขไม่ลงตัว สมาชิกใน array จะเปลี่ยนเป็นจำนวนจริงโดยอัตโนมัติเหมือนกรณีการหารตัวเลข (ดูหัวข้อบน)\n",
        "# [[ 0.2         0.33333333]\n",
        "#  [ 0.42857143  0.5       ]]\n",
        "print(x / y)\n",
        "\n",
        "# ยกกำลัง\n",
        "print(x ** 2)\n",
        "\n",
        "# ถอดรากที่สองมีสองวิธีคือเรียกฟังก์ชั่นของ numpy หรือ ยกกำลังด้วย 1/2\n",
        "print(np.sqrt(x))\n",
        "print(x ** (1/2))"
      ],
      "metadata": {
        "id": "J9iJignt9Y5u",
        "outputId": "2d46afc0-bfcd-4770-e878-e389493cff21",
        "colab": {
          "base_uri": "https://localhost:8080/"
        }
      },
      "execution_count": 99,
      "outputs": [
        {
          "output_type": "stream",
          "name": "stdout",
          "text": [
            "[[ 6  8]\n",
            " [10 12]]\n",
            "[[-4 -4]\n",
            " [-4 -4]]\n",
            "[[ 5 12]\n",
            " [21 32]]\n",
            "[[0.2        0.33333333]\n",
            " [0.42857143 0.5       ]]\n",
            "[[ 1  4]\n",
            " [ 9 16]]\n",
            "[[1.         1.41421356]\n",
            " [1.73205081 2.        ]]\n",
            "[[1.         1.41421356]\n",
            " [1.73205081 2.        ]]\n"
          ]
        }
      ]
    },
    {
      "cell_type": "markdown",
      "source": [
        "## Function\n",
        "def เพื่อนิยาม Python function"
      ],
      "metadata": {
        "id": "fr8rsn494VDr"
      }
    },
    {
      "cell_type": "code",
      "source": [
        "def hello(name):\n",
        "    print('Hello %s' % name)\n",
        "\n",
        "def count_vowel(str): #กำหนดฟังก์ชั่น count vowel นับสระ  ให้เป็น สตริง ตัวหนังสือ\n",
        "    vowel = 0\n",
        "    for c in str: #สำหรับตัวแปร c ในตัวหนังสือ \n",
        "        if c in ('A', 'E', 'I', 'O', 'U', 'a', 'e', 'i', 'o', 'u'):\n",
        "            vowel = vowel + 1\n",
        "    return vowel\n",
        "\n",
        "def area(width, height): #กำหนดให้ฟังด์ชั่น พื้นที่ มีด้านกว้างและด้านยาว \n",
        "    c = width * height\n",
        "    return c\n",
        "\n",
        "# calling functions\n",
        "hello('Danny')\n",
        "hello('Mateo')\n",
        "print('Vowel in string = %d' % count_vowel('marcuscode.com')) #นับสระจากคำในวงเล็บ\n",
        "print('Vowel in string = %d' % count_vowel('Python'))\n",
        "print('Area = %d' % area(8, 4))"
      ],
      "metadata": {
        "colab": {
          "base_uri": "https://localhost:8080/"
        },
        "id": "yoJYIvks3rkS",
        "outputId": "6e07801a-b279-413e-fd87-848d1508dea7"
      },
      "execution_count": 100,
      "outputs": [
        {
          "output_type": "stream",
          "name": "stdout",
          "text": [
            "Hello Danny\n",
            "Hello Mateo\n",
            "Vowel in string = 5\n",
            "Vowel in string = 1\n",
            "Area = 32\n"
          ]
        }
      ]
    },
    {
      "cell_type": "code",
      "source": [
        "def sign(x): #สัญลักษณ์\n",
        "    if x > 0:\n",
        "        return 'positive'\n",
        "    elif x < 0:\n",
        "        return 'negative'\n",
        "    else: #อื่นๆที่มากกว่าหรือน้อยกว่า 0 คือ เท่ากับ 0\n",
        "        return 'zero'\n",
        "\n",
        "for x in [-1, 0, 1,5,6,8,0]:\n",
        "    print(sign(x))\n",
        "# พิมพ์ \"negative\", \"zero\", \"positive\""
      ],
      "metadata": {
        "colab": {
          "base_uri": "https://localhost:8080/"
        },
        "id": "kruqjZDx5kla",
        "outputId": "12e1bd5b-ae6e-4879-ad60-8da470fa2cfb"
      },
      "execution_count": 101,
      "outputs": [
        {
          "output_type": "stream",
          "name": "stdout",
          "text": [
            "negative\n",
            "zero\n",
            "positive\n",
            "positive\n",
            "positive\n",
            "positive\n",
            "zero\n"
          ]
        }
      ]
    },
    {
      "cell_type": "code",
      "source": [
        "def hello(name, loud=False):\n",
        "    if loud:\n",
        "        print('HELLO, %s!' % name.upper())\n",
        "    else:\n",
        "        print('Hello, %s' % name)\n",
        "\n",
        "hello('Bob') # พิมพ์ \"Hello, Bob\"\n",
        "hello('Fred', loud=True)  # พิมพ์ \"HELLO, FRED!\""
      ],
      "metadata": {
        "colab": {
          "base_uri": "https://localhost:8080/"
        },
        "id": "g647BH1e7xff",
        "outputId": "2418d91a-a532-48c1-90c8-aefba6099238"
      },
      "execution_count": 102,
      "outputs": [
        {
          "output_type": "stream",
          "name": "stdout",
          "text": [
            "Hello, Bob\n",
            "HELLO, FRED!\n"
          ]
        }
      ]
    },
    {
      "cell_type": "code",
      "source": [],
      "metadata": {
        "id": "CtHZP0GZ98Dj"
      },
      "execution_count": null,
      "outputs": []
    },
    {
      "cell_type": "markdown",
      "source": [
        "## looping condition"
      ],
      "metadata": {
        "id": "CIOWKz50-P_s"
      }
    },
    {
      "cell_type": "code",
      "source": [
        "data = int(input(\"ใส่เลขที่ต้องการ: \"))\n",
        "digit = 3\n",
        "if data == digit:\n",
        "    print (\"เท่ากัน\",end=\"\")\n",
        "elif data < digit:\n",
        "    print(\"น้อยกว่า\",end=\"\")\n",
        "else:\n",
        "    print (\"ผิดนะจ๊ะ\",end=\"\")"
      ],
      "metadata": {
        "id": "4Sx8-eX--RJN",
        "outputId": "20771a9e-3165-4115-b86e-5767614bba08",
        "colab": {
          "base_uri": "https://localhost:8080/"
        }
      },
      "execution_count": 104,
      "outputs": [
        {
          "output_type": "stream",
          "name": "stdout",
          "text": [
            "ใส่เลขที่ต้องการ: 50\n",
            "ผิดนะจ๊ะ"
          ]
        }
      ]
    },
    {
      "cell_type": "code",
      "source": [
        "#คำสั่ง for loop สามารถเขียนได้รูปแบบดังนี้\n",
        "\n",
        "i = 0\n",
        "for i in range(7): #เรียงลำดับไป7\n",
        "   print (i,\"eiei\",end=\"   \")"
      ],
      "metadata": {
        "id": "GnbK1PhY-mXY",
        "outputId": "a9ad6adb-07f4-44d9-a5ec-f38ace39f254",
        "colab": {
          "base_uri": "https://localhost:8080/"
        }
      },
      "execution_count": 115,
      "outputs": [
        {
          "output_type": "stream",
          "name": "stdout",
          "text": [
            "0 eiei   1 eiei   2 eiei   3 eiei   4 eiei   5 eiei   6 eiei   "
          ]
        }
      ]
    },
    {
      "cell_type": "code",
      "source": [
        "\t\n",
        "for x in 'HelloWorld': print (x)"
      ],
      "metadata": {
        "id": "TMmNTGg7-8E9",
        "outputId": "19ac5efc-92ef-486f-b6a0-676c23d9d746",
        "colab": {
          "base_uri": "https://localhost:8080/"
        }
      },
      "execution_count": 116,
      "outputs": [
        {
          "output_type": "stream",
          "name": "stdout",
          "text": [
            "H\n",
            "e\n",
            "l\n",
            "l\n",
            "o\n",
            "W\n",
            "o\n",
            "r\n",
            "l\n",
            "d\n"
          ]
        }
      ]
    },
    {
      "cell_type": "code",
      "source": [
        "\n",
        "interval = 0\n",
        "while (interval <=10):\n",
        "    print (\"count:\", interval)\n",
        "    interval = interval+2 #ทีละ 2"
      ],
      "metadata": {
        "id": "Srbq0ws-_W8x",
        "outputId": "276cfbb0-ff29-4655-8883-bc624d7f7f31",
        "colab": {
          "base_uri": "https://localhost:8080/"
        }
      },
      "execution_count": 123,
      "outputs": [
        {
          "output_type": "stream",
          "name": "stdout",
          "text": [
            "count: 0\n",
            "count: 2\n",
            "count: 4\n",
            "count: 6\n",
            "count: 8\n",
            "count: 10\n"
          ]
        }
      ]
    },
    {
      "cell_type": "code",
      "source": [],
      "metadata": {
        "id": "ca9EUAz4_Z35"
      },
      "execution_count": null,
      "outputs": []
    },
    {
      "cell_type": "markdown",
      "source": [
        "##pandas: read_csv , head() , tail() .indexing\n",
        "Panel Data (ชุดข้อมูลหลายมิติ)"
      ],
      "metadata": {
        "id": "U-umEYqHAsXJ"
      }
    },
    {
      "cell_type": "markdown",
      "source": [
        "1. การอ่านไฟล์ CSV .read_csv(‘ชื่อไฟล์.csv’)\n",
        "2. .head(‘จำนวน row ที่อยากได้ออกมาแสดงนับจากแถวบนสุด’)\n",
        "3..tail(‘จำนวน row ที่อยากได้ออกมาแสดงนับจากแถวล่างสุด’) การดูข้อมูลจากแถวล่างสุด \n",
        "4. .describe() =การหาค่า (count, mean ,std ,min ,25% ,50% ,75%, max)ของข้อมูลแต่ละ column\n",
        "5. categories() categories นั้นจะไม่นับตัวซ้ำว่าเป็นอีก 1 categories\n",
        "6. .DataFrame(ตัวแปร dict) การสร้าง Dataframe สามารถทำได้ด้วยคำสั่ง\n",
        "\n",
        "\n"
      ],
      "metadata": {
        "id": "MioRqHBNBT8d"
      }
    },
    {
      "cell_type": "code",
      "source": [],
      "metadata": {
        "id": "yx3lrkmtBcze"
      },
      "execution_count": null,
      "outputs": []
    }
  ]
}