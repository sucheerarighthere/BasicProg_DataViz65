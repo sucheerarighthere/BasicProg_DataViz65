{
  "nbformat": 4,
  "nbformat_minor": 0,
  "metadata": {
    "colab": {
      "provenance": [],
      "authorship_tag": "ABX9TyPX1y8oj6yzT+UEKv23FBV7",
      "include_colab_link": true
    },
    "kernelspec": {
      "name": "python3",
      "display_name": "Python 3"
    },
    "language_info": {
      "name": "python"
    }
  },
  "cells": [
    {
      "cell_type": "markdown",
      "metadata": {
        "id": "view-in-github",
        "colab_type": "text"
      },
      "source": [
        "<a href=\"https://colab.research.google.com/github/sucheerarighthere/BasicProg_DataViz65/blob/main/cheatsheet.ipynb\" target=\"_parent\"><img src=\"https://colab.research.google.com/assets/colab-badge.svg\" alt=\"Open In Colab\"/></a>"
      ]
    },
    {
      "cell_type": "code",
      "execution_count": null,
      "metadata": {
        "id": "1wFQl_lhXKBl"
      },
      "outputs": [],
      "source": []
    },
    {
      "cell_type": "markdown",
      "source": [
        " engine='openpyxl' หลัง pd.read \n",
        " \n",
        " openpyxl เป็นไลบรารี Python สำหรับอ่าน/เขียนไฟล์ Excel 2010 xlsx/xlsm/xltx/xltm สามารถดึงข้อมูลจากสเปรดชีตและสร้างสเปรดชีตที่เรียบง่ายหรือซับซ้อน รวมถึงการเพิ่มสไตล์ แผนภูมิ และอื่นๆ\n",
        "\n",
        "โดยสามารถทำการติดตั้งได้จากวิธี  pip install openpyxl"
      ],
      "metadata": {
        "id": "CYUn7tLlZ7cx"
      }
    },
    {
      "cell_type": "markdown",
      "source": [
        "# การเกิด NaN"
      ],
      "metadata": {
        "id": "vpjB7TxNbGYI"
      }
    },
    {
      "cell_type": "code",
      "source": [
        "import numpy as np\n",
        "import pandas as pd\n",
        "tha = pd.DataFrame([\n",
        "        ['ปะทะตัว','ธรรมดา',35,1],\n",
        "        ['เสียงร้อง','ธรรมดา',None,1],\n",
        "        ['เมล็ดยาโดริงิ','ธรรมดา',np.NaN,7],\n",
        "        ['แส้เถาวัลย์','พืช',35,13]],\n",
        "    columns=['ชื่อ','ชนิด','พลังโจมตี','เลเวลที่ได้'])\n",
        "print(tha)"
      ],
      "metadata": {
        "colab": {
          "base_uri": "https://localhost:8080/"
        },
        "id": "QWUJG0CVaIFz",
        "outputId": "54bcfbcf-259b-49c4-83e1-20dfded30df3"
      },
      "execution_count": null,
      "outputs": [
        {
          "output_type": "stream",
          "name": "stdout",
          "text": [
            "            ชื่อ    ชนิด  พลังโจมตี  เลเวลที่ได้\n",
            "0        ปะทะตัว  ธรรมดา       35.0            1\n",
            "1      เสียงร้อง  ธรรมดา        NaN            1\n",
            "2  เมล็ดยาโดริงิ  ธรรมดา        NaN            7\n",
            "3    แส้เถาวัลย์     พืช       35.0           13\n"
          ]
        }
      ]
    },
    {
      "cell_type": "markdown",
      "source": [
        "เดตาเฟรม[เดตาเฟรม[ชื่อคอลัมน์]!=ตัวที่ไม่ต้องการ]"
      ],
      "metadata": {
        "id": "-d5iaaiBbU7L"
      }
    },
    {
      "cell_type": "code",
      "source": [
        "tha = pd.DataFrame([\n",
        "        ['ปะทะตัว','ธรรมดา',35,1],\n",
        "        ['สั่นหาง','ธรรมดา',None,1],\n",
        "        ['ฟองน้ำ','น้ำ',20,8],\n",
        "        ['กระสุนน้ำ','น้ำ',40,15]],\n",
        "    columns=['ชื่อ','ชนิด','พลังโจมตี','เลเวลที่ได้'],\n",
        "    index=[1,2,3,4])\n",
        "print(tha[tha['พลังโจมตี']!=np.nan])"
      ],
      "metadata": {
        "colab": {
          "base_uri": "https://localhost:8080/"
        },
        "id": "_KgmyvqxbLJL",
        "outputId": "8b1d8493-e8f4-4469-aa0f-3c147f72491a"
      },
      "execution_count": null,
      "outputs": [
        {
          "output_type": "stream",
          "name": "stdout",
          "text": [
            "        ชื่อ    ชนิด  พลังโจมตี  เลเวลที่ได้\n",
            "1    ปะทะตัว  ธรรมดา       35.0            1\n",
            "2    สั่นหาง  ธรรมดา        NaN            1\n",
            "3     ฟองน้ำ     น้ำ       20.0            8\n",
            "4  กระสุนน้ำ     น้ำ       40.0           15\n"
          ]
        }
      ]
    },
    {
      "cell_type": "markdown",
      "source": [
        "\n",
        "จะเห็นว่าแถวที่มี NaN ก็ยังอยู่ไม่ได้หายไปไหน\n",
        "\n",
        "กรณีนี้ต้องใช้เมธอดชื่อ notnull"
      ],
      "metadata": {
        "id": "UrwsiY-cbdtA"
      }
    },
    {
      "cell_type": "code",
      "source": [
        "print(tha['พลังโจมตี'].notnull())\n",
        "print('---------------------------')\n",
        "print(tha[tha['พลังโจมตี'].notnull()])"
      ],
      "metadata": {
        "colab": {
          "base_uri": "https://localhost:8080/"
        },
        "id": "adD5phBDbZb1",
        "outputId": "1a94eab5-dfec-4f01-b5d9-ecb96b574a60"
      },
      "execution_count": null,
      "outputs": [
        {
          "output_type": "stream",
          "name": "stdout",
          "text": [
            "1     True\n",
            "2    False\n",
            "3     True\n",
            "4     True\n",
            "Name: พลังโจมตี, dtype: bool\n",
            "---------------------------\n",
            "        ชื่อ    ชนิด  พลังโจมตี  เลเวลที่ได้\n",
            "1    ปะทะตัว  ธรรมดา       35.0            1\n",
            "3     ฟองน้ำ     น้ำ       20.0            8\n",
            "4  กระสุนน้ำ     น้ำ       40.0           15\n"
          ]
        }
      ]
    },
    {
      "cell_type": "code",
      "source": [
        "# ในทางตรงข้าม มีเมธอด isnull ที่จะได้ True เมื่อเป็น NaN และ False เมื่อไม่ใช่\n",
        "print(tha[tha['พลังโจมตี'].isnull()])"
      ],
      "metadata": {
        "colab": {
          "base_uri": "https://localhost:8080/"
        },
        "id": "-8YaCBCGbk91",
        "outputId": "d7c98e9f-5035-4a4e-a083-016b74dbf477"
      },
      "execution_count": null,
      "outputs": [
        {
          "output_type": "stream",
          "name": "stdout",
          "text": [
            "      ชื่อ    ชนิด  พลังโจมตี  เลเวลที่ได้\n",
            "2  สั่นหาง  ธรรมดา        NaN            1\n"
          ]
        }
      ]
    },
    {
      "cell_type": "code",
      "source": [
        "print(tha.dropna())\n",
        "#ในกรณีที่ต้องการลบข้อมูลทั้งแถวออกเมื่อมีคอลัมน์ใดคอลัมน์หนึ่งเป็น NaN จะมีวิธีที่สะดวกกว่านั้น คือมีเมธอดที่ใช้โดยเฉพาะ นั่นคือ dropna"
      ],
      "metadata": {
        "colab": {
          "base_uri": "https://localhost:8080/"
        },
        "id": "VaG4OBt8bqAp",
        "outputId": "fbcc6b25-283c-4333-915a-19f2e044672e"
      },
      "execution_count": null,
      "outputs": [
        {
          "output_type": "stream",
          "name": "stdout",
          "text": [
            "        ชื่อ    ชนิด  พลังโจมตี  เลเวลที่ได้\n",
            "1    ปะทะตัว  ธรรมดา       35.0            1\n",
            "3     ฟองน้ำ     น้ำ       20.0            8\n",
            "4  กระสุนน้ำ     น้ำ       40.0           15\n"
          ]
        }
      ]
    },
    {
      "cell_type": "code",
      "source": [
        "print(tha.dropna(axis=1)) #เดตาเฟรมอันเดิมถ้าต้องการลบคอลัมน์ที่มี NaN ซึ่งในที่นี้คือ \"พลังโจมตี\" จะเขียนได้ว่า"
      ],
      "metadata": {
        "colab": {
          "base_uri": "https://localhost:8080/"
        },
        "id": "w3STQDVObtGh",
        "outputId": "3f20abba-9ab2-4f10-d0e9-89613c9ebe41"
      },
      "execution_count": null,
      "outputs": [
        {
          "output_type": "stream",
          "name": "stdout",
          "text": [
            "        ชื่อ    ชนิด  เลเวลที่ได้\n",
            "1    ปะทะตัว  ธรรมดา            1\n",
            "2    สั่นหาง  ธรรมดา            1\n",
            "3     ฟองน้ำ     น้ำ            8\n",
            "4  กระสุนน้ำ     น้ำ           15\n"
          ]
        }
      ]
    },
    {
      "cell_type": "markdown",
      "source": [
        "ตัวอย่าง รายชื่อท่าชนิดไฟฟ้าท่าต่างๆของโปเกมอน บางท่าไม่ใช่ท่าโจมตี พลังโจมตีจึงเป็น NaN และบางท่าไม่มีวาซะแมชชีนก็เป็น NaN"
      ],
      "metadata": {
        "id": "KjRGhVtxcV2S"
      }
    },
    {
      "cell_type": "code",
      "source": [
        "tha = pd.DataFrame([\n",
        "        [40,100,np.NaN],\n",
        "        [np.NaN,100,'45'],\n",
        "        [95,100,'24'],\n",
        "        [120,70,'25']],\n",
        "    columns=['พลังโจมตี','ความแม่นยำ','วาซะแมชชีน'],\n",
        "    index=['ช็อตไฟฟ้า','คลื่นไฟฟ้า','ไฟฟ้าแสนโวลต์','ฟ้าผ่า'])\n",
        "print(tha)"
      ],
      "metadata": {
        "colab": {
          "base_uri": "https://localhost:8080/"
        },
        "id": "3WAJNjCib3ap",
        "outputId": "1259fe27-434a-4b0d-9f2f-3fce3776578f"
      },
      "execution_count": null,
      "outputs": [
        {
          "output_type": "stream",
          "name": "stdout",
          "text": [
            "               พลังโจมตี  ความแม่นยำ วาซะแมชชีน\n",
            "ช็อตไฟฟ้า           40.0         100        NaN\n",
            "คลื่นไฟฟ้า           NaN         100         45\n",
            "ไฟฟ้าแสนโวลต์       95.0         100         24\n",
            "ฟ้าผ่า             120.0          70         25\n"
          ]
        }
      ]
    },
    {
      "cell_type": "code",
      "source": [
        "#แต่ถ้าจะให้ลบแค่เมื่อพลังโจมตีเป็น NaN ก็ทำได้โดย\n",
        "print(tha.dropna(subset=['พลังโจมตี']))"
      ],
      "metadata": {
        "colab": {
          "base_uri": "https://localhost:8080/"
        },
        "id": "SPk5_aUrcae1",
        "outputId": "c14e3518-f62a-4e96-b3be-61ec7c4dae36"
      },
      "execution_count": null,
      "outputs": [
        {
          "output_type": "stream",
          "name": "stdout",
          "text": [
            "               พลังโจมตี  ความแม่นยำ วาซะแมชชีน\n",
            "ช็อตไฟฟ้า           40.0         100        NaN\n",
            "ไฟฟ้าแสนโวลต์       95.0         100         24\n",
            "ฟ้าผ่า             120.0          70         25\n"
          ]
        }
      ]
    },
    {
      "cell_type": "code",
      "source": [
        "#หรือถ้าใช้คู่กับ axis=1 ก็ให้ระบุชื่อแถวที่ต้องการพิจารณา\n",
        "print(tha.dropna(axis=1,subset=['ช็อตไฟฟ้า','ฟ้าผ่า']))"
      ],
      "metadata": {
        "colab": {
          "base_uri": "https://localhost:8080/"
        },
        "id": "mywajOnvciq3",
        "outputId": "b339882d-cdda-4b71-8e47-32e054198a80"
      },
      "execution_count": null,
      "outputs": [
        {
          "output_type": "stream",
          "name": "stdout",
          "text": [
            "               พลังโจมตี  ความแม่นยำ\n",
            "ช็อตไฟฟ้า           40.0         100\n",
            "คลื่นไฟฟ้า           NaN         100\n",
            "ไฟฟ้าแสนโวลต์       95.0         100\n",
            "ฟ้าผ่า             120.0          70\n"
          ]
        }
      ]
    },
    {
      "cell_type": "markdown",
      "source": [
        "# len, max, min, zip, lambda, map"
      ],
      "metadata": {
        "id": "wA31fPnFhrAO"
      }
    },
    {
      "cell_type": "markdown",
      "source": [
        "## len\n",
        "เป็นคำสั่งสำหรับใช้วัดความยาวของตัวอักษร ใช้ได้กับทั้งสตริง, ไบต์, ทูเพิล, List, หรือ range\n",
        "มีรูปแบบไวยากรณ์ดังนี้\n",
        "\n",
        "len(ตัวแปรหรือข้อมูล)"
      ],
      "metadata": {
        "id": "S-OLzc2FiBOh"
      }
    },
    {
      "cell_type": "code",
      "source": [
        ">>> a = \"123456\"\n",
        ">>> len(a)\n",
        "6"
      ],
      "metadata": {
        "colab": {
          "base_uri": "https://localhost:8080/"
        },
        "id": "mju8ikwUcjke",
        "outputId": "99ab5a8e-3b06-4c86-d185-21a474a90ec1"
      },
      "execution_count": null,
      "outputs": [
        {
          "output_type": "execute_result",
          "data": {
            "text/plain": [
              "6"
            ]
          },
          "metadata": {},
          "execution_count": 13
        }
      ]
    },
    {
      "cell_type": "markdown",
      "source": [
        "### max\n",
        "เป็นคำสั่งสำหรับใช้ดึงค่าที่มากที่สุดในชนิดข้อมูลนั้น ๆ\n",
        "มีรูปแบบไวยากรณ์ดังนี้\n",
        "\n",
        "max(ตัวแปรหรือข้อมูล)"
      ],
      "metadata": {
        "id": "wAoyxAsDiRf_"
      }
    },
    {
      "cell_type": "code",
      "source": [
        ">>> max(1,2,3)\n",
        "3\n",
        ">>> max([1,2,3,4,5,6,-1])\n",
        "6\n",
        ">>> max('abca') # ตัวอักษร c มีค่ามากสุดถ้าเรียงตามลำดับตัวอักษร\n",
        "'c'"
      ],
      "metadata": {
        "colab": {
          "base_uri": "https://localhost:8080/",
          "height": 35
        },
        "id": "NNfvERqXiO4I",
        "outputId": "10b4e480-cd01-452b-c75c-3c6e4d6efaaf"
      },
      "execution_count": null,
      "outputs": [
        {
          "output_type": "execute_result",
          "data": {
            "text/plain": [
              "'c'"
            ],
            "application/vnd.google.colaboratory.intrinsic+json": {
              "type": "string"
            }
          },
          "metadata": {},
          "execution_count": 14
        }
      ]
    },
    {
      "cell_type": "markdown",
      "source": [
        "## min\n",
        "เป็นคำสั่งสำหรับใช้ดึงค่าที่น้อยที่สุดในชนิดข้อมูลนั้น ๆ\n",
        "มีรูปแบบไวยากรณ์ดังนี้\n",
        "\n",
        "min(ตัวแปรหรือข้อมูล)"
      ],
      "metadata": {
        "id": "855XrW3wiVX7"
      }
    },
    {
      "cell_type": "code",
      "source": [
        ">>> min('abca')\n",
        "'a'\n",
        ">>> min([1,2,3,4,5,6,-1])\n",
        "-1\n",
        ">>> min(1,2,3)\n",
        "1"
      ],
      "metadata": {
        "colab": {
          "base_uri": "https://localhost:8080/"
        },
        "id": "i03qqiySiUJ9",
        "outputId": "6f81eaf0-ec01-41b1-859b-1ba6d1592aa8"
      },
      "execution_count": null,
      "outputs": [
        {
          "output_type": "execute_result",
          "data": {
            "text/plain": [
              "1"
            ]
          },
          "metadata": {},
          "execution_count": 15
        }
      ]
    },
    {
      "cell_type": "markdown",
      "source": [
        "## zip\n",
        "zip(ทูเพิล1,ทูเพิล2) เป็นคำสั่งสำหรับใช่รวมทูเพิล (tuples) 2 อัน จับคู่เป็นทูเพิลเดียวกัน"
      ],
      "metadata": {
        "id": "frFFgXw8iZ2B"
      }
    },
    {
      "cell_type": "code",
      "source": [
        "a = [\"a\", \"b\", \"c\"]\n",
        "b = [1, 2, 3]\n",
        "c = zip(a,b)\n",
        "print(list(c))"
      ],
      "metadata": {
        "colab": {
          "base_uri": "https://localhost:8080/"
        },
        "id": "xjednMJ_iYrI",
        "outputId": "13dfb3de-cb81-4de7-d5e2-68b594ce9643"
      },
      "execution_count": null,
      "outputs": [
        {
          "output_type": "stream",
          "name": "stdout",
          "text": [
            "[('a', 1), ('b', 2), ('c', 3)]\n"
          ]
        }
      ]
    },
    {
      "cell_type": "markdown",
      "source": [
        "## lambda\n",
        "lambda สามารถใช้คำสั่งนี้สร้างฟังก์ชันไม่ระบุชื่อได้ มักใช้ในการสร้างฟังก์ชันที่ใช้งานเพียงครั้งเดียว สามารถใช้พารามิเตอร์ และส่งกลับค่าของนิพจน์ได้\n",
        "มีรูปแบบไวยากรณ์ดังนี้\n",
        "\n",
        "lambda <input>: <expression>"
      ],
      "metadata": {
        "id": "eVyleeUhif_G"
      }
    },
    {
      "cell_type": "code",
      "source": [
        "f = lambda x: x**2 + 2*x - 5\n",
        "print(f(1)) # มาจาก 1**2 + 2*1 - 5 = -2"
      ],
      "metadata": {
        "colab": {
          "base_uri": "https://localhost:8080/"
        },
        "id": "zLEBEvjkieQH",
        "outputId": "df38f488-75fd-4327-e57d-fdd1b4784dd7"
      },
      "execution_count": null,
      "outputs": [
        {
          "output_type": "stream",
          "name": "stdout",
          "text": [
            "-2\n"
          ]
        }
      ]
    },
    {
      "cell_type": "markdown",
      "source": [
        "## map\n",
        "เป็นคำสั่งสำหรับใช้ดำเนินการฟังก์ชันกับ list ของ iterable (ชนิดข้อมูลของ iterable ต้องเป็น List)\n",
        "มีรูปแบบไวยากรณ์ดังนี้\n",
        "```bject ใดๆ ที่เราสามารถทำการวนซ้ำกับมันได้```\n",
        "map(function, iterable)"
      ],
      "metadata": {
        "id": "1zCPoZ18i2yp"
      }
    },
    {
      "cell_type": "code",
      "source": [
        "a = map(lambda a: a+1, [1,2,3,4])\n",
        "print(list(a))"
      ],
      "metadata": {
        "colab": {
          "base_uri": "https://localhost:8080/"
        },
        "id": "YHE-MU6QinOB",
        "outputId": "61c600c6-dba4-4e0e-b572-e130531dbb40"
      },
      "execution_count": null,
      "outputs": [
        {
          "output_type": "stream",
          "name": "stdout",
          "text": [
            "[2, 3, 4, 5]\n"
          ]
        }
      ]
    },
    {
      "cell_type": "markdown",
      "source": [
        "## การใช้ applymap ในเดตาเฟรม\n",
        "\n",
        "applymap จะทำกับสมาชิกในทุกแถวทุกคอลัมน์ แต่หากต้องการใช้แค่แถวใดแถวหนึ่งหรือคอลัมน์ใดคอลัมน์หนึ่งก็ให้เข้าถึงแถวหรือคอลัมน์นั้นแล้วใช้ map เอา"
      ],
      "metadata": {
        "id": "BJe1ViAGjc4N"
      }
    },
    {
      "cell_type": "code",
      "source": [
        "pokemon = pd.DataFrame(\n",
        "    [[0.6,7.8],[0.8,13.3],[1.4,61.5]],\n",
        "    index=['เมรีป','โมโกโกะ','เดนริว'],\n",
        "    columns=['ส่วนสูง','น้ำหนัก'],\n",
        "    dtype='float32')\n",
        "print(pokemon.applymap(lambda x:'%.4f'%x))"
      ],
      "metadata": {
        "colab": {
          "base_uri": "https://localhost:8080/"
        },
        "id": "RkU3k04UjeZg",
        "outputId": "7e4eb5fb-ef20-443b-eeaf-b1e51432c74f"
      },
      "execution_count": null,
      "outputs": [
        {
          "output_type": "stream",
          "name": "stdout",
          "text": [
            "        ส่วนสูง  น้ำหนัก\n",
            "เมรีป    0.6000   7.8000\n",
            "โมโกโกะ  0.8000  13.3000\n",
            "เดนริว   1.4000  61.5000\n"
          ]
        }
      ]
    },
    {
      "cell_type": "code",
      "source": [
        "pokemon = pd.DataFrame(\n",
        "    [[1.9,178.0],[2.1,198.0],[2.0,187.0],[5.2,216.0],[3.8,199.0]],\n",
        "    columns=['น้ำหนัก','ส่วนสูง'],\n",
        "    index=['ไรโคว','เอนเทย์','ซุยคูน','ลูเกีย','โฮวโอว'])\n",
        "print(pokemon)"
      ],
      "metadata": {
        "colab": {
          "base_uri": "https://localhost:8080/"
        },
        "id": "A2mvqDqfjgjS",
        "outputId": "73466d4f-0591-41b9-817d-31c29f39a312"
      },
      "execution_count": null,
      "outputs": [
        {
          "output_type": "stream",
          "name": "stdout",
          "text": [
            "         น้ำหนัก  ส่วนสูง\n",
            "ไรโคว        1.9    178.0\n",
            "เอนเทย์      2.1    198.0\n",
            "ซุยคูน       2.0    187.0\n",
            "ลูเกีย       5.2    216.0\n",
            "โฮวโอว       3.8    199.0\n"
          ]
        }
      ]
    },
    {
      "cell_type": "code",
      "source": [
        "print(pokemon.apply(lambda x:x.map(lambda x:'%.3f'%x)))\n",
        "print(pokemon.applymap(lambda x:'%.3f'%x))"
      ],
      "metadata": {
        "colab": {
          "base_uri": "https://localhost:8080/"
        },
        "id": "KSBJm3YvjpZ9",
        "outputId": "ee4b265a-5c19-48e8-d6e8-bd0fff378771"
      },
      "execution_count": null,
      "outputs": [
        {
          "output_type": "stream",
          "name": "stdout",
          "text": [
            "        น้ำหนัก  ส่วนสูง\n",
            "ไรโคว     1.900  178.000\n",
            "เอนเทย์   2.100  198.000\n",
            "ซุยคูน    2.000  187.000\n",
            "ลูเกีย    5.200  216.000\n",
            "โฮวโอว    3.800  199.000\n",
            "        น้ำหนัก  ส่วนสูง\n",
            "ไรโคว     1.900  178.000\n",
            "เอนเทย์   2.100  198.000\n",
            "ซุยคูน    2.000  187.000\n",
            "ลูเกีย    5.200  216.000\n",
            "โฮวโอว    3.800  199.000\n"
          ]
        }
      ]
    },
    {
      "cell_type": "code",
      "source": [],
      "metadata": {
        "id": "SNSDOw8_juiI"
      },
      "execution_count": null,
      "outputs": []
    }
  ]
}