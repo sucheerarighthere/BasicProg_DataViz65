{
  "nbformat": 4,
  "nbformat_minor": 0,
  "metadata": {
    "colab": {
      "name": "Quiz1.ipynb",
      "provenance": [],
      "collapsed_sections": [],
      "include_colab_link": true
    },
    "kernelspec": {
      "name": "python3",
      "display_name": "Python 3"
    },
    "language_info": {
      "name": "python"
    }
  },
  "cells": [
    {
      "cell_type": "markdown",
      "metadata": {
        "id": "view-in-github",
        "colab_type": "text"
      },
      "source": [
        "<a href=\"https://colab.research.google.com/github/sucheerarighthere/BasicProg_DataViz65/blob/main/Quiz1.ipynb\" target=\"_parent\"><img src=\"https://colab.research.google.com/assets/colab-badge.svg\" alt=\"Open In Colab\"/></a>"
      ]
    },
    {
      "cell_type": "markdown",
      "source": [
        "Quiz 1\n",
        "\n",
        "คำนวณเวลาเป็นความต่างของเวลาเป็นวินาทีของช่วงเวลาต่อไปนี้โดยใช้คำสั่ง split() ช่วย และ print ออกมาให้สวยงาม\n",
        "\n",
        "* 09:11:50 - 12:30:15\n",
        "* 13:41:07 - 20:00:18\n",
        "* 21:30:15 - 00:00:00\n",
        "* 00:00:00 - 23:59:59"
      ],
      "metadata": {
        "id": "loEqjEnl6PoI"
      }
    },
    {
      "cell_type": "code",
      "source": [
        "#09:11:50 - 12:30:15\n",
        "a = '09:11:50'\n",
        "a_sp = a.split(':')\n",
        "print(a_sp)\n",
        "ans1= int(a_sp[0])*3600+int (a_sp[1])*60+int (a_sp[2])\n",
        "b = '12:30:15'\n",
        "b_sp = b.split(':')\n",
        "print(b_sp)\n",
        "ans2= int(b_sp[0])*3600+int (b_sp[1])*60+int (b_sp[2])\n",
        "print(f'{a,b} แปลงเป็นความต่างของเวลาเป็นวินาทีได้ {ans2-ans1} วินาที')"
      ],
      "metadata": {
        "colab": {
          "base_uri": "https://localhost:8080/"
        },
        "id": "i1MLtRxR6o3j",
        "outputId": "a26cabb6-0aa1-4434-df39-3fc3deb0e9d8"
      },
      "execution_count": null,
      "outputs": [
        {
          "output_type": "stream",
          "name": "stdout",
          "text": [
            "['09', '11', '50']\n",
            "['12', '30', '15']\n",
            "('09:11:50', '12:30:15') แปลงเป็นความต่างของเวลาเป็นวินาทีได้ 11905 วินาที\n"
          ]
        }
      ]
    },
    {
      "cell_type": "code",
      "source": [
        "#13:41:07 - 20:00:18\n",
        "a = '13:41:07'\n",
        "a_sp = a.split(':')\n",
        "print(a_sp)\n",
        "ans3= int(a_sp[0])*3600+int (a_sp[1])*60+int (a_sp[2])\n",
        "b = '20:00:18'\n",
        "b_sp = b.split(':')\n",
        "print(b_sp)\n",
        "ans4= int(b_sp[0])*3600+int (b_sp[1])*60+int (b_sp[2])\n",
        "print(f'13:41:07 - 20:00:18 แปลงเป็นความต่างของเวลาเป็นวินาทีได้ {ans4-ans3} วินาที')"
      ],
      "metadata": {
        "colab": {
          "base_uri": "https://localhost:8080/"
        },
        "id": "BpYeMurZ82iY",
        "outputId": "529bf5b0-587e-4f47-b2ac-56ec15235f62"
      },
      "execution_count": null,
      "outputs": [
        {
          "output_type": "stream",
          "name": "stdout",
          "text": [
            "['13', '41', '07']\n",
            "['20', '00', '18']\n",
            "13:41:07 - 20:00:18 แปลงเป็นความต่างของเวลาเป็นวินาทีได้ 22751 วินาที\n"
          ]
        }
      ]
    },
    {
      "cell_type": "code",
      "source": [
        "#21:30:15 - 00:00:00\n",
        "a = '21:30:15'\n",
        "a_sp = a.split(':')\n",
        "print(a_sp)\n",
        "ans5= int(a_sp[0])*3600+int (a_sp[1])*60+int (a_sp[2])\n",
        "b = '00:00:00'\n",
        "b_sp = b.split(':')\n",
        "print(b_sp)\n",
        "ans6= int(b_sp[0])*3600+int (b_sp[1])*60+int (b_sp[2])\n",
        "print(f'21:30:15 - 00:00:00 แปลงเป็นความต่างของเวลาเป็นวินาทีได้ {ans5-ans6} วินาที')"
      ],
      "metadata": {
        "colab": {
          "base_uri": "https://localhost:8080/"
        },
        "id": "t0kWOTwo9QKw",
        "outputId": "a1f4f26d-b7c8-4ea2-f111-f8e572081879"
      },
      "execution_count": null,
      "outputs": [
        {
          "output_type": "stream",
          "name": "stdout",
          "text": [
            "['21', '30', '15']\n",
            "['00', '00', '00']\n",
            "21:30:15 - 00:00:00 แปลงเป็นความต่างของเวลาเป็นวินาทีได้ 77415 วินาที\n"
          ]
        }
      ]
    },
    {
      "cell_type": "code",
      "source": [
        "#00:00:00 - 23:59:59\n",
        "a = '00:00:00'\n",
        "a_sp = a.split(':')\n",
        "print(a_sp)\n",
        "ans7= int(a_sp[0])*3600+int (a_sp[1])*60+int (a_sp[2])\n",
        "b = '23:59:59'\n",
        "b_sp = b.split(':')\n",
        "print(b_sp)\n",
        "ans8= int(b_sp[0])*3600+int (b_sp[1])*60+int (b_sp[2])\n",
        "print(f'00:00:00 - 23:59:59 แปลงเป็นความต่างของเวลาเป็นวินาทีได้ {ans8-ans7} วินาที')"
      ],
      "metadata": {
        "colab": {
          "base_uri": "https://localhost:8080/"
        },
        "id": "DjM7HiGg9k6k",
        "outputId": "73fe8632-6302-4719-9ffd-c3c06b3fc77e"
      },
      "execution_count": null,
      "outputs": [
        {
          "output_type": "stream",
          "name": "stdout",
          "text": [
            "['00', '00', '00']\n",
            "['23', '59', '59']\n",
            "00:00:00 - 23:59:59 แปลงเป็นความต่างของเวลาเป็นวินาทีได้ 86399 วินาที\n"
          ]
        }
      ]
    },
    {
      "cell_type": "code",
      "source": [
        ""
      ],
      "metadata": {
        "id": "hhmU5DLxJS6K"
      },
      "execution_count": null,
      "outputs": []
    }
  ]
}