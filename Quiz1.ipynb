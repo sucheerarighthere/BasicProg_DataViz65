{
  "nbformat": 4,
  "nbformat_minor": 0,
  "metadata": {
    "colab": {
      "name": "Quiz1",
      "provenance": [],
      "authorship_tag": "ABX9TyOACUsUsVZ9vPFCNnkitCfu",
      "include_colab_link": true
    },
    "kernelspec": {
      "name": "python3",
      "display_name": "Python 3"
    },
    "language_info": {
      "name": "python"
    }
  },
  "cells": [
    {
      "cell_type": "markdown",
      "metadata": {
        "id": "view-in-github",
        "colab_type": "text"
      },
      "source": [
        "<a href=\"https://colab.research.google.com/github/sucheerarighthere/BasicProg_DataViz65/blob/main/Quiz1.ipynb\" target=\"_parent\"><img src=\"https://colab.research.google.com/assets/colab-badge.svg\" alt=\"Open In Colab\"/></a>"
      ]
    },
    {
      "cell_type": "code",
      "execution_count": 4,
      "metadata": {
        "colab": {
          "base_uri": "https://localhost:8080/"
        },
        "id": "E80LoDC_Eflb",
        "outputId": "be2754c8-6ae6-48ab-8bc9-db911969c88b"
      },
      "outputs": [
        {
          "output_type": "stream",
          "name": "stdout",
          "text": [
            "['09', '11', '50']\n",
            "['12', '30', '15']\n",
            "09:11:50 - 12:30:15 แปลงเป็นความต่างของเวลาเป็นวินาทีได้ 11905 วินาที\n"
          ]
        }
      ],
      "source": [
        "a = '09:11:50'\n",
        "a_sp = a.split(':')\n",
        "print(a_sp)\n",
        "ans1= int(a_sp[0])*3600+int (a_sp[1])*60+int (a_sp[2])\n",
        "b = '12:30:15'\n",
        "b_sp = b.split(':')\n",
        "print(b_sp)\n",
        "ans2= int(b_sp[0])*3600+int (b_sp[1])*60+int (b_sp[2])\n",
        "print(f'09:11:50 - 12:30:15 แปลงเป็นความต่างของเวลาเป็นวินาทีได้ {ans2-ans1} วินาที')"
      ]
    },
    {
      "cell_type": "code",
      "source": [
        "c = '13:41:07'\n",
        "c_sp = c.split(':')\n",
        "print(c_sp)\n",
        "ans3= int(c_sp[0])*3600+int (c_sp[1])*60+int (c_sp[2])\n",
        "d = '20:00:18'\n",
        "d_sp = d.split(':')\n",
        "print(d_sp)\n",
        "ans4= int(d_sp[0])*3600+int (d_sp[1])*60+int (d_sp[2])\n",
        "print(f'13:41:07 - 20:00:18 แปลงเป็นความต่างของเวลาเป็นวินาทีได้ {ans4-ans3} วินาที')"
      ],
      "metadata": {
        "id": "EOm3PLoPGfGv",
        "outputId": "996c675c-cc82-4b13-c3bb-e55bda01c352",
        "colab": {
          "base_uri": "https://localhost:8080/"
        }
      },
      "execution_count": 5,
      "outputs": [
        {
          "output_type": "stream",
          "name": "stdout",
          "text": [
            "['13', '41', '07']\n",
            "['20', '00', '18']\n",
            "13:41:07 - 20:00:18 แปลงเป็นความต่างของเวลาเป็นวินาทีได้ 22751 วินาที\n"
          ]
        }
      ]
    },
    {
      "cell_type": "code",
      "source": [
        "e = '21:30:15'\n",
        "e_sp = e.split(':')\n",
        "print(e_sp)\n",
        "ans5= int(e_sp[0])*3600+int (e_sp[1])*60+int (e_sp[2])\n",
        "f = '00:00:00'\n",
        "f_sp = f.split(':')\n",
        "print(f_sp)\n",
        "ans6= int(f_sp[0])*3600+int (f_sp[1])*60+int (f_sp[2])\n",
        "print(f'21:30:15 - 00:00:00 แปลงเป็นความต่างของเวลาเป็นวินาทีได้ {ans5-ans6} วินาที')"
      ],
      "metadata": {
        "id": "kF2o1pk1HECP",
        "outputId": "5522aa7e-6234-4e26-b690-7eb8cc72b160",
        "colab": {
          "base_uri": "https://localhost:8080/"
        }
      },
      "execution_count": 7,
      "outputs": [
        {
          "output_type": "stream",
          "name": "stdout",
          "text": [
            "['21', '30', '15']\n",
            "['00', '00', '00']\n",
            "21:30:15 - 00:00:00 แปลงเป็นความต่างของเวลาเป็นวินาทีได้ 77415 วินาที\n"
          ]
        }
      ]
    },
    {
      "cell_type": "code",
      "source": [
        "g = '00:00:00'\n",
        "g_sp = g.split(':')\n",
        "print(g_sp)\n",
        "ans7= int(g_sp[0])*3600+int (g_sp[1])*60+int (g_sp[2])\n",
        "h = '23:59:59'\n",
        "h_sp = h.split(':')\n",
        "print(h_sp)\n",
        "ans8= int(h_sp[0])*3600+int (h_sp[1])*60+int (h_sp[2])\n",
        "print(f'00:00:00 - 23:59:59 แปลงเป็นความต่างของเวลาเป็นวินาทีได้ {ans8-ans7} วินาที')"
      ],
      "metadata": {
        "id": "jaRxGaQvHc9D",
        "outputId": "837efd1d-7374-44ca-dde9-7c5da9aeaab5",
        "colab": {
          "base_uri": "https://localhost:8080/"
        }
      },
      "execution_count": 8,
      "outputs": [
        {
          "output_type": "stream",
          "name": "stdout",
          "text": [
            "['00', '00', '00']\n",
            "['23', '59', '59']\n",
            "00:00:00 - 23:59:59 แปลงเป็นความต่างของเวลาเป็นวินาทีได้ 86399 วินาที\n"
          ]
        }
      ]
    },
    {
      "cell_type": "markdown",
      "source": [
        "633020442-5\tนางสาวทิพเกษร ยอดคุณ\n",
        "633020449-1\tนางสาวสุจีรา นาคคำ\n",
        "633020548-9\tนางสาวกัลยรัตน์ บุญกอง"
      ],
      "metadata": {
        "id": "tIs8dGB7Hl9c"
      }
    },
    {
      "cell_type": "code",
      "source": [
        ""
      ],
      "metadata": {
        "id": "3i4UzjuJHr0d"
      },
      "execution_count": null,
      "outputs": []
    }
  ]
}